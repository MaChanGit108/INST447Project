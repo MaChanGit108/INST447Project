{
 "cells": [
  {
   "cell_type": "markdown",
   "metadata": {},
   "source": [
    "### INST447 Project Part 2\n",
    "#### Members: Alexander Chui and Matthew Chan"
   ]
  },
  {
   "cell_type": "markdown",
   "metadata": {},
   "source": [
    "### What factors affect ratings for an anime?"
   ]
  },
  {
   "cell_type": "code",
   "execution_count": 1,
   "metadata": {},
   "outputs": [],
   "source": [
    "import warnings\n",
    "warnings.filterwarnings('ignore')"
   ]
  },
  {
   "cell_type": "code",
   "execution_count": 2,
   "metadata": {},
   "outputs": [],
   "source": [
    "#Importing the required libraries\n",
    "import pandas as pd\n",
    "from bs4 import BeautifulSoup\n",
    "from urllib.request import urlopen \n",
    "import numpy as np\n",
    "from requests import get"
   ]
  },
  {
   "cell_type": "code",
   "execution_count": 3,
   "metadata": {},
   "outputs": [],
   "source": [
    "#libraries imported for handling rate limits and console formatting\n",
    "from time import time, sleep\n",
    "from random import randint\n",
    "from warnings import warn\n",
    "from IPython.core.display import clear_output"
   ]
  },
  {
   "cell_type": "code",
   "execution_count": 4,
   "metadata": {},
   "outputs": [
    {
     "name": "stderr",
     "output_type": "stream",
     "text": [
      "C:\\Users\\MaNinjaChan\\anaconda3\\lib\\site-packages\\sklearn\\linear_model\\_least_angle.py:34: DeprecationWarning: `np.float` is a deprecated alias for the builtin `float`. To silence this warning, use `float` by itself. Doing this will not modify any behavior and is safe. If you specifically wanted the numpy scalar type, use `np.float64` here.\n",
      "Deprecated in NumPy 1.20; for more details and guidance: https://numpy.org/devdocs/release/1.20.0-notes.html#deprecations\n",
      "  method='lar', copy_X=True, eps=np.finfo(np.float).eps,\n",
      "C:\\Users\\MaNinjaChan\\anaconda3\\lib\\site-packages\\sklearn\\linear_model\\_least_angle.py:164: DeprecationWarning: `np.float` is a deprecated alias for the builtin `float`. To silence this warning, use `float` by itself. Doing this will not modify any behavior and is safe. If you specifically wanted the numpy scalar type, use `np.float64` here.\n",
      "Deprecated in NumPy 1.20; for more details and guidance: https://numpy.org/devdocs/release/1.20.0-notes.html#deprecations\n",
      "  method='lar', copy_X=True, eps=np.finfo(np.float).eps,\n",
      "C:\\Users\\MaNinjaChan\\anaconda3\\lib\\site-packages\\sklearn\\linear_model\\_least_angle.py:281: DeprecationWarning: `np.float` is a deprecated alias for the builtin `float`. To silence this warning, use `float` by itself. Doing this will not modify any behavior and is safe. If you specifically wanted the numpy scalar type, use `np.float64` here.\n",
      "Deprecated in NumPy 1.20; for more details and guidance: https://numpy.org/devdocs/release/1.20.0-notes.html#deprecations\n",
      "  eps=np.finfo(np.float).eps, copy_Gram=True, verbose=0,\n",
      "C:\\Users\\MaNinjaChan\\anaconda3\\lib\\site-packages\\sklearn\\linear_model\\_least_angle.py:865: DeprecationWarning: `np.float` is a deprecated alias for the builtin `float`. To silence this warning, use `float` by itself. Doing this will not modify any behavior and is safe. If you specifically wanted the numpy scalar type, use `np.float64` here.\n",
      "Deprecated in NumPy 1.20; for more details and guidance: https://numpy.org/devdocs/release/1.20.0-notes.html#deprecations\n",
      "  eps=np.finfo(np.float).eps, copy_X=True, fit_path=True,\n",
      "C:\\Users\\MaNinjaChan\\anaconda3\\lib\\site-packages\\sklearn\\linear_model\\_least_angle.py:1121: DeprecationWarning: `np.float` is a deprecated alias for the builtin `float`. To silence this warning, use `float` by itself. Doing this will not modify any behavior and is safe. If you specifically wanted the numpy scalar type, use `np.float64` here.\n",
      "Deprecated in NumPy 1.20; for more details and guidance: https://numpy.org/devdocs/release/1.20.0-notes.html#deprecations\n",
      "  eps=np.finfo(np.float).eps, copy_X=True, fit_path=True,\n",
      "C:\\Users\\MaNinjaChan\\anaconda3\\lib\\site-packages\\sklearn\\linear_model\\_least_angle.py:1149: DeprecationWarning: `np.float` is a deprecated alias for the builtin `float`. To silence this warning, use `float` by itself. Doing this will not modify any behavior and is safe. If you specifically wanted the numpy scalar type, use `np.float64` here.\n",
      "Deprecated in NumPy 1.20; for more details and guidance: https://numpy.org/devdocs/release/1.20.0-notes.html#deprecations\n",
      "  eps=np.finfo(np.float).eps, positive=False):\n",
      "C:\\Users\\MaNinjaChan\\anaconda3\\lib\\site-packages\\sklearn\\linear_model\\_least_angle.py:1379: DeprecationWarning: `np.float` is a deprecated alias for the builtin `float`. To silence this warning, use `float` by itself. Doing this will not modify any behavior and is safe. If you specifically wanted the numpy scalar type, use `np.float64` here.\n",
      "Deprecated in NumPy 1.20; for more details and guidance: https://numpy.org/devdocs/release/1.20.0-notes.html#deprecations\n",
      "  max_n_alphas=1000, n_jobs=None, eps=np.finfo(np.float).eps,\n",
      "C:\\Users\\MaNinjaChan\\anaconda3\\lib\\site-packages\\sklearn\\linear_model\\_least_angle.py:1621: DeprecationWarning: `np.float` is a deprecated alias for the builtin `float`. To silence this warning, use `float` by itself. Doing this will not modify any behavior and is safe. If you specifically wanted the numpy scalar type, use `np.float64` here.\n",
      "Deprecated in NumPy 1.20; for more details and guidance: https://numpy.org/devdocs/release/1.20.0-notes.html#deprecations\n",
      "  max_n_alphas=1000, n_jobs=None, eps=np.finfo(np.float).eps,\n",
      "C:\\Users\\MaNinjaChan\\anaconda3\\lib\\site-packages\\sklearn\\linear_model\\_least_angle.py:1755: DeprecationWarning: `np.float` is a deprecated alias for the builtin `float`. To silence this warning, use `float` by itself. Doing this will not modify any behavior and is safe. If you specifically wanted the numpy scalar type, use `np.float64` here.\n",
      "Deprecated in NumPy 1.20; for more details and guidance: https://numpy.org/devdocs/release/1.20.0-notes.html#deprecations\n",
      "  eps=np.finfo(np.float).eps, copy_X=True, positive=False):\n",
      "C:\\Users\\MaNinjaChan\\anaconda3\\lib\\site-packages\\sklearn\\decomposition\\_lda.py:28: DeprecationWarning: `np.float` is a deprecated alias for the builtin `float`. To silence this warning, use `float` by itself. Doing this will not modify any behavior and is safe. If you specifically wanted the numpy scalar type, use `np.float64` here.\n",
      "Deprecated in NumPy 1.20; for more details and guidance: https://numpy.org/devdocs/release/1.20.0-notes.html#deprecations\n",
      "  EPS = np.finfo(np.float).eps\n",
      "C:\\Users\\MaNinjaChan\\anaconda3\\lib\\site-packages\\sklearn\\feature_extraction\\image.py:172: DeprecationWarning: `np.int` is a deprecated alias for the builtin `int`. To silence this warning, use `int` by itself. Doing this will not modify any behavior and is safe. When replacing `np.int`, you may wish to use e.g. `np.int64` or `np.int32` to specify the precision. If you wish to review your current use, check the release note link for additional information.\n",
      "Deprecated in NumPy 1.20; for more details and guidance: https://numpy.org/devdocs/release/1.20.0-notes.html#deprecations\n",
      "  dtype=np.int):\n"
     ]
    }
   ],
   "source": [
    "import regex as re\n",
    "\n",
    "# Gensim\n",
    "import gensim\n",
    "import gensim.corpora as corpora\n",
    "from gensim.utils import simple_preprocess\n",
    "\n",
    "# spacy for lemmatization\n",
    "import spacy\n",
    "\n",
    "# Plotting tools\n",
    "import pyLDAvis\n",
    "\n",
    "import nltk; "
   ]
  },
  {
   "cell_type": "code",
   "execution_count": 5,
   "metadata": {},
   "outputs": [],
   "source": [
    "# NLTK Stop words\n",
    "from nltk.corpus import stopwords\n",
    "stop_words = stopwords.words('english')\n",
    "stop_words.extend(['from', 'subject', 're', 'edu', 'use'])"
   ]
  },
  {
   "cell_type": "code",
   "execution_count": 6,
   "metadata": {},
   "outputs": [],
   "source": [
    "#Connecting to the URL on the web to access its content (Crunchyroll)\n",
    "# html=urlopen('https://www.crunchyroll.com/fullmetal-alchemist-brotherhood/reviews/helpful/page1')\n",
    "# html.status"
   ]
  },
  {
   "cell_type": "code",
   "execution_count": 7,
   "metadata": {},
   "outputs": [
    {
     "data": {
      "text/plain": [
       "200"
      ]
     },
     "execution_count": 7,
     "metadata": {},
     "output_type": "execute_result"
    }
   ],
   "source": [
    "#Connecting to the URL on the web to access its content (MAL)\n",
    "html=urlopen('https://myanimelist.net/anime/2001/Tengen_Toppa_Gurren_Lagann/reviews?p=1')\n",
    "html.status"
   ]
  },
  {
   "cell_type": "code",
   "execution_count": 8,
   "metadata": {},
   "outputs": [],
   "source": [
    "#Creating an instance of beautifulsoup object to begin web scraping\n",
    "bs=BeautifulSoup(html.read(),'html.parser')"
   ]
  },
  {
   "cell_type": "code",
   "execution_count": 9,
   "metadata": {},
   "outputs": [
    {
     "name": "stdout",
     "output_type": "stream",
     "text": [
      "20\n"
     ]
    }
   ],
   "source": [
    "#Acessing the container objects with the anime info \n",
    "anime_review_containers = bs.find_all('div', {'class':{'borderDark'}})\n",
    "print(len(anime_review_containers))"
   ]
  },
  {
   "cell_type": "code",
   "execution_count": 10,
   "metadata": {},
   "outputs": [],
   "source": [
    "#Creating empty lists to store all the items \n",
    "review = []"
   ]
  },
  {
   "cell_type": "code",
   "execution_count": 11,
   "metadata": {},
   "outputs": [],
   "source": [
    "# Preparing the monitoring of the loop\n",
    "start_time = time()\n",
    "request = 0"
   ]
  },
  {
   "cell_type": "code",
   "execution_count": 12,
   "metadata": {},
   "outputs": [],
   "source": [
    "#Extracting each job name in loop\n",
    "for page in range(1,27):\n",
    "    # Make a get request\n",
    "        #https://myanimelist.net/anime/genre/1/Action?page=1\n",
    "        #https://myanimelist.net/anime/genre/1/Action?page=2\n",
    "        response = get('https://myanimelist.net/anime/2001/Tengen_Toppa_Gurren_Lagann/reviews?p='+ str(page))\n",
    "        \n",
    "#         # Pause the loop\n",
    "#         sleep(randint(8,15))\n",
    "\n",
    "#         # Monitor the requests\n",
    "#         request += 1\n",
    "#         elapsed_time = time() - start_time\n",
    "#         print('Request:{}; Frequency: {} requests/s'.format(request, \n",
    "#                                                             request/elapsed_time))\n",
    "#         clear_output(wait = True)\n",
    "\n",
    "#         # Throw a warning for non-200 status codes\n",
    "#         if response.status_code != 200:\n",
    "#             warn('Request: {}; Status code: {}'.format(request, \n",
    "#                                                        response.status_code))\n",
    "\n",
    "#         # Break the loop if the number of requests is greater than expected\n",
    "#         if request > 100:\n",
    "#             warn('Number of requests was greater than expected.')\n",
    "#             break\n",
    "        \n",
    "        # Parse the content of the request with BeautifulSoup\n",
    "        bs = BeautifulSoup(response.text, 'html.parser')\n",
    "        \n",
    "        #Acessing the container objects with the anime info \n",
    "        anime_review_containers = bs.find_all('div', {'class':{'borderDark'}})\n",
    "\n",
    "        #Extracting all the elements \n",
    "        for container in anime_review_containers:\n",
    "        # If the movie has Metascore, then extract:\n",
    "        #  if container.find('div', {'class':{'scoremem'}})  is not None:\n",
    "        \n",
    "        # The name of anime\n",
    "            try: \n",
    "                reviews = container.find('div', {'class':'spaceit textReadability word-break pt8 mt8'})\n",
    "                review.append(reviews.text)\n",
    "            except:\n",
    "                review.append('Missing')"
   ]
  },
  {
   "cell_type": "code",
   "execution_count": 13,
   "metadata": {},
   "outputs": [
    {
     "name": "stdout",
     "output_type": "stream",
     "text": [
      "<class 'pandas.core.frame.DataFrame'>\n",
      "RangeIndex: 520 entries, 0 to 519\n",
      "Data columns (total 1 columns):\n",
      " #   Column  Non-Null Count  Dtype \n",
      "---  ------  --------------  ----- \n",
      " 0   Review  520 non-null    object\n",
      "dtypes: object(1)\n",
      "memory usage: 4.2+ KB\n",
      "None\n"
     ]
    }
   ],
   "source": [
    "#Creating a pandas dataframe to store the objects extracted\n",
    "anime_review = pd.DataFrame({'Review': review\n",
    "})\n",
    "print(anime_review.info())"
   ]
  },
  {
   "cell_type": "code",
   "execution_count": 14,
   "metadata": {},
   "outputs": [
    {
     "data": {
      "text/html": [
       "<div>\n",
       "<style scoped>\n",
       "    .dataframe tbody tr th:only-of-type {\n",
       "        vertical-align: middle;\n",
       "    }\n",
       "\n",
       "    .dataframe tbody tr th {\n",
       "        vertical-align: top;\n",
       "    }\n",
       "\n",
       "    .dataframe thead th {\n",
       "        text-align: right;\n",
       "    }\n",
       "</style>\n",
       "<table border=\"1\" class=\"dataframe\">\n",
       "  <thead>\n",
       "    <tr style=\"text-align: right;\">\n",
       "      <th></th>\n",
       "      <th>Review</th>\n",
       "    </tr>\n",
       "  </thead>\n",
       "  <tbody>\n",
       "    <tr>\n",
       "      <th>0</th>\n",
       "      <td>\\n\\n\\n\\nOverall\\n10\\n\\n\\nStory\\n10\\n\\n\\nAnimat...</td>\n",
       "    </tr>\n",
       "    <tr>\n",
       "      <th>1</th>\n",
       "      <td>\\n\\n\\n\\nOverall\\n7\\n\\n\\nStory\\n6\\n\\n\\nAnimatio...</td>\n",
       "    </tr>\n",
       "    <tr>\n",
       "      <th>2</th>\n",
       "      <td>\\n\\n\\n\\nOverall\\n10\\n\\n\\nStory\\n9\\n\\n\\nAnimati...</td>\n",
       "    </tr>\n",
       "    <tr>\n",
       "      <th>3</th>\n",
       "      <td>\\n\\n\\n\\nOverall\\n9\\n\\n\\nStory\\n7\\n\\n\\nAnimatio...</td>\n",
       "    </tr>\n",
       "    <tr>\n",
       "      <th>4</th>\n",
       "      <td>\\n\\n\\n\\nOverall\\n5\\n\\n\\nStory\\n3\\n\\n\\nAnimatio...</td>\n",
       "    </tr>\n",
       "  </tbody>\n",
       "</table>\n",
       "</div>"
      ],
      "text/plain": [
       "                                              Review\n",
       "0  \\n\\n\\n\\nOverall\\n10\\n\\n\\nStory\\n10\\n\\n\\nAnimat...\n",
       "1  \\n\\n\\n\\nOverall\\n7\\n\\n\\nStory\\n6\\n\\n\\nAnimatio...\n",
       "2  \\n\\n\\n\\nOverall\\n10\\n\\n\\nStory\\n9\\n\\n\\nAnimati...\n",
       "3  \\n\\n\\n\\nOverall\\n9\\n\\n\\nStory\\n7\\n\\n\\nAnimatio...\n",
       "4  \\n\\n\\n\\nOverall\\n5\\n\\n\\nStory\\n3\\n\\n\\nAnimatio..."
      ]
     },
     "execution_count": 14,
     "metadata": {},
     "output_type": "execute_result"
    }
   ],
   "source": [
    "# Display the top 5 rows of dataset\n",
    "anime_review.head()"
   ]
  },
  {
   "cell_type": "code",
   "execution_count": 15,
   "metadata": {},
   "outputs": [
    {
     "name": "stderr",
     "output_type": "stream",
     "text": [
      "<>:5: DeprecationWarning: invalid escape sequence \\s\n",
      "<>:5: DeprecationWarning: invalid escape sequence \\s\n",
      "<ipython-input-15-b412c0db5fd7>:5: DeprecationWarning: invalid escape sequence \\s\n",
      "  data = [re.sub('\\s+', ' ', sent) for sent in data]\n"
     ]
    },
    {
     "name": "stdout",
     "output_type": "stream",
     "text": [
      " Overall 10 Story 10 Animation 10 Sound 10 Character 10 Enjoyment 10 There was a time. When men were men. They were screaming like crazy speeches, faced the impossible, and said things that made no sense, but that even so we did say \"EPIC\". There was a time. A time of captains Harlock, a master time Asia, a time of Domons. Logic was not important. The strategy was not important. If you believe in the impossible, impossible would be nothing in front of you. The time is gone A wave of animes that have to be \"realistic\", \"philosophical\", \"adults\" around us. Are good? Are. Meet your purpose? Meet. However, however ... I miss something. Characters idiots who laugh in the face of death, and not to be shaken by anything. Characters that I remember that, in essence, in the beginning, were not meant to be realistic. No wonder that I am addicted to shonens: manga as One Piece, Fairy Tail remind me that there are heroes who still believe that boundaries are bullshit, and that men should talk about crazy dreams with a smile on his face. Few original anime (non-manga based) can pass this spirit, and if I had to indicate a Studio to produce an epic-without-notion, \"Gainax\" probably would not be the first on my list. But they did so. Oh, how did. Ladies and gentlemen, forgiveness for the lengthy introduction: Let's talk of Tengen Toppa Gurren Lagann. Many have already heard things about this series of 27 episodes. Effusive praise. Discouraging reviews. And you may already have heard the following phrase: \"compliments to the Gurren Lagann are exaggerated\" And let us be clear: Yes. ARE. But it could not be otherwise. Gurren Lagann anime is not the type that parses. Is the type of anime to which you manifested with exaggeration and passion. \"Overkill\" is the key word of the anime: everything is extremely Titanic, extreme, \"over-the-top\", \"larger than life\", etc. With certain exceptions (some Gundam, some Macross, tss), never been a fan of mecha anime. Would be far from the top of my list and, being this a recurrent genre in every new season animes, I believe my dismay is understandable: it is both anime mecha clamoring arrogantly that will \"revolutionize the genre\", \"overcome Evangelion\", \"be the new Gundam\" and other things that many simply die on the beach, lost in own mediocrity. Gurren Lagann will by reverse path: doesn't take itself seriously. Does not involve complex plots policies or attempts to \"explore the essence of the human being\". It's about guys inconsequential facing death in colorful fuses (and often ungainly) and BLOWING THINGS UP. Many things. The series is a species of \"giant parody mecha\", a spoof so well done that took an undeniable brilliance. As the series develops, over the hump \"70 years\" (frantic action and episodic with colored robots), \"80 years\" (frantic action and sequential with specific enemies ... and colored robots!), \"90 years\" (frantic action with colorful robots ... in space!) and Century 21 (IE ... a tribute to the series, where the hype coming into the extreme). The series features a climate extremely pure (remember One Piece in this sense) that does not match the latest productions of Gainax (with the exception of perhaps Diebuster): in Gurren the Studio tries their best to tell a story extremely positive, bright, boiling the blood-is as an antithesis of Evangelion. -Characters- The cast features some of the most best ever seen in recent years, with big names like Kamina (\"do not believe in yourself. Believe me, I believe in you \"), Kittan (\" no, this is my soul! You will regret it! \"), Simon (\" my drill is one that PIERCES the HEAVENS! \"), just to name the most unbelievable (after all, we still have Viral Genome, Dayakka-\" My wife is the best of the universe-SWING! \"). Heroes who face the impossible again and again, like real men. The psychological development of some of them (Simon, to quote) is monstrous: the series managed to combine and traces of human \"weaknesses\" with the \"iconic\" of characters (courage to sacrifice himself when necessary, never retreat, and other elements worthy of legends). -Style- Council to watch this anime: turn off your brain. One of the best quotes of the anime is \"Go beyond the impossible and kick the logic to corner\" (Kamina), and this is often taken in a sense more than literal. Gurren Lagann is about ridiculously scenes with epic songs -Sung playing in the background (and I know that many of us love this type of scene, feeling rather lack thereof in the current anime), is about characters screaming attack names aloud, and gigantic explosions. If you allow \"get in the mood\", you will be taken to an unbelievable journey. And smile like a fool, knowing you made the right decision. -Technical Issues- The animation is jaw-dropping. To get an idea, 40% of the money used in the production were dedicated to the last 5 episodes, creating sequences that make many films out there go shame. The soundtrack contributes with the light/climate: epic songs sung, rap and Opera hybridizes to give a special glow to several of the best scenes of the series (many of these will be marked for those that see). Perhaps the only factor of production that is worth being criticized is the episodes \"reprise\" (there are two of them, a long piece of episode 6 and episode 16 integer), but it is worth remembering that this is part of the \"joke\" that Gainax proposed to do, saying that \"kick the logic to corner\" with this series: 27 episodes rather than 26, the protagonist being voiced by a man (many of the previous, as Shinji Ikari of Eva, were dubbed by women), etc. \"you're praising too! You're exaggerating! \"- I 'M. But as I said earlier, this is an anime that does not allow cold and calculating analysis. The very premise, the first episode, it doesn't make much sense. It is a classic \"love or hate\". Or you enter the atmosphere of \"OW MAN, WAY TOO EPICNESS\" or so says \"This is not my type.\" Despite the success that had (yielding promises of future projects), Gurren Lagann is not for everyone. It's about courage. Dramatic sacrifices. Struggles that make the DBZ characters seem Wimpy It's about heroic speeches and exaggerated. If you are unable to watch something that cannot lead to seriously, I recommend more sober, more series \"feet-in-the-ground\". If you are willing to embark with the crew of the Gurren-Dan, welcome to war. For freedom. By the human race. Through The Universe. To quote the slogan of a well-known epic film: \"Prepare for glory\". Helpful read more \n"
     ]
    }
   ],
   "source": [
    "# Convert to list\n",
    "data = anime_review['Review'].tolist()\n",
    "\n",
    "# Remove new line characters\n",
    "data = [re.sub('\\s+', ' ', sent) for sent in data]\n",
    "\n",
    "print(data[0])"
   ]
  },
  {
   "cell_type": "code",
   "execution_count": 16,
   "metadata": {},
   "outputs": [
    {
     "name": "stdout",
     "output_type": "stream",
     "text": [
      "['overall', 'story', 'animation', 'sound', 'character', 'enjoyment', 'there', 'was', 'time', 'when', 'men', 'were', 'men', 'they', 'were', 'screaming', 'like', 'crazy', 'speeches', 'faced', 'the', 'impossible', 'and', 'said', 'things', 'that', 'made', 'no', 'sense', 'but', 'that', 'even', 'so', 'we', 'did', 'say', 'epic', 'there', 'was', 'time', 'time', 'of', 'captains', 'harlock', 'master', 'time', 'asia', 'time', 'of', 'domons', 'logic', 'was', 'not', 'important', 'the', 'strategy', 'was', 'not', 'important', 'if', 'you', 'believe', 'in', 'the', 'impossible', 'impossible', 'would', 'be', 'nothing', 'in', 'front', 'of', 'you', 'the', 'time', 'is', 'gone', 'wave', 'of', 'animes', 'that', 'have', 'to', 'be', 'realistic', 'philosophical', 'adults', 'around', 'us', 'are', 'good', 'are', 'meet', 'your', 'purpose', 'meet', 'however', 'however', 'miss', 'something', 'characters', 'idiots', 'who', 'laugh', 'in', 'the', 'face', 'of', 'death', 'and', 'not', 'to', 'be', 'shaken', 'by', 'anything', 'characters', 'that', 'remember', 'that', 'in', 'essence', 'in', 'the', 'beginning', 'were', 'not', 'meant', 'to', 'be', 'realistic', 'no', 'wonder', 'that', 'am', 'addicted', 'to', 'shonens', 'manga', 'as', 'one', 'piece', 'fairy', 'tail', 'remind', 'me', 'that', 'there', 'are', 'heroes', 'who', 'still', 'believe', 'that', 'boundaries', 'are', 'bullshit', 'and', 'that', 'men', 'should', 'talk', 'about', 'crazy', 'dreams', 'with', 'smile', 'on', 'his', 'face', 'few', 'original', 'anime', 'non', 'manga', 'based', 'can', 'pass', 'this', 'spirit', 'and', 'if', 'had', 'to', 'indicate', 'studio', 'to', 'produce', 'an', 'epic', 'without', 'notion', 'gainax', 'probably', 'would', 'not', 'be', 'the', 'first', 'on', 'my', 'list', 'but', 'they', 'did', 'so', 'oh', 'how', 'did', 'ladies', 'and', 'gentlemen', 'forgiveness', 'for', 'the', 'lengthy', 'introduction', 'let', 'talk', 'of', 'tengen', 'toppa', 'gurren', 'lagann', 'many', 'have', 'already', 'heard', 'things', 'about', 'this', 'series', 'of', 'episodes', 'effusive', 'praise', 'discouraging', 'reviews', 'and', 'you', 'may', 'already', 'have', 'heard', 'the', 'following', 'phrase', 'compliments', 'to', 'the', 'gurren', 'lagann', 'are', 'exaggerated', 'and', 'let', 'us', 'be', 'clear', 'yes', 'are', 'but', 'it', 'could', 'not', 'be', 'otherwise', 'gurren', 'lagann', 'anime', 'is', 'not', 'the', 'type', 'that', 'parses', 'is', 'the', 'type', 'of', 'anime', 'to', 'which', 'you', 'manifested', 'with', 'exaggeration', 'and', 'passion', 'overkill', 'is', 'the', 'key', 'word', 'of', 'the', 'anime', 'everything', 'is', 'extremely', 'titanic', 'extreme', 'over', 'the', 'top', 'larger', 'than', 'life', 'etc', 'with', 'certain', 'exceptions', 'some', 'gundam', 'some', 'macross', 'tss', 'never', 'been', 'fan', 'of', 'mecha', 'anime', 'would', 'be', 'far', 'from', 'the', 'top', 'of', 'my', 'list', 'and', 'being', 'this', 'recurrent', 'genre', 'in', 'every', 'new', 'season', 'animes', 'believe', 'my', 'dismay', 'is', 'understandable', 'it', 'is', 'both', 'anime', 'mecha', 'clamoring', 'arrogantly', 'that', 'will', 'revolutionize', 'the', 'genre', 'overcome', 'evangelion', 'be', 'the', 'new', 'gundam', 'and', 'other', 'things', 'that', 'many', 'simply', 'die', 'on', 'the', 'beach', 'lost', 'in', 'own', 'mediocrity', 'gurren', 'lagann', 'will', 'by', 'reverse', 'path', 'doesn', 'take', 'itself', 'seriously', 'does', 'not', 'involve', 'complex', 'plots', 'policies', 'or', 'attempts', 'to', 'explore', 'the', 'essence', 'of', 'the', 'human', 'being', 'it', 'about', 'guys', 'inconsequential', 'facing', 'death', 'in', 'colorful', 'fuses', 'and', 'often', 'ungainly', 'and', 'blowing', 'things', 'up', 'many', 'things', 'the', 'series', 'is', 'species', 'of', 'giant', 'parody', 'mecha', 'spoof', 'so', 'well', 'done', 'that', 'took', 'an', 'undeniable', 'brilliance', 'as', 'the', 'series', 'develops', 'over', 'the', 'hump', 'years', 'frantic', 'action', 'and', 'episodic', 'with', 'colored', 'robots', 'years', 'frantic', 'action', 'and', 'sequential', 'with', 'specific', 'enemies', 'and', 'colored', 'robots', 'years', 'frantic', 'action', 'with', 'colorful', 'robots', 'in', 'space', 'and', 'century', 'ie', 'tribute', 'to', 'the', 'series', 'where', 'the', 'hype', 'coming', 'into', 'the', 'extreme', 'the', 'series', 'features', 'climate', 'extremely', 'pure', 'remember', 'one', 'piece', 'in', 'this', 'sense', 'that', 'does', 'not', 'match', 'the', 'latest', 'productions', 'of', 'gainax', 'with', 'the', 'exception', 'of', 'perhaps', 'diebuster', 'in', 'gurren', 'the', 'studio', 'tries', 'their', 'best', 'to', 'tell', 'story', 'extremely', 'positive', 'bright', 'boiling', 'the', 'blood', 'is', 'as', 'an', 'antithesis', 'of', 'evangelion', 'characters', 'the', 'cast', 'features', 'some', 'of', 'the', 'most', 'best', 'ever', 'seen', 'in', 'recent', 'years', 'with', 'big', 'names', 'like', 'kamina', 'do', 'not', 'believe', 'in', 'yourself', 'believe', 'me', 'believe', 'in', 'you', 'kittan', 'no', 'this', 'is', 'my', 'soul', 'you', 'will', 'regret', 'it', 'simon', 'my', 'drill', 'is', 'one', 'that', 'pierces', 'the', 'heavens', 'just', 'to', 'name', 'the', 'most', 'unbelievable', 'after', 'all', 'we', 'still', 'have', 'viral', 'genome', 'dayakka', 'my', 'wife', 'is', 'the', 'best', 'of', 'the', 'universe', 'swing', 'heroes', 'who', 'face', 'the', 'impossible', 'again', 'and', 'again', 'like', 'real', 'men', 'the', 'psychological', 'development', 'of', 'some', 'of', 'them', 'simon', 'to', 'quote', 'is', 'monstrous', 'the', 'series', 'managed', 'to', 'combine', 'and', 'traces', 'of', 'human', 'weaknesses', 'with', 'the', 'iconic', 'of', 'characters', 'courage', 'to', 'sacrifice', 'himself', 'when', 'necessary', 'never', 'retreat', 'and', 'other', 'elements', 'worthy', 'of', 'legends', 'style', 'council', 'to', 'watch', 'this', 'anime', 'turn', 'off', 'your', 'brain', 'one', 'of', 'the', 'best', 'quotes', 'of', 'the', 'anime', 'is', 'go', 'beyond', 'the', 'impossible', 'and', 'kick', 'the', 'logic', 'to', 'corner', 'kamina', 'and', 'this', 'is', 'often', 'taken', 'in', 'sense', 'more', 'than', 'literal', 'gurren', 'lagann', 'is', 'about', 'ridiculously', 'scenes', 'with', 'epic', 'songs', 'sung', 'playing', 'in', 'the', 'background', 'and', 'know', 'that', 'many', 'of', 'us', 'love', 'this', 'type', 'of', 'scene', 'feeling', 'rather', 'lack', 'thereof', 'in', 'the', 'current', 'anime', 'is', 'about', 'characters', 'screaming', 'attack', 'names', 'aloud', 'and', 'gigantic', 'explosions', 'if', 'you', 'allow', 'get', 'in', 'the', 'mood', 'you', 'will', 'be', 'taken', 'to', 'an', 'unbelievable', 'journey', 'and', 'smile', 'like', 'fool', 'knowing', 'you', 'made', 'the', 'right', 'decision', 'technical', 'issues', 'the', 'animation', 'is', 'jaw', 'dropping', 'to', 'get', 'an', 'idea', 'of', 'the', 'money', 'used', 'in', 'the', 'production', 'were', 'dedicated', 'to', 'the', 'last', 'episodes', 'creating', 'sequences', 'that', 'make', 'many', 'films', 'out', 'there', 'go', 'shame', 'the', 'soundtrack', 'contributes', 'with', 'the', 'light', 'climate', 'epic', 'songs', 'sung', 'rap', 'and', 'opera', 'hybridizes', 'to', 'give', 'special', 'glow', 'to', 'several', 'of', 'the', 'best', 'scenes', 'of', 'the', 'series', 'many', 'of', 'these', 'will', 'be', 'marked', 'for', 'those', 'that', 'see', 'perhaps', 'the', 'only', 'factor', 'of', 'production', 'that', 'is', 'worth', 'being', 'criticized', 'is', 'the', 'episodes', 'reprise', 'there', 'are', 'two', 'of', 'them', 'long', 'piece', 'of', 'episode', 'and', 'episode', 'integer', 'but', 'it', 'is', 'worth', 'remembering', 'that', 'this', 'is', 'part', 'of', 'the', 'joke', 'that', 'gainax', 'proposed', 'to', 'do', 'saying', 'that', 'kick', 'the', 'logic', 'to', 'corner', 'with', 'this', 'series', 'episodes', 'rather', 'than', 'the', 'protagonist', 'being', 'voiced', 'by', 'man', 'many', 'of', 'the', 'previous', 'as', 'shinji', 'ikari', 'of', 'eva', 'were', 'dubbed', 'by', 'women', 'etc', 'you', 're', 'praising', 'too', 'you', 're', 'exaggerating', 'but', 'as', 'said', 'earlier', 'this', 'is', 'an', 'anime', 'that', 'does', 'not', 'allow', 'cold', 'and', 'calculating', 'analysis', 'the', 'very', 'premise', 'the', 'first', 'episode', 'it', 'doesn', 'make', 'much', 'sense', 'it', 'is', 'classic', 'love', 'or', 'hate', 'or', 'you', 'enter', 'the', 'atmosphere', 'of', 'ow', 'man', 'way', 'too', 'epicness', 'or', 'so', 'says', 'this', 'is', 'not', 'my', 'type', 'despite', 'the', 'success', 'that', 'had', 'yielding', 'promises', 'of', 'future', 'projects', 'gurren', 'lagann', 'is', 'not', 'for', 'everyone', 'it', 'about', 'courage', 'dramatic', 'sacrifices', 'struggles', 'that', 'make', 'the', 'dbz', 'characters', 'seem', 'wimpy', 'it', 'about', 'heroic', 'speeches', 'and', 'exaggerated', 'if', 'you', 'are', 'unable', 'to', 'watch', 'something', 'that', 'cannot', 'lead', 'to', 'seriously', 'recommend', 'more', 'sober', 'more', 'series', 'feet', 'in', 'the', 'ground', 'if', 'you', 'are', 'willing', 'to', 'embark', 'with', 'the', 'crew', 'of', 'the', 'gurren', 'dan', 'welcome', 'to', 'war', 'for', 'freedom', 'by', 'the', 'human', 'race', 'through', 'the', 'universe', 'to', 'quote', 'the', 'slogan', 'of', 'well', 'known', 'epic', 'film', 'prepare', 'for', 'glory', 'helpful', 'read', 'more']\n"
     ]
    }
   ],
   "source": [
    "# Clean and tokenize the reviews\n",
    "\n",
    "def sent_to_words(sentences):\n",
    "    for sentence in sentences:\n",
    "        yield(gensim.utils.simple_preprocess(str(sentence), deacc=True))  # deacc=True removes punctuations\n",
    "        \n",
    "data_words = list(sent_to_words(data))\n",
    "\n",
    "print(data_words[0])"
   ]
  },
  {
   "cell_type": "code",
   "execution_count": 17,
   "metadata": {},
   "outputs": [
    {
     "name": "stdout",
     "output_type": "stream",
     "text": [
      "['overall', 'story', 'animation', 'sound', 'character', 'enjoyment', 'gainax', 'is', 'easily', 'one', 'of', 'the', 'most', 'well', 'known', 'anime', 'studio', 'especially', 'with', 'titles', 'like', 'neon_genesis', 'evangelion', 'karekano', 'and', 'wings', 'of', 'honneamise', 'however', 'as', 'of', 'late', 'many', 'fans', 'claim', 'that', 'the', 'quality', 'of', 'gainax', 'has', 'dropped', 'down', 'significantly', 'and', 'that', 'their', 'golden', 'age', 'is', 'over', 'well', 'that', 'was', 'until', 'gurren', 'lagann', 'without_doubt', 'gurren', 'lagann', 'took', 'both', 'japanese', 'and', 'western', 'fandom', 'by', 'storm', 'this', 'coupled', 'with', 'the', 'fact', 'that', 'there', 'was', 'very', 'little', 'hype', 'before', 'hand', 'thus', 'making', 'the', 'extreme', 'popularity', 'even', 'more', 'impressive', 'for', 'me', 'what', 'was', 'more', 'impressive', 'was', 'the', 'fact', 'that', 'people', 'that', 'normally', 'don', 'rsquo', 'like', 'this', 'sort', 'of', 'thing', 'ie', 'prefer', 'more', 'serious', 'dramatic', 'works', 'enjoy', 'it', 'immensely', 'this', 'was', 'what', 'drove', 'me', 'to', 'watch', 'gurren', 'lagann', 'and', 'write', 'this', 'review', 'afterwards', 'gurren', 'lagann', 'reminds', 'me', 'of', 'another', 'gainax', 'title', 'gunbuster', 'especially', 'the', 'last', 'third', 'gaogaigar', 'was', 'another', 'anime', 'as', 'both', 'gaogaigar', 'and', 'gunbuster', 'are', 'unabashedly', 'over', 'the', 'top', 'and', 'cheesy', 'not', 'only', 'that', 'it', 'thrives', 'in', 'its', 'cheesiness', 'and', 'over', 'the', 'top', 'nature', 'also', 'one', 'cannot', 'claim', 'that', 'gurren', 'lagann', 'half', 'asses', 'anything', 'it', 'does', 'everything', 'with', 'the', 'same', 'vigor', 'and', 'intensity', 'at', 'the', 'same', 'time', 'this', 'is', 'what', 'makes', 'or', 'breaks', 'gurren', 'lagann', 'for', 'most', 'viewers', 'its', 'cheesiness', 'or', 'over', 'the', 'top', 'nature', 'will', 'strike', 'chord', 'in', 'you', 'or', 'as', 'some', 'people', 'put', 'it', 'appeal', 'to', 'something', 'more', 'primal', 'inside', 'else', 'you', 'rsquo', 'll', 'end', 'up', 'like', 'me', 'facepalming', 'this', 'is', 'something', 'cannot', 'understand', 'for', 'the', 'life', 'of', 'me', 'perhaps', 'this', 'is', 'due', 'to', 'the', 'fact', 'that', 'gurren', 'lagann', 'can', 'be', 'seen', 'as', 'throw', 'back', 'to', 'super', 'robots', 'rdquo', 'manly', 'rdquo', 'series', 'of', 'the', 'seventies', 'direct', 'contrast', 'to', 'the', 'proliferation', 'of', 'so', 'called', 'ldquo', 'sissy', 'rdquo', 'anime', 'as', 'of', 'late', 'however', 'it', 'fails', 'to', 'achieve', 'any', 'more', 'than', 'that', 'mindless', 'over', 'the', 'top', 'mecha', 'action', 'series', 'now', 'whether', 'or', 'not', 'that', 'rsquo', 'bad', 'thing', 'is', 'up', 'to', 'you', 'the', 'story', 'and', 'structure', 'was', 'distinctly', 'shounen', 'thus', 'suffering', 'from', 'high', 'degree', 'of', 'predictability', 'first', 'you', 'have', 'powerful', 'opponent', 'yet', 'against', 'all', 'odds', 'the', 'protagonists', 'defeat', 'them', 'then', 'another', 'more', 'powerful', 'opponent', 'pops', 'up', 'and', 'yet', 'again', 'against', 'all', 'odds', 'the', 'protagonists', 'defeat', 'them', 'usually', 'by', 'some', 'kind', 'of', 'power', 'up', 'keep', 'on', 'repeating', 'till', 'there', 'are', 'no', 'more', 'enemies', 'left', 'many', 'of', 'the', 'characters', 'are', 'also', 'the', 'embodiment', 'of', 'your', 'typical', 'shounen', 'protagonist', 'energetic', 'idiots', 'that', 'keep', 'running', 'forward', 'destroying', 'every', 'obstacle', 'in', 'their', 'way', 'this', 'was', 'accomplished', 'with', 'very', 'little', 'thought', 'when', 'it', 'comes', 'to', 'probability', 'strategy', 'and', 'even', 'logic', 'it', 'keeps', 'on', 'this', 'monotonous', 'path', 'until', 'the', 'time_skip', 'here', 'the', 'cheesiness', 'and', 'its', 'shounen', 'nature', 'are', 'reduced', 'significantly', 'the', 'characters', 'and', 'setting', 'are', 'also', 'different', 'and', 'quite', 'interesting', 'however', 'at', 'the', 'same', 'time', 'can', 'see', 'the', 'characters', 'mature', 'grow', 'in', 'that', 'manner', 'was', 'pleasantly', 'surprised', 'by', 'this', 'turn', 'of', 'events', 'and', 'for', 'fleeting', 'moment', 'thought', 'that', 'gurren', 'lagann', 'would', 'redeem', 'itself', 'in', 'my', 'eyes', 'sadly', 'it', 'was', 'nothing', 'more', 'than', 'that', 'fleeting', 'moment', 'as', 'it', 'went', 'back', 'to', 'its', 'same', 'old', 'self', 'magnified', 'times', 'few', 'episodes', 'later', 'it', 'is', 'ironic', 'that', 'for', 'the', 'overall', 'review', 'of', 'gurren', 'lagann', 'lowered', 'the', 'score', 'due', 'to', 'the', 'fact', 'that', 'rsquo', 'it', 'was', 'out', 'of', 'place', 'consistency', 'is', 'very', 'important', 'in', 'my', 'books', 'if', 'they', 'had', 'kept', 'with', 'the', 'same', 'seriousness', 'until', 'the', 'end', 'then', 'it', 'would', 'have', 'rated', 'gurren', 'lagann', 'higher', 'if', 'my', 'favorite', 'part', 'was', 'after', 'the', 'time_skip', 'then', 'my', 'least', 'favorite', 'part', 'would', 'the', 'very', 'beginning', 'the', 'first', 'arc', 'ep', 'this', 'arc', 'was', 'easily', 'the', 'silliest', 'and', 'dumbest', 'of', 'gurren', 'lagann', 'can', 'easily', 'see', 'why', 'so', 'many', 'people', 'dropped', 'it', 'during', 'this', 'arc', 'not', 'only', 'was', 'it', 'stupid', 'but', 'slow', 'it', 'took', 'forever', 'for', 'me', 'to', 'get', 'through', 'these', 'episodes', 'as', 'couldn', 'rsquo', 'watch', 'more', 'than', 'one', 'episode', 'at', 'time', 'if', 'had', 'to', 'rate', 'this', 'arc', 'alone', 'it', 'would', 'probably', 'get', 'out', 'of', 'thankfully', 'after', 'all', 'the', 'mandatory', 'character', 'introductions', 'it', 'starts', 'to', 'really', 'move', 'by', 'the', 'nd', 'arc', 'ep', 'the', 'episodes', 'seamlessly', 'blended', 'together', 'as', 'the', 'overall', 'flow', 'pacing', 'was', 'much', 'better', 'also', 'idiotic', 'filler', 'such', 'as', 'the', 'onsen', 'episode', 'were', 'gone', 'and', 'the', 'stupidity', 'in', 'the', 'name', 'of', 'comedy', 'was', 'reduced', 'little', 'bit', 'yes', 'still', 'find', 'it', 'stupid', 'and', 'over', 'the', 'top', 'but', 'at', 'least', 'it', 'had', 'fast', 'pace', 'and', 'somewhat', 'enjoyable', 'because', 'of', 'this', 'could', 'watch', 'multiple', 'episodes', 'in', 'one', 'sitting', 'this', 'arc', 'would', 'get', 'or', 'out', 'of', 'and', 'the', 'rd', 'arc', 'would', 'be', 'out', 'of', 'as', 'for', 'the', 'characters', 'mentioned', 'that', 'most', 'of', 'crew', 'are', 'energetic', 'idiots', 'and', 'kamina', 'was', 'the', 'worst', 'one', 'of', 'them', 'all', 'as', 'well', 'as', 'being', 'the', 'shallowest', 'character', 'wise', 'of', 'the', 'main', 'characters', 'all', 'he', 'had', 'was', 'ldquo', 'guts', 'rdquo', 'and', 'confidence', 'that', 'was', 'completely', 'baseless', 'he', 'said', 'it', 'himself', 'simon', 'was', 'the', 'one', 'that', 'saved', 'him', 'countless', 'times', 'and', 'it', 'was', 'simon', 'that', 'had', 'the', 'ability', 'not', 'kamina', 'however', 'not', 'all', 'of', 'characters', 'are', 'like', 'this', 'shallow', 'mean', 'in', 'fact', 'there', 'was', 'decent', 'amount', 'of', 'and', 'those', 'characters', 'were', 'quite', 'interesting', 'in', 'their', 'own', 'right', 'yoko', 'was', 'an', 'awesome', 'side', 'character', 'that', 'was', 'far', 'more', 'than', 'fanservice', 'character', 'simon', 'developed', 'quite', 'nicely', 'throughout', 'the', 'series', 'viral', 'was', 'an', 'incredibly', 'sympathetic', 'beastman', 'etc', 'could', 'go', 'on', 'but', 'think', 'you', 'get', 'the', 'idea', 'perhaps', 'this', 'is', 'why', 'really', 'enjoyed', 'the', 'episodes', 'after', 'the', 'time_skip', 'as', 'there', 'was', 'lot', 'of', 'focus', 'on', 'the', 'characters', 'themselves', 'and', 'not', 'on', 'the', 'next', 'battle', 'sadly', 'gurren', 'lagann', 'didn', 'rsquo', 'focus', 'enough', 'on', 'the', 'characters', 'this', 'brings', 'me', 'to', 'my', 'next', 'point', 'the', 'ending', 'and', 'the', 'epilogue', 'the', 'ending', 'just', 'didn', 'rsquo', 'feel', 'right', 'considering', 'the', 'overall', 'tone', 'and', 'feel', 'of', 'the', 'series', 'interestingly', 'enough', 'actually', 'thought', 'the', 'epilogue', 'hurt', 'the', 'ending', 'this', 'is', 'considering', 'how', 'much', 'love', 'epilogues', 'spoilerish', 'comments', 'hidden', 'hellip', 'in', 'particular', 'simon', 'being', 'wanderer', 'and', 'nia', 'dying', 'are', 'two', 'things', 'didn', 'rsquo', 'expect', 'nia', 'dying', 'really', 'didn', 'rsquo', 'make', 'much', 'sense', 'to', 'me', 'and', 'even', 'if', 'there', 'is', 'logic', 'behind', 'it', 'it', 'still', 'doesn', 'rsquo', 'feel', 'right', 'considering', 'the', 'series', 'while', 'can', 'accept', 'that', 'what', 'simon', 'did', 'feels', 'really', 'forced', 'he', 'rsquo', 'saying', 'he', 'rsquo', 'tired', 'done', 'fighting', 'and', 'left', 'everything', 'to', 'the', 'new', 'generation', 'can', 'understand', 'the', 'idea', 'they', 'rsquo', 're', 'trying', 'to', 'get', 'across', 'with', 'him', 'leaving', 'everything', 'to', 'the', 'new', 'generation', 'at', 'such', 'an', 'early', 'age', 'albeit', 'forced', 'reinforces', 'the', 'idea', 'if', 'it', 'ended', 'right', 'there', 'then', 'it', 'would', 'be', 'perfectly', 'good', 'ending', 'however', 'with', 'the', 'epilogue', 'was', 'forced', 'to', 'take', 'his', 'decision', 'more', 'literal', 'he', 'rsquo', 'only', 'around', 'years', 'old', 'and', 'he', 'rsquo', 'already', 'done', 'everything', 'he', 'can', 'in', 'his', 'life', 'while', 'don', 'rsquo', 'see', 'him', 'leading', 'epic', 'space', 'battles', 'don', 'rsquo', 'see', 'him', 'being', 'wanderer', 'either', 'perhaps', 'mentor', 'to', 'reinforce', 'the', 'idea', 'of', 'the', 'child', 'surpassing', 'the', 'parent', 'since', 'this', 'is', 'an', 'action', 'series', 'animation', 'is', 'of', 'considerable', 'importance', 'gurren', 'lagann', 'thankfully', 'delivers', 'and', 'features', 'well', 'animated', 'giant_robot', 'action', 'however', 'as', 'stated', 'above', 'put', 'lot', 'into', 'consistency', 'and', 'quite', 'often', 'there', 'was', 'be', 'dip', 'in', 'art', 'animation', 'after', 'an', 'explosive', 'episode', 'for', 'example', 'there', 'was', 'some', 'noticeable', 'weakness', 'in', 'the', 'art', 'in', 'episode', 'which', 'was', 'after', 'the', 'huge', 'battle', 'in', 'episode', 'in', 'general', 'there', 'were', 'some', 'fluctuations', 'in', 'terms', 'of', 'art', 'animation', 'throughout', 'the', 'series', 'as', 'for', 'the', 'art', 'it', 'was', 'unique', 'but', 'fits', 'with', 'its', 'extreme', 'shounen', 'and', 'silly', 'feel', 'the', 'only', 'thing', 'that', 'bothers', 'me', 'about', 'the', 'art', 'was', 'the', 'slight', 'lack', 'of', 'detail', 'however', 'really', 'can', 'rsquo', 'complain', 'too', 'much', 'about', 'the', 'art', 'gurren', 'lagann', 'was', 'over', 'the', 'top', 'silly', 'and', 'corny', 'mecha', 'anime', 'however', 'it', 'did', 'it', 'with', 'so', 'much', 'gusto', 'it', 'can', 'be', 'seen', 'as', 'plus', 'for', 'some', 'this', 'is', 'why', 'think', 'some', 'people', 'that', 'normally', 'like', 'serious', 'dramatic', 'intelligent', 'anime', 'also', 'enjoy', 'this', 'for', 'me', 'it', 'was', 'simply', 'too', 'silly', 'too', 'corny', 'too', 'much', 'its', 'blatant', 'shounen', 'nature', 'didn', 'rsquo', 'help', 'either', 'thankfully', 'the', 'characters', 'fared', 'bit', 'better', 'as', 'not', 'all', 'of', 'them', 'were', 'overly', 'energetic', 'idiots', 'those', 'characters', 'received', 'quite', 'bit', 'of', 'and', 'are', 'fairly', 'likeable', 'this', 'was', 'what', 'saved', 'gurren', 'lagann', 'from', 'being', 'dropped', 'again', 'sadly', 'they', 'didn', 'rsquo', 'spend', 'nearly', 'enough', 'time', 'on', 'those', 'characters', 'and', 'moments', 'like', 'the', 'dream', 'sequence', 'in', 'ep', 'are', 'far', 'and', 'few', 'in', 'between', 'in', 'the', 'end', 'it', 'all', 'boils', 'down', 'to', 'whether', 'or', 'not', 'one', 'can', 'accept', 'its', 'over', 'the', 'top', 'and', 'extremely', 'corny', 'nature', 'helpful_read', 'more']\n"
     ]
    }
   ],
   "source": [
    "# Create bigrams, remove stop words and lemmatize the reviews\n",
    "\n",
    "# Build the bigram models\n",
    "bigram = gensim.models.Phrases(data_words, min_count=5, threshold=100) # higher threshold fewer phrases.\n",
    "\n",
    "# Faster way to get a sentence clubbed as a trigram/bigram\n",
    "bigram_mod = gensim.models.phrases.Phraser(bigram)\n",
    "\n",
    "print(bigram_mod[data_words[4]])"
   ]
  },
  {
   "cell_type": "code",
   "execution_count": 18,
   "metadata": {},
   "outputs": [],
   "source": [
    "# Defining removing stopwords\n",
    "def remove_stopwords(texts):\n",
    "    return [[word for word in simple_preprocess(str(doc)) if word not in stop_words] for doc in texts]\n",
    "\n",
    "# Defining making bigrams\n",
    "def make_bigrams(texts):\n",
    "    return [bigram_mod[doc] for doc in texts]\n",
    "\n",
    "# Defining lemmatization\n",
    "def lemmatization(texts, allowed_postags=['NOUN', 'ADJ', 'VERB', 'ADV']):\n",
    "    texts_out = []\n",
    "    for sent in texts:\n",
    "        doc = nlp(\" \".join(sent)) \n",
    "        texts_out.append([token.lemma_ for token in doc if token.pos_ in allowed_postags])\n",
    "    return texts_out"
   ]
  },
  {
   "cell_type": "code",
   "execution_count": 19,
   "metadata": {},
   "outputs": [
    {
     "name": "stdout",
     "output_type": "stream",
     "text": [
      "['overall', 'story', 'animation', 'sound', 'character', 'enjoyment', 'time', 'man', 'man', 'scream', 'crazy', 'speech', 'face', 'impossible', 'say', 'thing', 'make', 'sense', 'even', 'say', 'epic', 'time', 'time', 'captain', 'harlock', 'master', 'time', 'asia', 'time', 'domon', 'logic', 'important', 'strategy', 'important', 'believe', 'impossible', 'impossible', 'front', 'time', 'go', 'wave', 'anime', 'realistic', 'philosophical', 'adult', 'good', 'meet', 'purpose', 'meet', 'however', 'however', 'miss', 'character', 'idiot', 'laugh', 'face', 'death', 'shake', 'character', 'remember', 'essence', 'beginning', 'mean', 'realistic', 'wonder', 'addict', 'shonen', 'manga', 'piece', 'fairy', 'tail', 'remind', 'hero', 'still', 'believe', 'boundary', 'bullshit', 'man', 'talk', 'crazy', 'dream', 'smile', 'face', 'original', 'anime', 'non', 'manga', 'base', 'pass', 'spirit', 'indicate', 'studio', 'produce', 'epic', 'notion', 'gainax', 'probably', 'first', 'list', 'lady', 'gentleman', 'forgiveness', 'lengthy', 'introduction', 'let', 'talk', 'tengen_toppa', 'gurren', 'lagann', 'many', 'already', 'hear', 'thing', 'series', 'episode', 'effusive', 'praise', 'discourage', 'review', 'already', 'hear', 'follow', 'phrase', 'compliment', 'gurren', 'lagann', 'exaggerate', 'let', 'clear', 'otherwise', 'gurren', 'lagann', 'anime', 'type', 'parse', 'type', 'anime', 'manifest', 'exaggeration', 'passion', 'overkill', 'key', 'word', 'anime', 'extremely', 'titanic', 'extreme', 'top', 'large', 'life', 'certain', 'exception', 'gundam', 'macross', 'never', 'fan', 'mecha', 'anime', 'far', 'top', 'list', 'recurrent', 'genre', 'new', 'season', 'anime', 'believe', 'dismay', 'understandable', 'anime', 'mecha', 'clamoring', 'arrogantly', 'revolutionize', 'genre', 'overcome', 'evangelion', 'new', 'gundam', 'thing', 'many', 'simply', 'die', 'beach', 'lose', 'mediocrity', 'gurren', 'lagann', 'reverse', 'path', 'take', 'seriously', 'involve', 'complex', 'plot', 'policy', 'attempt', 'explore', 'essence', 'human', 'guy', 'inconsequential', 'face', 'death', 'colorful', 'fuse', 'often', 'ungainly', 'blow', 'thing', 'many', 'thing', 'series', 'species', 'giant', 'parody', 'mecha', 'spoof', 'well', 'do', 'take', 'undeniable', 'brilliance', 'series', 'develop', 'hump', 'year', 'frantic', 'action', 'episodic', 'colored', 'robot', 'year', 'frantic', 'action', 'sequential', 'specific', 'enemy', 'color', 'robot', 'year', 'frantic', 'action', 'colorful', 'robot', 'space', 'century', 'tribute', 'series', 'hype', 'come', 'extreme', 'series', 'feature', 'climate', 'extremely', 'pure', 'remember', 'piece', 'sense', 'match', 'late', 'production', 'gainax', 'exception', 'perhaps', 'diebuster', 'gurren', 'studio', 'try', 'well', 'tell', 'story', 'extremely', 'positive', 'bright', 'boil', 'blood', 'antithesis', 'evangelion', 'character', 'cast', 'feature', 'well', 'ever', 'see', 'recent', 'year', 'big', 'name', 'kamina', 'believe', 'believe', 'believe', 'kittan', 'soul', 'regret', 'simon', 'drill', 'pierce', 'name', 'unbelievable', 'still', 'viral', 'genome', 'dayakka', 'wife', 'good', 'universe', 'swing', 'hero', 'face', 'impossible', 'real', 'man', 'psychological', 'development', 'simon', 'monstrous', 'series', 'manage', 'combine', 'trace', 'human', 'weakness', 'iconic', 'character', 'courage', 'sacrifice', 'necessary', 'never', 'retreat', 'element', 'worthy', 'legend', 'style', 'council', 'watch', 'anime', 'turn', 'brain', 'good', 'quote', 'anime', 'go', 'impossible', 'corner', 'kamina', 'often', 'take', 'sense', 'literal', 'gurren', 'lagann', 'ridiculously', 'scene', 'epic', 'song', 'sing', 'playing', 'background', 'know', 'many', 'love', 'type', 'scene', 'feel', 'rather', 'lack', 'thereof', 'current', 'anime', 'character', 'scream', 'attack', 'name', 'aloud', 'gigantic', 'explosion', 'allow', 'get', 'mood', 'take', 'unbelievable', 'journey', 'smile', 'fool', 'know', 'make', 'right', 'decision', 'technical', 'issue', 'animation', 'jaw_dropping', 'get', 'idea', 'money', 'use', 'production', 'dedicate', 'last', 'episode', 'create', 'sequence', 'make', 'many', 'film', 'go', 'shame', 'soundtrack', 'contribute', 'light', 'climate', 'epic', 'song', 'sing', 'rap', 'opera', 'hybridize', 'give', 'special', 'glow', 'several', 'good', 'scene', 'series', 'many', 'mark', 'see', 'perhaps', 'factor', 'production', 'worth', 'criticize', 'episode', 'reprise', 'long', 'piece', 'episode', 'episode', 'integer', 'worth', 'remember', 'part', 'joke', 'gainax', 'propose', 'say', 'corner', 'series', 'episode', 'rather', 'protagonist', 'voice', 'man', 'many', 'previous', 'eva', 'dub', 'woman', 'praise', 'exaggerating', 'say', 'early', 'anime', 'allow', 'cold', 'calculate', 'analysis', 'premise', 'first', 'episode', 'make', 'much', 'sense', 'classic', 'love', 'hate', 'enter', 'atmosphere', 'man', 'way', 'epicness', 'say', 'type', 'success', 'yielding', 'promise', 'future', 'project', 'gurren', 'lagann', 'courage', 'dramatic', 'sacrifice', 'struggle', 'make', 'dbz', 'character', 'seem', 'wimpy', 'heroic', 'speech', 'exaggerate', 'unable', 'watch', 'lead', 'seriously', 'recommend', 'sober', 'series', 'foot', 'ground', 'willing', 'embark', 'crew', 'gurren', 'dan', 'welcome', 'war', 'freedom', 'human_race', 'universe', 'quote', 'slogan', 'well', 'know', 'epic', 'film', 'prepare', 'glory']\n"
     ]
    }
   ],
   "source": [
    "# Remove Stop Words\n",
    "data_words_nostops = remove_stopwords(data_words)\n",
    "\n",
    "# Form Bigrams\n",
    "data_words_bigrams = make_bigrams(data_words_nostops)\n",
    "\n",
    "# Initialize spacy 'en' model, keeping only tagger component (for efficiency)\n",
    "# python3 -m spacy download en\n",
    "nlp = spacy.load('en_core_web_sm', disable=['parser', 'ner'])\n",
    "\n",
    "# Do lemmatization keeping only noun, adj, vb, adv\n",
    "data_lemmatized = lemmatization(data_words_bigrams, allowed_postags=['NOUN', 'ADJ', 'VERB', 'ADV'])\n",
    "\n",
    "print(data_lemmatized[0])"
   ]
  },
  {
   "cell_type": "code",
   "execution_count": 20,
   "metadata": {},
   "outputs": [
    {
     "name": "stdout",
     "output_type": "stream",
     "text": [
      "[(0, 3), (1, 1), (2, 1), (3, 2), (4, 1), (5, 2), (6, 1), (7, 2), (8, 12), (9, 1), (10, 1), (11, 1), (12, 1), (13, 1), (14, 1), (15, 1), (16, 1), (17, 1), (18, 1), (19, 6), (20, 1), (21, 1), (22, 1), (23, 1), (24, 1), (25, 1), (26, 1), (27, 1), (28, 1), (29, 1), (30, 1), (31, 1), (32, 1), (33, 1), (34, 7), (35, 1), (36, 1), (37, 1), (38, 2), (39, 1), (40, 1), (41, 1), (42, 2), (43, 1), (44, 1), (45, 1), (46, 1), (47, 1), (48, 2), (49, 1), (50, 2), (51, 2), (52, 1), (53, 1), (54, 1), (55, 1), (56, 1), (57, 1), (58, 1), (59, 2), (60, 1), (61, 1), (62, 1), (63, 1), (64, 1), (65, 1), (66, 1), (67, 1), (68, 1), (69, 1), (70, 1), (71, 1), (72, 1), (73, 1), (74, 1), (75, 1), (76, 1), (77, 1), (78, 1), (79, 1), (80, 1), (81, 5), (82, 1), (83, 7), (84, 1), (85, 2), (86, 1), (87, 2), (88, 1), (89, 1), (90, 2), (91, 1), (92, 1), (93, 2), (94, 1), (95, 1), (96, 2), (97, 3), (98, 5), (99, 1), (100, 1), (101, 1), (102, 1), (103, 2), (104, 1), (105, 2), (106, 2), (107, 1), (108, 1), (109, 1), (110, 1), (111, 3), (112, 1), (113, 1), (114, 1), (115, 1), (116, 3), (117, 1), (118, 2), (119, 1), (120, 2), (121, 1), (122, 1), (123, 1), (124, 1), (125, 1), (126, 3), (127, 4), (128, 1), (129, 2), (130, 8), (131, 1), (132, 1), (133, 1), (134, 2), (135, 2), (136, 1), (137, 2), (138, 2), (139, 1), (140, 1), (141, 1), (142, 1), (143, 1), (144, 1), (145, 1), (146, 2), (147, 5), (148, 1), (149, 1), (150, 1), (151, 1), (152, 1), (153, 1), (154, 1), (155, 1), (156, 1), (157, 2), (158, 1), (159, 1), (160, 3), (161, 1), (162, 1), (163, 6), (164, 1), (165, 1), (166, 1), (167, 1), (168, 1), (169, 1), (170, 1), (171, 2), (172, 1), (173, 1), (174, 2), (175, 1), (176, 1), (177, 1), (178, 1), (179, 2), (180, 1), (181, 5), (182, 6), (183, 1), (184, 2), (185, 1), (186, 7), (187, 1), (188, 1), (189, 1), (190, 1), (191, 3), (192, 1), (193, 2), (194, 1), (195, 1), (196, 1), (197, 1), (198, 1), (199, 3), (200, 1), (201, 2), (202, 2), (203, 1), (204, 1), (205, 2), (206, 1), (207, 1), (208, 1), (209, 1), (210, 1), (211, 1), (212, 1), (213, 1), (214, 1), (215, 1), (216, 1), (217, 1), (218, 2), (219, 1), (220, 1), (221, 3), (222, 1), (223, 1), (224, 1), (225, 1), (226, 1), (227, 2), (228, 1), (229, 1), (230, 1), (231, 1), (232, 1), (233, 3), (234, 1), (235, 1), (236, 1), (237, 1), (238, 1), (239, 1), (240, 1), (241, 2), (242, 1), (243, 2), (244, 1), (245, 2), (246, 1), (247, 1), (248, 1), (249, 1), (250, 3), (251, 1), (252, 1), (253, 1), (254, 1), (255, 1), (256, 1), (257, 1), (258, 1), (259, 3), (260, 2), (261, 5), (262, 3), (263, 2), (264, 1), (265, 2), (266, 1), (267, 4), (268, 1), (269, 1), (270, 9), (271, 2), (272, 1), (273, 1), (274, 1), (275, 1), (276, 2), (277, 1), (278, 2), (279, 1), (280, 2), (281, 1), (282, 2), (283, 1), (284, 1), (285, 1), (286, 1), (287, 1), (288, 1), (289, 1), (290, 2), (291, 1), (292, 1), (293, 2), (294, 2), (295, 1), (296, 1), (297, 2), (298, 1), (299, 1), (300, 1), (301, 1), (302, 4), (303, 2), (304, 1), (305, 1), (306, 1), (307, 1), (308, 5), (309, 6), (310, 1), (311, 2), (312, 1), (313, 1), (314, 1), (315, 1), (316, 4), (317, 1), (318, 2), (319, 1), (320, 1), (321, 1), (322, 2), (323, 1), (324, 1), (325, 1), (326, 1), (327, 2), (328, 1), (329, 1), (330, 1), (331, 1), (332, 4), (333, 1), (334, 1), (335, 1), (336, 1), (337, 1), (338, 1), (339, 2), (340, 1), (341, 4), (342, 1)]\n"
     ]
    }
   ],
   "source": [
    "# Create Dictionary\n",
    "id2word = corpora.Dictionary(data_lemmatized)\n",
    "\n",
    "# Create Corpus\n",
    "texts = data_lemmatized\n",
    "\n",
    "# Term Document Frequency\n",
    "corpus = [id2word.doc2bow(text) for text in texts]\n",
    "\n",
    "# View\n",
    "print(corpus[0])"
   ]
  },
  {
   "cell_type": "code",
   "execution_count": 21,
   "metadata": {},
   "outputs": [
    {
     "name": "stdout",
     "output_type": "stream",
     "text": [
      "[(0, '0.009*\"que\" + 0.006*\"nao\" + 0.004*\"com\" + 0.003*\"como\" + 0.003*\"minha\" + 0.003*\"tem\" + 0.002*\"ser\" + 0.002*\"ante\" + 0.002*\"ttgl\" + 0.002*\"seus\"'), (1, '0.000*\"show\" + 0.000*\"character\" + 0.000*\"gurren\" + 0.000*\"get\" + 0.000*\"lagann\" + 0.000*\"first\" + 0.000*\"really\" + 0.000*\"series\" + 0.000*\"feel\" + 0.000*\"good\"'), (2, '0.032*\"character\" + 0.030*\"anime\" + 0.022*\"story\" + 0.021*\"show\" + 0.013*\"watch\" + 0.012*\"good\" + 0.012*\"overall\" + 0.012*\"animation\" + 0.012*\"sound\" + 0.011*\"episode\"'), (3, '0.017*\"dude\" + 0.003*\"sakuga\" + 0.003*\"btw\" + 0.002*\"namely\" + 0.002*\"chore\" + 0.001*\"tease\" + 0.001*\"uncomfortable\" + 0.001*\"syndrome\" + 0.001*\"brutality\" + 0.001*\"alternative\"'), (4, '0.002*\"nihilism\" + 0.001*\"thusly\" + 0.001*\"slave\" + 0.001*\"attain\" + 0.001*\"meta\" + 0.001*\"external\" + 0.001*\"acceptance\" + 0.001*\"rationality\" + 0.001*\"promote\" + 0.001*\"bridge\"'), (5, '0.017*\"kamina\" + 0.016*\"simon\" + 0.015*\"gurren\" + 0.015*\"lagann\" + 0.013*\"character\" + 0.012*\"show\" + 0.007*\"series\" + 0.006*\"plot\" + 0.006*\"even\" + 0.005*\"fight\"'), (6, '0.011*\"theme\" + 0.006*\"idea\" + 0.006*\"finally\" + 0.006*\"decision\" + 0.006*\"rsquo\" + 0.006*\"take\" + 0.005*\"drill\" + 0.005*\"spiral\" + 0.005*\"universe\" + 0.005*\"top\"'), (7, '0.001*\"skirt\" + 0.000*\"lace\" + 0.000*\"overdramatic\" + 0.000*\"sucidial\" + 0.000*\"asskicker\" + 0.000*\"badassedness\" + 0.000*\"provider\" + 0.000*\"giggedy\" + 0.000*\"reread\" + 0.000*\"costume\"')]\n"
     ]
    }
   ],
   "source": [
    "# Using LDA to develop a topic model with 3 models\n",
    "\n",
    "lda_model = gensim.models.ldamodel.LdaModel(corpus=corpus,\n",
    "                                           id2word=id2word,\n",
    "                                           num_topics=8, \n",
    "                                           random_state=100,\n",
    "                                           update_every=1,\n",
    "                                           chunksize=100,\n",
    "                                           passes=10,\n",
    "                                           alpha='auto',\n",
    "                                           per_word_topics=True)\n",
    "# Print the KeywordS in the 3 topics\n",
    "print(lda_model.print_topics())\n",
    "doc_lda = lda_model[corpus]"
   ]
  },
  {
   "cell_type": "code",
   "execution_count": 22,
   "metadata": {},
   "outputs": [
    {
     "data": {
      "text/html": [
       "\n",
       "<link rel=\"stylesheet\" type=\"text/css\" href=\"https://cdn.jsdelivr.net/gh/bmabey/pyLDAvis@3.3.1/pyLDAvis/js/ldavis.v1.0.0.css\">\n",
       "\n",
       "\n",
       "<div id=\"ldavis_el36020783356418563285785907\"></div>\n",
       "<script type=\"text/javascript\">\n",
       "\n",
       "var ldavis_el36020783356418563285785907_data = {\"mdsDat\": {\"x\": [0.3391330345201647, 0.22999735176783712, -0.048224831477211696, -0.12181693745439502, -0.10224055998391118, -0.10296010740849916, -0.09698215328635741, -0.0969057966776274], \"y\": [0.00018228111714631753, -0.04142991934974044, 0.23792733558192927, -0.05855212268063769, -0.03617752521611772, -0.03757625000049987, -0.03221840042794493, -0.03215539902413514], \"topics\": [1, 2, 3, 4, 5, 6, 7, 8], \"cluster\": [1, 1, 1, 1, 1, 1, 1, 1], \"Freq\": [67.25733047627251, 28.776776710983658, 3.413530913637444, 0.3476442872441715, 0.11153903631346473, 0.08167220348922757, 0.006573660640242852, 0.004932711419287487]}, \"tinfo\": {\"Term\": [\"anime\", \"kamina\", \"simon\", \"theme\", \"watch\", \"ttgl\", \"take\", \"overall\", \"never\", \"try\", \"drill\", \"top\", \"gurren\", \"lagann\", \"enjoyment\", \"sound\", \"people\", \"art\", \"really\", \"human\", \"tell\", \"fact\", \"universe\", \"good\", \"action\", \"always\", \"believe\", \"long\", \"love\", \"hard\", \"art\", \"watch\", \"like\", \"finish\", \"recommend\", \"awesome\", \"perfect\", \"enjoyable\", \"feeling\", \"extremely\", \"enjoy\", \"explosion\", \"season\", \"hype\", \"sad\", \"sometimes\", \"thought\", \"read\", \"comedy\", \"stop\", \"special\", \"gon\", \"maybe\", \"short\", \"ost\", \"happy\", \"slow\", \"kinda\", \"romance\", \"funny\", \"overall\", \"anime\", \"enjoyment\", \"love\", \"sound\", \"really\", \"review\", \"fit\", \"good\", \"feel\", \"absolutely\", \"animation\", \"story\", \"amazing\", \"great\", \"episode\", \"pretty\", \"whole\", \"give\", \"character\", \"well\", \"time\", \"get\", \"see\", \"go\", \"show\", \"make\", \"much\", \"lot\", \"end\", \"think\", \"mecha\", \"thing\", \"series\", \"first\", \"gurren\", \"lagann\", \"say\", \"ultimately\", \"key\", \"gunman\", \"serve\", \"ground\", \"expand\", \"balance\", \"discover\", \"confidence\", \"heavily\", \"massive\", \"society\", \"control\", \"dynamic\", \"fan_service\", \"pivotal\", \"animal\", \"nowhere\", \"formula\", \"gain\", \"sacrifice\", \"subtle\", \"exist\", \"outside\", \"regard\", \"courage\", \"fault\", \"premise\", \"rule\", \"involve\", \"pilot\", \"dig\", \"nia\", \"sheer\", \"time_skip\", \"introduce\", \"evangelion\", \"surface\", \"beastman\", \"kamina\", \"simon\", \"underground\", \"name\", \"follow\", \"hole\", \"human\", \"constant\", \"cast\", \"stupid\", \"set\", \"begin\", \"robot\", \"lagann\", \"gurren\", \"plot\", \"kill\", \"become\", \"world\", \"half\", \"often\", \"force\", \"even\", \"power\", \"show\", \"character\", \"yoko\", \"fun\", \"series\", \"fight\", \"take\", \"life\", \"say\", \"development\", \"first\", \"make\", \"story\", \"way\", \"rsquo\", \"ethic\", \"trek\", \"known\", \"rational\", \"hint\", \"ignorance\", \"depict\", \"immensely\", \"sell\", \"repeatedly\", \"digest\", \"perpetual\", \"figuratively\", \"stark\", \"nge\", \"esque\", \"judgement\", \"wrapping\", \"adjective\", \"feed\", \"contagious\", \"sloppy\", \"frontier\", \"roshiu\", \"settle\", \"acclaim\", \"teppelin\", \"anatomy\", \"bacon\", \"darkness\", \"effort\", \"absurdity\", \"extreme\", \"decision\", \"send\", \"produce\", \"finally\", \"budget\", \"theme\", \"achieve\", \"anti_spiral\", \"famous\", \"idea\", \"mature\", \"spiral\", \"viewer\", \"essence\", \"push\", \"team\", \"universe\", \"strength\", \"drill\", \"top\", \"try\", \"take\", \"small\", \"brother\", \"human\", \"never\", \"fact\", \"amount\", \"long\", \"que\", \"nao\", \"como\", \"minha\", \"tem\", \"ser\", \"ante\", \"mas\", \"obra\", \"seus\", \"sobre\", \"ele\", \"entao\", \"esse\", \"mais\", \"mesmo\", \"onde\", \"os\", \"porque\", \"sua\", \"tudo\", \"vida\", \"chuck\", \"norris\", \"solo\", \"acao\", \"algo\", \"assistir\", \"chato\", \"epoca\", \"com\", \"ttgl\", \"evangelion\", \"nihilism\", \"thusly\", \"slave\", \"acceptance\", \"external\", \"meta\", \"rationality\", \"autocracy\", \"cunningness\", \"dictate\", \"emancipate\", \"futility\", \"incorruptible\", \"liken\", \"proselytization\", \"raison\", \"rejoice\", \"repugnance\", \"sickness\", \"statism\", \"tandem\", \"thereby\", \"therein\", \"unending\", \"youth\", \"abandonment\", \"actualized\", \"anew\", \"archimedean\", \"assassinate\", \"promote\", \"attain\", \"bridge\", \"sand\", \"actualize\", \"ashe\", \"chiefly\", \"circumvent\", \"cognition\", \"conqueror\", \"countermeasure\", \"crumble\", \"deprive\", \"derail\", \"disease\", \"dude\", \"sakuga\", \"btw\", \"namely\", \"chore\", \"tease\", \"uncomfortable\", \"syndrome\", \"brutality\", \"alternative\", \"melee\", \"beta\", \"goosebump\", \"blessing\", \"liek\", \"piercer\", \"somthe\", \"somthing\", \"stupaid\", \"tolerable\", \"bullshitting\", \"unholy\", \"positivity\", \"confabulation\", \"godawful\", \"incompetent\", \"loathsome\", \"agony\", \"anywere\", \"beginig\", \"disgusting\", \"weakle\", \"skirt\", \"cell\", \"forgetting\", \"grub\", \"helpless\", \"reflective\", \"revert\", \"statistic\", \"unadultered\", \"unfinished\", \"thx\", \"ultimade\", \"beause\", \"protagoist\", \"forehead\", \"tsuna\", \"barley\", \"cheape\", \"stupidness\", \"potato\", \"flurry\", \"heartbreake\", \"monkey\", \"somemoment\", \"steroid\", \"yoko_littn\", \"aventure\", \"beautfill\", \"believing\", \"colourfull\", \"lace\", \"overdramatic\", \"sucidial\", \"asskicker\", \"badassedness\", \"giggedy\", \"provider\", \"reread\", \"costume\", \"indestructive\", \"extraordinaire\", \"distaste\", \"adamantium\", \"consensus\", \"suicidally\", \"mua\", \"dramataic\", \"lackey\", \"redshirt\", \"shouting\", \"wit\", \"lemme\", \"spanky\", \"abhor\", \"amused\", \"alll\", \"trump\", \"bra\", \"wipe\", \"skirt\", \"cell\", \"forgetting\", \"grub\", \"helpless\", \"reflective\", \"revert\", \"statistic\", \"unadultered\", \"unfinished\", \"thx\", \"ultimade\", \"beause\", \"protagoist\", \"forehead\", \"tsuna\", \"barley\", \"cheape\", \"stupidness\", \"potato\", \"flurry\", \"heartbreake\", \"monkey\", \"somemoment\", \"steroid\", \"yoko_littn\", \"aventure\", \"beautfill\", \"believing\", \"colourfull\", \"character\", \"gurren\", \"show\", \"animation\", \"anime\", \"episode\", \"feel\", \"first\", \"get\", \"good\", \"lagann\", \"make\", \"see\", \"series\", \"story\", \"watch\", \"well\", \"really\", \"humbly\", \"action\", \"addict\", \"adult\", \"allow\", \"aloud\", \"already\", \"analysis\", \"antithesis\", \"arrogantly\", \"asia\", \"atmosphere\"], \"Freq\": [2463.0, 803.0, 752.0, 206.0, 1057.0, 279.0, 418.0, 955.0, 347.0, 209.0, 237.0, 247.0, 1327.0, 1248.0, 818.0, 958.0, 293.0, 507.0, 874.0, 203.0, 184.0, 133.0, 136.0, 1025.0, 349.0, 191.0, 330.0, 143.0, 397.0, 135.0, 507.5368437918623, 1055.9339535172364, 173.0472074719226, 134.27288936932698, 122.60576325512305, 149.8848124435839, 154.3005134399402, 116.6746818439927, 114.95615709056536, 114.71985462165183, 268.30005516518946, 98.5195519125179, 97.57204581980675, 86.2529336068151, 83.2573341915441, 83.09914090038238, 79.92531535378102, 79.86115356852397, 76.02278579659323, 111.6208592926426, 75.04791408825551, 69.41550625996933, 68.89804949390627, 67.29369303053424, 66.71434234791248, 65.15176191585435, 61.897124647969015, 60.546377326514666, 58.45228406719026, 56.43070118476864, 945.5195153270314, 2407.821294768424, 808.8172283113313, 394.8696560279786, 940.0694488668178, 855.247077385459, 276.7976835822247, 126.20477638485043, 987.4909613271038, 643.6770773484918, 97.79212357807427, 940.1708981932566, 1772.3546580641355, 239.35830859109188, 524.93517648925, 910.1608720688087, 255.47397255051342, 204.44297696667604, 458.78140876102765, 2581.0371749747856, 844.3767291406032, 672.7182699650114, 784.3516119849477, 584.9776050426361, 635.643757249629, 1716.5343962620616, 856.2257383244136, 499.2383342465408, 330.4275244020124, 505.3638476007416, 451.03565441311355, 563.7531510642885, 424.8585153779087, 732.1128440269066, 518.859820831094, 790.066338722257, 718.457477424873, 467.9173288232091, 64.5690639728538, 44.21303553829664, 44.65133862060445, 40.647695545172034, 38.8244252335756, 37.73352525321074, 35.42336651915861, 35.391058501090725, 52.5472548971484, 33.05132282971215, 32.96041483493597, 32.6566321352029, 32.56350854864832, 50.69595815816533, 31.1788364620601, 31.045288433176427, 30.43023126078078, 29.780039977884577, 28.798906802241792, 29.586036212025665, 40.632291522041186, 27.506757909180614, 27.544536174832768, 26.60673843801624, 30.949492390115417, 29.921682194250657, 24.64721125357349, 23.954018083532993, 23.681201109038568, 23.272208122711636, 46.439846782363844, 72.05434376296512, 122.55594438833612, 44.34419210269687, 53.38759489707011, 55.46614342926552, 66.2223118737621, 163.23610158750228, 73.33929804732253, 593.2169683539569, 539.2529799782445, 105.84673554746946, 89.13045136789442, 89.51439563366829, 44.445252197756936, 144.31693698089717, 41.57623469590729, 131.1963075885242, 54.3184628450031, 69.89324422177081, 129.1867011567034, 115.65642986836767, 524.1558082225978, 526.833957344399, 222.52292791930245, 84.60302703245539, 160.84377997731755, 130.79314265976762, 113.25427555890361, 69.8897591120756, 74.72797275409435, 219.23718913973093, 115.47780788886081, 402.38969804495747, 457.51071049507806, 126.07162763287984, 105.51211650011986, 232.48679993523265, 174.01569951075038, 144.24315939189668, 107.28856019861878, 153.070853302779, 107.02394253092471, 140.34292542397554, 155.8504021358983, 163.30332943438412, 122.98006040577091, 23.436562683156257, 14.49610985455922, 13.495569219543018, 11.11481986096531, 10.431737668264933, 9.949750792353008, 9.741025185298966, 9.538321320832905, 9.339677672418917, 8.900655421505942, 8.746619476309002, 8.4957608547727, 8.265806638773581, 8.190469632069574, 8.049395108916498, 7.888218535701682, 7.80318372262052, 7.795544799719806, 7.789252567898024, 7.607475649738631, 7.5272947755498665, 7.625786907603531, 7.39197486288685, 7.344391298507137, 7.195457240666914, 7.370578876738588, 7.367487913774305, 7.09671236424053, 6.797019885004439, 6.797019885004439, 15.780873286674057, 17.608862549069986, 14.461575477347106, 17.716060693643527, 23.781856577830034, 14.692553140198944, 16.048248057560862, 24.714482353983225, 15.036779465662711, 46.77456369358704, 15.849327205641309, 20.391682643514574, 15.056272914948396, 24.75714100002621, 16.515322535891496, 21.727437132927857, 20.335209862914073, 10.282564774186353, 15.610417110294632, 18.51627911230548, 20.898521916759183, 13.688824185277923, 22.588467670111307, 20.625398770063242, 19.82461059748328, 22.857149805628154, 15.843108830808898, 15.791959508533228, 16.865452624596585, 17.1042159651462, 15.578026504137652, 15.037326199220397, 14.967295385570978, 3.8450653767180003, 2.4424575942067963, 1.4405898406536266, 1.4405898406536266, 1.24021484419084, 1.039838577810622, 0.9962613611513006, 0.8394597715955412, 0.8394597715955412, 0.8394597715955412, 0.8394597715955412, 0.6390757391818002, 0.6390757391818002, 0.6390757391818002, 0.6390757391818002, 0.6390757391818002, 0.6390757391818002, 0.6390757391818002, 0.6390757391818002, 0.6390757391818002, 0.6390757391818002, 0.6390757391818002, 0.4941012814087194, 0.4941012814087194, 0.4943717738216128, 0.4386766631307946, 0.4386766631307946, 0.4386766631307946, 0.4386766631307946, 0.4386766631307946, 1.8408967300815893, 0.9930928194739409, 0.6292849200004103, 0.32856263082074977, 0.18336270419559947, 0.14111483652524132, 0.09886526072683004, 0.09886526072683004, 0.09886526072683004, 0.09886526072683004, 0.05652081722014682, 0.05652081722014682, 0.05652081722014682, 0.05652081722014682, 0.05652081722014682, 0.05652081722014682, 0.05652081722014682, 0.05652081722014682, 0.05652081722014682, 0.05652081722014682, 0.05652081722014682, 0.05652081722014682, 0.05652081722014682, 0.05652081722014682, 0.05652081722014682, 0.05652081722014682, 0.05652081722014682, 0.05652081722014682, 0.05652081722014682, 0.05652081722014682, 0.05652081722014682, 0.05652081722014682, 0.05652081722014682, 0.09572264986886032, 0.1395692627133504, 0.0922971322609533, 0.06897358394942958, 0.05652081722014682, 0.05652081722014682, 0.05652081722014682, 0.05652081722014682, 0.05652081722014682, 0.05652081722014682, 0.05652081722014682, 0.05652081722014682, 0.05652081722014682, 0.05652081722014682, 0.05652081722014682, 1.6558918202027653, 0.3167736691604007, 0.29922139542234555, 0.17125299030755817, 0.15543069960491498, 0.13336598890431028, 0.11739068308690427, 0.11477224851112923, 0.09342937098014045, 0.0805112520771393, 0.08011089408226622, 0.07973154052440651, 0.07905608808923915, 0.051671528949314816, 0.051671528949314816, 0.051671528949314816, 0.051671528949314816, 0.051671528949314816, 0.051671528949314816, 0.040931784167742104, 0.040931784167742104, 0.040931784167742104, 0.040931781299067285, 0.04093177269304283, 0.04093177269304283, 0.04093177269304283, 0.04093177269304283, 0.04086880241212497, 0.04086880241212497, 0.04086880241212497, 0.04093136247254393, 0.040889181478028135, 0.0055755833936360424, 0.0008962110832626235, 0.0008962110832626235, 0.0008962110832626235, 0.0008962110832626235, 0.0008962110832626235, 0.0008962110832626235, 0.0008962110832626235, 0.0008962110832626235, 0.0008962110832626235, 0.0008962110832626235, 0.0008962110832626235, 0.0008962110832626235, 0.0008962110832626235, 0.0008962110832626235, 0.0008962110832626235, 0.0008962110832626235, 0.0008962110832626235, 0.0008962110832626235, 0.0008962110832626235, 0.0008962110832626235, 0.0008962110832626235, 0.0008962110832626235, 0.0008962110832626235, 0.0008962110832626235, 0.0008962110832626235, 0.0008962110832626235, 0.0008962110832626235, 0.0008962110832626235, 0.0008962110832626235, 0.0008973396975026846, 0.0008972559403800205, 0.0008972379883020407, 0.0008972318118636362, 0.00089722967608587, 0.0008972248850168273, 0.0008972248850168273, 0.0008972224028967208, 0.000897219747605444, 0.0008972138597856565, 0.0008972125898637415, 0.0008972099922961882, 0.0008972082028607625, 0.0008972070483862944, 0.0008972060670829965, 0.0008972034695154432, 0.0008972021995935282, 0.0008971991402361876, 0.0008971953881941661, 0.0008970970846932033, 0.0008970491162790518, 0.0008969338420034073, 0.0008968685564722335, 0.0008968606483221268, 0.0008968605328746799, 0.0008965798801314732, 0.0008965045506724266, 0.0008964742457176377, 0.0008964261618560394, 0.0006728938620944678, 0.0006728938620944678, 0.0006728938620944678, 0.0006728938620944678, 0.0006728938620944678, 0.0006728938620944678, 0.0006728938620944678, 0.0006728938620944678, 0.0006728938620944678, 0.0006728938620944678, 0.0006728938620944678, 0.0006728938620944678, 0.0006728938620944678, 0.0006728938620944678, 0.0006728938620944678, 0.0006728938620944678, 0.0006728938620944678, 0.0006728938620944678, 0.0006728938620944678, 0.0006728938620944678, 0.0006728938620944678, 0.0006728938620944678, 0.0006728938620944678, 0.0006728938620944678, 0.0006728938620944678, 0.0006728938620944678, 0.0006728938620944678, 0.0006728938620944678, 0.0006728938620944678, 0.0006728938620944678, 0.0006728940353522523, 0.0006728940353522523, 0.0006728940353522523, 0.0006728939487233601, 0.0006728939487233601, 0.0006728939487233601, 0.0006728939487233601, 0.0006728939487233601, 0.0006728939487233601, 0.0006728939487233601, 0.0006728939487233601, 0.0006728939487233601, 0.0006728939487233601, 0.0006728939487233601, 0.0006728939487233601, 0.0006728939487233601, 0.0006728939487233601, 0.0006728939487233601, 0.0006728939487233601, 0.0006728938620944678, 0.0006728938620944678, 0.0006728938620944678, 0.0006728938620944678, 0.0006728938620944678, 0.0006728938620944678, 0.0006728938620944678, 0.0006728938620944678, 0.0006728938620944678, 0.0006728938620944678, 0.0006728938620944678], \"Total\": [2463.0, 803.0, 752.0, 206.0, 1057.0, 279.0, 418.0, 955.0, 347.0, 209.0, 237.0, 247.0, 1327.0, 1248.0, 818.0, 958.0, 293.0, 507.0, 874.0, 203.0, 184.0, 133.0, 136.0, 1025.0, 349.0, 191.0, 330.0, 143.0, 397.0, 135.0, 507.8962374950178, 1057.3858956466254, 173.37473295930656, 134.59872355093557, 122.93190317545029, 150.29407784242503, 154.7291365524763, 117.00067825034257, 115.2949825737182, 115.08662088087682, 269.16514679372426, 98.84655807263066, 97.89865551027756, 86.57864035507035, 83.5841668699743, 83.42545315969093, 80.2511361144913, 80.18822603876254, 76.34873471135793, 112.10617978709318, 75.3778826530813, 69.7412138584396, 69.22465358014071, 67.62091753220426, 67.04000238051694, 65.47947774742953, 62.22285291062704, 60.872190746122314, 58.77828255390558, 56.757811526279504, 955.5847631376333, 2463.0395475877312, 818.569764340154, 397.9877201917713, 958.9441383499985, 874.2899885525908, 279.9310507796469, 127.43140626347946, 1025.193567351083, 669.1131314546305, 98.60451124149017, 1003.3211921732438, 1935.875217268507, 246.8757372652635, 555.093245504045, 984.4769699615092, 265.63035828864713, 211.50559120963743, 492.3973948346944, 3038.7486604144856, 950.2898958557489, 746.3713718201737, 883.4064807631112, 656.1360510084852, 721.1565087560651, 2129.841393300131, 1012.3729332777743, 566.7684253489244, 359.0963393132884, 577.4337073457352, 510.01832769789416, 665.5680169120076, 481.9156276415171, 966.0566411063712, 659.3718480726828, 1327.3134397002125, 1248.4470761260516, 621.1577439809467, 64.8792103610692, 44.52398479614897, 44.9701371677209, 40.958567210116215, 39.14087040291763, 38.0437327509252, 35.73372322286086, 35.701915679330845, 53.010697012890304, 33.36219711283583, 33.27059499573698, 32.96680494761775, 32.87369097315164, 51.1976538498959, 31.489019686645143, 31.355382446040604, 30.740466062164305, 30.090262571296662, 29.108999448668467, 29.91325535242635, 41.08278652055065, 27.816971645593444, 27.855737462530854, 26.918042060279785, 31.32469824604792, 30.291068854984992, 24.957358623494734, 24.2642410918191, 23.99185084043877, 23.58239955114567, 47.19014502746319, 73.86135763664846, 128.12350038314995, 45.41708417074567, 54.91769741408486, 57.471058795751155, 70.05207322783215, 188.62211629859044, 79.74261406239671, 803.4272594510902, 752.0604129496708, 124.1480164024984, 102.74925615914321, 106.85306968756707, 48.000833467224346, 203.6118674577801, 44.43641091470481, 189.10478749635396, 62.14343180607, 85.90643558769641, 191.2277771299225, 166.68968957351237, 1248.4470761260516, 1327.3134397002125, 431.01267055605945, 115.91225418154848, 287.7431829751127, 215.50609089778015, 187.1610695043448, 90.7925716689617, 101.12795192786457, 630.404550040271, 217.8587237191439, 2129.841393300131, 3038.7486604144856, 279.1527939999834, 201.84647702654073, 966.0566411063712, 570.9510441275042, 418.89029971614974, 234.2834193702703, 621.1577439809467, 240.9233564796456, 659.3718480726828, 1012.3729332777743, 1935.875217268507, 512.1780255609866, 23.799542994759257, 14.859375741302399, 13.858402328483507, 11.497831477167615, 10.794865398461981, 10.313263818882634, 10.10421375178724, 9.901335420510163, 9.702741013404411, 9.263648399895528, 9.109789763707994, 8.858715043480581, 8.629020035934975, 8.553729874894294, 8.412329607469168, 8.251171529842406, 8.16620974387647, 8.158733562137957, 8.152214681838807, 7.97039174803191, 7.89045238780639, 7.999262361763281, 7.755459230036339, 7.707261244050505, 7.558801961391352, 7.744517600252034, 7.741685418569938, 7.459650604667249, 7.159861768148388, 7.159861768148388, 17.069788420675874, 22.905977775520775, 20.475934629520676, 27.91895330746781, 43.18495823975998, 21.39642752796701, 26.532053786588392, 58.509136623350955, 26.64177384887685, 206.55871203661457, 30.913660758928263, 52.018429234079406, 30.680586038769945, 90.18389041394131, 41.011763005240276, 77.39965349525943, 91.32374507266753, 15.532349099702369, 50.226001142088805, 84.01840838734792, 136.42744378683258, 38.649197999167626, 237.01273872266287, 247.99642056264537, 209.49808218679888, 418.89029971614974, 83.36716735546574, 86.26488796772887, 203.6118674577801, 347.51008384817936, 133.15670927873006, 90.87304028104586, 143.94830719428367, 4.273633272903743, 2.8710255088485024, 1.86915780143524, 1.86915780143524, 1.6687828576775454, 1.4684066097532902, 1.4257366641718647, 1.268027849678116, 1.268027849678116, 1.268027849678116, 1.268027849678116, 1.0676439003162073, 1.0676439003162073, 1.0676439003162073, 1.0676439003162073, 1.0676439003162073, 1.0676439003162073, 1.0676439003162073, 1.0676439003162073, 1.0676439003162073, 1.0676439003162073, 1.0676439003162073, 0.9232609005764343, 0.9232609005764343, 0.9246999126224278, 0.8672450430739583, 0.8672450430739583, 0.8672450430739583, 0.8672450430739583, 0.8672450430739583, 6.867109125953541, 279.5092286090535, 70.05207322783215, 0.7808689525625476, 0.6355495865383091, 0.6290765197302916, 0.5510901632066855, 0.5510901632066855, 0.5510901632066855, 0.5510901632066855, 0.5088477143841952, 0.5088477143841952, 0.5088477143841952, 0.5088477143841952, 0.5088477143841952, 0.5088477143841952, 0.5088477143841952, 0.5088477143841952, 0.5088477143841952, 0.5088477143841952, 0.5088477143841952, 0.5088477143841952, 0.5088477143841952, 0.5088477143841952, 0.5088477143841952, 0.5088477143841952, 0.5088477143841952, 0.5088477143841952, 0.508847730177362, 0.508847730177362, 0.508847730177362, 0.508847730177362, 0.508847730177362, 1.0123816804096708, 2.1386412270532733, 1.2136070704234347, 1.129033789293114, 0.5088477451645758, 0.5088477451645758, 0.508847730177362, 0.508847730177362, 0.5088477451645758, 0.508847730177362, 0.5088477451645758, 0.5088477451645758, 0.5088477451645758, 0.5088477451645758, 0.508847730177362, 2.120746008587829, 0.7754833219772849, 0.7560336191319291, 0.6278887035374697, 0.6131924926004191, 0.5895153389331157, 0.5770011975637578, 0.5719361949945384, 0.5522642688446913, 0.5378009196461638, 0.5373222963651154, 0.5376481341861578, 0.5365177943905699, 0.5078171324882971, 0.5078171324882971, 0.5078171324882971, 0.5078171324882971, 0.5078171324882971, 0.5078171324882971, 0.49716932459746865, 0.49716935618380215, 0.49716935618380215, 0.4971693533151273, 0.49716934470910285, 0.49716934470910285, 0.49716934470910285, 0.49716934470910285, 0.4971526930802543, 0.4971526930802543, 0.4971526930802543, 0.7849704871643054, 0.548358358995716, 0.4762453933792809, 0.49512553245005086, 0.49512553245005086, 0.49512553245005086, 0.49512553245005086, 0.49512553245005086, 0.49512553245005086, 0.49512553245005086, 0.49512553245005086, 0.49512553245005086, 0.49518350828644164, 0.49527838310438693, 0.49529782963645363, 0.49533281718207917, 0.4953424129008072, 0.4953956391208024, 0.49542018970586693, 0.49542018970586693, 0.49542018970586693, 0.49542449957703905, 0.49544424452945934, 0.49544424452945934, 0.49544424452945934, 0.49544424452945934, 0.49544424452945934, 0.49544424452945934, 0.4956238825852354, 0.4956238825852354, 0.4956238825852354, 0.4956238825852354, 0.8915931408805652, 0.8935142046890693, 0.8939362518561822, 0.8940641794671412, 0.8941115347948394, 0.8942151309744073, 0.8942132003056731, 0.8942733211241447, 0.8943372676181907, 0.8944633372496824, 0.894496456178816, 0.8945549713044226, 0.8945919602794923, 0.8946263874941183, 0.8946426083906553, 0.8947053546617514, 0.8947352439800869, 0.8947955721952853, 0.894879537635222, 1.2513352593621907, 0.997968966564893, 1.2264951778275244, 1.3590536797563082, 1.4073563523879022, 1.4076047728308916, 1.8567788141653685, 1.337133660943013, 1.9729597929941292, 1.5200429045309622, 0.4762453933792809, 0.49512553245005086, 0.49512553245005086, 0.49512553245005086, 0.49512553245005086, 0.49512553245005086, 0.49512553245005086, 0.49512553245005086, 0.49512553245005086, 0.49512553245005086, 0.49518350828644164, 0.49527838310438693, 0.49529782963645363, 0.49533281718207917, 0.4953424129008072, 0.4953956391208024, 0.49542018970586693, 0.49542018970586693, 0.49542018970586693, 0.49542449957703905, 0.49544424452945934, 0.49544424452945934, 0.49544424452945934, 0.49544424452945934, 0.49544424452945934, 0.49544424452945934, 0.4956238825852354, 0.4956238825852354, 0.4956238825852354, 0.4956238825852354, 3038.7486604144856, 1327.3134397002125, 2129.841393300131, 1003.3211921732438, 2463.0395475877312, 984.4769699615092, 669.1131314546305, 659.3718480726828, 883.4064807631112, 1025.193567351083, 1248.4470761260516, 1012.3729332777743, 656.1360510084852, 966.0566411063712, 1935.875217268507, 1057.3858956466254, 950.2898958557489, 874.2899885525908, 1.164582048047447, 349.8893493572424, 1.6008608346670485, 20.071821760652178, 50.02822358274148, 0.7561788750005648, 93.94742129175292, 10.29176678607797, 3.307187896783894, 0.7564135279289201, 0.7563006629976119, 21.807253179740048], \"Category\": [\"Default\", \"Default\", \"Default\", \"Default\", \"Default\", \"Default\", \"Default\", \"Default\", \"Default\", \"Default\", \"Default\", \"Default\", \"Default\", \"Default\", \"Default\", \"Default\", \"Default\", \"Default\", \"Default\", \"Default\", \"Default\", \"Default\", \"Default\", \"Default\", \"Default\", \"Default\", \"Default\", \"Default\", \"Default\", \"Default\", \"Topic1\", \"Topic1\", \"Topic1\", \"Topic1\", \"Topic1\", \"Topic1\", \"Topic1\", \"Topic1\", \"Topic1\", \"Topic1\", \"Topic1\", \"Topic1\", \"Topic1\", \"Topic1\", \"Topic1\", \"Topic1\", \"Topic1\", \"Topic1\", \"Topic1\", \"Topic1\", \"Topic1\", \"Topic1\", \"Topic1\", \"Topic1\", \"Topic1\", \"Topic1\", \"Topic1\", \"Topic1\", \"Topic1\", \"Topic1\", \"Topic1\", \"Topic1\", \"Topic1\", \"Topic1\", \"Topic1\", \"Topic1\", \"Topic1\", \"Topic1\", \"Topic1\", \"Topic1\", \"Topic1\", \"Topic1\", \"Topic1\", \"Topic1\", \"Topic1\", \"Topic1\", \"Topic1\", \"Topic1\", \"Topic1\", \"Topic1\", \"Topic1\", \"Topic1\", \"Topic1\", \"Topic1\", \"Topic1\", \"Topic1\", \"Topic1\", \"Topic1\", \"Topic1\", \"Topic1\", \"Topic1\", \"Topic1\", \"Topic1\", \"Topic1\", \"Topic1\", \"Topic1\", \"Topic1\", \"Topic1\", \"Topic2\", \"Topic2\", \"Topic2\", \"Topic2\", \"Topic2\", \"Topic2\", \"Topic2\", \"Topic2\", \"Topic2\", \"Topic2\", \"Topic2\", \"Topic2\", \"Topic2\", \"Topic2\", \"Topic2\", \"Topic2\", \"Topic2\", \"Topic2\", \"Topic2\", \"Topic2\", \"Topic2\", \"Topic2\", \"Topic2\", \"Topic2\", \"Topic2\", \"Topic2\", \"Topic2\", \"Topic2\", \"Topic2\", \"Topic2\", \"Topic2\", \"Topic2\", \"Topic2\", \"Topic2\", \"Topic2\", \"Topic2\", \"Topic2\", \"Topic2\", \"Topic2\", \"Topic2\", \"Topic2\", \"Topic2\", \"Topic2\", \"Topic2\", \"Topic2\", \"Topic2\", \"Topic2\", \"Topic2\", \"Topic2\", \"Topic2\", \"Topic2\", \"Topic2\", \"Topic2\", \"Topic2\", \"Topic2\", \"Topic2\", \"Topic2\", \"Topic2\", \"Topic2\", \"Topic2\", \"Topic2\", \"Topic2\", \"Topic2\", \"Topic2\", \"Topic2\", \"Topic2\", \"Topic2\", \"Topic2\", \"Topic2\", \"Topic2\", \"Topic2\", \"Topic2\", \"Topic2\", \"Topic2\", \"Topic2\", \"Topic2\", \"Topic2\", \"Topic3\", \"Topic3\", \"Topic3\", \"Topic3\", \"Topic3\", \"Topic3\", \"Topic3\", \"Topic3\", \"Topic3\", \"Topic3\", \"Topic3\", \"Topic3\", \"Topic3\", \"Topic3\", \"Topic3\", \"Topic3\", \"Topic3\", \"Topic3\", \"Topic3\", \"Topic3\", \"Topic3\", \"Topic3\", \"Topic3\", \"Topic3\", \"Topic3\", \"Topic3\", \"Topic3\", \"Topic3\", \"Topic3\", \"Topic3\", \"Topic3\", \"Topic3\", \"Topic3\", \"Topic3\", \"Topic3\", \"Topic3\", \"Topic3\", \"Topic3\", \"Topic3\", \"Topic3\", \"Topic3\", \"Topic3\", \"Topic3\", \"Topic3\", \"Topic3\", \"Topic3\", \"Topic3\", \"Topic3\", \"Topic3\", \"Topic3\", \"Topic3\", \"Topic3\", \"Topic3\", \"Topic3\", \"Topic3\", \"Topic3\", \"Topic3\", \"Topic3\", \"Topic3\", \"Topic3\", \"Topic3\", \"Topic3\", \"Topic3\", \"Topic4\", \"Topic4\", \"Topic4\", \"Topic4\", \"Topic4\", \"Topic4\", \"Topic4\", \"Topic4\", \"Topic4\", \"Topic4\", \"Topic4\", \"Topic4\", \"Topic4\", \"Topic4\", \"Topic4\", \"Topic4\", \"Topic4\", \"Topic4\", \"Topic4\", \"Topic4\", \"Topic4\", \"Topic4\", \"Topic4\", \"Topic4\", \"Topic4\", \"Topic4\", \"Topic4\", \"Topic4\", \"Topic4\", \"Topic4\", \"Topic4\", \"Topic4\", \"Topic4\", \"Topic5\", \"Topic5\", \"Topic5\", \"Topic5\", \"Topic5\", \"Topic5\", \"Topic5\", \"Topic5\", \"Topic5\", \"Topic5\", \"Topic5\", \"Topic5\", \"Topic5\", \"Topic5\", \"Topic5\", \"Topic5\", \"Topic5\", \"Topic5\", \"Topic5\", \"Topic5\", \"Topic5\", \"Topic5\", \"Topic5\", \"Topic5\", \"Topic5\", \"Topic5\", \"Topic5\", \"Topic5\", \"Topic5\", \"Topic5\", \"Topic5\", \"Topic5\", \"Topic5\", \"Topic5\", \"Topic5\", \"Topic5\", \"Topic5\", \"Topic5\", \"Topic5\", \"Topic5\", \"Topic5\", \"Topic5\", \"Topic5\", \"Topic5\", \"Topic5\", \"Topic6\", \"Topic6\", \"Topic6\", \"Topic6\", \"Topic6\", \"Topic6\", \"Topic6\", \"Topic6\", \"Topic6\", \"Topic6\", \"Topic6\", \"Topic6\", \"Topic6\", \"Topic6\", \"Topic6\", \"Topic6\", \"Topic6\", \"Topic6\", \"Topic6\", \"Topic6\", \"Topic6\", \"Topic6\", \"Topic6\", \"Topic6\", \"Topic6\", \"Topic6\", \"Topic6\", \"Topic6\", \"Topic6\", \"Topic6\", \"Topic6\", \"Topic6\", \"Topic7\", \"Topic7\", \"Topic7\", \"Topic7\", \"Topic7\", \"Topic7\", \"Topic7\", \"Topic7\", \"Topic7\", \"Topic7\", \"Topic7\", \"Topic7\", \"Topic7\", \"Topic7\", \"Topic7\", \"Topic7\", \"Topic7\", \"Topic7\", \"Topic7\", \"Topic7\", \"Topic7\", \"Topic7\", \"Topic7\", \"Topic7\", \"Topic7\", \"Topic7\", \"Topic7\", \"Topic7\", \"Topic7\", \"Topic7\", \"Topic7\", \"Topic7\", \"Topic7\", \"Topic7\", \"Topic7\", \"Topic7\", \"Topic7\", \"Topic7\", \"Topic7\", \"Topic7\", \"Topic7\", \"Topic7\", \"Topic7\", \"Topic7\", \"Topic7\", \"Topic7\", \"Topic7\", \"Topic7\", \"Topic7\", \"Topic7\", \"Topic7\", \"Topic7\", \"Topic7\", \"Topic7\", \"Topic7\", \"Topic7\", \"Topic7\", \"Topic7\", \"Topic7\", \"Topic8\", \"Topic8\", \"Topic8\", \"Topic8\", \"Topic8\", \"Topic8\", \"Topic8\", \"Topic8\", \"Topic8\", \"Topic8\", \"Topic8\", \"Topic8\", \"Topic8\", \"Topic8\", \"Topic8\", \"Topic8\", \"Topic8\", \"Topic8\", \"Topic8\", \"Topic8\", \"Topic8\", \"Topic8\", \"Topic8\", \"Topic8\", \"Topic8\", \"Topic8\", \"Topic8\", \"Topic8\", \"Topic8\", \"Topic8\", \"Topic8\", \"Topic8\", \"Topic8\", \"Topic8\", \"Topic8\", \"Topic8\", \"Topic8\", \"Topic8\", \"Topic8\", \"Topic8\", \"Topic8\", \"Topic8\", \"Topic8\", \"Topic8\", \"Topic8\", \"Topic8\", \"Topic8\", \"Topic8\", \"Topic8\", \"Topic8\", \"Topic8\", \"Topic8\", \"Topic8\", \"Topic8\", \"Topic8\", \"Topic8\", \"Topic8\", \"Topic8\", \"Topic8\", \"Topic8\"], \"logprob\": [30.0, 29.0, 28.0, 27.0, 26.0, 25.0, 24.0, 23.0, 22.0, 21.0, 20.0, 19.0, 18.0, 17.0, 16.0, 15.0, 14.0, 13.0, 12.0, 11.0, 10.0, 9.0, 8.0, 7.0, 6.0, 5.0, 4.0, 3.0, 2.0, 1.0, -5.0747, -4.3421, -6.1507, -6.4044, -6.4953, -6.2944, -6.2654, -6.5449, -6.5598, -6.5618, -5.7122, -6.714, -6.7237, -6.847, -6.8824, -6.8843, -6.9232, -6.924, -6.9733, -6.5892, -6.9862, -7.0642, -7.0717, -7.0952, -7.1039, -7.1276, -7.1788, -7.2009, -7.2361, -7.2713, -4.4526, -3.5178, -4.6087, -5.3257, -4.4583, -4.5529, -5.681, -6.4664, -4.4091, -4.8371, -6.7215, -4.4582, -3.8242, -5.8263, -5.041, -4.4907, -5.7612, -5.984, -5.1757, -3.4484, -4.5657, -4.793, -4.6394, -4.9327, -4.8497, -3.8562, -4.5518, -5.0912, -5.5039, -5.079, -5.1928, -4.9697, -5.2525, -4.7084, -5.0527, -4.6322, -4.7272, -5.156, -6.2876, -6.6663, -6.6565, -6.7504, -6.7963, -6.8248, -6.888, -6.8889, -6.4936, -6.9573, -6.96, -6.9693, -6.9722, -6.5295, -7.0156, -7.0199, -7.0399, -7.0615, -7.095, -7.068, -6.7508, -7.1409, -7.1395, -7.1742, -7.023, -7.0568, -7.2507, -7.2792, -7.2907, -7.3081, -6.6172, -6.1779, -5.6468, -6.6634, -6.4778, -6.4396, -6.2623, -5.3601, -6.1602, -4.0698, -4.1652, -5.7934, -5.9652, -5.9609, -6.6611, -5.4833, -6.7278, -5.5787, -6.4605, -6.2084, -5.5941, -5.7047, -4.1936, -4.1885, -5.0503, -6.0174, -5.3749, -5.5817, -5.7257, -6.2084, -6.1415, -5.0652, -5.7063, -4.4579, -4.3295, -5.6185, -5.7965, -5.0065, -5.2962, -5.4838, -5.7798, -5.4244, -5.7823, -5.5113, -5.4064, -5.3597, -5.6433, -5.1692, -5.6496, -5.7212, -5.9152, -5.9787, -6.026, -6.0472, -6.0682, -6.0893, -6.1374, -6.1549, -6.184, -6.2114, -6.2206, -6.2379, -6.2582, -6.269, -6.27, -6.2708, -6.2944, -6.305, -6.292, -6.3231, -6.3296, -6.3501, -6.326, -6.3264, -6.3639, -6.407, -6.407, -5.5647, -5.4551, -5.652, -5.4491, -5.1546, -5.6362, -5.5479, -5.1161, -5.613, -4.4782, -5.5604, -5.3084, -5.6117, -5.1144, -5.5192, -5.2449, -5.3112, -5.9931, -5.5756, -5.4049, -5.2838, -5.7069, -5.2061, -5.297, -5.3366, -5.1943, -5.5608, -5.564, -5.4983, -5.4842, -5.5777, -5.613, -5.6177, -4.6924, -5.1462, -5.6741, -5.6741, -5.8239, -6.0001, -6.0429, -6.2142, -6.2142, -6.2142, -6.2142, -6.4869, -6.4869, -6.4869, -6.4869, -6.4869, -6.4869, -6.4869, -6.4869, -6.4869, -6.4869, -6.4869, -6.7442, -6.7442, -6.7437, -6.8632, -6.8632, -6.8632, -6.8632, -6.8632, -5.4289, -6.0461, -6.5024, -6.0154, -6.5987, -6.8606, -7.2164, -7.2164, -7.2164, -7.2164, -7.7755, -7.7755, -7.7755, -7.7755, -7.7755, -7.7755, -7.7755, -7.7755, -7.7755, -7.7755, -7.7755, -7.7755, -7.7755, -7.7755, -7.7755, -7.7755, -7.7755, -7.7755, -7.7755, -7.7755, -7.7755, -7.7755, -7.7755, -7.2487, -6.8716, -7.2851, -7.5764, -7.7755, -7.7755, -7.7755, -7.7755, -7.7755, -7.7755, -7.7755, -7.7755, -7.7755, -7.7755, -7.7755, -4.0864, -5.7403, -5.7973, -6.3553, -6.4523, -6.6054, -6.733, -6.7555, -6.9613, -7.1101, -7.1151, -7.1198, -7.1283, -7.5536, -7.5536, -7.5536, -7.5536, -7.5536, -7.5536, -7.7866, -7.7866, -7.7866, -7.7866, -7.7866, -7.7866, -7.7866, -7.7866, -7.7881, -7.7881, -7.7881, -7.7866, -7.7876, -7.2605, -9.0884, -9.0884, -9.0884, -9.0884, -9.0884, -9.0884, -9.0884, -9.0884, -9.0884, -9.0884, -9.0884, -9.0884, -9.0884, -9.0884, -9.0884, -9.0884, -9.0884, -9.0884, -9.0884, -9.0884, -9.0884, -9.0884, -9.0884, -9.0884, -9.0884, -9.0884, -9.0884, -9.0884, -9.0884, -9.0872, -9.0873, -9.0873, -9.0873, -9.0873, -9.0873, -9.0873, -9.0873, -9.0873, -9.0873, -9.0873, -9.0873, -9.0873, -9.0873, -9.0873, -9.0873, -9.0873, -9.0873, -9.0873, -9.0874, -9.0875, -9.0876, -9.0877, -9.0877, -9.0877, -9.088, -9.0881, -9.0881, -9.0882, -9.0878, -9.0878, -9.0878, -9.0878, -9.0878, -9.0878, -9.0878, -9.0878, -9.0878, -9.0878, -9.0878, -9.0878, -9.0878, -9.0878, -9.0878, -9.0878, -9.0878, -9.0878, -9.0878, -9.0878, -9.0878, -9.0878, -9.0878, -9.0878, -9.0878, -9.0878, -9.0878, -9.0878, -9.0878, -9.0878, -9.0878, -9.0878, -9.0878, -9.0878, -9.0878, -9.0878, -9.0878, -9.0878, -9.0878, -9.0878, -9.0878, -9.0878, -9.0878, -9.0878, -9.0878, -9.0878, -9.0878, -9.0878, -9.0878, -9.0878, -9.0878, -9.0878, -9.0878, -9.0878, -9.0878, -9.0878, -9.0878, -9.0878, -9.0878, -9.0878], \"loglift\": [30.0, 29.0, 28.0, 27.0, 26.0, 25.0, 24.0, 23.0, 22.0, 21.0, 20.0, 19.0, 18.0, 17.0, 16.0, 15.0, 14.0, 13.0, 12.0, 11.0, 10.0, 9.0, 8.0, 7.0, 6.0, 5.0, 4.0, 3.0, 2.0, 1.0, 0.3959, 0.3953, 0.3948, 0.3942, 0.394, 0.3939, 0.3939, 0.3939, 0.3937, 0.3935, 0.3934, 0.3933, 0.3933, 0.3929, 0.3927, 0.3927, 0.3926, 0.3926, 0.3924, 0.3923, 0.3923, 0.392, 0.3919, 0.3918, 0.3918, 0.3916, 0.3914, 0.3913, 0.3911, 0.3909, 0.3861, 0.374, 0.3847, 0.3888, 0.3768, 0.3746, 0.3854, 0.387, 0.3592, 0.3579, 0.3884, 0.3316, 0.3084, 0.3657, 0.3408, 0.3182, 0.3577, 0.3627, 0.3259, 0.2334, 0.2785, 0.2927, 0.2777, 0.2818, 0.2704, 0.1809, 0.2291, 0.2698, 0.3134, 0.2633, 0.2737, 0.2306, 0.2706, 0.1194, 0.157, -0.1222, -0.1559, 0.1134, 1.2408, 1.2386, 1.2385, 1.238, 1.2375, 1.2374, 1.2369, 1.2369, 1.2368, 1.2362, 1.2362, 1.2361, 1.2361, 1.2358, 1.2357, 1.2357, 1.2355, 1.2352, 1.2349, 1.2346, 1.2346, 1.2344, 1.2344, 1.234, 1.2336, 1.2333, 1.2331, 1.2327, 1.2326, 1.2324, 1.2296, 1.2208, 1.2012, 1.2217, 1.2173, 1.2101, 1.1894, 1.1011, 1.1619, 0.9423, 0.913, 1.0861, 1.1034, 1.0685, 1.1686, 0.9014, 1.1791, 0.88, 1.111, 1.0393, 0.8534, 0.8801, 0.3777, 0.3216, 0.5845, 0.9307, 0.664, 0.7462, 0.7433, 0.9839, 0.9431, 0.1894, 0.6108, -0.4208, -0.6478, 0.4507, 0.5969, -0.1788, 0.0574, 0.1795, 0.4646, -0.1551, 0.4342, -0.3016, -0.6256, -1.2271, -0.181, 3.3621, 3.3527, 3.3509, 3.3435, 3.3432, 3.3415, 3.3408, 3.3401, 3.3393, 3.3375, 3.3367, 3.3356, 3.3344, 3.334, 3.3333, 3.3324, 3.332, 3.3319, 3.3319, 3.3308, 3.3303, 3.3296, 3.3294, 3.3292, 3.3282, 3.3279, 3.3279, 3.3275, 3.3254, 3.3254, 3.2989, 3.1144, 3.0297, 2.9226, 2.7809, 3.0015, 2.8747, 2.5156, 2.8054, 1.8922, 2.7094, 2.441, 2.6656, 2.0847, 2.4679, 2.107, 1.8754, 2.9649, 2.2088, 1.865, 1.5013, 2.3395, 1.0267, 0.8905, 1.0196, 0.4691, 1.7169, 1.6795, 0.8865, 0.366, 1.2318, 1.5785, 1.1138, 5.5561, 5.5001, 5.4013, 5.4013, 5.3649, 5.3166, 5.3033, 5.2493, 5.2493, 5.2493, 5.2493, 5.1486, 5.1486, 5.1486, 5.1486, 5.1486, 5.1486, 5.1486, 5.1486, 5.1486, 5.1486, 5.1486, 5.0366, 5.0366, 5.0356, 4.9802, 4.9802, 4.9802, 4.9802, 4.9802, 4.3453, 0.0218, 0.9493, 5.9329, 5.5555, 5.3039, 5.0804, 5.0804, 5.0804, 5.0804, 4.601, 4.601, 4.601, 4.601, 4.601, 4.601, 4.601, 4.601, 4.601, 4.601, 4.601, 4.601, 4.601, 4.601, 4.601, 4.601, 4.601, 4.601, 4.601, 4.601, 4.601, 4.601, 4.601, 4.4399, 4.0692, 4.2222, 4.0032, 4.601, 4.601, 4.601, 4.601, 4.601, 4.601, 4.601, 4.601, 4.601, 4.601, 4.601, 6.8628, 6.2149, 6.1833, 5.811, 5.7377, 5.624, 5.5179, 5.5041, 5.3334, 5.2111, 5.207, 5.2017, 5.1953, 4.825, 4.825, 4.825, 4.825, 4.825, 4.825, 4.6132, 4.6132, 4.6132, 4.6132, 4.6132, 4.6132, 4.6132, 4.6132, 4.6117, 4.6117, 4.6117, 4.1565, 4.5141, 5.1823, 3.3155, 3.3155, 3.3155, 3.3155, 3.3155, 3.3155, 3.3155, 3.3155, 3.3155, 3.3153, 3.3152, 3.3151, 3.315, 3.315, 3.3149, 3.3149, 3.3149, 3.3149, 3.3149, 3.3148, 3.3148, 3.3148, 3.3148, 3.3148, 3.3148, 3.3145, 3.3145, 3.3145, 3.3145, 2.7285, 2.7263, 2.7258, 2.7256, 2.7256, 2.7255, 2.7255, 2.7254, 2.7253, 2.7252, 2.7251, 2.7251, 2.725, 2.725, 2.725, 2.7249, 2.7249, 2.7248, 2.7247, 2.3893, 2.6155, 2.4092, 2.3065, 2.2715, 2.2714, 1.9941, 2.3223, 1.9333, 2.194, 3.3549, 3.3161, 3.3161, 3.3161, 3.3161, 3.3161, 3.3161, 3.3161, 3.3161, 3.3161, 3.3159, 3.3157, 3.3157, 3.3156, 3.3156, 3.3155, 3.3155, 3.3155, 3.3155, 3.3155, 3.3154, 3.3154, 3.3154, 3.3154, 3.3154, 3.3154, 3.3151, 3.3151, 3.3151, 3.3151, -5.4061, -4.5778, -5.0507, -4.298, -5.196, -4.279, -3.8928, -3.8782, -4.1707, -4.3195, -4.5165, -4.3069, -3.8733, -4.2601, -4.9552, -4.3504, -4.2437, -4.1603, 2.4608, -3.2445, 2.1426, -0.3862, -1.2995, 2.8926, -1.9296, 0.2818, 1.417, 2.8923, 2.8924, -0.4691]}, \"token.table\": {\"Topic\": [1, 1, 2, 2, 3, 3, 1, 2, 3, 1, 2, 3, 2, 1, 3, 1, 3, 1, 1, 2, 3, 1, 2, 3, 1, 2, 3, 1, 2, 1, 2, 3, 1, 2, 3, 2, 1, 2, 3, 1, 2, 4, 1, 2, 3, 3, 1, 2, 1, 2, 1, 1, 3, 2, 2, 1, 2, 1, 2, 3, 1, 2, 1, 2, 3, 2, 2, 1, 2, 3, 1, 3, 1, 2, 1, 2, 2, 4, 1, 4, 2, 2, 1, 2, 3, 2, 2, 2, 1, 3, 1, 2, 3, 3, 1, 2, 1, 2, 3, 2, 2, 2, 1, 2, 3, 6, 2, 1, 2, 3, 4, 1, 2, 1, 2, 1, 1, 2, 4, 1, 2, 3, 3, 4, 2, 3, 3, 1, 2, 4, 1, 2, 2, 2, 1, 2, 1, 2, 3, 1, 1, 2, 3, 2, 3, 2, 2, 3, 1, 2, 1, 1, 2, 3, 1, 2, 3, 1, 1, 2, 1, 2, 1, 2, 1, 2, 2, 3, 1, 2, 1, 2, 1, 2, 2, 1, 2, 1, 2, 3, 1, 1, 2, 1, 2, 2, 2, 1, 2, 3, 1, 2, 1, 1, 2, 3, 2, 3, 1, 2, 1, 2, 3, 3, 1, 1, 2, 3, 3, 3, 2, 1, 2, 2, 3, 1, 2, 2, 1, 2, 1, 3, 2, 2, 1, 2, 3, 2, 1, 2, 3, 1, 1, 2, 3, 1, 2, 1, 2, 4, 1, 2, 4, 2, 1, 2, 3, 1, 1, 2, 4, 4, 2, 1, 2, 3, 1, 2, 4, 1, 2, 3, 3, 1, 2, 2, 4, 1, 2, 4, 4, 1, 2, 1, 2, 2, 1, 2, 3, 1, 3, 2, 3, 2, 1, 2, 4, 1, 2, 3, 2, 1, 2, 1, 2, 3, 2, 2, 1, 2, 3, 4, 3, 1, 1, 2, 1, 2, 2, 3, 2, 1, 2, 1, 2, 1, 3, 3, 2, 2, 1, 3, 1, 2, 1, 1, 2, 3, 1, 3, 4, 1, 2, 3, 2, 1, 2, 3, 4, 1, 2, 1, 1, 1, 2, 3, 1, 2, 3, 3, 1, 1, 2, 3, 4, 2, 1, 1, 2, 2, 1, 1, 2, 3, 3, 1, 1, 2, 1, 2, 3, 1, 2, 4, 2, 2, 2, 1, 2, 3, 1, 2, 3, 1, 2, 3, 1, 2, 3, 4, 3, 1, 2, 3, 1, 2, 1, 2, 1, 1, 2, 3, 1, 2, 1, 2, 3, 3, 2, 1, 2, 3, 1, 2, 4, 4, 2, 1, 2, 1, 2, 3, 4, 1, 2, 3, 1, 2, 1, 2, 1, 2, 1, 2, 2, 2, 1, 2, 3, 1, 2], \"Freq\": [0.7105520917309046, 0.9938693348419965, 0.010141523824918331, 0.2930269171376259, 0.6837294733211271, 0.9041958722850115, 0.2587852685059144, 0.2264371099426751, 0.5175705370118288, 0.8459817383517423, 0.12289599577407068, 0.031438510546855286, 1.1178280650851988, 0.6246639172779704, 1.0037147800138433, 0.44838979278119945, 0.5480319689547993, 1.0771342201569711, 0.03997743387174657, 0.7595712435631848, 0.19988716935873285, 0.7876746267488666, 0.06386551027693513, 0.13837527226669277, 0.8925481495834569, 0.05219579822125479, 0.05219579822125479, 0.9680983747025689, 0.028354345702585698, 0.4951963735429904, 0.3411352795518378, 0.16506545784766347, 0.7104266902909536, 0.9716504666164169, 0.9776725063520703, 0.9759123345538446, 0.9368884135337688, 0.059801388097900136, 0.002990069404895007, 0.9776538108607975, 0.022330132723149446, 0.7013917963460996, 0.38447912200503703, 0.23068747320302221, 0.38447912200503703, 0.9071150758979791, 1.0002042986289759, 1.1184879374051158, 0.9629823539403842, 0.045856302568589725, 0.9351732187243486, 0.9980433171642774, 0.9776725063520703, 1.1184286983049128, 0.9794669248909541, 0.07524207816043178, 0.9154452842852534, 0.4274645144612807, 0.559526722181026, 0.01390128502313108, 0.32422068033493084, 0.6745881897291304, 0.7251368967162091, 0.23869089516908548, 0.03625684483581045, 1.0137054019559288, 0.8239899258753445, 0.08114541344583505, 0.7303087210125154, 0.18547523073333724, 0.4128854205578257, 0.5630255734879441, 0.3067082582513585, 0.6927376177746201, 0.8493627767319036, 0.1507199348094583, 0.7281084235436143, 0.2912433694174457, 0.9954323445872895, 0.5350003082843761, 0.9997982102954107, 1.117785048573223, 0.06751220312906157, 0.9451708438068621, 1.000092213282095, 1.0038422526679927, 1.1181464042790161, 0.9903909348204762, 0.058583034268236425, 0.9373285482917828, 0.37049937413784395, 0.06946863265084574, 0.5557490612067659, 1.0099647749823177, 0.5561934797771297, 0.44412464429964843, 0.027077758438163905, 0.9747993037739007, 0.9030655078907254, 0.9803395513665052, 1.1178742861848048, 1.1176490551011042, 0.5147402652595673, 0.38816479019573924, 0.09704119754893481, 0.9430643706983883, 0.9961393963388363, 0.08731345239221203, 0.13097017858831805, 0.7858210715299083, 0.936641889401351, 0.8745592672816276, 0.12468963810747959, 0.9956712568190815, 0.0037151912567876177, 0.9999942030221302, 0.9883091646466221, 0.01221642972369125, 0.936641889401351, 0.924348692520028, 0.07415104896039786, 0.002031535587956106, 0.9796466476995519, 0.936641889401351, 0.32190880902205643, 0.6438176180441129, 0.9421660939016624, 0.04282528498825471, 0.9421562697416036, 0.014275094996084904, 0.6519622994055877, 0.3473959697562621, 1.0051789164678622, 0.9988504610940382, 1.0015523244345705, 1.117947413980691, 0.21490777014176637, 0.14327184676117757, 0.6447233104252991, 0.9992473418698558, 0.8336042592315002, 0.052569637969554064, 0.12015917250183786, 0.48890852283737485, 0.48890852283737485, 0.984470152087569, 1.001708569290066, 1.0138835654547387, 0.9624680337687658, 0.037362889509657056, 0.9974414968706067, 0.6953310692454787, 0.3047546751856758, 0.9352645123246732, 0.5127404322016097, 0.05127404322016097, 0.42728369350134143, 0.9955517887901143, 0.7871127672754242, 0.21232328982381385, 0.988767241095026, 0.00784735905630973, 0.15909697353297508, 0.842278095174574, 0.257100035196461, 0.7416347169128683, 0.9962554725090885, 0.9082344270350945, 0.47560899458937295, 0.5251515981924326, 0.9866483307600994, 1.0028998732017516, 0.8874736795260534, 0.11206619167484604, 1.1182991266434075, 0.9321739002175135, 0.06701903857772973, 0.8819167438383756, 0.11647956994091754, 0.001386661546915685, 0.9893719392389111, 0.9627450185336528, 0.03706617092632098, 0.9457870443429388, 0.05404497396245365, 0.9964009384189083, 1.0006640591770428, 0.5951872228299215, 0.3970426157359097, 0.007534015478859767, 0.39538136961908177, 0.6037580373913005, 0.9926774347639272, 0.7577920192094609, 0.14714408139989532, 0.09564365290993197, 0.9891434874144881, 0.9696251521939081, 0.06249891477506204, 0.9166507500342432, 0.20627481356757804, 0.7072279322316961, 0.08349218644401968, 0.8586771551876595, 0.99331659225997, 0.3880959208939764, 0.3326536464805512, 0.277211372067126, 0.989686109741215, 0.9275729391897023, 1.117988807763574, 0.03480012447844202, 0.9570034231571554, 0.9753036348195798, 0.9805443380484211, 0.2613802276804426, 0.7380879762595356, 0.9882314038478808, 0.2674436815925088, 0.7333133204955887, 1.0020996328916556, 0.9567021417772379, 1.1215878119165081, 1.117573701830695, 0.5751144872139585, 0.41972143635113407, 0.004805970645241993, 0.8153313751883539, 0.5292734771128884, 0.45671179073450857, 0.012805003478537623, 0.9978385953194546, 0.604383626981998, 0.2917714061292404, 0.10420407361758587, 0.9189734449286499, 0.07797350441818847, 0.9924929337258656, 0.007537921015639485, 0.936641889401351, 0.8455382121176596, 0.15409341248873235, 0.7886262121560232, 0.9918668423040932, 0.41451522086060594, 0.19506598628734395, 0.41451522086060594, 0.9967547171632917, 0.8473964879153207, 0.1532525563251112, 0.936641889401351, 0.5350003082843761, 1.1176863922738631, 0.8804301328056453, 0.11644967688411341, 0.001764389043698688, 0.12652159719643075, 0.8661863192678722, 0.6966151968472585, 0.8575290728259575, 0.09208365882694845, 0.048919443751816366, 0.969559288770815, 0.03902484700345863, 0.9600112362850823, 0.9970002730590073, 0.7886262121560232, 0.2312964553594537, 0.7709881845315123, 0.936641889401351, 0.936641889401351, 0.9994033058010665, 1.0030447214376395, 0.989969740511389, 0.010464796411325465, 1.119176387741912, 0.8171242978443714, 0.13278269839971032, 0.04766558404092166, 0.9952876583640147, 0.9271041168851778, 0.9747797972061633, 0.021190865156655723, 0.9886659827335169, 0.482584420851606, 0.5173861819707122, 0.936641889401351, 0.45901306265300906, 0.5278650220509604, 0.013770391879590272, 0.9891098554939685, 0.9599806349050825, 0.03764629940804245, 0.1507610391632007, 0.2638318185356012, 0.6030441566528028, 0.987769750629367, 1.1183015411293027, 0.5375701705500563, 0.13937004421668125, 0.3185601010667, 0.9359717468883749, 0.9263663446349937, 0.9976526973090595, 0.9779363954692815, 0.021731919899317366, 1.0005539393988925, 1.1174688412728329, 0.9896344333950963, 0.9879481561533527, 1.1182263591884323, 0.9895293831410145, 0.010716924727159, 0.3059577357813023, 0.695903869620217, 0.9867590116606109, 0.9260726813262755, 0.9664051114370004, 1.0003396636472703, 0.9979848854578246, 0.9930110343639239, 0.8857130844827047, 0.7534318046179833, 0.24631424381741765, 1.0010351979727832, 0.8915833828987927, 0.1082092652748962, 0.9715394638792096, 0.28042064462198063, 0.7010516115549515, 0.681010282409456, 0.757719546507833, 0.2401515502593132, 0.0010351359924970396, 1.0010115781069986, 0.18624914292558, 0.8148400002994125, 0.9038652065006858, 0.7886262121560232, 0.02201814621653158, 0.9687984335273895, 0.9908176707021381, 0.7991463458879141, 0.806163315916945, 0.1887464490382131, 0.005164703829403841, 0.2672657628815403, 0.7166977422544788, 0.014626484535805688, 0.9025900069062964, 0.9964184716675217, 0.14394155853747204, 0.6717272731748696, 0.19192207804996272, 0.7886262121560232, 1.0010069235534045, 0.9949001995964404, 0.9802447946732386, 0.019813458615735673, 0.7358061089826193, 0.9949868231929455, 0.4263584978713268, 0.2842389985808845, 0.2842389985808845, 0.9509850865682834, 0.9990528641035237, 0.9153482539542334, 0.08419964187050792, 0.3104850972653673, 0.3363588553708146, 0.36223261347626184, 0.12873444171808004, 0.8689574815970403, 0.936641889401351, 1.0065797368864755, 1.118647999701976, 1.117764781848328, 0.11133371002346734, 0.864161653991675, 0.026508026196063652, 0.6015894857693322, 0.34376542043961844, 0.05490697687577239, 0.3213581466042845, 0.46418398953952206, 0.2261409179807928, 0.8986095551614098, 0.043306484586092035, 0.05954641630587655, 0.5992391373145489, 0.9383817515019187, 0.5906311033657796, 0.1839670649827838, 0.2275382119523905, 0.8818971114921905, 0.11827796554130555, 0.8842819473482662, 0.11568211728059358, 0.9968706223157636, 0.9016958921652592, 0.09780653808033273, 0.0013398155901415442, 0.018209066422794483, 0.9650805204081075, 0.6572675510000969, 0.25806824088347363, 0.08467864153988978, 0.9380590700041077, 0.7478683913280221, 0.8257832157420163, 0.08114632755846403, 0.09546626771584003, 0.8479147582332222, 0.15026337487677355, 0.0035776994018279417, 0.936641889401351, 1.0018617618534285, 0.1449882206868491, 0.8538195218225558, 0.4911035356250409, 0.3591652723227911, 0.15392797385262477, 0.936641889401351, 0.2737513664174324, 0.49275245955137836, 0.21900109313394595, 0.9986893189588293, 0.0009457285217413156, 0.7595015416249649, 0.2401508730587935, 0.888150030512496, 0.11154490904540826, 0.9645135092329633, 0.03309605178740561, 0.6578761671918523, 1.002035166927182, 0.3944204066154102, 0.6078714501955146, 0.9813284257371307, 0.5480869376503862, 0.4513657133591416], \"Term\": [\"abhor\", \"absolutely\", \"absolutely\", \"absurdity\", \"absurdity\", \"acclaim\", \"achieve\", \"achieve\", \"achieve\", \"action\", \"action\", \"action\", \"adamantium\", \"addict\", \"adjective\", \"adult\", \"adult\", \"alll\", \"allow\", \"allow\", \"allow\", \"already\", \"already\", \"already\", \"always\", \"always\", \"always\", \"amazing\", \"amazing\", \"amount\", \"amount\", \"amount\", \"amused\", \"analysis\", \"anatomy\", \"animal\", \"animation\", \"animation\", \"animation\", \"anime\", \"anime\", \"ante\", \"anti_spiral\", \"anti_spiral\", \"anti_spiral\", \"antithesis\", \"art\", \"asskicker\", \"atmosphere\", \"atmosphere\", \"attain\", \"awesome\", \"bacon\", \"badassedness\", \"balance\", \"beastman\", \"beastman\", \"become\", \"become\", \"become\", \"begin\", \"begin\", \"believe\", \"believe\", \"believe\", \"bra\", \"bridge\", \"brother\", \"brother\", \"brother\", \"budget\", \"budget\", \"cast\", \"cast\", \"character\", \"character\", \"com\", \"com\", \"comedy\", \"como\", \"confidence\", \"consensus\", \"constant\", \"constant\", \"contagious\", \"control\", \"costume\", \"courage\", \"darkness\", \"darkness\", \"decision\", \"decision\", \"decision\", \"depict\", \"development\", \"development\", \"dig\", \"dig\", \"digest\", \"discover\", \"distaste\", \"dramataic\", \"drill\", \"drill\", \"drill\", \"dude\", \"dynamic\", \"effort\", \"effort\", \"effort\", \"ele\", \"end\", \"end\", \"enjoy\", \"enjoy\", \"enjoyable\", \"enjoyment\", \"enjoyment\", \"entao\", \"episode\", \"episode\", \"episode\", \"esque\", \"esse\", \"essence\", \"essence\", \"ethic\", \"evangelion\", \"evangelion\", \"evangelion\", \"even\", \"even\", \"exist\", \"expand\", \"explosion\", \"extraordinaire\", \"extreme\", \"extreme\", \"extreme\", \"extremely\", \"fact\", \"fact\", \"fact\", \"famous\", \"famous\", \"fan_service\", \"fault\", \"feed\", \"feel\", \"feel\", \"feeling\", \"fight\", \"fight\", \"figuratively\", \"finally\", \"finally\", \"finally\", \"finish\", \"first\", \"first\", \"fit\", \"fit\", \"follow\", \"follow\", \"force\", \"force\", \"formula\", \"frontier\", \"fun\", \"fun\", \"funny\", \"gain\", \"get\", \"get\", \"giggedy\", \"give\", \"give\", \"go\", \"go\", \"go\", \"gon\", \"good\", \"good\", \"great\", \"great\", \"ground\", \"gunman\", \"gurren\", \"gurren\", \"gurren\", \"half\", \"half\", \"happy\", \"hard\", \"hard\", \"hard\", \"heavily\", \"hint\", \"hole\", \"hole\", \"human\", \"human\", \"human\", \"humbly\", \"hype\", \"idea\", \"idea\", \"idea\", \"ignorance\", \"immensely\", \"indestructive\", \"introduce\", \"introduce\", \"involve\", \"judgement\", \"kamina\", \"kamina\", \"key\", \"kill\", \"kill\", \"kinda\", \"known\", \"lace\", \"lackey\", \"lagann\", \"lagann\", \"lagann\", \"lemme\", \"life\", \"life\", \"life\", \"like\", \"long\", \"long\", \"long\", \"lot\", \"lot\", \"love\", \"love\", \"mais\", \"make\", \"make\", \"mas\", \"massive\", \"mature\", \"mature\", \"mature\", \"maybe\", \"mecha\", \"mecha\", \"mesmo\", \"minha\", \"mua\", \"much\", \"much\", \"much\", \"name\", \"name\", \"nao\", \"never\", \"never\", \"never\", \"nge\", \"nia\", \"nia\", \"nowhere\", \"obra\", \"often\", \"often\", \"onde\", \"os\", \"ost\", \"outside\", \"overall\", \"overall\", \"overdramatic\", \"people\", \"people\", \"people\", \"perfect\", \"perpetual\", \"pilot\", \"pilot\", \"pivotal\", \"plot\", \"plot\", \"porque\", \"power\", \"power\", \"power\", \"premise\", \"pretty\", \"pretty\", \"produce\", \"produce\", \"produce\", \"promote\", \"provider\", \"push\", \"push\", \"push\", \"que\", \"rational\", \"read\", \"really\", \"really\", \"recommend\", \"redshirt\", \"regard\", \"repeatedly\", \"reread\", \"review\", \"review\", \"robot\", \"robot\", \"romance\", \"roshiu\", \"rsquo\", \"rule\", \"sacrifice\", \"sad\", \"sand\", \"say\", \"say\", \"season\", \"see\", \"see\", \"sell\", \"send\", \"send\", \"ser\", \"series\", \"series\", \"series\", \"serve\", \"set\", \"set\", \"settle\", \"seus\", \"sheer\", \"sheer\", \"short\", \"shouting\", \"show\", \"show\", \"show\", \"simon\", \"simon\", \"simon\", \"sloppy\", \"slow\", \"small\", \"small\", \"small\", \"sobre\", \"society\", \"sometimes\", \"sound\", \"sound\", \"spanky\", \"special\", \"spiral\", \"spiral\", \"spiral\", \"stark\", \"stop\", \"story\", \"story\", \"strength\", \"strength\", \"strength\", \"stupid\", \"stupid\", \"sua\", \"subtle\", \"sucidial\", \"suicidally\", \"surface\", \"surface\", \"surface\", \"take\", \"take\", \"take\", \"team\", \"team\", \"team\", \"tell\", \"tell\", \"tell\", \"tem\", \"teppelin\", \"theme\", \"theme\", \"theme\", \"thing\", \"thing\", \"think\", \"think\", \"thought\", \"time\", \"time\", \"time\", \"time_skip\", \"time_skip\", \"top\", \"top\", \"top\", \"trek\", \"trump\", \"try\", \"try\", \"try\", \"ttgl\", \"ttgl\", \"ttgl\", \"tudo\", \"ultimately\", \"underground\", \"underground\", \"universe\", \"universe\", \"universe\", \"vida\", \"viewer\", \"viewer\", \"viewer\", \"watch\", \"watch\", \"way\", \"way\", \"well\", \"well\", \"whole\", \"whole\", \"wipe\", \"wit\", \"world\", \"world\", \"wrapping\", \"yoko\", \"yoko\"]}, \"R\": 30, \"lambda.step\": 0.01, \"plot.opts\": {\"xlab\": \"PC1\", \"ylab\": \"PC2\"}, \"topic.order\": [3, 6, 7, 1, 5, 4, 8, 2]};\n",
       "\n",
       "function LDAvis_load_lib(url, callback){\n",
       "  var s = document.createElement('script');\n",
       "  s.src = url;\n",
       "  s.async = true;\n",
       "  s.onreadystatechange = s.onload = callback;\n",
       "  s.onerror = function(){console.warn(\"failed to load library \" + url);};\n",
       "  document.getElementsByTagName(\"head\")[0].appendChild(s);\n",
       "}\n",
       "\n",
       "if(typeof(LDAvis) !== \"undefined\"){\n",
       "   // already loaded: just create the visualization\n",
       "   !function(LDAvis){\n",
       "       new LDAvis(\"#\" + \"ldavis_el36020783356418563285785907\", ldavis_el36020783356418563285785907_data);\n",
       "   }(LDAvis);\n",
       "}else if(typeof define === \"function\" && define.amd){\n",
       "   // require.js is available: use it to load d3/LDAvis\n",
       "   require.config({paths: {d3: \"https://d3js.org/d3.v5\"}});\n",
       "   require([\"d3\"], function(d3){\n",
       "      window.d3 = d3;\n",
       "      LDAvis_load_lib(\"https://cdn.jsdelivr.net/gh/bmabey/pyLDAvis@3.3.1/pyLDAvis/js/ldavis.v3.0.0.js\", function(){\n",
       "        new LDAvis(\"#\" + \"ldavis_el36020783356418563285785907\", ldavis_el36020783356418563285785907_data);\n",
       "      });\n",
       "    });\n",
       "}else{\n",
       "    // require.js not available: dynamically load d3 & LDAvis\n",
       "    LDAvis_load_lib(\"https://d3js.org/d3.v5.js\", function(){\n",
       "         LDAvis_load_lib(\"https://cdn.jsdelivr.net/gh/bmabey/pyLDAvis@3.3.1/pyLDAvis/js/ldavis.v3.0.0.js\", function(){\n",
       "                 new LDAvis(\"#\" + \"ldavis_el36020783356418563285785907\", ldavis_el36020783356418563285785907_data);\n",
       "            })\n",
       "         });\n",
       "}\n",
       "</script>"
      ],
      "text/plain": [
       "PreparedData(topic_coordinates=              x         y  topics  cluster       Freq\n",
       "topic                                                \n",
       "2      0.339133  0.000182       1        1  67.257330\n",
       "5      0.229997 -0.041430       2        1  28.776777\n",
       "6     -0.048225  0.237927       3        1   3.413531\n",
       "0     -0.121817 -0.058552       4        1   0.347644\n",
       "4     -0.102241 -0.036178       5        1   0.111539\n",
       "3     -0.102960 -0.037576       6        1   0.081672\n",
       "7     -0.096982 -0.032218       7        1   0.006574\n",
       "1     -0.096906 -0.032155       8        1   0.004933, topic_info=           Term         Freq        Total Category  logprob  loglift\n",
       "8         anime  2463.000000  2463.000000  Default  30.0000  30.0000\n",
       "157      kamina   803.000000   803.000000  Default  29.0000  29.0000\n",
       "276       simon   752.000000   752.000000  Default  28.0000  28.0000\n",
       "608       theme   206.000000   206.000000  Default  27.0000  27.0000\n",
       "327       watch  1057.000000  1057.000000  Default  26.0000  26.0000\n",
       "..          ...          ...          ...      ...      ...      ...\n",
       "6      analysis     0.000673    10.291767   Topic8  -9.0878   0.2818\n",
       "9    antithesis     0.000673     3.307188   Topic8  -9.0878   1.4170\n",
       "10   arrogantly     0.000673     0.756414   Topic8  -9.0878   2.8923\n",
       "11         asia     0.000673     0.756301   Topic8  -9.0878   2.8924\n",
       "12   atmosphere     0.000673    21.807253   Topic8  -9.0878  -0.4691\n",
       "\n",
       "[467 rows x 6 columns], token_table=      Topic      Freq        Term\n",
       "term                             \n",
       "3347      1  0.710552       abhor\n",
       "343       1  0.993869  absolutely\n",
       "343       2  0.010142  absolutely\n",
       "652       2  0.293027   absurdity\n",
       "652       3  0.683729   absurdity\n",
       "...     ...       ...         ...\n",
       "647       1  0.394420       world\n",
       "647       2  0.607871       world\n",
       "8460      3  0.981328    wrapping\n",
       "649       1  0.548087        yoko\n",
       "649       2  0.451366        yoko\n",
       "\n",
       "[441 rows x 3 columns], R=30, lambda_step=0.01, plot_opts={'xlab': 'PC1', 'ylab': 'PC2'}, topic_order=[3, 6, 7, 1, 5, 4, 8, 2])"
      ]
     },
     "execution_count": 22,
     "metadata": {},
     "output_type": "execute_result"
    }
   ],
   "source": [
    "# Generate a visualization of the topic models\n",
    "\n",
    "import pyLDAvis.gensim_models\n",
    "pyLDAvis.enable_notebook()\n",
    "vis = pyLDAvis.gensim_models.prepare(lda_model, corpus, id2word)\n",
    "vis"
   ]
  },
  {
   "cell_type": "code",
   "execution_count": 23,
   "metadata": {},
   "outputs": [],
   "source": [
    "# Save the data frame as a CSV file\n",
    "# job_datas.to_csv(r'D:\\UMD Senior College Work\\Spring 2021\\INST447-0101\\Programming Assignment 2\\Chan_Matthew_INST447_PA2.csv')"
   ]
  },
  {
   "cell_type": "code",
   "execution_count": 24,
   "metadata": {},
   "outputs": [],
   "source": [
    "# Week 9 Topic Modelling\n",
    "# ner_corpus = ' '.join(ner_df['Name'])\n",
    "# corp = open(r'D:\\UMD Senior College Work\\Spring 2021\\INST447-0101\\Week 9\\corpus.txt',\"w\")\n",
    "# corp.writelines(ner_corpus)\n",
    "# corp.close()"
   ]
  },
  {
   "cell_type": "code",
   "execution_count": null,
   "metadata": {},
   "outputs": [],
   "source": []
  },
  {
   "cell_type": "code",
   "execution_count": null,
   "metadata": {},
   "outputs": [],
   "source": []
  },
  {
   "cell_type": "code",
   "execution_count": null,
   "metadata": {},
   "outputs": [],
   "source": []
  },
  {
   "cell_type": "code",
   "execution_count": null,
   "metadata": {},
   "outputs": [],
   "source": []
  },
  {
   "cell_type": "code",
   "execution_count": null,
   "metadata": {},
   "outputs": [],
   "source": []
  },
  {
   "cell_type": "code",
   "execution_count": null,
   "metadata": {},
   "outputs": [],
   "source": []
  },
  {
   "cell_type": "code",
   "execution_count": null,
   "metadata": {},
   "outputs": [],
   "source": []
  },
  {
   "cell_type": "code",
   "execution_count": null,
   "metadata": {},
   "outputs": [],
   "source": []
  }
 ],
 "metadata": {
  "kernelspec": {
   "display_name": "Python 3",
   "language": "python",
   "name": "python3"
  },
  "language_info": {
   "codemirror_mode": {
    "name": "ipython",
    "version": 3
   },
   "file_extension": ".py",
   "mimetype": "text/x-python",
   "name": "python",
   "nbconvert_exporter": "python",
   "pygments_lexer": "ipython3",
   "version": "3.8.5"
  }
 },
 "nbformat": 4,
 "nbformat_minor": 4
}
