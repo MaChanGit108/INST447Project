{
 "cells": [
  {
   "cell_type": "markdown",
   "metadata": {},
   "source": [
    "### INST447 Project Part 2\n",
    "#### Members: Alexander Chui and Matthew Chan"
   ]
  },
  {
   "cell_type": "markdown",
   "metadata": {},
   "source": [
    "### What factors affect ratings for an anime?"
   ]
  },
  {
   "cell_type": "code",
   "execution_count": 1,
   "metadata": {},
   "outputs": [],
   "source": [
    "import warnings\n",
    "warnings.filterwarnings('ignore')"
   ]
  },
  {
   "cell_type": "code",
   "execution_count": 2,
   "metadata": {},
   "outputs": [],
   "source": [
    "#Importing the required libraries\n",
    "import pandas as pd\n",
    "from bs4 import BeautifulSoup\n",
    "from urllib.request import urlopen \n",
    "import numpy as np\n",
    "from requests import get"
   ]
  },
  {
   "cell_type": "code",
   "execution_count": 3,
   "metadata": {},
   "outputs": [],
   "source": [
    "#libraries imported for handling rate limits and console formatting\n",
    "from time import time, sleep\n",
    "from random import randint\n",
    "from warnings import warn\n",
    "from IPython.core.display import clear_output"
   ]
  },
  {
   "cell_type": "code",
   "execution_count": 4,
   "metadata": {},
   "outputs": [
    {
     "name": "stderr",
     "output_type": "stream",
     "text": [
      "C:\\Users\\MaNinjaChan\\anaconda3\\lib\\site-packages\\sklearn\\linear_model\\_least_angle.py:34: DeprecationWarning: `np.float` is a deprecated alias for the builtin `float`. To silence this warning, use `float` by itself. Doing this will not modify any behavior and is safe. If you specifically wanted the numpy scalar type, use `np.float64` here.\n",
      "Deprecated in NumPy 1.20; for more details and guidance: https://numpy.org/devdocs/release/1.20.0-notes.html#deprecations\n",
      "  method='lar', copy_X=True, eps=np.finfo(np.float).eps,\n",
      "C:\\Users\\MaNinjaChan\\anaconda3\\lib\\site-packages\\sklearn\\linear_model\\_least_angle.py:164: DeprecationWarning: `np.float` is a deprecated alias for the builtin `float`. To silence this warning, use `float` by itself. Doing this will not modify any behavior and is safe. If you specifically wanted the numpy scalar type, use `np.float64` here.\n",
      "Deprecated in NumPy 1.20; for more details and guidance: https://numpy.org/devdocs/release/1.20.0-notes.html#deprecations\n",
      "  method='lar', copy_X=True, eps=np.finfo(np.float).eps,\n",
      "C:\\Users\\MaNinjaChan\\anaconda3\\lib\\site-packages\\sklearn\\linear_model\\_least_angle.py:281: DeprecationWarning: `np.float` is a deprecated alias for the builtin `float`. To silence this warning, use `float` by itself. Doing this will not modify any behavior and is safe. If you specifically wanted the numpy scalar type, use `np.float64` here.\n",
      "Deprecated in NumPy 1.20; for more details and guidance: https://numpy.org/devdocs/release/1.20.0-notes.html#deprecations\n",
      "  eps=np.finfo(np.float).eps, copy_Gram=True, verbose=0,\n",
      "C:\\Users\\MaNinjaChan\\anaconda3\\lib\\site-packages\\sklearn\\linear_model\\_least_angle.py:865: DeprecationWarning: `np.float` is a deprecated alias for the builtin `float`. To silence this warning, use `float` by itself. Doing this will not modify any behavior and is safe. If you specifically wanted the numpy scalar type, use `np.float64` here.\n",
      "Deprecated in NumPy 1.20; for more details and guidance: https://numpy.org/devdocs/release/1.20.0-notes.html#deprecations\n",
      "  eps=np.finfo(np.float).eps, copy_X=True, fit_path=True,\n",
      "C:\\Users\\MaNinjaChan\\anaconda3\\lib\\site-packages\\sklearn\\linear_model\\_least_angle.py:1121: DeprecationWarning: `np.float` is a deprecated alias for the builtin `float`. To silence this warning, use `float` by itself. Doing this will not modify any behavior and is safe. If you specifically wanted the numpy scalar type, use `np.float64` here.\n",
      "Deprecated in NumPy 1.20; for more details and guidance: https://numpy.org/devdocs/release/1.20.0-notes.html#deprecations\n",
      "  eps=np.finfo(np.float).eps, copy_X=True, fit_path=True,\n",
      "C:\\Users\\MaNinjaChan\\anaconda3\\lib\\site-packages\\sklearn\\linear_model\\_least_angle.py:1149: DeprecationWarning: `np.float` is a deprecated alias for the builtin `float`. To silence this warning, use `float` by itself. Doing this will not modify any behavior and is safe. If you specifically wanted the numpy scalar type, use `np.float64` here.\n",
      "Deprecated in NumPy 1.20; for more details and guidance: https://numpy.org/devdocs/release/1.20.0-notes.html#deprecations\n",
      "  eps=np.finfo(np.float).eps, positive=False):\n",
      "C:\\Users\\MaNinjaChan\\anaconda3\\lib\\site-packages\\sklearn\\linear_model\\_least_angle.py:1379: DeprecationWarning: `np.float` is a deprecated alias for the builtin `float`. To silence this warning, use `float` by itself. Doing this will not modify any behavior and is safe. If you specifically wanted the numpy scalar type, use `np.float64` here.\n",
      "Deprecated in NumPy 1.20; for more details and guidance: https://numpy.org/devdocs/release/1.20.0-notes.html#deprecations\n",
      "  max_n_alphas=1000, n_jobs=None, eps=np.finfo(np.float).eps,\n",
      "C:\\Users\\MaNinjaChan\\anaconda3\\lib\\site-packages\\sklearn\\linear_model\\_least_angle.py:1621: DeprecationWarning: `np.float` is a deprecated alias for the builtin `float`. To silence this warning, use `float` by itself. Doing this will not modify any behavior and is safe. If you specifically wanted the numpy scalar type, use `np.float64` here.\n",
      "Deprecated in NumPy 1.20; for more details and guidance: https://numpy.org/devdocs/release/1.20.0-notes.html#deprecations\n",
      "  max_n_alphas=1000, n_jobs=None, eps=np.finfo(np.float).eps,\n",
      "C:\\Users\\MaNinjaChan\\anaconda3\\lib\\site-packages\\sklearn\\linear_model\\_least_angle.py:1755: DeprecationWarning: `np.float` is a deprecated alias for the builtin `float`. To silence this warning, use `float` by itself. Doing this will not modify any behavior and is safe. If you specifically wanted the numpy scalar type, use `np.float64` here.\n",
      "Deprecated in NumPy 1.20; for more details and guidance: https://numpy.org/devdocs/release/1.20.0-notes.html#deprecations\n",
      "  eps=np.finfo(np.float).eps, copy_X=True, positive=False):\n",
      "C:\\Users\\MaNinjaChan\\anaconda3\\lib\\site-packages\\sklearn\\decomposition\\_lda.py:28: DeprecationWarning: `np.float` is a deprecated alias for the builtin `float`. To silence this warning, use `float` by itself. Doing this will not modify any behavior and is safe. If you specifically wanted the numpy scalar type, use `np.float64` here.\n",
      "Deprecated in NumPy 1.20; for more details and guidance: https://numpy.org/devdocs/release/1.20.0-notes.html#deprecations\n",
      "  EPS = np.finfo(np.float).eps\n",
      "C:\\Users\\MaNinjaChan\\anaconda3\\lib\\site-packages\\sklearn\\feature_extraction\\image.py:172: DeprecationWarning: `np.int` is a deprecated alias for the builtin `int`. To silence this warning, use `int` by itself. Doing this will not modify any behavior and is safe. When replacing `np.int`, you may wish to use e.g. `np.int64` or `np.int32` to specify the precision. If you wish to review your current use, check the release note link for additional information.\n",
      "Deprecated in NumPy 1.20; for more details and guidance: https://numpy.org/devdocs/release/1.20.0-notes.html#deprecations\n",
      "  dtype=np.int):\n"
     ]
    }
   ],
   "source": [
    "import regex as re\n",
    "\n",
    "# Gensim\n",
    "import gensim\n",
    "import gensim.corpora as corpora\n",
    "from gensim.utils import simple_preprocess\n",
    "\n",
    "# spacy for lemmatization\n",
    "import spacy\n",
    "\n",
    "# Plotting tools\n",
    "import pyLDAvis\n",
    "\n",
    "import nltk; "
   ]
  },
  {
   "cell_type": "code",
   "execution_count": 5,
   "metadata": {},
   "outputs": [],
   "source": [
    "# NLTK Stop words\n",
    "from nltk.corpus import stopwords\n",
    "stop_words = stopwords.words('english')\n",
    "stop_words.extend(['from', 'subject', 're', 'edu', 'use'])"
   ]
  },
  {
   "cell_type": "code",
   "execution_count": 6,
   "metadata": {},
   "outputs": [],
   "source": [
    "#Connecting to the URL on the web to access its content (Crunchyroll)\n",
    "# html=urlopen('https://www.crunchyroll.com/fullmetal-alchemist-brotherhood/reviews/helpful/page1')\n",
    "# html.status"
   ]
  },
  {
   "cell_type": "code",
   "execution_count": 7,
   "metadata": {},
   "outputs": [
    {
     "data": {
      "text/plain": [
       "200"
      ]
     },
     "execution_count": 7,
     "metadata": {},
     "output_type": "execute_result"
    }
   ],
   "source": [
    "#Connecting to the URL on the web to access its content (MAL)\n",
    "html=urlopen('https://myanimelist.net/anime/40748/Jujutsu_Kaisen_TV/reviews?p=1')\n",
    "html.status"
   ]
  },
  {
   "cell_type": "code",
   "execution_count": 8,
   "metadata": {},
   "outputs": [],
   "source": [
    "#Creating an instance of beautifulsoup object to begin web scraping\n",
    "bs=BeautifulSoup(html.read(),'html.parser')"
   ]
  },
  {
   "cell_type": "code",
   "execution_count": 9,
   "metadata": {},
   "outputs": [
    {
     "name": "stdout",
     "output_type": "stream",
     "text": [
      "20\n"
     ]
    }
   ],
   "source": [
    "#Acessing the container objects with the anime info \n",
    "anime_review_containers = bs.find_all('div', {'class':{'borderDark'}})\n",
    "print(len(anime_review_containers))"
   ]
  },
  {
   "cell_type": "code",
   "execution_count": 10,
   "metadata": {},
   "outputs": [],
   "source": [
    "#Creating empty lists to store all the items \n",
    "review = []"
   ]
  },
  {
   "cell_type": "code",
   "execution_count": 11,
   "metadata": {},
   "outputs": [],
   "source": [
    "# Preparing the monitoring of the loop\n",
    "start_time = time()\n",
    "request = 0"
   ]
  },
  {
   "cell_type": "code",
   "execution_count": 12,
   "metadata": {},
   "outputs": [],
   "source": [
    "#Extracting each job name in loop\n",
    "for page in range(1,14):\n",
    "    # Make a get request\n",
    "        #https://myanimelist.net/anime/genre/1/Action?page=1\n",
    "        #https://myanimelist.net/anime/genre/1/Action?page=2\n",
    "        response = get('https://myanimelist.net/anime/40748/Jujutsu_Kaisen_TV/reviews?p='+ str(page))\n",
    "        \n",
    "#         # Pause the loop\n",
    "#         sleep(randint(8,15))\n",
    "\n",
    "#         # Monitor the requests\n",
    "#         request += 1\n",
    "#         elapsed_time = time() - start_time\n",
    "#         print('Request:{}; Frequency: {} requests/s'.format(request, \n",
    "#                                                             request/elapsed_time))\n",
    "#         clear_output(wait = True)\n",
    "\n",
    "#         # Throw a warning for non-200 status codes\n",
    "#         if response.status_code != 200:\n",
    "#             warn('Request: {}; Status code: {}'.format(request, \n",
    "#                                                        response.status_code))\n",
    "\n",
    "#         # Break the loop if the number of requests is greater than expected\n",
    "#         if request > 100:\n",
    "#             warn('Number of requests was greater than expected.')\n",
    "#             break\n",
    "        \n",
    "        # Parse the content of the request with BeautifulSoup\n",
    "        bs = BeautifulSoup(response.text, 'html.parser')\n",
    "        \n",
    "        #Acessing the container objects with the anime info \n",
    "        anime_review_containers = bs.find_all('div', {'class':{'borderDark'}})\n",
    "\n",
    "        #Extracting all the elements \n",
    "        for container in anime_review_containers:\n",
    "        # If the movie has Metascore, then extract:\n",
    "        #  if container.find('div', {'class':{'scoremem'}})  is not None:\n",
    "        \n",
    "        # The name of anime\n",
    "            try: \n",
    "                reviews = container.find('div', {'class':'spaceit textReadability word-break pt8 mt8'})\n",
    "                review.append(reviews.text)\n",
    "            except:\n",
    "                review.append('Missing')"
   ]
  },
  {
   "cell_type": "code",
   "execution_count": 13,
   "metadata": {},
   "outputs": [
    {
     "name": "stdout",
     "output_type": "stream",
     "text": [
      "<class 'pandas.core.frame.DataFrame'>\n",
      "RangeIndex: 260 entries, 0 to 259\n",
      "Data columns (total 1 columns):\n",
      " #   Column  Non-Null Count  Dtype \n",
      "---  ------  --------------  ----- \n",
      " 0   Review  260 non-null    object\n",
      "dtypes: object(1)\n",
      "memory usage: 2.2+ KB\n",
      "None\n"
     ]
    }
   ],
   "source": [
    "#Creating a pandas dataframe to store the objects extracted\n",
    "anime_review = pd.DataFrame({'Review': review\n",
    "})\n",
    "print(anime_review.info())"
   ]
  },
  {
   "cell_type": "code",
   "execution_count": 14,
   "metadata": {},
   "outputs": [
    {
     "data": {
      "text/html": [
       "<div>\n",
       "<style scoped>\n",
       "    .dataframe tbody tr th:only-of-type {\n",
       "        vertical-align: middle;\n",
       "    }\n",
       "\n",
       "    .dataframe tbody tr th {\n",
       "        vertical-align: top;\n",
       "    }\n",
       "\n",
       "    .dataframe thead th {\n",
       "        text-align: right;\n",
       "    }\n",
       "</style>\n",
       "<table border=\"1\" class=\"dataframe\">\n",
       "  <thead>\n",
       "    <tr style=\"text-align: right;\">\n",
       "      <th></th>\n",
       "      <th>Review</th>\n",
       "    </tr>\n",
       "  </thead>\n",
       "  <tbody>\n",
       "    <tr>\n",
       "      <th>0</th>\n",
       "      <td>\\n\\n\\n\\nOverall\\n6\\n\\n\\nStory\\n4\\n\\n\\nAnimatio...</td>\n",
       "    </tr>\n",
       "    <tr>\n",
       "      <th>1</th>\n",
       "      <td>\\n\\n\\n\\nOverall\\n9\\n\\n\\nStory\\n0\\n\\n\\nAnimatio...</td>\n",
       "    </tr>\n",
       "    <tr>\n",
       "      <th>2</th>\n",
       "      <td>\\n\\n\\n\\nOverall\\n9\\n\\n\\nStory\\n9\\n\\n\\nAnimatio...</td>\n",
       "    </tr>\n",
       "    <tr>\n",
       "      <th>3</th>\n",
       "      <td>\\n\\n\\n\\nOverall\\n5\\n\\n\\nStory\\n1\\n\\n\\nAnimatio...</td>\n",
       "    </tr>\n",
       "    <tr>\n",
       "      <th>4</th>\n",
       "      <td>\\n\\n\\n\\nOverall\\n8\\n\\n\\nStory\\n7\\n\\n\\nAnimatio...</td>\n",
       "    </tr>\n",
       "  </tbody>\n",
       "</table>\n",
       "</div>"
      ],
      "text/plain": [
       "                                              Review\n",
       "0  \\n\\n\\n\\nOverall\\n6\\n\\n\\nStory\\n4\\n\\n\\nAnimatio...\n",
       "1  \\n\\n\\n\\nOverall\\n9\\n\\n\\nStory\\n0\\n\\n\\nAnimatio...\n",
       "2  \\n\\n\\n\\nOverall\\n9\\n\\n\\nStory\\n9\\n\\n\\nAnimatio...\n",
       "3  \\n\\n\\n\\nOverall\\n5\\n\\n\\nStory\\n1\\n\\n\\nAnimatio...\n",
       "4  \\n\\n\\n\\nOverall\\n8\\n\\n\\nStory\\n7\\n\\n\\nAnimatio..."
      ]
     },
     "execution_count": 14,
     "metadata": {},
     "output_type": "execute_result"
    }
   ],
   "source": [
    "# Display the top 5 rows of dataset\n",
    "anime_review.head()"
   ]
  },
  {
   "cell_type": "code",
   "execution_count": 15,
   "metadata": {},
   "outputs": [
    {
     "name": "stderr",
     "output_type": "stream",
     "text": [
      "<>:5: DeprecationWarning: invalid escape sequence \\s\n",
      "<>:5: DeprecationWarning: invalid escape sequence \\s\n",
      "<ipython-input-15-b412c0db5fd7>:5: DeprecationWarning: invalid escape sequence \\s\n",
      "  data = [re.sub('\\s+', ' ', sent) for sent in data]\n"
     ]
    },
    {
     "name": "stdout",
     "output_type": "stream",
     "text": [
      " Overall 6 Story 4 Animation 9 Sound 7 Character 5 Enjoyment 7 “It’s not about whether I can, I have to do it!” – Megumi Fushiguro...and also me steeling myself to post a critical review on this beloved anime. Jujutsu Kaisen is the latest shounen to gain a surge of popularity and get invited to join the mainstream table of the true anime titans, probably taking a seat right next to Demon Slayer. And I can say with certainty that this is primarily because of Studio Mappa's admirable dedication to making this show, particularly the fight scenes, look breathtakingly good. But here's the age old question: Does fantastic animation trump average writing? Yeah, no. Heh, sorry to be blunt. I guess I'm taking a lesson out of protagonist Itadori's book. But who's to say that Jujutsu doesn't have a bit of both? While I find there to be several glaring issues with the anime, it also has many great aspects. So therefore, I'm gonna do things a little differently. This review will go over 5 areas that I believe the anime handled poorly, represented as 5 of Sukuna's, the king of curses himself, cursed fingers. And then 5 departments that were a triumphant success in my eyes, represented as 5 of Sukuna's fingers that were eaten by Itadori...which probably gave him some digestion issues, poor guy. I mean, eating a centuries old finger? Bleh. Probably no nutrients left in those old things. Ah, so you're wondering why I'm going with 10 fingers when Sukuna has 20 overall? Heh. The sheer power of representing ALL of his fingers would embed this review with massive cursed energy that even I couldn't control- Ok, fine, it's actually because I couldn't think of 10 more things and it would make this review drag on anyway. There. Happy? Alright, let's get into it! Sukuna's cursed finger 1: Comedy I figured I'd get this out of the way since its the most subjective flaw on the list. Comedy comes in all shapes and forms, so everyone has their own preference...the comedy in Jujutsu Kaisen wasn't my preference. Ok, so I'm not that hard to please in this department. I'm mean, I laugh at boob jokes and panty shots, that should tell you what kind of person I am. Yet shounen always seem to fail for me when it comes to the humor. I mean for one, it's generally out of place. This anime tries to be serious and has a lot of dark moments, but then immediately follows with characters making stupid faces at each other and saying dumb things. The timing is just consistently terrible. And what the heck were those after credits scenes? I dunno, I just found them to be very...odd. The comedy can basically be boiled down to a character acting either overly idiotic or incredibly loud/annoying during random moments. And they try to do this for EVERY character, even for the villains who, you know, have slaughtered hundreds, potentially thousands. It just doesn't work, and I don't find the show or characters funny at all, with the exception of the Kyoto School students (thank goodness for them) and some of Gojou's little quips. Sukuna's consumed finger 1: Action This one is quite obvious to anyone with eyes, but I definitely have to bring up the epic fight sequences as the first positive. They're the highlight of the show, and the focal point of numerous episodes. Because curses come in all shapes and sizes, plus each Jujutsu sorcerer has their own diverse abilities, each and every fight was unique in how the characters did battle. I thought things really picked up in intrigue and intensity when Itadori and the ideal businessman Nanami took on the villainous and childish antagonist Mahito. It was a well animated fight with a lot of interesting tactics. And then the show just had to go and outdo itself with the Sister School arc. There were a lot of great combat sequences on display, culminating in the Itadori and Toudou vs. Hanami fight, which was my personal favorite. Just some great action all around. Sukuna's cursed finger 2: Main characters Oh boy, this is probably what held Jujutsu Kaisen back the most. The trio of Itadori, Megumi, and Nobara are just...bad. I'm not a fan of any of them. Itadori is your typical dense protagonist guy who's constantly used for comedy, but you already know how I feel about that. His beliefs are interesting, but I'll get into those later. Several characters appropriately call him Sukuna's vessel, because that dude is a much more fun and interesting character than Itadori. And when it's necessary for Itadori to develop in order to progress the narrative, the show just conveniently gives him a ridiculously brief revelation or a sentence long pep talk from someone else and boom, he gets stronger and stuff. Absolutely atrocious. And his two best buddies don't even act like characters. They're terribly inconsistent. They supposedly have a bond with Itadori yet show no emotion when he comes back from a certain DEADly event. When situations get serious and death is involved, Nobara just acts entirely obnoxious and Megumi reacts to practically nothing. It's like they were trying to make him one of those cool, stoic characters but made him so cold that he's turned into ice with how frosty and nonexistent his personality is. They're painstakingly poorly written. Gojou is also considered to be a main character, but I don't really see him as one. If he counts, then he's definitely my favorite of the four. Despite not being a fan of how absolutely overpowered he is, I enjoy his laid back yet caring nature and think that he's a solid addition to the show. Sukuna's consumed finger 2: Supporting cast On the flip side, I really appreciate how the side characters were written. Sukuna himself has a great setup with how he's actually a part of Itadori. The obnoxious and condescending tone that he takes with the kid is pretty fun, and for me this guy is the most intriguing of the characters. And I mentioned it before, but wow, the Kyoto School students are a lot more entertaining than the ones from Tokyo. With the exception of Panda of course. Panda should have been the main character because he's a panda, yet not a panda. I like his backstory and intelligence. That is all for Panda. But I really liked Miwa and thought she was fun (should've replaced Nobara as main girl honestly...) and the over the top nature of Mechamaru and his backstory is just such a joke, I love it. Every morning he breaks his legs, and every afternoon, he breaks his arms. The other two girls in the group are interesting as well. And then there's Toudou. He's probably my favorite character outside of Sukuna and his comedic value was actually...funny! I liked his dynamic with Itadori and his over the top nature was surprisingly a big success and didn't rub me the wrong way like I thought it would. Nice support cast Juju! Sukuna's cursed finger 3: Motivations A boy fights...for \"the right death.\" Straight from the synopsis. Am I the only one who thinks that sentence sounds stupid and wishes Itadori's ideals were, at the very least, worded differently? Yes? No? Ok... While his motivation certainty is unique, I'm just not a fan of how Itadori's whole shtick is portrayed. I mean, I get it, he doesn't want people to die to curses and instead to pass away content and satisfied with life, and that's pretty cool. But the way he expresses his wish feels strange sometimes with how overly macabre it can be and doesn't sit right with me. This is probably just me, but his goals made his character feel a a little off, I dunno. Also, the villain curses have pretty bad motivations. I mean, they're all like \"we're the true people because we have true emotions unlike humans!\"...yet these curses are constantly shown to have wavering and changing feelings. Doesn't work. It all comes down to the themes demonstrated by the show in the end, and I feel like they could have been expressed better. Sukuna's consumed finger 3: Dark content I love how this anime isn't afraid to get violent and grotesque. Yes, some of the curses look creepy, but I'm mostly referring to what they do over how they look. The show doesn't hide the fact that death is synonymous with curses in this universe, and there are plenty of on screen killings. Even main characters aren't safe from this anime's clutches! Things got the darkest during the arc with Junpei and Mahito. Let's just say I was not expecting what happened to Junpei to go down, or I was at least anticipating some sort of reversal of his fate. But wow, there really is a ton of horrifying (maybe a bit too strong of a word, but I digress) content in the anime, and I believe it definitely works in the show's favor. Sukuna's cursed finger 4: Power scaling This is more of a smaller issue that I had with the anime, but I absolutely despised the power system on display and how it was handled. Shounen shows just love to have this kind of mechanic, and it's usually used primarily to show the protagonist getting stronger and moving through the ranks. Some, like HunterXHunter, utilize this effectively. But it's just so bizarre here. The ranking of both curses and Jujutsu sorcerers is poorly conceived and made absolutely irrelevant when you have guys like Gojou who can practically destroy the world if he feels like it. There's just not that much explanation behind how it all works. And it's especially negligible when Itadori can basically power up and advance to the next level just by getting a sentence long pep talk, like he does with Toudou. Kinda silly honestly. Sukuna's consumed finger 4: Audiovisuals I've already mentioned this briefly in other sections, but the show looks hella good. Great artistic quality with a lot of diverse and inventive designs. Equally important is the animation. Character movement is fluid and doesn't look that awkward at all. Also, the soundtrack is solid. Several pieces help to enhance scenes by pumping you up during fights or making you unnerved during more horror based moments. The theme songs are pretty hype as well. All in all, Jujutsu Kaisen boasts some great technical aspects. Sukuna's cursed finger 5: Plot progression My final issue listed in this review focuses on the narrative. I'm sorry, but the plot can basically be boiled down to \"Righteous protagonist has unlimited potential and he gets stronger with his friends as they beat up bad guys.\" It's terribly generic and if you really focus on it, the story doesn't offer anything particularly great. There are several parts of it that are just plain sloppy, like shoving in literally everyone's backstory during the Sister School event instead of properly spacing out such scenes. While it ultimately isn't bad, the plot really didn't take any risks or try something new, with the exception of having Sukuna, who I assume will be the final boss, live inside of Itadori. That's pretty cool, but next to nothing was done with it in the second half of the show. In the end, the writing and unfortunately standard progression ended up being the most mediocre part of the anime. Sukuna's consumed finger 5: Entertainment What can I say, it was a fun experience. Despite lacking in several key departments, the show itself can be pretty entertaining. Whether it be the action, character interactions, comedic scenes, or more, Jujutsu Kaisen brings a lot to the table that a wide variety of people can enjoy, so I respect the show for that. If nothing else, it can be an enjoyable viewing experience if you don't go into it with high expectations. In the end, it just wasn't for me. Helpful read more \n"
     ]
    }
   ],
   "source": [
    "# Convert to list\n",
    "data = anime_review['Review'].tolist()\n",
    "\n",
    "# Remove new line characters\n",
    "data = [re.sub('\\s+', ' ', sent) for sent in data]\n",
    "\n",
    "print(data[0])"
   ]
  },
  {
   "cell_type": "code",
   "execution_count": 16,
   "metadata": {},
   "outputs": [
    {
     "name": "stdout",
     "output_type": "stream",
     "text": [
      "['overall', 'story', 'animation', 'sound', 'character', 'enjoyment', 'it', 'not', 'about', 'whether', 'can', 'have', 'to', 'do', 'it', 'megumi', 'fushiguro', 'and', 'also', 'me', 'steeling', 'myself', 'to', 'post', 'critical', 'review', 'on', 'this', 'beloved', 'anime', 'jujutsu', 'kaisen', 'is', 'the', 'latest', 'shounen', 'to', 'gain', 'surge', 'of', 'popularity', 'and', 'get', 'invited', 'to', 'join', 'the', 'mainstream', 'table', 'of', 'the', 'true', 'anime', 'titans', 'probably', 'taking', 'seat', 'right', 'next', 'to', 'demon', 'slayer', 'and', 'can', 'say', 'with', 'certainty', 'that', 'this', 'is', 'primarily', 'because', 'of', 'studio', 'mappa', 'admirable', 'dedication', 'to', 'making', 'this', 'show', 'particularly', 'the', 'fight', 'scenes', 'look', 'breathtakingly', 'good', 'but', 'here', 'the', 'age', 'old', 'question', 'does', 'fantastic', 'animation', 'trump', 'average', 'writing', 'yeah', 'no', 'heh', 'sorry', 'to', 'be', 'blunt', 'guess', 'taking', 'lesson', 'out', 'of', 'protagonist', 'itadori', 'book', 'but', 'who', 'to', 'say', 'that', 'jujutsu', 'doesn', 'have', 'bit', 'of', 'both', 'while', 'find', 'there', 'to', 'be', 'several', 'glaring', 'issues', 'with', 'the', 'anime', 'it', 'also', 'has', 'many', 'great', 'aspects', 'so', 'therefore', 'gonna', 'do', 'things', 'little', 'differently', 'this', 'review', 'will', 'go', 'over', 'areas', 'that', 'believe', 'the', 'anime', 'handled', 'poorly', 'represented', 'as', 'of', 'sukuna', 'the', 'king', 'of', 'curses', 'himself', 'cursed', 'fingers', 'and', 'then', 'departments', 'that', 'were', 'triumphant', 'success', 'in', 'my', 'eyes', 'represented', 'as', 'of', 'sukuna', 'fingers', 'that', 'were', 'eaten', 'by', 'itadori', 'which', 'probably', 'gave', 'him', 'some', 'digestion', 'issues', 'poor', 'guy', 'mean', 'eating', 'centuries', 'old', 'finger', 'bleh', 'probably', 'no', 'nutrients', 'left', 'in', 'those', 'old', 'things', 'ah', 'so', 'you', 're', 'wondering', 'why', 'going', 'with', 'fingers', 'when', 'sukuna', 'has', 'overall', 'heh', 'the', 'sheer', 'power', 'of', 'representing', 'all', 'of', 'his', 'fingers', 'would', 'embed', 'this', 'review', 'with', 'massive', 'cursed', 'energy', 'that', 'even', 'couldn', 'control', 'ok', 'fine', 'it', 'actually', 'because', 'couldn', 'think', 'of', 'more', 'things', 'and', 'it', 'would', 'make', 'this', 'review', 'drag', 'on', 'anyway', 'there', 'happy', 'alright', 'let', 'get', 'into', 'it', 'sukuna', 'cursed', 'finger', 'comedy', 'figured', 'get', 'this', 'out', 'of', 'the', 'way', 'since', 'its', 'the', 'most', 'subjective', 'flaw', 'on', 'the', 'list', 'comedy', 'comes', 'in', 'all', 'shapes', 'and', 'forms', 'so', 'everyone', 'has', 'their', 'own', 'preference', 'the', 'comedy', 'in', 'jujutsu', 'kaisen', 'wasn', 'my', 'preference', 'ok', 'so', 'not', 'that', 'hard', 'to', 'please', 'in', 'this', 'department', 'mean', 'laugh', 'at', 'boob', 'jokes', 'and', 'panty', 'shots', 'that', 'should', 'tell', 'you', 'what', 'kind', 'of', 'person', 'am', 'yet', 'shounen', 'always', 'seem', 'to', 'fail', 'for', 'me', 'when', 'it', 'comes', 'to', 'the', 'humor', 'mean', 'for', 'one', 'it', 'generally', 'out', 'of', 'place', 'this', 'anime', 'tries', 'to', 'be', 'serious', 'and', 'has', 'lot', 'of', 'dark', 'moments', 'but', 'then', 'immediately', 'follows', 'with', 'characters', 'making', 'stupid', 'faces', 'at', 'each', 'other', 'and', 'saying', 'dumb', 'things', 'the', 'timing', 'is', 'just', 'consistently', 'terrible', 'and', 'what', 'the', 'heck', 'were', 'those', 'after', 'credits', 'scenes', 'dunno', 'just', 'found', 'them', 'to', 'be', 'very', 'odd', 'the', 'comedy', 'can', 'basically', 'be', 'boiled', 'down', 'to', 'character', 'acting', 'either', 'overly', 'idiotic', 'or', 'incredibly', 'loud', 'annoying', 'during', 'random', 'moments', 'and', 'they', 'try', 'to', 'do', 'this', 'for', 'every', 'character', 'even', 'for', 'the', 'villains', 'who', 'you', 'know', 'have', 'slaughtered', 'hundreds', 'potentially', 'thousands', 'it', 'just', 'doesn', 'work', 'and', 'don', 'find', 'the', 'show', 'or', 'characters', 'funny', 'at', 'all', 'with', 'the', 'exception', 'of', 'the', 'kyoto', 'school', 'students', 'thank', 'goodness', 'for', 'them', 'and', 'some', 'of', 'gojou', 'little', 'quips', 'sukuna', 'consumed', 'finger', 'action', 'this', 'one', 'is', 'quite', 'obvious', 'to', 'anyone', 'with', 'eyes', 'but', 'definitely', 'have', 'to', 'bring', 'up', 'the', 'epic', 'fight', 'sequences', 'as', 'the', 'first', 'positive', 'they', 're', 'the', 'highlight', 'of', 'the', 'show', 'and', 'the', 'focal', 'point', 'of', 'numerous', 'episodes', 'because', 'curses', 'come', 'in', 'all', 'shapes', 'and', 'sizes', 'plus', 'each', 'jujutsu', 'sorcerer', 'has', 'their', 'own', 'diverse', 'abilities', 'each', 'and', 'every', 'fight', 'was', 'unique', 'in', 'how', 'the', 'characters', 'did', 'battle', 'thought', 'things', 'really', 'picked', 'up', 'in', 'intrigue', 'and', 'intensity', 'when', 'itadori', 'and', 'the', 'ideal', 'businessman', 'nanami', 'took', 'on', 'the', 'villainous', 'and', 'childish', 'antagonist', 'mahito', 'it', 'was', 'well', 'animated', 'fight', 'with', 'lot', 'of', 'interesting', 'tactics', 'and', 'then', 'the', 'show', 'just', 'had', 'to', 'go', 'and', 'outdo', 'itself', 'with', 'the', 'sister', 'school', 'arc', 'there', 'were', 'lot', 'of', 'great', 'combat', 'sequences', 'on', 'display', 'culminating', 'in', 'the', 'itadori', 'and', 'toudou', 'vs', 'hanami', 'fight', 'which', 'was', 'my', 'personal', 'favorite', 'just', 'some', 'great', 'action', 'all', 'around', 'sukuna', 'cursed', 'finger', 'main', 'characters', 'oh', 'boy', 'this', 'is', 'probably', 'what', 'held', 'jujutsu', 'kaisen', 'back', 'the', 'most', 'the', 'trio', 'of', 'itadori', 'megumi', 'and', 'nobara', 'are', 'just', 'bad', 'not', 'fan', 'of', 'any', 'of', 'them', 'itadori', 'is', 'your', 'typical', 'dense', 'protagonist', 'guy', 'who', 'constantly', 'used', 'for', 'comedy', 'but', 'you', 'already', 'know', 'how', 'feel', 'about', 'that', 'his', 'beliefs', 'are', 'interesting', 'but', 'll', 'get', 'into', 'those', 'later', 'several', 'characters', 'appropriately', 'call', 'him', 'sukuna', 'vessel', 'because', 'that', 'dude', 'is', 'much', 'more', 'fun', 'and', 'interesting', 'character', 'than', 'itadori', 'and', 'when', 'it', 'necessary', 'for', 'itadori', 'to', 'develop', 'in', 'order', 'to', 'progress', 'the', 'narrative', 'the', 'show', 'just', 'conveniently', 'gives', 'him', 'ridiculously', 'brief', 'revelation', 'or', 'sentence', 'long', 'pep', 'talk', 'from', 'someone', 'else', 'and', 'boom', 'he', 'gets', 'stronger', 'and', 'stuff', 'absolutely', 'atrocious', 'and', 'his', 'two', 'best', 'buddies', 'don', 'even', 'act', 'like', 'characters', 'they', 're', 'terribly', 'inconsistent', 'they', 'supposedly', 'have', 'bond', 'with', 'itadori', 'yet', 'show', 'no', 'emotion', 'when', 'he', 'comes', 'back', 'from', 'certain', 'deadly', 'event', 'when', 'situations', 'get', 'serious', 'and', 'death', 'is', 'involved', 'nobara', 'just', 'acts', 'entirely', 'obnoxious', 'and', 'megumi', 'reacts', 'to', 'practically', 'nothing', 'it', 'like', 'they', 'were', 'trying', 'to', 'make', 'him', 'one', 'of', 'those', 'cool', 'stoic', 'characters', 'but', 'made', 'him', 'so', 'cold', 'that', 'he', 'turned', 'into', 'ice', 'with', 'how', 'frosty', 'and', 'nonexistent', 'his', 'personality', 'is', 'they', 're', 'painstakingly', 'poorly', 'written', 'gojou', 'is', 'also', 'considered', 'to', 'be', 'main', 'character', 'but', 'don', 'really', 'see', 'him', 'as', 'one', 'if', 'he', 'counts', 'then', 'he', 'definitely', 'my', 'favorite', 'of', 'the', 'four', 'despite', 'not', 'being', 'fan', 'of', 'how', 'absolutely', 'overpowered', 'he', 'is', 'enjoy', 'his', 'laid', 'back', 'yet', 'caring', 'nature', 'and', 'think', 'that', 'he', 'solid', 'addition', 'to', 'the', 'show', 'sukuna', 'consumed', 'finger', 'supporting', 'cast', 'on', 'the', 'flip', 'side', 'really', 'appreciate', 'how', 'the', 'side', 'characters', 'were', 'written', 'sukuna', 'himself', 'has', 'great', 'setup', 'with', 'how', 'he', 'actually', 'part', 'of', 'itadori', 'the', 'obnoxious', 'and', 'condescending', 'tone', 'that', 'he', 'takes', 'with', 'the', 'kid', 'is', 'pretty', 'fun', 'and', 'for', 'me', 'this', 'guy', 'is', 'the', 'most', 'intriguing', 'of', 'the', 'characters', 'and', 'mentioned', 'it', 'before', 'but', 'wow', 'the', 'kyoto', 'school', 'students', 'are', 'lot', 'more', 'entertaining', 'than', 'the', 'ones', 'from', 'tokyo', 'with', 'the', 'exception', 'of', 'panda', 'of', 'course', 'panda', 'should', 'have', 'been', 'the', 'main', 'character', 'because', 'he', 'panda', 'yet', 'not', 'panda', 'like', 'his', 'backstory', 'and', 'intelligence', 'that', 'is', 'all', 'for', 'panda', 'but', 'really', 'liked', 'miwa', 'and', 'thought', 'she', 'was', 'fun', 'should', 've', 'replaced', 'nobara', 'as', 'main', 'girl', 'honestly', 'and', 'the', 'over', 'the', 'top', 'nature', 'of', 'mechamaru', 'and', 'his', 'backstory', 'is', 'just', 'such', 'joke', 'love', 'it', 'every', 'morning', 'he', 'breaks', 'his', 'legs', 'and', 'every', 'afternoon', 'he', 'breaks', 'his', 'arms', 'the', 'other', 'two', 'girls', 'in', 'the', 'group', 'are', 'interesting', 'as', 'well', 'and', 'then', 'there', 'toudou', 'he', 'probably', 'my', 'favorite', 'character', 'outside', 'of', 'sukuna', 'and', 'his', 'comedic', 'value', 'was', 'actually', 'funny', 'liked', 'his', 'dynamic', 'with', 'itadori', 'and', 'his', 'over', 'the', 'top', 'nature', 'was', 'surprisingly', 'big', 'success', 'and', 'didn', 'rub', 'me', 'the', 'wrong', 'way', 'like', 'thought', 'it', 'would', 'nice', 'support', 'cast', 'juju', 'sukuna', 'cursed', 'finger', 'motivations', 'boy', 'fights', 'for', 'the', 'right', 'death', 'straight', 'from', 'the', 'synopsis', 'am', 'the', 'only', 'one', 'who', 'thinks', 'that', 'sentence', 'sounds', 'stupid', 'and', 'wishes', 'itadori', 'ideals', 'were', 'at', 'the', 'very', 'least', 'worded', 'differently', 'yes', 'no', 'ok', 'while', 'his', 'motivation', 'certainty', 'is', 'unique', 'just', 'not', 'fan', 'of', 'how', 'itadori', 'whole', 'shtick', 'is', 'portrayed', 'mean', 'get', 'it', 'he', 'doesn', 'want', 'people', 'to', 'die', 'to', 'curses', 'and', 'instead', 'to', 'pass', 'away', 'content', 'and', 'satisfied', 'with', 'life', 'and', 'that', 'pretty', 'cool', 'but', 'the', 'way', 'he', 'expresses', 'his', 'wish', 'feels', 'strange', 'sometimes', 'with', 'how', 'overly', 'macabre', 'it', 'can', 'be', 'and', 'doesn', 'sit', 'right', 'with', 'me', 'this', 'is', 'probably', 'just', 'me', 'but', 'his', 'goals', 'made', 'his', 'character', 'feel', 'little', 'off', 'dunno', 'also', 'the', 'villain', 'curses', 'have', 'pretty', 'bad', 'motivations', 'mean', 'they', 're', 'all', 'like', 'we', 're', 'the', 'true', 'people', 'because', 'we', 'have', 'true', 'emotions', 'unlike', 'humans', 'yet', 'these', 'curses', 'are', 'constantly', 'shown', 'to', 'have', 'wavering', 'and', 'changing', 'feelings', 'doesn', 'work', 'it', 'all', 'comes', 'down', 'to', 'the', 'themes', 'demonstrated', 'by', 'the', 'show', 'in', 'the', 'end', 'and', 'feel', 'like', 'they', 'could', 'have', 'been', 'expressed', 'better', 'sukuna', 'consumed', 'finger', 'dark', 'content', 'love', 'how', 'this', 'anime', 'isn', 'afraid', 'to', 'get', 'violent', 'and', 'grotesque', 'yes', 'some', 'of', 'the', 'curses', 'look', 'creepy', 'but', 'mostly', 'referring', 'to', 'what', 'they', 'do', 'over', 'how', 'they', 'look', 'the', 'show', 'doesn', 'hide', 'the', 'fact', 'that', 'death', 'is', 'synonymous', 'with', 'curses', 'in', 'this', 'universe', 'and', 'there', 'are', 'plenty', 'of', 'on', 'screen', 'killings', 'even', 'main', 'characters', 'aren', 'safe', 'from', 'this', 'anime', 'clutches', 'things', 'got', 'the', 'darkest', 'during', 'the', 'arc', 'with', 'junpei', 'and', 'mahito', 'let', 'just', 'say', 'was', 'not', 'expecting', 'what', 'happened', 'to', 'junpei', 'to', 'go', 'down', 'or', 'was', 'at', 'least', 'anticipating', 'some', 'sort', 'of', 'reversal', 'of', 'his', 'fate', 'but', 'wow', 'there', 'really', 'is', 'ton', 'of', 'horrifying', 'maybe', 'bit', 'too', 'strong', 'of', 'word', 'but', 'digress', 'content', 'in', 'the', 'anime', 'and', 'believe', 'it', 'definitely', 'works', 'in', 'the', 'show', 'favor', 'sukuna', 'cursed', 'finger', 'power', 'scaling', 'this', 'is', 'more', 'of', 'smaller', 'issue', 'that', 'had', 'with', 'the', 'anime', 'but', 'absolutely', 'despised', 'the', 'power', 'system', 'on', 'display', 'and', 'how', 'it', 'was', 'handled', 'shounen', 'shows', 'just', 'love', 'to', 'have', 'this', 'kind', 'of', 'mechanic', 'and', 'it', 'usually', 'used', 'primarily', 'to', 'show', 'the', 'protagonist', 'getting', 'stronger', 'and', 'moving', 'through', 'the', 'ranks', 'some', 'like', 'hunterxhunter', 'utilize', 'this', 'effectively', 'but', 'it', 'just', 'so', 'bizarre', 'here', 'the', 'ranking', 'of', 'both', 'curses', 'and', 'jujutsu', 'sorcerers', 'is', 'poorly', 'conceived', 'and', 'made', 'absolutely', 'irrelevant', 'when', 'you', 'have', 'guys', 'like', 'gojou', 'who', 'can', 'practically', 'destroy', 'the', 'world', 'if', 'he', 'feels', 'like', 'it', 'there', 'just', 'not', 'that', 'much', 'explanation', 'behind', 'how', 'it', 'all', 'works', 'and', 'it', 'especially', 'negligible', 'when', 'itadori', 'can', 'basically', 'power', 'up', 'and', 'advance', 'to', 'the', 'next', 'level', 'just', 'by', 'getting', 'sentence', 'long', 'pep', 'talk', 'like', 'he', 'does', 'with', 'toudou', 'kinda', 'silly', 'honestly', 'sukuna', 'consumed', 'finger', 'audiovisuals', 've', 'already', 'mentioned', 'this', 'briefly', 'in', 'other', 'sections', 'but', 'the', 'show', 'looks', 'hella', 'good', 'great', 'artistic', 'quality', 'with', 'lot', 'of', 'diverse', 'and', 'inventive', 'designs', 'equally', 'important', 'is', 'the', 'animation', 'character', 'movement', 'is', 'fluid', 'and', 'doesn', 'look', 'that', 'awkward', 'at', 'all', 'also', 'the', 'soundtrack', 'is', 'solid', 'several', 'pieces', 'help', 'to', 'enhance', 'scenes', 'by', 'pumping', 'you', 'up', 'during', 'fights', 'or', 'making', 'you', 'unnerved', 'during', 'more', 'horror', 'based', 'moments', 'the', 'theme', 'songs', 'are', 'pretty', 'hype', 'as', 'well', 'all', 'in', 'all', 'jujutsu', 'kaisen', 'boasts', 'some', 'great', 'technical', 'aspects', 'sukuna', 'cursed', 'finger', 'plot', 'progression', 'my', 'final', 'issue', 'listed', 'in', 'this', 'review', 'focuses', 'on', 'the', 'narrative', 'sorry', 'but', 'the', 'plot', 'can', 'basically', 'be', 'boiled', 'down', 'to', 'righteous', 'protagonist', 'has', 'unlimited', 'potential', 'and', 'he', 'gets', 'stronger', 'with', 'his', 'friends', 'as', 'they', 'beat', 'up', 'bad', 'guys', 'it', 'terribly', 'generic', 'and', 'if', 'you', 'really', 'focus', 'on', 'it', 'the', 'story', 'doesn', 'offer', 'anything', 'particularly', 'great', 'there', 'are', 'several', 'parts', 'of', 'it', 'that', 'are', 'just', 'plain', 'sloppy', 'like', 'shoving', 'in', 'literally', 'everyone', 'backstory', 'during', 'the', 'sister', 'school', 'event', 'instead', 'of', 'properly', 'spacing', 'out', 'such', 'scenes', 'while', 'it', 'ultimately', 'isn', 'bad', 'the', 'plot', 'really', 'didn', 'take', 'any', 'risks', 'or', 'try', 'something', 'new', 'with', 'the', 'exception', 'of', 'having', 'sukuna', 'who', 'assume', 'will', 'be', 'the', 'final', 'boss', 'live', 'inside', 'of', 'itadori', 'that', 'pretty', 'cool', 'but', 'next', 'to', 'nothing', 'was', 'done', 'with', 'it', 'in', 'the', 'second', 'half', 'of', 'the', 'show', 'in', 'the', 'end', 'the', 'writing', 'and', 'unfortunately', 'standard', 'progression', 'ended', 'up', 'being', 'the', 'most', 'mediocre', 'part', 'of', 'the', 'anime', 'sukuna', 'consumed', 'finger', 'entertainment', 'what', 'can', 'say', 'it', 'was', 'fun', 'experience', 'despite', 'lacking', 'in', 'several', 'key', 'departments', 'the', 'show', 'itself', 'can', 'be', 'pretty', 'entertaining', 'whether', 'it', 'be', 'the', 'action', 'character', 'interactions', 'comedic', 'scenes', 'or', 'more', 'jujutsu', 'kaisen', 'brings', 'lot', 'to', 'the', 'table', 'that', 'wide', 'variety', 'of', 'people', 'can', 'enjoy', 'so', 'respect', 'the', 'show', 'for', 'that', 'if', 'nothing', 'else', 'it', 'can', 'be', 'an', 'enjoyable', 'viewing', 'experience', 'if', 'you', 'don', 'go', 'into', 'it', 'with', 'high', 'expectations', 'in', 'the', 'end', 'it', 'just', 'wasn', 'for', 'me', 'helpful', 'read', 'more']\n"
     ]
    }
   ],
   "source": [
    "# Clean and tokenize the reviews\n",
    "\n",
    "def sent_to_words(sentences):\n",
    "    for sentence in sentences:\n",
    "        yield(gensim.utils.simple_preprocess(str(sentence), deacc=True))  # deacc=True removes punctuations\n",
    "        \n",
    "data_words = list(sent_to_words(data))\n",
    "\n",
    "print(data_words[0])"
   ]
  },
  {
   "cell_type": "code",
   "execution_count": 17,
   "metadata": {},
   "outputs": [
    {
     "name": "stdout",
     "output_type": "stream",
     "text": [
      "['overall', 'story', 'animation', 'sound', 'character', 'enjoyment', 'the', 'thing', 'about', 'trends', 'that', 'lot', 'of', 'people', 'take', 'for', 'granted', 'is', 'that', 'the', 'more', 'overstuffed', 'particular', 'set', 'of', 'ideas', 'are', 'the', 'more', 'likely', 'it', 'is', 'to', 'see', 'either', 'flipped', 'on', 'its', 'head', 'see', 'shrek', 'for', 'fairy', 'tale', 'musicals', 'or', 'given', 'more', 'offbeat', 'renditions', 'see', 'joker', 'or', 'into', 'the', 'spider', 'verse', 'for', 'superhero', 'blockbusters', 'genres', 'being', 'overstuffed', 'if', 'anything', 'should', 'encourage', 'more', 'experimentation', 'and', 'refinement', 'over', 'the', 'years', 'the', 'shonen', 'genre', 'has', 'gone', 'through', 'number', 'of', 'these', 'phases', 'from', 'past', 'its', 'formative', 'years', 'with', 'dragon', 'ball', 'and', 'dragon', 'ball', 'you', 've', 'gotten', 'shows', 'using', 'the', 'mold', 'for', 'massive', 'tapestries', 'one', 'piece', 'those', 'attempting', 'to', 'rewrite', 'the', 'genre', 'rulebook', 'see', 'fullmetal', 'alchemist', 'shows', 'trying', 'to', 'test', 'shonen', 'capacity', 'for', 'being', 'applicable', 'in', 'distinct', 'scenarios', 'see', 'hxh', 'long', 'form', 'parodies', 'of', 'the', 'genre', 'and', 'many', 'that', 'wallow', 'in', 'it', 'without', 'doing', 'anything', 'interesting', 'jujutsu_kaisen', 'is', 'interesting', 'in', 'this', 'regard', 'because', 'on', 'paper', 'it', 'doesn', 'seem', 'that', 'different', 'from', 'the', 'standard', 'genre', 'mold', 'but', 'in', 'practice', 'it', 'truly', 'understands', 'the', 'appeal', 'of', 'the', 'genre', 'and', 'what', 'audiences', 'want', 'to', 'get', 'from', 'it', 'jujutsu_kaisen', 'first', 'season', 'served', 'as', 'phenomenal', 'introductory', 'section', 'into', 'the', 'story', 'it', 'wants', 'to', 'tell', 'presenting', 'its', 'plot', 'characters', 'action', 'and', 'tone', 'in', 'way', 'that', 'easy', 'to', 'digest', 'but', 'is', 'simultaneously', 'very', 'smart', 'setup', 'that', 'stands', 'out', 'by', 'committing', 'to', 'multiple', 'angles', 'the', 'show', 'feels', 'like', 'natural', 'selection', 'where', 'gege', 'akutami', 'realizes', 'the', 'elements', 'that', 'people', 'have', 'grown', 'to', 'like', 'in', 'the', 'genre', 'and', 'downplays', 'those', 'that', 'haven', 'held', 'up', 'as', 'well', 'it', 'can', 'be', 'seen', 'immediately', 'with', 'the', 'protagonist', 'yuuji', 'itadori', 'while', 'yes', 'he', 'is', 'teenage', 'protagonist', 'with', 'the', 'goal', 'to', 'protect', 'others', 'and', 'become', 'better', 'at', 'some', 'special', 'skill', 'lot', 'of', 'the', 'more', 'in', 'your', 'face', 'elements', 'of', 'this', 'are', 'downplayed', 'he', 'not', 'an', 'overly', 'hyperactive', 'idiot', 'an', 'insecure', 'nerd', 'or', 'miserable', 'angsty', 'sad', 'sack', 'but', 'has', 'good', 'balance', 'of', 'characteristics', 'being', 'risk', 'taker', 'at', 'important', 'moments', 'more', 'down', 'to', 'earth', 'yet', 'still', 'very', 'passionate', 'about', 'his', 'interests', 'should', 'the', 'subject', 'arise', 'character', 'design', 'helps', 'with', 'this', 'as', 'he', 'alongside', 'the', 'other', 'members', 'of', 'the', 'hero', 'cast', 'have', 'taller', 'designs', 'that', 'fit', 'the', 'cool', 'rebellious', 'teen', 'look', 'la', 'bleach', 'more', 'than', 'the', 'short', 'childish', 'look', 'of', 'many', 'shonen', 'heroes', 'the', 'uniforms', 'convey', 'style', 'during', 'day', 'and', 'night', 'with', 'their', 'reflective', 'black', 'and', 'blue', 'surfaces', 'but', 'yuuji', 'still', 'sets', 'himself', 'apart', 'with', 'the', 'red', 'hood', 'adding', 'that', 'degree', 'of', 'cheeriness', 'to', 'the', 'rest', 'of', 'the', 'outfit', 'yuuji', 'doesn', 'just', 'feel', 'like', 'an', 'archetype', 'he', 'feels', 'like', 'character', 'one', 'given', 'an', 'early', 'sense', 'of', 'consequence', 'as', 'well', 'as', 'an', 'interesting', 'comparison', 'to', 'be', 'made', 'with', 'the', 'final', 'boss', 'tier', 'opponent', 'in', 'his', 'body', 'as', 'far', 'as', 'power', 'ceiling', 'goes', 'the', 'idea', 'of', 'this', 'manifest', 'double', 'is', 'played', 'up', 'more', 'in', 'the', 'first', 'half', 'of', 'the', 'show', 'than', 'the', 'second', 'but', 'as', 'yuuji', 'grows', 'personally', 'it', 'promises', 'to', 'be', 'unique', 'recurring', 'element', 'jujutsu_kaisen', 'wants', 'to', 'mix', 'shonen', 'power', 'action', 'comedy', 'and', 'horror', 'ideas', 'together', 'into', 'one', 'distinct', 'package', 'and', 'all', 'things', 'considered', 'it', 'really', 'cohesive', 'the', 'first', 'half', 'of', 'the', 'show', 'is', 'primarily', 'dedicated', 'to', 'showing', 'the', 'ropes', 'of', 'the', 'world', 'to', 'yuuji', 'but', 'even', 'this', 'basic', 'setup', 'is', 'handled', 'in', 'some', 'pretty', 'fun', 'ways', 'by', 'episode', 'they', 'already', 'have', 'the', 'main', 'three', 'characters', 'banter', 'together', 'in', 'an', 'enjoyable', 'dynamic', 'that', 'thankfully', 'never', 'turns', 'into', 'love', 'triangle', 'bollocks', 'later', 'episode', 'has', 'to', 'explain', 'how', 'the', 'show', 'power_system', 'works', 'but', 'it', 'doesn', 'have', 'yuuji', 'sit', 'in', 'classroom', 'to', 'learn', 'about', 'it', 'through', 'exposition', 'dumps', 'or', 'even', 'white', 'haired', 'mentor', 'character', 'gojou', 'talking', 'to', 'him', 'about', 'it', 'one', 'on', 'one', 'no', 'gojou', 'an', 'incredibly', 'wholesome', 'gadfly', 'so', 'he', 'pulls', 'yuuji', 'out', 'of', 'movie', 'induced', 'focus', 'to', 'actively', 'demonstrate', 'how', 'cursed', 'domains', 'work', 'against', 'monster', 'who', 'actively', 'reacts', 'to', 'its', 'use', 'this', 'felt', 'like', 'much', 'more', 'natural', 'way', 'to', 'convey', 'exposition', 'and', 'even', 'the', 'more', 'whiteboard', 'exposition', 'like', 'the', 'danger', 'grade', 'levels', 'is', 'conveyed', 'with', 'pretty', 'breezy', 'sardonic', 'sense', 'of', 'humor', 'it', 'also', 'introduces', 'the', 'villains', 'in', 'way', 'that', 'while', 'not', 'outstanding', 'worked', 'well', 'in', 'pushing', 'yuuji', 'to', 'his', 'physical', 'and', 'emotional', 'limit', 'right', 'before', 'the', 'second_half', 'started', 'the', 'only', 'weird', 'structural', 'issue', 'had', 'with', 'the', 'first', 'half', 'was', 'some', 'backstory', 'for', 'kento', 'nanami', 'it', 'spliced', 'right', 'in', 'the', 'middle', 'of', 'serious', 'fight', 'where', 'the', 'circumstances', 'leading', 'to', 'it', 'and', 'the', 'consequences', 'following', 'it', 'were', 'far', 'more', 'pertinent', 'than', 'this', 'one', 'guy', 'backstory', 'by', 'the', 'end', 'of', 'the', 'season', 'he', 'was', 'one', 'of', 'the', 'characters', 'who', 'left', 'the', 'least', 'impression', 'on', 'me', 'the', 'second_half', 'of', 'the', 'show', 'makes', 'the', 'focus', 'of', 'the', 'first', 'half', 'even', 'more', 'reasonable', 'whilst', 'honing', 'in', 'on', 'the', 'aspect', 'that', 'grew', 'my', 'attention', 'the', 'most', 'early', 'on', 'the', 'many', 'students', 'from', 'their', 'setting', 'magic', 'school', 'all', 'wearing', 'the', 'same', 'swag', 'as', 'hell', 'reflective', 'uniform', 'the', 'exchange_event', 'team', 'battle', 'serves', 'as', 'great', 'way', 'to', 'introduce', 'lot', 'of', 'these', 'characters', 'their', 'powers', 'unique', 'designs', 'and', 'their', 'respective', 'dilemmas', 'without', 'cheating', 'shit', 'later', 'as', 'story', 'ramps', 'up', 'almost', 'third', 'of', 'the', 'run', 'is', 'spent', 'on', 'this', 'but', 'it', 'infinitely', 'more', 'interesting', 'than', 'having', 'tournament_arc', 'in', 'small', 'arena', 'cutting', 'to', 'stills', 'of', 'audience', 'reaction', 'since', 'it', 'gets', 'out', 'lot', 'more', 'fun', 'character', 'moments', 'akutami', 'understands', 'that', 'we', 'as', 'the', 'excitable', 'audience', 'want', 'to', 'see', 'some', 'coolass', 'superpowers', 'from', 'shonen', 'and', 'he', 'happily', 'delivers', 'ton', 'of', 'those', 'that', 'get', 'to', 'shine', 'in', 'this', 'arc', 'from', 'characters', 'like', 'nobara', 'the', 'main', 'female', 'girl', 'in', 'the', 'series', 'that', 'much', 'like', 'yuuji', 'doesn', 'feel', 'tied', 'to', 'an', 'archetype', 'appreciating', 'fashion', 'and', 'fangirling', 'over', 'exciting', 'scenes', 'yet', 'not', 'taking', 'taunts', 'lightly', 'being', 'protective', 'of', 'her', 'friends', 'and', 'having', 'coolass', 'power', 'of', 'fabricating', 'voodoo', 'dolls', 'with', 'specially', 'sized', 'hammers', 'guy', 'who', 'can', 'only', 'speak', 'normally', 'in', 'ramen', 'ingredients', 'but', 'has', 'incredible', 'word', 'power', 'with', 'increasingly', 'higher', 'personal', 'costs', 'against', 'opponents', 'an', 'incredibly', 'wholesome', 'talking', 'panda', 'with', 'very', 'versatile', 'fighting', 'stances', 'bratty', 'yet', 'at', 'times', 'comically', 'deadpan', 'witch', 'girl', 'with', 'vantage', 'via', 'flight', 'cool', 'looking', 'bloodbender', 'that', 'currently', 'gets', 'by', 'throwing', 'packets', 'but', 'll', 'inevitably', 'have', 'to', 'use', 'his', 'own', 'as', 'deadly', 'consequence', 'the', 'adorableness', 'incarnate', 'that', 'is', 'miwa', 'super', 'earnest', 'girl', 'with', 'simple', 'dream', 'and', 'appropriately', 'simple', 'power', 'that', 'is', 'easy', 'to', 'see', 'as', 'being', 'friendly', 'with', 'others', 'possible', 'reflection', 'for', 'the', 'audience', 'too', 'two', 'sisters', 'mai', 'and', 'maki', 'with', 'quick', 'but', 'strong', 'burst', 'of', 'emotional', 'tension', 'established', 'between', 'them', 'they', 'each', 'have', 'some', 'sort', 'of', 'limit', 'maki', 'being', 'an', 'incredibly', 'resolute', 'fighter', 'but', 'with', 'weakness', 'to', 'not', 'see', 'curses', 'without', 'glasses', 'and', 'mai', 'being', 'unable', 'to', 'use', 'curses', 'without', 'an', 'object', 'but', 'being', 'driven', 'by', 'heaps', 'of', 'vindictive', 'spite', 'talking', 'iron', 'man', 'suit', 'with', 'twist', 'that', 'pleasantly', 'caught', 'me', 'off', 'guard', 'toudou', 'muscleman', 'who', 'incredibly', 'self', 'centered', 'until', 'struck', 'at', 'personal', 'interest', 'in', 'which', 'case', 'he', 'becomes', 'an', 'increasingly', 'earnest', 'partner', 'with', 'sickass', 'skill', 'not', 'everyone', 'may', 'like', 'all', 'of', 'these', 'characters', 'but', 'with', 'their', 'fun', 'powers', 'interesting', 'power', 'limiters', 'and', 'or', 'distinct', 'personalities', 'they', 'nail', 'the', 'appeal', 'of', 'shonen', 'ensemble', 'the', 'initial', 'presentation', 'of', 'these', 'abilities', 'in', 'lower', 'stakes', 'scenario', 'makes', 'their', 'introduction', 'less', 'intrusive', 'on', 'wider', 'plot', 'plus', 'the', 'majority', 'of', 'these', 'personalities', 'play', 'well', 'for', 'whenever', 'the', 'goofier', 'moments', 'roll', 'around', 'particularly', 'in', 'the', 'post', 'episode', 'stingers', 'and', 'episodes', 'like', 'glad', 'the', 'author', 'thought', 'beyond', 'the', 'overly', 'standard', 'elemental', 'stuff', 'to', 'make', 'the', 'ensemble', 'leave', 'an', 'impression', 'only', 'hero', 'characters', 'of', 'note', 'didn', 'go', 'more', 'extensively', 'on', 'are', 'megumi', 'and', 'gojou', 'admittedly', 'megumi', 'doesn', 'leave', 'quite', 'as', 'much', 'an', 'impression', 'as', 'the', 'others', 'but', 'he', 'still', 'has', 'pretty', 'cool', 'power', 'over', 'familiars', 'and', 'got', 'more', 'interesting', 'near', 'the', 'end', 'as', 'his', 'persona', 'began', 'to', 'unravel', 'and', 'gojou', 'is', 'such', 'fun', 'rendition', 'of', 'the', 'typical', 'mentor', 'character', 'with', 'an', 'excellent', 'design', 'that', 'fitting', 'to', 'both', 'sides', 'of', 'his', 'character', 'constantly', 'holding', 'back', 'yet', 'being', 'comically', 'curious', 'comedy', 'doesn', 'only', 'exist', 'for', 'its', 'own', 'sake', 'but', 'often', 'as', 'way', 'for', 'yuuji', 'to', 'bond', 'with', 'other', 'characters', 'in', 'the', 'cast', 'such', 'as', 'nobara', 'or', 'toudou', 'it', 'given', 'lot', 'of', 'creative', 'expressions', 'and', 'for', 'characters', 'like', 'miwa', 'where', 'their', 'design', 'presentation', 'is', 'intentionally', 'at', 'odds', 'with', 'their', 'character', 'it', 'feels', 'fitting', 'and', 'adorable', 'even', 'gojou', 'comical', 'overpowerdness', 'doesn', 'purely', 'exist', 'to', 'be', 'joke', 'by', 'itself', 'fitting', 'his', 'troll', 'mentor', 'personality', 'or', 'an', 'excuse', 'for', 'the', 'animators', 'to', 'flex', 'to', 'stunning', 'degree', 'but', 'an', 'element', 'actually', 'considered', 'by', 'the', 'show', 'antagonists', 'some', 'jokes', 'don', 'land', 'but', 'there', 'enough', 'characterful', 'personality', 'and', 'expressiveness', 'to', 'them', 'for', 'them', 'to', 'not', 'feel', 'out', 'of', 'place', 'separate', 'from', 'more', 'serious', 'points', 'to', 'come', 'as', 'for', 'the', 'horror', 'elements', 'jujutsu_kaisen', 'animation', 'does', 'great', 'job', 'conveying', 'the', 'darker', 'atmosphere', 'when', 'need', 'be', 'in', 'the', 'early', 'mid', 'section', 'of', 'the', 'show', 'it', 'really', 'gets', 'that', 'major', 'part', 'of', 'horror', 'presentation', 'is', 'fear', 'of', 'the', 'other', 'and', 'more', 'specifically', 'body', 'horror', 'of', 'not', 'quite', 'humans', 'with', 'some', 'excellent', 'creature', 'design', 'animated', 'in', 'off', 'kilter', 'ways', 'as', 'gojou', 'states', 'everyone', 'at', 'jujutsu', 'academy', 'is', 'little', 'crazy', 'so', 'it', 'makes', 'the', 'major', 'characters', 'in', 'the', 'show', 'lean', 'into', 'these', 'crazier', 'designs', 'when', 'channeling', 'immense', 'power', 'fitting', 'for', 'series', 'around', 'handling', 'curses', 'thus', 'the', 'show', 'has', 'its', 'main', 'villain', 'mahito', 'use', 'body', 'horror', 'to', 'startling', 'effect', 'when', 'creating', 'his', 'monster', 'army', 'while', 'wouldn', 'call', 'the', 'guy', 'particularly', 'deep', 'so', 'far', 'the', 'show', 'does', 'present', 'playfully', 'devilish', 'personality', 'and', 'show', 'his', 'capacity', 'to', 'manipulate', 'others', 'in', 'reasonable', 'sense', 'his', 'powers', 'to', 'twist', 'the', 'composition', 'of', 'both', 'himself', 'and', 'those', 'he', 'gets', 'close', 'to', 'in', 'uncanny', 'distorted', 'shapes', 'play', 'into', 'the', 'show', 'theme', 'about', 'curse', 'power', 'perfectly', 'the', 'show', 'isn', 'that', 'scary', 'but', 'it', 'adds', 'an', 'additionally', 'unique', 'element', 'for', 'itself', 'with', 'these', 'fitting', 'and', 'well', 'animated', 'leans', 'to', 'body', 'horror', 'speaking', 'of', 'animation', 'that', 'most', 'definitely', 'major', 'draw', 'into', 'the', 'series', 'director', 'seong', 'hu', 'park', 'and', 'his', 'incredibly', 'talented', 'team', 'of', 'animators', 'making', 'bursts', 'of', 'exciting', 'visually', 'active', 'battle', 'scenes', 'when', 'showing', 'off', 'the', 'characters', 'and', 'their', 'various', 'powers', 'almost', 'every', 'episode', 'has', 'scuffle', 'in', 'it', 'several', 'of', 'which', 'have', 'some', 'exciting', 'camerawork', 'to', 'make', 'leadups', 'to', 'individual', 'actions', 'consistently', 'dynamic', 'yes', 'comparing', 'fights', 'definitely', 'shows', 'that', 'some', 'look', 'better', 'than', 'others', 'the', 'sewer', 'fights', 'stood', 'out', 'the', 'least', 'to', 'me', 'but', 'relative', 'to', 'the', 'sheer', 'quantity', 'of', 'fights', 'illustrated', 'in', 'the', 'source', 'as', 'well', 'as', 'the', 'shonen', 'anime', 'landscape', 'at', 'large', 'it', 'incredibly', 'impressive', 'and', 'that', 'the', 'action', 'was', 'this', 'consistent', 'over', 'the', 'run', 'lot', 'of', 'the', 'common', 'issues', 'with', 'anime', 'fight_scenes', 'placeholder', 'backgrounds', 'motion', 'tweens', 'to', 'cover', 'up', 'lack', 'of', 'movement', 'butt', 'ugly', 'cgi', 'long', 'periods', 'of', 'chat', 'in', 'between', 'blows', 'didn', 'come', 'up', 'for', 'me', 'during', 'the', 'production', 'which', 'really', 'speaks', 'to', 'the', 'work', 'or', 'possible', 'overwork', 'involved', 'in', 'the', 'passion', 'cursed', 'domains', 'in', 'particular', 'get', 'excellent', 'scene', 'setting', 'animation', 'and', 'the', 'unique', 'way', 'aura', 'is', 'depicted', 'with', 'its', 'aquamarine', 'coloring', 'and', 'pseudo', 'drawn', 'outline', 'adds', 'definably', 'high', 'energy', 'to', 'individual', 'moves', 'this', 'of', 'course', 'is', 'helped', 'by', 'pumping', 'score', 'with', 'nanami', 'theme', 'fushigoro', 'theme', 'and', 'your', 'battle', 'is', 'my', 'battle', 'standing', 'out', 'most', 'among', 'them', 'in', 'general', 'while', 'individual', 'fights', 'aren', 'on', 'par', 'with', 'ufotable', 'more', 'thinly', 'spread', 'action', 'scenes', 'the', 'impressive', 'flexes', 'from', 'the', 'team', 'and', 'strong', 'character', 'tone', 'aesthetic', 'create', 'consistently', 'visually', 'appealing', 'show', 'jujutsu_kaisen', 'doesn', 'feel', 'like', 'massively', 'grand', 'vision', 'yet', 'so', 'much', 'as', 'an', 'ever', 'evolving', 'series', 'of', 'smaller', 'elements', 'that', 'combine', 'well', 'together', 'when', 'taped', 'with', 'strong', 'structural', 'decisions', 'but', 'this', 'feels', 'in', 'line', 'with', 'my', 'natural', 'selection', 'thesis', 'in', 'its', 'characters', 'its', 'story', 'structure', 'its', 'tone', 'and', 'its', 'ease', 'to', 'hop', 'into', 'exciting', 'powerup', 'action', 'the', 'animation', 'team', 'flexed', 'over', 'it', 'gets', 'what', 'audiences', 'want', 'from', 'shonen', 'material', 'as', 'strong', 'start', 'to', 'story', 'while', 'removing', 'or', 'playing', 'down', 'stuff', 'that', 'been', 'less', 'palatable', 'overtime', 'can', 'only', 'hope', 'it', 'improves', 'further', 'as', 'the', 'characters', 'battle', 'conceits', 'become', 'stronger', 'and', 'its', 'many', 'dynamics', 'continue', 'to', 'be', 'tested', 'helpful_read', 'more']\n"
     ]
    }
   ],
   "source": [
    "# Create bigrams, remove stop words and lemmatize the reviews\n",
    "\n",
    "# Build the bigram models\n",
    "bigram = gensim.models.Phrases(data_words, min_count=5, threshold=100) # higher threshold fewer phrases.\n",
    "\n",
    "# Faster way to get a sentence clubbed as a trigram/bigram\n",
    "bigram_mod = gensim.models.phrases.Phraser(bigram)\n",
    "\n",
    "print(bigram_mod[data_words[4]])"
   ]
  },
  {
   "cell_type": "code",
   "execution_count": 18,
   "metadata": {},
   "outputs": [],
   "source": [
    "# Defining removing stopwords\n",
    "def remove_stopwords(texts):\n",
    "    return [[word for word in simple_preprocess(str(doc)) if word not in stop_words] for doc in texts]\n",
    "\n",
    "# Defining making bigrams\n",
    "def make_bigrams(texts):\n",
    "    return [bigram_mod[doc] for doc in texts]\n",
    "\n",
    "# Defining lemmatization\n",
    "def lemmatization(texts, allowed_postags=['NOUN', 'ADJ', 'VERB', 'ADV']):\n",
    "    texts_out = []\n",
    "    for sent in texts:\n",
    "        doc = nlp(\" \".join(sent)) \n",
    "        texts_out.append([token.lemma_ for token in doc if token.pos_ in allowed_postags])\n",
    "    return texts_out"
   ]
  },
  {
   "cell_type": "code",
   "execution_count": 19,
   "metadata": {},
   "outputs": [
    {
     "name": "stdout",
     "output_type": "stream",
     "text": [
      "['overall', 'story', 'animation', 'sound', 'character', 'enjoyment', 'megumi', 'fushiguro', 'also', 'steel', 'post', 'critical', 'review', 'beloved', 'anime', 'late', 'shounen', 'gain', 'surge', 'popularity', 'get', 'invite', 'join', 'mainstream', 'table', 'true', 'anime', 'titan', 'probably', 'take', 'seat', 'right', 'next', 'say', 'certainty', 'primarily', 'studio', 'mappa', 'admirable', 'dedication', 'making', 'show', 'particularly', 'fight_scene', 'look', 'breathtakingly', 'good', 'age', 'old', 'question', 'fantastic', 'animation', 'trump', 'average', 'writing', 'blunt', 'guess', 'take', 'lesson', 'protagonist', 'itadori', 'book', 'say', 'jujutsu', 'bit', 'find', 'several', 'glaring', 'issue', 'anime', 'also', 'many', 'great', 'aspect', 'therefore', 'gon', 'thing', 'little', 'differently', 'review', 'go', 'area', 'believe', 'anime', 'handle', 'poorly', 'represent', 'sukuna', 'king', 'curse', 'curse', 'finger', 'department', 'triumphant', 'success', 'eye', 'represent', 'sukuna', 'finger', 'eat', 'itadori', 'probably', 'give', 'digestion', 'issue', 'poor', 'guy', 'mean', 'eat', 'century', 'old', 'finger', 'bleh', 'probably', 'nutrient', 'leave', 'old', 'thing', 'wonder', 'go', 'finger', 'sukuna', 'overall', 'heh', 'sheer', 'power', 'represent', 'finger', 'embed', 'review', 'massive', 'cursed_energy', 'even', 'control', 'fine', 'actually', 'think', 'thing', 'make', 'review', 'drag', 'anyway', 'happy', 'let', 'get', 'sukuna', 'curse', 'finger', 'comedy', 'figure', 'get', 'way', 'subjective', 'flaw', 'list', 'comedy', 'come', 'shape', 'form', 'preference', 'comedy', 'jujutsu_kaisen', 'preference', 'ok', 'hard', 'department', 'mean', 'laugh', 'boob', 'joke', 'panty', 'shot', 'tell', 'kind', 'person', 'yet', 'shounen', 'always', 'seem', 'fail', 'come', 'humor', 'mean', 'generally', 'place', 'anime', 'try', 'serious', 'lot', 'dark', 'moment', 'immediately', 'follow', 'character', 'make', 'stupid', 'face', 'say', 'dumb', 'thing', 'time', 'consistently', 'terrible', 'heck', 'credit', 'scene', 'dunno', 'find', 'odd', 'comedy', 'basically', 'boil', 'character', 'act', 'overly', 'idiotic', 'incredibly', 'loud', 'annoying', 'random', 'moment', 'try', 'character', 'even', 'villain', 'know', 'slaughter', 'hundred', 'potentially', 'thousand', 'work', 'find', 'show', 'character', 'funny', 'exception', 'kyoto', 'school', 'student', 'thank', 'goodness', 'gojou', 'little', 'quip', 'sukuna', 'consume', 'finger', 'action', 'quite', 'obvious', 'eye', 'definitely', 'bring', 'epic', 'fight', 'sequence', 'first', 'positive', 'highlight', 'show', 'focal', 'point', 'numerous', 'episode', 'curse', 'come', 'shape', 'size', 'jujutsu', 'sorcerer', 'diverse', 'ability', 'fight', 'unique', 'character', 'battle', 'think', 'thing', 'really', 'pick', 'intrigue', 'intensity', 'itadori', 'ideal', 'businessman', 'nanami', 'take', 'villainous', 'childish', 'antagonist', 'mahito', 'well', 'animated', 'fight', 'lot', 'interesting', 'tactic', 'show', 'go', 'outdo', 'sister', 'school', 'arc', 'lot', 'great', 'combat', 'sequence', 'display', 'culminate', 'itadori', 'toudou', 'hanami', 'fight', 'personal', 'favorite', 'great', 'action', 'sukuna', 'curse', 'finger', 'main', 'character', 'probably', 'hold', 'back', 'trio', 'itadori', 'megumi', 'bad', 'fan', 'itadori', 'typical', 'dense', 'protagonist', 'guy', 'constantly', 'use', 'comedy', 'already', 'know', 'feel', 'belief', 'interesting', 'get', 'later', 'several', 'character', 'appropriately', 'call', 'sukuna', 'vessel', 'dude', 'much', 'fun', 'interesting', 'character', 'itadori', 'necessary', 'itadori', 'develop', 'order', 'progress', 'narrative', 'show', 'conveniently', 'give', 'ridiculously', 'brief', 'revelation', 'sentence', 'long', 'talk', 'else', 'boom', 'get', 'strong', 'stuff', 'absolutely', 'atrocious', 'good', 'buddy', 'even', 'act', 'character', 'terribly', 'inconsistent', 'supposedly', 'bond', 'itadori', 'yet', 'show', 'emotion', 'come', 'back', 'certain', 'deadly', 'event', 'situation', 'get', 'serious', 'death', 'involve', 'nobara', 'act', 'entirely', 'obnoxious', 'megumi', 'react', 'practically', 'try', 'make', 'cool', 'stoic', 'character', 'make', 'cold', 'turn', 'ice', 'frosty', 'nonexistent', 'personality', 'painstakingly', 'poorly', 'write', 'gojou', 'also', 'consider', 'main', 'character', 'really', 'see', 'count', 'definitely', 'favorite', 'fan', 'absolutely', 'overpower', 'enjoy', 'lay', 'back', 'yet', 'care', 'nature', 'think', 'solid', 'addition', 'show', 'sukuna', 'consume', 'finger', 'flip', 'side', 'really', 'appreciate', 'side', 'character', 'write', 'sukuna', 'great', 'setup', 'actually', 'part', 'itadori', 'obnoxious', 'condescending', 'tone', 'take', 'kid', 'pretty', 'fun', 'guy', 'intriguing', 'character', 'mention', 'kyoto', 'school', 'student', 'lot', 'entertain', 'one', 'tokyo', 'exception', 'panda', 'course', 'panda', 'main', 'character', 'panda', 'yet', 'panda', 'backstory', 'intelligence', 'panda', 'really', 'like', 'miwa', 'think', 'fun', 'replace', 'main', 'girl', 'honestly', 'top', 'nature', 'mechamaru', 'backstory', 'joke', 'love', 'morning', 'break', 'leg', 'afternoon', 'break', 'arm', 'girl', 'group', 'interesting', 'well', 'toudou', 'probably', 'favorite', 'character', 'sukuna', 'comedic', 'value', 'actually', 'funny', 'like', 'dynamic', 'itadori', 'top', 'nature', 'surprisingly', 'big', 'success', 'rub', 'wrong', 'way', 'thought', 'nice', 'support', 'cast', 'juju', 'sukuna', 'curse', 'finger', 'motivation', 'boy', 'fight', 'right', 'death', 'straight', 'synopsis', 'think', 'sentence', 'sound', 'stupid', 'wish', 'itadori', 'ideal', 'least', 'word', 'differently', 'motivation', 'certainty', 'unique', 'fan', 'itadori', 'whole', 'shtick', 'portray', 'mean', 'get', 'want', 'people', 'die', 'curse', 'instead', 'pass', 'content', 'satisfied', 'life', 'pretty', 'cool', 'way', 'express', 'wish', 'feel', 'strange', 'sometimes', 'overly', 'macabre', 'sit', 'right', 'probably', 'goal', 'make', 'character', 'feel', 'little', 'dunno', 'also', 'villain', 'curse', 'pretty', 'bad', 'motivation', 'mean', 'true', 'people', 'true', 'emotion', 'human', 'curse', 'constantly', 'show', 'wavering', 'change', 'feeling', 'work', 'come', 'theme', 'demonstrate', 'show', 'end', 'feel', 'express', 'well', 'sukuna', 'consume', 'finger', 'dark', 'content', 'love', 'anime', 'afraid', 'get', 'violent', 'grotesque', 'curse', 'look', 'creepy', 'mostly', 'refer', 'look', 'show', 'hide', 'fact', 'death', 'synonymous', 'curse', 'universe', 'plenty', 'screen', 'killing', 'even', 'main', 'character', 'safe', 'anime', 'clutch', 'thing', 'get', 'darkest', 'arc', 'junpei', 'mahito', 'let', 'say', 'expect', 'happen', 'junpei', 'go', 'least', 'anticipate', 'sort', 'reversal', 'fate', 'really', 'ton', 'horrifying', 'maybe', 'bit', 'strong', 'word', 'digress', 'content', 'anime', 'believe', 'definitely', 'work', 'show', 'favor', 'sukuna', 'curse', 'finger', 'power', 'scale', 'small', 'issue', 'anime', 'absolutely', 'despise', 'power_system', 'display', 'handle', 'shounen', 'show', 'love', 'kind', 'mechanic', 'usually', 'use', 'primarily', 'show', 'protagonist', 'get', 'strong', 'move', 'rank', 'hunterxhunter', 'utilize', 'effectively', 'bizarre', 'rank', 'curse', 'jujutsu', 'sorcerer', 'poorly', 'conceive', 'make', 'absolutely', 'irrelevant', 'guy', 'gojou', 'practically', 'destroy', 'world', 'feel', 'much', 'explanation', 'work', 'especially', 'negligible', 'itadori', 'basically', 'power', 'advance', 'next', 'level', 'get', 'sentence', 'long', 'talk', 'toudou', 'kinda', 'silly', 'honestly', 'sukuna', 'consume', 'finger', 'audiovisual', 'already', 'mention', 'briefly', 'section', 'show', 'look', 'hella', 'good', 'great', 'artistic', 'quality', 'lot', 'diverse', 'inventive', 'design', 'equally', 'important', 'animation', 'character', 'movement', 'fluid', 'look', 'awkward', 'also', 'soundtrack', 'solid', 'several', 'piece', 'help', 'enhance', 'scene', 'pump', 'fight', 'make', 'unnerved', 'horror', 'base', 'moment', 'theme', 'song', 'pretty', 'hype', 'well', 'boast', 'great', 'technical', 'aspect', 'sukuna', 'curse', 'finger', 'plot', 'progression', 'final', 'issue', 'list', 'review', 'focus', 'narrative', 'sorry', 'plot', 'basically', 'boil', 'righteous', 'protagonist', 'unlimited', 'potential', 'get', 'strong', 'friend', 'beat', 'bad', 'guy', 'terribly', 'generic', 'really', 'focus', 'story', 'offer', 'particularly', 'great', 'several', 'part', 'plain', 'sloppy', 'shove', 'literally', 'backstory', 'sister', 'school', 'event', 'instead', 'properly', 'space', 'scene', 'ultimately', 'bad', 'plot', 'really', 'take', 'risk', 'try', 'new', 'exception', 'sukuna', 'assume', 'final', 'boss', 'live', 'itadori', 'pretty', 'cool', 'next', 'do', 'second_half', 'show', 'end', 'write', 'unfortunately', 'standard', 'progression', 'end', 'mediocre', 'part', 'anime', 'sukuna', 'consume', 'finger', 'entertainment', 'say', 'fun', 'experience', 'lack', 'several', 'key', 'department', 'show', 'pretty', 'entertaining', 'action', 'character', 'interaction', 'comedic', 'scene', 'bring', 'lot', 'table', 'wide', 'variety', 'people', 'enjoy', 'respect', 'show', 'else', 'enjoyable', 'view', 'experience', 'go', 'end']\n"
     ]
    }
   ],
   "source": [
    "# Remove Stop Words\n",
    "data_words_nostops = remove_stopwords(data_words)\n",
    "\n",
    "# Form Bigrams\n",
    "data_words_bigrams = make_bigrams(data_words_nostops)\n",
    "\n",
    "# Initialize spacy 'en' model, keeping only tagger component (for efficiency)\n",
    "# python3 -m spacy download en\n",
    "nlp = spacy.load('en_core_web_sm', disable=['parser', 'ner'])\n",
    "\n",
    "# Do lemmatization keeping only noun, adj, vb, adv\n",
    "data_lemmatized = lemmatization(data_words_bigrams, allowed_postags=['NOUN', 'ADJ', 'VERB', 'ADV'])\n",
    "\n",
    "print(data_lemmatized[0])"
   ]
  },
  {
   "cell_type": "code",
   "execution_count": 20,
   "metadata": {},
   "outputs": [
    {
     "name": "stdout",
     "output_type": "stream",
     "text": [
      "[(0, 1), (1, 4), (2, 3), (3, 3), (4, 3), (5, 1), (6, 1), (7, 1), (8, 1), (9, 1), (10, 1), (11, 2), (12, 5), (13, 1), (14, 1), (15, 3), (16, 10), (17, 1), (18, 1), (19, 1), (20, 1), (21, 1), (22, 1), (23, 2), (24, 1), (25, 1), (26, 1), (27, 2), (28, 1), (29, 1), (30, 1), (31, 1), (32, 1), (33, 3), (34, 3), (35, 4), (36, 1), (37, 3), (38, 1), (39, 1), (40, 1), (41, 2), (42, 1), (43, 1), (44, 2), (45, 1), (46, 1), (47, 1), (48, 1), (49, 2), (50, 1), (51, 1), (52, 1), (53, 1), (54, 1), (55, 1), (56, 2), (57, 1), (58, 1), (59, 1), (60, 2), (61, 1), (62, 1), (63, 1), (64, 1), (65, 1), (66, 1), (67, 1), (68, 2), (69, 1), (70, 20), (71, 1), (72, 1), (73, 1), (74, 1), (75, 5), (76, 2), (77, 5), (78, 1), (79, 1), (80, 1), (81, 1), (82, 2), (83, 5), (84, 3), (85, 1), (86, 1), (87, 3), (88, 1), (89, 1), (90, 1), (91, 1), (92, 1), (93, 1), (94, 14), (95, 1), (96, 2), (97, 1), (98, 1), (99, 3), (100, 1), (101, 3), (102, 1), (103, 1), (104, 3), (105, 1), (106, 1), (107, 1), (108, 1), (109, 1), (110, 2), (111, 1), (112, 1), (113, 2), (114, 2), (115, 1), (116, 1), (117, 1), (118, 1), (119, 2), (120, 1), (121, 2), (122, 1), (123, 2), (124, 1), (125, 2), (126, 4), (127, 1), (128, 2), (129, 1), (130, 1), (131, 1), (132, 1), (133, 1), (134, 1), (135, 1), (136, 1), (137, 1), (138, 1), (139, 4), (140, 2), (141, 3), (142, 1), (143, 2), (144, 1), (145, 2), (146, 2), (147, 1), (148, 1), (149, 1), (150, 3), (151, 1), (152, 1), (153, 1), (154, 3), (155, 5), (156, 1), (157, 6), (158, 1), (159, 1), (160, 2), (161, 3), (162, 1), (163, 15), (164, 1), (165, 1), (166, 1), (167, 1), (168, 1), (169, 2), (170, 1), (171, 1), (172, 1), (173, 1), (174, 4), (175, 2), (176, 1), (177, 1), (178, 1), (179, 1), (180, 12), (181, 2), (182, 2), (183, 1), (184, 5), (185, 1), (186, 3), (187, 1), (188, 3), (189, 1), (190, 7), (191, 1), (192, 1), (193, 1), (194, 5), (195, 1), (196, 2), (197, 1), (198, 1), (199, 1), (200, 1), (201, 1), (202, 1), (203, 1), (204, 1), (205, 1), (206, 1), (207, 2), (208, 1), (209, 1), (210, 1), (211, 1), (212, 1), (213, 1), (214, 1), (215, 1), (216, 2), (217, 1), (218, 1), (219, 1), (220, 1), (221, 1), (222, 2), (223, 1), (224, 1), (225, 1), (226, 4), (227, 1), (228, 1), (229, 1), (230, 1), (231, 1), (232, 1), (233, 4), (234, 15), (235, 1), (236, 2), (237, 1), (238, 3), (239, 1), (240, 2), (241, 1), (242, 1), (243, 1), (244, 2), (245, 1), (246, 1), (247, 2), (248, 2), (249, 1), (250, 1), (251, 1), (252, 1), (253, 1), (254, 2), (255, 1), (256, 1), (257, 1), (258, 2), (259, 1), (260, 1), (261, 2), (262, 2), (263, 1), (264, 3), (265, 1), (266, 2), (267, 5), (268, 6), (269, 1), (270, 3), (271, 1), (272, 2), (273, 5), (274, 1), (275, 7), (276, 1), (277, 1), (278, 1), (279, 1), (280, 1), (281, 5), (282, 1), (283, 1), (284, 1), (285, 3), (286, 2), (287, 1), (288, 3), (289, 1), (290, 1), (291, 3), (292, 1), (293, 1), (294, 2), (295, 1), (296, 2), (297, 3), (298, 1), (299, 1), (300, 1), (301, 3), (302, 1), (303, 1), (304, 1), (305, 1), (306, 1), (307, 2), (308, 1), (309, 1), (310, 1), (311, 1), (312, 3), (313, 1), (314, 1), (315, 1), (316, 2), (317, 2), (318, 1), (319, 1), (320, 5), (321, 1), (322, 3), (323, 2), (324, 1), (325, 3), (326, 1), (327, 1), (328, 1), (329, 1), (330, 1), (331, 1), (332, 1), (333, 1), (334, 3), (335, 1), (336, 1), (337, 3), (338, 1), (339, 1), (340, 1), (341, 1), (342, 1), (343, 1), (344, 3), (345, 1), (346, 2), (347, 2), (348, 6), (349, 2), (350, 6), (351, 1), (352, 2), (353, 1), (354, 4), (355, 1), (356, 1), (357, 1), (358, 1), (359, 1), (360, 1), (361, 2), (362, 1), (363, 7), (364, 1), (365, 1), (366, 3), (367, 1), (368, 1), (369, 1), (370, 5), (371, 1), (372, 3), (373, 1), (374, 1), (375, 1), (376, 1), (377, 1), (378, 5), (379, 1), (380, 4), (381, 4), (382, 1), (383, 1), (384, 1), (385, 1), (386, 1), (387, 1), (388, 3), (389, 2), (390, 2), (391, 1), (392, 5), (393, 2), (394, 1), (395, 1), (396, 3), (397, 1), (398, 17), (399, 1), (400, 2), (401, 1), (402, 2), (403, 1), (404, 1), (405, 1), (406, 1), (407, 1), (408, 1), (409, 2), (410, 1), (411, 1), (412, 2), (413, 1), (414, 1), (415, 2), (416, 1), (417, 1), (418, 1), (419, 1), (420, 1), (421, 2), (422, 1), (423, 1), (424, 4), (425, 2), (426, 1), (427, 1), (428, 2), (429, 1), (430, 2), (431, 17), (432, 1), (433, 1), (434, 1), (435, 1), (436, 1), (437, 1), (438, 2), (439, 1), (440, 5), (441, 2), (442, 1), (443, 1), (444, 1), (445, 2), (446, 1), (447, 2), (448, 1), (449, 6), (450, 5), (451, 1), (452, 1), (453, 1), (454, 1), (455, 1), (456, 1), (457, 1), (458, 2), (459, 3), (460, 1), (461, 1), (462, 3), (463, 1), (464, 4), (465, 1), (466, 1), (467, 1), (468, 1), (469, 2), (470, 1), (471, 1), (472, 1), (473, 2), (474, 1), (475, 1), (476, 1), (477, 1), (478, 1), (479, 1), (480, 2), (481, 1), (482, 1), (483, 1), (484, 1), (485, 3), (486, 4), (487, 1), (488, 1), (489, 2), (490, 1), (491, 2), (492, 4), (493, 1), (494, 3), (495, 1), (496, 1), (497, 4)]\n"
     ]
    }
   ],
   "source": [
    "# Create Dictionary\n",
    "id2word = corpora.Dictionary(data_lemmatized)\n",
    "\n",
    "# Create Corpus\n",
    "texts = data_lemmatized\n",
    "\n",
    "# Term Document Frequency\n",
    "corpus = [id2word.doc2bow(text) for text in texts]\n",
    "\n",
    "# View\n",
    "print(corpus[0])"
   ]
  },
  {
   "cell_type": "code",
   "execution_count": 21,
   "metadata": {},
   "outputs": [
    {
     "name": "stdout",
     "output_type": "stream",
     "text": [
      "[(0, '0.031*\"character\" + 0.017*\"anime\" + 0.017*\"story\" + 0.015*\"good\" + 0.013*\"show\" + 0.013*\"animation\" + 0.010*\"well\" + 0.010*\"sound\" + 0.009*\"overall\" + 0.009*\"really\"'), (1, '0.014*\"naruto\" + 0.011*\"fight\" + 0.005*\"anime\" + 0.005*\"kill\" + 0.004*\"shounen\" + 0.004*\"haired\" + 0.004*\"yoshino\" + 0.004*\"hero_academia\" + 0.004*\"girl\" + 0.003*\"pretend\"'), (2, '0.011*\"make\" + 0.010*\"character\" + 0.008*\"anime\" + 0.008*\"strong\" + 0.007*\"show\" + 0.007*\"curse\" + 0.007*\"fight\" + 0.006*\"say\" + 0.006*\"bad\" + 0.005*\"get\"'), (3, '0.161*\"epic_epic\" + 0.002*\"gaming\" + 0.002*\"space\" + 0.002*\"crisp\" + 0.002*\"consistently\" + 0.002*\"previous\" + 0.002*\"epic\" + 0.002*\"every_single\" + 0.002*\"fill\" + 0.002*\"masterpiece\"'), (4, '0.000*\"epic_epic\" + 0.000*\"character\" + 0.000*\"anime\" + 0.000*\"get\" + 0.000*\"show\" + 0.000*\"see\" + 0.000*\"well\" + 0.000*\"animation\" + 0.000*\"make\" + 0.000*\"episode\"'), (5, '0.002*\"mega\" + 0.001*\"naru\" + 0.001*\"fathom\" + 0.001*\"gentle\" + 0.001*\"hoping\" + 0.001*\"assign\" + 0.001*\"curve\" + 0.001*\"injure\" + 0.001*\"unreasonable\" + 0.001*\"convenient\"'), (6, '0.000*\"character\" + 0.000*\"anime\" + 0.000*\"story\" + 0.000*\"really\" + 0.000*\"make\" + 0.000*\"show\" + 0.000*\"curse\" + 0.000*\"get\" + 0.000*\"good\" + 0.000*\"well\"'), (7, '0.025*\"que\" + 0.007*\"por\" + 0.007*\"la\" + 0.007*\"el\" + 0.006*\"mas\" + 0.006*\"personaje\" + 0.005*\"todo\" + 0.005*\"anime\" + 0.005*\"nao\" + 0.005*\"esta\"')]\n"
     ]
    }
   ],
   "source": [
    "# Using LDA to develop a topic model with 3 models\n",
    "\n",
    "lda_model = gensim.models.ldamodel.LdaModel(corpus=corpus,\n",
    "                                           id2word=id2word,\n",
    "                                           num_topics=8, \n",
    "                                           random_state=100,\n",
    "                                           update_every=1,\n",
    "                                           chunksize=100,\n",
    "                                           passes=10,\n",
    "                                           alpha='auto',\n",
    "                                           per_word_topics=True)\n",
    "# Print the KeywordS in the 3 topics\n",
    "print(lda_model.print_topics())\n",
    "doc_lda = lda_model[corpus]"
   ]
  },
  {
   "cell_type": "code",
   "execution_count": 22,
   "metadata": {},
   "outputs": [
    {
     "data": {
      "text/html": [
       "\n",
       "<link rel=\"stylesheet\" type=\"text/css\" href=\"https://cdn.jsdelivr.net/gh/bmabey/pyLDAvis@3.3.1/pyLDAvis/js/ldavis.v1.0.0.css\">\n",
       "\n",
       "\n",
       "<div id=\"ldavis_el2045617194879536006469624395\"></div>\n",
       "<script type=\"text/javascript\">\n",
       "\n",
       "var ldavis_el2045617194879536006469624395_data = {\"mdsDat\": {\"x\": [0.2816021010431596, 0.15398034266063113, -0.11153688947889577, -0.07222562207181604, -0.07823170680284017, -0.06009203083940245, -0.056747767846931446, -0.056748426663904776], \"y\": [0.07644211440658658, -0.0941859208813456, 0.139388402188747, -0.07609634056520581, -0.019097602183322723, -0.009659695214304098, -0.008395385720009186, -0.00839557203114645], \"topics\": [1, 2, 3, 4, 5, 6, 7, 8], \"cluster\": [1, 1, 1, 1, 1, 1, 1, 1], \"Freq\": [83.80410123320385, 12.149924833116692, 2.231320860705606, 1.5820927605989183, 0.15420766727820057, 0.06411879775024869, 0.0071192997588266855, 0.007114547587654027]}, \"tinfo\": {\"Term\": [\"fight\", \"anime\", \"shounen\", \"make\", \"naruto\", \"shonen\", \"curse\", \"do\", \"strong\", \"itadori\", \"say\", \"masterpiece\", \"show\", \"sound\", \"feel\", \"bad\", \"probably\", \"thing\", \"animation\", \"overall\", \"enjoyment\", \"get\", \"kind\", \"know\", \"even\", \"go\", \"character\", \"want\", \"first\", \"main\", \"art\", \"amazing\", \"mappa\", \"great\", \"definitely\", \"op\", \"wait\", \"especially\", \"pretty\", \"music\", \"different\", \"opinion\", \"enjoyable\", \"enough\", \"opening\", \"ever\", \"gojo\", \"sure\", \"enjoy\", \"extremely\", \"next\", \"generic\", \"plot\", \"quality\", \"truly\", \"develop\", \"pace\", \"recommend\", \"sound\", \"future\", \"animation\", \"overall\", \"enjoyment\", \"good\", \"jjk\", \"well\", \"manga\", \"hype\", \"story\", \"character\", \"episode\", \"see\", \"shounen\", \"watch\", \"do\", \"really\", \"love\", \"lot\", \"think\", \"much\", \"anime\", \"also\", \"show\", \"time\", \"get\", \"season\", \"first\", \"even\", \"go\", \"make\", \"give\", \"feel\", \"say\", \"fight\", \"theyr\", \"thoroughly\", \"utterly\", \"opponent\", \"helpful\", \"grab\", \"unrealistic\", \"figure\", \"overstay\", \"mark\", \"smart\", \"writer\", \"study\", \"sleep\", \"cliffhanger\", \"heal\", \"awkward\", \"joe\", \"participant\", \"persuade\", \"reciprocity\", \"buy\", \"striking\", \"idk\", \"mad\", \"crucial\", \"unfold\", \"consist\", \"banter\", \"blood\", \"skill\", \"particularly\", \"suppose\", \"special_grade\", \"joke\", \"stupid\", \"person\", \"excuse\", \"brain\", \"copy\", \"word\", \"junpei\", \"strong\", \"run\", \"sister\", \"mahito\", \"enemy\", \"super\", \"make\", \"stuff\", \"curse\", \"human\", \"bad\", \"fight\", \"sense\", \"say\", \"guy\", \"know\", \"thing\", \"anime\", \"show\", \"character\", \"want\", \"talk\", \"get\", \"go\", \"even\", \"feel\", \"many\", \"people\", \"action\", \"give\", \"story\", \"try\", \"que\", \"por\", \"la\", \"el\", \"mas\", \"personaje\", \"esta\", \"nao\", \"una\", \"bien\", \"un\", \"como\", \"los\", \"ver\", \"pero\", \"program\", \"programa\", \"lo\", \"sao\", \"del\", \"para\", \"mucho\", \"muy\", \"personagen\", \"tipo\", \"capitulo\", \"historia\", \"meno\", \"vez\", \"cada\", \"con\", \"todo\", \"anime\", \"cliche\", \"shonen\", \"yoshino\", \"pretend\", \"hearing\", \"total\", \"wind\", \"trigger\", \"complicate\", \"imagination\", \"trouble\", \"survive\", \"gintama\", \"era\", \"jujitsu\", \"ali\", \"shorter\", \"crew\", \"goofball\", \"demon_slayer\", \"crime\", \"abomination\", \"boruto\", \"ceremony\", \"desperately\", \"frown\", \"jitsu\", \"jiu\", \"kaiten\", \"kiddie\", \"likeness\", \"novel\", \"haired\", \"high_school\", \"naruto\", \"hero_academia\", \"flashy\", \"fulfil\", \"scare\", \"faith\", \"kill\", \"fight\", \"rock\", \"girl\", \"proper\", \"team\", \"certainly\", \"shounen\", \"anime\", \"set\", \"modern\", \"cliche\", \"itadori\", \"teacher\", \"light\", \"nobara\", \"epic_epic\", \"gaming\", \"space\", \"crisp\", \"naru\", \"fathom\", \"hoping\", \"injure\", \"gentle\", \"assign\", \"unreasonable\", \"curve\", \"unquestioned\", \"hahaa\", \"knowing\", \"convenient\", \"horrendous\", \"kaka\", \"magnitude\", \"dreadful\", \"pulp\", \"swoop\", \"spike\", \"sakur\", \"garner\", \"sasuk\", \"slapstick\", \"hassle\", \"elite\", \"omega\", \"consistently\", \"epic\", \"previous\", \"every_single\", \"fill\", \"masterpiece\", \"probably\", \"animation\", \"enjoyment\", \"episode\", \"well\", \"overall\", \"sound\", \"story\", \"anime\", \"character\", \"show\", \"good\", \"shounen\", \"really\", \"make\", \"get\", \"see\", \"go\", \"watch\", \"say\", \"mega\", \"naru\", \"fathom\", \"gentle\", \"hoping\", \"injure\", \"assign\", \"curve\", \"unreasonable\", \"unquestioned\", \"convenient\", \"knowing\", \"hahaa\", \"pulp\", \"magnitude\", \"horrendous\", \"dreadful\", \"kaka\", \"swoop\", \"spike\", \"garner\", \"sakur\", \"slapstick\", \"sasuk\", \"hassle\", \"elite\", \"omega\", \"evaluation\", \"attachable\", \"comment\", \"naru\", \"fathom\", \"hoping\", \"gentle\", \"injure\", \"curve\", \"assign\", \"unreasonable\", \"unquestioned\", \"knowing\", \"hahaa\", \"convenient\", \"horrendous\", \"magnitude\", \"kaka\", \"dreadful\", \"pulp\", \"swoop\", \"spike\", \"sakur\", \"sasuk\", \"garner\", \"slapstick\", \"hassle\", \"elite\", \"omega\", \"evaluation\", \"attachable\", \"comment\", \"mega\", \"character\", \"anime\", \"story\", \"really\", \"make\", \"show\", \"curse\", \"get\", \"good\", \"well\", \"episode\", \"even\", \"go\", \"see\", \"series\", \"animation\", \"overall\", \"shounen\", \"also\", \"thing\", \"feel\", \"fight\", \"great\", \"watch\", \"sound\", \"itadori\", \"way\", \"say\", \"pretty\", \"give\", \"naru\", \"fathom\", \"gentle\", \"hoping\", \"injure\", \"assign\", \"curve\", \"unreasonable\", \"unquestioned\", \"knowing\", \"convenient\", \"hahaa\", \"horrendous\", \"magnitude\", \"dreadful\", \"kaka\", \"pulp\", \"swoop\", \"spike\", \"sakur\", \"garner\", \"sasuk\", \"slapstick\", \"hassle\", \"elite\", \"omega\", \"evaluation\", \"attachable\", \"comment\", \"mega\", \"epic_epic\", \"character\", \"anime\", \"get\", \"show\", \"see\", \"well\", \"animation\", \"make\", \"episode\", \"shounen\", \"sound\", \"even\", \"series\", \"story\", \"really\", \"good\", \"much\", \"fight\", \"lot\", \"say\", \"thing\", \"watch\", \"become\", \"think\", \"itadori\", \"want\", \"give\", \"go\", \"feel\"], \"Freq\": [294.0, 891.0, 327.0, 430.0, 91.0, 176.0, 211.0, 168.0, 161.0, 175.0, 297.0, 53.0, 670.0, 457.0, 268.0, 207.0, 70.0, 227.0, 606.0, 449.0, 370.0, 467.0, 94.0, 178.0, 303.0, 306.0, 1527.0, 174.0, 264.0, 193.0, 207.14906658535284, 185.9425563478254, 144.64511869188343, 303.3736021240047, 92.33052562871751, 91.85051542808222, 76.18311922063208, 75.57471926857968, 180.70297267763377, 71.25111564813828, 88.35033907778798, 69.72119905093521, 68.96098444581604, 86.98138980077556, 65.3111279673418, 63.18864202039588, 68.04423069938449, 64.42950882977955, 156.2953006519102, 56.15172254899606, 71.41230794395965, 62.822348770284904, 161.44883388694828, 60.07657058197358, 49.26612936892801, 47.67168317617554, 46.24352141059393, 44.9077587827212, 453.85631166143395, 43.05947423196571, 600.9628942164759, 445.5981476454196, 367.62578625907554, 711.4106964144241, 209.33148384544424, 456.87041444348387, 124.6000533788772, 95.96962168738968, 817.8773298507623, 1458.033481110482, 382.6795971005452, 361.10482919154566, 318.26446476229114, 356.6607813004997, 165.56471366647827, 437.9604773934126, 195.4735337127888, 199.61306336959922, 309.4862448833694, 286.2391288540651, 823.6614642915596, 260.4174356042336, 620.2549167084942, 288.4280210225534, 431.1659499589005, 208.74830311287695, 248.2084580751278, 274.22826157306434, 275.18841366738707, 355.38384156925025, 229.5430969717256, 237.76640622660645, 252.58009673633788, 238.1923454549166, 12.600803954917735, 10.624734228636946, 10.407672179883203, 8.466715829845377, 8.330439685393976, 7.931925378710441, 7.516174189452792, 7.304025372192921, 7.180368022747317, 6.939049280101141, 6.699264331224425, 6.474489161364976, 6.221111283420894, 6.241815510468138, 6.213177401023162, 6.146299060350335, 5.94355228752219, 5.891323347973701, 5.891323347973701, 5.891323347973701, 5.891323347973701, 5.8907270936011855, 5.885888642508935, 6.053108758044722, 5.656577723076573, 5.383061244314545, 5.335960331030549, 5.332201024776615, 5.306505603689125, 5.05729792643981, 15.283801457044058, 9.261942553747806, 27.790373355018676, 8.671836880425055, 35.57496224966319, 20.920161025683935, 21.832532839801264, 7.930063824031739, 6.935287985006738, 13.827383128250473, 18.446967895672984, 19.483028085147225, 52.257394286842334, 18.04572967308352, 10.302501500362245, 19.277902261350423, 12.670587593747237, 26.782387637600582, 74.4097708597473, 20.94452193481693, 47.639930418895645, 20.781990709570145, 40.03926949079636, 46.724834688872384, 20.64802718881575, 43.75631686245116, 22.251968157143132, 30.21439439328153, 32.60858282451391, 56.84509555494304, 50.4761983095103, 66.01068435673572, 27.056643965016963, 21.065675731880535, 36.15892081486529, 30.20565304165351, 29.46663810922218, 28.15442980727773, 23.548208456732496, 23.524351917542365, 21.85553497312604, 23.20490436146003, 25.705801243663764, 20.92184915347377, 31.640766198825137, 8.698596402363233, 8.621024644117322, 8.420885440436114, 8.13044746927969, 7.078212849030442, 6.129247114854775, 6.129273997140777, 5.896717094131441, 5.716059366236263, 5.713237310603592, 5.6386430577311435, 5.1350916735124965, 5.1350916735124965, 4.934929678327941, 4.7347396320623405, 4.7347396320623405, 4.554092131123793, 4.476640758767367, 4.153742719462485, 3.65034970697224, 3.572697009669561, 3.572649089072775, 3.5599688316452127, 3.3921161300484965, 3.191950044081289, 3.0693563007575153, 3.0241569510317947, 3.0241569510317947, 3.024134159528445, 6.070211861602173, 6.863378385266579, 6.57723164511258, 3.689934749706229, 3.678338841880328, 3.3598847026760073, 2.815970123328312, 2.7866723542194234, 2.636886235491885, 2.6329446318281464, 2.60678543585471, 2.453488648318654, 2.130060851743602, 2.1293763283005016, 2.1142983735128063, 1.9800518071005746, 1.8125149015818773, 1.8060353402371507, 1.6583503396991421, 1.622420835374777, 1.5977115901630055, 1.4495881962818973, 1.4197575596501106, 1.3049104166205858, 1.2654897184282756, 1.2654897184282756, 1.2654897184282756, 1.2654897184282756, 1.2654897184282756, 1.2654897184282756, 1.2654897184282756, 1.2654897184282756, 1.2654897184282756, 1.2654897184282756, 1.2654897184282756, 3.7670273959238334, 1.808253204480006, 12.691055519158848, 3.2708601913543873, 2.2439426385433667, 1.595666928583114, 1.750143089515009, 2.6921051505027442, 4.301626116730661, 9.900464765460198, 2.0499780314875955, 3.2262482820083074, 2.553632314806066, 2.650035963982686, 2.3122387689684274, 4.000623507044601, 4.539799253246399, 2.707954851605679, 2.400340292415043, 2.310984707103691, 2.4770734228925835, 2.000321283812368, 2.031689612028505, 2.036268916405883, 13.939821919615424, 0.19754829159981105, 0.19573085196171236, 0.19486941638929473, 0.011873203823237694, 0.011873203823237694, 0.011873205085362578, 0.011873205085362578, 0.011873200036863044, 0.011873201298987928, 0.011873203823237694, 0.011873201298987928, 0.011873203823237694, 0.011873205085362578, 0.011873202561112812, 0.011873201298987928, 0.011873203823237694, 0.011873203823237694, 0.011873201298987928, 0.011873201298987928, 0.011873201298987928, 0.011873202561112812, 0.011873201298987928, 0.011873203823237694, 0.011873203823237694, 0.011873201298987928, 0.011873200036863044, 0.011873203823237694, 0.011873201298987928, 0.011873202561112812, 0.19074412586840322, 0.18707085780175234, 0.19003949669149928, 0.18475313205387178, 0.18223738396028522, 0.1593476486269175, 0.14593444167107558, 0.03083253460108467, 0.012502761812076968, 0.01240151289180569, 0.01227367352449093, 0.012271082382105308, 0.01222310775316237, 0.012043436703260997, 0.012024506092134872, 0.011989257468391261, 0.011878845521466496, 0.011878527465995879, 0.011877916597552312, 0.011876749132035166, 0.011876510590432205, 0.011876471464560818, 0.011876278359453658, 0.01187626447607994, 0.01187624175783204, 0.011876171078838569, 0.06152234563564771, 0.0336212300787604, 0.03362122797961886, 0.03362121538476961, 0.03362121118648652, 0.033621202789920354, 0.033621206988203436, 0.033621202789920354, 0.03362119019507109, 0.03362117340193876, 0.03362117760022184, 0.03362115450966487, 0.03362115450966487, 0.033621160807089503, 0.03362115450966487, 0.03362114821224025, 0.03362115241052333, 0.03362114401395717, 0.03362113141910791, 0.03362113141910791, 0.03362112302254174, 0.03362111462597557, 0.03362111042769249, 0.033621095733701686, 0.033621030660313876, 0.03362101806546462, 0.033620785060753416, 0.03328473978865834, 0.033284645327288934, 0.03328410794705408, 0.0006689204445386505, 0.0006689202697332299, 0.0006689202697332299, 0.0006689202114647563, 0.0006689202114647563, 0.0006689203862701769, 0.0006689201531962828, 0.0006689202697332299, 0.0006689202697332299, 0.0006689202697332299, 0.0006689202697332299, 0.0006689202114647563, 0.0006689202697332299, 0.0006689202697332299, 0.0006689201531962828, 0.0006689201531962828, 0.0006689201531962828, 0.0006689202697332299, 0.0006689202114647563, 0.0006689202697332299, 0.0006689203862701769, 0.0006689202114647563, 0.0006689199783908623, 0.0006689202114647563, 0.0006689202697332299, 0.0006689202697332299, 0.0006689201531962828, 0.0006689202697332299, 0.0006689199783908623, 0.000668920502807124, 0.0006695192113725834, 0.0006692713372862122, 0.0006691867897311288, 0.0006691534601642731, 0.0006691514790361732, 0.0006691448946986651, 0.0006691428553020917, 0.0006691356882798482, 0.000669128870868446, 0.0006691283464521843, 0.000669111856474177, 0.0006691043398410923, 0.0006690989208730546, 0.0006690961239863254, 0.0006690951334222755, 0.000669086393151247, 0.0006690849364394088, 0.0006690837710699384, 0.0006690783521019006, 0.0006690729331338629, 0.0006690704275895014, 0.0006690672810919311, 0.0006690634353726785, 0.0006690619203923668, 0.0006690604636805287, 0.0006690569675721173, 0.0006690566179612761, 0.0006690531218528647, 0.0006690398366409013, 0.0006690366318748574, 0.0006684734706800184, 0.0006684734706800184, 0.0006684734706800184, 0.0006684734706800184, 0.0006684734706800184, 0.0006684734706800184, 0.0006684734706800184, 0.0006684734706800184, 0.0006684734706800184, 0.0006684735289095975, 0.0006684734706800184, 0.0006684734706800184, 0.0006684734706800184, 0.0006684734706800184, 0.0006684735289095975, 0.0006684734706800184, 0.0006684734706800184, 0.0006684735289095975, 0.0006684734706800184, 0.0006684734706800184, 0.0006684734706800184, 0.0006684735289095975, 0.0006684734706800184, 0.0006684734706800184, 0.0006684734706800184, 0.0006684734706800184, 0.0006684734706800184, 0.0006684734706800184, 0.0006684734706800184, 0.0006684735289095975, 0.0006690113373012614, 0.000669000157222093, 0.0006688230228427684, 0.0006687068548326591, 0.0006686927632745406, 0.0006686902011730645, 0.0006686830971644262, 0.000668676517221999, 0.0006686696461316767, 0.0006686421617703877, 0.0006686406478013337, 0.0006686363970420666, 0.0006686362223533294, 0.0006686352906800654, 0.0006686301664771133, 0.0006686263815544781, 0.0006686207332853149, 0.0006686016922129812, 0.0006685983148973991, 0.000668595054040975, 0.00066859418059729, 0.0006685923172507619, 0.0006685864942928616, 0.0006685833498955955, 0.0006685814865490674, 0.0006685796814321184, 0.0006685793320546444, 0.0006685771193306423, 0.0006685751395249562, 0.0006685729850305331], \"Total\": [294.0, 891.0, 327.0, 430.0, 91.0, 176.0, 211.0, 168.0, 161.0, 175.0, 297.0, 53.0, 670.0, 457.0, 268.0, 207.0, 70.0, 227.0, 606.0, 449.0, 370.0, 467.0, 94.0, 178.0, 303.0, 306.0, 1527.0, 174.0, 264.0, 193.0, 207.49111287582696, 186.28558862913934, 144.97729141307252, 304.2540753616781, 92.67001813146403, 92.23052826449239, 76.5169060522554, 75.90610936985628, 181.5299797271344, 71.57809748693604, 88.75805407436577, 70.05644214523718, 69.2976547006396, 87.4061517265092, 65.64611163123598, 63.51996412160514, 68.40945161091665, 64.78765202440616, 157.19434540614242, 56.47883296180171, 71.84316499995214, 63.21752330256545, 162.48877054457392, 60.46777511908937, 49.5973031961064, 48.00276598168483, 46.57173142294335, 45.23520774234002, 457.218158453141, 43.38646625201998, 606.3328421062514, 449.4591998691392, 370.8395843001671, 722.9642989485795, 211.6159310811521, 466.4364986344402, 125.57849763802726, 96.77811986084451, 845.9919342487837, 1527.5582302984299, 392.6320207323459, 371.6792765163818, 327.43751616719595, 368.91508490228506, 168.69278776607516, 455.2225183972034, 200.19640522521823, 204.64278066742474, 323.10099156985217, 298.2371075118435, 891.6428294260523, 271.6479627610237, 670.927186684301, 304.07442030703174, 467.5278108066484, 216.22552456729903, 264.5358774972775, 303.9639171139693, 306.2964751593609, 430.2024850453571, 252.94437562147158, 268.79456389710685, 297.1269426434795, 294.9239256131735, 12.916527476678576, 10.943098053290186, 10.723422428207188, 8.782730605342712, 8.646783217584442, 8.248116475286821, 7.834226608542775, 7.620516266804475, 7.496102062482346, 7.255616269173494, 7.015108449808325, 6.790996487317734, 6.536949434946196, 6.558947423927308, 6.53138040322555, 6.462150101900038, 6.259546162865633, 6.207236000156085, 6.207236000156085, 6.207236000156085, 6.207236000156085, 6.206829846825241, 6.201884896477653, 6.380191682914175, 5.972849290576537, 5.6992576357547975, 5.65194180022539, 5.648586864782283, 5.6227621626416955, 5.374032712977702, 17.951650581555917, 10.478098435516662, 40.170792735253706, 10.125348753224253, 56.24110614186625, 31.107097524309445, 36.14517150617425, 9.372805722128263, 7.8082658457714915, 21.254617077857162, 32.73099623757694, 36.11629526354115, 161.18562182945445, 34.026089129226186, 14.485702696617958, 39.04045154467326, 20.19512972430667, 68.88832762806153, 430.2024850453571, 50.865273181088185, 211.3705265792964, 58.071079014214405, 207.96954138884112, 294.9239256131735, 63.28292887780109, 297.1269426434795, 86.28950195789697, 178.30939420805063, 227.03642719634078, 891.6428294260523, 670.927186684301, 1527.5582302984299, 174.85027554086489, 89.09832064535686, 467.5278108066484, 306.2964751593609, 303.9639171139693, 268.79456389710685, 151.01254234814672, 158.38914881228754, 125.51488445252707, 252.94437562147158, 845.9919342487837, 99.42024850414545, 32.013304391291086, 9.07086853107441, 8.993296097306839, 8.793155673576962, 8.502721326279648, 7.450482308819267, 6.501519370260208, 6.501552319711986, 6.268988677640499, 6.088330144241675, 6.085673465408643, 6.010918332528556, 5.507360533137672, 5.507360533137672, 5.307199373895342, 5.1070103350472955, 5.1070103350472955, 4.926360776404809, 4.848915065500566, 4.52601342244744, 4.022621753170401, 3.944970584866265, 3.9449255330551383, 3.932244480404112, 3.7643922963435346, 3.564219235939913, 3.441628820326193, 3.396426536203749, 3.3964265764428636, 3.3964052502118927, 9.77822077335536, 20.21441991418605, 891.6428294260523, 42.606137511808214, 176.3271246019453, 3.744795361308494, 3.1994688637743893, 3.172313181829591, 3.0208200426705316, 3.0169270311088923, 2.993289345752644, 2.8369971400610328, 2.5139705698256294, 2.513606297691352, 2.5052520822076563, 2.3664881282754013, 2.1961767308107287, 2.190046601336876, 2.043205680204934, 2.00643231878805, 1.9811224910091603, 1.833059194048353, 1.8057873503726525, 1.6883406886683354, 1.648818887964363, 1.648818887964363, 1.648818887964363, 1.648818887964363, 1.648818887964363, 1.648818887964363, 1.648818887964363, 1.648818887964363, 1.648818887964363, 1.648818887964363, 1.648818887964363, 6.0624664348200445, 2.773076088773685, 91.11864904866144, 8.688790018500754, 4.56297383324658, 2.5618448686072157, 3.126420778768185, 8.091292869954048, 32.1554839892419, 294.9239256131735, 7.14420709187685, 38.54749509162234, 17.52368358121723, 28.13610654175412, 16.065242148485098, 327.43751616719595, 891.6428294260523, 43.642433441906896, 23.404368503787925, 42.606137511808214, 175.80370303167527, 10.347279656954463, 24.780381497684456, 54.92114935976297, 14.387306195524557, 0.6450318639144136, 3.4727944488264284, 5.064574731807127, 0.48729130976573853, 0.487291310277301, 0.48729145445050936, 0.4872915057291215, 0.4872914345136881, 0.4872915994385189, 0.48729170773494473, 0.48729168314752214, 0.4872918539637963, 0.4872919750980582, 0.48729196372111183, 0.48729195033484135, 0.4872920802732824, 0.487292132837191, 0.48729210186496286, 0.48729215623657607, 0.4872921747959611, 0.4872922785843382, 0.48729245415037165, 0.4872925779556275, 0.48729261959239567, 0.48729269912285816, 0.48729270828159255, 0.4872931230634579, 0.4872935739323423, 0.4872955716085738, 10.983334742434701, 13.233557268881974, 13.94338155369155, 15.552036222964237, 22.240114010810935, 53.96493641717617, 70.54061753029107, 606.3328421062514, 370.8395843001671, 392.6320207323459, 466.4364986344402, 449.4591998691392, 457.218158453141, 845.9919342487837, 891.6428294260523, 1527.5582302984299, 670.927186684301, 722.9642989485795, 327.43751616719595, 455.2225183972034, 430.2024850453571, 467.5278108066484, 371.6792765163818, 306.2964751593609, 368.91508490228506, 297.1269426434795, 0.5151416683324506, 0.48729130976573853, 0.487291310277301, 0.4872914345136881, 0.48729145445050936, 0.4872915057291215, 0.4872915994385189, 0.48729168314752214, 0.48729170773494473, 0.4872918539637963, 0.48729195033484135, 0.48729196372111183, 0.4872919750980582, 0.4872921747959611, 0.48729210186496286, 0.4872920802732824, 0.48729215623657607, 0.487292132837191, 0.4872922785843382, 0.48729245415037165, 0.48729261959239567, 0.4872925779556275, 0.48729270828159255, 0.48729269912285816, 0.4872931230634579, 0.4872935739323423, 0.4872955716085738, 0.4875552680553361, 0.48755637519049444, 0.4875599942410687, 0.48729130976573853, 0.487291310277301, 0.48729145445050936, 0.4872914345136881, 0.4872915057291215, 0.48729168314752214, 0.4872915994385189, 0.48729170773494473, 0.4872918539637963, 0.48729196372111183, 0.4872919750980582, 0.48729195033484135, 0.4872920802732824, 0.48729210186496286, 0.487292132837191, 0.48729215623657607, 0.4872921747959611, 0.4872922785843382, 0.48729245415037165, 0.4872925779556275, 0.48729269912285816, 0.48729261959239567, 0.48729270828159255, 0.4872931230634579, 0.4872935739323423, 0.4872955716085738, 0.4875552680553361, 0.48755637519049444, 0.4875599942410687, 0.5151416683324506, 1527.5582302984299, 891.6428294260523, 845.9919342487837, 455.2225183972034, 430.2024850453571, 670.927186684301, 211.3705265792964, 467.5278108066484, 722.9642989485795, 466.4364986344402, 392.6320207323459, 303.9639171139693, 306.2964751593609, 371.6792765163818, 190.73952795282435, 606.3328421062514, 449.4591998691392, 327.43751616719595, 271.6479627610237, 227.03642719634078, 268.79456389710685, 294.9239256131735, 304.2540753616781, 368.91508490228506, 457.218158453141, 175.80370303167527, 192.66941659609475, 297.1269426434795, 181.5299797271344, 252.94437562147158, 0.48729130976573853, 0.487291310277301, 0.4872914345136881, 0.48729145445050936, 0.4872915057291215, 0.4872915994385189, 0.48729168314752214, 0.48729170773494473, 0.4872918539637963, 0.48729196372111183, 0.48729195033484135, 0.4872919750980582, 0.4872920802732824, 0.48729210186496286, 0.48729215623657607, 0.487292132837191, 0.4872921747959611, 0.4872922785843382, 0.48729245415037165, 0.4872925779556275, 0.48729261959239567, 0.48729269912285816, 0.48729270828159255, 0.4872931230634579, 0.4872935739323423, 0.4872955716085738, 0.4875552680553361, 0.48755637519049444, 0.4875599942410687, 0.5151416683324506, 14.387306195524557, 1527.5582302984299, 891.6428294260523, 467.5278108066484, 670.927186684301, 371.6792765163818, 466.4364986344402, 606.3328421062514, 430.2024850453571, 392.6320207323459, 327.43751616719595, 457.218158453141, 303.9639171139693, 190.73952795282435, 845.9919342487837, 455.2225183972034, 722.9642989485795, 298.2371075118435, 294.9239256131735, 204.64278066742474, 297.1269426434795, 227.03642719634078, 368.91508490228506, 110.33180505425396, 323.10099156985217, 175.80370303167527, 174.85027554086489, 252.94437562147158, 306.2964751593609, 268.79456389710685], \"Category\": [\"Default\", \"Default\", \"Default\", \"Default\", \"Default\", \"Default\", \"Default\", \"Default\", \"Default\", \"Default\", \"Default\", \"Default\", \"Default\", \"Default\", \"Default\", \"Default\", \"Default\", \"Default\", \"Default\", \"Default\", \"Default\", \"Default\", \"Default\", \"Default\", \"Default\", \"Default\", \"Default\", \"Default\", \"Default\", \"Default\", \"Topic1\", \"Topic1\", \"Topic1\", \"Topic1\", \"Topic1\", \"Topic1\", \"Topic1\", \"Topic1\", \"Topic1\", \"Topic1\", \"Topic1\", \"Topic1\", \"Topic1\", \"Topic1\", \"Topic1\", \"Topic1\", \"Topic1\", \"Topic1\", \"Topic1\", \"Topic1\", \"Topic1\", \"Topic1\", \"Topic1\", \"Topic1\", \"Topic1\", \"Topic1\", \"Topic1\", \"Topic1\", \"Topic1\", \"Topic1\", \"Topic1\", \"Topic1\", \"Topic1\", \"Topic1\", \"Topic1\", \"Topic1\", \"Topic1\", \"Topic1\", \"Topic1\", \"Topic1\", \"Topic1\", \"Topic1\", \"Topic1\", \"Topic1\", \"Topic1\", \"Topic1\", \"Topic1\", \"Topic1\", \"Topic1\", \"Topic1\", \"Topic1\", \"Topic1\", \"Topic1\", \"Topic1\", \"Topic1\", \"Topic1\", \"Topic1\", \"Topic1\", \"Topic1\", \"Topic1\", \"Topic1\", \"Topic1\", \"Topic1\", \"Topic1\", \"Topic2\", \"Topic2\", \"Topic2\", \"Topic2\", \"Topic2\", \"Topic2\", \"Topic2\", \"Topic2\", \"Topic2\", \"Topic2\", \"Topic2\", \"Topic2\", \"Topic2\", \"Topic2\", \"Topic2\", \"Topic2\", \"Topic2\", \"Topic2\", \"Topic2\", \"Topic2\", \"Topic2\", \"Topic2\", \"Topic2\", \"Topic2\", \"Topic2\", \"Topic2\", \"Topic2\", \"Topic2\", \"Topic2\", \"Topic2\", \"Topic2\", \"Topic2\", \"Topic2\", \"Topic2\", \"Topic2\", \"Topic2\", \"Topic2\", \"Topic2\", \"Topic2\", \"Topic2\", \"Topic2\", \"Topic2\", \"Topic2\", \"Topic2\", \"Topic2\", \"Topic2\", \"Topic2\", \"Topic2\", \"Topic2\", \"Topic2\", \"Topic2\", \"Topic2\", \"Topic2\", \"Topic2\", \"Topic2\", \"Topic2\", \"Topic2\", \"Topic2\", \"Topic2\", \"Topic2\", \"Topic2\", \"Topic2\", \"Topic2\", \"Topic2\", \"Topic2\", \"Topic2\", \"Topic2\", \"Topic2\", \"Topic2\", \"Topic2\", \"Topic2\", \"Topic2\", \"Topic2\", \"Topic2\", \"Topic3\", \"Topic3\", \"Topic3\", \"Topic3\", \"Topic3\", \"Topic3\", \"Topic3\", \"Topic3\", \"Topic3\", \"Topic3\", \"Topic3\", \"Topic3\", \"Topic3\", \"Topic3\", \"Topic3\", \"Topic3\", \"Topic3\", \"Topic3\", \"Topic3\", \"Topic3\", \"Topic3\", \"Topic3\", \"Topic3\", \"Topic3\", \"Topic3\", \"Topic3\", \"Topic3\", \"Topic3\", \"Topic3\", \"Topic3\", \"Topic3\", \"Topic3\", \"Topic3\", \"Topic3\", \"Topic3\", \"Topic4\", \"Topic4\", \"Topic4\", \"Topic4\", \"Topic4\", \"Topic4\", \"Topic4\", \"Topic4\", \"Topic4\", \"Topic4\", \"Topic4\", \"Topic4\", \"Topic4\", \"Topic4\", \"Topic4\", \"Topic4\", \"Topic4\", \"Topic4\", \"Topic4\", \"Topic4\", \"Topic4\", \"Topic4\", \"Topic4\", \"Topic4\", \"Topic4\", \"Topic4\", \"Topic4\", \"Topic4\", \"Topic4\", \"Topic4\", \"Topic4\", \"Topic4\", \"Topic4\", \"Topic4\", \"Topic4\", \"Topic4\", \"Topic4\", \"Topic4\", \"Topic4\", \"Topic4\", \"Topic4\", \"Topic4\", \"Topic4\", \"Topic4\", \"Topic4\", \"Topic4\", \"Topic4\", \"Topic4\", \"Topic4\", \"Topic4\", \"Topic4\", \"Topic4\", \"Topic4\", \"Topic4\", \"Topic5\", \"Topic5\", \"Topic5\", \"Topic5\", \"Topic5\", \"Topic5\", \"Topic5\", \"Topic5\", \"Topic5\", \"Topic5\", \"Topic5\", \"Topic5\", \"Topic5\", \"Topic5\", \"Topic5\", \"Topic5\", \"Topic5\", \"Topic5\", \"Topic5\", \"Topic5\", \"Topic5\", \"Topic5\", \"Topic5\", \"Topic5\", \"Topic5\", \"Topic5\", \"Topic5\", \"Topic5\", \"Topic5\", \"Topic5\", \"Topic5\", \"Topic5\", \"Topic5\", \"Topic5\", \"Topic5\", \"Topic5\", \"Topic5\", \"Topic5\", \"Topic5\", \"Topic5\", \"Topic5\", \"Topic5\", \"Topic5\", \"Topic5\", \"Topic5\", \"Topic5\", \"Topic5\", \"Topic5\", \"Topic5\", \"Topic5\", \"Topic5\", \"Topic5\", \"Topic5\", \"Topic5\", \"Topic5\", \"Topic5\", \"Topic6\", \"Topic6\", \"Topic6\", \"Topic6\", \"Topic6\", \"Topic6\", \"Topic6\", \"Topic6\", \"Topic6\", \"Topic6\", \"Topic6\", \"Topic6\", \"Topic6\", \"Topic6\", \"Topic6\", \"Topic6\", \"Topic6\", \"Topic6\", \"Topic6\", \"Topic6\", \"Topic6\", \"Topic6\", \"Topic6\", \"Topic6\", \"Topic6\", \"Topic6\", \"Topic6\", \"Topic6\", \"Topic6\", \"Topic6\", \"Topic7\", \"Topic7\", \"Topic7\", \"Topic7\", \"Topic7\", \"Topic7\", \"Topic7\", \"Topic7\", \"Topic7\", \"Topic7\", \"Topic7\", \"Topic7\", \"Topic7\", \"Topic7\", \"Topic7\", \"Topic7\", \"Topic7\", \"Topic7\", \"Topic7\", \"Topic7\", \"Topic7\", \"Topic7\", \"Topic7\", \"Topic7\", \"Topic7\", \"Topic7\", \"Topic7\", \"Topic7\", \"Topic7\", \"Topic7\", \"Topic7\", \"Topic7\", \"Topic7\", \"Topic7\", \"Topic7\", \"Topic7\", \"Topic7\", \"Topic7\", \"Topic7\", \"Topic7\", \"Topic7\", \"Topic7\", \"Topic7\", \"Topic7\", \"Topic7\", \"Topic7\", \"Topic7\", \"Topic7\", \"Topic7\", \"Topic7\", \"Topic7\", \"Topic7\", \"Topic7\", \"Topic7\", \"Topic7\", \"Topic7\", \"Topic7\", \"Topic7\", \"Topic7\", \"Topic7\", \"Topic8\", \"Topic8\", \"Topic8\", \"Topic8\", \"Topic8\", \"Topic8\", \"Topic8\", \"Topic8\", \"Topic8\", \"Topic8\", \"Topic8\", \"Topic8\", \"Topic8\", \"Topic8\", \"Topic8\", \"Topic8\", \"Topic8\", \"Topic8\", \"Topic8\", \"Topic8\", \"Topic8\", \"Topic8\", \"Topic8\", \"Topic8\", \"Topic8\", \"Topic8\", \"Topic8\", \"Topic8\", \"Topic8\", \"Topic8\", \"Topic8\", \"Topic8\", \"Topic8\", \"Topic8\", \"Topic8\", \"Topic8\", \"Topic8\", \"Topic8\", \"Topic8\", \"Topic8\", \"Topic8\", \"Topic8\", \"Topic8\", \"Topic8\", \"Topic8\", \"Topic8\", \"Topic8\", \"Topic8\", \"Topic8\", \"Topic8\", \"Topic8\", \"Topic8\", \"Topic8\", \"Topic8\", \"Topic8\", \"Topic8\", \"Topic8\", \"Topic8\", \"Topic8\", \"Topic8\"], \"logprob\": [30.0, 29.0, 28.0, 27.0, 26.0, 25.0, 24.0, 23.0, 22.0, 21.0, 20.0, 19.0, 18.0, 17.0, 16.0, 15.0, 14.0, 13.0, 12.0, 11.0, 10.0, 9.0, 8.0, 7.0, 6.0, 5.0, 4.0, 3.0, 2.0, 1.0, -5.4273, -5.5353, -5.7865, -5.0458, -6.2354, -6.2406, -6.4276, -6.4356, -5.5639, -6.4946, -6.2795, -6.5163, -6.5272, -6.2951, -6.5816, -6.6146, -6.5406, -6.5952, -5.709, -6.7327, -6.4923, -6.6205, -5.6766, -6.6651, -6.8635, -6.8964, -6.9268, -6.9562, -4.643, -6.9982, -4.3622, -4.6613, -4.8537, -4.1935, -5.4168, -4.6364, -5.9357, -6.1967, -4.0541, -3.4759, -4.8136, -4.8716, -4.9979, -4.884, -5.6514, -4.6786, -5.4853, -5.4644, -5.0259, -5.1039, -4.047, -5.1985, -4.3306, -5.0963, -4.6943, -5.4196, -5.2465, -5.1468, -5.1433, -4.8876, -5.3247, -5.2895, -5.229, -5.2877, -6.2958, -6.4664, -6.4871, -6.6935, -6.7097, -6.7587, -6.8126, -6.8412, -6.8583, -6.8924, -6.9276, -6.9617, -7.0017, -6.9983, -7.0029, -7.0138, -7.0473, -7.0561, -7.0561, -7.0561, -7.0561, -7.0562, -7.057, -7.029, -7.0968, -7.1464, -7.1551, -7.1558, -7.1607, -7.2088, -6.1028, -6.6037, -5.5049, -6.6695, -5.258, -5.7889, -5.7462, -6.7589, -6.893, -6.203, -5.9147, -5.8601, -4.8734, -5.9367, -6.4972, -5.8706, -6.2903, -5.5419, -4.52, -5.7877, -4.9659, -5.7955, -5.1397, -4.9853, -5.802, -5.051, -5.7272, -5.4213, -5.345, -4.7893, -4.9081, -4.6398, -5.5317, -5.782, -5.2417, -5.4216, -5.4463, -5.4919, -5.6706, -5.6716, -5.7452, -5.6852, -5.5829, -5.7888, -3.6804, -4.9717, -4.9807, -5.0042, -5.0393, -5.1779, -5.3218, -5.3218, -5.3605, -5.3916, -5.3921, -5.4052, -5.4988, -5.4988, -5.5385, -5.58, -5.58, -5.6189, -5.636, -5.7109, -5.8401, -5.8616, -5.8616, -5.8651, -5.9134, -5.9742, -6.0134, -6.0282, -6.0282, -6.0283, -5.3315, -5.2087, -5.2513, -5.8293, -5.8324, -5.5791, -5.7557, -5.7662, -5.8214, -5.8229, -5.8329, -5.8935, -6.0349, -6.0352, -6.0423, -6.1079, -6.1963, -6.1999, -6.2852, -6.3071, -6.3225, -6.4198, -6.4405, -6.5249, -6.5556, -6.5556, -6.5556, -6.5556, -6.5556, -6.5556, -6.5556, -6.5556, -6.5556, -6.5556, -6.5556, -5.4647, -6.1987, -4.2501, -5.606, -5.9828, -6.3237, -6.2313, -5.8007, -5.332, -4.4985, -6.0732, -5.6197, -5.8535, -5.8165, -5.9528, -5.4046, -5.2782, -5.7948, -5.9154, -5.9534, -5.884, -6.0977, -6.0822, -6.0799, -1.8281, -6.0846, -6.0938, -6.0983, -8.8963, -8.8963, -8.8963, -8.8963, -8.8963, -8.8963, -8.8963, -8.8963, -8.8963, -8.8963, -8.8963, -8.8963, -8.8963, -8.8963, -8.8963, -8.8963, -8.8963, -8.8963, -8.8963, -8.8963, -8.8963, -8.8963, -8.8963, -8.8963, -8.8963, -8.8963, -6.1197, -6.1391, -6.1234, -6.1516, -6.1653, -6.2995, -6.3874, -7.942, -8.8446, -8.8528, -8.8631, -8.8633, -8.8673, -8.8821, -8.8836, -8.8866, -8.8958, -8.8959, -8.8959, -8.896, -8.896, -8.896, -8.896, -8.896, -8.896, -8.8961, -6.3736, -6.9779, -6.9779, -6.9779, -6.9779, -6.9779, -6.9779, -6.9779, -6.9779, -6.9779, -6.9779, -6.9779, -6.9779, -6.9779, -6.9779, -6.9779, -6.9779, -6.9779, -6.9779, -6.9779, -6.9779, -6.9779, -6.9779, -6.9779, -6.9779, -6.9779, -6.9779, -6.9879, -6.9879, -6.9879, -8.6972, -8.6972, -8.6972, -8.6972, -8.6972, -8.6972, -8.6972, -8.6972, -8.6972, -8.6972, -8.6972, -8.6972, -8.6972, -8.6972, -8.6972, -8.6972, -8.6972, -8.6972, -8.6972, -8.6972, -8.6972, -8.6972, -8.6972, -8.6972, -8.6972, -8.6972, -8.6972, -8.6972, -8.6972, -8.6972, -8.6963, -8.6967, -8.6968, -8.6968, -8.6968, -8.6968, -8.6969, -8.6969, -8.6969, -8.6969, -8.6969, -8.6969, -8.6969, -8.6969, -8.6969, -8.6969, -8.6969, -8.6969, -8.6969, -8.697, -8.697, -8.697, -8.697, -8.697, -8.697, -8.697, -8.697, -8.697, -8.697, -8.697, -8.6972, -8.6972, -8.6972, -8.6972, -8.6972, -8.6972, -8.6972, -8.6972, -8.6972, -8.6972, -8.6972, -8.6972, -8.6972, -8.6972, -8.6972, -8.6972, -8.6972, -8.6972, -8.6972, -8.6972, -8.6972, -8.6972, -8.6972, -8.6972, -8.6972, -8.6972, -8.6972, -8.6972, -8.6972, -8.6972, -8.6964, -8.6964, -8.6967, -8.6968, -8.6969, -8.6969, -8.6969, -8.6969, -8.6969, -8.6969, -8.6969, -8.6969, -8.6969, -8.6969, -8.697, -8.697, -8.697, -8.697, -8.697, -8.697, -8.697, -8.697, -8.697, -8.697, -8.697, -8.697, -8.697, -8.697, -8.697, -8.697], \"loglift\": [30.0, 29.0, 28.0, 27.0, 26.0, 25.0, 24.0, 23.0, 22.0, 21.0, 20.0, 19.0, 18.0, 17.0, 16.0, 15.0, 14.0, 13.0, 12.0, 11.0, 10.0, 9.0, 8.0, 7.0, 6.0, 5.0, 4.0, 3.0, 2.0, 1.0, 0.175, 0.1748, 0.1744, 0.1738, 0.173, 0.1726, 0.1723, 0.1723, 0.1721, 0.1721, 0.1721, 0.1719, 0.1718, 0.1718, 0.1716, 0.1715, 0.1713, 0.1711, 0.171, 0.1709, 0.1707, 0.1704, 0.1703, 0.1702, 0.17, 0.1698, 0.1696, 0.1694, 0.1693, 0.1691, 0.1678, 0.1681, 0.168, 0.1606, 0.1658, 0.156, 0.1689, 0.1683, 0.1429, 0.1301, 0.151, 0.1478, 0.1483, 0.1429, 0.158, 0.138, 0.1528, 0.1518, 0.1336, 0.1356, 0.0974, 0.1345, 0.0982, 0.1239, 0.0957, 0.1415, 0.113, 0.0737, 0.0696, -0.0144, 0.0796, 0.054, 0.0143, -0.037, 2.0831, 2.0783, 2.078, 2.0712, 2.0706, 2.0688, 2.0664, 2.0654, 2.0648, 2.0632, 2.0618, 2.0601, 2.0583, 2.0583, 2.0579, 2.0577, 2.056, 2.0556, 2.0556, 2.0556, 2.0556, 2.0556, 2.0556, 2.0552, 2.0534, 2.0508, 2.0503, 2.0502, 2.05, 2.0471, 1.947, 1.9845, 1.7394, 1.9529, 1.6498, 1.7111, 1.6037, 1.9407, 1.9893, 1.6779, 1.5344, 1.4906, 0.9815, 1.4736, 1.7671, 1.4022, 1.6417, 1.1631, 0.3532, 1.2205, 0.6179, 1.0803, 0.4603, 0.2654, 0.9879, 0.1923, 0.7526, 0.3326, 0.1673, -0.6449, -0.4793, -1.0338, 0.2418, 0.6658, -0.4517, -0.2087, -0.2258, -0.1484, 0.2495, 0.2008, 0.3599, -0.281, -1.3859, 0.5493, 3.7909, 3.7607, 3.7603, 3.7593, 3.7578, 3.7513, 3.7436, 3.7436, 3.7414, 3.7395, 3.7394, 3.7386, 3.7326, 3.7326, 3.7299, 3.7269, 3.7269, 3.724, 3.7227, 3.7167, 3.7055, 3.7035, 3.7035, 3.7031, 3.6984, 3.6923, 3.6881, 3.6865, 3.6865, 3.6865, 3.3258, 2.7224, -1.1069, 1.3562, -0.0673, 4.038, 4.0187, 4.0168, 4.0105, 4.0103, 4.0082, 4.0012, 3.9807, 3.9805, 3.9768, 3.9681, 3.9544, 3.9536, 3.9377, 3.934, 3.9313, 3.9117, 3.9059, 3.8888, 3.8818, 3.8818, 3.8818, 3.8818, 3.8818, 3.8818, 3.8818, 3.8818, 3.8818, 3.8818, 3.8818, 3.6706, 3.7188, 2.1752, 3.1694, 3.4367, 3.673, 3.5662, 3.046, 2.1348, 0.7523, 2.8979, 1.6659, 2.2204, 1.7839, 2.208, -0.2584, -1.1338, 1.3666, 1.8691, 1.2321, -0.1159, 2.503, 1.6452, 0.8516, 6.443, 5.2913, 3.5987, 3.2169, 2.76, 2.76, 2.76, 2.76, 2.76, 2.76, 2.76, 2.76, 2.76, 2.76, 2.76, 2.76, 2.76, 2.76, 2.76, 2.76, 2.76, 2.76, 2.76, 2.76, 2.76, 2.76, 2.76, 2.76, 2.76, 2.76, 2.4214, 2.2156, 2.1791, 2.0417, 1.6703, 0.6496, 0.2938, -3.412, -3.823, -3.8882, -4.0708, -4.0339, -4.055, -4.6851, -4.7392, -5.2805, -4.467, -4.5418, -3.7497, -4.0793, -4.0228, -4.106, -3.8766, -3.6831, -3.8692, -3.6528, 5.2271, 4.6785, 4.6785, 4.6785, 4.6785, 4.6785, 4.6785, 4.6785, 4.6785, 4.6785, 4.6785, 4.6785, 4.6785, 4.6785, 4.6785, 4.6785, 4.6785, 4.6785, 4.6785, 4.6785, 4.6785, 4.6785, 4.6785, 4.6785, 4.6785, 4.6785, 4.6785, 4.6679, 4.6679, 4.6679, 2.9592, 2.9592, 2.9592, 2.9592, 2.9592, 2.9592, 2.9592, 2.9592, 2.9592, 2.9592, 2.9592, 2.9592, 2.9592, 2.9592, 2.9592, 2.9592, 2.9592, 2.9592, 2.9592, 2.9592, 2.9592, 2.9592, 2.9592, 2.9592, 2.9592, 2.9592, 2.9586, 2.9586, 2.9586, 2.9036, -5.0903, -4.5523, -4.4998, -3.8802, -3.8236, -4.2681, -3.113, -3.9069, -4.3428, -3.9045, -3.7323, -3.4764, -3.484, -3.6775, -3.0104, -4.1669, -3.8675, -3.5508, -3.364, -3.1846, -3.3535, -3.4462, -3.4774, -3.6701, -3.8847, -2.9289, -3.0205, -3.4537, -2.961, -3.2927, 2.9592, 2.9592, 2.9592, 2.9592, 2.9592, 2.9592, 2.9592, 2.9592, 2.9592, 2.9592, 2.9592, 2.9592, 2.9592, 2.9592, 2.9592, 2.9592, 2.9592, 2.9592, 2.9592, 2.9592, 2.9592, 2.9592, 2.9592, 2.9592, 2.9592, 2.9592, 2.9586, 2.9586, 2.9586, 2.9036, -0.4253, -5.0904, -4.5523, -3.9068, -4.2681, -3.6774, -3.9045, -4.1669, -3.8237, -3.7324, -3.5508, -3.8846, -3.4764, -3.0104, -4.5, -3.8803, -4.3429, -3.4574, -3.4463, -3.0808, -3.4537, -3.1847, -3.6701, -2.4631, -3.5375, -2.9289, -2.9235, -3.2927, -3.4841, -3.3535]}, \"token.table\": {\"Topic\": [4, 1, 2, 4, 1, 2, 1, 1, 2, 3, 1, 2, 3, 4, 1, 2, 1, 2, 2, 1, 2, 3, 2, 4, 2, 4, 2, 3, 3, 4, 1, 4, 1, 2, 3, 1, 2, 3, 4, 2, 3, 4, 1, 3, 2, 1, 1, 2, 4, 4, 1, 2, 2, 1, 2, 1, 3, 4, 4, 1, 1, 1, 3, 3, 1, 2, 4, 1, 2, 1, 1, 2, 3, 1, 1, 5, 1, 2, 4, 1, 3, 1, 2, 1, 1, 1, 2, 1, 1, 4, 1, 2, 3, 1, 2, 4, 2, 1, 1, 2, 3, 1, 2, 4, 4, 3, 4, 1, 1, 1, 2, 4, 1, 2, 4, 1, 2, 1, 2, 1, 1, 2, 4, 2, 1, 2, 1, 2, 4, 2, 4, 2, 4, 2, 1, 4, 3, 4, 3, 1, 2, 1, 2, 2, 4, 1, 2, 4, 4, 4, 1, 2, 2, 1, 2, 4, 1, 2, 4, 4, 1, 2, 4, 1, 2, 3, 1, 2, 3, 1, 2, 4, 4, 3, 3, 1, 2, 1, 2, 2, 1, 2, 3, 1, 2, 3, 1, 2, 1, 3, 1, 2, 3, 1, 2, 3, 1, 3, 1, 4, 1, 2, 3, 3, 1, 3, 3, 1, 2, 4, 1, 1, 2, 4, 4, 1, 1, 1, 2, 1, 2, 3, 2, 1, 3, 2, 1, 2, 1, 2, 3, 1, 2, 3, 3, 2, 1, 2, 3, 4, 1, 2, 1, 2, 1, 2, 4, 3, 3, 1, 4, 1, 3, 1, 2, 2, 1, 1, 4, 1, 2, 4, 3, 1, 2, 4, 2, 4, 1, 2, 1, 2, 3, 1, 2, 1, 2, 1, 2, 4, 1, 2, 3, 4, 1, 2, 3, 4, 1, 2, 1, 2, 1, 2, 2, 2, 1, 2, 3, 1, 4, 1, 2, 1, 2, 3, 2, 1, 2, 2, 1, 2, 1, 2, 1, 2, 1, 2, 1, 4, 1, 2, 3, 1, 4, 1, 2, 4, 2, 1, 2, 1, 2, 2, 1, 2, 3, 1, 3, 4, 4, 4, 1, 1, 2, 3, 3, 3, 2, 2, 2, 3, 3, 1, 1, 2, 1, 2, 1, 2, 1, 2, 4, 1, 2, 2, 4], \"Freq\": [0.6064947504541285, 0.8206198049678899, 0.17527801659508327, 0.9788539741135603, 0.9571211112992196, 0.04049358547804391, 0.9984669311714289, 0.9912047612533631, 0.004947777510416122, 0.0032985183402774146, 0.9241368548103573, 0.06392694262644462, 0.007850677164651095, 0.005607626546179353, 0.9976330895862472, 0.958535945560179, 0.8030022035186379, 0.19233585713021267, 0.8892426631915179, 0.978865522474618, 0.018127139305085516, 0.985491893154773, 0.9303999932723792, 0.6064947504541285, 0.8964858700079734, 0.12806941000113906, 0.9666770554486791, 0.883286822093105, 0.841699065464158, 0.6064947504541285, 0.8714465596349668, 0.1244923656621381, 0.9544644328976967, 0.04320620889660355, 0.0019639185862092524, 0.6806531099413248, 0.18776637515622754, 0.09388318757811377, 0.046941593789056886, 0.918641945435742, 0.9981835832855238, 0.7049707494442429, 0.30680428163114193, 0.6136085632622839, 0.8851771460175143, 0.9104702929033442, 0.329340207558598, 0.658680415117196, 1.0095286934939716, 0.5922975183336614, 0.5923498336709405, 0.19744994455698017, 0.8773072423734729, 0.7758886854003971, 0.22708937133670162, 0.9927698500013938, 0.8837799685174157, 0.553775060941497, 0.6064947504541285, 0.9999423787019713, 0.9914593207087365, 0.9840373272518964, 0.017783807119010175, 0.9097985179586483, 0.3466182240748305, 0.6437195589961138, 0.04951688915354722, 0.992402109611153, 0.006361551984686879, 0.9957046930098076, 0.9923428230955285, 0.002696583758411762, 0.005393167516823524, 0.9953532821376231, 0.9823511347601773, 0.9730800060649967, 0.975468071314255, 0.025469140243192034, 0.9106735227368021, 1.0012369311366787, 0.9228612049432168, 0.9014227826826745, 0.09540606094086701, 0.9918141622276471, 0.9645039263637326, 0.10669163851749315, 0.8535331081399452, 0.9915219041065251, 0.6179482167265065, 0.37076893003590383, 0.8854345733387121, 0.10416877333396612, 0.0111609400000678, 0.8069877664390114, 0.15936313034719973, 0.033907049010042496, 0.9185729358642682, 0.9442397637796229, 0.937490983628685, 0.05292287810807093, 0.0075604111582958464, 0.21915532206514865, 0.4383106441302973, 0.4383106441302973, 0.6064947504541285, 0.3903436981114569, 0.7806873962229138, 0.9910924699473079, 0.9965591296336561, 0.9218702931412247, 0.07700076694451065, 0.8451341784070209, 0.6226085493481521, 0.28536225178456975, 0.07782606866851902, 0.9092908250476082, 0.09092908250476081, 0.8978229339953133, 0.097944320072216, 0.9940146923959363, 0.9834510515028482, 0.01521513581790623, 0.5455361197537092, 0.9699184079140695, 0.9958781969964172, 0.003286726722760453, 0.730100401213805, 0.2549556956619637, 0.011588895257361986, 0.32989873370892603, 0.6597974674178521, 0.9284835395940193, 0.9456821656775352, 0.925199556724272, 0.5754541183932015, 0.3452724710359209, 0.36061037201551216, 0.7212207440310243, 0.8716802876248765, 0.6371502067482384, 0.3616257930192705, 0.9919597543126136, 0.010332914107423059, 0.9404106174533425, 0.7955542614561002, 0.8930414848640171, 0.09101059718359411, 0.011376324647949264, 0.6064947504541285, 0.6064947504541285, 0.9876383074384465, 0.009451084281707623, 0.9666138036074553, 0.35561178241321734, 0.6401012083437911, 0.9132225765329078, 0.44301332357728723, 0.5260783217480286, 0.6064947504541285, 0.6064947504541285, 0.5286812042912371, 0.34208783807080045, 0.12439557748029108, 0.9434799911324986, 0.03180269633030894, 0.03180269633030894, 0.8300179620783986, 0.1682468842050808, 1.0007454333339663, 0.6456720612430878, 0.28248152679385097, 0.08070900765538598, 0.6064947504541285, 1.0149479964902068, 0.9078759180400676, 0.9773127561486278, 0.024432818903715695, 0.9740434638705309, 0.01998037874606217, 1.0045456880129722, 0.4610602410528714, 0.48667469888914205, 0.025614457836270636, 0.9222135935112681, 0.06735267817778924, 0.010361950488890652, 0.825192815802939, 0.1720120235758239, 0.9953933384384424, 0.00796314670750754, 0.8409897484356774, 0.1589271965547737, 0.006621966523115571, 1.0001566354751572, 0.964769874854116, 0.9408752437027579, 0.9821191966258105, 0.8832812863819977, 0.8972683880191519, 0.08545413219230018, 0.9589685280482493, 0.03688340492493267, 0.003353036811357515, 1.0139492586699732, 0.9919235421555936, 1.0139608381662428, 0.922856527941591, 0.7901785282346403, 0.06584821068622002, 0.14267112315347671, 0.9882638104828386, 0.8739802527724659, 0.09103960966379854, 0.036415843865519416, 0.6064947504541285, 0.9975005210440593, 0.9901576557212485, 0.999194333261741, 0.9108784453816037, 0.99230363986287, 0.004449792107008386, 0.004449792107008386, 0.933818662239764, 0.9877236382355823, 0.9943763658234653, 0.9666138036074553, 0.09543716411466326, 0.8589344770319693, 0.8523311161927714, 0.15152553176760378, 0.942116481358064, 0.3873269766504925, 0.6086566775936311, 1.0172307494952413, 0.9395364903710968, 0.9666138036074553, 0.9908377019557452, 0.006154271440718914, 0.9921872386495699, 0.9376556321479318, 0.9970804837419636, 0.0055087319543754894, 0.7889047543913563, 0.21515584210673352, 0.9072787032594031, 0.08505737843056904, 0.014176229738428173, 0.9790463836908792, 0.9790463836908792, 0.8559844127793861, 0.1711968825558772, 0.9922640593577637, 0.9995844105585456, 0.962166813588567, 0.03734437404339187, 0.9666138036074553, 0.9948003390704035, 0.6998677299941558, 0.2799470919976623, 0.41144898982748257, 0.5290058440639062, 0.058778427118211796, 0.8249268023809095, 0.8514879120321744, 0.14808485426646512, 0.003365564869692389, 0.31985457836996645, 0.6397091567399329, 0.9665833874989623, 0.03237360627986955, 0.971267495415739, 0.024214425093467176, 0.0026904916770519086, 0.663686095836394, 0.331843047918197, 0.9594235760364335, 0.04194201425295884, 0.801971779291112, 0.1374808764499049, 0.06874043822495245, 0.9641171225571299, 0.011342554383025057, 0.022685108766050115, 0.9967941511269439, 0.9711776577172148, 0.012216071166254273, 0.003054017791563568, 0.012216071166254273, 0.9240943164995573, 0.07452373520157721, 0.27613434320544894, 0.6903358580136223, 0.11141036813934324, 0.8355777610450743, 0.9147809262979841, 0.9978462984690225, 0.9929614377870979, 0.002187139730808586, 0.004374279461617172, 0.5759050901143504, 0.2879525450571752, 0.09876203026405053, 0.8888582723764548, 0.9669122918132315, 0.030733153529515913, 0.0023640887330396857, 0.9674478162933478, 0.6762389769189807, 0.3226094201815321, 0.9178593256243207, 0.589793352592355, 0.41285534681464847, 0.32147004368328613, 0.6750870917349009, 0.6096823866412368, 0.3919386771265093, 0.298724500636226, 0.6970238348178608, 0.9878425595033227, 0.7983228570905239, 0.7519782585654328, 0.2356946780578222, 0.011223556097991534, 0.7731500708616836, 0.1932875177154209, 0.604205844002329, 0.28433216188344895, 0.10662456070629336, 1.006462458541751, 0.8544884289965904, 0.14535112452003857, 0.9563573249919797, 0.040235097815196554, 1.0051998023258784, 0.9471365585740458, 0.04933002909239822, 0.7969413822555074, 0.6431052711473989, 0.3462874536947533, 0.993107817620236, 1.002241899620188, 0.7956695532776636, 0.9879569420590333, 0.7744901180446093, 0.2112245776485298, 0.010058313221358563, 0.9859221060913609, 0.9570921736388046, 0.8846517138234878, 1.0211601476113108, 0.9325381021730266, 0.9078759180400676, 0.8832812759173354, 0.9932445510551304, 0.8464384716706402, 0.15441782929126543, 0.967702364609349, 0.03252781057510417, 0.8927208222183732, 0.1038047467695783, 0.9797689531971299, 0.019295231025764047, 0.9943893137174515, 0.42772911335730285, 0.5499374314593894, 0.8835227659453322, 0.8011118660838519], \"Term\": [\"abomination\", \"action\", \"action\", \"ali\", \"also\", \"also\", \"amazing\", \"animation\", \"animation\", \"animation\", \"anime\", \"anime\", \"anime\", \"anime\", \"art\", \"awkward\", \"bad\", \"bad\", \"banter\", \"become\", \"become\", \"bien\", \"blood\", \"boruto\", \"brain\", \"brain\", \"buy\", \"cada\", \"capitulo\", \"ceremony\", \"certainly\", \"certainly\", \"character\", \"character\", \"character\", \"cliche\", \"cliche\", \"cliche\", \"cliche\", \"cliffhanger\", \"como\", \"complicate\", \"con\", \"con\", \"consist\", \"consistently\", \"copy\", \"copy\", \"crew\", \"crime\", \"crisp\", \"crisp\", \"crucial\", \"curse\", \"curse\", \"definitely\", \"del\", \"demon_slayer\", \"desperately\", \"develop\", \"different\", \"do\", \"do\", \"el\", \"enemy\", \"enemy\", \"enemy\", \"enjoy\", \"enjoy\", \"enjoyable\", \"enjoyment\", \"enjoyment\", \"enjoyment\", \"enough\", \"epic\", \"epic_epic\", \"episode\", \"episode\", \"era\", \"especially\", \"esta\", \"even\", \"even\", \"ever\", \"every_single\", \"excuse\", \"excuse\", \"extremely\", \"faith\", \"faith\", \"feel\", \"feel\", \"feel\", \"fight\", \"fight\", \"fight\", \"figure\", \"fill\", \"first\", \"first\", \"first\", \"flashy\", \"flashy\", \"flashy\", \"frown\", \"fulfil\", \"fulfil\", \"future\", \"generic\", \"get\", \"get\", \"gintama\", \"girl\", \"girl\", \"girl\", \"give\", \"give\", \"go\", \"go\", \"gojo\", \"good\", \"good\", \"goofball\", \"grab\", \"great\", \"great\", \"guy\", \"guy\", \"guy\", \"haired\", \"haired\", \"heal\", \"hearing\", \"helpful\", \"hero_academia\", \"hero_academia\", \"high_school\", \"high_school\", \"historia\", \"human\", \"human\", \"hype\", \"hype\", \"idk\", \"imagination\", \"itadori\", \"itadori\", \"itadori\", \"jitsu\", \"jiu\", \"jjk\", \"jjk\", \"joe\", \"joke\", \"joke\", \"jujitsu\", \"junpei\", \"junpei\", \"kaiten\", \"kiddie\", \"kill\", \"kill\", \"kill\", \"kind\", \"kind\", \"kind\", \"know\", \"know\", \"la\", \"light\", \"light\", \"light\", \"likeness\", \"lo\", \"los\", \"lot\", \"lot\", \"love\", \"love\", \"mad\", \"mahito\", \"mahito\", \"mahito\", \"main\", \"main\", \"main\", \"make\", \"make\", \"manga\", \"manga\", \"many\", \"many\", \"many\", \"mappa\", \"mark\", \"mas\", \"masterpiece\", \"meno\", \"modern\", \"modern\", \"much\", \"much\", \"much\", \"mucho\", \"music\", \"muy\", \"nao\", \"naruto\", \"naruto\", \"naruto\", \"next\", \"nobara\", \"nobara\", \"nobara\", \"novel\", \"op\", \"opening\", \"opinion\", \"opponent\", \"overall\", \"overall\", \"overall\", \"overstay\", \"pace\", \"para\", \"participant\", \"particularly\", \"particularly\", \"people\", \"people\", \"pero\", \"person\", \"person\", \"personagen\", \"personaje\", \"persuade\", \"plot\", \"plot\", \"por\", \"pretend\", \"pretty\", \"pretty\", \"previous\", \"previous\", \"probably\", \"probably\", \"probably\", \"program\", \"programa\", \"proper\", \"proper\", \"quality\", \"que\", \"really\", \"really\", \"reciprocity\", \"recommend\", \"rock\", \"rock\", \"run\", \"run\", \"run\", \"sao\", \"say\", \"say\", \"say\", \"scare\", \"scare\", \"season\", \"season\", \"see\", \"see\", \"see\", \"sense\", \"sense\", \"series\", \"series\", \"set\", \"set\", \"set\", \"shonen\", \"shonen\", \"shonen\", \"shorter\", \"shounen\", \"shounen\", \"shounen\", \"shounen\", \"show\", \"show\", \"sister\", \"sister\", \"skill\", \"skill\", \"sleep\", \"smart\", \"sound\", \"sound\", \"sound\", \"space\", \"space\", \"special_grade\", \"special_grade\", \"story\", \"story\", \"story\", \"striking\", \"strong\", \"strong\", \"study\", \"stuff\", \"stuff\", \"stupid\", \"stupid\", \"super\", \"super\", \"suppose\", \"suppose\", \"sure\", \"survive\", \"talk\", \"talk\", \"talk\", \"teacher\", \"teacher\", \"team\", \"team\", \"team\", \"theyr\", \"thing\", \"thing\", \"think\", \"think\", \"thoroughly\", \"time\", \"time\", \"tipo\", \"todo\", \"todo\", \"total\", \"trigger\", \"trouble\", \"truly\", \"try\", \"try\", \"try\", \"un\", \"una\", \"unfold\", \"unrealistic\", \"utterly\", \"ver\", \"vez\", \"wait\", \"want\", \"want\", \"watch\", \"watch\", \"way\", \"way\", \"well\", \"well\", \"wind\", \"word\", \"word\", \"writer\", \"yoshino\"]}, \"R\": 30, \"lambda.step\": 0.01, \"plot.opts\": {\"xlab\": \"PC1\", \"ylab\": \"PC2\"}, \"topic.order\": [1, 3, 8, 2, 4, 6, 7, 5]};\n",
       "\n",
       "function LDAvis_load_lib(url, callback){\n",
       "  var s = document.createElement('script');\n",
       "  s.src = url;\n",
       "  s.async = true;\n",
       "  s.onreadystatechange = s.onload = callback;\n",
       "  s.onerror = function(){console.warn(\"failed to load library \" + url);};\n",
       "  document.getElementsByTagName(\"head\")[0].appendChild(s);\n",
       "}\n",
       "\n",
       "if(typeof(LDAvis) !== \"undefined\"){\n",
       "   // already loaded: just create the visualization\n",
       "   !function(LDAvis){\n",
       "       new LDAvis(\"#\" + \"ldavis_el2045617194879536006469624395\", ldavis_el2045617194879536006469624395_data);\n",
       "   }(LDAvis);\n",
       "}else if(typeof define === \"function\" && define.amd){\n",
       "   // require.js is available: use it to load d3/LDAvis\n",
       "   require.config({paths: {d3: \"https://d3js.org/d3.v5\"}});\n",
       "   require([\"d3\"], function(d3){\n",
       "      window.d3 = d3;\n",
       "      LDAvis_load_lib(\"https://cdn.jsdelivr.net/gh/bmabey/pyLDAvis@3.3.1/pyLDAvis/js/ldavis.v3.0.0.js\", function(){\n",
       "        new LDAvis(\"#\" + \"ldavis_el2045617194879536006469624395\", ldavis_el2045617194879536006469624395_data);\n",
       "      });\n",
       "    });\n",
       "}else{\n",
       "    // require.js not available: dynamically load d3 & LDAvis\n",
       "    LDAvis_load_lib(\"https://d3js.org/d3.v5.js\", function(){\n",
       "         LDAvis_load_lib(\"https://cdn.jsdelivr.net/gh/bmabey/pyLDAvis@3.3.1/pyLDAvis/js/ldavis.v3.0.0.js\", function(){\n",
       "                 new LDAvis(\"#\" + \"ldavis_el2045617194879536006469624395\", ldavis_el2045617194879536006469624395_data);\n",
       "            })\n",
       "         });\n",
       "}\n",
       "</script>"
      ],
      "text/plain": [
       "PreparedData(topic_coordinates=              x         y  topics  cluster       Freq\n",
       "topic                                                \n",
       "0      0.281602  0.076442       1        1  83.804101\n",
       "2      0.153980 -0.094186       2        1  12.149925\n",
       "7     -0.111537  0.139388       3        1   2.231321\n",
       "1     -0.072226 -0.076096       4        1   1.582093\n",
       "3     -0.078232 -0.019098       5        1   0.154208\n",
       "5     -0.060092 -0.009660       6        1   0.064119\n",
       "6     -0.056748 -0.008395       7        1   0.007119\n",
       "4     -0.056748 -0.008396       8        1   0.007115, topic_info=        Term        Freq       Total Category  logprob  loglift\n",
       "157    fight  294.000000  294.000000  Default   30.000  30.0000\n",
       "16     anime  891.000000  891.000000  Default   29.000  29.0000\n",
       "396  shounen  327.000000  327.000000  Default   28.000  28.0000\n",
       "275     make  430.000000  430.000000  Default   27.000  27.0000\n",
       "606   naruto   91.000000   91.000000  Default   26.000  26.0000\n",
       "..       ...         ...         ...      ...      ...      ...\n",
       "234  itadori    0.000669  175.803703   Topic8   -8.697  -2.9289\n",
       "483     want    0.000669  174.850276   Topic8   -8.697  -2.9235\n",
       "182     give    0.000669  252.944376   Topic8   -8.697  -3.2927\n",
       "184       go    0.000669  306.296475   Topic8   -8.697  -3.4841\n",
       "155     feel    0.000669  268.794564   Topic8   -8.697  -3.3535\n",
       "\n",
       "[463 rows x 6 columns], token_table=      Topic      Freq         Term\n",
       "term                              \n",
       "5762      4  0.606495  abomination\n",
       "3         1  0.820620       action\n",
       "3         2  0.175278       action\n",
       "502       4  0.978854          ali\n",
       "12        1  0.957121         also\n",
       "...     ...       ...          ...\n",
       "3440      4  0.994389         wind\n",
       "491       1  0.427729         word\n",
       "491       2  0.549937         word\n",
       "2255      2  0.883523       writer\n",
       "2060      4  0.801112      yoshino\n",
       "\n",
       "[367 rows x 3 columns], R=30, lambda_step=0.01, plot_opts={'xlab': 'PC1', 'ylab': 'PC2'}, topic_order=[1, 3, 8, 2, 4, 6, 7, 5])"
      ]
     },
     "execution_count": 22,
     "metadata": {},
     "output_type": "execute_result"
    }
   ],
   "source": [
    "# Generate a visualization of the topic models\n",
    "\n",
    "import pyLDAvis.gensim_models\n",
    "pyLDAvis.enable_notebook()\n",
    "vis = pyLDAvis.gensim_models.prepare(lda_model, corpus, id2word)\n",
    "vis"
   ]
  },
  {
   "cell_type": "code",
   "execution_count": 23,
   "metadata": {},
   "outputs": [],
   "source": [
    "# Save the data frame as a CSV file\n",
    "# job_datas.to_csv(r'D:\\UMD Senior College Work\\Spring 2021\\INST447-0101\\Programming Assignment 2\\Chan_Matthew_INST447_PA2.csv')"
   ]
  },
  {
   "cell_type": "code",
   "execution_count": 24,
   "metadata": {},
   "outputs": [],
   "source": [
    "# Week 9 Topic Modelling\n",
    "# ner_corpus = ' '.join(ner_df['Name'])\n",
    "# corp = open(r'D:\\UMD Senior College Work\\Spring 2021\\INST447-0101\\Week 9\\corpus.txt',\"w\")\n",
    "# corp.writelines(ner_corpus)\n",
    "# corp.close()"
   ]
  },
  {
   "cell_type": "code",
   "execution_count": null,
   "metadata": {},
   "outputs": [],
   "source": []
  },
  {
   "cell_type": "code",
   "execution_count": null,
   "metadata": {},
   "outputs": [],
   "source": []
  },
  {
   "cell_type": "code",
   "execution_count": null,
   "metadata": {},
   "outputs": [],
   "source": []
  },
  {
   "cell_type": "code",
   "execution_count": null,
   "metadata": {},
   "outputs": [],
   "source": []
  },
  {
   "cell_type": "code",
   "execution_count": null,
   "metadata": {},
   "outputs": [],
   "source": []
  },
  {
   "cell_type": "code",
   "execution_count": null,
   "metadata": {},
   "outputs": [],
   "source": []
  },
  {
   "cell_type": "code",
   "execution_count": null,
   "metadata": {},
   "outputs": [],
   "source": []
  },
  {
   "cell_type": "code",
   "execution_count": null,
   "metadata": {},
   "outputs": [],
   "source": []
  }
 ],
 "metadata": {
  "kernelspec": {
   "display_name": "Python 3",
   "language": "python",
   "name": "python3"
  },
  "language_info": {
   "codemirror_mode": {
    "name": "ipython",
    "version": 3
   },
   "file_extension": ".py",
   "mimetype": "text/x-python",
   "name": "python",
   "nbconvert_exporter": "python",
   "pygments_lexer": "ipython3",
   "version": "3.8.5"
  }
 },
 "nbformat": 4,
 "nbformat_minor": 4
}
