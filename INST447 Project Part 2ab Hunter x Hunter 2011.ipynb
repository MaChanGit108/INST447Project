{
 "cells": [
  {
   "cell_type": "markdown",
   "metadata": {},
   "source": [
    "### INST447 Project Part 2\n",
    "#### Members: Alexander Chui and Matthew Chan"
   ]
  },
  {
   "cell_type": "markdown",
   "metadata": {},
   "source": [
    "### What factors affect ratings for an anime?"
   ]
  },
  {
   "cell_type": "code",
   "execution_count": 1,
   "metadata": {},
   "outputs": [],
   "source": [
    "import warnings\n",
    "warnings.filterwarnings('ignore')"
   ]
  },
  {
   "cell_type": "code",
   "execution_count": 2,
   "metadata": {},
   "outputs": [],
   "source": [
    "#Importing the required libraries\n",
    "import pandas as pd\n",
    "from bs4 import BeautifulSoup\n",
    "from urllib.request import urlopen \n",
    "import numpy as np\n",
    "from requests import get"
   ]
  },
  {
   "cell_type": "code",
   "execution_count": 3,
   "metadata": {},
   "outputs": [],
   "source": [
    "#libraries imported for handling rate limits and console formatting\n",
    "from time import time, sleep\n",
    "from random import randint\n",
    "from warnings import warn\n",
    "from IPython.core.display import clear_output"
   ]
  },
  {
   "cell_type": "code",
   "execution_count": 4,
   "metadata": {},
   "outputs": [
    {
     "name": "stderr",
     "output_type": "stream",
     "text": [
      "C:\\Users\\MaNinjaChan\\anaconda3\\lib\\site-packages\\sklearn\\linear_model\\_least_angle.py:34: DeprecationWarning: `np.float` is a deprecated alias for the builtin `float`. To silence this warning, use `float` by itself. Doing this will not modify any behavior and is safe. If you specifically wanted the numpy scalar type, use `np.float64` here.\n",
      "Deprecated in NumPy 1.20; for more details and guidance: https://numpy.org/devdocs/release/1.20.0-notes.html#deprecations\n",
      "  method='lar', copy_X=True, eps=np.finfo(np.float).eps,\n",
      "C:\\Users\\MaNinjaChan\\anaconda3\\lib\\site-packages\\sklearn\\linear_model\\_least_angle.py:164: DeprecationWarning: `np.float` is a deprecated alias for the builtin `float`. To silence this warning, use `float` by itself. Doing this will not modify any behavior and is safe. If you specifically wanted the numpy scalar type, use `np.float64` here.\n",
      "Deprecated in NumPy 1.20; for more details and guidance: https://numpy.org/devdocs/release/1.20.0-notes.html#deprecations\n",
      "  method='lar', copy_X=True, eps=np.finfo(np.float).eps,\n",
      "C:\\Users\\MaNinjaChan\\anaconda3\\lib\\site-packages\\sklearn\\linear_model\\_least_angle.py:281: DeprecationWarning: `np.float` is a deprecated alias for the builtin `float`. To silence this warning, use `float` by itself. Doing this will not modify any behavior and is safe. If you specifically wanted the numpy scalar type, use `np.float64` here.\n",
      "Deprecated in NumPy 1.20; for more details and guidance: https://numpy.org/devdocs/release/1.20.0-notes.html#deprecations\n",
      "  eps=np.finfo(np.float).eps, copy_Gram=True, verbose=0,\n",
      "C:\\Users\\MaNinjaChan\\anaconda3\\lib\\site-packages\\sklearn\\linear_model\\_least_angle.py:865: DeprecationWarning: `np.float` is a deprecated alias for the builtin `float`. To silence this warning, use `float` by itself. Doing this will not modify any behavior and is safe. If you specifically wanted the numpy scalar type, use `np.float64` here.\n",
      "Deprecated in NumPy 1.20; for more details and guidance: https://numpy.org/devdocs/release/1.20.0-notes.html#deprecations\n",
      "  eps=np.finfo(np.float).eps, copy_X=True, fit_path=True,\n",
      "C:\\Users\\MaNinjaChan\\anaconda3\\lib\\site-packages\\sklearn\\linear_model\\_least_angle.py:1121: DeprecationWarning: `np.float` is a deprecated alias for the builtin `float`. To silence this warning, use `float` by itself. Doing this will not modify any behavior and is safe. If you specifically wanted the numpy scalar type, use `np.float64` here.\n",
      "Deprecated in NumPy 1.20; for more details and guidance: https://numpy.org/devdocs/release/1.20.0-notes.html#deprecations\n",
      "  eps=np.finfo(np.float).eps, copy_X=True, fit_path=True,\n",
      "C:\\Users\\MaNinjaChan\\anaconda3\\lib\\site-packages\\sklearn\\linear_model\\_least_angle.py:1149: DeprecationWarning: `np.float` is a deprecated alias for the builtin `float`. To silence this warning, use `float` by itself. Doing this will not modify any behavior and is safe. If you specifically wanted the numpy scalar type, use `np.float64` here.\n",
      "Deprecated in NumPy 1.20; for more details and guidance: https://numpy.org/devdocs/release/1.20.0-notes.html#deprecations\n",
      "  eps=np.finfo(np.float).eps, positive=False):\n",
      "C:\\Users\\MaNinjaChan\\anaconda3\\lib\\site-packages\\sklearn\\linear_model\\_least_angle.py:1379: DeprecationWarning: `np.float` is a deprecated alias for the builtin `float`. To silence this warning, use `float` by itself. Doing this will not modify any behavior and is safe. If you specifically wanted the numpy scalar type, use `np.float64` here.\n",
      "Deprecated in NumPy 1.20; for more details and guidance: https://numpy.org/devdocs/release/1.20.0-notes.html#deprecations\n",
      "  max_n_alphas=1000, n_jobs=None, eps=np.finfo(np.float).eps,\n",
      "C:\\Users\\MaNinjaChan\\anaconda3\\lib\\site-packages\\sklearn\\linear_model\\_least_angle.py:1621: DeprecationWarning: `np.float` is a deprecated alias for the builtin `float`. To silence this warning, use `float` by itself. Doing this will not modify any behavior and is safe. If you specifically wanted the numpy scalar type, use `np.float64` here.\n",
      "Deprecated in NumPy 1.20; for more details and guidance: https://numpy.org/devdocs/release/1.20.0-notes.html#deprecations\n",
      "  max_n_alphas=1000, n_jobs=None, eps=np.finfo(np.float).eps,\n",
      "C:\\Users\\MaNinjaChan\\anaconda3\\lib\\site-packages\\sklearn\\linear_model\\_least_angle.py:1755: DeprecationWarning: `np.float` is a deprecated alias for the builtin `float`. To silence this warning, use `float` by itself. Doing this will not modify any behavior and is safe. If you specifically wanted the numpy scalar type, use `np.float64` here.\n",
      "Deprecated in NumPy 1.20; for more details and guidance: https://numpy.org/devdocs/release/1.20.0-notes.html#deprecations\n",
      "  eps=np.finfo(np.float).eps, copy_X=True, positive=False):\n",
      "C:\\Users\\MaNinjaChan\\anaconda3\\lib\\site-packages\\sklearn\\decomposition\\_lda.py:28: DeprecationWarning: `np.float` is a deprecated alias for the builtin `float`. To silence this warning, use `float` by itself. Doing this will not modify any behavior and is safe. If you specifically wanted the numpy scalar type, use `np.float64` here.\n",
      "Deprecated in NumPy 1.20; for more details and guidance: https://numpy.org/devdocs/release/1.20.0-notes.html#deprecations\n",
      "  EPS = np.finfo(np.float).eps\n",
      "C:\\Users\\MaNinjaChan\\anaconda3\\lib\\site-packages\\sklearn\\feature_extraction\\image.py:172: DeprecationWarning: `np.int` is a deprecated alias for the builtin `int`. To silence this warning, use `int` by itself. Doing this will not modify any behavior and is safe. When replacing `np.int`, you may wish to use e.g. `np.int64` or `np.int32` to specify the precision. If you wish to review your current use, check the release note link for additional information.\n",
      "Deprecated in NumPy 1.20; for more details and guidance: https://numpy.org/devdocs/release/1.20.0-notes.html#deprecations\n",
      "  dtype=np.int):\n"
     ]
    }
   ],
   "source": [
    "import regex as re\n",
    "\n",
    "# Gensim\n",
    "import gensim\n",
    "import gensim.corpora as corpora\n",
    "from gensim.utils import simple_preprocess\n",
    "\n",
    "# spacy for lemmatization\n",
    "import spacy\n",
    "\n",
    "# Plotting tools\n",
    "import pyLDAvis\n",
    "\n",
    "import nltk; "
   ]
  },
  {
   "cell_type": "code",
   "execution_count": 5,
   "metadata": {},
   "outputs": [],
   "source": [
    "# NLTK Stop words\n",
    "from nltk.corpus import stopwords\n",
    "stop_words = stopwords.words('english')\n",
    "stop_words.extend(['from', 'subject', 're', 'edu', 'use'])"
   ]
  },
  {
   "cell_type": "code",
   "execution_count": 6,
   "metadata": {},
   "outputs": [],
   "source": [
    "#Connecting to the URL on the web to access its content (Crunchyroll)\n",
    "# html=urlopen('https://www.crunchyroll.com/fullmetal-alchemist-brotherhood/reviews/helpful/page1')\n",
    "# html.status"
   ]
  },
  {
   "cell_type": "code",
   "execution_count": 7,
   "metadata": {},
   "outputs": [
    {
     "data": {
      "text/plain": [
       "200"
      ]
     },
     "execution_count": 7,
     "metadata": {},
     "output_type": "execute_result"
    }
   ],
   "source": [
    "#Connecting to the URL on the web to access its content (MAL)\n",
    "html=urlopen('https://myanimelist.net/anime/11061/Hunter_x_Hunter_2011/reviews?p=1')\n",
    "html.status"
   ]
  },
  {
   "cell_type": "code",
   "execution_count": 8,
   "metadata": {},
   "outputs": [],
   "source": [
    "#Creating an instance of beautifulsoup object to begin web scraping\n",
    "bs=BeautifulSoup(html.read(),'html.parser')"
   ]
  },
  {
   "cell_type": "code",
   "execution_count": 9,
   "metadata": {},
   "outputs": [
    {
     "name": "stdout",
     "output_type": "stream",
     "text": [
      "20\n"
     ]
    }
   ],
   "source": [
    "#Acessing the container objects with the anime info \n",
    "anime_review_containers = bs.find_all('div', {'class':{'borderDark'}})\n",
    "print(len(anime_review_containers))"
   ]
  },
  {
   "cell_type": "code",
   "execution_count": 10,
   "metadata": {},
   "outputs": [],
   "source": [
    "#Creating empty lists to store all the items \n",
    "review = []"
   ]
  },
  {
   "cell_type": "code",
   "execution_count": 11,
   "metadata": {},
   "outputs": [],
   "source": [
    "# Preparing the monitoring of the loop\n",
    "start_time = time()\n",
    "request = 0"
   ]
  },
  {
   "cell_type": "code",
   "execution_count": 12,
   "metadata": {},
   "outputs": [],
   "source": [
    "#Extracting each job name in loop\n",
    "for page in range(1,35):\n",
    "    # Make a get request\n",
    "        #https://myanimelist.net/anime/genre/1/Action?page=1\n",
    "        #https://myanimelist.net/anime/genre/1/Action?page=2\n",
    "        response = get('https://myanimelist.net/anime/11061/Hunter_x_Hunter_2011/reviews?p='+ str(page))\n",
    "        \n",
    "#         # Pause the loop\n",
    "#         sleep(randint(8,15))\n",
    "\n",
    "#         # Monitor the requests\n",
    "#         request += 1\n",
    "#         elapsed_time = time() - start_time\n",
    "#         print('Request:{}; Frequency: {} requests/s'.format(request, \n",
    "#                                                             request/elapsed_time))\n",
    "#         clear_output(wait = True)\n",
    "\n",
    "#         # Throw a warning for non-200 status codes\n",
    "#         if response.status_code != 200:\n",
    "#             warn('Request: {}; Status code: {}'.format(request, \n",
    "#                                                        response.status_code))\n",
    "\n",
    "#         # Break the loop if the number of requests is greater than expected\n",
    "#         if request > 100:\n",
    "#             warn('Number of requests was greater than expected.')\n",
    "#             break\n",
    "        \n",
    "        # Parse the content of the request with BeautifulSoup\n",
    "        bs = BeautifulSoup(response.text, 'html.parser')\n",
    "        \n",
    "        #Acessing the container objects with the anime info \n",
    "        anime_review_containers = bs.find_all('div', {'class':{'borderDark'}})\n",
    "\n",
    "        #Extracting all the elements \n",
    "        for container in anime_review_containers:\n",
    "        # If the movie has Metascore, then extract:\n",
    "        #  if container.find('div', {'class':{'scoremem'}})  is not None:\n",
    "        \n",
    "        # The name of anime\n",
    "            try: \n",
    "                reviews = container.find('div', {'class':'spaceit textReadability word-break pt8 mt8'})\n",
    "                review.append(reviews.text)\n",
    "            except:\n",
    "                review.append('Missing')"
   ]
  },
  {
   "cell_type": "code",
   "execution_count": 13,
   "metadata": {},
   "outputs": [
    {
     "name": "stdout",
     "output_type": "stream",
     "text": [
      "<class 'pandas.core.frame.DataFrame'>\n",
      "RangeIndex: 680 entries, 0 to 679\n",
      "Data columns (total 1 columns):\n",
      " #   Column  Non-Null Count  Dtype \n",
      "---  ------  --------------  ----- \n",
      " 0   Review  680 non-null    object\n",
      "dtypes: object(1)\n",
      "memory usage: 5.4+ KB\n",
      "None\n"
     ]
    }
   ],
   "source": [
    "#Creating a pandas dataframe to store the objects extracted\n",
    "anime_review = pd.DataFrame({'Review': review\n",
    "})\n",
    "print(anime_review.info())"
   ]
  },
  {
   "cell_type": "code",
   "execution_count": 14,
   "metadata": {},
   "outputs": [
    {
     "data": {
      "text/html": [
       "<div>\n",
       "<style scoped>\n",
       "    .dataframe tbody tr th:only-of-type {\n",
       "        vertical-align: middle;\n",
       "    }\n",
       "\n",
       "    .dataframe tbody tr th {\n",
       "        vertical-align: top;\n",
       "    }\n",
       "\n",
       "    .dataframe thead th {\n",
       "        text-align: right;\n",
       "    }\n",
       "</style>\n",
       "<table border=\"1\" class=\"dataframe\">\n",
       "  <thead>\n",
       "    <tr style=\"text-align: right;\">\n",
       "      <th></th>\n",
       "      <th>Review</th>\n",
       "    </tr>\n",
       "  </thead>\n",
       "  <tbody>\n",
       "    <tr>\n",
       "      <th>0</th>\n",
       "      <td>\\n\\n\\n\\nOverall\\n10\\n\\n\\nStory\\n10\\n\\n\\nAnimat...</td>\n",
       "    </tr>\n",
       "    <tr>\n",
       "      <th>1</th>\n",
       "      <td>\\n\\n\\n\\nOverall\\n10\\n\\n\\nStory\\n10\\n\\n\\nAnimat...</td>\n",
       "    </tr>\n",
       "    <tr>\n",
       "      <th>2</th>\n",
       "      <td>\\n\\n\\n\\nOverall\\n10\\n\\n\\nStory\\n9\\n\\n\\nAnimati...</td>\n",
       "    </tr>\n",
       "    <tr>\n",
       "      <th>3</th>\n",
       "      <td>\\n\\n\\n\\nOverall\\n10\\n\\n\\nStory\\n9\\n\\n\\nAnimati...</td>\n",
       "    </tr>\n",
       "    <tr>\n",
       "      <th>4</th>\n",
       "      <td>\\n\\n\\n\\nOverall\\n6\\n\\n\\nStory\\n6\\n\\n\\nAnimatio...</td>\n",
       "    </tr>\n",
       "  </tbody>\n",
       "</table>\n",
       "</div>"
      ],
      "text/plain": [
       "                                              Review\n",
       "0  \\n\\n\\n\\nOverall\\n10\\n\\n\\nStory\\n10\\n\\n\\nAnimat...\n",
       "1  \\n\\n\\n\\nOverall\\n10\\n\\n\\nStory\\n10\\n\\n\\nAnimat...\n",
       "2  \\n\\n\\n\\nOverall\\n10\\n\\n\\nStory\\n9\\n\\n\\nAnimati...\n",
       "3  \\n\\n\\n\\nOverall\\n10\\n\\n\\nStory\\n9\\n\\n\\nAnimati...\n",
       "4  \\n\\n\\n\\nOverall\\n6\\n\\n\\nStory\\n6\\n\\n\\nAnimatio..."
      ]
     },
     "execution_count": 14,
     "metadata": {},
     "output_type": "execute_result"
    }
   ],
   "source": [
    "# Display the top 5 rows of dataset\n",
    "anime_review.head()"
   ]
  },
  {
   "cell_type": "code",
   "execution_count": 15,
   "metadata": {},
   "outputs": [
    {
     "name": "stderr",
     "output_type": "stream",
     "text": [
      "<>:5: DeprecationWarning: invalid escape sequence \\s\n",
      "<>:5: DeprecationWarning: invalid escape sequence \\s\n",
      "<ipython-input-15-b412c0db5fd7>:5: DeprecationWarning: invalid escape sequence \\s\n",
      "  data = [re.sub('\\s+', ' ', sent) for sent in data]\n"
     ]
    },
    {
     "name": "stdout",
     "output_type": "stream",
     "text": [
      " Overall 10 Story 10 Animation 9 Sound 8 Character 10 Enjoyment 10 The lack of popularity surrounding Hunter x Hunter (2011) has always confused me, especially after catching up to it six months ago. For an anime that seems to do everything right, it isn't talked about a lot at a popular level. Neither has it been successful in garnering a fan base similar to that of SNK or SAO. I decided to write this review to do the show justice. If a show this good is still flying under your radar or if you are discouraged from watching this because of its \"childish appearance\" then reading this review is a must. Story: HxH is about a young boy named Gon who embarks on a journey to find his father. After learning that his father left him at a young age to become a Hunter, Gon decides to follow in his footsteps not only to find him, but also to see what was so special about the profession that made his father choose it over him. Although a story of finding one's father is simple, it is the path that is taken towards this end that makes the series truly special. HxH is made up of several arcs that are all extremely well-written, which brings me to the best part of the series, the writing. Hunter x Hunter (2011) boasts one of the finest writing in the world of shonen; the depth and flow of the story, enthralling characterizations, strong dialogue and impressive world-building are all crafted into a fascinating tale that can absorb viewers into lengthy marathons. The amount of variety that is packed into HxH's story is also very impressive. HxH successfully dabbles in several genres in six story arcs tackling survival, fighting tournaments, crime thriller, virtual realities, war and politics. Not only that, the series is also able to undergo significant tonal shifts with ease (light to dark and vice versa). Sometimes, these shifts in tone occur after an arc ends though other times, it even occurs mid-arc. Another thing about HxH is that its arcs are connected with one another, with each arc naturally following the one before it. This creates a natural transition that highlights what the series really is, a journey. As for pacing and development, they are excellent. For the most part, HxH is very well paced. The series does a fantastic job at keeping its viewers engaged, time will fly by as you watch most episodes and you'll find yourself breezing through the show. Excluding two recap episodes, HxH has no filler episodes. Due to this, story progression is solid with the plot moving forward with each episode. Although HxH initially gives off a light hearted impression, it gives off a good one. Not the kind of “light heartedness” that makes you say “this is childish and below me” but the kind that appeals to everyone. HxH gives off that classic and charming shonen vibe that has been lost in recent years, and it does so with its head held up high. Eventually though, the series takes a dark turn. Although most HxH story arcs are light hearted, both Yorknew and the Chimera Ant arc are two of the best and darkest arcs shonen has to offer. Yorknew can be described as a dark thriller in a big city. The central theme of the arc is revenge and it is similar to Death Note in terms of thrill and atmosphere. On the other hand, the Chimera Ants arc can be described as an attempt by the Hunters Association to control an outbreak of a dangerous man-eating species. It is the darkest and most thematically powerful arc in the series tackling themes such as identity, human nature and survival of the fittest. The arc has drawn comparisons to Yu Yu Hakusho’s Chapter Black for its seinen-like nature and is similar to Shingeki no Kyojin, where the protagonists experience a strong sense of despair in the face of a vastly superior, hostile species. The series undergoes major tonal shifts in both arcs with the color palette, music, atmosphere and amount of violence changing significantly. However, what sets the series apart from other battle anime is its unorthodoxy and unpredictability. Shonen tropes and storytelling methods are undermined throughout the series. The main character for example, Gon, fails more than he succeeds. Power-ups based on emotion or willpower are non-existent and fighting in the series is radically different from other battle anime. The main protagonist is not the main focus of every arc either. At certain points in the series, you could even say that Gon has taken a supporting role, especially during the later portions of the CA arc where he isn't given as much focus due to the grand scope of the story. The standard battle anime formula of “lose-train-win” is also undermined. Although there is training, it does not always translate to a victory, nor does it propel the protagonists over or to the same level as their main adversaries in terms of strength. For the most part, the protagonists assume the underdog role. Although they have incredible potential, they are still kids who have a lot to learn. In terms of storytelling, unpredictable developments are commonplace. One thing that continues to amaze me with this show is how it leads viewers into thinking that the story will progress in this direction, only to change course and arrive at a completely different outcome. A good example of this would be the series' arcs which often end in an anti-climatic manner. Basically, there are a lot of scenes and story developments that you won’t see coming because they defy conventional shonen storytelling or are unpredictable in their own right. The series' unorthodoxy can also be seen in its fights which are primarily cerebral. In addition to being well-executed, HxH fights are smart and involve a lot of strategy. Raw power is a factor but it is not the factor that decides battle outcomes, actual power (nen abilities), experience and strategy are all taken into account. If a main character is outclassed by an opponent in all or most categories, he is likely to lose. Moreover, main characters are not given any special treatment in combat. This smart approach to fighting is further enhanced by nen, a unique and complex power system held by defined rules. The concept of nen, its principles, aura types and many applications on the battlefield reveal the huge amount of thought that was put into it. I still remember having to pause episodes, even research a bit during its introduction, just to digest it in its entirety. The appearance and writing of the series also create an effect of cognitive dissonance, the simplistic look of the show mentally conflicts with the brilliance and unorthodoxy of its writing. As new viewers delve deeper into HxH, they realize that there is much more to the show than its cover art and synopsis suggest. Expectations of the series being immature, simple or generic are progressively overturned as the show reveals its surprising underbelly. Sound: As for sound, HxH has a line of great soundtracks that started off decent but got better as the series progressed. With the exception of a few minor characters, the voice acting in this series is excellent. As a person who has never seen the old series it’s hard to believe that these aren't the original voices because they fit extremely well, especially those of Gon, Killua and Hisoka whose voice actors do a perfect job of capturing their characters. Art: HxH also has great art and animation. It amazes me how a long-running series like HxH delivers consistent quality animation episode after episode, especially during the fights. The series does a great job of capturing facial expressions and everything from the lighting, shading and colors adjust perfectly depending on the mood of the scene or the tone of the arc. As one reviewer (nagaiyume) said, the bright colors of the show might need some getting used to, though it is usually fans of the old series who have this problem. Personally, I think it fits the show perfectly. It adds to the charm of the series by complementing its sense of adventure, uplifting atmosphere and unique appeal as a shonen that looks simple but is actually remarkably deep. Characters: Although HxH’s primary strength lies in its writing, its characters come pretty damn close. HxH has a huge cast of characters. They have quirks, dreams, inner demons, world views and overall, really likable personalities. To top it off, most of them don’t follow generic character archetypes. Although some may initially come across as “generic”, these assumptions are gradually undermined as the series progresses. If there's one thing I want to emphasize in the character department it would be the series main villains. When it comes to characters, this is where the show shines the brightest. HxH villains are extremely well-written (with the exception of the Bomber who won't apply to most of what I'll say below). Not only are their characterizations independently impressive, they are also distinct from one another; no two villains are the same. This distinctness does not only apply within the series but outside of it. You won't find another Hisoka, Chrollo or Ant King in any other anime. This is what makes HxH villains so compelling, in addition to having really impressive characterizations, they are also original. Although I excluded one out of the four main villains from most of what I wrote above, all HxH villains do have one thing in common. Each villain strikes fear into audience, the series does a good job of establishing the level of danger these characters bring to the story and our protagonists. Negatives: However, while HxH is a great series it isn't perfect. The series doesn't have a strong start, it takes three episodes for show to get going. I've seen a lot of people drop HxH early and it sucks because the first two episodes don't capture the series at all. Things start to get mildly interesting in the third episode, after that, the series just gets better and better. HxH also suffers from occasional BGM misuse. There are odd sound choices for some scenes. Sometimes they don’t really fit, other times they don’t fit it all. Lastly, the Chimera Ant arc also has minor issues with both Togashi and Madhouse to blame. Togashi’s fault lies in his writing during the middle of the CA arc which I think, pales in comparison to the rest of the series. HxH has made a name for itself for holding a consistent high level throughout its run; it’s a series that’s just so engaging and easy to marathon. However, I believe this consistency took a hit mid-CA arc (due to handling of the story and pacing) specifically, episodes 89-98. Don’t get me wrong though, I think there are a fair number of good episodes within that 9-episode stretch but unfortunately, they are surrounded by mediocre episodes that break the consistency of an otherwise exceptional arc. Madhouse’s fault lies in its adaption of the manga chapters comprising episodes 113 and 115, which were dragged out in order to have episode 116 handled by their best animation team. Episode 113 was actually well paced except for one atrocious sequence while episode 115 as a whole was generally poorly paced. A clarification about the \"slowed down pacing\" of Chimera Ant arc: If you’ve been reading up about HxH, you’ve probably seen some people complain about the “poor pacing” during the “narration heavy episodes” of the CA arc. Well if you’re wondering how much truth is there to this statement and were going to ask me about it, my answer would be it depends. At episode 111, the palace invasion (climax of the CA arc) begins and narration begins to play a huge role in episodes in order to (1) pack a whole level of depth into the story and (2) increase dramatic tension. Rather than a high octane \"action fest\" people would expect from a shonen arc climax, the palace invasion takes a psychological heavy route wherein a character’s thoughts and mental state are given more focus than the actual action. This psychological focus together with the narration slows down the pace considerably in the sense that episodes begin to cover a lot less in narrative time. However, despite this “slowed down pace”, the pacing of these episodes remain solid with good amount of manga chapters being covered during each of these episodes and the duration of scenes being on point (except for episodes 113 and 115 which I mentioned earlier in this review). In the end, it depends if the narration works on you or not. If you like the psychological approach and experience an increase in suspense then you’ll have no problems with the pacing and are in for one helluvah of a ride. However, if you don’t like the psychological approach and feel that the narrator’s heavy presence breaks your immersion then you’re in for a grueling experience. Of course, there are other combinations such as liking the psychological route but not feeling the immersion or maybe the narration just didn't work on you completely. Well, if this happens to be the case then you’ll end up with mixed feelings. On the bright side, most people who end up watching the invasion end up enjoying the narration. However, if you happen to be one of the good number of people who end up not liking the narration don’t worry, only episodes 111-118 of the palace invasion have heavy narration. After episode 118, the narration begins to decrease and episodes eventually reach a point where they are “back to normal”. Heads up to people looking for action: Although I love the fighting aspect of the series and consider it to be a strong plus, I’ll leave this out there for the sake of subjectivity. HxH does not cater to everyone. Although fights in the series are well-executed, they are also short (1-10 minutes) and happen less in comparison to other battle anime. Moreover, the focus on strategy in battles might be off putting to people who prefer fights with more brawn and less brain. If you're expecting an action heavy series like Yu Yu Hakusho then you will be disappointed. This is because HxH is a series that relies on its story to reel in viewers. Personally, I think this is how fighting in shonen should be done. Fighting should be able to entertain and also make you think. It shouldn't drag on for too long at the expense of the story without leaving you underwhelmed. Conclusion: Hunter x Hunter (2011) is an intelligent battle anime with a fantastic story, excellent characters and fights that involve a lot of strategy. Separating it from most of its genre, the series subverts shonen tropes and boasts unpredictable plot progressions that make it truly unique. Overall scores: Story: 10/10 (Outstanding) Characters: 10/10 (Outstanding) Art: 9/10 (Great) Sound: 8/10 (Great but occasionally misused) Enjoyment: 10/10 (Extremely high) Overall: 10/10 (Masterpiece) Helpful read more \n"
     ]
    }
   ],
   "source": [
    "# Convert to list\n",
    "data = anime_review['Review'].tolist()\n",
    "\n",
    "# Remove new line characters\n",
    "data = [re.sub('\\s+', ' ', sent) for sent in data]\n",
    "\n",
    "print(data[0])"
   ]
  },
  {
   "cell_type": "code",
   "execution_count": 16,
   "metadata": {},
   "outputs": [
    {
     "name": "stdout",
     "output_type": "stream",
     "text": [
      "['overall', 'story', 'animation', 'sound', 'character', 'enjoyment', 'the', 'lack', 'of', 'popularity', 'surrounding', 'hunter', 'hunter', 'has', 'always', 'confused', 'me', 'especially', 'after', 'catching', 'up', 'to', 'it', 'six', 'months', 'ago', 'for', 'an', 'anime', 'that', 'seems', 'to', 'do', 'everything', 'right', 'it', 'isn', 'talked', 'about', 'lot', 'at', 'popular', 'level', 'neither', 'has', 'it', 'been', 'successful', 'in', 'garnering', 'fan', 'base', 'similar', 'to', 'that', 'of', 'snk', 'or', 'sao', 'decided', 'to', 'write', 'this', 'review', 'to', 'do', 'the', 'show', 'justice', 'if', 'show', 'this', 'good', 'is', 'still', 'flying', 'under', 'your', 'radar', 'or', 'if', 'you', 'are', 'discouraged', 'from', 'watching', 'this', 'because', 'of', 'its', 'childish', 'appearance', 'then', 'reading', 'this', 'review', 'is', 'must', 'story', 'hxh', 'is', 'about', 'young', 'boy', 'named', 'gon', 'who', 'embarks', 'on', 'journey', 'to', 'find', 'his', 'father', 'after', 'learning', 'that', 'his', 'father', 'left', 'him', 'at', 'young', 'age', 'to', 'become', 'hunter', 'gon', 'decides', 'to', 'follow', 'in', 'his', 'footsteps', 'not', 'only', 'to', 'find', 'him', 'but', 'also', 'to', 'see', 'what', 'was', 'so', 'special', 'about', 'the', 'profession', 'that', 'made', 'his', 'father', 'choose', 'it', 'over', 'him', 'although', 'story', 'of', 'finding', 'one', 'father', 'is', 'simple', 'it', 'is', 'the', 'path', 'that', 'is', 'taken', 'towards', 'this', 'end', 'that', 'makes', 'the', 'series', 'truly', 'special', 'hxh', 'is', 'made', 'up', 'of', 'several', 'arcs', 'that', 'are', 'all', 'extremely', 'well', 'written', 'which', 'brings', 'me', 'to', 'the', 'best', 'part', 'of', 'the', 'series', 'the', 'writing', 'hunter', 'hunter', 'boasts', 'one', 'of', 'the', 'finest', 'writing', 'in', 'the', 'world', 'of', 'shonen', 'the', 'depth', 'and', 'flow', 'of', 'the', 'story', 'enthralling', 'strong', 'dialogue', 'and', 'impressive', 'world', 'building', 'are', 'all', 'crafted', 'into', 'fascinating', 'tale', 'that', 'can', 'absorb', 'viewers', 'into', 'lengthy', 'marathons', 'the', 'amount', 'of', 'variety', 'that', 'is', 'packed', 'into', 'hxh', 'story', 'is', 'also', 'very', 'impressive', 'hxh', 'successfully', 'dabbles', 'in', 'several', 'genres', 'in', 'six', 'story', 'arcs', 'tackling', 'survival', 'fighting', 'tournaments', 'crime', 'thriller', 'virtual', 'realities', 'war', 'and', 'politics', 'not', 'only', 'that', 'the', 'series', 'is', 'also', 'able', 'to', 'undergo', 'significant', 'tonal', 'shifts', 'with', 'ease', 'light', 'to', 'dark', 'and', 'vice', 'versa', 'sometimes', 'these', 'shifts', 'in', 'tone', 'occur', 'after', 'an', 'arc', 'ends', 'though', 'other', 'times', 'it', 'even', 'occurs', 'mid', 'arc', 'another', 'thing', 'about', 'hxh', 'is', 'that', 'its', 'arcs', 'are', 'connected', 'with', 'one', 'another', 'with', 'each', 'arc', 'naturally', 'following', 'the', 'one', 'before', 'it', 'this', 'creates', 'natural', 'transition', 'that', 'highlights', 'what', 'the', 'series', 'really', 'is', 'journey', 'as', 'for', 'pacing', 'and', 'development', 'they', 'are', 'excellent', 'for', 'the', 'most', 'part', 'hxh', 'is', 'very', 'well', 'paced', 'the', 'series', 'does', 'fantastic', 'job', 'at', 'keeping', 'its', 'viewers', 'engaged', 'time', 'will', 'fly', 'by', 'as', 'you', 'watch', 'most', 'episodes', 'and', 'you', 'll', 'find', 'yourself', 'breezing', 'through', 'the', 'show', 'excluding', 'two', 'recap', 'episodes', 'hxh', 'has', 'no', 'filler', 'episodes', 'due', 'to', 'this', 'story', 'progression', 'is', 'solid', 'with', 'the', 'plot', 'moving', 'forward', 'with', 'each', 'episode', 'although', 'hxh', 'initially', 'gives', 'off', 'light', 'hearted', 'impression', 'it', 'gives', 'off', 'good', 'one', 'not', 'the', 'kind', 'of', 'light', 'heartedness', 'that', 'makes', 'you', 'say', 'this', 'is', 'childish', 'and', 'below', 'me', 'but', 'the', 'kind', 'that', 'appeals', 'to', 'everyone', 'hxh', 'gives', 'off', 'that', 'classic', 'and', 'charming', 'shonen', 'vibe', 'that', 'has', 'been', 'lost', 'in', 'recent', 'years', 'and', 'it', 'does', 'so', 'with', 'its', 'head', 'held', 'up', 'high', 'eventually', 'though', 'the', 'series', 'takes', 'dark', 'turn', 'although', 'most', 'hxh', 'story', 'arcs', 'are', 'light', 'hearted', 'both', 'yorknew', 'and', 'the', 'chimera', 'ant', 'arc', 'are', 'two', 'of', 'the', 'best', 'and', 'darkest', 'arcs', 'shonen', 'has', 'to', 'offer', 'yorknew', 'can', 'be', 'described', 'as', 'dark', 'thriller', 'in', 'big', 'city', 'the', 'central', 'theme', 'of', 'the', 'arc', 'is', 'revenge', 'and', 'it', 'is', 'similar', 'to', 'death', 'note', 'in', 'terms', 'of', 'thrill', 'and', 'atmosphere', 'on', 'the', 'other', 'hand', 'the', 'chimera', 'ants', 'arc', 'can', 'be', 'described', 'as', 'an', 'attempt', 'by', 'the', 'hunters', 'association', 'to', 'control', 'an', 'outbreak', 'of', 'dangerous', 'man', 'eating', 'species', 'it', 'is', 'the', 'darkest', 'and', 'most', 'thematically', 'powerful', 'arc', 'in', 'the', 'series', 'tackling', 'themes', 'such', 'as', 'identity', 'human', 'nature', 'and', 'survival', 'of', 'the', 'fittest', 'the', 'arc', 'has', 'drawn', 'comparisons', 'to', 'yu', 'yu', 'hakusho', 'chapter', 'black', 'for', 'its', 'seinen', 'like', 'nature', 'and', 'is', 'similar', 'to', 'shingeki', 'no', 'kyojin', 'where', 'the', 'protagonists', 'experience', 'strong', 'sense', 'of', 'despair', 'in', 'the', 'face', 'of', 'vastly', 'superior', 'hostile', 'species', 'the', 'series', 'undergoes', 'major', 'tonal', 'shifts', 'in', 'both', 'arcs', 'with', 'the', 'color', 'palette', 'music', 'atmosphere', 'and', 'amount', 'of', 'violence', 'changing', 'significantly', 'however', 'what', 'sets', 'the', 'series', 'apart', 'from', 'other', 'battle', 'anime', 'is', 'its', 'unorthodoxy', 'and', 'shonen', 'tropes', 'and', 'storytelling', 'methods', 'are', 'undermined', 'throughout', 'the', 'series', 'the', 'main', 'character', 'for', 'example', 'gon', 'fails', 'more', 'than', 'he', 'succeeds', 'power', 'ups', 'based', 'on', 'emotion', 'or', 'willpower', 'are', 'non', 'existent', 'and', 'fighting', 'in', 'the', 'series', 'is', 'radically', 'different', 'from', 'other', 'battle', 'anime', 'the', 'main', 'protagonist', 'is', 'not', 'the', 'main', 'focus', 'of', 'every', 'arc', 'either', 'at', 'certain', 'points', 'in', 'the', 'series', 'you', 'could', 'even', 'say', 'that', 'gon', 'has', 'taken', 'supporting', 'role', 'especially', 'during', 'the', 'later', 'portions', 'of', 'the', 'ca', 'arc', 'where', 'he', 'isn', 'given', 'as', 'much', 'focus', 'due', 'to', 'the', 'grand', 'scope', 'of', 'the', 'story', 'the', 'standard', 'battle', 'anime', 'formula', 'of', 'lose', 'train', 'win', 'is', 'also', 'undermined', 'although', 'there', 'is', 'training', 'it', 'does', 'not', 'always', 'translate', 'to', 'victory', 'nor', 'does', 'it', 'propel', 'the', 'protagonists', 'over', 'or', 'to', 'the', 'same', 'level', 'as', 'their', 'main', 'adversaries', 'in', 'terms', 'of', 'strength', 'for', 'the', 'most', 'part', 'the', 'protagonists', 'assume', 'the', 'underdog', 'role', 'although', 'they', 'have', 'incredible', 'potential', 'they', 'are', 'still', 'kids', 'who', 'have', 'lot', 'to', 'learn', 'in', 'terms', 'of', 'storytelling', 'unpredictable', 'developments', 'are', 'commonplace', 'one', 'thing', 'that', 'continues', 'to', 'amaze', 'me', 'with', 'this', 'show', 'is', 'how', 'it', 'leads', 'viewers', 'into', 'thinking', 'that', 'the', 'story', 'will', 'progress', 'in', 'this', 'direction', 'only', 'to', 'change', 'course', 'and', 'arrive', 'at', 'completely', 'different', 'outcome', 'good', 'example', 'of', 'this', 'would', 'be', 'the', 'series', 'arcs', 'which', 'often', 'end', 'in', 'an', 'anti', 'climatic', 'manner', 'basically', 'there', 'are', 'lot', 'of', 'scenes', 'and', 'story', 'developments', 'that', 'you', 'won', 'see', 'coming', 'because', 'they', 'defy', 'conventional', 'shonen', 'storytelling', 'or', 'are', 'unpredictable', 'in', 'their', 'own', 'right', 'the', 'series', 'unorthodoxy', 'can', 'also', 'be', 'seen', 'in', 'its', 'fights', 'which', 'are', 'primarily', 'cerebral', 'in', 'addition', 'to', 'being', 'well', 'executed', 'hxh', 'fights', 'are', 'smart', 'and', 'involve', 'lot', 'of', 'strategy', 'raw', 'power', 'is', 'factor', 'but', 'it', 'is', 'not', 'the', 'factor', 'that', 'decides', 'battle', 'outcomes', 'actual', 'power', 'nen', 'abilities', 'experience', 'and', 'strategy', 'are', 'all', 'taken', 'into', 'account', 'if', 'main', 'character', 'is', 'outclassed', 'by', 'an', 'opponent', 'in', 'all', 'or', 'most', 'categories', 'he', 'is', 'likely', 'to', 'lose', 'moreover', 'main', 'characters', 'are', 'not', 'given', 'any', 'special', 'treatment', 'in', 'combat', 'this', 'smart', 'approach', 'to', 'fighting', 'is', 'further', 'enhanced', 'by', 'nen', 'unique', 'and', 'complex', 'power', 'system', 'held', 'by', 'defined', 'rules', 'the', 'concept', 'of', 'nen', 'its', 'principles', 'aura', 'types', 'and', 'many', 'applications', 'on', 'the', 'battlefield', 'reveal', 'the', 'huge', 'amount', 'of', 'thought', 'that', 'was', 'put', 'into', 'it', 'still', 'remember', 'having', 'to', 'pause', 'episodes', 'even', 'research', 'bit', 'during', 'its', 'introduction', 'just', 'to', 'digest', 'it', 'in', 'its', 'entirety', 'the', 'appearance', 'and', 'writing', 'of', 'the', 'series', 'also', 'create', 'an', 'effect', 'of', 'cognitive', 'dissonance', 'the', 'simplistic', 'look', 'of', 'the', 'show', 'mentally', 'conflicts', 'with', 'the', 'brilliance', 'and', 'unorthodoxy', 'of', 'its', 'writing', 'as', 'new', 'viewers', 'delve', 'deeper', 'into', 'hxh', 'they', 'realize', 'that', 'there', 'is', 'much', 'more', 'to', 'the', 'show', 'than', 'its', 'cover', 'art', 'and', 'synopsis', 'suggest', 'expectations', 'of', 'the', 'series', 'being', 'immature', 'simple', 'or', 'generic', 'are', 'progressively', 'overturned', 'as', 'the', 'show', 'reveals', 'its', 'surprising', 'underbelly', 'sound', 'as', 'for', 'sound', 'hxh', 'has', 'line', 'of', 'great', 'soundtracks', 'that', 'started', 'off', 'decent', 'but', 'got', 'better', 'as', 'the', 'series', 'progressed', 'with', 'the', 'exception', 'of', 'few', 'minor', 'characters', 'the', 'voice', 'acting', 'in', 'this', 'series', 'is', 'excellent', 'as', 'person', 'who', 'has', 'never', 'seen', 'the', 'old', 'series', 'it', 'hard', 'to', 'believe', 'that', 'these', 'aren', 'the', 'original', 'voices', 'because', 'they', 'fit', 'extremely', 'well', 'especially', 'those', 'of', 'gon', 'killua', 'and', 'hisoka', 'whose', 'voice', 'actors', 'do', 'perfect', 'job', 'of', 'capturing', 'their', 'characters', 'art', 'hxh', 'also', 'has', 'great', 'art', 'and', 'animation', 'it', 'amazes', 'me', 'how', 'long', 'running', 'series', 'like', 'hxh', 'delivers', 'consistent', 'quality', 'animation', 'episode', 'after', 'episode', 'especially', 'during', 'the', 'fights', 'the', 'series', 'does', 'great', 'job', 'of', 'capturing', 'facial', 'expressions', 'and', 'everything', 'from', 'the', 'lighting', 'shading', 'and', 'colors', 'adjust', 'perfectly', 'depending', 'on', 'the', 'mood', 'of', 'the', 'scene', 'or', 'the', 'tone', 'of', 'the', 'arc', 'as', 'one', 'reviewer', 'nagaiyume', 'said', 'the', 'bright', 'colors', 'of', 'the', 'show', 'might', 'need', 'some', 'getting', 'used', 'to', 'though', 'it', 'is', 'usually', 'fans', 'of', 'the', 'old', 'series', 'who', 'have', 'this', 'problem', 'personally', 'think', 'it', 'fits', 'the', 'show', 'perfectly', 'it', 'adds', 'to', 'the', 'charm', 'of', 'the', 'series', 'by', 'complementing', 'its', 'sense', 'of', 'adventure', 'uplifting', 'atmosphere', 'and', 'unique', 'appeal', 'as', 'shonen', 'that', 'looks', 'simple', 'but', 'is', 'actually', 'remarkably', 'deep', 'characters', 'although', 'hxh', 'primary', 'strength', 'lies', 'in', 'its', 'writing', 'its', 'characters', 'come', 'pretty', 'damn', 'close', 'hxh', 'has', 'huge', 'cast', 'of', 'characters', 'they', 'have', 'quirks', 'dreams', 'inner', 'demons', 'world', 'views', 'and', 'overall', 'really', 'likable', 'personalities', 'to', 'top', 'it', 'off', 'most', 'of', 'them', 'don', 'follow', 'generic', 'character', 'archetypes', 'although', 'some', 'may', 'initially', 'come', 'across', 'as', 'generic', 'these', 'assumptions', 'are', 'gradually', 'undermined', 'as', 'the', 'series', 'progresses', 'if', 'there', 'one', 'thing', 'want', 'to', 'emphasize', 'in', 'the', 'character', 'department', 'it', 'would', 'be', 'the', 'series', 'main', 'villains', 'when', 'it', 'comes', 'to', 'characters', 'this', 'is', 'where', 'the', 'show', 'shines', 'the', 'brightest', 'hxh', 'villains', 'are', 'extremely', 'well', 'written', 'with', 'the', 'exception', 'of', 'the', 'bomber', 'who', 'won', 'apply', 'to', 'most', 'of', 'what', 'll', 'say', 'below', 'not', 'only', 'are', 'their', 'independently', 'impressive', 'they', 'are', 'also', 'distinct', 'from', 'one', 'another', 'no', 'two', 'villains', 'are', 'the', 'same', 'this', 'distinctness', 'does', 'not', 'only', 'apply', 'within', 'the', 'series', 'but', 'outside', 'of', 'it', 'you', 'won', 'find', 'another', 'hisoka', 'chrollo', 'or', 'ant', 'king', 'in', 'any', 'other', 'anime', 'this', 'is', 'what', 'makes', 'hxh', 'villains', 'so', 'compelling', 'in', 'addition', 'to', 'having', 'really', 'impressive', 'they', 'are', 'also', 'original', 'although', 'excluded', 'one', 'out', 'of', 'the', 'four', 'main', 'villains', 'from', 'most', 'of', 'what', 'wrote', 'above', 'all', 'hxh', 'villains', 'do', 'have', 'one', 'thing', 'in', 'common', 'each', 'villain', 'strikes', 'fear', 'into', 'audience', 'the', 'series', 'does', 'good', 'job', 'of', 'establishing', 'the', 'level', 'of', 'danger', 'these', 'characters', 'bring', 'to', 'the', 'story', 'and', 'our', 'protagonists', 'negatives', 'however', 'while', 'hxh', 'is', 'great', 'series', 'it', 'isn', 'perfect', 'the', 'series', 'doesn', 'have', 'strong', 'start', 'it', 'takes', 'three', 'episodes', 'for', 'show', 'to', 'get', 'going', 've', 'seen', 'lot', 'of', 'people', 'drop', 'hxh', 'early', 'and', 'it', 'sucks', 'because', 'the', 'first', 'two', 'episodes', 'don', 'capture', 'the', 'series', 'at', 'all', 'things', 'start', 'to', 'get', 'mildly', 'interesting', 'in', 'the', 'third', 'episode', 'after', 'that', 'the', 'series', 'just', 'gets', 'better', 'and', 'better', 'hxh', 'also', 'suffers', 'from', 'occasional', 'bgm', 'misuse', 'there', 'are', 'odd', 'sound', 'choices', 'for', 'some', 'scenes', 'sometimes', 'they', 'don', 'really', 'fit', 'other', 'times', 'they', 'don', 'fit', 'it', 'all', 'lastly', 'the', 'chimera', 'ant', 'arc', 'also', 'has', 'minor', 'issues', 'with', 'both', 'togashi', 'and', 'madhouse', 'to', 'blame', 'togashi', 'fault', 'lies', 'in', 'his', 'writing', 'during', 'the', 'middle', 'of', 'the', 'ca', 'arc', 'which', 'think', 'pales', 'in', 'comparison', 'to', 'the', 'rest', 'of', 'the', 'series', 'hxh', 'has', 'made', 'name', 'for', 'itself', 'for', 'holding', 'consistent', 'high', 'level', 'throughout', 'its', 'run', 'it', 'series', 'that', 'just', 'so', 'engaging', 'and', 'easy', 'to', 'marathon', 'however', 'believe', 'this', 'consistency', 'took', 'hit', 'mid', 'ca', 'arc', 'due', 'to', 'handling', 'of', 'the', 'story', 'and', 'pacing', 'specifically', 'episodes', 'don', 'get', 'me', 'wrong', 'though', 'think', 'there', 'are', 'fair', 'number', 'of', 'good', 'episodes', 'within', 'that', 'episode', 'stretch', 'but', 'unfortunately', 'they', 'are', 'surrounded', 'by', 'mediocre', 'episodes', 'that', 'break', 'the', 'consistency', 'of', 'an', 'otherwise', 'exceptional', 'arc', 'madhouse', 'fault', 'lies', 'in', 'its', 'adaption', 'of', 'the', 'manga', 'chapters', 'comprising', 'episodes', 'and', 'which', 'were', 'dragged', 'out', 'in', 'order', 'to', 'have', 'episode', 'handled', 'by', 'their', 'best', 'animation', 'team', 'episode', 'was', 'actually', 'well', 'paced', 'except', 'for', 'one', 'atrocious', 'sequence', 'while', 'episode', 'as', 'whole', 'was', 'generally', 'poorly', 'paced', 'clarification', 'about', 'the', 'slowed', 'down', 'pacing', 'of', 'chimera', 'ant', 'arc', 'if', 'you', 've', 'been', 'reading', 'up', 'about', 'hxh', 'you', 've', 'probably', 'seen', 'some', 'people', 'complain', 'about', 'the', 'poor', 'pacing', 'during', 'the', 'narration', 'heavy', 'episodes', 'of', 'the', 'ca', 'arc', 'well', 'if', 'you', 're', 'wondering', 'how', 'much', 'truth', 'is', 'there', 'to', 'this', 'statement', 'and', 'were', 'going', 'to', 'ask', 'me', 'about', 'it', 'my', 'answer', 'would', 'be', 'it', 'depends', 'at', 'episode', 'the', 'palace', 'invasion', 'climax', 'of', 'the', 'ca', 'arc', 'begins', 'and', 'narration', 'begins', 'to', 'play', 'huge', 'role', 'in', 'episodes', 'in', 'order', 'to', 'pack', 'whole', 'level', 'of', 'depth', 'into', 'the', 'story', 'and', 'increase', 'dramatic', 'tension', 'rather', 'than', 'high', 'octane', 'action', 'fest', 'people', 'would', 'expect', 'from', 'shonen', 'arc', 'climax', 'the', 'palace', 'invasion', 'takes', 'psychological', 'heavy', 'route', 'wherein', 'character', 'thoughts', 'and', 'mental', 'state', 'are', 'given', 'more', 'focus', 'than', 'the', 'actual', 'action', 'this', 'psychological', 'focus', 'together', 'with', 'the', 'narration', 'slows', 'down', 'the', 'pace', 'considerably', 'in', 'the', 'sense', 'that', 'episodes', 'begin', 'to', 'cover', 'lot', 'less', 'in', 'narrative', 'time', 'however', 'despite', 'this', 'slowed', 'down', 'pace', 'the', 'pacing', 'of', 'these', 'episodes', 'remain', 'solid', 'with', 'good', 'amount', 'of', 'manga', 'chapters', 'being', 'covered', 'during', 'each', 'of', 'these', 'episodes', 'and', 'the', 'duration', 'of', 'scenes', 'being', 'on', 'point', 'except', 'for', 'episodes', 'and', 'which', 'mentioned', 'earlier', 'in', 'this', 'review', 'in', 'the', 'end', 'it', 'depends', 'if', 'the', 'narration', 'works', 'on', 'you', 'or', 'not', 'if', 'you', 'like', 'the', 'psychological', 'approach', 'and', 'experience', 'an', 'increase', 'in', 'suspense', 'then', 'you', 'll', 'have', 'no', 'problems', 'with', 'the', 'pacing', 'and', 'are', 'in', 'for', 'one', 'helluvah', 'of', 'ride', 'however', 'if', 'you', 'don', 'like', 'the', 'psychological', 'approach', 'and', 'feel', 'that', 'the', 'narrator', 'heavy', 'presence', 'breaks', 'your', 'immersion', 'then', 'you', 're', 'in', 'for', 'grueling', 'experience', 'of', 'course', 'there', 'are', 'other', 'combinations', 'such', 'as', 'liking', 'the', 'psychological', 'route', 'but', 'not', 'feeling', 'the', 'immersion', 'or', 'maybe', 'the', 'narration', 'just', 'didn', 'work', 'on', 'you', 'completely', 'well', 'if', 'this', 'happens', 'to', 'be', 'the', 'case', 'then', 'you', 'll', 'end', 'up', 'with', 'mixed', 'feelings', 'on', 'the', 'bright', 'side', 'most', 'people', 'who', 'end', 'up', 'watching', 'the', 'invasion', 'end', 'up', 'enjoying', 'the', 'narration', 'however', 'if', 'you', 'happen', 'to', 'be', 'one', 'of', 'the', 'good', 'number', 'of', 'people', 'who', 'end', 'up', 'not', 'liking', 'the', 'narration', 'don', 'worry', 'only', 'episodes', 'of', 'the', 'palace', 'invasion', 'have', 'heavy', 'narration', 'after', 'episode', 'the', 'narration', 'begins', 'to', 'decrease', 'and', 'episodes', 'eventually', 'reach', 'point', 'where', 'they', 'are', 'back', 'to', 'normal', 'heads', 'up', 'to', 'people', 'looking', 'for', 'action', 'although', 'love', 'the', 'fighting', 'aspect', 'of', 'the', 'series', 'and', 'consider', 'it', 'to', 'be', 'strong', 'plus', 'll', 'leave', 'this', 'out', 'there', 'for', 'the', 'sake', 'of', 'subjectivity', 'hxh', 'does', 'not', 'cater', 'to', 'everyone', 'although', 'fights', 'in', 'the', 'series', 'are', 'well', 'executed', 'they', 'are', 'also', 'short', 'minutes', 'and', 'happen', 'less', 'in', 'comparison', 'to', 'other', 'battle', 'anime', 'moreover', 'the', 'focus', 'on', 'strategy', 'in', 'battles', 'might', 'be', 'off', 'putting', 'to', 'people', 'who', 'prefer', 'fights', 'with', 'more', 'brawn', 'and', 'less', 'brain', 'if', 'you', 're', 'expecting', 'an', 'action', 'heavy', 'series', 'like', 'yu', 'yu', 'hakusho', 'then', 'you', 'will', 'be', 'disappointed', 'this', 'is', 'because', 'hxh', 'is', 'series', 'that', 'relies', 'on', 'its', 'story', 'to', 'reel', 'in', 'viewers', 'personally', 'think', 'this', 'is', 'how', 'fighting', 'in', 'shonen', 'should', 'be', 'done', 'fighting', 'should', 'be', 'able', 'to', 'entertain', 'and', 'also', 'make', 'you', 'think', 'it', 'shouldn', 'drag', 'on', 'for', 'too', 'long', 'at', 'the', 'expense', 'of', 'the', 'story', 'without', 'leaving', 'you', 'underwhelmed', 'conclusion', 'hunter', 'hunter', 'is', 'an', 'intelligent', 'battle', 'anime', 'with', 'fantastic', 'story', 'excellent', 'characters', 'and', 'fights', 'that', 'involve', 'lot', 'of', 'strategy', 'separating', 'it', 'from', 'most', 'of', 'its', 'genre', 'the', 'series', 'subverts', 'shonen', 'tropes', 'and', 'boasts', 'unpredictable', 'plot', 'progressions', 'that', 'make', 'it', 'truly', 'unique', 'overall', 'scores', 'story', 'outstanding', 'characters', 'outstanding', 'art', 'great', 'sound', 'great', 'but', 'occasionally', 'misused', 'enjoyment', 'extremely', 'high', 'overall', 'masterpiece', 'helpful', 'read', 'more']\n"
     ]
    }
   ],
   "source": [
    "# Clean and tokenize the reviews\n",
    "\n",
    "def sent_to_words(sentences):\n",
    "    for sentence in sentences:\n",
    "        yield(gensim.utils.simple_preprocess(str(sentence), deacc=True))  # deacc=True removes punctuations\n",
    "        \n",
    "data_words = list(sent_to_words(data))\n",
    "\n",
    "print(data_words[0])"
   ]
  },
  {
   "cell_type": "code",
   "execution_count": 17,
   "metadata": {},
   "outputs": [
    {
     "name": "stdout",
     "output_type": "stream",
     "text": [
      "['overall', 'story', 'animation', 'sound', 'character', 'enjoyment', 'after', 'reading', 'the', 'many', 'overwhelmingly', 'positive', 'reviews', 'about', 'this', 'show', 've', 'decided', 'to', 'write', 'more', 'realistic', 'honest', 'and', 'unbiased', 'opinion', 'driven', 'review', 'about', 'this', 'show', 'many', 'people', 'have', 'said', 'how', 'amazing', 'this', 'show', 'is', 'and', 'that', 'it', 'incredibly', 'unique', 'and', 'special', 'did', 'well', 'yes', 'and', 'no', 'am', 'probably', 'one', 'of', 'the', 'very', 'few', 'people', 'that', 'didn', 'consider', 'this', 'series', 'masterpiece', 'story', 'hunters', 'are', 'people', 'who', 'hunt', 'whether', 'it', 'is', 'criminals', 'treasures', 'rare', 'creatures', 'or', 'even', 'food', 'they', 'will', 'hunt', 'it', 'we', 'have', 'the', 'story', 'of', 'gon', 'young_boy', 'living', 'on', 'whale_island', 'aspiring', 'to', 'become', 'hunter', 'like', 'his', 'father', 'ging', 'legendary', 'hunter', 'who', 'abondoned', 'him', 'while', 'he', 'was', 'born', 'to', 'chase', 'his', 'dream', 'gon', 'also', 'wants', 'to', 'meet', 'his', 'father', 'and', 'find', 'out', 'why', 'he', 'abondoned', 'him', 'while', 'he', 'was', 'baby', 'to', 'become', 'hunter', 'he', 'must', 'pass', 'the', 'dastardly', 'difficult', 'hunter', 'exams', 'which', 'has', 'an', 'extremely', 'low', 'success', 'rate', 'along', 'to', 'way', 'to', 'the', 'exams', 'he', 'meets', 'few', 'friends', 'rivals', 'and', 'creepy', 'paedo', 'clown', 'hence', 'beginning', 'the', 'first', 'arc', 'after', 'that', 'the', 'concept', 'of', 'nen', 'is', 'introduced', 'which', 'is', 'basically', 'the', 'life', 'force', 'and', 'magical', 'power', 'source', 'of', 'the', 'series', 'the', 'concept', 'of', 'nen', 'is', 'actually', 'pretty', 'cool', 'and', 'it', 'more', 'complicated', 'to', 'use', 'than', 'some', 'other', 'powers', 'like', 'alchemy', 'and', 'chakra', 'and', 'it', 'creativity', 'is', 'often', 'shined', 'upon', 'in', 'fights', 'however', 'creativity', 'can', 'destory', 'things', 'aswell', 'and', 'sometimes', 'nen', 'can', 'be', 'used', 'as', 'an', 'over', 'complicated', 'ability', 'with', 'too', 'much', 'time', 'used', 'to', 'explain', 'different', 'powers', 'after', 'the', 'exams', 'there', 'are', 'arcs', 'all', 'varying', 'in', 'tones', 'and', 'stories', 'and', 'this', 'is', 'where', 'problems', 'arise', 'some', 'are', 'dark', 'and', 'some', 'are', 'light', 'some', 'arcs', 'are', 'excellent', 'and', 'others', 'are', 'well', 'terrible', 'dog', 'shit', 'none', 'of', 'the', 'arcs', 'are', 'linked', 'well', 'together', 'and', 'are', 'very', 'disjointed', 'and', 'inconsistent', 'instead', 'of', 'focusing', 'on', 'an', 'overall', 'story', 'the', 'arcs', 'feel', 'like', 'bunch', 'of', 'mini', 'stories', 'building', 'up', 'to', 'main', 'one', 'and', 'they', 'focus', 'way', 'too', 'much', 'on', 'the', 'individual', 'arcs', 'instead', 'of', 'an', 'overall', 'story', 'making', 'it', 'seem', 'like', 'huge', 'mess', 'one', 'day', 'you', 've', 'got', 'crime_thriller', 'another', 'one', 'video_game', 'and', 'then', 'bug', 'apocalypse', 'one', 'of', 'the', 'most', 'critcally', 'acclaimed', 'arcs', 'in', 'the', 'series', 'to', 'me', 'felt', 'like', 'episode', 'filler', 'and', 'that', 'experience', 'was', 'not', 'enjoyable', 'at', 'all', 'it', 'baffles', 'me', 'on', 'how', 'people', 'say', 'it', 'is', 'masterpiece', 'but', 'everyone', 'is', 'entitled', 'to', 'their', 'own', 'opinion', 'the', 'pacing', 'in', 'this', 'arc', 'was', 'unbelievably', 'bad', 'as', 'was', 'the', 'horrible', 'story', 'and', 'enemy', 'designs', 'not', 'the', 'main', 'villains', 'though', 'they', 'were', 'badass', 'the', 'best', 'arc', 'by', 'far', 'is', 'the', 'yorkshin_city', 'arc', 'which', 'doesn', 'come', 'until', 'episode', 'something', 'what', 'more', 'disappointing', 'is', 'that', 'the', 'story', 'of', 'hunter', 'hunter', 'had', 'huge', 'potential', 'to', 'look', 'into', 'the', 'life', 'of', 'hunter', 'but', 'the', 'hunter', 'aspect', 'of', 'the', 'show', 'is', 'not', 'explored', 'much', 'the', 'final', 'aspect', 'that', 'irked', 'me', 'about', 'the', 'story', 'was', 'over', 'using', 'narration', 'to', 'the', 'point', 'of', 'unbearable', 'commenting', 'into', 'the', 'smallest', 'of', 'details', 'of', 'the', 'story', 'complicating', 'itself', 'tenfold', 'now', 'what', 'was', 'good', 'about', 'the', 'story', 'decent', 'amount', 'actually', 'in', 'the', 'earlier', 'arcs', 'of', 'the', 'series', 'it', 'felt', 'lot', 'different', 'from', 'other', 'shonen', 'and', 'the', 'individual', 'arc', 'storytelling', 'was', 'actually', 'working', 'very', 'well', 'as', 'each', 'arc', 'had', 'purpose', 'to', 'the', 'overall', 'story', 'each', 'arc', 'was', 'well', 'written', 'well', 'paced', 'and', 'had', 'it', 'fair_share', 'of', 'enjoyable', 'and', 'memorable', 'moments', 'also', 'the', 'annoying', 'narrator', 'had', 'much', 'less', 'to', 'say', 'these', 'earlier', 'arcs', 'were', 'much', 'more', 'interesting', 'and', 'intriguing', 'and', 'didn', 'bore', 'me', 'the', 'way', 'the', 'later', 'arcs', 'did', 'really', 'the', 'quality', 'of', 'the', 'series', 'started', 'degrading', 'by', 'the', 'end', 'of', 'the', 'yorknew_city', 'arc', 'the', 'early', 'arcs', 'didn', 'feel', 'like', 'fillers', 'and', 'contributed', 'something', 'whereas', 'the', 'later', 'arcs', 'were', 'just', 'random', 'and', 'only', 'inflicted', 'minor', 'things', 'to', 'the', 'story', 'but', 'did', 'more', 'to', 'the', 'development', 'of', 'the', 'characters', 'which', 'is', 'not', 'bad', 'thing', 'but', 'dragging', 'it', 'out', 'for', 'episodes', 'is', 'crime', 'in', 'it', 'own', 'right', 'overall', 'the', 'story', 'in', 'hunter', 'hunter', 'varied', 'from', 'being', 'amazing', 'to', 'total', 'dump', 'however', 'the', 'total', 'dump', 'is', 'considered', 'great', 'by', 'everyone', 'so', 'you', 'should', 'check', 'up', 'the', 'chimera_ant', 'arc', 'anyway', 'you', 'll', 'probably', 'like', 'it', 'what', 'the', 'entire', 'story', 'did', 'well', 'were', 'the', 'fights', 'all', 'of', 'them', 'had', 'wits', 'and', 'brains', 'and', 'didn', 'take', 'an', 'entire', 'episode', 'just', 'to', 'charge', 'up', 'an', 'attack', 'or', 'talk', 'for', 'hours', 'before', 'the', 'fight', 'cough', 'dbz', 'and', 'naruto', 'however', 'when', 'nen', 'the', 'series', 'fighting', 'system', 'kicks', 'in', 'the', 'story', 'downgrades', 'hugely', 'instead', 'of', 'focusing', 'on', 'the', 'story', 'we', 'need', 'to', 'sit', 'through', 'pointless', 'training', 'regiments', 'and', 'stupid', 'explanations', 'of', 'the', 'usage', 'of', 'nen', 'not', 'to', 'say', 'hate', 'the', 'series', 'fighting', 'system', 'but', 'in', 'my', 'opinion', 'it', 'is', 'far', 'too', 'complex', 'and', 'uninteresting', 'and', 'it', 'sacrifices', 'decent', 'storytelling', 'and', 'replaces', 'it', 'with', 'boredom', 'yes', 'it', 'can', 'be', 'boring', 'if', 'you', 've', 'got', 'short', 'attention', 'span', 'don', 'bother', 'watching', 'the', 'later', 'arcs', 'and', 'last', 'thing', 'want', 'to', 'note', 'is', 'that', 'the', 'chimera_ant', 'arc', 'story', 'was', 'just', 'horrible', 'and', 'boring', 'mostly', 'due', 'to', 'its', 'snail', 'pacing', 'there', 'were', 'many', 'plot_holes', 'why', 'would', 'the', 'hunter', 'association', 'send', 'two', 'under', 'experienced', 'twelve_year', 'olds', 'to', 'get', 'rid', 'of', 'the', 'ants', 'why', 'didn', 'netero', 'just', 'bomb', 'the', 'nest', 'to', 'begin', 'with', 'and', 'unnecessary', 'plot', 'points', 'the', 'whole', 'episode', 'with', 'gyro', 'for', 'example', 'but', 'above', 'all', 'it', 'was', 'boring', 'and', 'fell', 'asleep', 'watching', 'it', 'anyway', 'story', 'art', 'fluid', 'colourful', 'and', 'bright', 'the', 'animation', 'is', 'done', 'very', 'well', 'the', 'large', 'scale', 'battles', 'were', 'animated', 'gorgeously', 'and', 'they', 'are', 'joy', 'to', 'watch', 'charcater', 'design', 'wise', 'is', 'mixed', 'bag', 'most', 'of', 'the', 'characters', 'are', 'designed', 'very', 'well', 'in', 'contrast', 'to', 'the', 'godawful', 'drawings', 'from', 'the', 'manga', 'however', 'the', 'chimera_ants', 'design', 'are', 'absolutely', 'horrendous', 'know', 'they', 'are', 'chimeras', 'but', 'while', 'was', 'watching', 'thought', 'to', 'myself', 'wft', 'is', 'this', 'the', 'design', 'for', 'the', 'chimera_ants', 'isn', 'the', 'animation', 'studio', 'fault', 'though', 'the', 'source_material', 'is', 'to', 'blame', 'sound', 'the', 'ost', 'is', 'very', 'good', 'but', 'they', 'do', 'tend', 'to', 're', 'use', 'the', 'same', 'tracks', 'often', 'so', 'there', 'can', 'be', 'lack', 'of', 'variety', 'they', 'also', 'tend', 'to', 'forget', 'earlier', 'songs', 'later', 'in', 'the', 'series', 'voice_acting', 'wise', 'it', 'done', 'superbly', 'all', 'the', 'voice_actors', 'blend', 'and', 'personalise', 'their', 'characters', 'excellently', 'and', 'they', 'display', 'lot', 'of', 'emotion', 'and', 'effort', 'as', 'they', 'voice', 'act', 'their', 'roles', 'characters', 'now', 'this', 'category', 'is', 'bit', 'difficult', 'to', 'review', 'and', 'll', 'explain', 'why', 'later', 'the', 'main', 'cast', 'consists', 'of', 'gon', 'killua', 'kurapika', 'and', 'leorio', 'but', 'll', 'focus', 'mainly', 'on', 'gon', 'and', 'killua', 'there', 'are', 'other', 'characters', 'ususally', 'most', 'important', 'on', 'seperate', 'arcs', 'and', 'will', 'talk', 'little', 'about', 'them', 'gon', 'is', 'year_old', 'kid', 'who', 'is', 'in', 'my', 'opinion', 'an', 'improved', 'and', 'more', 'realistic', 'version', 'of', 'kid', 'goku', 'from', 'the', 'original', 'dragon_ball', 'except', 'for', 'the', 'fact', 'that', 'he', 'not', 'insanely', 'over', 'powered', 'this', 'makes', 'it', 'good', 'and', 'bad', 'thing', 'good', 'is', 'that', 'he', 'not', 'only', 'more', 'unique', 'take', 'on', 'your', 'usual', 'happy', 'go_lucky', 'young', 'male', 'protagonist', 'but', 'that', 'he', 'got', 'layers', 'of', 'emotion', 'to', 'his', 'character', 'and', 'has', 'rock', 'lee', 'type', 'moral', 'to', 'keep', 'on', 'getting', 'stronger', 'and', 'improve', 'yourself', 'gon', 'is', 'steroeotypical', 'and', 'non', 'stereotypical', 'at', 'the', 'same', 'time', 'and', 'he', 'badass', 'little', 'kid', 'who', 'strives', 'on', 'becoming', 'stronger', 'the', 'negative', 'is', 'that', 'he', 'still', 'got', 'lot', 'of', 'the', 'same', 'thing', 'gon', 'can', 'have', 'rather', 'predictable', 'personality', 'one', 'minute', 'he', 'clueless', 'little', 'kid', 'for', 'comic_relief', 'and', 'the', 'other', 'he', 'crying', 'when', 'someone', 'dies', 'he', 'also', 'doesn', 'get', 'much', 'development', 'until', 'much', 'later', 'in', 'the', 'show', 'all', 'in', 'all', 'he', 'decent', 'take', 'on', 'your', 'normal', 'protagonist', 'killua', 'is', 'the', 'white', 'haired', 'slanted', 'eyed', 'guy', 'that', 'everyone', 'favourite', 'and', 'rightfully', 'so', 'he', 'got', 'similar', 'but', 'ultimately', 'different', 'ego', 'compared', 'to', 'his', 'best', 'friend', 'gon', 'and', 'he', 'got', 'layers', 'to', 'his', 'likable', 'personailty', 'and', 'ferocious', 'alter', 'ego', 'as', 'darkness', 'fueled', 'assassin', 'he', 'cool', 'laid', 'back', 'guy', 'that', 'has', 'some', 'serious', 'skill', 'and', 'family', 'relationships', 'he', 'can', 'seem', 'pretty', 'harmless', 'at', 'first', 'but', 'piss', 'him', 'off', 'and', 'he', 'll', 'tear', 'you', 'to', 'shreads', 'killua', 'is', 'the', 'one', 'that', 'powers', 'the', 'dynamic', 'and', 'entertaining', 'relationship', 'between', 'him', 'and', 'gon', 'and', 'he', 'fan', 'favourite', 'character', 'that', 'definitely', 'deserves', 'it', 'now', 'what', 'about', 'the', 'other', 'main', 'characters', 'there', 'are', 'none', 'that', 'right', 'don', 'be', 'fooled', 'by', 'the', 'artwork', 'of', 'the', 'anime', 'with', 'gon', 'killua', 'and', 'the', 'two', 'others', 'kurapika', 'the', 'blond', 'cross', 'dresser', 'and', 'that', 'tall', 'dude', 'with', 'the', 'glasses', 'and', 'suitcase', 'who', 'is', 'leorio', 'the', 'other', 'two', 'guys', 'only', 'make', 'appearances', 'in', 'the', 'first', 'arc', 'and', 'the', 'yorkshin', 'and', 'then', 'they', 'are', 'forgotten', 'and', 'become', 'irrelevant', 'which', 'is', 'huge', 'shame', 'and', 'it', 'offends', 'them', 'as', 'characters', 'basically', 'there', 'gon', 'and', 'killua', 'and', 'then', 'everyone', 'else', 'gon', 'and', 'killua', 'are', 'the', 'only', 'characters', 'prominent', 'throughout', 'the', 'series', 'well', 'kurapika', 'and', 'leorio', 'could', 'be', 'called', 'important', 'side', 'characters', 'so', 'll', 'talk', 'bit', 'about', 'them', 'kurapika', 'is', 'blond', 'haired', 'badass', 'who', 'is', 'driven', 'by', 'revenge', 'and', 'everything', 'that', 'sasuke', 'uchiha', 'should', 'have', 'been', 'because', 'certain', 'organisation', 'wiped', 'out', 'his', 'clan', 'he', 'desires', 'to', 'hunt', 'that', 'group', 'down', 'and', 'get', 'his', 'revenge', 'he', 'also', 'complex', 'character', 'with', 'layers', 'to', 'him', 'and', 'he', 'got', 'one', 'of', 'the', 'coolest', 'powers', 'in', 'the', 'show', 'however', 'he', 'only', 'appears', 'in', 'about', 'episodes', 'which', 'really', 'sucks', 'we', 'don', 'know', 'what', 'happens', 'to', 'him', 'when', 'the', 'series', 'ends', 'either', 'leorio', 'is', 'used', 'as', 'comic_relief', 'guy', 'early', 'in', 'the', 'show', 'and', 'portrayed', 'as', 'bad', 'tempered', 'money', 'obsessed', 'businessman', 'but', 'he', 'becomes', 'more', 'likable', 'as', 'the', 'series', 'goes', 'on', 'and', 'develops', 'his', 'character', 'with', 'the', 'little', 'screen', 'time', 'he', 'has', 'long', 'story', 'short', 'he', 'is', 'pretty', 'entertaining', 'and', 'funny', 'character', 'that', 'certainly', 'not', 'useless', 'the', 'side', 'characters', 'and', 'villains', 'are', 'great', 'in', 'their', 'own', 'right', 'but', 'it', 'still', 'irks', 'me', 'that', 'they', 'don', 'have', 'much', 'screen', 'time', 'until', 'certain', 'arc', 'which', 'is', 'shame', 'killua', 'family', 'the', 'zoldycks', 'are', 'group', 'of', 'professional', 'asassins', 'and', 'most', 'of', 'them', 'have', 'great', 'and', 'powerful', 'presence', 'and', 'each', 'have', 'set', 'of', 'their', 'own', 'unique', 'personalities', 'it', 'shame', 'that', 'they', 'don', 'have', 'much', 'screentime', 'netero', 'the', 'chairman', 'or', 'boss', 'of', 'the', 'hunter', 'organisation', 'is', 'pretty', 'complex', 'guy', 'too', 'you', 'don', 'know', 'if', 'he', 'serious', 'or', 'not', 'you', 'can', 'just', 'read', 'him', 'like', 'an', 'open', 'book', 'he', 'like', 'master', 'roshi', 'or', 'jiraiya', 'with', 'added', 'insanity', 'bisky', 'is', 'mentor', 'to', 'gon', 'and', 'killua', 'and', 'she', 'bit', 'of', 'tsundere', 'with', 'fearsome', 'alter', 'ego', 'the', 'characters', 'in', 'the', 'chimera_ant', 'arc', 'were', 'truly', 'horrible', 'however', 'none', 'of', 'the', 'new', 'hunters', 'in', 'that', 'arc', 'were', 'memorable', 'or', 'likable', 'imho', 'moving', 'on', 'what', 'makes', 'the', 'series', 'truly', 'shine', 'however', 'are', 'the', 'villains', 'whether', 'it', 'is', 'perverted', 'clown', 'an', 'evil', 'brother', 'an', 'insanely', 'buffed', 'steroid', 'addicted', 'wild', 'man', 'calm', 'but', 'truly', 'evil', 'mastermind', 'or', 'bunch', 'of', 'powerful', 'chimeras', 'all', 'are', 'interesting', 'and', 'wild', 'in', 'their', 'own', 'way', 'for', 'the', 'lack', 'of', 'screentime', 'for', 'certain', 'characters', 'enjoyment', 'it', 'kinda', 'depends', 'some', 'episodes', 'have', 'you', 'on', 'the', 'edge', 'of', 'your_seat', 'and', 'some', 'may', 'bore', 'you', 'with', 'more', 'dialogue', 'however', 'sometimes', 'did', 'not', 'enjoy', 'the', 'show', 'simply', 'because', 'it', 'tried', 'too', 'hard', 'to', 'over', 'complicate', 'things', 'and', 'over', 'using', 'narration', 'other', 'episodes', 'could', 'be', 'amazing', 'however', 'some', 'episodes', 'were', 'foreshadowing', 'and', 'building', 'up', 'to', 'later', 'events', 'and', 'they', 'range', 'in', 'quality', 'too', 'edit', 'am', 'not', 'saying', 'that', 'hunter', 'hunter', 'is', 'bad', 'anime', 'just', 'saying', 'it', 'not', 'for', 'me', 'thought', 'the', 'first', 'third', 'of', 'it', 'was', 'really', 'good', 'and', 'well', 'written', 'but', 'after', 'the', 'yorknew_city', 'arc', 'just', 'felt', 'it', 'became', 'boring', 'and', 'that', 'it', 'wasn', 'the', 'same', 'as', 'before', 'know', 'im', 'going', 'to', 'get', 'plenty', 'of', 'hate', 'for', 'bashing', 'the', 'chimera_ant', 'arc', 'but', 'remember', 'it', 'just', 'my', 'opinion', 'but', 'whatever', 'you', 'can', 'just', 'be', 'fanboy', 'and', 'laugh', 'at', 'me', 'for', 'giving', 'naruto', 'and', 'fairy_tail', 'higher', 'ratings', 'than', 'the', 'masterpiece', 'that', 'is', 'hunter', 'hunter', 'verdict', 'good', 'show', 'but', 'it', 'gets', 'some', 'praise', 'that', 'it', 'doesn', 'deserve', 'it', 'pretty', 'damn', 'overrated', 'it', 'is', 'pretty', 'well', 'written', 'for', 'the', 'most', 'part', 'show', 'with', 'good', 'themes', 'and', 'morals', 'with', 'good', 'fights', 'and', 'characters', 'yes', 'it', 'can', 'get', 'dreary', 'and', 'over', 'complicated', 'at', 'times', 'but', 'you', 'can', 'get', 'over', 'it', 'from', 'the', 'entertaining', 'characters', 'and', 'fights', 'major', 'downside', 'was', 'the', 'series', 'didn', 'connect', 'with', 'me', 'the', 'story', 'and', 'characters', 'and', 'the', 'world', 'which', 'is', 'very', 'extravagant', 'and', 'unique', 'wasn', 'very', 'relatable', 'and', 'the', 'entire', 'series', 'is', 'nothing', 'but', 'fighting', 'hell', 'the', 'characters', 'aren', 'even', 'relatable', 'if', 'being', 'honest', 'we', 'don', 'get', 'to', 'see', 'them', 'being', 'real', 'people', 'if', 'you', 'ask', 'me', 'we', 'only', 'see', 'them', 'fighting', 'if', 'gon', 'and', 'killua', 'and', 'the', 'rest', 'were', 'more', 'fleshed_out', 'the', 'series', 'would', 'definitely', 'be', 'better', 'they', 'are', 'usually', 'in', 'situations', 'where', 'they', 'have', 'to', 'fight', 'people', 'it', 'wouldve', 'been', 'nice', 'to', 'see', 'them', 'interacting', 'in', 'normal', 'situations', 'another', 'problem', 'for', 'me', 'was', 'the', 'lack', 'of', 'comic_relief', 'in', 'the', 'later', 'arcs', 'and', 'also', 'in', 'the', 'chimera_ant', 'arc', 'the', 'show', 'tried', 'waaay', 'too', 'hard', 'to', 'be', 'dark', 'and', 'edgy', 'it', 'didnt', 'feel', 'natural', 'basically', 'what', 'saying', 'is', 'everything', 'didn', 'like', 'about', 'the', 'series', 'was', 'in', 'the', 'chimera_ant', 'arc', 'if', 'you', 'want', 'series', 'focused', 'on', 'battles', 'this', 'may', 'be', 'the', 'one', 'for', 'you', 'however', 'the', 'biggest', 'flaw', 'was', 'the', 'ending', 'know', 'it', 'wasn', 'the', 'studio', 'fault', 'but', 'my', 'god', 'it', 'is', 'anti_climactic', 'what', 'happened', 'to', 'the', 'zoldycks', 'leorio', 'kurapika', 'gon', 'gon', 'adopted', 'mum', 'the', 'phantom_troupe', 'we', 'shall', 'never', 'know', 'hunter', 'hunter', 'is', 'not', 'masterpiece', 'or', 'special', 'shounen', 'which', 'everyone', 'claims', 'it', 'is', 'but', 'there', 'are', 'few', 'things', 'that', 'make', 'it', 'special', 'and', 'differenciate', 'it', 'from', 'other', 'battle', 'anime', 'now', 'you', 'may', 'think', 'what', 'said', 'about', 'the', 'negatives', 'of', 'the', 'show', 'are', 'all', 'bs', 'but', 'remember', 'it', 'my', 'honest', 'opinion', 'if', 'only', 'rated', 'the', 'first', 'episodes', 'of', 'the', 'series', 'gladly', 'give', 'it', 'or', 'out', 'of', 'however', 'since', 'need', 'to', 'take', 'all', 'of', 'the', 'arcs', 'into', 'account', 'my', 'final', 'score', 'is', 'overall', 'fair', 'arc', 'ratings', 'hunter', 'exam', 'zoldyck_family', 'heavens_arena', 'yorknew_city', 'greed_island', 'chimera_ant', 'chairman_election', 'please', 'send', 'feedback', 'if', 'you', 'agree', 'or', 'disagree', 'with', 'my', 'opinion', 'on', 'the', 'show', 'helpful_read', 'more']\n"
     ]
    }
   ],
   "source": [
    "# Create bigrams, remove stop words and lemmatize the reviews\n",
    "\n",
    "# Build the bigram models\n",
    "bigram = gensim.models.Phrases(data_words, min_count=5, threshold=100) # higher threshold fewer phrases.\n",
    "\n",
    "# Faster way to get a sentence clubbed as a trigram/bigram\n",
    "bigram_mod = gensim.models.phrases.Phraser(bigram)\n",
    "\n",
    "print(bigram_mod[data_words[4]])"
   ]
  },
  {
   "cell_type": "code",
   "execution_count": 18,
   "metadata": {},
   "outputs": [],
   "source": [
    "# Defining removing stopwords\n",
    "def remove_stopwords(texts):\n",
    "    return [[word for word in simple_preprocess(str(doc)) if word not in stop_words] for doc in texts]\n",
    "\n",
    "# Defining making bigrams\n",
    "def make_bigrams(texts):\n",
    "    return [bigram_mod[doc] for doc in texts]\n",
    "\n",
    "# Defining lemmatization\n",
    "def lemmatization(texts, allowed_postags=['NOUN', 'ADJ', 'VERB', 'ADV']):\n",
    "    texts_out = []\n",
    "    for sent in texts:\n",
    "        doc = nlp(\" \".join(sent)) \n",
    "        texts_out.append([token.lemma_ for token in doc if token.pos_ in allowed_postags])\n",
    "    return texts_out"
   ]
  },
  {
   "cell_type": "code",
   "execution_count": 19,
   "metadata": {},
   "outputs": [
    {
     "name": "stdout",
     "output_type": "stream",
     "text": [
      "['overall', 'story', 'animation', 'sound', 'character', 'enjoyment', 'lack', 'popularity', 'surround', 'hunter', 'hunter', 'always', 'confuse', 'especially', 'catch', 'month', 'ago', 'anime', 'seem', 'right', 'talk', 'lot', 'popular', 'level', 'successful', 'garnering', 'fan_base', 'similar', 'snk', 'sao', 'decide', 'write', 'review', 'show', 'justice', 'show', 'good', 'still', 'fly', 'radar', 'discourage', 'watch', 'childish', 'appearance', 'reading', 'review', 'story', 'name', 'gon', 'embark', 'journey', 'find', 'father', 'learn', 'father', 'leave', 'become', 'hunter', 'gon', 'decide', 'follow', 'footstep', 'find', 'also', 'see', 'special', 'profession', 'make', 'father', 'choose', 'story', 'find', 'father', 'simple', 'path', 'take', 'end', 'make', 'series', 'truly', 'special', 'hxh', 'make', 'several', 'arc', 'extremely', 'well', 'write', 'bring', 'good', 'part', 'series', 'write', 'hunter', 'hunter', 'boast', 'fine', 'write', 'world', 'shonen', 'depth', 'flow', 'story', 'enthral', 'strong', 'dialogue', 'impressive', 'world_builde', 'craft', 'fascinating', 'tale', 'absorb', 'viewer', 'lengthy', 'marathon', 'amount', 'variety', 'pack', 'hxh', 'story', 'also', 'impressive', 'hxh', 'successfully', 'dabble', 'several', 'genre', 'story', 'arc', 'tackle', 'survival', 'fighting', 'tournament', 'virtual', 'reality', 'war', 'politic', 'series', 'also', 'able', 'undergo', 'significant', 'tonal', 'shift', 'ease', 'light', 'dark', 'vice_versa', 'sometimes', 'shift', 'tone', 'occur', 'arc', 'end', 'time', 'even', 'occur', 'mid', 'arc', 'thing', 'hxh', 'arc', 'connect', 'arc', 'naturally', 'follow', 'create', 'natural', 'transition', 'highlight', 'series', 'really', 'journey', 'pace', 'development', 'excellent', 'part', 'hxh', 'well', 'pace', 'series', 'fantastic', 'job', 'keep', 'viewer', 'engage', 'time', 'fly', 'watch', 'episode', 'find', 'breeze', 'show', 'exclude', 'recap', 'episode', 'filler', 'episode', 'due', 'story', 'progression', 'solid', 'plot', 'episode', 'hxh', 'initially', 'give', 'light_hearte', 'impression', 'give', 'good', 'kind', 'light', 'heartedness', 'make', 'say', 'childish', 'kind', 'appeal', 'hxh', 'give', 'classic', 'charming', 'shonen', 'vibe', 'lose', 'recent', 'year', 'head', 'hold', 'high', 'eventually', 'series', 'take', 'dark', 'turn', 'hxh', 'story', 'arc', 'light_hearte', 'yorknew', 'arc', 'good', 'dark', 'arc', 'shonen', 'offer', 'yorknew', 'describe', 'dark', 'thriller', 'big', 'city', 'central', 'theme', 'arc', 'revenge', 'similar', 'death_note', 'term', 'thrill', 'atmosphere', 'hand', 'chimera_ant', 'arc', 'describe', 'attempt', 'hunter', 'association', 'control', 'outbreak', 'dangerous', 'man', 'eat', 'specie', 'darkest', 'thematically', 'powerful', 'arc', 'series', 'tackle', 'theme', 'identity', 'human', 'nature', 'survival', 'fit', 'arc', 'draw', 'comparison', 'hakusho', 'chapter', 'black', 'seinen', 'nature', 'similar', 'shingeki', 'kyojin', 'protagonist', 'experience', 'strong', 'sense', 'despair', 'face', 'vastly', 'superior', 'hostile', 'specie', 'series', 'undergo', 'major', 'tonal', 'shift', 'arc', 'music', 'atmosphere', 'amount', 'violence', 'change', 'significantly', 'however', 'set', 'series', 'apart', 'battle', 'anime', 'unorthodoxy', 'shonen', 'trope', 'storytelle', 'method', 'undermine', 'series', 'main', 'character', 'example', 'gon', 'fail', 'succeed', 'power_up', 'base', 'emotion', 'willpower', 'non', 'existent', 'fighting', 'series', 'radically', 'different', 'battle', 'anime', 'main', 'protagonist', 'main', 'focus', 'arc', 'certain', 'point', 'series', 'even', 'say', 'gon', 'take', 'support', 'role', 'especially', 'later', 'portion', 'arc', 'give', 'much', 'focus', 'due', 'grand', 'scope', 'story', 'standard', 'battle', 'anime', 'formula', 'lose', 'train', 'win', 'also', 'undermine', 'training', 'always', 'translate', 'victory', 'propel', 'protagonist', 'level', 'main', 'adversary', 'term', 'strength', 'part', 'protagonist', 'assume', 'underdog', 'role', 'incredible', 'potential', 'still', 'kid', 'lot', 'learn', 'term', 'storytelle', 'unpredictable', 'development', 'commonplace', 'thing', 'continue', 'amaze', 'show', 'lead', 'viewer', 'think', 'story', 'progress', 'direction', 'change', 'course', 'arrive', 'completely', 'different', 'outcome', 'good', 'example', 'series', 'arc', 'often', 'end', 'anti', 'climatic', 'manner', 'basically', 'lot', 'scene', 'story', 'development', 'see', 'come', 'defy', 'conventional', 'shonen', 'storytelle', 'unpredictable', 'right', 'series', 'unorthodoxy', 'also', 'see', 'fight', 'primarily', 'cerebral', 'addition', 'well', 'execute', 'hxh', 'fight', 'smart', 'involve', 'lot', 'strategy', 'raw', 'power', 'factor', 'factor', 'decide', 'battle', 'outcome', 'actual', 'power', 'nen', 'ability', 'experience', 'strategy', 'take', 'account', 'main', 'character', 'outclass', 'opponent', 'category', 'likely', 'lose', 'moreover', 'main', 'character', 'give', 'special', 'treatment', 'combat', 'smart', 'approach', 'fight', 'enhanced', 'nen', 'unique', 'complex', 'power_system', 'hold', 'define', 'rule', 'concept', 'nen', 'principle', 'aura', 'type', 'many', 'application', 'battlefield', 'reveal', 'huge', 'amount', 'thought', 'put', 'still', 'remember', 'pause', 'episode', 'even', 'research', 'bit', 'introduction', 'digest', 'entirety', 'appearance', 'write', 'series', 'also', 'create', 'effect', 'cognitive', 'dissonance', 'simplistic', 'look', 'show', 'mentally', 'conflict', 'brilliance', 'unorthodoxy', 'write', 'new', 'viewer', 'delve', 'deep', 'hxh', 'realize', 'much', 'show', 'cover', 'art', 'synopsis', 'suggest', 'expectation', 'series', 'immature', 'simple', 'generic', 'progressively', 'overturn', 'show', 'reveal', 'surprising', 'underbelly', 'sound', 'sound', 'hxh', 'line', 'great', 'soundtrack', 'start', 'decent', 'get', 'well', 'series', 'progress', 'exception', 'minor', 'character', 'voice_acte', 'series', 'excellent', 'person', 'never', 'see', 'old', 'series', 'hard', 'believe', 'original', 'voice', 'fit', 'extremely', 'well', 'especially', 'gon', 'killua', 'hisoka', 'voice_actor', 'perfect', 'job', 'capture', 'character', 'art', 'hxh', 'also', 'great', 'art', 'animation', 'amaze', 'long_runne', 'series', 'hxh', 'deliver', 'consistent', 'quality', 'animation', 'episode', 'episode', 'especially', 'fight', 'series', 'great', 'job', 'capture', 'facial_expression', 'light', 'shading', 'color', 'adjust', 'perfectly', 'depend', 'mood', 'scene', 'tone', 'arc', 'reviewer', 'nagaiyume', 'say', 'bright_color', 'show', 'need', 'get', 'use', 'usually', 'fan', 'old', 'series', 'problem', 'personally', 'think', 'fit', 'show', 'perfectly', 'add', 'charm', 'series', 'complement', 'sense', 'adventure', 'uplifting', 'atmosphere', 'unique', 'appeal', 'shonen', 'look', 'simple', 'actually', 'remarkably', 'deep', 'character', 'primary', 'strength', 'lie', 'write', 'character', 'come', 'pretty', 'damn', 'close', 'hxh', 'huge', 'cast', 'character', 'quirk', 'dream', 'inner', 'demon', 'world', 'view', 'overall', 'really', 'likable', 'personality', 'top', 'follow', 'generic', 'character', 'archetype', 'initially', 'come_across', 'generic', 'assumption', 'gradually', 'undermine', 'series', 'progress', 'thing', 'want', 'emphasize', 'character', 'department', 'series', 'main', 'villain', 'come', 'character', 'show', 'shine', 'bright', 'villain', 'extremely', 'well', 'write', 'exception', 'bomber', 'apply', 'say', 'independently', 'impressive', 'also', 'distinct', 'villain', 'distinctness', 'apply', 'series', 'outside', 'find', 'hisoka', 'chrollo', 'ant', 'king', 'anime', 'make', 'villain', 'compelling', 'addition', 'really', 'impressive', 'also', 'original', 'exclude', 'main', 'villain', 'write', 'villain', 'thing', 'common', 'villain', 'strike', 'fear', 'audience', 'series', 'good', 'job', 'establish', 'level', 'danger', 'character', 'bring', 'story', 'protagonist', 'negative', 'however', 'great', 'series', 'perfect', 'series', 'strong', 'start', 'take', 'episode', 'show', 'get', 'go', 'see', 'lot', 'people', 'drop', 'hxh', 'early', 'suck', 'first', 'episode', 'capture', 'series', 'thing', 'start', 'get', 'mildly', 'interesting', 'third', 'episode', 'series', 'get', 'well', 'well', 'hxh', 'also', 'suffer', 'occasional', 'bgm', 'misuse', 'odd', 'sound', 'choice', 'scene', 'sometimes', 'really', 'fit', 'time', 'fit', 'lastly', 'arc', 'also', 'minor', 'issue', 'togashi', 'madhouse', 'blame', 'togashi', 'fault', 'lie', 'write', 'middle', 'arc', 'think', 'pale', 'comparison', 'rest', 'series', 'hxh', 'make', 'name', 'hold', 'consistent', 'high', 'level', 'run', 'series', 'engage', 'easy', 'marathon', 'however', 'believe', 'consistency', 'take', 'hit', 'ca', 'arc', 'due', 'handle', 'story', 'pace', 'specifically', 'episode', 'get', 'wrong', 'though', 'think', 'fair', 'number', 'good', 'episode', 'episode', 'stretch', 'unfortunately', 'surround', 'mediocre', 'episode', 'break', 'consistency', 'otherwise', 'exceptional', 'arc', 'madhouse', 'fault', 'lie', 'adaption', 'manga', 'chapter', 'comprise', 'episode', 'drag', 'order', 'episode', 'handle', 'good', 'animation', 'team', 'episode', 'actually', 'well', 'pace', 'atrocious', 'sequence', 'episode', 'whole', 'generally', 'poorly', 'pace', 'clarification', 'slow', 'pace', 'arc', 'read', 'hxh', 'probably', 'see', 'people', 'complain', 'poor', 'pace', 'narration', 'heavy', 'episode', 'arc', 'well', 'wonder', 'much', 'truth', 'statement', 'go', 'ask', 'answer', 'depend', 'episode', 'palace_invasion', 'climax', 'arc', 'begin', 'narration', 'begin', 'play', 'huge', 'role', 'episode', 'order', 'pack', 'whole', 'level', 'depth', 'story', 'increase', 'dramatic', 'tension', 'rather', 'high', 'octane', 'action', 'f', 'people', 'expect', 'shonen', 'arc', 'climax', 'palace_invasion', 'take', 'psychological', 'heavy', 'route', 'wherein', 'character', 'thought', 'mental', 'state', 'give', 'focus', 'actual', 'action', 'psychological', 'focus', 'together', 'narration', 'slow', 'pace', 'considerably', 'sense', 'episode', 'begin', 'cover', 'lot', 'less', 'narrative', 'time', 'however', 'slow', 'pace', 'pacing', 'episode', 'remain', 'solid', 'good', 'amount', 'manga', 'chapter', 'cover', 'episode', 'duration', 'scene', 'point', 'episode', 'mentioned_earli', 'review', 'end', 'depend', 'narration', 'work', 'psychological', 'approach', 'experience', 'increase', 'suspense', 'problem', 'pace', 'helluvah', 'ride', 'however', 'psychological', 'approach', 'feel', 'narrator', 'heavy', 'presence', 'break', 'immersion', 'gruele', 'experience', 'course', 'combination', 'like', 'psychological', 'route', 'feeling', 'immersion', 'maybe', 'narration', 'work', 'completely', 'well', 'happen', 'case', 'end', 'mixed', 'feeling', 'bright', 'side', 'people', 'end', 'watch', 'invasion', 'end', 'enjoy', 'narration', 'however', 'happen', 'good', 'number', 'people', 'end', 'like', 'narration', 'worry', 'episode', 'palace_invasion', 'heavy', 'narration', 'episode', 'narration', 'begin', 'decrease', 'episode', 'eventually', 'reach', 'point', 'back', 'normal', 'head', 'people', 'look', 'action', 'love', 'fight', 'aspect', 'series', 'consider', 'strong', 'leave', 'sake', 'subjectivity', 'hxh', 'cater', 'fight', 'series', 'well', 'execute', 'also', 'short', 'minute', 'happen', 'less', 'comparison', 'battle', 'anime', 'moreover', 'focus', 'strategy', 'battle', 'put', 'people', 'prefer', 'fight', 'brawn', 'less', 'brain', 'expect', 'action', 'heavy', 'series', 'hakusho', 'disappoint', 'hxh', 'series', 'rely', 'story', 'reel', 'viewer', 'personally', 'think', 'fighting', 'shonen', 'do', 'fight', 'able', 'entertain', 'also', 'make', 'think', 'drag', 'long', 'expense', 'story', 'leave', 'underwhelmed', 'conclusion', 'hunter', 'hunter', 'intelligent', 'battle', 'anime', 'fantastic', 'story', 'excellent', 'character', 'fight', 'involve', 'lot', 'strategy', 'separate', 'genre', 'series', 'subvert', 'shonen', 'trope', 'boast', 'unpredictable', 'plot', 'progression', 'make', 'truly', 'unique', 'overall', 'score', 'story', 'outstanding', 'character', 'outstanding', 'art', 'great', 'sound', 'great', 'occasionally', 'misuse', 'enjoyment', 'extremely', 'high', 'overall', 'masterpiece']\n"
     ]
    }
   ],
   "source": [
    "# Remove Stop Words\n",
    "data_words_nostops = remove_stopwords(data_words)\n",
    "\n",
    "# Form Bigrams\n",
    "data_words_bigrams = make_bigrams(data_words_nostops)\n",
    "\n",
    "# Initialize spacy 'en' model, keeping only tagger component (for efficiency)\n",
    "# python3 -m spacy download en\n",
    "nlp = spacy.load('en_core_web_sm', disable=['parser', 'ner'])\n",
    "\n",
    "# Do lemmatization keeping only noun, adj, vb, adv\n",
    "data_lemmatized = lemmatization(data_words_bigrams, allowed_postags=['NOUN', 'ADJ', 'VERB', 'ADV'])\n",
    "\n",
    "print(data_lemmatized[0])"
   ]
  },
  {
   "cell_type": "code",
   "execution_count": 20,
   "metadata": {},
   "outputs": [
    {
     "name": "stdout",
     "output_type": "stream",
     "text": [
      "[(0, 1), (1, 2), (2, 1), (3, 1), (4, 4), (5, 2), (6, 2), (7, 1), (8, 1), (9, 2), (10, 1), (11, 1), (12, 1), (13, 1), (14, 13), (15, 2), (16, 2), (17, 4), (18, 4), (19, 7), (20, 1), (21, 1), (22, 1), (23, 1), (24, 2), (25, 2), (26, 1), (27, 2), (28, 3), (29, 26), (30, 1), (31, 1), (32, 4), (33, 1), (34, 1), (35, 1), (36, 1), (37, 1), (38, 3), (39, 1), (40, 1), (41, 1), (42, 1), (43, 1), (44, 1), (45, 1), (46, 7), (47, 1), (48, 1), (49, 4), (50, 2), (51, 1), (52, 1), (53, 1), (54, 1), (55, 1), (56, 2), (57, 1), (58, 1), (59, 1), (60, 2), (61, 1), (62, 2), (63, 1), (64, 1), (65, 2), (66, 1), (67, 3), (68, 1), (69, 1), (70, 1), (71, 1), (72, 1), (73, 1), (74, 1), (75, 1), (76, 2), (77, 3), (78, 16), (79, 1), (80, 1), (81, 2), (82, 1), (83, 1), (84, 1), (85, 1), (86, 1), (87, 1), (88, 1), (89, 1), (90, 2), (91, 1), (92, 1), (93, 1), (94, 1), (95, 1), (96, 3), (97, 1), (98, 1), (99, 1), (100, 3), (101, 1), (102, 1), (103, 1), (104, 2), (105, 1), (106, 1), (107, 1), (108, 1), (109, 1), (110, 1), (111, 1), (112, 1), (113, 1), (114, 2), (115, 2), (116, 1), (117, 1), (118, 1), (119, 2), (120, 3), (121, 1), (122, 2), (123, 1), (124, 1), (125, 1), (126, 1), (127, 4), (128, 1), (129, 1), (130, 1), (131, 3), (132, 1), (133, 2), (134, 1), (135, 1), (136, 1), (137, 1), (138, 1), (139, 1), (140, 3), (141, 2), (142, 2), (143, 1), (144, 3), (145, 1), (146, 2), (147, 1), (148, 1), (149, 1), (150, 1), (151, 1), (152, 1), (153, 1), (154, 1), (155, 2), (156, 1), (157, 1), (158, 1), (159, 1), (160, 3), (161, 1), (162, 1), (163, 1), (164, 1), (165, 1), (166, 1), (167, 1), (168, 1), (169, 1), (170, 8), (171, 2), (172, 1), (173, 1), (174, 2), (175, 1), (176, 1), (177, 1), (178, 28), (179, 4), (180, 1), (181, 3), (182, 2), (183, 2), (184, 3), (185, 2), (186, 1), (187, 2), (188, 2), (189, 1), (190, 2), (191, 1), (192, 1), (193, 4), (194, 4), (195, 1), (196, 1), (197, 1), (198, 2), (199, 1), (200, 1), (201, 1), (202, 1), (203, 2), (204, 1), (205, 4), (206, 2), (207, 1), (208, 1), (209, 2), (210, 9), (211, 3), (212, 1), (213, 5), (214, 1), (215, 1), (216, 5), (217, 1), (218, 2), (219, 5), (220, 3), (221, 1), (222, 1), (223, 1), (224, 1), (225, 3), (226, 2), (227, 6), (228, 6), (229, 2), (230, 5), (231, 10), (232, 1), (233, 1), (234, 6), (235, 1), (236, 2), (237, 1), (238, 2), (239, 3), (240, 1), (241, 2), (242, 1), (243, 5), (244, 1), (245, 4), (246, 1), (247, 2), (248, 1), (249, 3), (250, 1), (251, 6), (252, 3), (253, 1), (254, 8), (255, 20), (256, 1), (257, 1), (258, 2), (259, 1), (260, 4), (261, 2), (262, 1), (263, 1), (264, 2), (265, 1), (266, 1), (267, 1), (268, 1), (269, 1), (270, 2), (271, 1), (272, 4), (273, 2), (274, 1), (275, 1), (276, 1), (277, 1), (278, 2), (279, 1), (280, 1), (281, 1), (282, 1), (283, 1), (284, 1), (285, 2), (286, 3), (287, 1), (288, 3), (289, 5), (290, 3), (291, 3), (292, 2), (293, 1), (294, 2), (295, 1), (296, 1), (297, 1), (298, 1), (299, 3), (300, 3), (301, 7), (302, 1), (303, 2), (304, 8), (305, 1), (306, 8), (307, 1), (308, 2), (309, 1), (310, 1), (311, 2), (312, 1), (313, 1), (314, 1), (315, 1), (316, 1), (317, 1), (318, 1), (319, 1), (320, 1), (321, 1), (322, 2), (323, 1), (324, 2), (325, 1), (326, 1), (327, 1), (328, 2), (329, 3), (330, 1), (331, 1), (332, 2), (333, 9), (334, 1), (335, 1), (336, 1), (337, 1), (338, 2), (339, 1), (340, 1), (341, 3), (342, 1), (343, 1), (344, 1), (345, 1), (346, 2), (347, 1), (348, 1), (349, 2), (350, 1), (351, 1), (352, 1), (353, 1), (354, 2), (355, 1), (356, 2), (357, 2), (358, 1), (359, 1), (360, 1), (361, 2), (362, 1), (363, 2), (364, 4), (365, 1), (366, 10), (367, 1), (368, 2), (369, 3), (370, 1), (371, 3), (372, 1), (373, 1), (374, 7), (375, 2), (376, 2), (377, 1), (378, 1), (379, 2), (380, 1), (381, 2), (382, 3), (383, 1), (384, 1), (385, 1), (386, 1), (387, 1), (388, 1), (389, 1), (390, 2), (391, 1), (392, 1), (393, 1), (394, 1), (395, 1), (396, 1), (397, 1), (398, 1), (399, 1), (400, 1), (401, 2), (402, 1), (403, 3), (404, 2), (405, 1), (406, 1), (407, 5), (408, 5), (409, 2), (410, 1), (411, 1), (412, 1), (413, 1), (414, 1), (415, 1), (416, 1), (417, 1), (418, 1), (419, 1), (420, 1), (421, 4), (422, 1), (423, 1), (424, 1), (425, 1), (426, 1), (427, 1), (428, 1), (429, 1), (430, 1), (431, 2), (432, 1), (433, 3), (434, 1), (435, 1), (436, 2), (437, 3), (438, 2), (439, 1), (440, 1), (441, 1), (442, 1), (443, 4), (444, 4), (445, 1), (446, 1), (447, 6), (448, 1), (449, 1), (450, 3), (451, 1), (452, 1), (453, 38), (454, 1), (455, 2), (456, 1), (457, 3), (458, 1), (459, 1), (460, 9), (461, 1), (462, 11), (463, 1), (464, 1), (465, 1), (466, 3), (467, 3), (468, 1), (469, 3), (470, 2), (471, 1), (472, 2), (473, 2), (474, 5), (475, 1), (476, 3), (477, 2), (478, 1), (479, 1), (480, 3), (481, 1), (482, 1), (483, 3), (484, 18), (485, 3), (486, 4), (487, 2), (488, 1), (489, 1), (490, 4), (491, 1), (492, 1), (493, 1), (494, 1), (495, 1), (496, 1), (497, 1), (498, 1), (499, 1), (500, 1), (501, 1), (502, 2), (503, 2), (504, 1), (505, 1), (506, 2), (507, 7), (508, 1), (509, 1), (510, 1), (511, 1), (512, 3), (513, 1), (514, 2), (515, 5), (516, 6), (517, 1), (518, 1), (519, 2), (520, 1), (521, 1), (522, 4), (523, 2), (524, 1), (525, 2), (526, 2), (527, 1), (528, 1), (529, 1), (530, 1), (531, 1), (532, 1), (533, 1), (534, 2), (535, 2), (536, 1), (537, 1), (538, 1), (539, 1), (540, 1), (541, 2), (542, 3), (543, 1), (544, 1), (545, 3), (546, 3), (547, 3), (548, 1), (549, 1), (550, 1), (551, 1), (552, 1), (553, 1), (554, 1), (555, 1), (556, 1), (557, 5), (558, 7), (559, 1), (560, 1), (561, 1), (562, 1), (563, 1), (564, 1), (565, 1), (566, 3), (567, 12), (568, 1), (569, 2), (570, 1), (571, 1), (572, 1), (573, 2), (574, 2), (575, 1), (576, 1), (577, 10), (578, 1), (579, 1), (580, 2)]\n"
     ]
    }
   ],
   "source": [
    "# Create Dictionary\n",
    "id2word = corpora.Dictionary(data_lemmatized)\n",
    "\n",
    "# Create Corpus\n",
    "texts = data_lemmatized\n",
    "\n",
    "# Term Document Frequency\n",
    "corpus = [id2word.doc2bow(text) for text in texts]\n",
    "\n",
    "# View\n",
    "print(corpus[0])"
   ]
  },
  {
   "cell_type": "code",
   "execution_count": 21,
   "metadata": {},
   "outputs": [
    {
     "name": "stdout",
     "output_type": "stream",
     "text": [
      "[(0, '0.004*\"everytime\" + 0.001*\"dps\" + 0.001*\"expensive\" + 0.001*\"overdone\" + 0.001*\"dish\" + 0.000*\"distribution\" + 0.000*\"denial\" + 0.000*\"horrifically\" + 0.000*\"loli\" + 0.000*\"shelby\"'), (1, '0.000*\"hunter\" + 0.000*\"show\" + 0.000*\"activation\" + 0.000*\"boom\" + 0.000*\"abnormal\" + 0.000*\"divergent\" + 0.000*\"empathetic\" + 0.000*\"theorize\" + 0.000*\"fanta\" + 0.000*\"interruption\"'), (2, '0.031*\"que\" + 0.012*\"nao\" + 0.009*\"el\" + 0.009*\"por\" + 0.008*\"com\" + 0.007*\"anime\" + 0.007*\"ele\" + 0.007*\"hunter\" + 0.007*\"historia\" + 0.007*\"voce\"'), (3, '0.000*\"interruption\" + 0.000*\"activation\" + 0.000*\"stu\" + 0.000*\"undo\" + 0.000*\"abnormal\" + 0.000*\"divergent\" + 0.000*\"empathetic\" + 0.000*\"theorize\" + 0.000*\"fanta\" + 0.000*\"gary\"'), (4, '0.029*\"character\" + 0.022*\"arc\" + 0.020*\"hunter\" + 0.019*\"anime\" + 0.016*\"story\" + 0.015*\"show\" + 0.011*\"good\" + 0.010*\"gon\" + 0.010*\"watch\" + 0.009*\"well\"'), (5, '0.000*\"interruption\" + 0.000*\"activation\" + 0.000*\"stu\" + 0.000*\"undo\" + 0.000*\"abnormal\" + 0.000*\"divergent\" + 0.000*\"empathetic\" + 0.000*\"theorize\" + 0.000*\"fanta\" + 0.000*\"gary\"'), (6, '0.000*\"series\" + 0.000*\"arc\" + 0.000*\"anime\" + 0.000*\"character\" + 0.000*\"theorize\" + 0.000*\"fanta\" + 0.000*\"activation\" + 0.000*\"empathetic\" + 0.000*\"boom\" + 0.000*\"divergent\"'), (7, '0.013*\"series\" + 0.009*\"shounen\" + 0.006*\"world\" + 0.006*\"battle\" + 0.006*\"nen\" + 0.006*\"human\" + 0.005*\"togashi\" + 0.005*\"protagonist\" + 0.005*\"element\" + 0.004*\"hunter\"')]\n"
     ]
    }
   ],
   "source": [
    "# Using LDA to develop a topic model with 3 models\n",
    "\n",
    "lda_model = gensim.models.ldamodel.LdaModel(corpus=corpus,\n",
    "                                           id2word=id2word,\n",
    "                                           num_topics=8, \n",
    "                                           random_state=100,\n",
    "                                           update_every=1,\n",
    "                                           chunksize=100,\n",
    "                                           passes=10,\n",
    "                                           alpha='auto',\n",
    "                                           per_word_topics=True)\n",
    "# Print the KeywordS in the 3 topics\n",
    "print(lda_model.print_topics())\n",
    "doc_lda = lda_model[corpus]"
   ]
  },
  {
   "cell_type": "code",
   "execution_count": 22,
   "metadata": {},
   "outputs": [
    {
     "data": {
      "text/html": [
       "\n",
       "<link rel=\"stylesheet\" type=\"text/css\" href=\"https://cdn.jsdelivr.net/gh/bmabey/pyLDAvis@3.3.1/pyLDAvis/js/ldavis.v1.0.0.css\">\n",
       "\n",
       "\n",
       "<div id=\"ldavis_el2591224654377880804301334980\"></div>\n",
       "<script type=\"text/javascript\">\n",
       "\n",
       "var ldavis_el2591224654377880804301334980_data = {\"mdsDat\": {\"x\": [0.3252546407874389, 0.1782108630191863, -0.17961999085656852, -0.0656281344926541, -0.06455434453925608, -0.0645543445995683, -0.064554344659289, -0.06455434465928897], \"y\": [0.1454130508865316, -0.16310104599964342, 0.14875807707385946, -0.026904462343900832, -0.02604140485317848, -0.02604140489386521, -0.026041404934901653, -0.026041404934901667], \"topics\": [1, 2, 3, 4, 5, 6, 7, 8], \"cluster\": [1, 1, 1, 1, 1, 1, 1, 1], \"Freq\": [91.51500834036901, 7.186171497865519, 1.2659296777913238, 0.018351561458262472, 0.0037423735909042585, 0.00363037562955531, 0.00361808669284207, 0.003548086602578506]}, \"tinfo\": {\"Term\": [\"anime\", \"hunter\", \"series\", \"shounen\", \"gon\", \"world\", \"do\", \"adventure\", \"many\", \"nen\", \"killua\", \"manga\", \"protagonist\", \"soundtrack\", \"battle\", \"seem\", \"way\", \"togashi\", \"story\", \"review\", \"plot\", \"work\", \"strong\", \"action\", \"shonen\", \"good\", \"villain\", \"power\", \"watch\", \"also\", \"story\", \"good\", \"watch\", \"overall\", \"really\", \"sound\", \"animation\", \"enjoyment\", \"great\", \"much\", \"think\", \"say\", \"first\", \"thing\", \"give\", \"want\", \"love\", \"start\", \"art\", \"go\", \"know\", \"end\", \"amazing\", \"long\", \"ever\", \"look\", \"get\", \"favorite\", \"enjoy\", \"friend\", \"character\", \"anime\", \"arc\", \"time\", \"episode\", \"feel\", \"well\", \"see\", \"make\", \"hunter\", \"show\", \"even\", \"gon\", \"also\", \"killua\", \"series\", \"establish\", \"morality\", \"ship\", \"overarching\", \"society\", \"shippuden\", \"portrayal\", \"application\", \"additionally\", \"stellar\", \"fictional\", \"experienced\", \"ambitious\", \"sexual\", \"peer\", \"largely\", \"react\", \"frequently\", \"vice\", \"coherent\", \"conscience\", \"stupidity\", \"detract\", \"excellence\", \"partially\", \"tightly\", \"nen_user\", \"compensate\", \"contrary\", \"subplot\", \"individuality\", \"subvert\", \"entirely\", \"title\", \"presence\", \"narrative\", \"limited\", \"element\", \"serve\", \"parallel\", \"human\", \"rule\", \"occur\", \"humanity\", \"choice\", \"battle\", \"exposition\", \"trope\", \"structure\", \"togashi\", \"nen\", \"shounen\", \"series\", \"ultimately\", \"cast\", \"world\", \"event\", \"present\", \"protagonist\", \"ability\", \"situation\", \"rather\", \"standard\", \"viewer\", \"nature\", \"game\", \"work\", \"seem\", \"mean\", \"many\", \"strong\", \"action\", \"hunter\", \"show\", \"gon\", \"quality\", \"way\", \"que\", \"nao\", \"el\", \"por\", \"ele\", \"historia\", \"voce\", \"mas\", \"muy\", \"arco\", \"como\", \"mundo\", \"personaje\", \"isso\", \"personagen\", \"todo\", \"mais\", \"tiene\", \"ser\", \"os\", \"para\", \"protagonista\", \"su\", \"aventura\", \"ver\", \"desarrollo\", \"onde\", \"lo\", \"nada\", \"sus\", \"com\", \"un\", \"anime\", \"hunter\", \"everytime\", \"dps\", \"expensive\", \"overdone\", \"dish\", \"distribution\", \"denial\", \"loli\", \"shelby\", \"acclaimed\", \"trudge\", \"toma\", \"constituency\", \"corpse\", \"kiuba\", \"remote\", \"horrifically\", \"especialy\", \"excelent\", \"brightest\", \"diet\", \"yuyuhakasho\", \"beginnig\", \"repetetive\", \"\\u0131t\", \"katekyo\", \"disclose\", \"hisoke\", \"haahahahahahhah\", \"gallon\", \"allthank\", \"biased\", \"subtleness\", \"umm\", \"native\", \"anticipating\", \"chaotically\", \"chap\", \"claustophobic\", \"defo\", \"questionnable\", \"horrifyingly\", \"offensive\", \"diet\", \"yuyuhakasho\", \"beginnig\", \"repetetive\", \"\\u0131t\", \"katekyo\", \"disclose\", \"hisoke\", \"haahahahahahhah\", \"gallon\", \"spam\", \"suicidal\", \"altruistic\", \"monotone\", \"amuse\", \"pointer\", \"me\", \"andle\", \"astronaut\", \"basicly\", \"closed\", \"falshback\", \"feet\", \"hummmmmm\", \"startup\", \"stinky\", \"thingy\", \"watfch\", \"goodluck\", \"kurosaki\", \"anime\", \"arc\", \"character\", \"series\", \"ability\", \"able\", \"absorb\", \"account\", \"action\", \"actual\", \"actually\", \"adaption\", \"add\", \"addition\", \"adjust\", \"adventure\", \"adversary\", \"ago\", \"also\", \"always\", \"amaze\", \"amount\", \"animation\", \"answer\", \"ant\", \"anti\", \"apart\", \"appeal\", \"appearance\", \"application\", \"diet\", \"yuyuhakasho\", \"beginnig\", \"repetetive\", \"\\u0131t\", \"katekyo\", \"disclose\", \"hisoke\", \"haahahahahahhah\", \"gallon\", \"spam\", \"suicidal\", \"altruistic\", \"monotone\", \"amuse\", \"pointer\", \"me\", \"andle\", \"astronaut\", \"basicly\", \"closed\", \"falshback\", \"feet\", \"hummmmmm\", \"startup\", \"stinky\", \"thingy\", \"watfch\", \"goodluck\", \"kurosaki\", \"hunter\", \"show\", \"ability\", \"able\", \"absorb\", \"account\", \"action\", \"actual\", \"actually\", \"adaption\", \"add\", \"addition\", \"adjust\", \"adventure\", \"adversary\", \"ago\", \"also\", \"always\", \"amaze\", \"amount\", \"animation\", \"anime\", \"answer\", \"ant\", \"anti\", \"apart\", \"appeal\", \"appearance\", \"application\", \"apply\", \"diet\", \"yuyuhakasho\", \"beginnig\", \"repetetive\", \"\\u0131t\", \"katekyo\", \"disclose\", \"hisoke\", \"haahahahahahhah\", \"gallon\", \"spam\", \"suicidal\", \"altruistic\", \"monotone\", \"amuse\", \"pointer\", \"me\", \"andle\", \"astronaut\", \"basicly\", \"closed\", \"falshback\", \"feet\", \"hummmmmm\", \"startup\", \"stinky\", \"thingy\", \"watfch\", \"goodluck\", \"kurosaki\", \"ability\", \"able\", \"absorb\", \"account\", \"action\", \"actual\", \"actually\", \"adaption\", \"add\", \"addition\", \"adjust\", \"adventure\", \"adversary\", \"ago\", \"also\", \"always\", \"amaze\", \"amount\", \"animation\", \"anime\", \"answer\", \"ant\", \"anti\", \"apart\", \"appeal\", \"appearance\", \"application\", \"apply\", \"approach\", \"arc\", \"diet\", \"yuyuhakasho\", \"beginnig\", \"repetetive\", \"\\u0131t\", \"katekyo\", \"disclose\", \"hisoke\", \"haahahahahahhah\", \"gallon\", \"spam\", \"suicidal\", \"altruistic\", \"monotone\", \"amuse\", \"pointer\", \"me\", \"andle\", \"astronaut\", \"basicly\", \"closed\", \"falshback\", \"feet\", \"hummmmmm\", \"startup\", \"stinky\", \"thingy\", \"watfch\", \"goodluck\", \"kurosaki\", \"ability\", \"able\", \"absorb\", \"account\", \"action\", \"actual\", \"actually\", \"adaption\", \"add\", \"addition\", \"adjust\", \"adventure\", \"adversary\", \"ago\", \"also\", \"always\", \"amaze\", \"amount\", \"animation\", \"anime\", \"answer\", \"ant\", \"anti\", \"apart\", \"appeal\", \"appearance\", \"application\", \"apply\", \"approach\", \"arc\"], \"Freq\": [3246.0, 3531.0, 1428.0, 764.0, 1863.0, 503.0, 332.0, 266.0, 704.0, 363.0, 964.0, 386.0, 374.0, 269.0, 306.0, 375.0, 750.0, 274.0, 2859.0, 487.0, 467.0, 311.0, 351.0, 341.0, 432.0, 1999.0, 493.0, 370.0, 1663.0, 1087.0, 2859.742577324388, 1999.274815322695, 1663.6885254617375, 1368.5841309385044, 1313.4981892738228, 1305.1664154514938, 1345.962467882698, 1071.6566032283222, 944.2344698899477, 908.6440321324241, 894.8012469266412, 859.8226570792954, 828.998679204825, 825.1922113696247, 756.4344742107676, 695.5279064903333, 691.8076635429122, 676.4761403523158, 658.7816253288485, 1020.9217332526038, 590.3621363186645, 840.8659978847598, 474.8013191750925, 479.77028181669783, 463.4212968388396, 449.9933320244991, 1525.107366689043, 383.26187972845486, 370.2648771236828, 365.2075806130355, 5094.694264232354, 3228.6034001724215, 3746.0546068659723, 1228.6401646967793, 1506.8190923254588, 1063.3731737457076, 1547.81979705381, 1224.57047977706, 1465.8071937734824, 3458.365552691757, 2581.172271442148, 1025.251390670284, 1812.1002948172365, 1056.2194281879304, 944.8998534783328, 1246.3881342837901, 37.20866282670127, 35.43804665321114, 16.003597187395286, 15.643799056013382, 15.370054320358912, 12.873852971587981, 12.60915291104559, 12.56854900775635, 12.52459554916812, 12.31088802931483, 12.155574396967703, 11.620576290784944, 11.587969281582474, 11.407184856848861, 10.892127233780714, 10.885354077867119, 11.520726580766832, 10.53928538113598, 9.784963457719593, 9.676975928659179, 9.691963337489264, 9.471024058477257, 9.016903341604358, 8.846433508954986, 9.516069088331212, 8.84871697094631, 8.605849928090839, 8.534757667049238, 8.396709332220196, 8.187283701693731, 8.999234377688229, 16.056890706171878, 38.750528338474766, 38.55684171654122, 18.65801984047719, 40.41848107995329, 12.58408737742953, 62.905607123183074, 43.383268256286925, 18.932329868326164, 80.1550828293091, 38.49251305717894, 20.94068246086699, 38.1619588445353, 32.35458951771332, 85.41133844528778, 21.39177130073049, 33.836292016267706, 25.004900852989877, 72.89544441498408, 84.56072496793391, 128.02577110011094, 182.00737309008775, 21.267249373073902, 53.768580782618805, 87.1406548487591, 40.55059384674003, 38.929896347977355, 71.7015345612107, 45.125365040471195, 39.552517132866946, 48.71655647846665, 28.528650543622337, 45.75223427486765, 33.235773359997076, 38.745244846921615, 53.74689904030788, 55.50510744822172, 45.07496645467942, 53.38876493806191, 45.302905006482824, 44.448778755661124, 55.79250518465277, 45.965879692198165, 44.78871522636117, 40.18609662446803, 40.51908716685137, 75.21026458236084, 29.99905492362535, 22.077761329014667, 21.634219425362918, 17.273351271788993, 16.152951622687976, 15.885557653440852, 15.858686526505188, 14.856631817651008, 14.701965749171858, 14.65036102230957, 13.434840860275656, 13.289099668347626, 12.800012169512751, 12.04686659003856, 11.664475911828047, 10.777401081015926, 10.592948770026583, 10.440617711366752, 9.81769858053767, 9.695941451506323, 9.557019026840196, 8.66171219240508, 8.238164862263856, 7.805574278091483, 7.457909156771102, 6.8504610088294795, 6.767647265573817, 6.757567787819388, 6.730434659541673, 19.866896385430532, 9.427986451548168, 18.00495439402092, 17.03591634251106, 0.12974914403419194, 0.04043542602063309, 0.03786922057572188, 0.024628929247391088, 0.021714398136819222, 0.012257782787636501, 0.012257780754389758, 0.012237467602810604, 0.012223073232498346, 0.012216650206039355, 0.012216636989935529, 0.012212384454373965, 0.012192111967729657, 0.012192111967729657, 0.012192111967729657, 0.012192110951106287, 0.012256618753876522, 0.0033600942601255852, 0.0033600942601255852, 0.0033244999884986773, 0.0032530087456360984, 0.0032530087456360984, 0.0032530087456360984, 0.0032530087456360984, 0.0032530087456360984, 0.0032530087456360984, 0.0032530087456360984, 0.0032530087456360984, 0.0032530087456360984, 0.0032530087456360984, 0.0034228140765417926, 0.0034228140765417926, 0.0034228140765417926, 0.0034228140765417926, 0.0033584590214330735, 0.0032854522472799377, 0.0032854522472799377, 0.0032854522472799377, 0.0032854522472799377, 0.0032854522472799377, 0.003317399128406965, 0.003324377739538295, 0.0032937026542485892, 0.0006700541879862304, 0.0006700541879862304, 0.0006700541879862304, 0.0006700541879862304, 0.0006700541879862304, 0.0006700541879862304, 0.0006700541879862304, 0.0006700541879862304, 0.0006700541879862304, 0.0006700541879862304, 0.0006700541879862304, 0.0006700541879862304, 0.0006700541879862304, 0.0006700541879862304, 0.0006700541879862304, 0.0006700541879862304, 0.0006700541879862304, 0.0006700541879862304, 0.0006700541879862304, 0.0006700541879862304, 0.0006700541879862304, 0.0006700541879862304, 0.0006700541879862304, 0.0006700541879862304, 0.0006700541879862304, 0.0006700541879862304, 0.0006700541879862304, 0.0006700541879862304, 0.0006700541879862304, 0.0006700541879862304, 0.0006700542916445612, 0.0006700542916445612, 0.0006700542916445612, 0.0006700542916445612, 0.0006700541879862304, 0.0006700541879862304, 0.0006700541879862304, 0.0006700541879862304, 0.0006700541879862304, 0.0006700541879862304, 0.0006700541879862304, 0.0006700541879862304, 0.0006700541879862304, 0.0006700541879862304, 0.0006700541879862304, 0.0006700541879862304, 0.0006700541879862304, 0.0006700541879862304, 0.0006700541879862304, 0.0006700541879862304, 0.0006700541879862304, 0.0006700541879862304, 0.0006700541879862304, 0.0006700541879862304, 0.0006700541879862304, 0.0006700541879862304, 0.0006700541879862304, 0.0006700541879862304, 0.0006700541879862304, 0.0006700541879862304, 0.0006500014858107509, 0.0006500014858107509, 0.0006500014858107509, 0.0006500014858107509, 0.0006500014858107509, 0.0006500014858107509, 0.0006500014858107509, 0.0006500014858107509, 0.0006500014858107509, 0.0006500014858107509, 0.0006500014858107509, 0.0006500014858107509, 0.0006500014858107509, 0.0006500014858107509, 0.0006500014858107509, 0.0006500014858107509, 0.0006500014858107509, 0.0006500014858107509, 0.0006500014858107509, 0.0006500014858107509, 0.0006500014858107509, 0.0006500014858107509, 0.0006500014858107509, 0.0006500014858107509, 0.0006500014858107509, 0.0006500014858107509, 0.0006500014858107509, 0.0006500014858107509, 0.0006500014858107509, 0.0006500014858107509, 0.0006500015863669003, 0.0006500015863669003, 0.0006500014858107509, 0.0006500014858107509, 0.0006500014858107509, 0.0006500014858107509, 0.0006500014858107509, 0.0006500014858107509, 0.0006500014858107509, 0.0006500014858107509, 0.0006500014858107509, 0.0006500014858107509, 0.0006500014858107509, 0.0006500014858107509, 0.0006500014858107509, 0.0006500014858107509, 0.0006500014858107509, 0.0006500014858107509, 0.0006500014858107509, 0.0006500014858107509, 0.0006500014858107509, 0.0006500014858107509, 0.0006500014858107509, 0.0006500014858107509, 0.0006500014858107509, 0.0006500014858107509, 0.0006500014858107509, 0.0006500014858107509, 0.0006500014858107509, 0.0006500014858107509, 0.0006478012101539813, 0.0006478012101539813, 0.0006478012101539813, 0.0006478012101539813, 0.0006478012101539813, 0.0006478012101539813, 0.0006478012101539813, 0.0006478012101539813, 0.0006478012101539813, 0.0006478012101539813, 0.0006478012101539813, 0.0006478012101539813, 0.0006478012101539813, 0.0006478012101539813, 0.0006478012101539813, 0.0006478012101539813, 0.0006478012101539813, 0.0006478012101539813, 0.0006478012101539813, 0.0006478012101539813, 0.0006478012101539813, 0.0006478012101539813, 0.0006478012101539813, 0.0006478012101539813, 0.0006478012101539813, 0.0006478012101539813, 0.0006478012101539813, 0.0006478012101539813, 0.0006478012101539813, 0.0006478012101539813, 0.0006478012101539813, 0.0006478012101539813, 0.0006478012101539813, 0.0006478012101539813, 0.0006478012101539813, 0.0006478012101539813, 0.0006478012101539813, 0.0006478012101539813, 0.0006478012101539813, 0.0006478012101539813, 0.0006478012101539813, 0.0006478012101539813, 0.0006478012101539813, 0.0006478012101539813, 0.0006478012101539813, 0.0006478012101539813, 0.0006478012101539813, 0.0006478012101539813, 0.0006478012101539813, 0.0006478012101539813, 0.0006478012101539813, 0.0006478012101539813, 0.0006478012101539813, 0.0006478012101539813, 0.0006478012101539813, 0.0006478012101539813, 0.0006478012101539813, 0.0006478012101539813, 0.0006478012101539813, 0.0006478012101539813, 0.0006352680270013121, 0.0006352680270013121, 0.0006352680270013121, 0.0006352680270013121, 0.0006352680270013121, 0.0006352680270013121, 0.0006352680270013121, 0.0006352680270013121, 0.0006352680270013121, 0.0006352680270013121, 0.0006352680270013121, 0.0006352680270013121, 0.0006352680270013121, 0.0006352680270013121, 0.0006352680270013121, 0.0006352680270013121, 0.0006352680270013121, 0.0006352680270013121, 0.0006352680270013121, 0.0006352680270013121, 0.0006352680270013121, 0.0006352680270013121, 0.0006352680270013121, 0.0006352680270013121, 0.0006352680270013121, 0.0006352680270013121, 0.0006352680270013121, 0.0006352680270013121, 0.0006352680270013121, 0.0006352680270013121, 0.0006352680270013121, 0.0006352680270013121, 0.0006352680270013121, 0.0006352680270013121, 0.0006352680270013121, 0.0006352680270013121, 0.0006352680270013121, 0.0006352680270013121, 0.0006352680270013121, 0.0006352680270013121, 0.0006352680270013121, 0.0006352680270013121, 0.0006352680270013121, 0.0006352680270013121, 0.0006352680270013121, 0.0006352680270013121, 0.0006352680270013121, 0.0006352680270013121, 0.0006352680270013121, 0.0006352680270013121, 0.0006352680270013121, 0.0006352680270013121, 0.0006352680270013121, 0.0006352680270013121, 0.0006352680270013121, 0.0006352680270013121, 0.0006352680270013121, 0.0006352680270013121, 0.0006352680270013121, 0.0006352680270013121], \"Total\": [3246.0, 3531.0, 1428.0, 764.0, 1863.0, 503.0, 332.0, 266.0, 704.0, 363.0, 964.0, 386.0, 374.0, 269.0, 306.0, 375.0, 750.0, 274.0, 2859.0, 487.0, 467.0, 311.0, 351.0, 341.0, 432.0, 1999.0, 493.0, 370.0, 1663.0, 1087.0, 2859.9915769893187, 1999.501979437023, 1663.912937077888, 1368.809170215615, 1313.722669569279, 1305.3915523256755, 1346.2188444580283, 1071.8820030822603, 944.4596497440941, 908.8693516915167, 895.0260028629096, 860.0545251222038, 829.2235306064691, 825.4204705079534, 756.6622118029267, 695.7529518148395, 692.0321557757122, 676.7007764682174, 659.0060702232857, 1021.3162372980204, 590.5924198777116, 841.2621845761745, 475.02569868692774, 480.0000354790098, 463.64588742733184, 450.2272986798943, 1525.911087276632, 383.486297571522, 370.4892930031916, 365.4321319385355, 5130.226749292303, 3246.772589927709, 3779.983253529348, 1230.2483950949083, 1512.9232885174383, 1064.1078997506074, 1555.7453622286705, 1229.3721756132345, 1475.651196943456, 3531.199830399697, 2627.2042045175554, 1035.0980119644266, 1863.4024634004077, 1087.5897765422576, 964.2910679655712, 1428.4615724337914, 37.426954034738586, 35.77059449192264, 16.219457165859325, 15.858620109306486, 15.584526386453833, 13.08840125305949, 12.823622167110242, 12.782938347261828, 12.739698919514272, 12.525923216607275, 12.370043653032353, 11.835409958834136, 11.802524840797881, 11.621831986915367, 11.10649394791911, 11.099911706536231, 11.750703368294248, 10.753694405205902, 9.999464280379541, 9.892064753419227, 9.909252803478356, 9.687342366478035, 9.231392816924842, 9.060863603826286, 9.746778040751137, 9.063808370146377, 8.820251090217015, 8.749547539913047, 8.613052344943455, 8.401742818425388, 9.245125456405741, 16.809856224402576, 49.83203936075869, 52.05397695898309, 21.966794273075166, 59.77978686940914, 14.021859723025123, 108.63461349878429, 73.91487960780019, 25.07024911649765, 191.51932812277207, 69.82605407459944, 30.360996156728998, 76.07909583639764, 60.264080637866336, 306.0138273437226, 32.827416626873124, 70.06152728253072, 43.57583161582616, 274.9655229998917, 363.0102502627091, 764.9718820622047, 1428.4615724337914, 33.94333183891076, 189.52596482282098, 503.63640217685037, 116.901050068822, 108.34857692068748, 374.67740079934146, 152.11530921911475, 121.53366284901526, 193.33591755156797, 60.184113168668105, 179.90787931120744, 91.66671636958046, 135.9013195713471, 311.88034236242817, 375.32554812995227, 254.99019086310312, 704.2352400202884, 351.17656481496726, 341.0554914400236, 3531.199830399697, 2627.2042045175554, 1863.4024634004077, 204.91123970719434, 750.0602843166031, 75.52263222562787, 30.311424006730395, 22.39013205342453, 21.946587270974753, 17.585722713775397, 16.465322945101516, 16.19792824286901, 16.17105475805772, 15.168995404550296, 15.014356629712768, 14.962726110201364, 13.747208962859986, 13.601462807392183, 13.11238175531857, 12.359235245345438, 11.976849340651874, 11.089769425305606, 10.905313689828848, 10.7529851589064, 10.130063388657296, 10.008314487307523, 9.869385392043341, 8.974078835080917, 8.550536053409715, 8.11805726899976, 7.7702728404017725, 7.16282809788977, 7.080021320468905, 7.069936791141845, 7.0428041683428555, 25.264768916745766, 17.89905485119817, 3246.772589927709, 3531.199830399697, 0.5022388975329325, 0.4098209936124563, 0.40735442364907604, 0.39406859513147235, 0.40588637558365076, 0.3817254407560669, 0.38172543872282017, 0.3818203243992541, 0.38182022241927766, 0.3817084881072538, 0.3817084946945348, 0.3818201215465999, 0.38170976799243156, 0.38170976799243156, 0.38170976799243156, 0.38170976697580816, 0.5546926362338541, 0.38659505312196524, 0.38659505312196524, 0.3827467675164647, 0.3804658106042856, 0.3804658106042856, 0.38046954836657026, 0.38046954836657026, 0.38046954836657026, 0.3804746180330672, 0.38047647955123404, 0.38047647955123404, 0.380479625750693, 0.38048007132684997, 0.43140639507162915, 0.43140639507162915, 0.43140639507162915, 0.43140639507162915, 0.4280716694515555, 0.40016531439116787, 0.40016531439116787, 0.40016531439116787, 0.40016531439116787, 0.40016531439116787, 0.5211248926492085, 1.1118702177092463, 1.1778994620875103, 0.3804658106042856, 0.3804658106042856, 0.38046954836657026, 0.38046954836657026, 0.38046954836657026, 0.3804746180330672, 0.38047647955123404, 0.38047647955123404, 0.380479625750693, 0.38048007132684997, 0.38048007132684997, 0.38048007132684997, 0.3804870817250527, 0.3804870817250527, 0.38048861140993745, 0.38048861140993745, 0.3804913739821106, 0.3804913937854953, 0.3804913937854953, 0.3804913937854953, 0.3804913937854953, 0.3804913937854953, 0.3804913937854953, 0.3804913937854953, 0.3804913937854953, 0.3804913937854953, 0.3804913937854953, 0.3804913937854953, 0.3804916908362666, 0.3804918987718065, 3246.772589927709, 3779.983253529348, 5130.226749292303, 1428.4615724337914, 152.11530921911475, 133.9225312171864, 5.899840440262939, 17.16431375387269, 341.0554914400236, 52.62524039465177, 272.3433099039471, 6.884165688793694, 120.04681872487457, 29.666392724773292, 2.937724950020498, 266.90733308243745, 3.5786203478251797, 40.17587655848979, 1087.5897765422576, 335.1468214722698, 8.060698295553408, 132.3645680841414, 1346.2188444580283, 36.65579507688253, 187.84955763655697, 17.019748829509737, 42.19134651590715, 31.03235070938021, 37.48214878094618, 12.782938347261828, 0.3804658106042856, 0.3804658106042856, 0.38046954836657026, 0.38046954836657026, 0.38046954836657026, 0.3804746180330672, 0.38047647955123404, 0.38047647955123404, 0.380479625750693, 0.38048007132684997, 0.38048007132684997, 0.38048007132684997, 0.3804870817250527, 0.3804870817250527, 0.38048861140993745, 0.38048861140993745, 0.3804913739821106, 0.3804913937854953, 0.3804913937854953, 0.3804913937854953, 0.3804913937854953, 0.3804913937854953, 0.3804913937854953, 0.3804913937854953, 0.3804913937854953, 0.3804913937854953, 0.3804913937854953, 0.3804913937854953, 0.3804916908362666, 0.3804918987718065, 3531.199830399697, 2627.2042045175554, 152.11530921911475, 133.9225312171864, 5.899840440262939, 17.16431375387269, 341.0554914400236, 52.62524039465177, 272.3433099039471, 6.884165688793694, 120.04681872487457, 29.666392724773292, 2.937724950020498, 266.90733308243745, 3.5786203478251797, 40.17587655848979, 1087.5897765422576, 335.1468214722698, 8.060698295553408, 132.3645680841414, 1346.2188444580283, 3246.772589927709, 36.65579507688253, 187.84955763655697, 17.019748829509737, 42.19134651590715, 31.03235070938021, 37.48214878094618, 12.782938347261828, 21.034737208657432, 0.3804658106042856, 0.3804658106042856, 0.38046954836657026, 0.38046954836657026, 0.38046954836657026, 0.3804746180330672, 0.38047647955123404, 0.38047647955123404, 0.380479625750693, 0.38048007132684997, 0.38048007132684997, 0.38048007132684997, 0.3804870817250527, 0.3804870817250527, 0.38048861140993745, 0.38048861140993745, 0.3804913739821106, 0.3804913937854953, 0.3804913937854953, 0.3804913937854953, 0.3804913937854953, 0.3804913937854953, 0.3804913937854953, 0.3804913937854953, 0.3804913937854953, 0.3804913937854953, 0.3804913937854953, 0.3804913937854953, 0.3804916908362666, 0.3804918987718065, 152.11530921911475, 133.9225312171864, 5.899840440262939, 17.16431375387269, 341.0554914400236, 52.62524039465177, 272.3433099039471, 6.884165688793694, 120.04681872487457, 29.666392724773292, 2.937724950020498, 266.90733308243745, 3.5786203478251797, 40.17587655848979, 1087.5897765422576, 335.1468214722698, 8.060698295553408, 132.3645680841414, 1346.2188444580283, 3246.772589927709, 36.65579507688253, 187.84955763655697, 17.019748829509737, 42.19134651590715, 31.03235070938021, 37.48214878094618, 12.782938347261828, 21.034737208657432, 27.28838241900344, 3779.983253529348, 0.3804658106042856, 0.3804658106042856, 0.38046954836657026, 0.38046954836657026, 0.38046954836657026, 0.3804746180330672, 0.38047647955123404, 0.38047647955123404, 0.380479625750693, 0.38048007132684997, 0.38048007132684997, 0.38048007132684997, 0.3804870817250527, 0.3804870817250527, 0.38048861140993745, 0.38048861140993745, 0.3804913739821106, 0.3804913937854953, 0.3804913937854953, 0.3804913937854953, 0.3804913937854953, 0.3804913937854953, 0.3804913937854953, 0.3804913937854953, 0.3804913937854953, 0.3804913937854953, 0.3804913937854953, 0.3804913937854953, 0.3804916908362666, 0.3804918987718065, 152.11530921911475, 133.9225312171864, 5.899840440262939, 17.16431375387269, 341.0554914400236, 52.62524039465177, 272.3433099039471, 6.884165688793694, 120.04681872487457, 29.666392724773292, 2.937724950020498, 266.90733308243745, 3.5786203478251797, 40.17587655848979, 1087.5897765422576, 335.1468214722698, 8.060698295553408, 132.3645680841414, 1346.2188444580283, 3246.772589927709, 36.65579507688253, 187.84955763655697, 17.019748829509737, 42.19134651590715, 31.03235070938021, 37.48214878094618, 12.782938347261828, 21.034737208657432, 27.28838241900344, 3779.983253529348], \"Category\": [\"Default\", \"Default\", \"Default\", \"Default\", \"Default\", \"Default\", \"Default\", \"Default\", \"Default\", \"Default\", \"Default\", \"Default\", \"Default\", \"Default\", \"Default\", \"Default\", \"Default\", \"Default\", \"Default\", \"Default\", \"Default\", \"Default\", \"Default\", \"Default\", \"Default\", \"Default\", \"Default\", \"Default\", \"Default\", \"Default\", \"Topic1\", \"Topic1\", \"Topic1\", \"Topic1\", \"Topic1\", \"Topic1\", \"Topic1\", \"Topic1\", \"Topic1\", \"Topic1\", \"Topic1\", \"Topic1\", \"Topic1\", \"Topic1\", \"Topic1\", \"Topic1\", \"Topic1\", \"Topic1\", \"Topic1\", \"Topic1\", \"Topic1\", \"Topic1\", \"Topic1\", \"Topic1\", \"Topic1\", \"Topic1\", \"Topic1\", \"Topic1\", \"Topic1\", \"Topic1\", \"Topic1\", \"Topic1\", \"Topic1\", \"Topic1\", \"Topic1\", \"Topic1\", \"Topic1\", \"Topic1\", \"Topic1\", \"Topic1\", \"Topic1\", \"Topic1\", \"Topic1\", \"Topic1\", \"Topic1\", \"Topic1\", \"Topic2\", \"Topic2\", \"Topic2\", \"Topic2\", \"Topic2\", \"Topic2\", \"Topic2\", \"Topic2\", \"Topic2\", \"Topic2\", \"Topic2\", \"Topic2\", \"Topic2\", \"Topic2\", \"Topic2\", \"Topic2\", \"Topic2\", \"Topic2\", \"Topic2\", \"Topic2\", \"Topic2\", \"Topic2\", \"Topic2\", \"Topic2\", \"Topic2\", \"Topic2\", \"Topic2\", \"Topic2\", \"Topic2\", \"Topic2\", \"Topic2\", \"Topic2\", \"Topic2\", \"Topic2\", \"Topic2\", \"Topic2\", \"Topic2\", \"Topic2\", \"Topic2\", \"Topic2\", \"Topic2\", \"Topic2\", \"Topic2\", \"Topic2\", \"Topic2\", \"Topic2\", \"Topic2\", \"Topic2\", \"Topic2\", \"Topic2\", \"Topic2\", \"Topic2\", \"Topic2\", \"Topic2\", \"Topic2\", \"Topic2\", \"Topic2\", \"Topic2\", \"Topic2\", \"Topic2\", \"Topic2\", \"Topic2\", \"Topic2\", \"Topic2\", \"Topic2\", \"Topic2\", \"Topic2\", \"Topic2\", \"Topic2\", \"Topic2\", \"Topic2\", \"Topic2\", \"Topic2\", \"Topic2\", \"Topic2\", \"Topic2\", \"Topic2\", \"Topic3\", \"Topic3\", \"Topic3\", \"Topic3\", \"Topic3\", \"Topic3\", \"Topic3\", \"Topic3\", \"Topic3\", \"Topic3\", \"Topic3\", \"Topic3\", \"Topic3\", \"Topic3\", \"Topic3\", \"Topic3\", \"Topic3\", \"Topic3\", \"Topic3\", \"Topic3\", \"Topic3\", \"Topic3\", \"Topic3\", \"Topic3\", \"Topic3\", \"Topic3\", \"Topic3\", \"Topic3\", \"Topic3\", \"Topic3\", \"Topic3\", \"Topic3\", \"Topic3\", \"Topic3\", \"Topic4\", \"Topic4\", \"Topic4\", \"Topic4\", \"Topic4\", \"Topic4\", \"Topic4\", \"Topic4\", \"Topic4\", \"Topic4\", \"Topic4\", \"Topic4\", \"Topic4\", \"Topic4\", \"Topic4\", \"Topic4\", \"Topic4\", \"Topic4\", \"Topic4\", \"Topic4\", \"Topic4\", \"Topic4\", \"Topic4\", \"Topic4\", \"Topic4\", \"Topic4\", \"Topic4\", \"Topic4\", \"Topic4\", \"Topic4\", \"Topic4\", \"Topic4\", \"Topic4\", \"Topic4\", \"Topic4\", \"Topic4\", \"Topic4\", \"Topic4\", \"Topic4\", \"Topic4\", \"Topic4\", \"Topic4\", \"Topic4\", \"Topic5\", \"Topic5\", \"Topic5\", \"Topic5\", \"Topic5\", \"Topic5\", \"Topic5\", \"Topic5\", \"Topic5\", \"Topic5\", \"Topic5\", \"Topic5\", \"Topic5\", \"Topic5\", \"Topic5\", \"Topic5\", \"Topic5\", \"Topic5\", \"Topic5\", \"Topic5\", \"Topic5\", \"Topic5\", \"Topic5\", \"Topic5\", \"Topic5\", \"Topic5\", \"Topic5\", \"Topic5\", \"Topic5\", \"Topic5\", \"Topic5\", \"Topic5\", \"Topic5\", \"Topic5\", \"Topic5\", \"Topic5\", \"Topic5\", \"Topic5\", \"Topic5\", \"Topic5\", \"Topic5\", \"Topic5\", \"Topic5\", \"Topic5\", \"Topic5\", \"Topic5\", \"Topic5\", \"Topic5\", \"Topic5\", \"Topic5\", \"Topic5\", \"Topic5\", \"Topic5\", \"Topic5\", \"Topic5\", \"Topic5\", \"Topic5\", \"Topic5\", \"Topic5\", \"Topic5\", \"Topic6\", \"Topic6\", \"Topic6\", \"Topic6\", \"Topic6\", \"Topic6\", \"Topic6\", \"Topic6\", \"Topic6\", \"Topic6\", \"Topic6\", \"Topic6\", \"Topic6\", \"Topic6\", \"Topic6\", \"Topic6\", \"Topic6\", \"Topic6\", \"Topic6\", \"Topic6\", \"Topic6\", \"Topic6\", \"Topic6\", \"Topic6\", \"Topic6\", \"Topic6\", \"Topic6\", \"Topic6\", \"Topic6\", \"Topic6\", \"Topic6\", \"Topic6\", \"Topic6\", \"Topic6\", \"Topic6\", \"Topic6\", \"Topic6\", \"Topic6\", \"Topic6\", \"Topic6\", \"Topic6\", \"Topic6\", \"Topic6\", \"Topic6\", \"Topic6\", \"Topic6\", \"Topic6\", \"Topic6\", \"Topic6\", \"Topic6\", \"Topic6\", \"Topic6\", \"Topic6\", \"Topic6\", \"Topic6\", \"Topic6\", \"Topic6\", \"Topic6\", \"Topic6\", \"Topic6\", \"Topic7\", \"Topic7\", \"Topic7\", \"Topic7\", \"Topic7\", \"Topic7\", \"Topic7\", \"Topic7\", \"Topic7\", \"Topic7\", \"Topic7\", \"Topic7\", \"Topic7\", \"Topic7\", \"Topic7\", \"Topic7\", \"Topic7\", \"Topic7\", \"Topic7\", \"Topic7\", \"Topic7\", \"Topic7\", \"Topic7\", \"Topic7\", \"Topic7\", \"Topic7\", \"Topic7\", \"Topic7\", \"Topic7\", \"Topic7\", \"Topic7\", \"Topic7\", \"Topic7\", \"Topic7\", \"Topic7\", \"Topic7\", \"Topic7\", \"Topic7\", \"Topic7\", \"Topic7\", \"Topic7\", \"Topic7\", \"Topic7\", \"Topic7\", \"Topic7\", \"Topic7\", \"Topic7\", \"Topic7\", \"Topic7\", \"Topic7\", \"Topic7\", \"Topic7\", \"Topic7\", \"Topic7\", \"Topic7\", \"Topic7\", \"Topic7\", \"Topic7\", \"Topic7\", \"Topic7\", \"Topic8\", \"Topic8\", \"Topic8\", \"Topic8\", \"Topic8\", \"Topic8\", \"Topic8\", \"Topic8\", \"Topic8\", \"Topic8\", \"Topic8\", \"Topic8\", \"Topic8\", \"Topic8\", \"Topic8\", \"Topic8\", \"Topic8\", \"Topic8\", \"Topic8\", \"Topic8\", \"Topic8\", \"Topic8\", \"Topic8\", \"Topic8\", \"Topic8\", \"Topic8\", \"Topic8\", \"Topic8\", \"Topic8\", \"Topic8\", \"Topic8\", \"Topic8\", \"Topic8\", \"Topic8\", \"Topic8\", \"Topic8\", \"Topic8\", \"Topic8\", \"Topic8\", \"Topic8\", \"Topic8\", \"Topic8\", \"Topic8\", \"Topic8\", \"Topic8\", \"Topic8\", \"Topic8\", \"Topic8\", \"Topic8\", \"Topic8\", \"Topic8\", \"Topic8\", \"Topic8\", \"Topic8\", \"Topic8\", \"Topic8\", \"Topic8\", \"Topic8\", \"Topic8\", \"Topic8\"], \"logprob\": [30.0, 29.0, 28.0, 27.0, 26.0, 25.0, 24.0, 23.0, 22.0, 21.0, 20.0, 19.0, 18.0, 17.0, 16.0, 15.0, 14.0, 13.0, 12.0, 11.0, 10.0, 9.0, 8.0, 7.0, 6.0, 5.0, 4.0, 3.0, 2.0, 1.0, -4.1094, -4.4674, -4.6511, -4.8464, -4.8875, -4.8938, -4.8631, -5.091, -5.2175, -5.256, -5.2713, -5.3112, -5.3477, -5.3523, -5.4393, -5.5232, -5.5286, -5.551, -5.5775, -5.1395, -5.6872, -5.3335, -5.905, -5.8946, -5.9293, -5.9587, -4.7381, -6.1192, -6.1537, -6.1674, -3.532, -3.9881, -3.8395, -4.9543, -4.7502, -5.0987, -4.7233, -4.9576, -4.7778, -3.9194, -4.2119, -5.1352, -4.5657, -5.1055, -5.2168, -4.9399, -5.907, -5.9558, -6.7508, -6.7735, -6.7912, -6.9684, -6.9891, -6.9924, -6.9959, -7.0131, -7.0258, -7.0708, -7.0736, -7.0893, -7.1355, -7.1362, -7.0794, -7.1685, -7.2427, -7.2538, -7.2523, -7.2753, -7.3245, -7.3436, -7.2706, -7.3433, -7.3711, -7.3794, -7.3957, -7.421, -7.3264, -6.7474, -5.8664, -5.8714, -6.5973, -5.8243, -6.9911, -5.3819, -5.7535, -6.5827, -5.1396, -5.8731, -6.4819, -5.8817, -6.0468, -5.0761, -6.4606, -6.002, -6.3045, -5.2345, -5.0861, -4.6713, -4.3195, -6.4664, -5.5389, -5.056, -5.821, -5.8618, -5.2511, -5.7141, -5.8459, -5.6376, -6.1727, -5.7003, -6.0199, -5.8666, -5.5393, -5.5071, -5.7152, -5.546, -5.7102, -5.7292, -5.5019, -5.6957, -5.7216, -5.8301, -5.8218, -3.4669, -4.3861, -4.6926, -4.7129, -4.9381, -5.0051, -5.0218, -5.0235, -5.0888, -5.0992, -5.1028, -5.1894, -5.2003, -5.2378, -5.2984, -5.3307, -5.4098, -5.427, -5.4415, -5.503, -5.5155, -5.5299, -5.6283, -5.6784, -5.7324, -5.7779, -5.8629, -5.8751, -5.8766, -5.8806, -4.7982, -5.5435, -4.8966, -4.9519, -5.5955, -6.7614, -6.827, -7.2572, -7.3832, -7.955, -7.955, -7.9566, -7.9578, -7.9583, -7.9583, -7.9587, -7.9603, -7.9603, -7.9603, -7.9603, -7.9551, -9.2492, -9.2492, -9.2598, -9.2815, -9.2815, -9.2815, -9.2815, -9.2815, -9.2815, -9.2815, -9.2815, -9.2815, -9.2815, -9.2307, -9.2307, -9.2307, -9.2307, -9.2496, -9.2716, -9.2716, -9.2716, -9.2716, -9.2716, -9.2619, -9.2598, -9.2691, -9.2715, -9.2715, -9.2715, -9.2715, -9.2715, -9.2715, -9.2715, -9.2715, -9.2715, -9.2715, -9.2715, -9.2715, -9.2715, -9.2715, -9.2715, -9.2715, -9.2715, -9.2715, -9.2715, -9.2715, -9.2715, -9.2715, -9.2715, -9.2715, -9.2715, -9.2715, -9.2715, -9.2715, -9.2715, -9.2715, -9.2715, -9.2715, -9.2715, -9.2715, -9.2715, -9.2715, -9.2715, -9.2715, -9.2715, -9.2715, -9.2715, -9.2715, -9.2715, -9.2715, -9.2715, -9.2715, -9.2715, -9.2715, -9.2715, -9.2715, -9.2715, -9.2715, -9.2715, -9.2715, -9.2715, -9.2715, -9.2715, -9.2715, -9.2715, -9.2715, -9.2715, -9.2715, -9.2715, -9.2715, -9.2715, -9.2715, -9.2715, -9.2715, -9.2715, -9.2715, -9.2715, -9.2715, -9.2715, -9.2715, -9.2715, -9.2715, -9.2715, -9.2715, -9.2715, -9.2715, -9.2715, -9.2715, -9.2715, -9.2715, -9.2715, -9.2715, -9.2715, -9.2715, -9.2715, -9.2715, -9.2715, -9.2715, -9.2715, -9.2715, -9.2715, -9.2715, -9.2715, -9.2715, -9.2715, -9.2715, -9.2715, -9.2715, -9.2715, -9.2715, -9.2715, -9.2715, -9.2715, -9.2715, -9.2715, -9.2715, -9.2715, -9.2715, -9.2715, -9.2715, -9.2715, -9.2715, -9.2715, -9.2715, -9.2715, -9.2715, -9.2715, -9.2715, -9.2715, -9.2715, -9.2715, -9.2715, -9.2715, -9.2715, -9.2715, -9.2715, -9.2715, -9.2715, -9.2715, -9.2715, -9.2715, -9.2715, -9.2715, -9.2715, -9.2715, -9.2715, -9.2715, -9.2715, -9.2715, -9.2715, -9.2715, -9.2715, -9.2715, -9.2715, -9.2715, -9.2715, -9.2715, -9.2715, -9.2715, -9.2715, -9.2715, -9.2715, -9.2715, -9.2715, -9.2715, -9.2715, -9.2715, -9.2715, -9.2715, -9.2715, -9.2715, -9.2715, -9.2715, -9.2715, -9.2715, -9.2715, -9.2715, -9.2715, -9.2715, -9.2715, -9.2715, -9.2715, -9.2715, -9.2715, -9.2715, -9.2715, -9.2715, -9.2715, -9.2715, -9.2715, -9.2715, -9.2715, -9.2715, -9.2715, -9.2715, -9.2715, -9.2715, -9.2715, -9.2715, -9.2715, -9.2715, -9.2715, -9.2715, -9.2715, -9.2715, -9.2715, -9.2715, -9.2715, -9.2715, -9.2715, -9.2715, -9.2715, -9.2715, -9.2715, -9.2715, -9.2715, -9.2715, -9.2715, -9.2715, -9.2715, -9.2715, -9.2715, -9.2715, -9.2715, -9.2715, -9.2715, -9.2715, -9.2715, -9.2715, -9.2715, -9.2715, -9.2715, -9.2715, -9.2715, -9.2715, -9.2715, -9.2715, -9.2715, -9.2715, -9.2715, -9.2715, -9.2715, -9.2715, -9.2715, -9.2715, -9.2715], \"loglift\": [30.0, 29.0, 28.0, 27.0, 26.0, 25.0, 24.0, 23.0, 22.0, 21.0, 20.0, 19.0, 18.0, 17.0, 16.0, 15.0, 14.0, 13.0, 12.0, 11.0, 10.0, 9.0, 8.0, 7.0, 6.0, 5.0, 4.0, 3.0, 2.0, 1.0, 0.0886, 0.0886, 0.0885, 0.0885, 0.0885, 0.0885, 0.0885, 0.0885, 0.0884, 0.0884, 0.0884, 0.0884, 0.0884, 0.0884, 0.0884, 0.0883, 0.0883, 0.0883, 0.0883, 0.0883, 0.0883, 0.0882, 0.0882, 0.0882, 0.0882, 0.0881, 0.0881, 0.0881, 0.0881, 0.0881, 0.0817, 0.0831, 0.0797, 0.0874, 0.0846, 0.088, 0.0836, 0.0848, 0.082, 0.0678, 0.071, 0.0791, 0.0607, 0.0594, 0.0684, -0.0477, 2.6272, 2.6237, 2.6196, 2.6194, 2.6192, 2.6165, 2.6161, 2.6161, 2.616, 2.6157, 2.6155, 2.6147, 2.6147, 2.6144, 2.6135, 2.6135, 2.6132, 2.6129, 2.6113, 2.611, 2.6108, 2.6104, 2.6095, 2.6091, 2.6091, 2.609, 2.6084, 2.6082, 2.6076, 2.6072, 2.6061, 2.5872, 2.3815, 2.3329, 2.4698, 2.2416, 2.5248, 2.0867, 2.1002, 2.3522, 1.762, 2.0375, 2.2615, 1.9431, 2.011, 1.3569, 2.2048, 1.9052, 2.0776, 1.3054, 1.1761, 0.8454, 0.5727, 2.1655, 1.3732, 0.8787, 1.5742, 1.6094, 0.9795, 1.4178, 1.5104, 1.2546, 1.8865, 1.2638, 1.6185, 1.3781, 0.8747, 0.7217, 0.9001, 0.0535, 0.5851, 0.5953, -1.5147, -1.4128, -1.0952, 1.004, -0.2854, 4.3652, 4.359, 4.3553, 4.355, 4.3514, 4.3502, 4.3499, 4.3499, 4.3486, 4.3483, 4.3483, 4.3464, 4.3461, 4.3453, 4.3438, 4.3429, 4.3408, 4.3403, 4.3399, 4.338, 4.3377, 4.3372, 4.3339, 4.3321, 4.3301, 4.3283, 4.3248, 4.3242, 4.3242, 4.324, 4.129, 3.7283, -0.8254, -0.9647, 7.2497, 6.2872, 6.2277, 5.8306, 5.6751, 5.1647, 5.1647, 5.1628, 5.1616, 5.1614, 5.1614, 5.1607, 5.1593, 5.1593, 5.1593, 5.1593, 4.7909, 3.8578, 3.8578, 3.8572, 3.8414, 3.8414, 3.8414, 3.8414, 3.8414, 3.8414, 3.8414, 3.8414, 3.8414, 3.8414, 3.7666, 3.7666, 3.7666, 3.7666, 3.7554, 3.8008, 3.8008, 3.8008, 3.8008, 3.8008, 3.5464, 2.7907, 2.7237, 3.8514, 3.8514, 3.8514, 3.8514, 3.8514, 3.8514, 3.8514, 3.8514, 3.8514, 3.8514, 3.8514, 3.8514, 3.8514, 3.8514, 3.8514, 3.8514, 3.8513, 3.8513, 3.8513, 3.8513, 3.8513, 3.8513, 3.8513, 3.8513, 3.8513, 3.8513, 3.8513, 3.8513, 3.8513, 3.8513, -5.2004, -5.3524, -5.6579, -4.3793, -2.1396, -2.0122, 1.1101, 0.0422, -2.947, -1.0781, -2.722, 0.9558, -1.9028, -0.505, 1.8074, -2.7018, 1.6101, -0.8082, -4.1067, -2.9295, 0.7981, -2.0005, -4.32, -0.7165, -2.3506, 0.0507, -0.8572, -0.55, -0.7388, 0.3369, 3.8514, 3.8514, 3.8514, 3.8514, 3.8514, 3.8514, 3.8514, 3.8514, 3.8514, 3.8514, 3.8514, 3.8514, 3.8514, 3.8514, 3.8514, 3.8514, 3.8513, 3.8513, 3.8513, 3.8513, 3.8513, 3.8513, 3.8513, 3.8513, 3.8513, 3.8513, 3.8513, 3.8513, 3.8513, 3.8513, -5.2843, -4.9886, -2.1396, -2.0122, 1.1101, 0.0422, -2.947, -1.0781, -2.722, 0.9558, -1.9028, -0.505, 1.8074, -2.7018, 1.6101, -0.8082, -4.1067, -2.9295, 0.7981, -2.0005, -4.32, -5.2004, -0.7165, -2.3506, 0.0507, -0.8572, -0.55, -0.7388, 0.3369, -0.1611, 3.8514, 3.8514, 3.8514, 3.8514, 3.8514, 3.8514, 3.8514, 3.8514, 3.8514, 3.8514, 3.8514, 3.8514, 3.8514, 3.8514, 3.8514, 3.8514, 3.8513, 3.8513, 3.8513, 3.8513, 3.8513, 3.8513, 3.8513, 3.8513, 3.8513, 3.8513, 3.8513, 3.8513, 3.8513, 3.8513, -2.1396, -2.0122, 1.1101, 0.0422, -2.947, -1.0781, -2.722, 0.9558, -1.9028, -0.505, 1.8074, -2.7018, 1.6101, -0.8082, -4.1067, -2.9295, 0.7981, -2.0005, -4.32, -5.2004, -0.7165, -2.3506, 0.0507, -0.8572, -0.55, -0.7388, 0.3369, -0.1611, -0.4214, -5.3524, 3.8514, 3.8514, 3.8514, 3.8514, 3.8514, 3.8514, 3.8514, 3.8514, 3.8514, 3.8514, 3.8514, 3.8514, 3.8514, 3.8514, 3.8514, 3.8514, 3.8513, 3.8513, 3.8513, 3.8513, 3.8513, 3.8513, 3.8513, 3.8513, 3.8513, 3.8513, 3.8513, 3.8513, 3.8513, 3.8513, -2.1396, -2.0122, 1.1101, 0.0422, -2.947, -1.0781, -2.722, 0.9558, -1.9028, -0.505, 1.8074, -2.7018, 1.6101, -0.8082, -4.1067, -2.9295, 0.7981, -2.0005, -4.32, -5.2004, -0.7165, -2.3506, 0.0507, -0.8572, -0.55, -0.7388, 0.3369, -0.1611, -0.4214, -5.3524]}, \"token.table\": {\"Topic\": [1, 2, 1, 2, 1, 1, 1, 2, 1, 2, 1, 2, 1, 1, 1, 2, 2, 1, 1, 2, 3, 1, 1, 1, 2, 1, 2, 1, 1, 2, 1, 2, 1, 1, 3, 1, 1, 2, 1, 1, 2, 1, 2, 1, 2, 2, 1, 2, 1, 2, 1, 2, 3, 1, 3, 1, 2, 1, 2, 1, 2, 1, 2, 2, 1, 3, 3, 2, 2, 2, 3, 2, 1, 3, 3, 3, 1, 2, 1, 1, 1, 1, 2, 1, 2, 2, 1, 2, 1, 2, 1, 2, 2, 1, 2, 1, 1, 2, 2, 1, 2, 1, 1, 2, 1, 2, 1, 1, 1, 2, 3, 1, 1, 3, 2, 1, 2, 1, 2, 1, 2, 3, 2, 3, 1, 2, 3, 1, 2, 1, 2, 3, 1, 1, 1, 3, 1, 2, 1, 3, 1, 2, 3, 1, 2, 2, 1, 3, 3, 3, 3, 1, 2, 1, 2, 1, 2, 2, 1, 2, 1, 3, 3, 1, 2, 3, 1, 2, 2, 2, 3, 3, 1, 2, 3, 2, 1, 2, 1, 2, 1, 2, 1, 2, 3, 1, 2, 3, 1, 2, 2, 1, 1, 3, 1, 2, 1, 1, 2, 1, 2, 3, 1, 2, 1, 2, 2, 2, 2, 1, 2, 1, 2, 1, 2, 1, 2, 2, 1, 1, 3, 1, 2, 1, 2, 1, 1, 2, 1, 2, 2, 3, 2, 1, 2, 3, 1, 1, 3, 2, 1, 2, 1, 2, 3, 1, 2, 1, 2, 1, 2, 2, 3, 3, 2, 1, 2, 1, 2, 3, 1, 1, 1, 2, 1, 2, 1, 2, 1, 2, 3], \"Freq\": [0.7034137494068508, 0.29582821236736717, 0.8587053944903481, 0.1418730651766662, 1.0169766556826743, 0.9904270129159334, 0.8708260311129721, 0.12901126386858847, 0.9121098476707039, 0.07600915397255865, 0.9950675861859031, 0.003671836111387096, 1.0168261945517763, 0.9996099961217475, 0.5730389993052285, 0.43820629358635127, 1.0204322788262294, 1.0211983936682252, 0.9741208568432099, 0.003746618680166192, 0.022479712080997152, 0.838311893527118, 0.995622334257381, 0.970954327427856, 0.028503394081688956, 0.993594385103105, 0.005967533844463093, 0.9924698464912287, 0.9999459004281268, 1.016731602929528, 0.9292517006651769, 0.06799402687793978, 0.9998374376804119, 0.9945260749142567, 0.0055439669707205395, 0.982109375188642, 0.9262731421313619, 0.07452772407953487, 0.9988396521178095, 0.82955399365612, 0.165910798731224, 0.7089375924509005, 0.29001992418445927, 0.827060374290992, 0.18675556838828852, 1.016980575736303, 0.2852424511170281, 0.7131061277925703, 0.5130388377381613, 0.5130388377381613, 0.9910096814588747, 0.008994748843994057, 0.9990438065335175, 0.9999907888203766, 0.9356138550880472, 0.7221895883540161, 0.2777652262900062, 0.7175797792515664, 0.2849213829381219, 0.99313349077657, 0.006822310535265937, 0.4646217067220383, 0.530996236253758, 1.0109112960005104, 0.19790404640059642, 0.7916161856023857, 1.0024911162260213, 1.0286246184667787, 1.0091578243406798, 0.9288228701752446, 0.9008692672415934, 0.974934138161621, 0.9794947469821149, 0.01802751068065242, 0.982575714493615, 0.9666932816291602, 0.42343778394825127, 0.5799256606247789, 0.999688343799375, 0.9986793329458311, 1.0001100838687471, 0.22074151772849548, 0.7826290174010295, 0.9960848718752668, 0.0039658322702399475, 0.9885923381757891, 0.990244390533354, 0.009660920883252233, 0.6501224749928017, 0.35072396677243256, 0.9986069380860558, 0.9932828032197081, 1.0139065771053424, 0.33508576459212447, 0.6397091869486012, 0.9987319036570497, 0.9989588464188011, 0.000939754324006398, 0.970085501441085, 0.9997304338357287, 1.0229042769408494, 0.9988174768971652, 0.713753187282893, 0.28697293096941057, 0.9994029224348463, 0.0006553461786458009, 0.9991248250638171, 0.9996903629977949, 0.9724147282135677, 0.024149372389409795, 0.003756569038352635, 0.9997489477669013, 0.9995133198710833, 0.9717392154011804, 0.8993855434497299, 0.5795759680654491, 0.41771240941653986, 0.49948017365658676, 0.49948017365658676, 0.9792705499786424, 0.015858632388318094, 0.0048142276893108505, 0.9734859783610725, 0.9914293408005006, 0.9799945591051975, 0.015555469192145992, 0.004148125117905598, 0.9989969057208112, 0.9909988737588429, 0.07131721610065121, 0.9271238093084657, 0.9886975876417834, 0.9999999260854017, 0.9994951468279227, 0.9999535342751867, 0.9919052036284215, 0.9934597031036557, 0.006776669188974459, 0.9903923808568904, 0.010343523559863085, 0.9244070205592739, 0.0752589433020607, 0.9894221644402948, 0.8235610918568351, 0.17647737682646467, 0.9784573194024873, 1.00014374817265, 0.9456464970541529, 0.9888591564541181, 0.9901078618935504, 0.9897258536365284, 0.3178331840075996, 0.6691224926475781, 0.6327269296541232, 0.35999980480320803, 0.7658185954771594, 0.23415316768186525, 1.020379114828415, 0.29643296134093755, 0.6916769097955209, 0.8489688909677985, 0.9772676245102488, 0.9871606540189147, 1.0001394129938177, 1.008915018439123, 0.9991692420019308, 0.23932749818794816, 0.7578704109285025, 1.0259800683046383, 0.9904115602620877, 0.9709338613422114, 0.9557795498977288, 0.9164494298353039, 0.08350824243826367, 1.0024337601270648, 1.0137541351882722, 0.9072581360641188, 0.09180588281601201, 0.13656976811027535, 0.8649418646984105, 0.6368334680621497, 0.35994935151338897, 0.8086956922236996, 0.19216531300365142, 1.0132343203521021, 0.8052266934491975, 0.1952064711391994, 0.9930797932986964, 0.7499899751494677, 0.25344488815395805, 1.021215464631539, 0.999449907057236, 0.9959222172607847, 0.004098445338521748, 0.4439603585057349, 0.5442094717167073, 0.9999366027145825, 0.9964435703849783, 0.004067116613816238, 0.8525931730317585, 0.14920380528055774, 0.9299743143156184, 0.8722670767244259, 0.12740979772379254, 0.40587227036265267, 0.5817502541864689, 0.9464944952211091, 0.9864695122891496, 0.9932458326001561, 0.9214969512521984, 0.07852354973076378, 0.8327103452257366, 0.16732641159952008, 0.9824131658901483, 0.017509107179754676, 0.6747101838103156, 0.32912691893186125, 0.9624931568686036, 0.9997000499007536, 0.9798084880882959, 0.01855697894106621, 0.5317017783467021, 0.4818547366266987, 0.9989644219534151, 0.9580132172684893, 1.0000029451173036, 0.8713565501195374, 0.1281406691352261, 0.4360215122802029, 0.5737125161581617, 0.9290473753816624, 1.0028884485411198, 0.952183394908929, 0.059488908569504444, 0.9518225371120711, 0.9939222833235576, 0.9994905984004799, 0.9999709473659687, 1.008682584734767, 0.9929600927622715, 0.9989852495643272, 0.0016256879569801906, 0.24974076448075416, 0.7492222934422624, 1.001932950702615, 0.7346375567240827, 0.26548782990523784, 0.5138340740821434, 0.4852877366331354, 0.38299127680499295, 0.6186782163772963, 0.44695097403226725, 0.5028198457863007, 0.985457448119936, 1.0000535748321546, 0.7448256325016467, 0.2556864111572817, 0.9379935050351997, 0.060777116956924386, 0.9877806445428509, 1.0003550803263084, 1.0000523242052946, 0.9452573544085006, 0.05466227296297394, 0.9950214460433454, 0.0051422296953144465, 0.8272403385404291, 0.1731433266712526, 0.8220215977450835, 0.17274366909135813, 0.003971118829686393], \"Term\": [\"ability\", \"ability\", \"able\", \"able\", \"absorb\", \"account\", \"action\", \"action\", \"actual\", \"actual\", \"actually\", \"actually\", \"adaption\", \"add\", \"addition\", \"addition\", \"additionally\", \"adjust\", \"adventure\", \"adventure\", \"adventure\", \"adversary\", \"ago\", \"also\", \"also\", \"always\", \"always\", \"amaze\", \"amazing\", \"ambitious\", \"amount\", \"amount\", \"animation\", \"anime\", \"anime\", \"answer\", \"ant\", \"ant\", \"anti\", \"apart\", \"apart\", \"appeal\", \"appeal\", \"appearance\", \"appearance\", \"application\", \"apply\", \"apply\", \"approach\", \"approach\", \"arc\", \"arc\", \"arco\", \"art\", \"aventura\", \"battle\", \"battle\", \"cast\", \"cast\", \"character\", \"character\", \"choice\", \"choice\", \"coherent\", \"com\", \"com\", \"como\", \"compensate\", \"conscience\", \"contrary\", \"desarrollo\", \"detract\", \"do\", \"do\", \"el\", \"ele\", \"element\", \"element\", \"end\", \"enjoy\", \"enjoyment\", \"entirely\", \"entirely\", \"episode\", \"episode\", \"establish\", \"even\", \"even\", \"event\", \"event\", \"ever\", \"excellence\", \"experienced\", \"exposition\", \"exposition\", \"favorite\", \"feel\", \"feel\", \"fictional\", \"first\", \"frequently\", \"friend\", \"game\", \"game\", \"get\", \"get\", \"give\", \"go\", \"gon\", \"gon\", \"gon\", \"good\", \"great\", \"historia\", \"horrifyingly\", \"human\", \"human\", \"humanity\", \"humanity\", \"hunter\", \"hunter\", \"hunter\", \"individuality\", \"isso\", \"killua\", \"killua\", \"killua\", \"know\", \"largely\", \"limited\", \"limited\", \"lo\", \"long\", \"look\", \"love\", \"mais\", \"make\", \"make\", \"manga\", \"manga\", \"many\", \"many\", \"mas\", \"mean\", \"mean\", \"morality\", \"much\", \"mundo\", \"muy\", \"nada\", \"nao\", \"narrative\", \"narrative\", \"nature\", \"nature\", \"nen\", \"nen\", \"nen_user\", \"occur\", \"occur\", \"offensive\", \"onde\", \"os\", \"overall\", \"overarching\", \"para\", \"parallel\", \"parallel\", \"partially\", \"peer\", \"personagen\", \"personaje\", \"plot\", \"plot\", \"por\", \"portrayal\", \"power\", \"power\", \"presence\", \"presence\", \"present\", \"present\", \"protagonist\", \"protagonist\", \"protagonista\", \"quality\", \"quality\", \"que\", \"rather\", \"rather\", \"react\", \"really\", \"review\", \"review\", \"rule\", \"rule\", \"say\", \"see\", \"see\", \"seem\", \"seem\", \"ser\", \"series\", \"series\", \"serve\", \"serve\", \"sexual\", \"ship\", \"shippuden\", \"shonen\", \"shonen\", \"shounen\", \"shounen\", \"show\", \"show\", \"situation\", \"situation\", \"society\", \"sound\", \"soundtrack\", \"soundtrack\", \"standard\", \"standard\", \"start\", \"stellar\", \"story\", \"strong\", \"strong\", \"structure\", \"structure\", \"stupidity\", \"su\", \"subplot\", \"subvert\", \"subvert\", \"sus\", \"thing\", \"think\", \"tiene\", \"tightly\", \"time\", \"time\", \"title\", \"title\", \"todo\", \"togashi\", \"togashi\", \"trope\", \"trope\", \"ultimately\", \"ultimately\", \"un\", \"un\", \"ver\", \"vice\", \"viewer\", \"viewer\", \"villain\", \"villain\", \"voce\", \"want\", \"watch\", \"way\", \"way\", \"well\", \"well\", \"work\", \"work\", \"world\", \"world\", \"world\"]}, \"R\": 30, \"lambda.step\": 0.01, \"plot.opts\": {\"xlab\": \"PC1\", \"ylab\": \"PC2\"}, \"topic.order\": [5, 8, 3, 1, 7, 2, 4, 6]};\n",
       "\n",
       "function LDAvis_load_lib(url, callback){\n",
       "  var s = document.createElement('script');\n",
       "  s.src = url;\n",
       "  s.async = true;\n",
       "  s.onreadystatechange = s.onload = callback;\n",
       "  s.onerror = function(){console.warn(\"failed to load library \" + url);};\n",
       "  document.getElementsByTagName(\"head\")[0].appendChild(s);\n",
       "}\n",
       "\n",
       "if(typeof(LDAvis) !== \"undefined\"){\n",
       "   // already loaded: just create the visualization\n",
       "   !function(LDAvis){\n",
       "       new LDAvis(\"#\" + \"ldavis_el2591224654377880804301334980\", ldavis_el2591224654377880804301334980_data);\n",
       "   }(LDAvis);\n",
       "}else if(typeof define === \"function\" && define.amd){\n",
       "   // require.js is available: use it to load d3/LDAvis\n",
       "   require.config({paths: {d3: \"https://d3js.org/d3.v5\"}});\n",
       "   require([\"d3\"], function(d3){\n",
       "      window.d3 = d3;\n",
       "      LDAvis_load_lib(\"https://cdn.jsdelivr.net/gh/bmabey/pyLDAvis@3.3.1/pyLDAvis/js/ldavis.v3.0.0.js\", function(){\n",
       "        new LDAvis(\"#\" + \"ldavis_el2591224654377880804301334980\", ldavis_el2591224654377880804301334980_data);\n",
       "      });\n",
       "    });\n",
       "}else{\n",
       "    // require.js not available: dynamically load d3 & LDAvis\n",
       "    LDAvis_load_lib(\"https://d3js.org/d3.v5.js\", function(){\n",
       "         LDAvis_load_lib(\"https://cdn.jsdelivr.net/gh/bmabey/pyLDAvis@3.3.1/pyLDAvis/js/ldavis.v3.0.0.js\", function(){\n",
       "                 new LDAvis(\"#\" + \"ldavis_el2591224654377880804301334980\", ldavis_el2591224654377880804301334980_data);\n",
       "            })\n",
       "         });\n",
       "}\n",
       "</script>"
      ],
      "text/plain": [
       "PreparedData(topic_coordinates=              x         y  topics  cluster       Freq\n",
       "topic                                                \n",
       "4      0.325255  0.145413       1        1  91.515008\n",
       "7      0.178211 -0.163101       2        1   7.186171\n",
       "2     -0.179620  0.148758       3        1   1.265930\n",
       "0     -0.065628 -0.026904       4        1   0.018352\n",
       "6     -0.064554 -0.026041       5        1   0.003742\n",
       "1     -0.064554 -0.026041       6        1   0.003630\n",
       "3     -0.064554 -0.026041       7        1   0.003618\n",
       "5     -0.064554 -0.026041       8        1   0.003548, topic_info=            Term         Freq        Total Category  logprob  loglift\n",
       "19         anime  3246.000000  3246.000000  Default  30.0000  30.0000\n",
       "254       hunter  3531.000000  3531.000000  Default  29.0000  29.0000\n",
       "453       series  1428.000000  1428.000000  Default  28.0000  28.0000\n",
       "676      shounen   764.000000   764.000000  Default  27.0000  27.0000\n",
       "230          gon  1863.000000  1863.000000  Default  26.0000  26.0000\n",
       "..           ...          ...          ...      ...      ...      ...\n",
       "25    appearance     0.000635    37.482149   Topic8  -9.2715  -0.7388\n",
       "26   application     0.000635    12.782938   Topic8  -9.2715   0.3369\n",
       "27         apply     0.000635    21.034737   Topic8  -9.2715  -0.1611\n",
       "28      approach     0.000635    27.288382   Topic8  -9.2715  -0.4214\n",
       "29           arc     0.000635  3779.983254   Topic8  -9.2715  -5.3524\n",
       "\n",
       "[470 rows x 6 columns], token_table=      Topic      Freq     Term\n",
       "term                          \n",
       "0         1  0.703414  ability\n",
       "0         2  0.295828  ability\n",
       "1         1  0.858705     able\n",
       "1         2  0.141873     able\n",
       "2         1  1.016977   absorb\n",
       "...     ...       ...      ...\n",
       "573       1  0.827240     work\n",
       "573       2  0.173143     work\n",
       "574       1  0.822022    world\n",
       "574       2  0.172744    world\n",
       "574       3  0.003971    world\n",
       "\n",
       "[271 rows x 3 columns], R=30, lambda_step=0.01, plot_opts={'xlab': 'PC1', 'ylab': 'PC2'}, topic_order=[5, 8, 3, 1, 7, 2, 4, 6])"
      ]
     },
     "execution_count": 22,
     "metadata": {},
     "output_type": "execute_result"
    }
   ],
   "source": [
    "# Generate a visualization of the topic models\n",
    "\n",
    "import pyLDAvis.gensim_models\n",
    "pyLDAvis.enable_notebook()\n",
    "vis = pyLDAvis.gensim_models.prepare(lda_model, corpus, id2word)\n",
    "vis"
   ]
  },
  {
   "cell_type": "code",
   "execution_count": 23,
   "metadata": {},
   "outputs": [],
   "source": [
    "# Save the data frame as a CSV file\n",
    "# job_datas.to_csv(r'D:\\UMD Senior College Work\\Spring 2021\\INST447-0101\\Programming Assignment 2\\Chan_Matthew_INST447_PA2.csv')"
   ]
  },
  {
   "cell_type": "code",
   "execution_count": 24,
   "metadata": {},
   "outputs": [],
   "source": [
    "# Week 9 Topic Modelling\n",
    "# ner_corpus = ' '.join(ner_df['Name'])\n",
    "# corp = open(r'D:\\UMD Senior College Work\\Spring 2021\\INST447-0101\\Week 9\\corpus.txt',\"w\")\n",
    "# corp.writelines(ner_corpus)\n",
    "# corp.close()"
   ]
  },
  {
   "cell_type": "code",
   "execution_count": null,
   "metadata": {},
   "outputs": [],
   "source": []
  },
  {
   "cell_type": "code",
   "execution_count": null,
   "metadata": {},
   "outputs": [],
   "source": []
  },
  {
   "cell_type": "code",
   "execution_count": null,
   "metadata": {},
   "outputs": [],
   "source": []
  },
  {
   "cell_type": "code",
   "execution_count": null,
   "metadata": {},
   "outputs": [],
   "source": []
  },
  {
   "cell_type": "code",
   "execution_count": null,
   "metadata": {},
   "outputs": [],
   "source": []
  },
  {
   "cell_type": "code",
   "execution_count": null,
   "metadata": {},
   "outputs": [],
   "source": []
  },
  {
   "cell_type": "code",
   "execution_count": null,
   "metadata": {},
   "outputs": [],
   "source": []
  },
  {
   "cell_type": "code",
   "execution_count": null,
   "metadata": {},
   "outputs": [],
   "source": []
  }
 ],
 "metadata": {
  "kernelspec": {
   "display_name": "Python 3",
   "language": "python",
   "name": "python3"
  },
  "language_info": {
   "codemirror_mode": {
    "name": "ipython",
    "version": 3
   },
   "file_extension": ".py",
   "mimetype": "text/x-python",
   "name": "python",
   "nbconvert_exporter": "python",
   "pygments_lexer": "ipython3",
   "version": "3.8.5"
  }
 },
 "nbformat": 4,
 "nbformat_minor": 4
}
