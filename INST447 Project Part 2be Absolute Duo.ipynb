{
 "cells": [
  {
   "cell_type": "markdown",
   "metadata": {},
   "source": [
    "### INST447 Project Part 2\n",
    "#### Members: Alexander Chui and Matthew Chan"
   ]
  },
  {
   "cell_type": "markdown",
   "metadata": {},
   "source": [
    "### What factors affect ratings for an anime?"
   ]
  },
  {
   "cell_type": "code",
   "execution_count": 1,
   "metadata": {},
   "outputs": [],
   "source": [
    "import warnings\n",
    "warnings.filterwarnings('ignore')"
   ]
  },
  {
   "cell_type": "code",
   "execution_count": 2,
   "metadata": {},
   "outputs": [],
   "source": [
    "#Importing the required libraries\n",
    "import pandas as pd\n",
    "from bs4 import BeautifulSoup\n",
    "from urllib.request import urlopen \n",
    "import numpy as np\n",
    "from requests import get"
   ]
  },
  {
   "cell_type": "code",
   "execution_count": 3,
   "metadata": {},
   "outputs": [],
   "source": [
    "#libraries imported for handling rate limits and console formatting\n",
    "from time import time, sleep\n",
    "from random import randint\n",
    "from warnings import warn\n",
    "from IPython.core.display import clear_output"
   ]
  },
  {
   "cell_type": "code",
   "execution_count": 4,
   "metadata": {},
   "outputs": [
    {
     "name": "stderr",
     "output_type": "stream",
     "text": [
      "C:\\Users\\MaNinjaChan\\anaconda3\\lib\\site-packages\\sklearn\\linear_model\\_least_angle.py:34: DeprecationWarning: `np.float` is a deprecated alias for the builtin `float`. To silence this warning, use `float` by itself. Doing this will not modify any behavior and is safe. If you specifically wanted the numpy scalar type, use `np.float64` here.\n",
      "Deprecated in NumPy 1.20; for more details and guidance: https://numpy.org/devdocs/release/1.20.0-notes.html#deprecations\n",
      "  method='lar', copy_X=True, eps=np.finfo(np.float).eps,\n",
      "C:\\Users\\MaNinjaChan\\anaconda3\\lib\\site-packages\\sklearn\\linear_model\\_least_angle.py:164: DeprecationWarning: `np.float` is a deprecated alias for the builtin `float`. To silence this warning, use `float` by itself. Doing this will not modify any behavior and is safe. If you specifically wanted the numpy scalar type, use `np.float64` here.\n",
      "Deprecated in NumPy 1.20; for more details and guidance: https://numpy.org/devdocs/release/1.20.0-notes.html#deprecations\n",
      "  method='lar', copy_X=True, eps=np.finfo(np.float).eps,\n",
      "C:\\Users\\MaNinjaChan\\anaconda3\\lib\\site-packages\\sklearn\\linear_model\\_least_angle.py:281: DeprecationWarning: `np.float` is a deprecated alias for the builtin `float`. To silence this warning, use `float` by itself. Doing this will not modify any behavior and is safe. If you specifically wanted the numpy scalar type, use `np.float64` here.\n",
      "Deprecated in NumPy 1.20; for more details and guidance: https://numpy.org/devdocs/release/1.20.0-notes.html#deprecations\n",
      "  eps=np.finfo(np.float).eps, copy_Gram=True, verbose=0,\n",
      "C:\\Users\\MaNinjaChan\\anaconda3\\lib\\site-packages\\sklearn\\linear_model\\_least_angle.py:865: DeprecationWarning: `np.float` is a deprecated alias for the builtin `float`. To silence this warning, use `float` by itself. Doing this will not modify any behavior and is safe. If you specifically wanted the numpy scalar type, use `np.float64` here.\n",
      "Deprecated in NumPy 1.20; for more details and guidance: https://numpy.org/devdocs/release/1.20.0-notes.html#deprecations\n",
      "  eps=np.finfo(np.float).eps, copy_X=True, fit_path=True,\n",
      "C:\\Users\\MaNinjaChan\\anaconda3\\lib\\site-packages\\sklearn\\linear_model\\_least_angle.py:1121: DeprecationWarning: `np.float` is a deprecated alias for the builtin `float`. To silence this warning, use `float` by itself. Doing this will not modify any behavior and is safe. If you specifically wanted the numpy scalar type, use `np.float64` here.\n",
      "Deprecated in NumPy 1.20; for more details and guidance: https://numpy.org/devdocs/release/1.20.0-notes.html#deprecations\n",
      "  eps=np.finfo(np.float).eps, copy_X=True, fit_path=True,\n",
      "C:\\Users\\MaNinjaChan\\anaconda3\\lib\\site-packages\\sklearn\\linear_model\\_least_angle.py:1149: DeprecationWarning: `np.float` is a deprecated alias for the builtin `float`. To silence this warning, use `float` by itself. Doing this will not modify any behavior and is safe. If you specifically wanted the numpy scalar type, use `np.float64` here.\n",
      "Deprecated in NumPy 1.20; for more details and guidance: https://numpy.org/devdocs/release/1.20.0-notes.html#deprecations\n",
      "  eps=np.finfo(np.float).eps, positive=False):\n",
      "C:\\Users\\MaNinjaChan\\anaconda3\\lib\\site-packages\\sklearn\\linear_model\\_least_angle.py:1379: DeprecationWarning: `np.float` is a deprecated alias for the builtin `float`. To silence this warning, use `float` by itself. Doing this will not modify any behavior and is safe. If you specifically wanted the numpy scalar type, use `np.float64` here.\n",
      "Deprecated in NumPy 1.20; for more details and guidance: https://numpy.org/devdocs/release/1.20.0-notes.html#deprecations\n",
      "  max_n_alphas=1000, n_jobs=None, eps=np.finfo(np.float).eps,\n",
      "C:\\Users\\MaNinjaChan\\anaconda3\\lib\\site-packages\\sklearn\\linear_model\\_least_angle.py:1621: DeprecationWarning: `np.float` is a deprecated alias for the builtin `float`. To silence this warning, use `float` by itself. Doing this will not modify any behavior and is safe. If you specifically wanted the numpy scalar type, use `np.float64` here.\n",
      "Deprecated in NumPy 1.20; for more details and guidance: https://numpy.org/devdocs/release/1.20.0-notes.html#deprecations\n",
      "  max_n_alphas=1000, n_jobs=None, eps=np.finfo(np.float).eps,\n",
      "C:\\Users\\MaNinjaChan\\anaconda3\\lib\\site-packages\\sklearn\\linear_model\\_least_angle.py:1755: DeprecationWarning: `np.float` is a deprecated alias for the builtin `float`. To silence this warning, use `float` by itself. Doing this will not modify any behavior and is safe. If you specifically wanted the numpy scalar type, use `np.float64` here.\n",
      "Deprecated in NumPy 1.20; for more details and guidance: https://numpy.org/devdocs/release/1.20.0-notes.html#deprecations\n",
      "  eps=np.finfo(np.float).eps, copy_X=True, positive=False):\n",
      "C:\\Users\\MaNinjaChan\\anaconda3\\lib\\site-packages\\sklearn\\decomposition\\_lda.py:28: DeprecationWarning: `np.float` is a deprecated alias for the builtin `float`. To silence this warning, use `float` by itself. Doing this will not modify any behavior and is safe. If you specifically wanted the numpy scalar type, use `np.float64` here.\n",
      "Deprecated in NumPy 1.20; for more details and guidance: https://numpy.org/devdocs/release/1.20.0-notes.html#deprecations\n",
      "  EPS = np.finfo(np.float).eps\n",
      "C:\\Users\\MaNinjaChan\\anaconda3\\lib\\site-packages\\sklearn\\feature_extraction\\image.py:172: DeprecationWarning: `np.int` is a deprecated alias for the builtin `int`. To silence this warning, use `int` by itself. Doing this will not modify any behavior and is safe. When replacing `np.int`, you may wish to use e.g. `np.int64` or `np.int32` to specify the precision. If you wish to review your current use, check the release note link for additional information.\n",
      "Deprecated in NumPy 1.20; for more details and guidance: https://numpy.org/devdocs/release/1.20.0-notes.html#deprecations\n",
      "  dtype=np.int):\n"
     ]
    }
   ],
   "source": [
    "import regex as re\n",
    "\n",
    "# Gensim\n",
    "import gensim\n",
    "import gensim.corpora as corpora\n",
    "from gensim.utils import simple_preprocess\n",
    "\n",
    "# spacy for lemmatization\n",
    "import spacy\n",
    "\n",
    "# Plotting tools\n",
    "import pyLDAvis\n",
    "\n",
    "import nltk; "
   ]
  },
  {
   "cell_type": "code",
   "execution_count": 5,
   "metadata": {},
   "outputs": [],
   "source": [
    "# NLTK Stop words\n",
    "from nltk.corpus import stopwords\n",
    "stop_words = stopwords.words('english')\n",
    "stop_words.extend(['from', 'subject', 're', 'edu', 'use'])"
   ]
  },
  {
   "cell_type": "code",
   "execution_count": 6,
   "metadata": {},
   "outputs": [],
   "source": [
    "#Connecting to the URL on the web to access its content (Crunchyroll)\n",
    "# html=urlopen('https://www.crunchyroll.com/fullmetal-alchemist-brotherhood/reviews/helpful/page1')\n",
    "# html.status"
   ]
  },
  {
   "cell_type": "code",
   "execution_count": 7,
   "metadata": {},
   "outputs": [
    {
     "data": {
      "text/plain": [
       "200"
      ]
     },
     "execution_count": 7,
     "metadata": {},
     "output_type": "execute_result"
    }
   ],
   "source": [
    "#Connecting to the URL on the web to access its content (MAL)\n",
    "html=urlopen('https://myanimelist.net/anime/25397/Absolute_Duo/reviews?p=1')\n",
    "html.status"
   ]
  },
  {
   "cell_type": "code",
   "execution_count": 8,
   "metadata": {},
   "outputs": [],
   "source": [
    "#Creating an instance of beautifulsoup object to begin web scraping\n",
    "bs=BeautifulSoup(html.read(),'html.parser')"
   ]
  },
  {
   "cell_type": "code",
   "execution_count": 9,
   "metadata": {},
   "outputs": [
    {
     "name": "stdout",
     "output_type": "stream",
     "text": [
      "20\n"
     ]
    }
   ],
   "source": [
    "#Acessing the container objects with the anime info \n",
    "anime_review_containers = bs.find_all('div', {'class':{'borderDark'}})\n",
    "print(len(anime_review_containers))"
   ]
  },
  {
   "cell_type": "code",
   "execution_count": 10,
   "metadata": {},
   "outputs": [],
   "source": [
    "#Creating empty lists to store all the items \n",
    "review = []"
   ]
  },
  {
   "cell_type": "code",
   "execution_count": 11,
   "metadata": {},
   "outputs": [],
   "source": [
    "# Preparing the monitoring of the loop\n",
    "start_time = time()\n",
    "request = 0"
   ]
  },
  {
   "cell_type": "code",
   "execution_count": 12,
   "metadata": {},
   "outputs": [],
   "source": [
    "#Extracting each job name in loop\n",
    "for page in range(1,7):\n",
    "    # Make a get request\n",
    "        #https://myanimelist.net/anime/genre/1/Action?page=1\n",
    "        #https://myanimelist.net/anime/genre/1/Action?page=2\n",
    "        response = get('https://myanimelist.net/anime/25397/Absolute_Duo/reviews?p='+ str(page))\n",
    "        \n",
    "#         # Pause the loop\n",
    "#         sleep(randint(8,15))\n",
    "\n",
    "#         # Monitor the requests\n",
    "#         request += 1\n",
    "#         elapsed_time = time() - start_time\n",
    "#         print('Request:{}; Frequency: {} requests/s'.format(request, \n",
    "#                                                             request/elapsed_time))\n",
    "#         clear_output(wait = True)\n",
    "\n",
    "#         # Throw a warning for non-200 status codes\n",
    "#         if response.status_code != 200:\n",
    "#             warn('Request: {}; Status code: {}'.format(request, \n",
    "#                                                        response.status_code))\n",
    "\n",
    "#         # Break the loop if the number of requests is greater than expected\n",
    "#         if request > 100:\n",
    "#             warn('Number of requests was greater than expected.')\n",
    "#             break\n",
    "        \n",
    "        # Parse the content of the request with BeautifulSoup\n",
    "        bs = BeautifulSoup(response.text, 'html.parser')\n",
    "        \n",
    "        #Acessing the container objects with the anime info \n",
    "        anime_review_containers = bs.find_all('div', {'class':{'borderDark'}})\n",
    "\n",
    "        #Extracting all the elements \n",
    "        for container in anime_review_containers:\n",
    "        # If the movie has Metascore, then extract:\n",
    "        #  if container.find('div', {'class':{'scoremem'}})  is not None:\n",
    "        \n",
    "        # The name of anime\n",
    "            try: \n",
    "                reviews = container.find('div', {'class':'spaceit textReadability word-break pt8 mt8'})\n",
    "                review.append(reviews.text)\n",
    "            except:\n",
    "                review.append('Missing')"
   ]
  },
  {
   "cell_type": "code",
   "execution_count": 13,
   "metadata": {},
   "outputs": [
    {
     "name": "stdout",
     "output_type": "stream",
     "text": [
      "<class 'pandas.core.frame.DataFrame'>\n",
      "RangeIndex: 120 entries, 0 to 119\n",
      "Data columns (total 1 columns):\n",
      " #   Column  Non-Null Count  Dtype \n",
      "---  ------  --------------  ----- \n",
      " 0   Review  120 non-null    object\n",
      "dtypes: object(1)\n",
      "memory usage: 1.1+ KB\n",
      "None\n"
     ]
    }
   ],
   "source": [
    "#Creating a pandas dataframe to store the objects extracted\n",
    "anime_review = pd.DataFrame({'Review': review\n",
    "})\n",
    "print(anime_review.info())"
   ]
  },
  {
   "cell_type": "code",
   "execution_count": 14,
   "metadata": {},
   "outputs": [
    {
     "data": {
      "text/html": [
       "<div>\n",
       "<style scoped>\n",
       "    .dataframe tbody tr th:only-of-type {\n",
       "        vertical-align: middle;\n",
       "    }\n",
       "\n",
       "    .dataframe tbody tr th {\n",
       "        vertical-align: top;\n",
       "    }\n",
       "\n",
       "    .dataframe thead th {\n",
       "        text-align: right;\n",
       "    }\n",
       "</style>\n",
       "<table border=\"1\" class=\"dataframe\">\n",
       "  <thead>\n",
       "    <tr style=\"text-align: right;\">\n",
       "      <th></th>\n",
       "      <th>Review</th>\n",
       "    </tr>\n",
       "  </thead>\n",
       "  <tbody>\n",
       "    <tr>\n",
       "      <th>0</th>\n",
       "      <td>\\n\\n\\n\\nOverall\\n2\\n\\n\\nStory\\n2\\n\\n\\nAnimatio...</td>\n",
       "    </tr>\n",
       "    <tr>\n",
       "      <th>1</th>\n",
       "      <td>\\n\\n\\n\\nOverall\\n4\\n\\n\\nStory\\n8\\n\\n\\nAnimatio...</td>\n",
       "    </tr>\n",
       "    <tr>\n",
       "      <th>2</th>\n",
       "      <td>\\n\\n\\n\\nOverall\\n2\\n\\n\\nStory\\n2\\n\\n\\nAnimatio...</td>\n",
       "    </tr>\n",
       "    <tr>\n",
       "      <th>3</th>\n",
       "      <td>\\n\\n\\n\\nOverall\\n2\\n\\n\\nStory\\n0\\n\\n\\nAnimatio...</td>\n",
       "    </tr>\n",
       "    <tr>\n",
       "      <th>4</th>\n",
       "      <td>\\n\\n\\n\\nOverall\\n6\\n\\n\\nStory\\n5\\n\\n\\nAnimatio...</td>\n",
       "    </tr>\n",
       "  </tbody>\n",
       "</table>\n",
       "</div>"
      ],
      "text/plain": [
       "                                              Review\n",
       "0  \\n\\n\\n\\nOverall\\n2\\n\\n\\nStory\\n2\\n\\n\\nAnimatio...\n",
       "1  \\n\\n\\n\\nOverall\\n4\\n\\n\\nStory\\n8\\n\\n\\nAnimatio...\n",
       "2  \\n\\n\\n\\nOverall\\n2\\n\\n\\nStory\\n2\\n\\n\\nAnimatio...\n",
       "3  \\n\\n\\n\\nOverall\\n2\\n\\n\\nStory\\n0\\n\\n\\nAnimatio...\n",
       "4  \\n\\n\\n\\nOverall\\n6\\n\\n\\nStory\\n5\\n\\n\\nAnimatio..."
      ]
     },
     "execution_count": 14,
     "metadata": {},
     "output_type": "execute_result"
    }
   ],
   "source": [
    "# Display the top 5 rows of dataset\n",
    "anime_review.head()"
   ]
  },
  {
   "cell_type": "code",
   "execution_count": 15,
   "metadata": {},
   "outputs": [
    {
     "name": "stderr",
     "output_type": "stream",
     "text": [
      "<>:5: DeprecationWarning: invalid escape sequence \\s\n",
      "<>:5: DeprecationWarning: invalid escape sequence \\s\n",
      "<ipython-input-15-b412c0db5fd7>:5: DeprecationWarning: invalid escape sequence \\s\n",
      "  data = [re.sub('\\s+', ' ', sent) for sent in data]\n"
     ]
    },
    {
     "name": "stdout",
     "output_type": "stream",
     "text": [
      " Overall 2 Story 2 Animation 2 Sound 2 Character 2 Enjoyment 2 Have you ever had trouble spotting a bottom-of-the-barrel title? Finding the product of studio algorithm, where the intent is solely that of a product and nothing more? Shows with as much integrity as a used car salesman with a tacky poker-dot tie, or as much validity as McDonald's promoting \"health\" through thinly cut apple slices and a bottle of processed milk? Hogwash that pretends to have artistic merit? And if so, would you like to sift through bottom-tier anime before so much as letting it occupy time on your media device? If you've answered yes to this, here are some quick tips to help you out: ▸Is there a typical school setting? ☑ ▸Is the protagonist a pussy magnet? ☑ ▸Is there a beach or hot spring episode? ☑ ▸Is there a love interest story that goes nowhere? ☑ ▸Is there unnecessary fanservice in the cover photo? ☑ ▸Is the lead easily flustered by anything involving females? ☑ ▸Does it go from tensionless fights to school rom-com at the drop of a hat? ☑ ▸Is there some kind of a pussy beta-male protagonist with a \"unique\"/hax superpower? ☑ ▸Is there a lot of instances where your lead is viewed as a pervert due to stupid misunderstandings? ☑ ▸Is there at least one obligatory scene where this meta-male either walks in on a girl changing or accidentally gropes them? ☑ If you answered \"yes\" to most, if not, all of those, then congrats! You've just found yourself a mouth-breather tier anime title. Either that or you've accidentally watched this piece of garbage, Absolute Duo. Absolute Duo does absolutely nothing new. It's the same cookie-cutter assembly-line product regurgitated yearly from the anime industry. With a few slight tweaks here and there, and a fresh coat of paint to mask the stench of unoriginality, these titles are excreted out by the dozen on constant demand. Absolute Duo is just another statistic. Why bother writing a compelling narrative when excessive info-dumps and monologuing could do the trick? Why bother to make something with a modicum of artistic expression when you would just flash a few pantsu to win over mouth-breathers? Why bother trying when the audience being pandered to don't even demand anything more? It's hard not to be sardonic about titles like these, especially when the problem stems far deeper than simply \"the studio's fault.\" And in the case of Duo, what we have here is a symptom of audience complacency. Here's a world that exists byways of audience participation to do all the legwork for it. The show doesn't try because it's effectively harvested a viewership that doesn't expect it to. The world of Absolute Duo is that of a dystopian future. A detail that's rendered entirely pointless given that it all takes place in a high school setting, with the purpose of even addressing the nature of the world's construct only coming to play to allow these teens the ability to wield supernatural weaponry—no, that's not a joke, the show is really that lazy. And as is the tradition for these kinds of stories, we're given hints of a manipulative government faction. We're given hints at a budding school romance. We're given hints that the powers in the show have something more behind its mechanics than what's being told. We're given hints at a troubled backstory for our protagonist. We're given A LOT of hints but that's all, as this is yet another \"read the manga\" kind of title, where its entire purpose of existing hints towards being an advertisement for the source material. An ugly-looking, drably produced advertisement at that. The color placement is flat. Its environment evenly lit, like the backlight of a computer monitor or the glow of a tracing table. This is an anime that can't be bothered with the trivial task of having a personality. It would much rather slouch about. Cardboard cutout characters designed with no discernable feature from its usual counterparts. Personalities equally as stock-piled, their behavior as lackluster as the color choices used to bring them to life. Not a single characteristic that expresses passion. Just a heartless product pumped out by the iron presses of a studio machine looking to make a quick profit with as little effort as possible. It's hard to find anything here worth mentioning, as the only thing interesting about Duo is just how much it manages to fail. All you simply have to do is look at all the genres it's supposedly made up of and see it misses the mark with all of them: ▸It doesn't work as a school title since the school is just a backdrop and was never truly utilized. ▸It doesn't work as a romance since nothing ever happens between the main love interest and the protagonist. ▸It doesn't work as an action title since the fight sequences were barely animated with any sort of energy or dynamics. ▸It doesn't work as a supernatural show since none of the power mechanics or lore gets fleshed out beyond face value. ▸It doesn't work as a harem since the protagonist is a typical beta-male that freezes up at the thought of a woman's touch. ▸It doesn't work as an ecchi title since it's not titillating, made worse when titles like Queen's Blade exists with amazing \"plot.\" This is a title that quite literally fails at everything it attempts to cover, and as such, I can't see how this could be anything less than a waste of 4 hours of your life. Overall: Duo/10 Absolute Duo is Absolute Garbage. It's a cheaply made cash-grab that serves no other purpose than selling the source material it's adapted from. A quick glimpse into the ugly side of the entertainment industry, showing just how far a studio is willing to compromise its principals to make a quick buck. Helpful read more \n"
     ]
    }
   ],
   "source": [
    "# Convert to list\n",
    "data = anime_review['Review'].tolist()\n",
    "\n",
    "# Remove new line characters\n",
    "data = [re.sub('\\s+', ' ', sent) for sent in data]\n",
    "\n",
    "print(data[0])"
   ]
  },
  {
   "cell_type": "code",
   "execution_count": 16,
   "metadata": {},
   "outputs": [
    {
     "name": "stdout",
     "output_type": "stream",
     "text": [
      "['overall', 'story', 'animation', 'sound', 'character', 'enjoyment', 'have', 'you', 'ever', 'had', 'trouble', 'spotting', 'bottom', 'of', 'the', 'barrel', 'title', 'finding', 'the', 'product', 'of', 'studio', 'algorithm', 'where', 'the', 'intent', 'is', 'solely', 'that', 'of', 'product', 'and', 'nothing', 'more', 'shows', 'with', 'as', 'much', 'integrity', 'as', 'used', 'car', 'salesman', 'with', 'tacky', 'poker', 'dot', 'tie', 'or', 'as', 'much', 'validity', 'as', 'mcdonald', 'promoting', 'health', 'through', 'thinly', 'cut', 'apple', 'slices', 'and', 'bottle', 'of', 'processed', 'milk', 'hogwash', 'that', 'pretends', 'to', 'have', 'artistic', 'merit', 'and', 'if', 'so', 'would', 'you', 'like', 'to', 'sift', 'through', 'bottom', 'tier', 'anime', 'before', 'so', 'much', 'as', 'letting', 'it', 'occupy', 'time', 'on', 'your', 'media', 'device', 'if', 'you', 've', 'answered', 'yes', 'to', 'this', 'here', 'are', 'some', 'quick', 'tips', 'to', 'help', 'you', 'out', 'is', 'there', 'typical', 'school', 'setting', 'is', 'the', 'protagonist', 'pussy', 'magnet', 'is', 'there', 'beach', 'or', 'hot', 'spring', 'episode', 'is', 'there', 'love', 'interest', 'story', 'that', 'goes', 'nowhere', 'is', 'there', 'unnecessary', 'fanservice', 'in', 'the', 'cover', 'photo', 'is', 'the', 'lead', 'easily', 'flustered', 'by', 'anything', 'involving', 'females', 'does', 'it', 'go', 'from', 'tensionless', 'fights', 'to', 'school', 'rom', 'com', 'at', 'the', 'drop', 'of', 'hat', 'is', 'there', 'some', 'kind', 'of', 'pussy', 'beta', 'male', 'protagonist', 'with', 'unique', 'hax', 'superpower', 'is', 'there', 'lot', 'of', 'instances', 'where', 'your', 'lead', 'is', 'viewed', 'as', 'pervert', 'due', 'to', 'stupid', 'is', 'there', 'at', 'least', 'one', 'obligatory', 'scene', 'where', 'this', 'meta', 'male', 'either', 'walks', 'in', 'on', 'girl', 'changing', 'or', 'accidentally', 'gropes', 'them', 'if', 'you', 'answered', 'yes', 'to', 'most', 'if', 'not', 'all', 'of', 'those', 'then', 'congrats', 'you', 've', 'just', 'found', 'yourself', 'mouth', 'breather', 'tier', 'anime', 'title', 'either', 'that', 'or', 'you', 've', 'accidentally', 'watched', 'this', 'piece', 'of', 'garbage', 'absolute', 'duo', 'absolute', 'duo', 'does', 'absolutely', 'nothing', 'new', 'it', 'the', 'same', 'cookie', 'cutter', 'assembly', 'line', 'product', 'regurgitated', 'yearly', 'from', 'the', 'anime', 'industry', 'with', 'few', 'slight', 'tweaks', 'here', 'and', 'there', 'and', 'fresh', 'coat', 'of', 'paint', 'to', 'mask', 'the', 'stench', 'of', 'unoriginality', 'these', 'titles', 'are', 'excreted', 'out', 'by', 'the', 'dozen', 'on', 'constant', 'demand', 'absolute', 'duo', 'is', 'just', 'another', 'statistic', 'why', 'bother', 'writing', 'compelling', 'narrative', 'when', 'excessive', 'info', 'dumps', 'and', 'monologuing', 'could', 'do', 'the', 'trick', 'why', 'bother', 'to', 'make', 'something', 'with', 'modicum', 'of', 'artistic', 'expression', 'when', 'you', 'would', 'just', 'flash', 'few', 'pantsu', 'to', 'win', 'over', 'mouth', 'breathers', 'why', 'bother', 'trying', 'when', 'the', 'audience', 'being', 'pandered', 'to', 'don', 'even', 'demand', 'anything', 'more', 'it', 'hard', 'not', 'to', 'be', 'sardonic', 'about', 'titles', 'like', 'these', 'especially', 'when', 'the', 'problem', 'stems', 'far', 'deeper', 'than', 'simply', 'the', 'studio', 'fault', 'and', 'in', 'the', 'case', 'of', 'duo', 'what', 'we', 'have', 'here', 'is', 'symptom', 'of', 'audience', 'complacency', 'here', 'world', 'that', 'exists', 'byways', 'of', 'audience', 'participation', 'to', 'do', 'all', 'the', 'legwork', 'for', 'it', 'the', 'show', 'doesn', 'try', 'because', 'it', 'effectively', 'harvested', 'viewership', 'that', 'doesn', 'expect', 'it', 'to', 'the', 'world', 'of', 'absolute', 'duo', 'is', 'that', 'of', 'dystopian', 'future', 'detail', 'that', 'rendered', 'entirely', 'pointless', 'given', 'that', 'it', 'all', 'takes', 'place', 'in', 'high', 'school', 'setting', 'with', 'the', 'purpose', 'of', 'even', 'addressing', 'the', 'nature', 'of', 'the', 'world', 'construct', 'only', 'coming', 'to', 'play', 'to', 'allow', 'these', 'teens', 'the', 'ability', 'to', 'wield', 'supernatural', 'weaponry', 'no', 'that', 'not', 'joke', 'the', 'show', 'is', 'really', 'that', 'lazy', 'and', 'as', 'is', 'the', 'tradition', 'for', 'these', 'kinds', 'of', 'stories', 'we', 're', 'given', 'hints', 'of', 'manipulative', 'government', 'faction', 'we', 're', 'given', 'hints', 'at', 'budding', 'school', 'romance', 'we', 're', 'given', 'hints', 'that', 'the', 'powers', 'in', 'the', 'show', 'have', 'something', 'more', 'behind', 'its', 'mechanics', 'than', 'what', 'being', 'told', 'we', 're', 'given', 'hints', 'at', 'troubled', 'backstory', 'for', 'our', 'protagonist', 'we', 're', 'given', 'lot', 'of', 'hints', 'but', 'that', 'all', 'as', 'this', 'is', 'yet', 'another', 'read', 'the', 'manga', 'kind', 'of', 'title', 'where', 'its', 'entire', 'purpose', 'of', 'existing', 'hints', 'towards', 'being', 'an', 'advertisement', 'for', 'the', 'source', 'material', 'an', 'ugly', 'looking', 'drably', 'produced', 'advertisement', 'at', 'that', 'the', 'color', 'placement', 'is', 'flat', 'its', 'environment', 'evenly', 'lit', 'like', 'the', 'backlight', 'of', 'computer', 'monitor', 'or', 'the', 'glow', 'of', 'tracing', 'table', 'this', 'is', 'an', 'anime', 'that', 'can', 'be', 'bothered', 'with', 'the', 'trivial', 'task', 'of', 'having', 'personality', 'it', 'would', 'much', 'rather', 'slouch', 'about', 'cardboard', 'cutout', 'characters', 'designed', 'with', 'no', 'discernable', 'feature', 'from', 'its', 'usual', 'counterparts', 'personalities', 'equally', 'as', 'stock', 'piled', 'their', 'behavior', 'as', 'lackluster', 'as', 'the', 'color', 'choices', 'used', 'to', 'bring', 'them', 'to', 'life', 'not', 'single', 'characteristic', 'that', 'expresses', 'passion', 'just', 'heartless', 'product', 'pumped', 'out', 'by', 'the', 'iron', 'presses', 'of', 'studio', 'machine', 'looking', 'to', 'make', 'quick', 'profit', 'with', 'as', 'little', 'effort', 'as', 'possible', 'it', 'hard', 'to', 'find', 'anything', 'here', 'worth', 'mentioning', 'as', 'the', 'only', 'thing', 'interesting', 'about', 'duo', 'is', 'just', 'how', 'much', 'it', 'manages', 'to', 'fail', 'all', 'you', 'simply', 'have', 'to', 'do', 'is', 'look', 'at', 'all', 'the', 'genres', 'it', 'supposedly', 'made', 'up', 'of', 'and', 'see', 'it', 'misses', 'the', 'mark', 'with', 'all', 'of', 'them', 'it', 'doesn', 'work', 'as', 'school', 'title', 'since', 'the', 'school', 'is', 'just', 'backdrop', 'and', 'was', 'never', 'truly', 'utilized', 'it', 'doesn', 'work', 'as', 'romance', 'since', 'nothing', 'ever', 'happens', 'between', 'the', 'main', 'love', 'interest', 'and', 'the', 'protagonist', 'it', 'doesn', 'work', 'as', 'an', 'action', 'title', 'since', 'the', 'fight', 'sequences', 'were', 'barely', 'animated', 'with', 'any', 'sort', 'of', 'energy', 'or', 'dynamics', 'it', 'doesn', 'work', 'as', 'supernatural', 'show', 'since', 'none', 'of', 'the', 'power', 'mechanics', 'or', 'lore', 'gets', 'fleshed', 'out', 'beyond', 'face', 'value', 'it', 'doesn', 'work', 'as', 'harem', 'since', 'the', 'protagonist', 'is', 'typical', 'beta', 'male', 'that', 'freezes', 'up', 'at', 'the', 'thought', 'of', 'woman', 'touch', 'it', 'doesn', 'work', 'as', 'an', 'ecchi', 'title', 'since', 'it', 'not', 'titillating', 'made', 'worse', 'when', 'titles', 'like', 'queen', 'blade', 'exists', 'with', 'amazing', 'plot', 'this', 'is', 'title', 'that', 'quite', 'literally', 'fails', 'at', 'everything', 'it', 'attempts', 'to', 'cover', 'and', 'as', 'such', 'can', 'see', 'how', 'this', 'could', 'be', 'anything', 'less', 'than', 'waste', 'of', 'hours', 'of', 'your', 'life', 'overall', 'duo', 'absolute', 'duo', 'is', 'absolute', 'garbage', 'it', 'cheaply', 'made', 'cash', 'grab', 'that', 'serves', 'no', 'other', 'purpose', 'than', 'selling', 'the', 'source', 'material', 'it', 'adapted', 'from', 'quick', 'glimpse', 'into', 'the', 'ugly', 'side', 'of', 'the', 'entertainment', 'industry', 'showing', 'just', 'how', 'far', 'studio', 'is', 'willing', 'to', 'compromise', 'its', 'principals', 'to', 'make', 'quick', 'buck', 'helpful', 'read', 'more']\n"
     ]
    }
   ],
   "source": [
    "# Clean and tokenize the reviews\n",
    "\n",
    "def sent_to_words(sentences):\n",
    "    for sentence in sentences:\n",
    "        yield(gensim.utils.simple_preprocess(str(sentence), deacc=True))  # deacc=True removes punctuations\n",
    "        \n",
    "data_words = list(sent_to_words(data))\n",
    "\n",
    "print(data_words[0])"
   ]
  },
  {
   "cell_type": "code",
   "execution_count": 17,
   "metadata": {},
   "outputs": [
    {
     "name": "stdout",
     "output_type": "stream",
     "text": [
      "['overall', 'story', 'animation_sound', 'character', 'enjoyment', 'absolute_duo', 'is', 'like', 'raisin', 'cookie', 'everyone', 'thinks', 'it', 'chocolate', 'chip', 'cookie', 'and', 'it', 'will', 'be', 'good', 'until', 'you', 'eat', 'it', 'and', 'realize', 'it', 'not', 'what', 'you', 'expected', 'unless', 'you', 'actually', 'like', 'raisin', 'cookies', 'story', 'the', 'story', 'is', 'somewhat', 'unoriginal', 'mainly', 'because', 'it', 'those', 'types', 'of', 'anime', 'where', 'you', 'are', 'embedded', 'certain', 'type', 'of', 'weapon', 'that', 'you', 'carry', 'on', 'for', 'the', 'rest', 'of', 'your', 'life', 'having', 'the', 'ability', 'to', 'summon', 'it', 'anytime', 'you', 'want', 'the', 'only', 'twist', 'is', 'you', 're', 'in', 'duo', 'now', 'every', 'time', 'you', 're', 'in', 'duo', 'it', 'likely', 'that', 'your', 'partner', 'is', 'someone', 'of', 'the', 'same', 'sex', 'right', 'well', 'in', 'this', 'anime', 'the', 'partner', 'is', 'girl', 'and', 'they', 'both', 'have', 'to', 'live', 'in', 'the', 'same', 'room', 'that', 'calls', 'for', 'shit', 'load', 'of', 'accidental', 'boob', 'grabbing', 'in', 'the', 'middle', 'of', 'the', 'night', 'not', 'only', 'is', 'that', 'there', 'but', 'it', 'harem', 'it', 'not', 'needed', 'for', 'this', 'kind', 'of', 'action', 'anime', 'mainly', 'because', 'it', 'set', 'on', 'duo', 'not', 'triplet', 'or', 'quadruplet', 'for', 'the', 'action', 'part', 'of', 'it', 'it', 'actually', 'somewhat', 'decent', 'mainly', 'because', 'enjoy', 'those', 'types', 'of', 'anime', 'where', 'the', 'main', 'character', 'is', 'special', 'chosen', 'op', 'as', 'fuck', 'type', 'of', 'character', 'art', 'the', 'art', 'is', 'very', 'smooth', 'and', 'nice', 'just', 'by', 'looking', 'at', 'the', 'cover', 'photo', 'the', 'colors', 'are', 'very', 'bright', 'and', 'easily', 'catch', 'your', 'eyes', 'and', 'the', 'animation', 'is', 'smooth', 'the', 'details', 'in', 'the', 'eye', 'are', 'quite', 'new', 'to', 'me', 'but', 'hey', 'new', 'stuff', 'means', 'good', 'stuff', 'right', 'sound', 'the', 'ost', 'is', 'very', 'modern', 'and', 'fits', 'each', 'scene', 'nicely', 'my', 'favorite', 'in', 'the', 'sound', 'section', 'is', 'the', 'op', 'first', 'heard', 'it', 'while', 'playing', 'rhythm', 'game', 'osu', 'kek', 'and', 'instantly', 'to', 'me', 'it', 'was', 'catchy', 'and', 'stuck', 'to', 'my', 'brain', 'the', 'ed', 'was', 'the', 'same', 'with', 'the', 'op', 'also', 'heard', 'it', 'on', 'osu', 'wtf', 'but', 'not', 'as', 'good', 'it', 'based', 'on', 'apple', 'tea', 'which', 'is', 'pretty', 'weird', 'for', 'an', 'ed', 'character', 'kokonoe', 'tooru', 'is', 'high_school', 'boy', 'who', 'has', 'dark', 'past', 'tooru', 'may', 'look', 'very', 'weak', 'but', 'as', 'the', 'anime', 'progresses', 'he', 'does', 'get', 'much', 'more', 'powerful', 'he', 'very', 'kind', 'person', 'who', 'has', 'the', 'resolve', 'to', 'protect', 'julie', 'and', 'his', 'other', 'friends', 'he', 'is', 'an', 'irregular', 'julie', 'sigtuna', 'heh', 'tuna', 'is', 'high_school', 'girl', 'who', 'also', 'has', 'somewhat', 'of', 'dark', 'past', 'she', 'is', 'introduced', 'as', 'very', 'powerful', 'character', 'and', 'as', 'the', 'anime', 'progresses', 'she', 'gets', 'much', 'more', 'powerful', 'she', 'very', 'attached', 'to', 'tooru', 'and', 'possibly', 'has', 'feelings', 'for', 'him', 'she', 'is', 'very', 'quiet', 'girl', 'and', 'likes', 'apple', 'tea', 'together', 'they', 'both', 'make', 'duo', 'bristol', 'lillith', 'is', 'girl', 'who', 'graduated', 'and', 'came', 'all', 'the', 'way', 'to', 'japan', 'to', 'meet', 'the', 'irregular', 'who', 'is', 'tooru', 'she', 'was', 'introduced', 'as', 'small', 'antagonist', 'but', 'as', 'the', 'anime', 'progresses', 'she', 'develops', 'feelings', 'to', 'the', 'point', 'where', 'she', 'even', 'mentions', 'of', 'being', 'his', 'future', 'wife', 'she', 'is', 'prideful', 'girl', 'who', 'would', 'not', 'let', 'anyone', 'stand', 'above', 'her', 'hotaka', 'miyabi', 'is', 'high_school', 'girl', 'who', 'is', 'introduced', 'very', 'shy', 'character', 'she', 'is', 'introduced', 'as', 'weak', 'and', 'not', 'very', 'athletic', 'character', 'but', 'as', 'the', 'anime', 'progresses', 'she', 'starts', 'to', 'also', 'develop', 'feelings', 'for', 'tooru', 'very', 'kind', 'girl', 'who', 'wants', 'to', 'be', 'with', 'tooru', 'tachibana', 'tomoe', 'is', 'high_school', 'girl', 'who', 'is', 'introduced', 'as', 'strong', 'character', 'and', 'is', 'skilled', 'at', 'martial', 'arts', 'she', 'is', 'the', 'type', 'of', 'character', 'who', 'has', 'never', 'thought', 'of', 'being', 'in', 'love', 'miyabi', 'and', 'tomoe', 'are', 'both', 'duo', 'enjoyment', 'although', 'the', 'story', 'wasn', 'original', 'still', 'enjoyed', 'it', 'mainly', 'because', 'it', 'was', 'made', 'in', 'and', 'thought', 'it', 'was', 'going', 'to', 'be', 'something', 'new', 'overall', 'the', 'anime', 'to', 'me', 'was', 'very', 'rushed', 'because', 'other', 'things', 'have', 'not', 'been', 'explained', 'like', 'the', 'history', 'of', 'exceeds', 'why', 'this', 'or', 'why', 'that', 'doubt', 'that', 'there', 'will', 'be', 'season', 'because', 'of', 'the', 'low', 'ratings', 'it', 'got', 'it', 'didn', 'live', 'up', 'to', 'my', 'expectations', 'though', 'would', 're', 'watch', 'this', 'anime', 'maybe', 'because', 'might', 'have', 'missed', 'lot', 'of', 'stuff', 'helpful_read', 'more']\n"
     ]
    }
   ],
   "source": [
    "# Create bigrams, remove stop words and lemmatize the reviews\n",
    "\n",
    "# Build the bigram models\n",
    "bigram = gensim.models.Phrases(data_words, min_count=5, threshold=100) # higher threshold fewer phrases.\n",
    "\n",
    "# Faster way to get a sentence clubbed as a trigram/bigram\n",
    "bigram_mod = gensim.models.phrases.Phraser(bigram)\n",
    "\n",
    "print(bigram_mod[data_words[4]])"
   ]
  },
  {
   "cell_type": "code",
   "execution_count": 18,
   "metadata": {},
   "outputs": [],
   "source": [
    "# Defining removing stopwords\n",
    "def remove_stopwords(texts):\n",
    "    return [[word for word in simple_preprocess(str(doc)) if word not in stop_words] for doc in texts]\n",
    "\n",
    "# Defining making bigrams\n",
    "def make_bigrams(texts):\n",
    "    return [bigram_mod[doc] for doc in texts]\n",
    "\n",
    "# Defining lemmatization\n",
    "def lemmatization(texts, allowed_postags=['NOUN', 'ADJ', 'VERB', 'ADV']):\n",
    "    texts_out = []\n",
    "    for sent in texts:\n",
    "        doc = nlp(\" \".join(sent)) \n",
    "        texts_out.append([token.lemma_ for token in doc if token.pos_ in allowed_postags])\n",
    "    return texts_out"
   ]
  },
  {
   "cell_type": "code",
   "execution_count": 19,
   "metadata": {},
   "outputs": [
    {
     "name": "stdout",
     "output_type": "stream",
     "text": [
      "['overall', 'story', 'character', 'enjoyment', 'ever', 'trouble', 'spot', 'bottom', 'barrel', 'title', 'finding', 'product', 'studio', 'algorithm', 'intent', 'solely', 'product', 'show', 'much', 'integrity', 'use', 'car', 'salesman', 'tacky', 'poker', 'dot', 'tie', 'much', 'validity', 'mcdonald', 'promote', 'health', 'thinly', 'cut', 'apple', 'slice', 'bottle', 'process', 'milk', 'hogwash', 'pretend', 'artistic', 'merit', 'like', 'sift', 'bottom', 'tier', 'anime', 'much', 'let', 'occupy', 'time', 'medium', 'device', 'answer', 'quick', 'tip', 'help', 'typical', 'school', 'set', 'protagonist', 'pussy', 'magnet', 'beach', 'hot', 'spring', 'episode', 'love', 'interest', 'story', 'go', 'nowhere', 'unnecessary', 'fanservice', 'cover', 'photo', 'lead', 'easily', 'fluster', 'involve', 'female', 'go', 'tensionless', 'fight', 'school', 'rom', 'com', 'drop', 'hat', 'kind', 'pussy', 'beta', 'male', 'protagonist', 'unique', 'hax', 'superpower', 'lot', 'instance', 'lead', 'view', 'pervert', 'due', 'stupid', 'least', 'obligatory', 'scene', 'meta', 'male', 'walk', 'girl', 'change', 'accidentally', 'grope', 'answer', 'congrat', 'find', 'mouth', 'breather', 'tier', 'anime', 'title', 'accidentally', 'watch', 'piece', 'garbage', 'absolutely', 'new', 'cookie', 'cutter', 'assembly', 'line', 'product', 'regurgitate', 'yearly', 'anime', 'industry', 'slight', 'tweak', 'fresh', 'coat', 'paint', 'mask', 'stench', 'unoriginality', 'title', 'excrete', 'dozen', 'constant', 'demand', 'statistic', 'bother', 'write', 'compelling', 'narrative', 'excessive', 'info', 'dump', 'monologuing', 'trick', 'bother', 'make', 'modicum', 'artistic', 'expression', 'flash', 'pantsu', 'win', 'mouth', 'breather', 'bother', 'try', 'audience', 'pander', 'even', 'demand', 'hard', 'sardonic', 'title', 'especially', 'problem', 'stem', 'far', 'deep', 'simply', 'studio', 'fault', 'case', 'duo', 'symptom', 'audience', 'complacency', 'world', 'exist', 'byway', 'audience', 'participation', 'legwork', 'show', 'try', 'effectively', 'harvest', 'viewership', 'expect', 'world', 'absolute_duo', 'dystopian', 'future', 'detail', 'render', 'entirely', 'pointless', 'give', 'take', 'place', 'set', 'purpose', 'even', 'address', 'nature', 'world', 'construct', 'come', 'play', 'allow', 'teen', 'ability', 'wield', 'supernatural', 'weaponry', 'joke', 'show', 'really', 'lazy', 'tradition', 'kind', 'story', 'give', 'hint', 'manipulative', 'government', 'faction', 'give', 'hint', 'bud', 'school', 'romance', 'give', 'hint', 'power', 'show', 'mechanic', 'tell', 'give', 'hint', 'troubled', 'backstory', 'protagonist', 'give', 'lot', 'hint', 'yet', 'read', 'manga', 'kind', 'title', 'entire', 'purpose', 'exist', 'hint', 'advertisement', 'source', 'material', 'ugly', 'look', 'drably', 'produce', 'advertisement', 'color', 'placement', 'flat', 'environment', 'evenly', 'light', 'backlight', 'computer', 'monitor', 'glow', 'tracing', 'table', 'anime', 'bother', 'trivial', 'task', 'personality', 'much', 'rather', 'slouch', 'cardboard', 'cutout', 'character', 'design', 'discernable', 'feature', 'usual', 'counterpart', 'personalitie', 'equally', 'stock', 'pile', 'behavior', 'lackluster', 'color', 'choice', 'use', 'bring', 'life', 'single', 'characteristic', 'express', 'passion', 'heartless', 'product', 'pump', 'iron', 'press', 'studio', 'machine', 'look', 'make', 'quick', 'profit', 'little', 'effort', 'possible', 'hard', 'find', 'worth', 'mention', 'thing', 'interesting', 'duo', 'much', 'manage', 'fail', 'simply', 'look', 'genre', 'supposedly', 'make', 'see', 'miss', 'mark', 'work', 'school', 'title', 'school', 'backdrop', 'never', 'truly', 'utilize', 'work', 'romance', 'ever', 'happen', 'main', 'love', 'interest', 'protagonist', 'work', 'action', 'title', 'fight', 'sequence', 'barely', 'animate', 'sort', 'energy', 'dynamic', 'work', 'supernatural', 'show', 'none', 'power', 'mechanic', 'lore', 'get', 'flesh', 'face', 'value', 'work', 'harem', 'protagonist', 'typical', 'beta', 'male', 'freeze', 'think', 'woman', 'touch', 'work', 'ecchi', 'title', 'titillate', 'make', 'bad', 'title', 'queen', 'blade', 'exist', 'amazing', 'plot', 'title', 'quite', 'literally', 'fail', 'attempt', 'cover', 'see', 'less', 'waste', 'hour', 'life', 'overall', 'duo', 'absolute', 'garbage', 'cheaply', 'make', 'cash', 'grab', 'serve', 'purpose', 'selling', 'source', 'material', 'adapt', 'quick', 'glimpse', 'ugly', 'side', 'entertainment', 'industry', 'show', 'far', 'studio', 'willing', 'compromise', 'principal', 'make', 'quick', 'buck']\n"
     ]
    }
   ],
   "source": [
    "# Remove Stop Words\n",
    "data_words_nostops = remove_stopwords(data_words)\n",
    "\n",
    "# Form Bigrams\n",
    "data_words_bigrams = make_bigrams(data_words_nostops)\n",
    "\n",
    "# Initialize spacy 'en' model, keeping only tagger component (for efficiency)\n",
    "# python3 -m spacy download en\n",
    "nlp = spacy.load('en_core_web_sm', disable=['parser', 'ner'])\n",
    "\n",
    "# Do lemmatization keeping only noun, adj, vb, adv\n",
    "data_lemmatized = lemmatization(data_words_bigrams, allowed_postags=['NOUN', 'ADJ', 'VERB', 'ADV'])\n",
    "\n",
    "print(data_lemmatized[0])"
   ]
  },
  {
   "cell_type": "code",
   "execution_count": 20,
   "metadata": {},
   "outputs": [
    {
     "name": "stdout",
     "output_type": "stream",
     "text": [
      "[(0, 1), (1, 1), (2, 1), (3, 1), (4, 2), (5, 1), (6, 1), (7, 1), (8, 2), (9, 1), (10, 1), (11, 1), (12, 1), (13, 4), (14, 2), (15, 1), (16, 2), (17, 1), (18, 1), (19, 3), (20, 1), (21, 1), (22, 1), (23, 1), (24, 1), (25, 1), (26, 1), (27, 1), (28, 2), (29, 1), (30, 4), (31, 1), (32, 2), (33, 2), (34, 1), (35, 1), (36, 1), (37, 1), (38, 1), (39, 1), (40, 1), (41, 1), (42, 1), (43, 2), (44, 1), (45, 1), (46, 1), (47, 1), (48, 2), (49, 1), (50, 1), (51, 1), (52, 1), (53, 1), (54, 1), (55, 1), (56, 1), (57, 1), (58, 1), (59, 1), (60, 2), (61, 1), (62, 1), (63, 1), (64, 1), (65, 2), (66, 1), (67, 1), (68, 1), (69, 1), (70, 1), (71, 1), (72, 1), (73, 1), (74, 1), (75, 1), (76, 3), (77, 1), (78, 1), (79, 1), (80, 1), (81, 1), (82, 1), (83, 1), (84, 1), (85, 1), (86, 1), (87, 1), (88, 1), (89, 1), (90, 1), (91, 1), (92, 2), (93, 1), (94, 2), (95, 1), (96, 1), (97, 3), (98, 1), (99, 1), (100, 1), (101, 1), (102, 1), (103, 2), (104, 1), (105, 2), (106, 1), (107, 1), (108, 1), (109, 2), (110, 2), (111, 1), (112, 1), (113, 1), (114, 1), (115, 1), (116, 1), (117, 1), (118, 1), (119, 2), (120, 1), (121, 1), (122, 1), (123, 6), (124, 1), (125, 1), (126, 2), (127, 1), (128, 1), (129, 1), (130, 1), (131, 2), (132, 1), (133, 1), (134, 1), (135, 1), (136, 1), (137, 1), (138, 1), (139, 6), (140, 1), (141, 1), (142, 1), (143, 2), (144, 1), (145, 1), (146, 1), (147, 1), (148, 2), (149, 1), (150, 1), (151, 1), (152, 1), (153, 3), (154, 1), (155, 1), (156, 2), (157, 1), (158, 1), (159, 1), (160, 1), (161, 2), (162, 1), (163, 1), (164, 1), (165, 1), (166, 1), (167, 3), (168, 1), (169, 2), (170, 2), (171, 1), (172, 1), (173, 1), (174, 6), (175, 3), (176, 1), (177, 1), (178, 1), (179, 1), (180, 1), (181, 2), (182, 1), (183, 2), (184, 1), (185, 1), (186, 1), (187, 1), (188, 1), (189, 1), (190, 1), (191, 1), (192, 1), (193, 2), (194, 5), (195, 1), (196, 1), (197, 1), (198, 1), (199, 1), (200, 1), (201, 1), (202, 1), (203, 2), (204, 1), (205, 1), (206, 1), (207, 1), (208, 1), (209, 1), (210, 1), (211, 1), (212, 1), (213, 1), (214, 1), (215, 1), (216, 1), (217, 1), (218, 1), (219, 1), (220, 1), (221, 1), (222, 2), (223, 1), (224, 1), (225, 1), (226, 1), (227, 1), (228, 1), (229, 4), (230, 1), (231, 1), (232, 5), (233, 1), (234, 3), (235, 2), (236, 1), (237, 4), (238, 1), (239, 1), (240, 1), (241, 1), (242, 1), (243, 1), (244, 1), (245, 2), (246, 1), (247, 1), (248, 1), (249, 5), (250, 2), (251, 1), (252, 1), (253, 1), (254, 2), (255, 6), (256, 1), (257, 1), (258, 2), (259, 1), (260, 1), (261, 1), (262, 1), (263, 1), (264, 1), (265, 2), (266, 1), (267, 1), (268, 1), (269, 1), (270, 1), (271, 1), (272, 3), (273, 4), (274, 1), (275, 2), (276, 1), (277, 1), (278, 1), (279, 1), (280, 1), (281, 1), (282, 1), (283, 1), (284, 1), (285, 1), (286, 1), (287, 1), (288, 1), (289, 1), (290, 2), (291, 1), (292, 1), (293, 1), (294, 10), (295, 1), (296, 1), (297, 1), (298, 1), (299, 1), (300, 1), (301, 1), (302, 1), (303, 2), (304, 1), (305, 2), (306, 2), (307, 1), (308, 1), (309, 1), (310, 2), (311, 1), (312, 1), (313, 1), (314, 1), (315, 1), (316, 1), (317, 1), (318, 1), (319, 1), (320, 1), (321, 1), (322, 1), (323, 1), (324, 1), (325, 6), (326, 3), (327, 1), (328, 1), (329, 1), (330, 1)]\n"
     ]
    }
   ],
   "source": [
    "# Create Dictionary\n",
    "id2word = corpora.Dictionary(data_lemmatized)\n",
    "\n",
    "# Create Corpus\n",
    "texts = data_lemmatized\n",
    "\n",
    "# Term Document Frequency\n",
    "corpus = [id2word.doc2bow(text) for text in texts]\n",
    "\n",
    "# View\n",
    "print(corpus[0])"
   ]
  },
  {
   "cell_type": "code",
   "execution_count": 21,
   "metadata": {},
   "outputs": [
    {
     "name": "stdout",
     "output_type": "stream",
     "text": [
      "[(0, '0.018*\"show\" + 0.015*\"character\" + 0.010*\"make\" + 0.009*\"julie\" + 0.009*\"anime\" + 0.008*\"tor\" + 0.007*\"story\" + 0.007*\"girl\" + 0.006*\"really\" + 0.005*\"get\"'), (1, '0.029*\"anime\" + 0.026*\"character\" + 0.023*\"story\" + 0.018*\"harem\" + 0.016*\"watch\" + 0.013*\"overall\" + 0.012*\"enjoyment\" + 0.012*\"series\" + 0.011*\"go\" + 0.011*\"good\"'), (2, '0.008*\"title\" + 0.005*\"rito\" + 0.004*\"glass\" + 0.004*\"caitlin\" + 0.003*\"head\" + 0.003*\"sakuya\" + 0.003*\"defeat\" + 0.003*\"environment\" + 0.002*\"produce\" + 0.002*\"truly\"'), (3, '0.025*\"character\" + 0.023*\"show\" + 0.017*\"story\" + 0.013*\"much\" + 0.012*\"really\" + 0.012*\"anime\" + 0.011*\"overall\" + 0.010*\"plot\" + 0.010*\"feel\" + 0.009*\"get\"'), (4, '0.009*\"nao\" + 0.008*\"que\" + 0.006*\"para\" + 0.003*\"uma\" + 0.003*\"nada\" + 0.003*\"ruim\" + 0.003*\"mas\" + 0.003*\"muito\" + 0.003*\"drama\" + 0.003*\"spoiler\"'), (5, '0.000*\"character\" + 0.000*\"story\" + 0.000*\"show\" + 0.000*\"anime\" + 0.000*\"make\" + 0.000*\"get\" + 0.000*\"time\" + 0.000*\"good\" + 0.000*\"harem\" + 0.000*\"well\"'), (6, '0.026*\"anime\" + 0.016*\"recommend\" + 0.013*\"overall\" + 0.009*\"cliche\" + 0.008*\"friend\" + 0.008*\"way\" + 0.007*\"really\" + 0.006*\"online\" + 0.006*\"irregular\" + 0.005*\"gon\"'), (7, '0.031*\"character\" + 0.024*\"anime\" + 0.020*\"story\" + 0.012*\"main\" + 0.012*\"get\" + 0.010*\"girl\" + 0.009*\"good\" + 0.009*\"enjoyment\" + 0.009*\"overall\" + 0.009*\"bad\"')]\n"
     ]
    }
   ],
   "source": [
    "# Using LDA to develop a topic model with 8 models\n",
    "\n",
    "lda_model = gensim.models.ldamodel.LdaModel(corpus=corpus,\n",
    "                                           id2word=id2word,\n",
    "                                           num_topics=8, \n",
    "                                           random_state=100,\n",
    "                                           update_every=1,\n",
    "                                           chunksize=100,\n",
    "                                           passes=10,\n",
    "                                           alpha='auto',\n",
    "                                           per_word_topics=True)\n",
    "# Print the KeywordS in the 8 topics\n",
    "print(lda_model.print_topics())\n",
    "doc_lda = lda_model[corpus]"
   ]
  },
  {
   "cell_type": "code",
   "execution_count": 22,
   "metadata": {},
   "outputs": [
    {
     "data": {
      "text/html": [
       "\n",
       "<link rel=\"stylesheet\" type=\"text/css\" href=\"https://cdn.jsdelivr.net/gh/bmabey/pyLDAvis@3.3.1/pyLDAvis/js/ldavis.v1.0.0.css\">\n",
       "\n",
       "\n",
       "<div id=\"ldavis_el2132421931674865286125792384\"></div>\n",
       "<script type=\"text/javascript\">\n",
       "\n",
       "var ldavis_el2132421931674865286125792384_data = {\"mdsDat\": {\"x\": [0.16303440270133054, 0.06080579951274657, 0.18484238417540513, 0.14711208906474096, -0.06952112389393639, -0.1841060175935284, -0.16629102980191596, -0.13587650416484226], \"y\": [0.11027684519655566, 0.0965443676179995, -0.07165601992909279, -0.0975491789686868, -0.02589613147882765, -0.004058209628437176, -0.005189813751593384, -0.0024718590579172425], \"topics\": [1, 2, 3, 4, 5, 6, 7, 8], \"cluster\": [1, 1, 1, 1, 1, 1, 1, 1], \"Freq\": [36.81652742998814, 27.651995269351627, 17.665011970471394, 12.073802938785851, 2.5226885808048394, 2.0638502153662, 1.1977122778183806, 0.008411317413562625]}, \"tinfo\": {\"Term\": [\"anime\", \"overall\", \"show\", \"story\", \"watch\", \"character\", \"cliche\", \"really\", \"harem\", \"recommend\", \"friend\", \"way\", \"enjoyment\", \"much\", \"series\", \"plot\", \"tor\", \"charachter\", \"girl\", \"good\", \"feel\", \"enjoy\", \"however\", \"generic\", \"start\", \"protagonist\", \"like\", \"mc\", \"action\", \"bad\", \"add\", \"short\", \"super\", \"thor\", \"rate\", \"exceptional\", \"realize\", \"ominous\", \"intro\", \"speak\", \"song\", \"strength\", \"white\", \"one\", \"highly\", \"spoil\", \"fanservice\", \"clueless\", \"resolve\", \"master\", \"attitude\", \"beware\", \"revenge\", \"summary\", \"beautiful\", \"plain\", \"classic\", \"respect\", \"fool\", \"doll\", \"save\", \"small\", \"somehow\", \"level\", \"easy\", \"main\", \"special\", \"mc\", \"great\", \"girl\", \"interesting\", \"set\", \"evil\", \"end\", \"character\", \"mostly\", \"school\", \"love\", \"anime\", \"guy\", \"get\", \"story\", \"thing\", \"know\", \"episode\", \"bad\", \"explain\", \"art\", \"want\", \"enjoyment\", \"good\", \"even\", \"look\", \"watch\", \"overall\", \"time\", \"bit\", \"harem\", \"make\", \"really\", \"go\", \"well\", \"say\", \"general\", \"alot\", \"trope\", \"troupe\", \"exist\", \"serve\", \"hurt\", \"support\", \"push\", \"hour\", \"entertainment\", \"quickly\", \"pointless\", \"odd\", \"foreshadow\", \"express\", \"regardless\", \"goth\", \"con\", \"adaptation\", \"offer\", \"naked\", \"annoy\", \"thus\", \"lackluster\", \"dull\", \"hack\", \"source\", \"usual\", \"entirely\", \"tor\", \"nature\", \"kind\", \"wrong\", \"winter\", \"rather\", \"moe\", \"hair\", \"form\", \"hand\", \"light\", \"julie\", \"tooru\", \"word\", \"moment\", \"show\", \"problem\", \"tomoe\", \"personality\", \"female\", \"follow\", \"use\", \"together\", \"head\", \"joke\", \"make\", \"weapon\", \"idea\", \"girl\", \"however\", \"bit\", \"character\", \"duo\", \"start\", \"point\", \"way\", \"protagonist\", \"give\", \"really\", \"anime\", \"feel\", \"look\", \"much\", \"story\", \"get\", \"lot\", \"time\", \"say\", \"good\", \"think\", \"go\", \"scene\", \"harem\", \"well\", \"charachter\", \"forward\", \"compare\", \"sub\", \"va\", \"taste\", \"depth\", \"generally\", \"fast\", \"storyline\", \"jiggle\", \"physics\", \"capitalize\", \"ep\", \"pace\", \"humor\", \"meh\", \"enter\", \"check\", \"win\", \"charm\", \"unnecessary\", \"blade\", \"provide\", \"normally\", \"dub\", \"connection\", \"helpful\", \"portion\", \"week\", \"cringe\", \"minor\", \"believe\", \"sweet\", \"art_style\", \"fairly\", \"easily\", \"reviewer\", \"line\", \"spend\", \"series\", \"put\", \"watch\", \"harem\", \"potential\", \"backstory\", \"anime\", \"development\", \"genre\", \"go\", \"story\", \"action\", \"also\", \"enjoyment\", \"animation\", \"character\", \"overall\", \"well\", \"good\", \"opening\", \"ecchi\", \"first\", \"do\", \"make\", \"many\", \"enjoy\", \"time\", \"show\", \"much\", \"really\", \"give\", \"find\", \"scene\", \"get\", \"feel\", \"say\", \"various\", \"repetitive\", \"wise\", \"equipment\", \"interaction\", \"torr\", \"annoyance\", \"inject\", \"destroy\", \"setting\", \"totally\", \"mcs\", \"wish\", \"agree\", \"serum\", \"monster\", \"badass\", \"memory\", \"exposition\", \"repeatedly\", \"shallow\", \"water\", \"wind\", \"nevertheless\", \"severely\", \"extent\", \"flashy\", \"traumatize\", \"irritated\", \"universe\", \"poorly\", \"basic\", \"building\", \"build\", \"twist\", \"motivation\", \"kid\", \"information\", \"miss\", \"create\", \"write\", \"show\", \"much\", \"plot\", \"generic\", \"feel\", \"genre\", \"opinion\", \"else\", \"really\", \"character\", \"world\", \"think\", \"story\", \"overall\", \"enjoy\", \"want\", \"art\", \"get\", \"quite\", \"bad\", \"enjoyment\", \"anime\", \"thing\", \"even\", \"harem\", \"try\", \"lot\", \"cliche\", \"well\", \"good\", \"watch\", \"episode\", \"say\", \"make\", \"love\", \"battle\", \"recommendation\", \"carry\", \"online\", \"downhill\", \"typically\", \"irregular\", \"gon\", \"killer\", \"overpower\", \"junk\", \"advertisement\", \"rom\", \"cost\", \"tone\", \"raisin\", \"generate\", \"osu\", \"broad\", \"chocolate\", \"bun\", \"hotd\", \"mcedgelord\", \"unrelated\", \"ii\", \"bust\", \"bratty\", \"stupidly\", \"engrish\", \"lagann\", \"gurren\", \"score\", \"recommend\", \"spot\", \"high_hope\", \"disappointed\", \"child\", \"stop\", \"avoid\", \"friend\", \"finish\", \"terrible\", \"cookie\", \"drop\", \"cliche\", \"anime\", \"apple\", \"way\", \"overall\", \"definitely\", \"like\", \"however\", \"matter\", \"maybe\", \"really\", \"protagonist\", \"good\", \"start\", \"story\", \"character\", \"enjoy\", \"bad\", \"caitlin\", \"sakuya\", \"augmentation\", \"augment\", \"america\", \"shounen\", \"dimensional\", \"glass\", \"diabolica\", \"insane\", \"tamer\", \"homicidal\", \"pathos\", \"campus\", \"lion\", \"treat\", \"animu\", \"faction\", \"airing\", \"demand\", \"beta\", \"breather\", \"pussy\", \"mistress\", \"tier\", \"title\", \"rito\", \"subtitle\", \"dialog\", \"supposedly\", \"environment\", \"defeat\", \"industry\", \"truly\", \"flaw\", \"match\", \"head\", \"produce\", \"minded\", \"product\", \"bear\", \"artwork\", \"choice\", \"handle\", \"dead\", \"author\", \"nao\", \"que\", \"para\", \"uma\", \"nada\", \"mas\", \"ruim\", \"muito\", \"protagonista\", \"faz\", \"entre\", \"personagen\", \"por\", \"quem\", \"obra\", \"dizer\", \"da\", \"pois\", \"esse\", \"voce\", \"falta\", \"generica\", \"diversos\", \"sobre\", \"ali\", \"espere\", \"fraco\", \"ver\", \"virjao\", \"os\", \"foi\", \"com\", \"drama\", \"spoiler\", \"legal\", \"cativante\", \"perca\", \"fica\", \"coisa\", \"recebi\", \"recomendo\", \"espero\", \"teve\", \"sendo\", \"gorilla\", \"acao\", \"receber\", \"assisitir\", \"empolga\", \"nos\", \"mais\", \"adorei\", \"coisinha\", \"ter\", \"comparado\", \"ao\", \"sabe\", \"historia\", \"estao\", \"tiro\", \"melhor\", \"mediano\", \"ama\", \"muitos\", \"tem\", \"desmotiva\", \"queda\", \"famoso\", \"estatico\", \"morrer\", \"ganhou\", \"aquele\", \"divertimento\", \"mai\", \"rir\", \"desnecessario\", \"motivo\", \"esta\", \"atingem\", \"gorata\", \"character\", \"story\", \"show\", \"anime\", \"make\", \"get\", \"time\", \"good\", \"harem\", \"well\", \"overall\", \"much\", \"go\", \"enjoyment\", \"bad\", \"many\", \"really\", \"plot\", \"even\", \"tor\", \"also\", \"sound\", \"look\", \"mc\", \"take\", \"girl\", \"end\", \"first\", \"watch\", \"main\"], \"Freq\": [456.0, 199.0, 267.0, 381.0, 173.0, 574.0, 59.0, 171.0, 197.0, 23.0, 27.0, 60.0, 175.0, 127.0, 108.0, 96.0, 65.0, 34.0, 142.0, 185.0, 106.0, 55.0, 42.0, 47.0, 50.0, 44.0, 36.0, 78.0, 67.0, 148.0, 24.709354766891067, 19.215470826487927, 17.75867663883095, 15.277723570228817, 17.57819562963892, 12.71020468136597, 12.463818685164433, 11.954752062252068, 11.953249359925904, 13.524157851503098, 23.091392313045763, 11.428351942740226, 9.471660899219685, 14.851928259517477, 8.71509210797627, 8.714697635378316, 46.19680137590767, 7.961032586050576, 7.961072298057082, 7.959239721330213, 7.955568213955434, 7.93985443772796, 30.100184461932454, 9.349046107933637, 7.7242658968114855, 7.707563556368737, 7.205985558896447, 7.205214086983403, 7.2047248350632564, 7.200902951557177, 9.001932460458141, 7.641609855964582, 15.577459205463118, 15.886572169166893, 10.595930042110991, 106.28038523104152, 30.784480578296574, 58.36012513227342, 43.30766077078527, 95.38764659332239, 55.50589720529688, 26.73019817420068, 14.224609871100453, 74.80825366607124, 286.4094465006685, 14.365797173588945, 64.33073106053041, 57.704408952751095, 216.8731682006219, 33.892886526644425, 106.11633546166117, 179.24157099432338, 67.21321699234934, 52.71757214735617, 69.29345261760159, 79.21524858106648, 28.7634825589083, 65.72707722036515, 62.2493644373329, 85.13991566019803, 86.3677643059238, 58.109509542632345, 57.671190653549466, 76.70814383244699, 82.70265321165971, 62.210554687615314, 42.50469882506199, 68.78363517301956, 66.74658926705574, 59.74200976781915, 49.600745135655494, 47.80687649576758, 46.818930728807985, 10.56169526265426, 9.726629056371824, 9.723593889452427, 8.050482781889354, 8.041881551526053, 8.040856307773668, 7.1610532045970015, 9.166095129631323, 6.305621314621916, 6.3027619264994765, 6.303874264271168, 6.292149579900406, 6.207861260622168, 6.192084914750513, 5.440401090869694, 5.437607321528923, 5.436780922569476, 5.400666731276183, 5.395328543964985, 5.38735049318275, 5.301472210940184, 4.57075895661213, 4.5702435509088355, 4.570100780347507, 4.569726156757612, 4.569215921018936, 4.568479797595481, 4.566704908973722, 8.3503144821263, 4.53071598989998, 56.57644038042597, 7.028395889436737, 28.861236797674927, 8.024453203114675, 6.307404952414565, 26.055955138772397, 11.619283109058749, 8.036327418769725, 18.794280105915693, 8.638032557577501, 11.184115256611085, 62.14947770890788, 33.69568184575343, 9.280121483072524, 23.81777564781068, 122.8225662361807, 19.499517365372608, 19.080815452538502, 21.370212589885867, 20.487745761863014, 15.054870151026828, 18.49761003788645, 16.233847971244575, 11.844986265867801, 14.216542094761046, 66.69667952290071, 23.8314498065314, 22.12249970886846, 45.757447909502424, 21.29791103241548, 28.619505159796773, 99.57071241361996, 27.981362905751975, 22.95549395240849, 20.359724711894877, 24.11082514985012, 20.242619445679832, 27.35301017855307, 39.065432984002875, 62.081781396841926, 30.77473773845341, 29.421587787205922, 31.377991480508584, 47.93896936054373, 33.789819743005026, 23.59399730859726, 27.886852771047995, 26.185899415577826, 27.61033761123089, 23.306154358616094, 24.77099304391901, 23.398489926664514, 25.27968415624487, 24.33826859628696, 33.40666120056637, 14.703112061042695, 14.160475136010987, 13.459297308875474, 10.830758479150754, 10.009893241121137, 9.066193330348325, 8.235988437806565, 7.81890154995486, 7.3770140964601945, 6.575902321724964, 6.573236752519224, 6.160277279585212, 5.625297641616124, 5.618971614812566, 7.141421679774455, 5.208723949513139, 5.2063251404738145, 10.274233765798176, 5.5710370994234895, 5.177385981391902, 4.792651766523016, 4.792727475598817, 4.792255437132913, 4.791900265025629, 10.266047023319548, 4.789716388463244, 4.784976187334699, 4.790392688999432, 4.789927764137966, 6.318695726069769, 5.166593627230652, 10.54223271561462, 6.5581396514439385, 18.222434730586325, 7.924992322195435, 14.239548946711647, 7.37438358716204, 12.232500330981726, 7.641849524760257, 51.47763916283967, 20.304976981526316, 71.73634316372772, 79.22765967252265, 14.566195500200399, 10.872679966331534, 127.04363395724882, 24.353491863714336, 20.50723708027524, 49.24845910247861, 101.7106495739186, 30.33617140302165, 35.152144613579175, 53.74385061544516, 28.37391004083171, 111.53030978893662, 56.603934220930554, 42.05856430583623, 48.816403158431505, 17.480849597786065, 32.23872320201965, 27.695642084902524, 21.377176026633173, 40.2433838290009, 23.04836088998145, 21.666039178265496, 30.536884800919967, 39.874517016944985, 29.226987712213802, 31.37287762690103, 24.59588082132573, 23.411575435196983, 23.609299086773042, 29.007713904108225, 24.25189943005142, 24.09322946683853, 6.847178445510645, 6.479977305154939, 6.121127785974069, 5.756606332452405, 5.6509879136677466, 5.392904482472517, 3.8337421034653274, 3.833670909089877, 3.8320344803234168, 3.831113815497465, 3.8251834976672296, 4.149556880068811, 10.183524691429984, 3.4704000455486925, 3.4701305487908884, 3.469750961218363, 3.469558215470191, 3.4688004294836854, 3.468032919387362, 3.4654438751484062, 8.109043531324291, 3.1069475495276997, 3.1068767024418853, 3.1068409316093417, 3.1068016878804348, 3.1066315159586253, 3.1066579099709877, 3.1067457742489832, 3.106339445374459, 3.1060605717964735, 8.90685951047384, 6.792352525200058, 6.439282600147249, 6.740129888003516, 6.0475183583921, 12.643759898844232, 6.535830508209837, 5.680258526087853, 6.630794775530688, 9.139676231466392, 15.43729105399705, 67.53790456391238, 39.08292824877647, 31.157375891394583, 18.68828323141249, 30.619471476085987, 15.088370545519297, 10.417394394599937, 11.55781993495557, 37.00776431724572, 73.90288454636351, 9.542369678077332, 19.3102136796556, 49.49310179725751, 33.73128663715671, 16.29079839923096, 22.96701935377491, 22.5296483423956, 28.062519577845887, 14.573392802843683, 22.68980998772686, 23.863293333986945, 34.675069839620804, 19.524919246112738, 17.939469819951285, 22.093073318862796, 14.67001572546772, 14.756479731649382, 14.367336137490096, 18.12055080381745, 19.622647938938897, 18.8038653898639, 17.191273194884232, 16.649963951980904, 16.688911790117775, 15.125534704083899, 14.770628311434097, 2.578632518899969, 2.5762887547671336, 3.784679845512942, 2.243660588037394, 2.2723601612498587, 3.4290836610296984, 3.40474247323131, 0.9824813984079935, 0.9814832306243624, 0.9808536070522071, 0.9783097885009744, 0.972044609468241, 2.4534238498083267, 2.0380436844732266, 0.6804310089406975, 0.6803866733405377, 0.6804249862650621, 0.6803833354721133, 0.6803223830921881, 0.6799223468177509, 0.6800570951147996, 0.6800041971565075, 0.679903698291988, 0.6799729227806173, 0.6790782289181447, 0.6790658207550886, 0.6790672720022297, 0.679050219848322, 0.6789763513688414, 0.6789391994420299, 2.564903140446546, 9.669387447016836, 0.9417228322014833, 2.5774703601893965, 2.4824171554421444, 2.0713963913941185, 2.621070468298131, 2.274499589785231, 5.155301790667492, 3.012537128367317, 3.159356318636702, 1.5674940688207446, 2.3060906278015723, 5.433922665790423, 15.980441562877362, 0.9294034854703287, 4.78979997369813, 8.09128911533626, 2.760552153022243, 3.2403954102414527, 3.2110575785363435, 2.423769646226463, 2.3072172309571886, 4.624697101197201, 2.6096822417326897, 3.061645299875286, 2.587255248913378, 3.103381135906596, 2.88749825519118, 2.467370625083482, 2.3324979561547092, 2.0570067736692526, 1.399315369789284, 1.0704653342497708, 1.0704482373091642, 1.0703824615793303, 1.0702150540358903, 1.0700922885040345, 2.0570345561977383, 0.7415926808825802, 0.7415902469431189, 0.7415899501212333, 0.7415772461445326, 0.741581935930324, 0.7415714877999533, 0.7415648983540944, 0.7414542431551682, 0.7414367306639218, 0.7414415391784674, 0.7408889755563614, 0.740982533814681, 0.7408787055191219, 0.7399945918508768, 0.7399416388264979, 1.0565733576343554, 1.0564350386356975, 3.8797434310486283, 2.3852483243434253, 1.0364864708103823, 1.0489580953391506, 0.7310445215364353, 1.3422821130431288, 1.3992381960990457, 0.9939981394634354, 1.1535254773931625, 1.0639340654805283, 1.0632391460821211, 1.6491369344922073, 1.2656740465899199, 1.031518147361596, 0.9781320004873477, 1.068285474322425, 1.042542943291528, 1.1013925125196296, 0.9943882227854014, 0.8968667986501444, 0.8025018971743871, 2.7264829428901405, 2.2815127007339897, 1.8366098444870047, 0.9467348857366833, 0.946719451745218, 0.9467094609918141, 0.9467102878127854, 0.9466964385615152, 0.7242703662811443, 0.7242713309056109, 0.724264165123859, 0.7242611334469641, 0.7242589974927881, 0.7242383958702517, 0.5018034352644388, 0.5018008169980295, 0.5017991978069606, 0.5017980953789988, 0.5017968206966679, 0.5017986465929797, 0.5017971996562798, 0.5017952359564728, 0.5017920320252088, 0.5017914808112279, 0.5017908951463732, 0.5017882079782162, 0.5017896204640423, 0.5017884491343328, 0.5017878979203519, 0.5017793196527741, 0.5017852452030689, 0.7242920014298948, 0.8530948613656406, 0.841625338654447, 0.0005137775489394094, 0.0005137799078766026, 0.0005137742222331113, 0.00051377494805994, 0.0005137705326133988, 0.0005137733149495753, 0.0005137725891227467, 0.0005137717423247799, 0.0005137690204741723, 0.0005137731939784373, 0.0005137777303961165, 0.0005137696253298629, 0.0005137713189257965, 0.0005137723471804705, 0.0005137700487288464, 0.0005137713794113656, 0.0005137699882432772, 0.000513768657560758, 0.0005137696253298629, 0.0005137698672721392, 0.0005137735568918516, 0.0005137704116422606, 0.0005137704116422606, 0.0005137712584402274, 0.0005137678107627911, 0.0005137726496083157, 0.0005137695043587248, 0.000513770835041244, 0.0005137717423247799, 0.0005137690204741723, 0.0005137721657237633, 0.0005137730730072991, 0.0005137722262093323, 0.0005137717423247799, 0.0005137739198052659, 0.0005137739198052659, 0.0005137710164979512, 0.0005137716213536418, 0.0005137736778629897, 0.0005137713794113656, 0.0005137731939784373, 0.0005137710164979512, 0.0005137714398969346, 0.0005137714398969346, 0.0005137711979546584, 0.0005137711374690894, 0.0005161179170629353, 0.0005156622792712283, 0.0005155205010973585, 0.0005151770640362523, 0.0005148600591688242, 0.0005148468128292007, 0.0005147211238166999, 0.0005146911834600168, 0.0005146855583020944, 0.0005145573893812625, 0.0005145195254150327, 0.0005145121461756077, 0.000514507125873376, 0.0005144580720768707, 0.0005144564994520752, 0.0005144557736252466, 0.0005144462169053355, 0.0005144406522329823, 0.000514409623136056, 0.0005144059335163434, 0.0005143946227149298, 0.000514389420955991, 0.0005143629282767439, 0.0005143192576958847, 0.0005143177455566582, 0.0005143102453460951, 0.00051430800738004, 0.0005142745588603514, 0.0005142683893323076, 0.0005142577438721536], \"Total\": [456.0, 199.0, 267.0, 381.0, 173.0, 574.0, 59.0, 171.0, 197.0, 23.0, 27.0, 60.0, 175.0, 127.0, 108.0, 96.0, 65.0, 34.0, 142.0, 185.0, 106.0, 55.0, 42.0, 47.0, 50.0, 44.0, 36.0, 78.0, 67.0, 148.0, 25.43993188468245, 19.887299274292566, 18.41497957006916, 15.928824054603815, 18.448370261054908, 13.35135940822445, 13.117263954628516, 12.596048426516667, 12.594768689042855, 14.374746318327183, 24.57011443157013, 12.172784929178164, 10.113050461396446, 15.889642474492343, 9.356946073005034, 9.356728664727857, 49.86858120231253, 8.602331754142833, 8.602493411745696, 8.60136734952071, 8.60212823287792, 8.592281104305162, 32.58370390478408, 10.122824561419858, 8.375530968513162, 8.386702941374256, 7.847177059013969, 7.846791737703364, 7.846327607752315, 7.844518070347479, 9.808932709454158, 8.32736110267526, 17.262840431917528, 17.617190499198493, 11.756110844892023, 137.30901036372876, 37.72507804754496, 78.44545703652193, 57.869552189456236, 142.07769120631136, 77.12819320485593, 33.78407895380124, 16.600002499241683, 116.10718075152029, 574.4503559033535, 16.87665018493464, 101.80289088814108, 89.57632750542486, 456.8067813780328, 47.74381493115477, 197.20076694884222, 381.6341957367396, 115.78117015177288, 85.85233611527737, 123.39112576912775, 148.04016235948035, 39.18855249426197, 119.82555269120354, 112.54761275423024, 175.73983164530088, 185.63377240402474, 105.62356653257683, 105.68691962443805, 173.37935733985032, 199.55871307090732, 127.63075957633716, 71.6118901628857, 197.56081143123512, 191.05636324908755, 171.95574392446227, 132.19185871407942, 134.05064806222623, 113.97524315207257, 11.248541643811961, 10.365815226677526, 10.366978877447663, 8.662495715348342, 8.656846812254702, 8.656741297367528, 7.78069096150838, 10.039308990748415, 6.919414424249702, 6.917232260852892, 6.918484854129252, 6.918589959792718, 6.867927281176128, 6.877398105196968, 6.052413089576422, 6.050138216378382, 6.0500894184643865, 6.0290632385860405, 6.0283562812342435, 6.024135528348843, 5.971311400702441, 5.182677105738416, 5.182329419411764, 5.182188797356153, 5.181948074950687, 5.181485559038288, 5.181121068924014, 5.180003463539008, 9.506379901545573, 5.16104749830331, 65.63927258248205, 8.027323818367172, 34.33897219438241, 9.250960085176635, 7.222357908155517, 31.27034687590787, 13.641841271469879, 9.435242704678245, 24.017656409950348, 10.237964972613245, 13.767123542130422, 101.0294929037186, 52.034849500863835, 11.492956471855518, 35.89525671290858, 267.90050747531035, 28.539350362600423, 28.081295954009075, 32.630520448552225, 31.308660508039978, 21.11892448475994, 27.654501630444273, 24.044555641271195, 15.979432158723862, 20.560509018376003, 191.05636324908755, 45.180194469910695, 44.21251039989518, 142.07769120631136, 42.04280445434596, 71.6118901628857, 574.4503559033535, 70.6828860508062, 50.21117025378894, 41.089261491520716, 60.411255425546734, 44.61807850357363, 82.38567772954633, 171.95574392446227, 456.8067813780328, 106.0230080917255, 105.68691962443805, 127.79184844931122, 381.6341957367396, 197.20076694884222, 65.12199987810676, 127.63075957633716, 113.97524315207257, 185.63377240402474, 69.59167862803776, 132.19185871407942, 74.76411593256324, 197.56081143123512, 134.05064806222623, 34.135200858134745, 15.438791227384067, 14.912691466153566, 14.190990986309213, 11.592405401514979, 10.745976142974369, 9.796655349910758, 8.966670157057356, 8.552113838318773, 8.131641849461735, 7.304350460856226, 7.305494923324822, 6.888444929373532, 6.354035260761853, 6.3574851638345695, 8.110287899429595, 5.938435932082432, 5.937622487232297, 11.765344573367855, 6.395817872422455, 5.960622496923927, 5.522222698368673, 5.522762943662102, 5.522367458066457, 5.5242453447935755, 11.837206394945659, 5.522902068954057, 5.517593838781895, 5.524321953245983, 5.526341436213583, 7.3332325168932115, 5.976286717387203, 12.630920097487408, 7.664770092047751, 22.56912828171745, 9.560757672204005, 18.322408218296804, 9.039078446510976, 16.9181941790825, 9.615855906752737, 108.89181752703333, 33.845250004725585, 173.37935733985032, 197.56081143123512, 22.595303620090565, 15.553258813163655, 456.8067813780328, 47.449101510165235, 37.56213042476096, 132.19185871407942, 381.6341957367396, 67.42398240708127, 88.14189636486957, 175.73983164530088, 66.24976807004712, 574.4503559033535, 199.55871307090732, 134.05064806222623, 185.63377240402474, 31.907694385986485, 98.85335819170228, 83.76165939699372, 51.12245221859701, 191.05636324908755, 60.573635907365365, 55.57533545534786, 127.63075957633716, 267.90050747531035, 127.79184844931122, 171.95574392446227, 82.38567772954633, 71.27293892363113, 74.76411593256324, 197.20076694884222, 106.0230080917255, 113.97524315207257, 7.59046877197291, 7.226737324398716, 6.862865677945154, 6.499050799025218, 6.393966497293341, 6.135366854082712, 4.575603664127271, 4.575636082185218, 4.5746826594638526, 4.575484361080459, 4.573915741042373, 5.005564692357783, 12.299040804067007, 4.21203031933067, 4.212147992884711, 4.211953672236743, 4.211943416117116, 4.212448419286572, 4.2118601803628986, 4.212197244399013, 9.925751761480514, 3.8483613280059643, 3.8483599441477794, 3.848346454705575, 3.84831310825147, 3.848148920577414, 3.848236868014105, 3.8484257380398725, 3.8484211103111714, 3.8481461670726147, 11.06288626055981, 8.514346982502365, 8.153880110261495, 8.607408291520217, 7.867135031779469, 17.960936349057018, 8.893744927798766, 8.084464884147277, 10.020011769461384, 15.586417830564075, 33.2991769921612, 267.90050747531035, 127.79184844931122, 96.83529826101021, 47.01295429837007, 106.0230080917255, 37.56213042476096, 21.447733483948713, 25.62070264630227, 171.95574392446227, 574.4503559033535, 20.44114941040635, 69.59167862803776, 381.6341957367396, 199.55871307090732, 55.57533545534786, 112.54761275423024, 119.82555269120354, 197.20076694884222, 49.97240330741373, 148.04016235948035, 175.73983164530088, 456.8067813780328, 115.78117015177288, 105.62356653257683, 197.56081143123512, 63.50026187574509, 65.12199987810676, 59.76454235401162, 134.05064806222623, 185.63377240402474, 173.37935733985032, 123.39112576912775, 113.97524315207257, 191.05636324908755, 89.57632750542486, 69.41201460747446, 3.3359892063869623, 3.3345279729543225, 5.410644358119184, 3.4575845292180256, 3.792392368584843, 5.811104299964947, 5.848610165695088, 1.739802955998379, 1.7394277290936129, 1.7396815092722073, 1.7393482519640373, 1.739827163208925, 4.448849575860375, 3.9267153998974864, 1.437916424205746, 1.4378449479855882, 1.4379283978992803, 1.43784658165734, 1.4378720245522107, 1.4376486972447058, 1.4379729912302504, 1.4380406652040811, 1.4379262720847368, 1.4380780370005901, 1.4373247563926292, 1.4373256817375426, 1.437330381421941, 1.4373327730437522, 1.437307846510048, 1.4373250690332842, 5.815350031038195, 23.877250149688695, 2.1098223371438816, 7.523048082557861, 8.008451625217342, 6.441558373064719, 9.767854470556895, 8.16981963025562, 27.36313825775812, 12.811462579009579, 17.314287772795137, 5.726724415390066, 12.090049101618455, 59.76454235401162, 456.8067813780328, 2.5693133637168506, 60.411255425546734, 199.55871307090732, 21.04279864787749, 36.81884503767911, 42.04280445434596, 24.28747114220339, 21.050290443102668, 171.95574392446227, 44.61807850357363, 185.63377240402474, 50.21117025378894, 381.6341957367396, 574.4503559033535, 55.57533545534786, 148.04016235948035, 2.807691453999103, 2.1498736347712124, 1.8209424859692156, 1.820939360623387, 1.820932593412506, 1.820948286844051, 1.8208207323209642, 3.675744505979555, 1.4920143685274951, 1.492014570200264, 1.4920142884420138, 1.4920107437298902, 1.4920234837642286, 1.4920270786077465, 1.4920223697115047, 1.4919636333712047, 1.4920178622250935, 1.492060967182802, 1.4919730481110558, 1.4922175856222046, 1.4920627843733933, 1.492056876169336, 1.4920875555065165, 2.184551755297612, 2.1848443594747606, 8.161618426835455, 5.738813942253972, 2.6179048400561733, 2.6565876099325, 1.8557159757022759, 3.711332380609039, 5.6262164918612, 2.815028680778661, 4.491111716508612, 3.757459186244874, 3.9737222903847575, 15.979432158723862, 7.30552177992858, 4.708264223179101, 3.9530211499935097, 6.165272152771203, 5.707386700223603, 8.467829092092877, 6.0719742588498065, 4.664134503965208, 6.9033099240661455, 3.5046339366275707, 3.0596662337203617, 2.614527783406279, 1.724483063908914, 1.7245033019785347, 1.7245324171938698, 1.7245475249039164, 1.7245322414312354, 1.501931577472042, 1.5019412465285291, 1.5019477272776283, 1.5019603475744767, 1.5019815638316287, 1.501988228707651, 1.2793828553816289, 1.2793941480557514, 1.2793917952406832, 1.2793967719333594, 1.2793942838456789, 1.2794013165946365, 1.2793977295461154, 1.2794042988134922, 1.2794054351382123, 1.2794044471886776, 1.2794084366595815, 1.2794065724696269, 1.2794210418976486, 1.2794221122209901, 1.2794242948292263, 1.2794203549783678, 1.279436964469571, 2.4804324296522076, 14.302471676878756, 18.298771139801538, 1.0568456588885293, 1.0568562049098036, 1.0568474538002426, 1.0568489579195883, 1.056842144268592, 1.0568485381665789, 1.0568471042315397, 1.0568477073786484, 1.0568423768972144, 1.0568510073975204, 1.0568607223324396, 1.056844255046332, 1.0568478288597842, 1.0568504253495274, 1.0568457850138018, 1.056848834286211, 1.0568460655417642, 1.0568434065791164, 1.056846000259759, 1.056847190904733, 1.056855293125453, 1.0568495451189586, 1.056849837688343, 1.056851896542372, 1.0568448391260332, 1.0568552142637875, 1.0568487725239921, 1.0568518312562527, 1.0568540634188144, 1.0568486595536095, 1.0568551929249588, 1.0568572233310276, 1.056855670346351, 1.0568546679673523, 1.0568625600844057, 1.0568650663989734, 1.0568528211004564, 1.0568562060994648, 1.0568683140995427, 1.0568553633393185, 1.0568671256184763, 1.0568539501880507, 1.0568579110506473, 1.0568582642824011, 1.0568572383509731, 1.0568594966620155, 574.4503559033535, 381.6341957367396, 267.90050747531035, 456.8067813780328, 191.05636324908755, 197.20076694884222, 127.63075957633716, 185.63377240402474, 197.56081143123512, 134.05064806222623, 199.55871307090732, 127.79184844931122, 132.19185871407942, 175.73983164530088, 148.04016235948035, 60.573635907365365, 171.95574392446227, 96.83529826101021, 105.62356653257683, 65.63927258248205, 88.14189636486957, 87.44718234186831, 105.68691962443805, 78.44545703652193, 55.354777963764505, 142.07769120631136, 116.10718075152029, 83.76165939699372, 173.37935733985032, 137.30901036372876], \"Category\": [\"Default\", \"Default\", \"Default\", \"Default\", \"Default\", \"Default\", \"Default\", \"Default\", \"Default\", \"Default\", \"Default\", \"Default\", \"Default\", \"Default\", \"Default\", \"Default\", \"Default\", \"Default\", \"Default\", \"Default\", \"Default\", \"Default\", \"Default\", \"Default\", \"Default\", \"Default\", \"Default\", \"Default\", \"Default\", \"Default\", \"Topic1\", \"Topic1\", \"Topic1\", \"Topic1\", \"Topic1\", \"Topic1\", \"Topic1\", \"Topic1\", \"Topic1\", \"Topic1\", \"Topic1\", \"Topic1\", \"Topic1\", \"Topic1\", \"Topic1\", \"Topic1\", \"Topic1\", \"Topic1\", \"Topic1\", \"Topic1\", \"Topic1\", \"Topic1\", \"Topic1\", \"Topic1\", \"Topic1\", \"Topic1\", \"Topic1\", \"Topic1\", \"Topic1\", \"Topic1\", \"Topic1\", \"Topic1\", \"Topic1\", \"Topic1\", \"Topic1\", \"Topic1\", \"Topic1\", \"Topic1\", \"Topic1\", \"Topic1\", \"Topic1\", \"Topic1\", \"Topic1\", \"Topic1\", \"Topic1\", \"Topic1\", \"Topic1\", \"Topic1\", \"Topic1\", \"Topic1\", \"Topic1\", \"Topic1\", \"Topic1\", \"Topic1\", \"Topic1\", \"Topic1\", \"Topic1\", \"Topic1\", \"Topic1\", \"Topic1\", \"Topic1\", \"Topic1\", \"Topic1\", \"Topic1\", \"Topic1\", \"Topic1\", \"Topic1\", \"Topic1\", \"Topic1\", \"Topic1\", \"Topic1\", \"Topic1\", \"Topic1\", \"Topic2\", \"Topic2\", \"Topic2\", \"Topic2\", \"Topic2\", \"Topic2\", \"Topic2\", \"Topic2\", \"Topic2\", \"Topic2\", \"Topic2\", \"Topic2\", \"Topic2\", \"Topic2\", \"Topic2\", \"Topic2\", \"Topic2\", \"Topic2\", \"Topic2\", \"Topic2\", \"Topic2\", \"Topic2\", \"Topic2\", \"Topic2\", \"Topic2\", \"Topic2\", \"Topic2\", \"Topic2\", \"Topic2\", \"Topic2\", \"Topic2\", \"Topic2\", \"Topic2\", \"Topic2\", \"Topic2\", \"Topic2\", \"Topic2\", \"Topic2\", \"Topic2\", \"Topic2\", \"Topic2\", \"Topic2\", \"Topic2\", \"Topic2\", \"Topic2\", \"Topic2\", \"Topic2\", \"Topic2\", \"Topic2\", \"Topic2\", \"Topic2\", \"Topic2\", \"Topic2\", \"Topic2\", \"Topic2\", \"Topic2\", \"Topic2\", \"Topic2\", \"Topic2\", \"Topic2\", \"Topic2\", \"Topic2\", \"Topic2\", \"Topic2\", \"Topic2\", \"Topic2\", \"Topic2\", \"Topic2\", \"Topic2\", \"Topic2\", \"Topic2\", \"Topic2\", \"Topic2\", \"Topic2\", \"Topic2\", \"Topic2\", \"Topic2\", \"Topic2\", \"Topic2\", \"Topic2\", \"Topic2\", \"Topic2\", \"Topic2\", \"Topic2\", \"Topic3\", \"Topic3\", \"Topic3\", \"Topic3\", \"Topic3\", \"Topic3\", \"Topic3\", \"Topic3\", \"Topic3\", \"Topic3\", \"Topic3\", \"Topic3\", \"Topic3\", \"Topic3\", \"Topic3\", \"Topic3\", \"Topic3\", \"Topic3\", \"Topic3\", \"Topic3\", \"Topic3\", \"Topic3\", \"Topic3\", \"Topic3\", \"Topic3\", \"Topic3\", \"Topic3\", \"Topic3\", \"Topic3\", \"Topic3\", \"Topic3\", \"Topic3\", \"Topic3\", \"Topic3\", \"Topic3\", \"Topic3\", \"Topic3\", \"Topic3\", \"Topic3\", \"Topic3\", \"Topic3\", \"Topic3\", \"Topic3\", \"Topic3\", \"Topic3\", \"Topic3\", \"Topic3\", \"Topic3\", \"Topic3\", \"Topic3\", \"Topic3\", \"Topic3\", \"Topic3\", \"Topic3\", \"Topic3\", \"Topic3\", \"Topic3\", \"Topic3\", \"Topic3\", \"Topic3\", \"Topic3\", \"Topic3\", \"Topic3\", \"Topic3\", \"Topic3\", \"Topic3\", \"Topic3\", \"Topic3\", \"Topic3\", \"Topic3\", \"Topic3\", \"Topic3\", \"Topic3\", \"Topic3\", \"Topic3\", \"Topic3\", \"Topic4\", \"Topic4\", \"Topic4\", \"Topic4\", \"Topic4\", \"Topic4\", \"Topic4\", \"Topic4\", \"Topic4\", \"Topic4\", \"Topic4\", \"Topic4\", \"Topic4\", \"Topic4\", \"Topic4\", \"Topic4\", \"Topic4\", \"Topic4\", \"Topic4\", \"Topic4\", \"Topic4\", \"Topic4\", \"Topic4\", \"Topic4\", \"Topic4\", \"Topic4\", \"Topic4\", \"Topic4\", \"Topic4\", \"Topic4\", \"Topic4\", \"Topic4\", \"Topic4\", \"Topic4\", \"Topic4\", \"Topic4\", \"Topic4\", \"Topic4\", \"Topic4\", \"Topic4\", \"Topic4\", \"Topic4\", \"Topic4\", \"Topic4\", \"Topic4\", \"Topic4\", \"Topic4\", \"Topic4\", \"Topic4\", \"Topic4\", \"Topic4\", \"Topic4\", \"Topic4\", \"Topic4\", \"Topic4\", \"Topic4\", \"Topic4\", \"Topic4\", \"Topic4\", \"Topic4\", \"Topic4\", \"Topic4\", \"Topic4\", \"Topic4\", \"Topic4\", \"Topic4\", \"Topic4\", \"Topic4\", \"Topic4\", \"Topic4\", \"Topic4\", \"Topic4\", \"Topic4\", \"Topic4\", \"Topic4\", \"Topic4\", \"Topic4\", \"Topic5\", \"Topic5\", \"Topic5\", \"Topic5\", \"Topic5\", \"Topic5\", \"Topic5\", \"Topic5\", \"Topic5\", \"Topic5\", \"Topic5\", \"Topic5\", \"Topic5\", \"Topic5\", \"Topic5\", \"Topic5\", \"Topic5\", \"Topic5\", \"Topic5\", \"Topic5\", \"Topic5\", \"Topic5\", \"Topic5\", \"Topic5\", \"Topic5\", \"Topic5\", \"Topic5\", \"Topic5\", \"Topic5\", \"Topic5\", \"Topic5\", \"Topic5\", \"Topic5\", \"Topic5\", \"Topic5\", \"Topic5\", \"Topic5\", \"Topic5\", \"Topic5\", \"Topic5\", \"Topic5\", \"Topic5\", \"Topic5\", \"Topic5\", \"Topic5\", \"Topic5\", \"Topic5\", \"Topic5\", \"Topic5\", \"Topic5\", \"Topic5\", \"Topic5\", \"Topic5\", \"Topic5\", \"Topic5\", \"Topic5\", \"Topic5\", \"Topic5\", \"Topic5\", \"Topic5\", \"Topic5\", \"Topic6\", \"Topic6\", \"Topic6\", \"Topic6\", \"Topic6\", \"Topic6\", \"Topic6\", \"Topic6\", \"Topic6\", \"Topic6\", \"Topic6\", \"Topic6\", \"Topic6\", \"Topic6\", \"Topic6\", \"Topic6\", \"Topic6\", \"Topic6\", \"Topic6\", \"Topic6\", \"Topic6\", \"Topic6\", \"Topic6\", \"Topic6\", \"Topic6\", \"Topic6\", \"Topic6\", \"Topic6\", \"Topic6\", \"Topic6\", \"Topic6\", \"Topic6\", \"Topic6\", \"Topic6\", \"Topic6\", \"Topic6\", \"Topic6\", \"Topic6\", \"Topic6\", \"Topic6\", \"Topic6\", \"Topic6\", \"Topic6\", \"Topic6\", \"Topic6\", \"Topic6\", \"Topic7\", \"Topic7\", \"Topic7\", \"Topic7\", \"Topic7\", \"Topic7\", \"Topic7\", \"Topic7\", \"Topic7\", \"Topic7\", \"Topic7\", \"Topic7\", \"Topic7\", \"Topic7\", \"Topic7\", \"Topic7\", \"Topic7\", \"Topic7\", \"Topic7\", \"Topic7\", \"Topic7\", \"Topic7\", \"Topic7\", \"Topic7\", \"Topic7\", \"Topic7\", \"Topic7\", \"Topic7\", \"Topic7\", \"Topic7\", \"Topic7\", \"Topic7\", \"Topic7\", \"Topic7\", \"Topic8\", \"Topic8\", \"Topic8\", \"Topic8\", \"Topic8\", \"Topic8\", \"Topic8\", \"Topic8\", \"Topic8\", \"Topic8\", \"Topic8\", \"Topic8\", \"Topic8\", \"Topic8\", \"Topic8\", \"Topic8\", \"Topic8\", \"Topic8\", \"Topic8\", \"Topic8\", \"Topic8\", \"Topic8\", \"Topic8\", \"Topic8\", \"Topic8\", \"Topic8\", \"Topic8\", \"Topic8\", \"Topic8\", \"Topic8\", \"Topic8\", \"Topic8\", \"Topic8\", \"Topic8\", \"Topic8\", \"Topic8\", \"Topic8\", \"Topic8\", \"Topic8\", \"Topic8\", \"Topic8\", \"Topic8\", \"Topic8\", \"Topic8\", \"Topic8\", \"Topic8\", \"Topic8\", \"Topic8\", \"Topic8\", \"Topic8\", \"Topic8\", \"Topic8\", \"Topic8\", \"Topic8\", \"Topic8\", \"Topic8\", \"Topic8\", \"Topic8\", \"Topic8\", \"Topic8\", \"Topic8\", \"Topic8\", \"Topic8\", \"Topic8\", \"Topic8\", \"Topic8\", \"Topic8\", \"Topic8\", \"Topic8\", \"Topic8\", \"Topic8\", \"Topic8\", \"Topic8\", \"Topic8\", \"Topic8\", \"Topic8\"], \"logprob\": [30.0, 29.0, 28.0, 27.0, 26.0, 25.0, 24.0, 23.0, 22.0, 21.0, 20.0, 19.0, 18.0, 17.0, 16.0, 15.0, 14.0, 13.0, 12.0, 11.0, 10.0, 9.0, 8.0, 7.0, 6.0, 5.0, 4.0, 3.0, 2.0, 1.0, -5.9085, -6.1599, -6.2388, -6.3893, -6.249, -6.5733, -6.5928, -6.6345, -6.6347, -6.5112, -5.9762, -6.6796, -6.8674, -6.4175, -6.9506, -6.9506, -5.2827, -7.0411, -7.0411, -7.0413, -7.0418, -7.0438, -5.7111, -6.8804, -7.0713, -7.0735, -7.1407, -7.1409, -7.1409, -7.1415, -6.9182, -7.0821, -6.3698, -6.3502, -6.7552, -4.4496, -5.6886, -5.049, -5.3473, -4.5577, -5.0992, -5.8299, -6.4607, -4.8007, -3.4582, -6.4508, -4.9516, -5.0603, -3.7363, -5.5925, -4.4511, -3.9269, -4.9078, -5.1507, -4.8773, -4.7435, -5.7566, -4.9301, -4.9845, -4.6714, -4.657, -5.0533, -5.0609, -4.7757, -4.7004, -4.9851, -5.366, -4.8847, -4.9148, -5.0256, -5.2117, -5.2485, -5.2694, -6.4722, -6.5545, -6.5549, -6.7437, -6.7447, -6.7449, -6.8608, -6.6139, -6.988, -6.9884, -6.9882, -6.9901, -7.0036, -7.0061, -7.1356, -7.1361, -7.1362, -7.1429, -7.1439, -7.1454, -7.1614, -7.3097, -7.3098, -7.3099, -7.31, -7.3101, -7.3102, -7.3106, -6.7071, -7.3185, -4.7938, -6.8795, -5.4669, -6.7469, -6.9877, -5.5692, -6.3767, -6.7454, -5.8959, -6.6732, -6.4149, -4.6999, -5.312, -6.6015, -5.659, -4.0187, -5.859, -5.8807, -5.7674, -5.8096, -6.1177, -5.9118, -6.0423, -6.3575, -6.175, -4.6293, -5.6584, -5.7328, -5.0061, -5.7708, -5.4753, -4.2285, -5.4979, -5.6959, -5.8159, -5.6467, -5.8216, -5.5206, -5.1642, -4.701, -5.4027, -5.4477, -5.3833, -4.9595, -5.3093, -5.6684, -5.5013, -5.5642, -5.5112, -5.6807, -5.6197, -5.6767, -5.5994, -5.6374, -4.8725, -5.6932, -5.7308, -5.7816, -5.9989, -6.0777, -6.1767, -6.2728, -6.3248, -6.3829, -6.4979, -6.4983, -6.5632, -6.654, -6.6551, -6.4154, -6.731, -6.7314, -6.0517, -6.6637, -6.737, -6.8142, -6.8142, -6.8143, -6.8144, -6.0525, -6.8148, -6.8158, -6.8147, -6.8148, -6.5378, -6.7391, -6.0259, -6.5006, -5.4786, -6.3113, -5.7253, -6.3833, -5.8772, -6.3477, -4.4402, -5.3704, -4.1083, -4.009, -5.7026, -5.995, -3.5368, -5.1886, -5.3605, -4.4844, -3.7592, -4.969, -4.8216, -4.3971, -5.0358, -3.667, -4.3452, -4.6422, -4.4932, -5.5202, -4.9081, -5.06, -5.319, -4.6864, -5.2437, -5.3056, -4.9624, -4.6956, -5.0062, -4.9354, -5.1787, -5.2281, -5.2197, -5.0137, -5.1928, -5.1994, -6.0769, -6.132, -6.189, -6.2504, -6.2689, -6.3157, -6.6569, -6.6569, -6.6574, -6.6576, -6.6591, -6.5777, -5.68, -6.7565, -6.7566, -6.7567, -6.7567, -6.7569, -6.7572, -6.7579, -5.9078, -6.8671, -6.8671, -6.8671, -6.8672, -6.8672, -6.8672, -6.8672, -6.8673, -6.8674, -5.8139, -6.085, -6.1383, -6.0927, -6.2011, -5.4636, -6.1235, -6.2638, -6.109, -5.7881, -5.264, -3.7881, -4.3351, -4.5617, -5.0729, -4.5791, -5.2868, -5.6573, -5.5534, -4.3896, -3.698, -5.745, -5.0401, -4.0989, -4.4823, -5.2101, -4.8667, -4.8859, -4.6663, -5.3216, -4.8788, -4.8284, -4.4547, -5.0291, -5.1137, -4.9055, -5.3149, -5.3091, -5.3358, -5.1037, -5.0241, -5.0667, -5.1563, -5.1883, -5.186, -5.2844, -5.3081, -5.4878, -5.4887, -5.1041, -5.6269, -5.6142, -5.2027, -5.2099, -6.4527, -6.4537, -6.4544, -6.457, -6.4634, -5.5376, -5.723, -6.8201, -6.8201, -6.8201, -6.8201, -6.8202, -6.8208, -6.8206, -6.8207, -6.8208, -6.8207, -6.8221, -6.8221, -6.8221, -6.8221, -6.8222, -6.8223, -5.4931, -4.1661, -6.4951, -5.4882, -5.5258, -5.7068, -5.4715, -5.6133, -4.795, -5.3323, -5.2847, -5.9856, -5.5995, -4.7424, -3.6637, -6.5082, -4.8685, -4.3442, -5.4196, -5.2593, -5.2684, -5.5497, -5.599, -4.9036, -5.4758, -5.3161, -5.4844, -5.3025, -5.3746, -5.5319, -5.5881, -5.513, -5.8983, -6.1662, -6.1662, -6.1663, -6.1664, -6.1665, -5.513, -6.5332, -6.5332, -6.5332, -6.5333, -6.5333, -6.5333, -6.5333, -6.5334, -6.5335, -6.5334, -6.5342, -6.5341, -6.5342, -6.5354, -6.5355, -6.1793, -6.1794, -4.8785, -5.365, -6.1984, -6.1865, -6.5476, -5.9399, -5.8984, -6.2403, -6.0915, -6.1723, -6.173, -5.734, -5.9987, -6.2033, -6.2564, -6.1682, -6.1926, -6.1377, -6.2399, -6.3431, -6.4543, -4.6871, -4.8653, -5.0822, -5.7449, -5.7449, -5.7449, -5.7449, -5.7449, -6.0127, -6.0127, -6.0127, -6.0127, -6.0127, -6.0128, -6.3797, -6.3797, -6.3797, -6.3797, -6.3797, -6.3797, -6.3797, -6.3797, -6.3797, -6.3797, -6.3797, -6.3797, -6.3797, -6.3797, -6.3797, -6.3797, -6.3797, -6.0127, -5.849, -5.8625, -8.3053, -8.3053, -8.3053, -8.3053, -8.3053, -8.3053, -8.3053, -8.3053, -8.3053, -8.3053, -8.3053, -8.3053, -8.3053, -8.3053, -8.3053, -8.3053, -8.3053, -8.3053, -8.3053, -8.3053, -8.3053, -8.3053, -8.3053, -8.3053, -8.3053, -8.3053, -8.3053, -8.3053, -8.3053, -8.3053, -8.3053, -8.3053, -8.3053, -8.3053, -8.3053, -8.3053, -8.3053, -8.3053, -8.3053, -8.3053, -8.3053, -8.3053, -8.3053, -8.3053, -8.3053, -8.3053, -8.3007, -8.3016, -8.3019, -8.3025, -8.3032, -8.3032, -8.3034, -8.3035, -8.3035, -8.3037, -8.3038, -8.3038, -8.3038, -8.3039, -8.3039, -8.3039, -8.304, -8.304, -8.304, -8.304, -8.3041, -8.3041, -8.3041, -8.3042, -8.3042, -8.3042, -8.3042, -8.3043, -8.3043, -8.3043], \"loglift\": [30.0, 29.0, 28.0, 27.0, 26.0, 25.0, 24.0, 23.0, 22.0, 21.0, 20.0, 19.0, 18.0, 17.0, 16.0, 15.0, 14.0, 13.0, 12.0, 11.0, 10.0, 9.0, 8.0, 7.0, 6.0, 5.0, 4.0, 3.0, 2.0, 1.0, 0.9701, 0.9649, 0.9629, 0.9575, 0.9509, 0.95, 0.9481, 0.947, 0.9469, 0.9382, 0.9372, 0.9361, 0.9337, 0.9317, 0.9282, 0.9281, 0.9227, 0.9217, 0.9217, 0.9216, 0.9211, 0.9203, 0.9199, 0.9197, 0.9183, 0.9148, 0.914, 0.9139, 0.9139, 0.9136, 0.9134, 0.9133, 0.8965, 0.8958, 0.8953, 0.7431, 0.7959, 0.7035, 0.7094, 0.6008, 0.6702, 0.765, 0.8448, 0.5596, 0.3032, 0.8381, 0.5402, 0.5595, 0.2543, 0.6566, 0.3795, 0.2435, 0.4554, 0.5115, 0.4222, 0.3739, 0.6899, 0.3987, 0.407, 0.2745, 0.2341, 0.4017, 0.3935, 0.1837, 0.1184, 0.2806, 0.4776, -0.0559, -0.0524, -0.058, 0.019, -0.0318, 0.1095, 1.2225, 1.2218, 1.2214, 1.2122, 1.2118, 1.2117, 1.2025, 1.1945, 1.1926, 1.1924, 1.1924, 1.1906, 1.1844, 1.1805, 1.1789, 1.1787, 1.1786, 1.1754, 1.1745, 1.1738, 1.1665, 1.1598, 1.1598, 1.1598, 1.1597, 1.1597, 1.1596, 1.1595, 1.1558, 1.1552, 1.1369, 1.1526, 1.1117, 1.1432, 1.15, 1.103, 1.125, 1.125, 1.0402, 1.1155, 1.0777, 0.7996, 0.8509, 1.0716, 0.8753, 0.5056, 0.9046, 0.8991, 0.8622, 0.8614, 0.947, 0.8833, 0.8927, 0.9861, 0.9165, 0.2331, 0.6458, 0.5931, 0.1525, 0.6054, 0.3683, -0.4671, 0.3588, 0.5028, 0.5833, 0.367, 0.4951, 0.1829, -0.1965, -0.7103, 0.0485, 0.0067, -0.1188, -0.7891, -0.4786, 0.2702, -0.2355, -0.1853, -0.6201, 0.1915, -0.3891, 0.1238, -0.7706, -0.4207, 1.712, 1.6848, 1.6818, 1.6806, 1.6656, 1.6626, 1.6561, 1.6486, 1.6439, 1.6362, 1.6285, 1.628, 1.6219, 1.6118, 1.6101, 1.6064, 1.6025, 1.6021, 1.5981, 1.5955, 1.5927, 1.5919, 1.5918, 1.5918, 1.5914, 1.5912, 1.5912, 1.5911, 1.591, 1.5906, 1.5847, 1.588, 1.5528, 1.5777, 1.5197, 1.5459, 1.4815, 1.53, 1.4093, 1.5038, 0.9844, 1.2227, 0.8511, 0.8199, 1.2945, 1.3756, 0.4539, 1.0666, 1.1284, 0.7462, 0.4113, 0.9349, 0.8143, 0.5488, 0.8856, 0.0945, 0.4736, 0.5744, 0.3979, 1.1318, 0.6131, 0.6269, 0.8617, 0.176, 0.7673, 0.7916, 0.3034, -0.1713, 0.2583, 0.0323, 0.5248, 0.6203, 0.5809, -0.1831, 0.2584, 0.1795, 2.0111, 2.0051, 1.9998, 1.9928, 1.9906, 1.9851, 1.9372, 1.9372, 1.937, 1.9366, 1.9354, 1.9266, 1.9254, 1.9205, 1.9204, 1.9203, 1.9202, 1.9199, 1.9198, 1.919, 1.912, 1.9001, 1.9001, 1.9001, 1.9001, 1.9001, 1.9001, 1.9, 1.8999, 1.8999, 1.8974, 1.8882, 1.8781, 1.8696, 1.8511, 1.7631, 1.8061, 1.7612, 1.7013, 1.5804, 1.3454, 0.7362, 0.9294, 0.9802, 1.1916, 0.8721, 1.2021, 1.392, 1.3181, 0.578, 0.0635, 1.3523, 0.8321, 0.0715, 0.3364, 0.887, 0.5248, 0.4429, 0.1643, 0.8819, 0.2386, 0.1175, -0.4641, 0.3341, 0.3413, -0.0767, 0.6489, 0.6296, 0.6887, 0.113, -0.133, -0.1073, 0.1432, 0.1906, -0.3237, 0.3354, 0.5667, 3.4223, 3.4219, 3.3224, 3.2474, 3.1677, 3.1524, 3.1388, 3.1084, 3.1076, 3.1068, 3.1044, 3.0977, 3.0847, 3.024, 2.9316, 2.9316, 2.9316, 2.9316, 2.9315, 2.9311, 2.931, 2.9309, 2.9308, 2.9308, 2.93, 2.93, 2.93, 2.93, 2.9299, 2.9298, 2.8613, 2.7759, 2.8732, 2.6087, 2.5086, 2.5453, 2.3643, 2.4012, 2.0107, 2.2323, 1.9787, 2.3842, 2.023, 1.2821, 0.327, 2.663, 1.1452, 0.4745, 1.6487, 1.2495, 1.1078, 1.3752, 1.469, 0.064, 0.8409, -0.425, 0.7142, -1.1321, -1.6132, 0.5653, -0.4707, 3.5695, 3.4512, 3.3493, 3.3493, 3.3493, 3.3491, 3.3491, 3.3001, 3.1815, 3.1815, 3.1815, 3.1815, 3.1815, 3.1815, 3.1815, 3.1814, 3.1813, 3.1813, 3.1806, 3.1806, 3.1805, 3.1793, 3.1792, 3.1542, 3.154, 3.1369, 3.0026, 2.9541, 2.9514, 2.949, 2.8636, 2.4891, 2.8396, 2.5213, 2.6188, 2.5622, 1.6095, 2.1276, 2.3623, 2.484, 2.1277, 2.1805, 1.8409, 2.0713, 2.2318, 1.7286, 4.1737, 4.1313, 4.0716, 3.8251, 3.8251, 3.825, 3.825, 3.825, 3.6954, 3.6954, 3.6954, 3.6954, 3.6954, 3.6953, 3.4888, 3.4888, 3.4888, 3.4888, 3.4888, 3.4888, 3.4888, 3.4888, 3.4888, 3.4888, 3.4888, 3.4888, 3.4888, 3.4888, 3.4888, 3.4888, 3.4888, 3.1938, 1.6054, 1.3455, 1.7543, 1.7543, 1.7543, 1.7543, 1.7543, 1.7543, 1.7543, 1.7543, 1.7543, 1.7543, 1.7543, 1.7543, 1.7543, 1.7543, 1.7543, 1.7543, 1.7543, 1.7543, 1.7543, 1.7543, 1.7543, 1.7543, 1.7543, 1.7543, 1.7543, 1.7543, 1.7543, 1.7543, 1.7543, 1.7543, 1.7543, 1.7543, 1.7543, 1.7543, 1.7543, 1.7543, 1.7543, 1.7543, 1.7543, 1.7543, 1.7543, 1.7543, 1.7543, 1.7543, 1.7543, 1.7543, -4.5392, -4.1312, -3.7776, -4.3119, -3.4408, -3.4725, -3.0377, -3.4124, -3.4747, -3.0871, -3.485, -3.0393, -3.0732, -3.3581, -3.1865, -2.2929, -3.3363, -2.7621, -2.849, -2.3733, -2.6681, -2.6602, -2.8497, -2.5517, -2.2031, -3.1457, -2.9439, -2.6174, -3.3449, -3.1117]}, \"token.table\": {\"Topic\": [1, 2, 3, 4, 5, 2, 1, 5, 4, 6, 7, 2, 1, 2, 3, 4, 6, 1, 2, 3, 4, 1, 2, 3, 4, 5, 6, 2, 4, 1, 5, 1, 2, 3, 4, 5, 1, 3, 2, 6, 1, 6, 6, 1, 2, 6, 2, 5, 2, 3, 1, 2, 3, 4, 5, 4, 3, 4, 1, 2, 3, 4, 2, 6, 1, 3, 4, 6, 1, 1, 2, 3, 5, 6, 5, 2, 4, 2, 4, 5, 5, 6, 6, 3, 5, 3, 1, 2, 3, 4, 5, 3, 3, 4, 4, 5, 5, 1, 6, 1, 1, 2, 4, 5, 1, 4, 5, 7, 3, 2, 3, 4, 5, 2, 3, 5, 1, 2, 4, 2, 3, 7, 1, 2, 6, 2, 6, 1, 3, 4, 5, 6, 3, 4, 1, 2, 3, 6, 3, 6, 6, 1, 5, 7, 7, 1, 2, 3, 4, 5, 1, 3, 5, 1, 2, 7, 1, 2, 5, 1, 3, 2, 1, 2, 3, 2, 3, 5, 1, 3, 1, 2, 3, 4, 1, 2, 3, 4, 1, 2, 3, 4, 5, 1, 2, 3, 4, 5, 1, 2, 3, 4, 5, 3, 2, 2, 7, 1, 6, 3, 1, 2, 3, 4, 5, 4, 7, 7, 1, 2, 3, 4, 1, 2, 1, 2, 1, 2, 4, 4, 2, 4, 6, 3, 4, 7, 1, 2, 3, 7, 1, 2, 3, 4, 5, 1, 2, 3, 1, 2, 3, 1, 2, 5, 1, 2, 3, 4, 5, 4, 2, 6, 7, 1, 2, 3, 1, 2, 1, 2, 3, 3, 7, 1, 5, 2, 3, 5, 1, 2, 3, 4, 5, 7, 2, 3, 4, 1, 2, 3, 4, 1, 2, 3, 1, 2, 3, 4, 2, 6, 1, 2, 3, 4, 5, 1, 5, 1, 2, 3, 4, 5, 2, 1, 2, 3, 4, 5, 5, 1, 2, 4, 2, 2, 3, 1, 2, 1, 2, 6, 1, 2, 3, 4, 5, 1, 2, 6, 3, 4, 5, 1, 6, 5, 2, 1, 2, 3, 4, 5, 3, 2, 1, 2, 4, 5, 2, 6, 1, 4, 4, 6, 4, 1, 2, 3, 4, 1, 1, 5, 4, 3, 1, 2, 1, 2, 3, 4, 5, 2, 4, 5, 1, 2, 5, 1, 2, 3, 4, 2, 5, 1, 2, 1, 2, 4, 1, 2, 3, 4, 5, 3, 4, 6, 1, 2, 3, 4, 1, 2, 3, 4, 1, 2, 3, 4, 1, 2, 3, 4, 1, 2, 3, 4, 5, 1, 2, 3, 4, 7, 1, 2, 3, 6, 1, 2, 4, 5, 1, 2, 3, 5, 1, 2, 4, 5, 4, 3, 4, 1, 2, 6, 3, 1, 4, 6, 1, 2, 1, 2, 3, 4, 1, 2, 3, 3, 4, 1, 2, 3, 4, 7, 7, 2, 7, 2, 4, 3, 7, 2, 2, 1, 1, 2, 2, 5, 1, 2, 3, 1, 2, 3, 4, 7, 5, 1, 2, 3, 4, 5, 5, 3, 7, 6, 7, 1, 2, 3, 1, 1, 2, 3, 4, 5, 1, 2, 3, 2, 7, 2, 4, 7, 3, 1, 3, 1, 2, 3, 2, 5, 6, 2, 6, 2, 3, 4, 5, 7, 3, 2, 6, 2, 3, 4, 7, 7, 2, 1, 2, 4, 5, 1, 1, 2, 1, 1, 2, 3, 4, 5, 1, 3, 4, 5, 5, 2, 4, 4, 1, 1, 1, 2, 2, 3, 2, 6, 5, 7, 6, 1, 1, 2, 3, 4, 1, 2, 3, 1, 2, 3, 1, 2, 5, 1, 2, 3, 4, 2, 1, 2, 4, 4, 2, 4, 1, 6, 1, 2, 3, 4, 1, 7, 1, 2, 1, 2, 1, 2, 3, 4, 2, 1, 1, 2, 3, 4, 2, 3, 1, 1, 2, 7, 4, 5, 1, 2, 3, 4, 5, 3, 4, 5, 1, 2, 3, 4, 5, 3, 1, 5, 3, 1, 6, 1, 1, 2, 6, 3, 1, 2, 3, 4, 6, 3, 2, 3, 5, 1, 2, 3, 4, 1, 2, 3, 4, 1, 2, 6, 1, 2, 3, 4, 1, 2, 6, 1, 2, 1, 2, 1, 5, 1, 2, 5, 1, 2, 4, 4, 4, 6, 2, 2, 3, 4, 6, 1, 2, 3, 4, 5, 3, 4, 1, 5, 7, 4, 3, 5, 1, 2, 4, 5, 2, 6, 3, 4, 7, 7, 7, 1, 2, 3, 4, 1, 2, 3, 4, 5, 4, 1, 2, 3, 4, 5, 1, 2, 3, 1, 2, 3, 4, 5, 1, 3, 4, 2, 4, 1, 4, 1, 2, 4, 2, 3, 4, 1, 2, 3, 4, 2, 5], \"Freq\": [0.163146696580247, 0.1928097323221101, 0.4449455361279464, 0.163146696580247, 0.029663035741863093, 0.829994606939139, 0.9827070337028954, 0.5749279932128716, 0.7122455852779159, 0.6702533945007058, 0.7816112285541188, 0.9647094590557564, 0.3290149315593627, 0.2155615068837204, 0.3970869863647481, 0.04538136987025693, 0.5491691475113623, 0.24151027944856954, 0.18113270958642716, 0.4226429890349967, 0.15094392465535594, 0.47503673072756014, 0.13572478020787432, 0.27801688849032324, 0.07661882753670325, 0.03502574973106434, 0.6702332628301569, 0.9648170919569872, 0.874201590351891, 0.3892090447672635, 0.3892090447672635, 0.550800714185607, 0.1001455843973831, 0.15021837659607465, 0.1919457034283176, 0.008345465366448592, 0.1772332519922923, 0.7975496339653154, 0.7008461508037099, 0.17521153770092748, 0.9300024114292386, 0.5491671066177933, 0.5491661640635177, 0.5794321918034276, 0.2897160959017138, 0.1448580479508569, 0.612008615402389, 0.2448034461609556, 0.25718082930726777, 0.7072472805949863, 0.5336389716201964, 0.1418533975192927, 0.1553632449020825, 0.1553632449020825, 0.013509847382789783, 0.7122602807341663, 0.1174488192758736, 0.8221417349311152, 0.2737278280632707, 0.3025412836488781, 0.20169418909925205, 0.21610091689205577, 0.8109942069228153, 0.16219884138456306, 0.955163323982094, 0.8708787574539533, 0.07917079613217756, 0.6702130838414819, 0.9310682347196021, 0.600458944767326, 0.40496068368028965, 0.905343946681249, 0.6957365423201289, 0.6702157377320436, 0.6954844924048473, 0.11617898978780554, 0.8132529285146387, 0.122640998699689, 0.735845992198134, 0.6955802220087064, 0.6957369902330085, 0.7123289837105581, 0.6702291227402715, 0.8710238757103149, 0.8996775628611873, 0.9667439818839029, 0.4978672170030253, 0.17407944650455429, 0.1949689800851008, 0.1288187904133702, 0.005222383395136629, 0.8388385613382375, 0.8499538570792133, 0.08499538570792133, 0.6209677485382948, 0.3104838742691474, 0.6954721859279688, 0.8266581580557038, 0.11809402257938624, 0.8920405322012168, 0.46850521893305414, 0.18405562172369985, 0.23425260946652707, 0.08366164623804538, 0.9299804086429527, 0.403155509517433, 0.403155509517433, 0.403155509517433, 0.9387976698756864, 0.829413486320404, 0.9053211405117155, 0.5238596765609612, 0.3492397843739742, 0.22477721104036366, 0.22477721104036366, 0.4495544220807273, 0.12831684751053665, 0.2566336950210733, 0.577425813797415, 0.13636551107527936, 0.8181930664516762, 0.781621395197299, 0.4288041003748289, 0.21440205018741446, 0.21440205018741446, 0.7109573557623209, 0.17773933894058022, 0.38017756734116404, 0.1425665877529365, 0.38017756734116404, 0.1425665877529365, 0.6701435565665402, 0.9186808842960863, 0.8743775902630141, 0.12645128799150376, 0.3582786493092606, 0.505805151966015, 0.6702348322469066, 0.3764227448254223, 0.3764227448254223, 0.5492028854072415, 0.6243404136020244, 0.24973616544080976, 0.7816130622361874, 0.7816199577899146, 0.2151696470459703, 0.19560877004179117, 0.41077841708776147, 0.15648701603343293, 0.019560877004179116, 0.8923428994905649, 0.2892192487413061, 0.5784384974826122, 0.83901581985994, 0.06991798498832832, 0.06991798498832832, 0.08271265001447622, 0.6617012001158098, 0.16542530002895245, 0.08447939206559646, 0.8447939206559647, 0.9649742227454992, 0.4951693677991915, 0.3961354942393532, 0.11318156978267234, 0.16373393520422672, 0.7640916976197247, 0.054577978401408905, 0.9356835900181607, 0.08506214454710552, 0.3742917861044984, 0.16185590750464798, 0.32371181500929597, 0.141623919066567, 0.07806187158917173, 0.35127842215127275, 0.07806187158917173, 0.46837122953503035, 0.6459548799182945, 0.17225463464487853, 0.15502917118039067, 0.025838195196731778, 0.6957331097949996, 0.25191031030749844, 0.017993593593392747, 0.3958590590546404, 0.28789749749428395, 0.035987187186785494, 0.4836695199046119, 0.06259252610530272, 0.307272400880577, 0.13656551150247864, 0.01138045929187322, 0.842087891365867, 0.8672419072246634, 0.9687955791229873, 0.6658021326831134, 0.5388900251698273, 0.26944501258491366, 0.9442818230883718, 0.5591974266374972, 0.12966896849565152, 0.15398190008858617, 0.13777327902662972, 0.01620862106195644, 0.9232117405360072, 0.7816123674194585, 0.7816198748318157, 0.5491198783001843, 0.1325461775207341, 0.142013761629358, 0.17041651395522958, 0.8433733670003691, 0.1204819095714813, 0.9736836229569243, 0.924124011144004, 0.7400120227519558, 0.20414124765571193, 0.05103531191392798, 0.7122743565864327, 0.8264274006938315, 0.779595608672507, 0.6702139000982816, 0.8367537672519829, 0.10459422090649786, 0.7816177697569967, 0.9224244783179608, 0.06015811815117136, 0.9354412430941973, 0.6658050055628492, 0.17920638493450597, 0.2923893648931413, 0.22636595991727068, 0.2923893648931413, 0.009431914996552946, 0.15970022092500616, 0.6388008837000246, 0.15970022092500616, 0.4209171173949339, 0.23851969985712923, 0.322703123336116, 0.39027550282916545, 0.31222040226333236, 0.23416530169749927, 0.39397500285416265, 0.16714091030176598, 0.33428182060353195, 0.09550909160100912, 0.01193863645012614, 0.7795777918286406, 0.532274577278578, 0.266137288639289, 0.7815938008439361, 0.23675448073163727, 0.7102634421949118, 0.047350896146327454, 0.8921371053999673, 0.8261167778866734, 0.16654414284746066, 0.7910846785254382, 0.041636035711865166, 0.9715786539942469, 0.7816035278869504, 0.7674558306208166, 0.18272757871924203, 0.9779045451684228, 0.8921929612525645, 0.6954852826106137, 0.23397806336925667, 0.31906099550353184, 0.02127073303356879, 0.404143927637807, 0.02127073303356879, 0.7816137564391419, 0.05324511622167202, 0.5590737203275562, 0.39933837166254016, 0.537523264437904, 0.17241312255555413, 0.14705825159150204, 0.14198727739869163, 0.6686482528917947, 0.323766522452869, 0.007038402662018892, 0.23062260970132129, 0.3277268664176671, 0.3034508022385806, 0.13351835298497547, 0.2720537290807998, 0.5441074581615996, 0.37823811909738, 0.18911905954869, 0.3706733567154324, 0.0529533366736332, 0.0075647623819476, 0.3419615846053413, 0.5129423769080119, 0.46327776937498377, 0.150834622587204, 0.26396058952760704, 0.10773901613371716, 0.016160852420057572, 0.8293162307537214, 0.7430505053715372, 0.10368146586579588, 0.03456048862193196, 0.10368146586579588, 0.01728024431096598, 0.695736838899345, 0.7121341277195179, 0.16756097122812186, 0.1256707284210914, 0.9650421083555902, 0.847884919381394, 0.10598561492267425, 0.0976756613912061, 0.8790809525208549, 0.3293821605197077, 0.4940732407795615, 0.16469108025985385, 0.3492595495034034, 0.126543315037465, 0.39987687551838935, 0.11135811723296919, 0.010123465202997199, 0.12516089308643635, 0.7509653585186181, 0.12516089308643635, 0.9061921094764447, 0.5316993798396655, 0.3987745348797492, 0.9618522891742606, 0.6702364605633413, 0.6954233536364651, 0.867398950004348, 0.16649698065696972, 0.49949094197090915, 0.023785282950995676, 0.21406754655896107, 0.07135584885298703, 0.8631012963784328, 0.8996630292385969, 0.2714163907785804, 0.4975967164273974, 0.226180325648817, 0.6953725557798708, 0.35523616751335957, 0.35523616751335957, 0.24738804963106145, 0.7421641488931844, 0.8741953966954672, 0.6702347416525404, 0.9383846478613685, 0.7260639420303999, 0.14261970289882855, 0.012965427536257141, 0.1296542753625714, 0.9527765293887224, 0.3441686634349454, 0.5162529951524181, 0.7795404697167949, 0.9583329876506843, 0.29182156894255323, 0.6809169941992909, 0.24745249413282783, 0.613682185449413, 0.05938859859187868, 0.0692866983571918, 0.5748178587115915, 0.2248771486293353, 0.7870700202026736, 0.5747777336233769, 0.11648572290857236, 0.8445214910871496, 0.02912143072714309, 0.6173390544531575, 0.2213102270681131, 0.011647906687795426, 0.15142278694134054, 0.9648880937595234, 0.6957451755572874, 0.9082038365156994, 0.05676273978223121, 0.14527362915568823, 0.7990049603562853, 0.07263681457784411, 0.43456007334358704, 0.2716000458397419, 0.08148001375192257, 0.13580002291987095, 0.08148001375192257, 0.7092955591464182, 0.23643185304880607, 0.6702312380164639, 0.5487907132321096, 0.2743953566160548, 0.07569527079063582, 0.10408099733712424, 0.15355793769720946, 0.3685390504733027, 0.24569270031553514, 0.23033690654581418, 0.6474924973507922, 0.03349099124228236, 0.14512762871655688, 0.1674549562114118, 0.7719813850468237, 0.13837402184801556, 0.07282843255158715, 0.014565686510317429, 0.35068185566083193, 0.35068185566083193, 0.20936230188706384, 0.08897897830200213, 0.005234057547176596, 0.19810598819511968, 0.2641413175934929, 0.37970314404064603, 0.14857949114633975, 0.5798673252122353, 0.9300846801346974, 0.5033064350871759, 0.25165321754358794, 0.25165321754358794, 0.4940819046058718, 0.2470409523029359, 0.12352047615146795, 0.08234698410097864, 0.2850316966512905, 0.3325369794265056, 0.2850316966512905, 0.09501056555043018, 0.7393672264921203, 0.07648626480952968, 0.16572024042064765, 0.695390627119772, 0.7991106390267969, 0.8419725424648388, 0.712174892460306, 0.21239249808388683, 0.42478499616777365, 0.21239249808388683, 0.8366399131174834, 0.29940084592947164, 0.6986019738354338, 0.4577598116295328, 0.14660777531422664, 0.8796466518853598, 0.08357650215442382, 0.6686120172353905, 0.22287067241179684, 0.7122585463782798, 0.8295485091287516, 0.05925346493776797, 0.05925346493776797, 0.27838192301497183, 0.7237929998389268, 0.21910630716877244, 0.2425819829368552, 0.22693153242480002, 0.3051837849850759, 0.5798673843117443, 0.5798771152555596, 0.9647523660047911, 0.8560095160428742, 0.8720216299214725, 0.7795555923328428, 0.9051010025672267, 0.7816268568814834, 0.8724229582501624, 0.8373370042988916, 0.9526797288852994, 0.94401117105558, 0.062934078070372, 0.1848208704568441, 0.7392834818273764, 0.282063626758087, 0.1567020148656039, 0.5327868505430532, 0.32637481276232455, 0.04662497325176065, 0.0932499465035213, 0.4662497325176065, 0.7816039475289634, 0.6954449202484176, 0.41591769521237787, 0.09019901823882893, 0.2856302244229583, 0.17037592334001023, 0.04008845255059064, 0.5749017238681619, 0.9437694065149891, 0.7649564914526725, 0.6702307375733111, 0.6657965382474345, 0.30646155386233465, 0.6435692631109028, 0.9581828573517388, 0.9538909456937448, 0.34078482322687415, 0.21686306932619265, 0.10326812825056793, 0.32013119757676056, 0.020653625650113586, 0.12168629511707853, 0.4867451804683141, 0.3650588853512356, 0.8736260234503392, 0.7816183547882889, 0.18078464813745584, 0.8135309166185513, 0.6657871335310873, 0.9050884510925541, 0.30979889085340573, 0.6638547661144408, 0.10511801992281398, 0.6657474595111553, 0.21023603984562797, 0.6844138106243358, 0.13688276212486716, 0.13688276212486716, 0.5059421450359008, 0.2529710725179504, 0.4482487966934328, 0.3810114771894179, 0.1120621991733582, 0.06723731950401492, 0.6658092918474607, 0.9054087830929395, 0.8671253999431611, 0.6702019571904624, 0.20682370492233434, 0.5909248712066696, 0.17727746136200087, 0.6536660691804039, 0.6657841791878926, 0.8672287322805529, 0.40022089546037243, 0.30016567159527935, 0.30016567159527935, 0.6954507112973304, 0.9756959419878171, 0.15989589178021663, 0.8314586372571265, 0.9148249239709565, 0.3489269891813393, 0.22680254296787056, 0.18027894441035866, 0.2151716433284926, 0.029077249098444943, 0.041880869603112054, 0.5025704352373447, 0.041880869603112054, 0.41880869603112053, 0.8992834851672512, 0.8264340663693998, 0.7122173597138929, 0.8302501849268773, 0.9299629325001212, 0.8920843363747529, 0.9207056413127812, 0.06138037608751875, 0.11063074691933815, 0.774415228435367, 0.5227561008576141, 0.3485040672384095, 0.5747697364119818, 0.5798622453479298, 0.4651436176649606, 0.9175310165320552, 0.41237025427785046, 0.22811971513242793, 0.21057204473762578, 0.14915519835581825, 0.361135815801712, 0.3076342134607176, 0.32100961404596623, 0.6286658408386643, 0.2062809790251867, 0.14734355644656194, 0.1719586946035428, 0.3439173892070856, 0.5158760838106283, 0.33978677957886444, 0.1836685295020889, 0.4683547502303267, 0.7122256874800438, 0.9241352750639273, 0.7991930174246196, 0.20719818970267914, 0.8742243846409817, 0.7795623473483654, 0.10074803642387699, 0.8059842913910159, 0.955383621372886, 0.5491644146210956, 0.13811097391597854, 0.4591256700450097, 0.14930916099024708, 0.25382557368342, 0.960688494393489, 0.7816136657937746, 0.9268463126391041, 0.05792789453994401, 0.9360965763532346, 0.04069985114579281, 0.4917253918130223, 0.2172740103359866, 0.18296758765135712, 0.10291926805388839, 0.9652503198490086, 0.9739302308347941, 0.8217345491222221, 0.05301513220143369, 0.026507566100716844, 0.10603026440286738, 0.10399490276239995, 0.8319592220991996, 0.9618746382939777, 0.7104302196404755, 0.21859391373553091, 0.05464847843388273, 0.47397355805499936, 0.47397355805499936, 0.39831774282318777, 0.4580654042466659, 0.01991588714115939, 0.07966354856463756, 0.05974766142347816, 0.30712988292801224, 0.30712988292801224, 0.30712988292801224, 0.46903553717046487, 0.1257748926490632, 0.2672716468792593, 0.12839520291258535, 0.00786093079056645, 0.8608347649329092, 0.9036551671617069, 0.6957342674484532, 0.9160741496165966, 0.38198485472013666, 0.38198485472013666, 0.8890799149380529, 0.977465108310864, 0.8964760431513588, 0.5388755677557611, 0.913269402204581, 0.2529140304593845, 0.39743633357903274, 0.23484874256942842, 0.12645701522969224, 0.6702348682224865, 0.9305808859940489, 0.3465346122655664, 0.40429038097649417, 0.1732673061327832, 0.5786778619716176, 0.12955474521752633, 0.12091776220302457, 0.1727396602900351, 0.30176021636499684, 0.33049928459023464, 0.08621720467571338, 0.27302114813975903, 0.941689100750952, 0.9648432728948235, 0.4576985063780018, 0.4857763144700022, 0.21938285169613, 0.2428881572350011, 0.0548457129240325, 0.2450494369381429, 0.2450494369381429, 0.4900988738762858, 0.29112619523668276, 0.6654313033981321, 0.2848871367298084, 0.676606949733295, 0.25466576977442945, 0.5093315395488589, 0.30748623573388795, 0.6534082509345119, 0.019217889733367997, 0.13711303684376813, 0.8683825666771982, 0.8149471936910838, 0.8745241990593425, 0.7795395323200381, 0.6702576240014807, 0.9646011743839867, 0.9235213803136985, 0.22266201847621808, 0.44532403695243616, 0.22266201847621808, 0.2834633979182908, 0.2834633979182908, 0.1732276320611777, 0.23621949826524233, 0.015747966551016155, 0.12711107613641784, 0.762666456818507, 0.26368579588012325, 0.5273715917602465, 0.5798839205374877, 0.779596166504813, 0.9054325175036958, 0.6954459483866153, 0.10848143423772141, 0.6508886054263285, 0.14464191231696188, 0.07232095615848094, 0.8415401112572135, 0.10519251390715169, 0.9488971114280079, 0.922209182369189, 0.7816028740226068, 0.7816015406628471, 0.7816155783407236, 0.5508779660692505, 0.1421620557598066, 0.09773641333486703, 0.204357955154722, 0.4441128470044338, 0.023070797246983573, 0.4152743504457043, 0.10958628692317197, 0.011535398623491787, 0.7795525794752894, 0.3145109279083989, 0.39727696156850384, 0.14897886058818893, 0.06621282692808397, 0.08276603366010497, 0.4648054362401134, 0.5312062128458439, 0.9047577059273757, 0.35807361392030296, 0.17903680696015148, 0.31331441218026507, 0.1342776052201136, 0.014919733913345955, 0.889939196324078, 0.9381130169248336, 0.7795528597999559, 0.8307536231657496, 0.8742703531677588, 0.1626143072343208, 0.813071536171604, 0.08700981357136836, 0.7830883221423152, 0.08700981357136836, 0.19568371228496803, 0.29352556842745203, 0.4892092807124201, 0.030030772239067808, 0.21021540567347466, 0.27027695015161024, 0.4504615835860171, 0.864775107269015, 0.10809688840862687], \"Term\": [\"action\", \"action\", \"action\", \"action\", \"action\", \"adaptation\", \"add\", \"advertisement\", \"agree\", \"airing\", \"ali\", \"alot\", \"also\", \"also\", \"also\", \"also\", \"america\", \"animation\", \"animation\", \"animation\", \"animation\", \"anime\", \"anime\", \"anime\", \"anime\", \"anime\", \"animu\", \"annoy\", \"annoyance\", \"apple\", \"apple\", \"art\", \"art\", \"art\", \"art\", \"art\", \"art_style\", \"art_style\", \"artwork\", \"artwork\", \"attitude\", \"augment\", \"augmentation\", \"author\", \"author\", \"author\", \"avoid\", \"avoid\", \"backstory\", \"backstory\", \"bad\", \"bad\", \"bad\", \"bad\", \"bad\", \"badass\", \"basic\", \"basic\", \"battle\", \"battle\", \"battle\", \"battle\", \"bear\", \"bear\", \"beautiful\", \"believe\", \"believe\", \"beta\", \"beware\", \"bit\", \"bit\", \"blade\", \"bratty\", \"breather\", \"broad\", \"build\", \"build\", \"building\", \"building\", \"bun\", \"bust\", \"caitlin\", \"campus\", \"capitalize\", \"carry\", \"charachter\", \"character\", \"character\", \"character\", \"character\", \"character\", \"charm\", \"check\", \"check\", \"child\", \"child\", \"chocolate\", \"choice\", \"choice\", \"classic\", \"cliche\", \"cliche\", \"cliche\", \"cliche\", \"clueless\", \"com\", \"com\", \"com\", \"compare\", \"con\", \"connection\", \"cookie\", \"cookie\", \"cost\", \"cost\", \"cost\", \"create\", \"create\", \"create\", \"cringe\", \"cringe\", \"da\", \"dead\", \"dead\", \"dead\", \"defeat\", \"defeat\", \"definitely\", \"definitely\", \"definitely\", \"definitely\", \"demand\", \"depth\", \"destroy\", \"development\", \"development\", \"development\", \"diabolica\", \"dialog\", \"dialog\", \"dimensional\", \"disappointed\", \"disappointed\", \"diversos\", \"dizer\", \"do\", \"do\", \"do\", \"do\", \"do\", \"doll\", \"downhill\", \"downhill\", \"drama\", \"drama\", \"drama\", \"drop\", \"drop\", \"drop\", \"dub\", \"dub\", \"dull\", \"duo\", \"duo\", \"duo\", \"easily\", \"easily\", \"easily\", \"easy\", \"easy\", \"ecchi\", \"ecchi\", \"ecchi\", \"ecchi\", \"else\", \"else\", \"else\", \"else\", \"end\", \"end\", \"end\", \"end\", \"engrish\", \"enjoy\", \"enjoy\", \"enjoy\", \"enjoy\", \"enjoy\", \"enjoyment\", \"enjoyment\", \"enjoyment\", \"enjoyment\", \"enjoyment\", \"enter\", \"entertainment\", \"entirely\", \"entre\", \"environment\", \"environment\", \"ep\", \"episode\", \"episode\", \"episode\", \"episode\", \"episode\", \"equipment\", \"espere\", \"esse\", \"even\", \"even\", \"even\", \"even\", \"evil\", \"evil\", \"exceptional\", \"exist\", \"explain\", \"explain\", \"explain\", \"exposition\", \"express\", \"extent\", \"faction\", \"fairly\", \"fairly\", \"falta\", \"fanservice\", \"fanservice\", \"fast\", \"faz\", \"feel\", \"feel\", \"feel\", \"feel\", \"feel\", \"female\", \"female\", \"female\", \"find\", \"find\", \"find\", \"finish\", \"finish\", \"finish\", \"first\", \"first\", \"first\", \"first\", \"first\", \"flashy\", \"flaw\", \"flaw\", \"foi\", \"follow\", \"follow\", \"follow\", \"fool\", \"foreshadow\", \"form\", \"form\", \"form\", \"forward\", \"fraco\", \"friend\", \"friend\", \"general\", \"generally\", \"generate\", \"generic\", \"generic\", \"generic\", \"generic\", \"generic\", \"generica\", \"genre\", \"genre\", \"genre\", \"get\", \"get\", \"get\", \"get\", \"girl\", \"girl\", \"girl\", \"give\", \"give\", \"give\", \"give\", \"glass\", \"glass\", \"go\", \"go\", \"go\", \"go\", \"go\", \"gon\", \"gon\", \"good\", \"good\", \"good\", \"good\", \"good\", \"goth\", \"great\", \"great\", \"great\", \"great\", \"great\", \"gurren\", \"guy\", \"guy\", \"guy\", \"hack\", \"hair\", \"hair\", \"hand\", \"hand\", \"handle\", \"handle\", \"handle\", \"harem\", \"harem\", \"harem\", \"harem\", \"harem\", \"head\", \"head\", \"head\", \"helpful\", \"high_hope\", \"high_hope\", \"highly\", \"homicidal\", \"hotd\", \"hour\", \"however\", \"however\", \"however\", \"however\", \"however\", \"humor\", \"hurt\", \"idea\", \"idea\", \"idea\", \"ii\", \"industry\", \"industry\", \"information\", \"information\", \"inject\", \"insane\", \"interaction\", \"interesting\", \"interesting\", \"interesting\", \"interesting\", \"intro\", \"irregular\", \"irregular\", \"irritated\", \"jiggle\", \"joke\", \"joke\", \"julie\", \"julie\", \"julie\", \"julie\", \"junk\", \"kid\", \"kid\", \"killer\", \"kind\", \"kind\", \"kind\", \"know\", \"know\", \"know\", \"know\", \"lackluster\", \"lagann\", \"level\", \"level\", \"light\", \"light\", \"light\", \"like\", \"like\", \"like\", \"like\", \"like\", \"line\", \"line\", \"lion\", \"look\", \"look\", \"look\", \"look\", \"lot\", \"lot\", \"lot\", \"lot\", \"love\", \"love\", \"love\", \"love\", \"main\", \"main\", \"main\", \"main\", \"make\", \"make\", \"make\", \"make\", \"make\", \"many\", \"many\", \"many\", \"many\", \"mas\", \"master\", \"match\", \"match\", \"match\", \"matter\", \"matter\", \"matter\", \"matter\", \"maybe\", \"maybe\", \"maybe\", \"maybe\", \"mc\", \"mc\", \"mc\", \"mcedgelord\", \"mcs\", \"meh\", \"memory\", \"minded\", \"minded\", \"minded\", \"minor\", \"miss\", \"miss\", \"mistress\", \"moe\", \"moe\", \"moment\", \"moment\", \"moment\", \"monster\", \"mostly\", \"mostly\", \"mostly\", \"motivation\", \"motivation\", \"much\", \"much\", \"much\", \"much\", \"muito\", \"nada\", \"naked\", \"nao\", \"nature\", \"nevertheless\", \"normally\", \"obra\", \"odd\", \"offer\", \"ominous\", \"one\", \"one\", \"online\", \"online\", \"opening\", \"opening\", \"opening\", \"opinion\", \"opinion\", \"opinion\", \"opinion\", \"os\", \"osu\", \"overall\", \"overall\", \"overall\", \"overall\", \"overall\", \"overpower\", \"pace\", \"para\", \"pathos\", \"personagen\", \"personality\", \"personality\", \"physics\", \"plain\", \"plot\", \"plot\", \"plot\", \"plot\", \"plot\", \"point\", \"point\", \"point\", \"pointless\", \"pois\", \"poorly\", \"poorly\", \"por\", \"portion\", \"potential\", \"potential\", \"problem\", \"problem\", \"problem\", \"produce\", \"produce\", \"produce\", \"product\", \"product\", \"protagonist\", \"protagonist\", \"protagonist\", \"protagonist\", \"protagonista\", \"provide\", \"push\", \"pussy\", \"put\", \"put\", \"put\", \"que\", \"quem\", \"quickly\", \"quite\", \"quite\", \"quite\", \"raisin\", \"rate\", \"rather\", \"rather\", \"realize\", \"really\", \"really\", \"really\", \"really\", \"really\", \"recommend\", \"recommend\", \"recommend\", \"recommend\", \"recommendation\", \"regardless\", \"repeatedly\", \"repetitive\", \"resolve\", \"respect\", \"revenge\", \"revenge\", \"reviewer\", \"reviewer\", \"rito\", \"rito\", \"rom\", \"ruim\", \"sakuya\", \"save\", \"say\", \"say\", \"say\", \"say\", \"scene\", \"scene\", \"scene\", \"school\", \"school\", \"school\", \"score\", \"score\", \"score\", \"series\", \"series\", \"series\", \"serum\", \"serve\", \"set\", \"set\", \"setting\", \"severely\", \"shallow\", \"shallow\", \"short\", \"shounen\", \"show\", \"show\", \"show\", \"show\", \"small\", \"sobre\", \"somehow\", \"somehow\", \"song\", \"song\", \"sound\", \"sound\", \"sound\", \"sound\", \"source\", \"speak\", \"special\", \"special\", \"special\", \"special\", \"spend\", \"spend\", \"spoil\", \"spoiler\", \"spoiler\", \"spoiler\", \"spot\", \"spot\", \"start\", \"start\", \"start\", \"start\", \"start\", \"stop\", \"stop\", \"stop\", \"story\", \"story\", \"story\", \"story\", \"story\", \"storyline\", \"strength\", \"stupidly\", \"sub\", \"subtitle\", \"subtitle\", \"summary\", \"super\", \"support\", \"supposedly\", \"sweet\", \"take\", \"take\", \"take\", \"take\", \"tamer\", \"taste\", \"terrible\", \"terrible\", \"terrible\", \"thing\", \"thing\", \"thing\", \"thing\", \"think\", \"think\", \"think\", \"think\", \"thor\", \"thus\", \"tier\", \"time\", \"time\", \"time\", \"time\", \"title\", \"title\", \"title\", \"together\", \"together\", \"tomoe\", \"tomoe\", \"tone\", \"tone\", \"tooru\", \"tooru\", \"tooru\", \"tor\", \"tor\", \"torr\", \"totally\", \"traumatize\", \"treat\", \"trope\", \"troupe\", \"truly\", \"truly\", \"truly\", \"try\", \"try\", \"try\", \"try\", \"try\", \"twist\", \"twist\", \"typically\", \"typically\", \"uma\", \"universe\", \"unnecessary\", \"unrelated\", \"use\", \"use\", \"use\", \"use\", \"usual\", \"usual\", \"va\", \"various\", \"ver\", \"virjao\", \"voce\", \"want\", \"want\", \"want\", \"want\", \"watch\", \"watch\", \"watch\", \"watch\", \"watch\", \"water\", \"way\", \"way\", \"way\", \"way\", \"way\", \"weapon\", \"weapon\", \"week\", \"well\", \"well\", \"well\", \"well\", \"well\", \"white\", \"win\", \"wind\", \"winter\", \"wise\", \"wish\", \"wish\", \"word\", \"word\", \"word\", \"world\", \"world\", \"world\", \"write\", \"write\", \"write\", \"write\", \"wrong\", \"wrong\"]}, \"R\": 30, \"lambda.step\": 0.01, \"plot.opts\": {\"xlab\": \"PC1\", \"ylab\": \"PC2\"}, \"topic.order\": [8, 1, 2, 4, 7, 3, 5, 6]};\n",
       "\n",
       "function LDAvis_load_lib(url, callback){\n",
       "  var s = document.createElement('script');\n",
       "  s.src = url;\n",
       "  s.async = true;\n",
       "  s.onreadystatechange = s.onload = callback;\n",
       "  s.onerror = function(){console.warn(\"failed to load library \" + url);};\n",
       "  document.getElementsByTagName(\"head\")[0].appendChild(s);\n",
       "}\n",
       "\n",
       "if(typeof(LDAvis) !== \"undefined\"){\n",
       "   // already loaded: just create the visualization\n",
       "   !function(LDAvis){\n",
       "       new LDAvis(\"#\" + \"ldavis_el2132421931674865286125792384\", ldavis_el2132421931674865286125792384_data);\n",
       "   }(LDAvis);\n",
       "}else if(typeof define === \"function\" && define.amd){\n",
       "   // require.js is available: use it to load d3/LDAvis\n",
       "   require.config({paths: {d3: \"https://d3js.org/d3.v5\"}});\n",
       "   require([\"d3\"], function(d3){\n",
       "      window.d3 = d3;\n",
       "      LDAvis_load_lib(\"https://cdn.jsdelivr.net/gh/bmabey/pyLDAvis@3.3.1/pyLDAvis/js/ldavis.v3.0.0.js\", function(){\n",
       "        new LDAvis(\"#\" + \"ldavis_el2132421931674865286125792384\", ldavis_el2132421931674865286125792384_data);\n",
       "      });\n",
       "    });\n",
       "}else{\n",
       "    // require.js not available: dynamically load d3 & LDAvis\n",
       "    LDAvis_load_lib(\"https://d3js.org/d3.v5.js\", function(){\n",
       "         LDAvis_load_lib(\"https://cdn.jsdelivr.net/gh/bmabey/pyLDAvis@3.3.1/pyLDAvis/js/ldavis.v3.0.0.js\", function(){\n",
       "                 new LDAvis(\"#\" + \"ldavis_el2132421931674865286125792384\", ldavis_el2132421931674865286125792384_data);\n",
       "            })\n",
       "         });\n",
       "}\n",
       "</script>"
      ],
      "text/plain": [
       "PreparedData(topic_coordinates=              x         y  topics  cluster       Freq\n",
       "topic                                                \n",
       "7      0.163034  0.110277       1        1  36.816527\n",
       "0      0.060806  0.096544       2        1  27.651995\n",
       "1      0.184842 -0.071656       3        1  17.665012\n",
       "3      0.147112 -0.097549       4        1  12.073803\n",
       "6     -0.069521 -0.025896       5        1   2.522689\n",
       "2     -0.184106 -0.004058       6        1   2.063850\n",
       "4     -0.166291 -0.005190       7        1   1.197712\n",
       "5     -0.135877 -0.002472       8        1   0.008411, topic_info=        Term        Freq       Total Category  logprob  loglift\n",
       "13     anime  456.000000  456.000000  Default  30.0000  30.0000\n",
       "203  overall  199.000000  199.000000  Default  29.0000  29.0000\n",
       "255     show  267.000000  267.000000  Default  28.0000  28.0000\n",
       "272    story  381.000000  381.000000  Default  27.0000  27.0000\n",
       "319    watch  173.000000  173.000000  Default  26.0000  26.0000\n",
       "..       ...         ...         ...      ...      ...      ...\n",
       "122     girl    0.000514  142.077691   Topic8  -8.3042  -3.1457\n",
       "375      end    0.000514  116.107181   Topic8  -8.3042  -2.9439\n",
       "384    first    0.000514   83.761659   Topic8  -8.3043  -2.6174\n",
       "319    watch    0.000514  173.379357   Topic8  -8.3043  -3.3449\n",
       "173     main    0.000514  137.309010   Topic8  -8.3043  -3.1117\n",
       "\n",
       "[557 rows x 6 columns], token_table=      Topic      Freq    Term\n",
       "term                         \n",
       "5         1  0.163147  action\n",
       "5         2  0.192810  action\n",
       "5         3  0.444946  action\n",
       "5         4  0.163147  action\n",
       "5         5  0.029663  action\n",
       "...     ...       ...     ...\n",
       "328       2  0.210215   write\n",
       "328       3  0.270277   write\n",
       "328       4  0.450462   write\n",
       "1240      2  0.864775   wrong\n",
       "1240      5  0.108097   wrong\n",
       "\n",
       "[761 rows x 3 columns], R=30, lambda_step=0.01, plot_opts={'xlab': 'PC1', 'ylab': 'PC2'}, topic_order=[8, 1, 2, 4, 7, 3, 5, 6])"
      ]
     },
     "execution_count": 22,
     "metadata": {},
     "output_type": "execute_result"
    }
   ],
   "source": [
    "# Generate a visualization of the topic models\n",
    "\n",
    "import pyLDAvis.gensim_models\n",
    "pyLDAvis.enable_notebook()\n",
    "vis = pyLDAvis.gensim_models.prepare(lda_model, corpus, id2word)\n",
    "vis"
   ]
  }
 ],
 "metadata": {
  "kernelspec": {
   "display_name": "Python 3",
   "language": "python",
   "name": "python3"
  },
  "language_info": {
   "codemirror_mode": {
    "name": "ipython",
    "version": 3
   },
   "file_extension": ".py",
   "mimetype": "text/x-python",
   "name": "python",
   "nbconvert_exporter": "python",
   "pygments_lexer": "ipython3",
   "version": "3.8.5"
  }
 },
 "nbformat": 4,
 "nbformat_minor": 4
}
