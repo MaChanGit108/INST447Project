{
 "cells": [
  {
   "cell_type": "markdown",
   "metadata": {},
   "source": [
    "### INST447 Project Part 2\n",
    "#### Members: Alexander Chui and Matthew Chan"
   ]
  },
  {
   "cell_type": "markdown",
   "metadata": {},
   "source": [
    "### What factors affect ratings for an anime?"
   ]
  },
  {
   "cell_type": "code",
   "execution_count": 1,
   "metadata": {},
   "outputs": [],
   "source": [
    "import warnings\n",
    "warnings.filterwarnings('ignore')"
   ]
  },
  {
   "cell_type": "code",
   "execution_count": 2,
   "metadata": {},
   "outputs": [],
   "source": [
    "#Importing the required libraries\n",
    "import pandas as pd\n",
    "from bs4 import BeautifulSoup\n",
    "from urllib.request import urlopen \n",
    "import numpy as np\n",
    "from requests import get"
   ]
  },
  {
   "cell_type": "code",
   "execution_count": 3,
   "metadata": {},
   "outputs": [],
   "source": [
    "#libraries imported for handling rate limits and console formatting\n",
    "from time import time, sleep\n",
    "from random import randint\n",
    "from warnings import warn\n",
    "from IPython.core.display import clear_output"
   ]
  },
  {
   "cell_type": "code",
   "execution_count": 4,
   "metadata": {},
   "outputs": [
    {
     "name": "stderr",
     "output_type": "stream",
     "text": [
      "C:\\Users\\MaNinjaChan\\anaconda3\\lib\\site-packages\\sklearn\\linear_model\\_least_angle.py:34: DeprecationWarning: `np.float` is a deprecated alias for the builtin `float`. To silence this warning, use `float` by itself. Doing this will not modify any behavior and is safe. If you specifically wanted the numpy scalar type, use `np.float64` here.\n",
      "Deprecated in NumPy 1.20; for more details and guidance: https://numpy.org/devdocs/release/1.20.0-notes.html#deprecations\n",
      "  method='lar', copy_X=True, eps=np.finfo(np.float).eps,\n",
      "C:\\Users\\MaNinjaChan\\anaconda3\\lib\\site-packages\\sklearn\\linear_model\\_least_angle.py:164: DeprecationWarning: `np.float` is a deprecated alias for the builtin `float`. To silence this warning, use `float` by itself. Doing this will not modify any behavior and is safe. If you specifically wanted the numpy scalar type, use `np.float64` here.\n",
      "Deprecated in NumPy 1.20; for more details and guidance: https://numpy.org/devdocs/release/1.20.0-notes.html#deprecations\n",
      "  method='lar', copy_X=True, eps=np.finfo(np.float).eps,\n",
      "C:\\Users\\MaNinjaChan\\anaconda3\\lib\\site-packages\\sklearn\\linear_model\\_least_angle.py:281: DeprecationWarning: `np.float` is a deprecated alias for the builtin `float`. To silence this warning, use `float` by itself. Doing this will not modify any behavior and is safe. If you specifically wanted the numpy scalar type, use `np.float64` here.\n",
      "Deprecated in NumPy 1.20; for more details and guidance: https://numpy.org/devdocs/release/1.20.0-notes.html#deprecations\n",
      "  eps=np.finfo(np.float).eps, copy_Gram=True, verbose=0,\n",
      "C:\\Users\\MaNinjaChan\\anaconda3\\lib\\site-packages\\sklearn\\linear_model\\_least_angle.py:865: DeprecationWarning: `np.float` is a deprecated alias for the builtin `float`. To silence this warning, use `float` by itself. Doing this will not modify any behavior and is safe. If you specifically wanted the numpy scalar type, use `np.float64` here.\n",
      "Deprecated in NumPy 1.20; for more details and guidance: https://numpy.org/devdocs/release/1.20.0-notes.html#deprecations\n",
      "  eps=np.finfo(np.float).eps, copy_X=True, fit_path=True,\n",
      "C:\\Users\\MaNinjaChan\\anaconda3\\lib\\site-packages\\sklearn\\linear_model\\_least_angle.py:1121: DeprecationWarning: `np.float` is a deprecated alias for the builtin `float`. To silence this warning, use `float` by itself. Doing this will not modify any behavior and is safe. If you specifically wanted the numpy scalar type, use `np.float64` here.\n",
      "Deprecated in NumPy 1.20; for more details and guidance: https://numpy.org/devdocs/release/1.20.0-notes.html#deprecations\n",
      "  eps=np.finfo(np.float).eps, copy_X=True, fit_path=True,\n",
      "C:\\Users\\MaNinjaChan\\anaconda3\\lib\\site-packages\\sklearn\\linear_model\\_least_angle.py:1149: DeprecationWarning: `np.float` is a deprecated alias for the builtin `float`. To silence this warning, use `float` by itself. Doing this will not modify any behavior and is safe. If you specifically wanted the numpy scalar type, use `np.float64` here.\n",
      "Deprecated in NumPy 1.20; for more details and guidance: https://numpy.org/devdocs/release/1.20.0-notes.html#deprecations\n",
      "  eps=np.finfo(np.float).eps, positive=False):\n",
      "C:\\Users\\MaNinjaChan\\anaconda3\\lib\\site-packages\\sklearn\\linear_model\\_least_angle.py:1379: DeprecationWarning: `np.float` is a deprecated alias for the builtin `float`. To silence this warning, use `float` by itself. Doing this will not modify any behavior and is safe. If you specifically wanted the numpy scalar type, use `np.float64` here.\n",
      "Deprecated in NumPy 1.20; for more details and guidance: https://numpy.org/devdocs/release/1.20.0-notes.html#deprecations\n",
      "  max_n_alphas=1000, n_jobs=None, eps=np.finfo(np.float).eps,\n",
      "C:\\Users\\MaNinjaChan\\anaconda3\\lib\\site-packages\\sklearn\\linear_model\\_least_angle.py:1621: DeprecationWarning: `np.float` is a deprecated alias for the builtin `float`. To silence this warning, use `float` by itself. Doing this will not modify any behavior and is safe. If you specifically wanted the numpy scalar type, use `np.float64` here.\n",
      "Deprecated in NumPy 1.20; for more details and guidance: https://numpy.org/devdocs/release/1.20.0-notes.html#deprecations\n",
      "  max_n_alphas=1000, n_jobs=None, eps=np.finfo(np.float).eps,\n",
      "C:\\Users\\MaNinjaChan\\anaconda3\\lib\\site-packages\\sklearn\\linear_model\\_least_angle.py:1755: DeprecationWarning: `np.float` is a deprecated alias for the builtin `float`. To silence this warning, use `float` by itself. Doing this will not modify any behavior and is safe. If you specifically wanted the numpy scalar type, use `np.float64` here.\n",
      "Deprecated in NumPy 1.20; for more details and guidance: https://numpy.org/devdocs/release/1.20.0-notes.html#deprecations\n",
      "  eps=np.finfo(np.float).eps, copy_X=True, positive=False):\n",
      "C:\\Users\\MaNinjaChan\\anaconda3\\lib\\site-packages\\sklearn\\decomposition\\_lda.py:28: DeprecationWarning: `np.float` is a deprecated alias for the builtin `float`. To silence this warning, use `float` by itself. Doing this will not modify any behavior and is safe. If you specifically wanted the numpy scalar type, use `np.float64` here.\n",
      "Deprecated in NumPy 1.20; for more details and guidance: https://numpy.org/devdocs/release/1.20.0-notes.html#deprecations\n",
      "  EPS = np.finfo(np.float).eps\n",
      "C:\\Users\\MaNinjaChan\\anaconda3\\lib\\site-packages\\sklearn\\feature_extraction\\image.py:172: DeprecationWarning: `np.int` is a deprecated alias for the builtin `int`. To silence this warning, use `int` by itself. Doing this will not modify any behavior and is safe. When replacing `np.int`, you may wish to use e.g. `np.int64` or `np.int32` to specify the precision. If you wish to review your current use, check the release note link for additional information.\n",
      "Deprecated in NumPy 1.20; for more details and guidance: https://numpy.org/devdocs/release/1.20.0-notes.html#deprecations\n",
      "  dtype=np.int):\n"
     ]
    }
   ],
   "source": [
    "import regex as re\n",
    "\n",
    "# Gensim\n",
    "import gensim\n",
    "import gensim.corpora as corpora\n",
    "from gensim.utils import simple_preprocess\n",
    "\n",
    "# spacy for lemmatization\n",
    "import spacy\n",
    "\n",
    "# Plotting tools\n",
    "import pyLDAvis\n",
    "\n",
    "import nltk; "
   ]
  },
  {
   "cell_type": "code",
   "execution_count": 5,
   "metadata": {},
   "outputs": [],
   "source": [
    "# NLTK Stop words\n",
    "from nltk.corpus import stopwords\n",
    "stop_words = stopwords.words('english')\n",
    "stop_words.extend(['from', 'subject', 're', 'edu', 'use'])"
   ]
  },
  {
   "cell_type": "code",
   "execution_count": 6,
   "metadata": {},
   "outputs": [],
   "source": [
    "#Connecting to the URL on the web to access its content (Crunchyroll)\n",
    "# html=urlopen('https://www.crunchyroll.com/fullmetal-alchemist-brotherhood/reviews/helpful/page1')\n",
    "# html.status"
   ]
  },
  {
   "cell_type": "code",
   "execution_count": 7,
   "metadata": {},
   "outputs": [
    {
     "data": {
      "text/plain": [
       "200"
      ]
     },
     "execution_count": 7,
     "metadata": {},
     "output_type": "execute_result"
    }
   ],
   "source": [
    "#Connecting to the URL on the web to access its content (MAL)\n",
    "html=urlopen('https://myanimelist.net/anime/31338/Hundred/reviews?p=1')\n",
    "html.status"
   ]
  },
  {
   "cell_type": "code",
   "execution_count": 8,
   "metadata": {},
   "outputs": [],
   "source": [
    "#Creating an instance of beautifulsoup object to begin web scraping\n",
    "bs=BeautifulSoup(html.read(),'html.parser')"
   ]
  },
  {
   "cell_type": "code",
   "execution_count": 9,
   "metadata": {},
   "outputs": [
    {
     "name": "stdout",
     "output_type": "stream",
     "text": [
      "20\n"
     ]
    }
   ],
   "source": [
    "#Acessing the container objects with the anime info \n",
    "anime_review_containers = bs.find_all('div', {'class':{'borderDark'}})\n",
    "print(len(anime_review_containers))"
   ]
  },
  {
   "cell_type": "code",
   "execution_count": 10,
   "metadata": {},
   "outputs": [],
   "source": [
    "#Creating empty lists to store all the items \n",
    "review = []"
   ]
  },
  {
   "cell_type": "code",
   "execution_count": 11,
   "metadata": {},
   "outputs": [],
   "source": [
    "# Preparing the monitoring of the loop\n",
    "start_time = time()\n",
    "request = 0"
   ]
  },
  {
   "cell_type": "code",
   "execution_count": 12,
   "metadata": {},
   "outputs": [],
   "source": [
    "#Extracting each job name in loop\n",
    "for page in range(1,3):\n",
    "    # Make a get request\n",
    "        #https://myanimelist.net/anime/genre/1/Action?page=1\n",
    "        #https://myanimelist.net/anime/genre/1/Action?page=2\n",
    "        response = get('https://myanimelist.net/anime/31338/Hundred/reviews?p='+ str(page))\n",
    "        \n",
    "#         # Pause the loop\n",
    "#         sleep(randint(8,15))\n",
    "\n",
    "#         # Monitor the requests\n",
    "#         request += 1\n",
    "#         elapsed_time = time() - start_time\n",
    "#         print('Request:{}; Frequency: {} requests/s'.format(request, \n",
    "#                                                             request/elapsed_time))\n",
    "#         clear_output(wait = True)\n",
    "\n",
    "#         # Throw a warning for non-200 status codes\n",
    "#         if response.status_code != 200:\n",
    "#             warn('Request: {}; Status code: {}'.format(request, \n",
    "#                                                        response.status_code))\n",
    "\n",
    "#         # Break the loop if the number of requests is greater than expected\n",
    "#         if request > 100:\n",
    "#             warn('Number of requests was greater than expected.')\n",
    "#             break\n",
    "        \n",
    "        # Parse the content of the request with BeautifulSoup\n",
    "        bs = BeautifulSoup(response.text, 'html.parser')\n",
    "        \n",
    "        #Acessing the container objects with the anime info \n",
    "        anime_review_containers = bs.find_all('div', {'class':{'borderDark'}})\n",
    "\n",
    "        #Extracting all the elements \n",
    "        for container in anime_review_containers:\n",
    "        # If the movie has Metascore, then extract:\n",
    "        #  if container.find('div', {'class':{'scoremem'}})  is not None:\n",
    "        \n",
    "        # The name of anime\n",
    "            try: \n",
    "                reviews = container.find('div', {'class':'spaceit textReadability word-break pt8 mt8'})\n",
    "                review.append(reviews.text)\n",
    "            except:\n",
    "                review.append('Missing')"
   ]
  },
  {
   "cell_type": "code",
   "execution_count": 13,
   "metadata": {},
   "outputs": [
    {
     "name": "stdout",
     "output_type": "stream",
     "text": [
      "<class 'pandas.core.frame.DataFrame'>\n",
      "RangeIndex: 40 entries, 0 to 39\n",
      "Data columns (total 1 columns):\n",
      " #   Column  Non-Null Count  Dtype \n",
      "---  ------  --------------  ----- \n",
      " 0   Review  40 non-null     object\n",
      "dtypes: object(1)\n",
      "memory usage: 448.0+ bytes\n",
      "None\n"
     ]
    }
   ],
   "source": [
    "#Creating a pandas dataframe to store the objects extracted\n",
    "anime_review = pd.DataFrame({'Review': review\n",
    "})\n",
    "print(anime_review.info())"
   ]
  },
  {
   "cell_type": "code",
   "execution_count": 14,
   "metadata": {},
   "outputs": [
    {
     "data": {
      "text/html": [
       "<div>\n",
       "<style scoped>\n",
       "    .dataframe tbody tr th:only-of-type {\n",
       "        vertical-align: middle;\n",
       "    }\n",
       "\n",
       "    .dataframe tbody tr th {\n",
       "        vertical-align: top;\n",
       "    }\n",
       "\n",
       "    .dataframe thead th {\n",
       "        text-align: right;\n",
       "    }\n",
       "</style>\n",
       "<table border=\"1\" class=\"dataframe\">\n",
       "  <thead>\n",
       "    <tr style=\"text-align: right;\">\n",
       "      <th></th>\n",
       "      <th>Review</th>\n",
       "    </tr>\n",
       "  </thead>\n",
       "  <tbody>\n",
       "    <tr>\n",
       "      <th>0</th>\n",
       "      <td>\\n\\n\\n\\nOverall\\n5\\n\\n\\nStory\\n3\\n\\n\\nAnimatio...</td>\n",
       "    </tr>\n",
       "    <tr>\n",
       "      <th>1</th>\n",
       "      <td>\\n\\n\\n\\nOverall\\n2\\n\\n\\nStory\\n3\\n\\n\\nAnimatio...</td>\n",
       "    </tr>\n",
       "    <tr>\n",
       "      <th>2</th>\n",
       "      <td>\\n\\n\\n\\nOverall\\n8\\n\\n\\nStory\\n7\\n\\n\\nAnimatio...</td>\n",
       "    </tr>\n",
       "    <tr>\n",
       "      <th>3</th>\n",
       "      <td>\\n\\n\\n\\nOverall\\n7\\n\\n\\nStory\\n6\\n\\n\\nAnimatio...</td>\n",
       "    </tr>\n",
       "    <tr>\n",
       "      <th>4</th>\n",
       "      <td>\\n\\n\\n\\nOverall\\n6\\n\\n\\nStory\\n3\\n\\n\\nAnimatio...</td>\n",
       "    </tr>\n",
       "  </tbody>\n",
       "</table>\n",
       "</div>"
      ],
      "text/plain": [
       "                                              Review\n",
       "0  \\n\\n\\n\\nOverall\\n5\\n\\n\\nStory\\n3\\n\\n\\nAnimatio...\n",
       "1  \\n\\n\\n\\nOverall\\n2\\n\\n\\nStory\\n3\\n\\n\\nAnimatio...\n",
       "2  \\n\\n\\n\\nOverall\\n8\\n\\n\\nStory\\n7\\n\\n\\nAnimatio...\n",
       "3  \\n\\n\\n\\nOverall\\n7\\n\\n\\nStory\\n6\\n\\n\\nAnimatio...\n",
       "4  \\n\\n\\n\\nOverall\\n6\\n\\n\\nStory\\n3\\n\\n\\nAnimatio..."
      ]
     },
     "execution_count": 14,
     "metadata": {},
     "output_type": "execute_result"
    }
   ],
   "source": [
    "# Display the top 5 rows of dataset\n",
    "anime_review.head()"
   ]
  },
  {
   "cell_type": "code",
   "execution_count": 15,
   "metadata": {},
   "outputs": [
    {
     "name": "stdout",
     "output_type": "stream",
     "text": [
      " Overall 5 Story 3 Animation 7 Sound 7 Character 5 Enjoyment 5 \"They call it Hundred because you've seen this show hundreds of times already.\" I don't remember the name of the original user who said this but I do like that part in your review. If I had to say what Hundred's weakness is, its that the show lacks any uniqueness to help it stand out more from the rest of the magic school battle anime out there. It appears as if there is a really bad cycle in Japan right now where so many.. school/harem/sci-fi anime are taking over and in my opinion not too many of them are doing so well. I mean we've had asterisk wars, chivalry of a failed knight and many more similar every season and each title just leaves me with mixed feelings. Now the story is simple, straight-forward yet lacks uniqueness which I believe is something that is absolutely vital in every anime & manga. Hundred is literally copy & pasted meaning if you have watched at least 2 or three titles similar to this then you can already predict the upcoming events and the relationships between characters. In addition to that, prediction the plot along with the events that are going to take place for certain episodes is sort of like a walk in the park. Now I'm not really trying to criticize Jun Misaki because other authors obviously have this idea too. They want use the re-occurring themes found in other authors work and make their own unique novel based upon those theme. That's perfectly fine however it hurts both the story and the plot in many ways because it is all too common. This is exactly why I brought up the \"bad cycle\" theory. If I didn't watch shows like these when they aired for a while and just got into hundred then perhaps I could've felt that the story was refreshing however, this simply was not the case. There were no exciting story developments and plot development felt weak. Most importantly though it was pretty hard for me to get excited and engaged with such meritocracy. Overall I just was not impressed with the stories presentation nor plot because it's been done too many times to the point where I really wanted to drop it. The art & animation is actually really great. The flow of the fighting and action scenes were amazing to me. Although I could've done without the talking through most of the battles, I was, for the most part impressed seeing the duels between characters like Claire, Hayato, Emile etc. The character designs were pretty good however I still prefer the illustrations done in the light novel by Nekosuke Ōkuma over designs made by the producers at Production IMS. Sound was pretty decent for the most part. I didn't care for the soundtracks background music nor the opening and intro songs. I did like the sound effects I think those were pretty good. The singing done in the show , sort of like pre-game musical performances were annoying. It's like they tried to add Idols to the already unnecessarily convoluted show. I don't really have too much to say about the seiyuu's involved in the show. I think their performances were pretty good. They each delivered some pretty solid lines. Overall I was okay with the sound department not too many complaints nor praise to give it. Characters are so forgettable that I'll probably never even remember them. Hayato Kisaragi is literally copy and pasted from every other show liked this. the childhood friend romance is overplayed. The girls start to fall for generic MC kun. Fan service, fan service, Production IMS should have at least taken the time to make the fan service look good. I would love to delve more into the characters department however, because I've finished my review, I probably don't want to go back watch the show again and then edit my review again to add more details. This is simply because I feel like my review based on the characters would be more like a rant rather than an actual review. My impressions of the characters overall is that they simply needed more work to distinguish themselves from others. My enjoyment for the series pretty low. I felt like this was a title I really should have dropped however, my goal is to see every show through regardless of how \"bad\" or \"Awful\" it is. Personally I do feel like if this show didn't rely mostly on overused plot, story and characters found in similar titles then it really could have been better. compared to chivalry of a failed knight I liked it better because even though the titles shared somewhat similar stories, failed knight, even asterisk wars, remained unique, had likable characters, and a better story introduction along with finishes. I felt like there was a lack of effort put into the creation of the Hundred anime. It was sort of like the director said \"alright team, we are producing a new show, go watch every show with similar story, plot, and characters and copy it asap.\" However! However, they forgot about crucial part \"making hundred unique.\" If I asked anyone whose scene this show \"Hey do you remember hundred\" I am roughly 92.5% sure they wouldn't remember it. Hundred fails to leave me with a memorable impression of it. Overall I wouldn't recommend hundred to anyone. I feel like there is too many imperfections to this series. Hundred is about 70% avoidable, I'd say there is a one in a \"Hundred\" chance of me watching this again.. I wanted to walk a Hundred miles away from my computer while watching this... okay, that last one didn't work but you get the point.. I didn't like hundred.. Helpful read more \n"
     ]
    },
    {
     "name": "stderr",
     "output_type": "stream",
     "text": [
      "<>:5: DeprecationWarning: invalid escape sequence \\s\n",
      "<>:5: DeprecationWarning: invalid escape sequence \\s\n",
      "<ipython-input-15-b412c0db5fd7>:5: DeprecationWarning: invalid escape sequence \\s\n",
      "  data = [re.sub('\\s+', ' ', sent) for sent in data]\n"
     ]
    }
   ],
   "source": [
    "# Convert to list\n",
    "data = anime_review['Review'].tolist()\n",
    "\n",
    "# Remove new line characters\n",
    "data = [re.sub('\\s+', ' ', sent) for sent in data]\n",
    "\n",
    "print(data[0])"
   ]
  },
  {
   "cell_type": "code",
   "execution_count": 16,
   "metadata": {},
   "outputs": [
    {
     "name": "stdout",
     "output_type": "stream",
     "text": [
      "['overall', 'story', 'animation', 'sound', 'character', 'enjoyment', 'they', 'call', 'it', 'hundred', 'because', 'you', 've', 'seen', 'this', 'show', 'hundreds', 'of', 'times', 'already', 'don', 'remember', 'the', 'name', 'of', 'the', 'original', 'user', 'who', 'said', 'this', 'but', 'do', 'like', 'that', 'part', 'in', 'your', 'review', 'if', 'had', 'to', 'say', 'what', 'hundred', 'weakness', 'is', 'its', 'that', 'the', 'show', 'lacks', 'any', 'uniqueness', 'to', 'help', 'it', 'stand', 'out', 'more', 'from', 'the', 'rest', 'of', 'the', 'magic', 'school', 'battle', 'anime', 'out', 'there', 'it', 'appears', 'as', 'if', 'there', 'is', 'really', 'bad', 'cycle', 'in', 'japan', 'right', 'now', 'where', 'so', 'many', 'school', 'harem', 'sci', 'fi', 'anime', 'are', 'taking', 'over', 'and', 'in', 'my', 'opinion', 'not', 'too', 'many', 'of', 'them', 'are', 'doing', 'so', 'well', 'mean', 'we', 've', 'had', 'asterisk', 'wars', 'chivalry', 'of', 'failed', 'knight', 'and', 'many', 'more', 'similar', 'every', 'season', 'and', 'each', 'title', 'just', 'leaves', 'me', 'with', 'mixed', 'feelings', 'now', 'the', 'story', 'is', 'simple', 'straight', 'forward', 'yet', 'lacks', 'uniqueness', 'which', 'believe', 'is', 'something', 'that', 'is', 'absolutely', 'vital', 'in', 'every', 'anime', 'manga', 'hundred', 'is', 'literally', 'copy', 'pasted', 'meaning', 'if', 'you', 'have', 'watched', 'at', 'least', 'or', 'three', 'titles', 'similar', 'to', 'this', 'then', 'you', 'can', 'already', 'predict', 'the', 'upcoming', 'events', 'and', 'the', 'relationships', 'between', 'characters', 'in', 'addition', 'to', 'that', 'prediction', 'the', 'plot', 'along', 'with', 'the', 'events', 'that', 'are', 'going', 'to', 'take', 'place', 'for', 'certain', 'episodes', 'is', 'sort', 'of', 'like', 'walk', 'in', 'the', 'park', 'now', 'not', 'really', 'trying', 'to', 'criticize', 'jun', 'misaki', 'because', 'other', 'authors', 'obviously', 'have', 'this', 'idea', 'too', 'they', 'want', 'use', 'the', 're', 'occurring', 'themes', 'found', 'in', 'other', 'authors', 'work', 'and', 'make', 'their', 'own', 'unique', 'novel', 'based', 'upon', 'those', 'theme', 'that', 'perfectly', 'fine', 'however', 'it', 'hurts', 'both', 'the', 'story', 'and', 'the', 'plot', 'in', 'many', 'ways', 'because', 'it', 'is', 'all', 'too', 'common', 'this', 'is', 'exactly', 'why', 'brought', 'up', 'the', 'bad', 'cycle', 'theory', 'if', 'didn', 'watch', 'shows', 'like', 'these', 'when', 'they', 'aired', 'for', 'while', 'and', 'just', 'got', 'into', 'hundred', 'then', 'perhaps', 'could', 've', 'felt', 'that', 'the', 'story', 'was', 'refreshing', 'however', 'this', 'simply', 'was', 'not', 'the', 'case', 'there', 'were', 'no', 'exciting', 'story', 'developments', 'and', 'plot', 'development', 'felt', 'weak', 'most', 'importantly', 'though', 'it', 'was', 'pretty', 'hard', 'for', 'me', 'to', 'get', 'excited', 'and', 'engaged', 'with', 'such', 'meritocracy', 'overall', 'just', 'was', 'not', 'impressed', 'with', 'the', 'stories', 'presentation', 'nor', 'plot', 'because', 'it', 'been', 'done', 'too', 'many', 'times', 'to', 'the', 'point', 'where', 'really', 'wanted', 'to', 'drop', 'it', 'the', 'art', 'animation', 'is', 'actually', 'really', 'great', 'the', 'flow', 'of', 'the', 'fighting', 'and', 'action', 'scenes', 'were', 'amazing', 'to', 'me', 'although', 'could', 've', 'done', 'without', 'the', 'talking', 'through', 'most', 'of', 'the', 'battles', 'was', 'for', 'the', 'most', 'part', 'impressed', 'seeing', 'the', 'duels', 'between', 'characters', 'like', 'claire', 'hayato', 'emile', 'etc', 'the', 'character', 'designs', 'were', 'pretty', 'good', 'however', 'still', 'prefer', 'the', 'illustrations', 'done', 'in', 'the', 'light', 'novel', 'by', 'nekosuke', 'okuma', 'over', 'designs', 'made', 'by', 'the', 'producers', 'at', 'production', 'ims', 'sound', 'was', 'pretty', 'decent', 'for', 'the', 'most', 'part', 'didn', 'care', 'for', 'the', 'soundtracks', 'background', 'music', 'nor', 'the', 'opening', 'and', 'intro', 'songs', 'did', 'like', 'the', 'sound', 'effects', 'think', 'those', 'were', 'pretty', 'good', 'the', 'singing', 'done', 'in', 'the', 'show', 'sort', 'of', 'like', 'pre', 'game', 'musical', 'performances', 'were', 'annoying', 'it', 'like', 'they', 'tried', 'to', 'add', 'idols', 'to', 'the', 'already', 'unnecessarily', 'convoluted', 'show', 'don', 'really', 'have', 'too', 'much', 'to', 'say', 'about', 'the', 'seiyuu', 'involved', 'in', 'the', 'show', 'think', 'their', 'performances', 'were', 'pretty', 'good', 'they', 'each', 'delivered', 'some', 'pretty', 'solid', 'lines', 'overall', 'was', 'okay', 'with', 'the', 'sound', 'department', 'not', 'too', 'many', 'complaints', 'nor', 'praise', 'to', 'give', 'it', 'characters', 'are', 'so', 'forgettable', 'that', 'll', 'probably', 'never', 'even', 'remember', 'them', 'hayato', 'kisaragi', 'is', 'literally', 'copy', 'and', 'pasted', 'from', 'every', 'other', 'show', 'liked', 'this', 'the', 'childhood', 'friend', 'romance', 'is', 'overplayed', 'the', 'girls', 'start', 'to', 'fall', 'for', 'generic', 'mc', 'kun', 'fan', 'service', 'fan', 'service', 'production', 'ims', 'should', 'have', 'at', 'least', 'taken', 'the', 'time', 'to', 'make', 'the', 'fan', 'service', 'look', 'good', 'would', 'love', 'to', 'delve', 'more', 'into', 'the', 'characters', 'department', 'however', 'because', 've', 'finished', 'my', 'review', 'probably', 'don', 'want', 'to', 'go', 'back', 'watch', 'the', 'show', 'again', 'and', 'then', 'edit', 'my', 'review', 'again', 'to', 'add', 'more', 'details', 'this', 'is', 'simply', 'because', 'feel', 'like', 'my', 'review', 'based', 'on', 'the', 'characters', 'would', 'be', 'more', 'like', 'rant', 'rather', 'than', 'an', 'actual', 'review', 'my', 'impressions', 'of', 'the', 'characters', 'overall', 'is', 'that', 'they', 'simply', 'needed', 'more', 'work', 'to', 'distinguish', 'themselves', 'from', 'others', 'my', 'enjoyment', 'for', 'the', 'series', 'pretty', 'low', 'felt', 'like', 'this', 'was', 'title', 'really', 'should', 'have', 'dropped', 'however', 'my', 'goal', 'is', 'to', 'see', 'every', 'show', 'through', 'regardless', 'of', 'how', 'bad', 'or', 'awful', 'it', 'is', 'personally', 'do', 'feel', 'like', 'if', 'this', 'show', 'didn', 'rely', 'mostly', 'on', 'overused', 'plot', 'story', 'and', 'characters', 'found', 'in', 'similar', 'titles', 'then', 'it', 'really', 'could', 'have', 'been', 'better', 'compared', 'to', 'chivalry', 'of', 'failed', 'knight', 'liked', 'it', 'better', 'because', 'even', 'though', 'the', 'titles', 'shared', 'somewhat', 'similar', 'stories', 'failed', 'knight', 'even', 'asterisk', 'wars', 'remained', 'unique', 'had', 'likable', 'characters', 'and', 'better', 'story', 'introduction', 'along', 'with', 'finishes', 'felt', 'like', 'there', 'was', 'lack', 'of', 'effort', 'put', 'into', 'the', 'creation', 'of', 'the', 'hundred', 'anime', 'it', 'was', 'sort', 'of', 'like', 'the', 'director', 'said', 'alright', 'team', 'we', 'are', 'producing', 'new', 'show', 'go', 'watch', 'every', 'show', 'with', 'similar', 'story', 'plot', 'and', 'characters', 'and', 'copy', 'it', 'asap', 'however', 'however', 'they', 'forgot', 'about', 'crucial', 'part', 'making', 'hundred', 'unique', 'if', 'asked', 'anyone', 'whose', 'scene', 'this', 'show', 'hey', 'do', 'you', 'remember', 'hundred', 'am', 'roughly', 'sure', 'they', 'wouldn', 'remember', 'it', 'hundred', 'fails', 'to', 'leave', 'me', 'with', 'memorable', 'impression', 'of', 'it', 'overall', 'wouldn', 'recommend', 'hundred', 'to', 'anyone', 'feel', 'like', 'there', 'is', 'too', 'many', 'imperfections', 'to', 'this', 'series', 'hundred', 'is', 'about', 'avoidable', 'say', 'there', 'is', 'one', 'in', 'hundred', 'chance', 'of', 'me', 'watching', 'this', 'again', 'wanted', 'to', 'walk', 'hundred', 'miles', 'away', 'from', 'my', 'computer', 'while', 'watching', 'this', 'okay', 'that', 'last', 'one', 'didn', 'work', 'but', 'you', 'get', 'the', 'point', 'didn', 'like', 'hundred', 'helpful', 'read', 'more']\n"
     ]
    }
   ],
   "source": [
    "# Clean and tokenize the reviews\n",
    "\n",
    "def sent_to_words(sentences):\n",
    "    for sentence in sentences:\n",
    "        yield(gensim.utils.simple_preprocess(str(sentence), deacc=True))  # deacc=True removes punctuations\n",
    "        \n",
    "data_words = list(sent_to_words(data))\n",
    "\n",
    "print(data_words[0])"
   ]
  },
  {
   "cell_type": "code",
   "execution_count": 17,
   "metadata": {},
   "outputs": [
    {
     "name": "stdout",
     "output_type": "stream",
     "text": [
      "['overall', 'story', 'animation_sound', 'character', 'enjoyment', 'story', 'there', 'not', 'much', 'of', 'story', 'it', 'basically', 'about', 'the', 'characters', 'protecting', 'the', 'ship', 'art', 'the', 'art', 'was', 'okay', 'but', 'couldn', 'help', 'but', 'notice', 'the', 'glaring', 'errors', 'in', 'the', 'animation', 'sometimes', 'it', 'was', 'stilted', 'and', 'lazy', 'for', 'example', 'there', 'are', 'times', 'when', 'someone', 'is', 'in', 'position', 'in', 'frame', 'then', 'they', 'cut', 'to', 'someone', 'right', 'next', 'to', 'them', 'and', 'then', 'they', 'cut', 'to', 'the', 'person', 'next', 'to', 'them', 'in', 'another', 'position', 'entirely', 'it', 'as', 'if', 'sometimes', 'they', 'didn', 'want', 'to', 'put', 'in', 'the', 'work', 'of', 'the', 'character', 'doing', 'fluid', 'animation', 'or', 'doing', 'something', 'in', 'one', 'frame', 'this', 'is', 'especially', 'noticeable', 'in', 'the', 'last', 'few', 'episodes', 'sound', 'the', 'music', 'was', 'good', 'especially', 'the', 'opening', 'but', 'didn', 'really', 'like', 'how', 'they', 'changed', 'the', 'ending', 'song', 'almost', 'every', 'episode', 'think', 'they', 'should', 've', 'just', 'stuck', 'to', 'song', 'especially', 'since', 'the', 'series', 'is', 'only', 'episodes', 'long', 'character', 'the', 'characters', 'are', 'okay', 'yes', 'most', 'of', 'them', 'are', 'cliche', 'but', 'didn', 'hate', 'them', 'my', 'favorite', 'character', 'was', 'definitely', 'hayato', 'he', 'wasn', 'your', 'average', 'harem', 'anime', 'character', 'whose', 'pussy', 'afraid', 'of', 'girls', 'and', 'dense', 'most', 'of', 'the', 'time', 'when', 'he', 'was', 'alone', 'with', 'girl', 'he', 'was', 'confident', 'and', 'knew', 'what', 'to', 'do', 'or', 'say', 'and', 'my', 'favorite', 'thing', 'about', 'him', 'was', 'that', 'he', 'actually', 'chose', 'girl', 'enjoyment', 'enjoyed', 'the', 'action', 'and', 'romantic', 'scenes', 'and', 'there', 'was', 'lot', 'of', 'kissing', 'but', 'can', 'ignore', 'the', 'times', 'where', 'they', 'used', 'harem', 'ecchi', 'cliches', 'that', 'made', 'me', 'go', 'facepalm', 'final', 'score', 'it', 'not', 'good', 'but', 'it', 'not', 'bad', 'either', 'the', 'thing', 'that', 'kept', 'this', 'series', 'from', 'being', 'good', 'was', 'the', 'cliches', 'otherwise', 'when', 'the', 'series', 'did', 'things', 'that', 'were', 'good', 'it', 'was', 'good', 'mean', 'really', 'good', 'giving', 'them', 'pass', 'on', 'the', 'lack', 'of', 'character', 'backstory', 'since', 'the', 'ending', 'gave', 'an', 'indication', 'that', 'there', 'might', 'be', 'season', 'think', 'it', 'll', 'be', 'hit', 'or', 'miss', 'for', 'people', 'on', 'whether', 'or', 'not', 'they', 'like', 'the', 'series', 'would', 'like', 'for', 'it', 'to', 'have', 'season', 'because', 'the', 'potential', 'is', 'there', 'it', 'just', 'matter', 'of', 'whether', 'or', 'not', 'they', 'capitalize', 'on', 'it', 'helpful_read', 'more']\n"
     ]
    }
   ],
   "source": [
    "# Create bigrams, remove stop words and lemmatize the reviews\n",
    "\n",
    "# Build the bigram models\n",
    "bigram = gensim.models.Phrases(data_words, min_count=5, threshold=100) # higher threshold fewer phrases.\n",
    "\n",
    "# Faster way to get a sentence clubbed as a trigram/bigram\n",
    "bigram_mod = gensim.models.phrases.Phraser(bigram)\n",
    "\n",
    "print(bigram_mod[data_words[4]])"
   ]
  },
  {
   "cell_type": "code",
   "execution_count": 18,
   "metadata": {},
   "outputs": [],
   "source": [
    "# Defining removing stopwords\n",
    "def remove_stopwords(texts):\n",
    "    return [[word for word in simple_preprocess(str(doc)) if word not in stop_words] for doc in texts]\n",
    "\n",
    "# Defining making bigrams\n",
    "def make_bigrams(texts):\n",
    "    return [bigram_mod[doc] for doc in texts]\n",
    "\n",
    "# Defining lemmatization\n",
    "def lemmatization(texts, allowed_postags=['NOUN', 'ADJ', 'VERB', 'ADV']):\n",
    "    texts_out = []\n",
    "    for sent in texts:\n",
    "        doc = nlp(\" \".join(sent)) \n",
    "        texts_out.append([token.lemma_ for token in doc if token.pos_ in allowed_postags])\n",
    "    return texts_out"
   ]
  },
  {
   "cell_type": "code",
   "execution_count": 19,
   "metadata": {},
   "outputs": [
    {
     "name": "stdout",
     "output_type": "stream",
     "text": [
      "['overall', 'story', 'character', 'enjoyment', 'call', 'see', 'show', 'hundred', 'time', 'already', 'remember', 'name', 'original', 'user', 'say', 'part', 'review', 'say', 'weakness', 'show', 'lack', 'uniqueness', 'help', 'stand', 'rest', 'magic', 'school', 'battle', 'anime', 'appear', 'really', 'bad', 'cycle', 'japan', 'right', 'many', 'school', 'harem', 'sci', 'fi', 'anime', 'take', 'opinion', 'many', 'well', 'mean', 'asterisk', 'war', 'chivalry', 'fail', 'knight', 'many', 'similar', 'season', 'title', 'leave', 'mixed', 'feeling', 'story', 'simple', 'straight', 'forward', 'yet', 'lack', 'uniqueness', 'believe', 'absolutely', 'vital', 'anime', 'manga', 'literally', 'copy', 'paste', 'meaning', 'watch', 'least', 'title', 'similar', 'already', 'predict', 'upcoming', 'event', 'relationship', 'character', 'addition', 'prediction', 'plot', 'event', 'go', 'take', 'place', 'certain', 'episode', 'sort', 'walk', 'park', 'really', 'try', 'criticize', 'jun', 'misaki', 'author', 'obviously', 'idea', 'want', 'occur', 'theme', 'find', 'author', 'work', 'make', 'unique', 'novel', 'base', 'theme', 'perfectly', 'fine', 'however', 'hurt', 'story', 'plot', 'many', 'way', 'common', 'exactly', 'bring', 'bad', 'cycle', 'theory', 'watch', 'show', 'air', 'get', 'perhaps', 'felt', 'story', 'refresh', 'however', 'simply', 'case', 'exciting', 'story', 'development', 'plot', 'development', 'feel', 'weak', 'importantly', 'pretty', 'hard', 'get', 'excited', 'engage', 'meritocracy', 'overall', 'impressed', 'story', 'presentation', 'plot', 'do', 'many', 'time', 'point', 'really', 'want', 'drop', 'art', 'animation', 'actually', 'really', 'great', 'flow', 'fight', 'action', 'scene', 'amazing', 'do', 'talk', 'battle', 'part', 'impressed', 'seeing', 'duel', 'character', 'claire', 'hayato', 'emile', 'character', 'design', 'pretty', 'good', 'however', 'still', 'prefer', 'illustration', 'do', 'light_novel', 'nekosuke', 'okuma', 'design', 'make', 'producer', 'production', 'im', 'sound', 'pretty', 'decent', 'part', 'care', 'soundtrack', 'background', 'music', 'open', 'intro', 'song', 'sound', 'effect', 'think', 'pretty', 'good', 'singing', 'do', 'show', 'sort', 'pre', 'game', 'musical', 'performance', 'annoying', 'try', 'add', 'idol', 'already', 'unnecessarily', 'convoluted', 'show', 'really', 'much', 'say', 'seiyuu', 'involve', 'show', 'think', 'performance', 'pretty', 'good', 'deliver', 'pretty', 'solid', 'line', 'overall', 'okay', 'sound', 'department', 'many', 'complaint', 'praise', 'give', 'character', 'forgettable', 'probably', 'never', 'even', 'remember', 'hayato', 'kisaragi', 'literally', 'copy', 'paste', 'show', 'like', 'romance', 'overplay', 'girl', 'start', 'fall', 'generic', 'mc', 'kun', 'fan_service', 'production', 'im', 'least', 'take', 'time', 'make', 'look', 'good', 'love', 'delve', 'character', 'department', 'however', 'finished', 'review', 'probably', 'want', 'go', 'back', 'watch', 'show', 'edit', 'review', 'add', 'detail', 'simply', 'feel', 'review', 'base', 'character', 'like', 'rant', 'rather', 'actual', 'review', 'impression', 'character', 'overall', 'simply', 'need', 'work', 'distinguish', 'other', 'enjoyment', 'series', 'pretty', 'low', 'feel', 'title', 'really', 'drop', 'however', 'goal', 'see', 'show', 'regardless', 'bad', 'awful', 'personally', 'feel', 'show', 'rely', 'mostly', 'overused', 'plot', 'story', 'character', 'find', 'similar', 'title', 'really', 'well', 'compare', 'chivalry', 'fail', 'knight', 'like', 'well', 'even', 'title', 'share', 'somewhat', 'similar', 'story', 'fail', 'knight', 'even', 'asterisk', 'war', 'remain', 'unique', 'likable', 'character', 'well', 'story', 'introduction', 'finish', 'feel', 'lack', 'effort', 'put', 'creation', 'anime', 'sort', 'director', 'say', 'team', 'produce', 'new', 'show', 'go', 'watch', 'show', 'similar', 'story', 'plot', 'character', 'copy', 'asap', 'however', 'however', 'forget', 'crucial', 'part', 'make', 'unique', 'ask', 'scene', 'show', 'remember', 'roughly', 'sure', 'remember', 'fail', 'leave', 'memorable', 'impression', 'overall', 'recommend', 'feel', 'many', 'imperfection', 'series', 'avoidable', 'say', 'chance', 'watch', 'want', 'walk', 'mile', 'away', 'computer', 'watch', 'last', 'work', 'get', 'point', 'helpful_read']\n"
     ]
    }
   ],
   "source": [
    "# Remove Stop Words\n",
    "data_words_nostops = remove_stopwords(data_words)\n",
    "\n",
    "# Form Bigrams\n",
    "data_words_bigrams = make_bigrams(data_words_nostops)\n",
    "\n",
    "# Initialize spacy 'en' model, keeping only tagger component (for efficiency)\n",
    "# python3 -m spacy download en\n",
    "nlp = spacy.load('en_core_web_sm', disable=['parser', 'ner'])\n",
    "\n",
    "# Do lemmatization keeping only noun, adj, vb, adv\n",
    "data_lemmatized = lemmatization(data_words_bigrams, allowed_postags=['NOUN', 'ADJ', 'VERB', 'ADV'])\n",
    "\n",
    "print(data_lemmatized[0])"
   ]
  },
  {
   "cell_type": "code",
   "execution_count": 20,
   "metadata": {},
   "outputs": [
    {
     "name": "stdout",
     "output_type": "stream",
     "text": [
      "[(0, 1), (1, 1), (2, 1), (3, 1), (4, 2), (5, 1), (6, 1), (7, 3), (8, 1), (9, 1), (10, 4), (11, 1), (12, 1), (13, 1), (14, 1), (15, 1), (16, 2), (17, 2), (18, 1), (19, 1), (20, 1), (21, 1), (22, 1), (23, 3), (24, 2), (25, 2), (26, 1), (27, 1), (28, 1), (29, 1), (30, 1), (31, 1), (32, 1), (33, 11), (34, 2), (35, 1), (36, 1), (37, 1), (38, 1), (39, 1), (40, 1), (41, 3), (42, 1), (43, 1), (44, 1), (45, 2), (46, 1), (47, 1), (48, 1), (49, 2), (50, 2), (51, 1), (52, 2), (53, 1), (54, 1), (55, 4), (56, 2), (57, 1), (58, 1), (59, 1), (60, 1), (61, 1), (62, 1), (63, 2), (64, 1), (65, 3), (66, 2), (67, 1), (68, 1), (69, 1), (70, 4), (71, 1), (72, 1), (73, 6), (74, 1), (75, 1), (76, 1), (77, 1), (78, 2), (79, 1), (80, 1), (81, 1), (82, 1), (83, 1), (84, 1), (85, 1), (86, 1), (87, 1), (88, 3), (89, 1), (90, 1), (91, 3), (92, 1), (93, 4), (94, 1), (95, 1), (96, 1), (97, 2), (98, 1), (99, 1), (100, 7), (101, 1), (102, 1), (103, 1), (104, 1), (105, 1), (106, 2), (107, 1), (108, 1), (109, 2), (110, 2), (111, 1), (112, 1), (113, 1), (114, 1), (115, 1), (116, 1), (117, 3), (118, 1), (119, 3), (120, 1), (121, 2), (122, 2), (123, 1), (124, 1), (125, 3), (126, 1), (127, 2), (128, 1), (129, 1), (130, 1), (131, 1), (132, 4), (133, 1), (134, 7), (135, 1), (136, 1), (137, 1), (138, 1), (139, 1), (140, 1), (141, 1), (142, 1), (143, 1), (144, 1), (145, 1), (146, 1), (147, 1), (148, 1), (149, 1), (150, 1), (151, 1), (152, 1), (153, 1), (154, 1), (155, 1), (156, 1), (157, 1), (158, 1), (159, 1), (160, 1), (161, 5), (162, 1), (163, 1), (164, 1), (165, 4), (166, 2), (167, 1), (168, 2), (169, 1), (170, 1), (171, 1), (172, 6), (173, 2), (174, 1), (175, 1), (176, 1), (177, 1), (178, 1), (179, 1), (180, 7), (181, 2), (182, 1), (183, 1), (184, 2), (185, 1), (186, 1), (187, 1), (188, 7), (189, 1), (190, 1), (191, 1), (192, 1), (193, 1), (194, 1), (195, 4), (196, 1), (197, 5), (198, 1), (199, 1), (200, 1), (201, 5), (202, 2), (203, 2), (204, 1), (205, 1), (206, 2), (207, 1), (208, 1), (209, 2), (210, 1), (211, 13), (212, 5), (213, 1), (214, 3), (215, 1), (216, 1), (217, 1), (218, 1), (219, 3), (220, 3), (221, 1), (222, 1), (223, 1), (224, 1), (225, 10), (226, 1), (227, 1), (228, 3), (229, 1), (230, 1), (231, 2), (232, 1), (233, 2), (234, 3), (235, 5), (236, 2), (237, 3), (238, 2), (239, 1), (240, 1), (241, 1), (242, 1), (243, 2), (244, 4), (245, 2), (246, 6), (247, 1), (248, 1), (249, 1), (250, 4), (251, 3), (252, 1)]\n"
     ]
    }
   ],
   "source": [
    "# Create Dictionary\n",
    "id2word = corpora.Dictionary(data_lemmatized)\n",
    "\n",
    "# Create Corpus\n",
    "texts = data_lemmatized\n",
    "\n",
    "# Term Document Frequency\n",
    "corpus = [id2word.doc2bow(text) for text in texts]\n",
    "\n",
    "# View\n",
    "print(corpus[0])"
   ]
  },
  {
   "cell_type": "code",
   "execution_count": 21,
   "metadata": {},
   "outputs": [
    {
     "name": "stdout",
     "output_type": "stream",
     "text": [
      "[(0, '0.025*\"character\" + 0.013*\"good\" + 0.012*\"really\" + 0.012*\"feel\" + 0.008*\"anime\" + 0.008*\"show\" + 0.008*\"story\" + 0.007*\"episode\" + 0.007*\"series\" + 0.007*\"end\"'), (1, '0.023*\"anime\" + 0.019*\"watch\" + 0.013*\"harem\" + 0.010*\"character\" + 0.010*\"story\" + 0.010*\"enjoy\" + 0.009*\"overall\" + 0.009*\"mc\" + 0.008*\"kun\" + 0.007*\"plot\"'), (2, '0.013*\"character\" + 0.013*\"girl\" + 0.011*\"get\" + 0.010*\"hayato\" + 0.010*\"reason\" + 0.009*\"show\" + 0.009*\"anime\" + 0.008*\"guy\" + 0.008*\"story\" + 0.008*\"first\"'), (3, '0.024*\"show\" + 0.021*\"character\" + 0.020*\"anime\" + 0.011*\"story\" + 0.010*\"main\" + 0.009*\"well\" + 0.008*\"harem\" + 0.008*\"get\" + 0.008*\"fanservice\" + 0.006*\"school\"'), (4, '0.029*\"character\" + 0.022*\"show\" + 0.016*\"really\" + 0.009*\"get\" + 0.009*\"main\" + 0.009*\"actually\" + 0.008*\"even\" + 0.007*\"good\" + 0.007*\"time\" + 0.006*\"plot\"'), (5, '0.024*\"character\" + 0.019*\"anime\" + 0.009*\"main\" + 0.008*\"get\" + 0.008*\"time\" + 0.006*\"good\" + 0.006*\"story\" + 0.006*\"girl\" + 0.006*\"hayato\" + 0.006*\"watch\"'), (6, '0.007*\"trope\" + 0.007*\"component\" + 0.007*\"story\" + 0.007*\"anime\" + 0.005*\"super\" + 0.005*\"dxd\" + 0.005*\"high\" + 0.005*\"fanservice\" + 0.005*\"cute\" + 0.005*\"guy\"'), (7, '0.021*\"character\" + 0.019*\"anime\" + 0.017*\"show\" + 0.015*\"story\" + 0.011*\"harem\" + 0.008*\"good\" + 0.008*\"watch\" + 0.008*\"much\" + 0.007*\"really\" + 0.007*\"pretty\"')]\n"
     ]
    }
   ],
   "source": [
    "# Using LDA to develop a topic model with 3 models\n",
    "\n",
    "lda_model = gensim.models.ldamodel.LdaModel(corpus=corpus,\n",
    "                                           id2word=id2word,\n",
    "                                           num_topics=8, \n",
    "                                           random_state=100,\n",
    "                                           update_every=1,\n",
    "                                           chunksize=100,\n",
    "                                           passes=10,\n",
    "                                           alpha='auto',\n",
    "                                           per_word_topics=True)\n",
    "# Print the KeywordS in the 3 topics\n",
    "print(lda_model.print_topics())\n",
    "doc_lda = lda_model[corpus]"
   ]
  },
  {
   "cell_type": "code",
   "execution_count": 22,
   "metadata": {},
   "outputs": [
    {
     "data": {
      "text/html": [
       "\n",
       "<link rel=\"stylesheet\" type=\"text/css\" href=\"https://cdn.jsdelivr.net/gh/bmabey/pyLDAvis@3.3.1/pyLDAvis/js/ldavis.v1.0.0.css\">\n",
       "\n",
       "\n",
       "<div id=\"ldavis_el608829729496485443593120457\"></div>\n",
       "<script type=\"text/javascript\">\n",
       "\n",
       "var ldavis_el608829729496485443593120457_data = {\"mdsDat\": {\"x\": [-0.038772866654264986, -0.09112428579176426, -0.0569789111438559, 0.020842354201978972, 0.03950580667007105, -0.042895918271464696, 0.08398202100160976, 0.08544179998769019], \"y\": [0.010075665960734774, 0.04036195552149712, -0.08005903278201032, 0.11824209695281859, 0.006906355272108116, -0.0380470056539262, -0.033424194754227615, -0.024055840516994536], \"topics\": [1, 2, 3, 4, 5, 6, 7, 8], \"cluster\": [1, 1, 1, 1, 1, 1, 1, 1], \"Freq\": [46.98890091551128, 14.940746175365712, 10.655104756264802, 8.445043917638962, 7.227843795749266, 7.062389526156132, 4.146114460653861, 0.533856452659983]}, \"tinfo\": {\"Term\": [\"anime\", \"character\", \"watch\", \"show\", \"story\", \"harem\", \"mc\", \"really\", \"girl\", \"feel\", \"school\", \"good\", \"pretty\", \"thing\", \"guy\", \"enjoy\", \"overall\", \"hayato\", \"main\", \"fanservice\", \"lot\", \"get\", \"series\", \"enjoyment\", \"fall\", \"time\", \"episode\", \"plot\", \"make\", \"reason\", \"man\", \"shounen\", \"several\", \"honestly\", \"paste\", \"smile\", \"brother\", \"usual\", \"bore\", \"okay\", \"charlotte\", \"dude\", \"pilot\", \"huge\", \"touch\", \"understand\", \"anyway\", \"fall\", \"triangle\", \"front\", \"lighthearte\", \"composition\", \"obviously\", \"receive\", \"kisaragi_hayato\", \"properly\", \"leg\", \"liza\", \"particular\", \"majority\", \"other\", \"thought\", \"claire\", \"interesting\", \"generic\", \"review\", \"remember\", \"emilia\", \"mc\", \"pretty\", \"low\", \"challenge\", \"harem\", \"look\", \"story\", \"much\", \"anime\", \"romance\", \"want\", \"name\", \"literally\", \"watch\", \"ecchi\", \"show\", \"make\", \"probably\", \"character\", \"say\", \"part\", \"many\", \"bad\", \"good\", \"even\", \"go\", \"overall\", \"see\", \"enjoyment\", \"well\", \"give\", \"girl\", \"really\", \"episode\", \"art\", \"get\", \"time\", \"main\", \"vision\", \"clingy\", \"generically\", \"climax\", \"winner\", \"theoretically\", \"bond\", \"spout\", \"hero\", \"connection\", \"slow\", \"mysterious\", \"uptake\", \"category\", \"choppy\", \"excuse\", \"meaningful\", \"repeatedly\", \"inanimate\", \"survivor\", \"damningly\", \"scarecrow\", \"franxx\", \"guinea\", \"utilize\", \"predicate\", \"address\", \"science\", \"wall\", \"disguise\", \"mad\", \"sell\", \"emotional\", \"weight\", \"villain\", \"mystery\", \"really\", \"humor\", \"little\", \"never\", \"second\", \"least\", \"character\", \"actually\", \"show\", \"maybe\", \"potential\", \"background\", \"viewer\", \"plot\", \"main\", \"even\", \"get\", \"feel\", \"big\", \"scene\", \"time\", \"seem\", \"good\", \"bad\", \"end\", \"lot\", \"reason\", \"enjoy\", \"story\", \"much\", \"say\", \"give\", \"first\", \"well\", \"harem\", \"la\", \"mood\", \"juuou\", \"fafnir\", \"mujin\", \"nerve\", \"segment\", \"turd\", \"musume\", \"stuck\", \"toshi\", \"expense\", \"riddled\", \"dance\", \"savvy\", \"cutter\", \"trend\", \"kuusen\", \"shade\", \"cookie\", \"bullet\", \"disagree\", \"setting\", \"oppai\", \"redeem\", \"white\", \"buildup\", \"shroud\", \"exam\", \"kyoani\", \"loli\", \"supernatural\", \"fanservice\", \"haired\", \"alone\", \"range\", \"blade\", \"break\", \"protagonist\", \"cliche\", \"crap\", \"couple\", \"genre\", \"op\", \"forgettable\", \"show\", \"battle\", \"anime\", \"idea\", \"main\", \"school\", \"character\", \"well\", \"take\", \"animation\", \"kind\", \"series\", \"high\", \"story\", \"get\", \"new\", \"harem\", \"go\", \"bad\", \"say\", \"time\", \"even\", \"good\", \"see\", \"still\", \"make\", \"much\", \"really\", \"hunter\", \"mill\", \"jumpsuit\", \"armor\", \"credit\", \"flirt\", \"inevitable\", \"nakri\", \"emilie\", \"crush\", \"dress\", \"run\", \"tend\", \"number\", \"buso\", \"portrayal\", \"achieve\", \"template\", \"apt\", \"insight\", \"ultimate\", \"goosebump\", \"ripoff\", \"problematic\", \"induce\", \"frankenstein\", \"renkin\", \"regret\", \"depend\", \"tarot\", \"shine\", \"cross\", \"joke\", \"uniform\", \"guy\", \"twice\", \"aside\", \"occur\", \"consider\", \"eye\", \"reason\", \"score\", \"hayato\", \"pretend\", \"musical\", \"little_garden\", \"war\", \"weapon\", \"girl\", \"kill\", \"first\", \"savage\", \"also\", \"hand\", \"people\", \"get\", \"love\", \"become\", \"sakura\", \"romance\", \"character\", \"think\", \"give\", \"see\", \"show\", \"anime\", \"really\", \"story\", \"say\", \"good\", \"episode\", \"time\", \"harem\", \"even\", \"look\", \"enjoyment\", \"thing\", \"shifty\", \"pervy\", \"angry\", \"ryoran\", \"thick\", \"hyakka\", \"talented\", \"jar\", \"commend\", \"loose\", \"jarring\", \"bold\", \"faction\", \"samurai\", \"recognize\", \"compatibility\", \"vibe\", \"cg\", \"tone\", \"possess\", \"epic\", \"hidden\", \"soft\", \"evolve\", \"complicate\", \"dysfunctional\", \"backstorie\", \"hanger\", \"cliff\", \"incoming\", \"rival\", \"infect\", \"voice_actor\", \"atmosphere\", \"variant\", \"childhood\", \"environment\", \"speak\", \"virus\", \"keep\", \"gon\", \"slayer\", \"opening\", \"character\", \"anime\", \"strong\", \"series\", \"hayato\", \"main\", \"fight\", \"time\", \"come\", \"interest\", \"get\", \"turn\", \"girl\", \"end\", \"watch\", \"kid\", \"academy\", \"make\", \"good\", \"story\", \"episode\", \"go\", \"know\", \"enjoy\", \"art\", \"feel\", \"see\", \"overall\", \"scene\", \"pretty\", \"give\", \"enjoyment\", \"chapter\", \"fix\", \"finale\", \"saga\", \"regard\", \"badly\", \"plan\", \"pointless\", \"bee\", \"section\", \"large\", \"facepalm\", \"glaring\", \"giving\", \"noticeable\", \"afraid\", \"stilte\", \"indication\", \"pussy\", \"capitalize\", \"error\", \"entrenerte\", \"absurd\", \"lull\", \"painfully\", \"grand\", \"dynamic\", \"midpoint\", \"unnecessary\", \"cheesy\", \"random\", \"explode\", \"robot\", \"matter\", \"red\", \"answer\", \"alien\", \"cheap\", \"invade\", \"position\", \"dull\", \"completely\", \"solid\", \"frame\", \"especially\", \"problem\", \"incredibly\", \"sometimes\", \"feel\", \"spoiler\", \"series\", \"final\", \"character\", \"good\", \"really\", \"introduce\", \"song\", \"scene\", \"thing\", \"episode\", \"end\", \"suppose\", \"even\", \"main\", \"animation\", \"work\", \"story\", \"anime\", \"time\", \"enjoyment\", \"show\", \"go\", \"action\", \"girl\", \"bad\", \"pretty\", \"think\", \"overall\", \"actually\", \"harem\", \"get\", \"make\", \"blend\", \"artstyle\", \"ve\", \"wink\", \"dub\", \"sub\", \"puking\", \"skilled\", \"kun\", \"weekend\", \"down\", \"be\", \"heh\", \"srsly\", \"wapping\", \"personalty\", \"personly\", \"binge\", \"varied\", \"wasss\", \"bonus\", \"soo\", \"punish\", \"tipical\", \"abomination\", \"whitch\", \"wae\", \"loooooooooooot\", \"hangover\", \"rewatche\", \"often\", \"compete\", \"perfect\", \"archetype\", \"option\", \"perfectly\", \"tag\", \"watch\", \"genre\", \"trope\", \"tension\", \"great\", \"decide\", \"mc\", \"beautiful\", \"enjoy\", \"special\", \"anime\", \"harem\", \"ability\", \"overall\", \"school\", \"plot\", \"like\", \"story\", \"find\", \"character\", \"enjoyment\", \"season\", \"time\", \"good\", \"seem\", \"expect\", \"know\", \"actually\", \"give\", \"girl\", \"make\", \"really\", \"get\", \"show\", \"well\", \"component\", \"com\", \"rom\", \"mash\", \"selection\", \"appealing\", \"dxd\", \"version\", \"check\", \"imo\", \"producer\", \"trope\", \"ground\", \"cute\", \"super\", \"musical\", \"helpful_read\", \"grope\", \"suggest\", \"visually\", \"every_single\", \"far\", \"favorite\", \"accidentally\", \"high\", \"mecha\", \"predictable\", \"pass\", \"run\", \"couple\", \"fanservice\", \"guy\", \"lot\", \"school\", \"thing\", \"story\", \"anime\", \"pretty\", \"character\"], \"Freq\": [199.0, 276.0, 79.0, 197.0, 144.0, 105.0, 35.0, 103.0, 72.0, 55.0, 37.0, 102.0, 59.0, 39.0, 21.0, 45.0, 64.0, 37.0, 75.0, 21.0, 27.0, 94.0, 32.0, 59.0, 26.0, 72.0, 60.0, 43.0, 67.0, 34.0, 8.673497633508097, 7.706793450663863, 6.791648797230339, 15.340238314646449, 6.75228122772862, 5.821687406978364, 5.82010358500877, 5.813343490164923, 5.786719067609892, 4.880897157039413, 4.878731703532929, 4.876830692362451, 4.875634152743043, 4.866174409633634, 4.856085598209525, 4.854737898111571, 4.848718029405056, 23.056710992018548, 3.926778588558838, 3.926855053812623, 3.9268897463814696, 3.923661567449702, 3.9221301383391824, 3.9185401654751555, 3.9170437829392872, 3.9166703068154782, 3.914496003163881, 3.912529146913754, 3.883861402854812, 3.865560718782362, 13.414528867195516, 8.692783161728828, 28.646302635371715, 13.009074691049058, 27.34289857573074, 26.482248159827716, 10.383255752050717, 14.369176320348101, 26.60563475897171, 42.192499005491456, 6.783208590838059, 6.786199231874968, 68.87068513007257, 37.82876857432558, 90.93336906323947, 47.71400117239586, 118.30674612271946, 17.160874591234798, 28.904842986603228, 12.532087269987096, 11.341892850620674, 48.95792092868528, 20.769606930856494, 101.38540460305784, 41.06334226694699, 13.48565288140095, 125.63847254748855, 38.166965895675595, 18.874316494179652, 17.131010661562254, 36.58514335086555, 51.184594782986004, 41.58886813188356, 37.78975430261681, 35.82718577079525, 34.527924995090835, 32.73330814513753, 35.17270267137416, 32.72881085539642, 36.76269283810698, 45.198161216699674, 32.009442740069424, 28.8985813319322, 39.268113694963404, 29.444311016146525, 28.241147240124302, 3.450000341414334, 3.4472106331798194, 2.612431866396035, 2.613021235033701, 2.6113814484955955, 2.611193471867463, 2.611387751903485, 2.6095059595267656, 2.604702987836694, 5.1259979317495565, 4.293347465615311, 1.7833620736255793, 1.781262250872397, 1.77964137455796, 1.7794520471995652, 1.77787236815812, 1.7773765375910995, 1.7770792643725977, 1.7766129247496314, 1.7767470972889932, 1.7766647027430091, 1.7766683046903746, 1.7768917379878857, 1.7768181231886049, 1.776697120269298, 1.7763442419883424, 1.7756930774411883, 1.776231681133173, 1.7762100694489806, 1.7759819085955526, 4.276126105017838, 3.450153424177364, 3.4489305630468055, 3.4446149798596166, 10.659874079750914, 2.6137985802995, 30.16762929906717, 2.6088395992641638, 9.243338040327505, 10.142333675472186, 8.279577590578965, 11.552620336216597, 56.99592561318359, 16.80400835916417, 42.64284613005349, 5.964996830115346, 4.230068004056266, 5.671345819932715, 2.6170846819053106, 12.490175718394896, 17.090464029240962, 16.084809329685267, 17.91300292863364, 12.256914507497408, 7.850763955752526, 9.8425147806697, 13.490450009073498, 9.510652962104476, 13.869857532862211, 10.485233661738727, 9.417881205760827, 7.017325563632096, 7.375656292412079, 8.141952584667473, 11.821289590202966, 9.032593502898072, 8.572519467374029, 8.385659442924668, 7.225356934208531, 7.783161707111559, 7.948493792644671, 6.450097974306905, 2.4979109975468776, 2.4841723289213484, 2.481886136371888, 2.4774449183595477, 1.6985731527710306, 1.6973053112989036, 1.6958274740504635, 1.6957805942594213, 1.6942557166727095, 1.6942656706009445, 1.6932678695689996, 1.6918653289712406, 1.6905915472516184, 1.6898907585944278, 1.6892952889198527, 1.687793048492514, 1.6869495333482118, 1.6861471182946863, 1.682302975429217, 2.484360169179977, 0.9001362187740669, 0.9000311406122957, 0.8999543187629336, 0.8998301354808403, 0.8998929094476128, 0.8997612607193433, 0.8996039244343382, 0.8995588106628215, 0.899572136082878, 1.6993733201633419, 1.68994165206621, 10.494958270596095, 1.7187303390886157, 2.5006012874732337, 1.6994434793026756, 1.6904958611027787, 2.4870111250350817, 7.249584646364589, 7.259550776189049, 2.497998014145319, 4.1069943218044225, 6.471870105207006, 6.490233497328305, 3.3070847683439815, 33.06239519289599, 7.273979476807385, 28.13674453872555, 4.8884419071445935, 13.742750378294252, 8.950502912518342, 28.29675232963105, 12.13352641466358, 8.104900654231232, 8.06981723143079, 6.497207668981996, 7.30971536354891, 4.104161947579874, 14.588635199705452, 11.343920461304211, 5.7057162489582405, 11.352533499077628, 8.917949714056347, 8.149687551588514, 8.108774979975866, 8.14190165314198, 8.142636317264616, 8.921802205377755, 7.331827212386838, 5.710308541913632, 6.519161539346001, 6.531227626933589, 5.786140778152534, 5.406220929807328, 3.114773332213466, 2.37018921434633, 2.3698494652848585, 1.6132537547560553, 1.6130290368374942, 1.6121516698791252, 1.6119511288600694, 1.6081234166809983, 4.648034379291067, 3.8842008685313685, 5.399264090598055, 2.3711878475427444, 3.1191714919740265, 0.8552065395290486, 0.8547910785980734, 0.8548866409745396, 0.85477148258479, 0.8542568327424226, 0.854612678529091, 0.8544529201220957, 0.8544455398054046, 0.8544867677814034, 0.8544429312451948, 0.8541139345416614, 0.8541492455396233, 0.8542724204802616, 0.8542235576938927, 0.8543247825547169, 0.8543962952785172, 2.370635341765625, 2.3638647919293825, 1.613020638546087, 1.6078516174318214, 9.193494572271907, 1.6144283703315019, 1.613164554721564, 1.6128783765795234, 1.6127422224612558, 2.3686907555643497, 10.718539799910197, 6.157323394274814, 10.737089335185496, 2.375230479633735, 1.6122814616554177, 2.372593925119246, 3.1324922001204936, 4.663993168914097, 13.785194739765839, 3.898205146699642, 8.43867446414152, 7.702039965325456, 7.690799488511174, 3.1380310005503533, 5.422937092619077, 11.515215974439139, 6.180701692615549, 3.9024050558842576, 4.667333652944714, 4.6607616081780945, 13.88583477411563, 6.187272719407452, 6.961186979286208, 6.955359074036999, 10.077731841999226, 10.062832764055571, 7.723123748656284, 8.492355324841352, 6.200114470450032, 7.0191753999968745, 5.447164381872972, 5.451507062011509, 5.451549816949583, 4.732302326283123, 4.694889719519991, 4.690418265579877, 4.686185017723312, 2.275627276780883, 2.2749300572890356, 1.5491900190898085, 1.5480597873049924, 1.5481347149854658, 1.547808757794104, 1.5476176268649893, 1.5475238583578852, 1.5477575717333154, 1.5473946952342783, 1.5473512415358641, 1.54728567981545, 1.5470691736689657, 1.5469332583415951, 1.5467054259178301, 1.546644111551396, 1.5464653959646855, 3.002392234167517, 4.4752182047929425, 0.8204252114175151, 0.8204100734123032, 0.820378272710707, 0.8204425820062295, 0.820212571452218, 0.8201227780328134, 0.8201904634302178, 0.8200699583743402, 0.8201220156872272, 0.8200903783453994, 0.8198632538139643, 1.5475673120562992, 1.5501180114812536, 2.2782926547633062, 1.5483674482022853, 3.018185420957542, 1.5464406741863896, 2.275881900206678, 2.2877139393307435, 3.0093075798865616, 4.474113457132009, 3.0057711676186347, 4.476366079432754, 3.005352530985292, 22.864976278385928, 17.660546640313687, 3.0126577620184283, 5.918954374726652, 5.9564591638120055, 8.156225649121918, 5.207364450766137, 7.419950539453798, 5.219131581608862, 3.0068465105212434, 7.445080934983753, 3.0067563359290457, 5.969755777713697, 5.226225316195081, 5.950276323294799, 3.0185637621813277, 2.278335999555208, 5.250866503671712, 6.014552511237685, 5.99948725557598, 4.485536879021864, 4.505026352839896, 3.7693467439811195, 3.74571141705224, 3.755311743925925, 3.757242002950215, 3.767794172741542, 3.749905624654556, 3.034857701114982, 3.0330629217920135, 3.032781507364189, 3.031439779132455, 3.7212194981507456, 2.984345542676249, 2.255024817983187, 1.5434227936417029, 1.53865823524486, 1.5362463730912785, 1.5314067931714583, 1.5311053237039491, 1.5280776465809094, 1.5269750962269162, 2.2355783879194737, 0.8180970448572995, 0.8177129453010078, 0.8175465677816112, 0.8173328362512574, 0.8173211307654028, 0.8172916010169969, 0.8172101414767999, 0.8171102723997589, 0.8171080377160956, 0.816877226817745, 0.817358375493122, 0.8168040675311539, 0.8164137959914116, 0.8154028676676074, 0.8158145283224112, 0.8157053480634404, 0.8155828129092445, 0.8154568193160462, 0.8154483062354246, 2.9616202996111616, 2.145026877618636, 2.8782944793148455, 1.5429804326899077, 1.541263450742057, 1.5314245642272557, 3.5437785920054283, 1.5395990370670443, 1.5027352697057543, 1.5454519928213475, 1.540875360679224, 1.537485984043278, 1.536921034730533, 2.271026217146391, 3.7197475865112866, 5.69868851774459, 2.2613830250723765, 2.991250715195371, 10.851389758520629, 4.5777188368646575, 6.5872178966428985, 4.139910680585871, 22.764791432422896, 11.9610596018376, 11.034863672075394, 3.3065933117123905, 4.060438944713927, 5.827853233474437, 5.838078294608932, 6.683264600484921, 6.3319306145433, 2.9054158772128806, 6.278037706360774, 6.1614382976282736, 4.705711301392923, 3.4934015861195857, 6.993718347628023, 7.719606172560462, 5.480459526898482, 5.034786986741546, 7.1070065936527875, 5.079483639582686, 4.035666305759367, 4.9515971629081585, 4.764862739475355, 4.61360998476494, 4.310826523261817, 4.509661439490033, 4.2494272062412755, 4.4532593007943175, 4.4076934624217206, 4.150388154560793, 1.8830787080865685, 1.2821123445563862, 1.2820162624059033, 1.280882268130501, 1.2810049634123923, 1.2808355389701882, 1.2811216613688958, 1.2782039625677508, 4.2874324444492835, 0.6789803218398285, 0.6786908259455902, 0.6787734141139509, 0.6787576711348079, 0.6787225617924337, 0.6786575282952603, 0.6784679253520118, 0.6784463724638996, 0.6785663814437942, 0.6783547883074573, 0.6785084697705187, 0.6783909596762022, 0.678430816901175, 0.678467113214199, 0.6783357343049233, 0.6784404376106513, 0.6782625169574811, 0.6783031238481274, 0.6782693264206817, 0.6783965821687533, 0.6782328426912395, 1.881153066859982, 1.2782890496216897, 1.8852117568161482, 1.2776864433644988, 1.2830962807528155, 1.2810711838802156, 1.882222339998908, 10.348517897291426, 3.690337979178295, 1.8862624132575163, 1.278774957922377, 3.098105345688316, 1.8780084692483336, 4.907847759379132, 1.2793545744322483, 5.509436470362574, 2.484037200127179, 12.242356306900751, 6.7473938815844186, 1.883561492780283, 4.930067350163665, 3.6980163048945314, 3.7111811837863367, 2.4935187216766685, 5.548765930701268, 2.4864916055421196, 5.585748437704885, 3.1079254662336564, 2.4983620617044, 3.109905583165848, 3.1455666794756962, 2.480740420383816, 1.8830176103341807, 2.5062115610827456, 2.4578153942005487, 2.5098219509661766, 2.526717666026284, 2.4318629681392516, 2.530357792648096, 2.4896232089487613, 1.9536061301481076, 1.9161379647323602, 0.5079089418518631, 0.18282665871977835, 0.1828224597756947, 0.18274089408027663, 0.18269222815746805, 0.18268915536697006, 0.34480226204301384, 0.18280125591246768, 0.1829987349876662, 0.18297116031272606, 0.1819175310179886, 0.5086605045791115, 0.18254911012463984, 0.3421422229220667, 0.34541620880209545, 0.18216103759902363, 0.1816058117054797, 0.1813148297068552, 0.18231620547521832, 0.1804161913213204, 0.18130710751083928, 0.1830044944588614, 0.18171260324121638, 0.1790750389282572, 0.3446129073615404, 0.18151623423169513, 0.17923094684823676, 0.1819425316275901, 0.18434096527058993, 0.18190075132956235, 0.34283162197138706, 0.34080692652764893, 0.3377045021024403, 0.33810020029662224, 0.3295440071109939, 0.45701030694434647, 0.4492315136668031, 0.3161796529276926, 0.1823353179103577], \"Total\": [199.0, 276.0, 79.0, 197.0, 144.0, 105.0, 35.0, 103.0, 72.0, 55.0, 37.0, 102.0, 59.0, 39.0, 21.0, 45.0, 64.0, 37.0, 75.0, 21.0, 27.0, 94.0, 32.0, 59.0, 26.0, 72.0, 60.0, 43.0, 67.0, 34.0, 9.301772906020572, 8.343848507978672, 7.394695213141807, 16.7544229044203, 7.389947403995131, 6.434628383209661, 6.434727411359105, 6.431766992457767, 6.43059665039309, 5.48100999627011, 5.478822667116723, 5.477805540284558, 5.4771768345112655, 5.477602475467511, 5.474631202622888, 5.474541074681146, 5.476201004831238, 26.278591034501463, 4.522901165025659, 4.523206241017558, 4.524152142949194, 4.521478304845271, 4.523036986218285, 4.522125814680566, 4.5218069075184415, 4.522474282161768, 4.520915871800038, 4.520780692352969, 4.513959626770941, 4.509161810377528, 15.684413134005451, 10.146192504071342, 34.924509228256376, 15.609410218019354, 34.70879975758275, 33.89191555196897, 12.635359728117546, 18.164727632772784, 35.54270710779694, 59.23249237544998, 8.154115585272786, 8.194831292072708, 105.8611327176581, 54.606638568768616, 144.83463101883888, 71.03564021698635, 199.30007072589078, 23.080911509205855, 42.051391718640716, 16.204048088163027, 14.555684751956749, 79.88746695268061, 29.720917258430923, 197.26892662983593, 67.80701053937491, 17.869532155960222, 276.21483673084293, 65.03897351409124, 27.500168495189655, 24.451561624643418, 65.51717570706177, 102.2796268296471, 78.31597794837779, 69.10141437213467, 64.67653455335707, 62.27493056842898, 59.06584975574202, 66.37553714399432, 60.87955261673929, 72.75784966576332, 103.34191743273473, 60.84749396024111, 51.49455059874838, 94.41752530145165, 72.56961014737323, 75.0354960333645, 4.065191215585213, 4.0653747604871, 3.2232242017789656, 3.2241952068457045, 3.2231802089603896, 3.222989848829876, 3.2244842246176786, 3.2234130925975264, 3.227507241030391, 6.702032940985699, 5.637481103279601, 2.383142856025228, 2.3827024699403516, 2.3821503392581187, 2.382404165193033, 2.3821483078280665, 2.3823312485651953, 2.3821860140567717, 2.3819757962555954, 2.3821748501317135, 2.382089230316776, 2.382104265700682, 2.382524969759971, 2.3825012322401258, 2.382603199306478, 2.382183590690131, 2.3816257251682367, 2.3825096663658436, 2.3825741524046182, 2.3823471854566027, 5.860974623666739, 5.0192521118075755, 5.021392026220813, 5.021396744496539, 23.18021425672833, 3.9550646434828027, 103.34191743273473, 3.9544022730235433, 21.36518204779011, 24.194790805786003, 18.70739719144375, 29.843967531323475, 276.21483673084293, 52.33438814014355, 197.26892662983593, 13.02785637534966, 8.066261346603582, 12.57437975973578, 4.178138580844379, 43.60238395410418, 75.0354960333645, 78.31597794837779, 94.41752530145165, 55.03299138357238, 25.215963572619735, 39.32886283076503, 72.56961014737323, 42.04734549342745, 102.2796268296471, 65.51717570706177, 54.19509605168324, 27.680981442523667, 34.13311464987723, 45.75715251818108, 144.83463101883888, 71.03564021698635, 65.03897351409124, 60.87955261673929, 41.70265461510785, 66.37553714399432, 105.8611327176581, 7.130476068879531, 3.1072516515608988, 3.1103414434954306, 3.1108721844635014, 3.112074700481191, 2.3046964316606857, 2.3043237714425366, 2.3046520193838975, 2.304805824047237, 2.305662226150407, 2.3057558690461093, 2.3053541376664617, 2.30630842587883, 2.306743897665522, 2.3068168913707594, 2.3068939820572707, 2.3071204824433003, 2.307273225097905, 2.3073456312097287, 2.3082806154117668, 4.065710484147042, 1.5022412839408508, 1.5022310432316748, 1.5021555180102408, 1.5020264986212628, 1.5022672305826748, 1.5020861801919405, 1.502039041566222, 1.5020468648837886, 1.5021064381689349, 2.910407475050468, 2.912590122132436, 21.083380002978625, 3.0385393730501247, 4.677951077302978, 3.067373448534441, 3.0689998779514562, 4.796866668513782, 17.065395051327567, 17.97540207079187, 4.9587203637210004, 9.286256889104024, 17.10880149488393, 17.190919865260007, 7.188041413186293, 197.26892662983593, 23.67728714842335, 199.30007072589078, 13.282872840371555, 75.0354960333645, 37.210690557754376, 276.21483673084293, 66.37553714399432, 34.186466308715836, 38.07054268128529, 26.177889535699236, 32.61133079462018, 11.577133563727156, 144.83463101883888, 94.41752530145165, 24.827483494902896, 105.8611327176581, 69.10141437213467, 65.51717570706177, 65.03897351409124, 72.56961014737323, 78.31597794837779, 102.2796268296471, 62.27493056842898, 33.223056344648285, 67.80701053937491, 71.03564021698635, 103.34191743273473, 6.039048300950294, 3.752995161189762, 2.987781752039528, 2.988112278872956, 2.2256706013990697, 2.225657836478867, 2.224873665096993, 2.2249226419490586, 2.226121460017667, 6.739669487441294, 5.853390157819963, 8.73099232909942, 3.940619497152271, 5.214508790552233, 1.4619552790970078, 1.4618193807611484, 1.4623030607706888, 1.4621120123595583, 1.46142923877621, 1.4621170086118165, 1.46185094646648, 1.4619309150022737, 1.462091688195064, 1.4620443351575505, 1.4615033557521968, 1.461565593540785, 1.4620003395161, 1.461978678482838, 1.4622192163192642, 1.4624317338950867, 4.449618812739606, 4.4552997826282725, 2.9572778690125285, 2.958237777118049, 21.834610616272972, 3.0659541403543487, 3.0671552931965436, 3.180854541889017, 3.18071976624896, 5.129655150468733, 34.13311464987723, 18.34674816048089, 37.54912260790841, 5.5125274707581235, 3.3508298280016655, 5.628585945536775, 8.263626687398213, 14.580104885932146, 72.75784966576332, 11.633317480858867, 41.70265461510785, 36.796040419473364, 42.40029502615486, 9.139897934338816, 24.127049664609284, 94.41752530145165, 33.39796068936721, 14.98829903477054, 22.522503050989265, 23.080911509205855, 276.21483673084293, 44.644055312129204, 60.87955261673929, 62.27493056842898, 197.26892662983593, 199.30007072589078, 103.34191743273473, 144.83463101883888, 65.03897351409124, 102.2796268296471, 60.84749396024111, 72.56961014737323, 105.8611327176581, 78.31597794837779, 54.606638568768616, 59.06584975574202, 39.73476574534317, 2.8970294208280465, 2.896726508461633, 2.163287583222926, 2.1641179788889446, 2.1646160418104357, 2.1642546851591296, 2.1644862947233454, 2.1644433401213403, 2.1648649646254654, 2.1644569397395133, 2.164788551737237, 2.164722505215046, 2.164498147541158, 2.164675809686956, 2.1644804200454604, 2.164714859817807, 2.164648545838196, 4.58527711766129, 7.733077620569253, 1.4315876807982382, 1.4315697149059337, 1.4315370252807145, 1.4317000523151429, 1.4315773097374116, 1.4314536830472584, 1.4316458145828188, 1.4314916590752595, 1.4316713009015514, 1.4317532015390326, 1.4314059585957208, 2.7703240958762176, 2.8966924287866367, 4.653071680909933, 3.0049704561277304, 7.06212765894354, 3.120294577253798, 5.494995246336739, 5.607145966364539, 8.08301597998409, 15.214393062477939, 8.82315329303909, 16.462435894284503, 8.905491318574438, 276.21483673084293, 199.30007072589078, 9.05548808749896, 32.61133079462018, 37.54912260790841, 75.0354960333645, 31.64808460240142, 72.56961014737323, 33.56443217145628, 9.772550979924027, 94.41752530145165, 11.513623539162092, 72.75784966576332, 54.19509605168324, 79.88746695268061, 12.875160542159987, 6.176531235262401, 67.80701053937491, 102.2796268296471, 144.83463101883888, 60.84749396024111, 69.10141437213467, 46.130269488795555, 45.75715251818108, 51.49455059874838, 55.03299138357238, 62.27493056842898, 64.67653455335707, 39.32886283076503, 59.23249237544998, 60.87955261673929, 59.06584975574202, 4.353800359973289, 3.6231727807331757, 2.893386024383243, 2.1612607322610393, 2.1615481295046792, 2.1614844590995976, 2.161540883058977, 2.1623312431804407, 2.1632016072680798, 2.163039524020491, 3.8547814755152303, 1.4293232310852182, 1.4293265407567017, 1.429251271957167, 1.4292858118177916, 1.429294846142767, 1.4293005100595026, 1.429364704320937, 1.429364175669252, 1.4293886299720098, 1.4293004358930854, 1.4303795982413932, 1.4304309942107964, 1.4306750365842034, 1.4291799047074738, 1.4301860072006987, 1.4302292775419774, 1.4303937030312877, 1.430208283300861, 1.4302568517697842, 5.347232532476331, 3.880222745313158, 5.40804894017987, 2.8922631768128726, 2.9235339368242834, 2.9653226747506913, 7.998586726579963, 3.002823136733458, 2.973600694127689, 3.1149142375781986, 3.1161855148826714, 3.117538648621864, 3.1175786560320793, 5.45018909518211, 10.619388038263615, 20.359973264898926, 5.756198268555898, 8.821602389345633, 55.03299138357238, 17.740067334666048, 32.61133079462018, 15.462367806215182, 276.21483673084293, 102.2796268296471, 103.34191743273473, 12.349857271414317, 18.456206398750755, 39.32886283076503, 39.73476574534317, 60.84749396024111, 54.19509605168324, 10.720484604039587, 78.31597794837779, 75.0354960333645, 38.07054268128529, 17.58123192498043, 144.83463101883888, 199.30007072589078, 72.56961014737323, 59.06584975574202, 197.26892662983593, 69.10141437213467, 29.277363503129212, 72.75784966576332, 65.51717570706177, 59.23249237544998, 44.644055312129204, 64.67653455335707, 52.33438814014355, 105.8611327176581, 94.41752530145165, 67.80701053937491, 2.519819458775323, 1.9126548961282588, 1.9127624757766535, 1.9124919433731047, 1.9131736106255772, 1.9132793018068113, 1.9138778281169233, 1.9118181783167176, 6.738858107423895, 1.3063692370745832, 1.3059097472820829, 1.3061431417979699, 1.3062195014033169, 1.3061991378340194, 1.3062626710593925, 1.305953241597343, 1.306070726714519, 1.3063025228076812, 1.3059801439623901, 1.3063646729516851, 1.3061878951365982, 1.3063746334498016, 1.3066653298668274, 1.3064148656502181, 1.3066791029182445, 1.3063545024143337, 1.3064755864566482, 1.3064168566643721, 1.3067042237688336, 1.3064512970477975, 4.0435240146302736, 2.642825217829086, 4.20238210111579, 2.713537138617665, 2.866783819184011, 2.868806907715133, 5.263762953865941, 79.88746695268061, 17.10880149488393, 6.181862466170374, 3.5169059706123655, 15.25758360032851, 6.9552582185152225, 35.54270710779694, 3.791555419725699, 45.75715251818108, 12.11159423470692, 199.30007072589078, 105.8611327176581, 9.40797913090932, 64.67653455335707, 37.210690557754376, 43.60238395410418, 17.405067334111468, 144.83463101883888, 19.611210236975968, 276.21483673084293, 59.06584975574202, 28.32845854891743, 72.56961014737323, 102.2796268296471, 42.04734549342745, 11.349638974731048, 46.130269488795555, 52.33438814014355, 60.87955261673929, 72.75784966576332, 67.80701053937491, 103.34191743273473, 94.41752530145165, 197.26892662983593, 66.37553714399432, 1.1953503350341212, 0.8651564581052416, 0.8651995722973634, 0.865392568747175, 0.8655315234107825, 0.8655554327144132, 1.9883661027112345, 1.4719212173781366, 1.5975678425103967, 1.706068796274966, 1.8248124325035526, 6.181862466170374, 2.5859845658787792, 5.63310082868859, 5.9060083719467205, 3.3508298280016655, 3.5175686319919457, 3.548093491943747, 4.161764145923566, 4.578170361826586, 4.765484537563294, 5.039934648815081, 5.007034896281394, 5.47293412228005, 11.577133563727156, 6.4584333139409775, 6.98518604956825, 7.4551397062781, 8.73099232909942, 9.286256889104024, 21.083380002978625, 21.834610616272972, 27.680981442523667, 37.210690557754376, 39.73476574534317, 144.83463101883888, 199.30007072589078, 59.23249237544998, 276.21483673084293], \"Category\": [\"Default\", \"Default\", \"Default\", \"Default\", \"Default\", \"Default\", \"Default\", \"Default\", \"Default\", \"Default\", \"Default\", \"Default\", \"Default\", \"Default\", \"Default\", \"Default\", \"Default\", \"Default\", \"Default\", \"Default\", \"Default\", \"Default\", \"Default\", \"Default\", \"Default\", \"Default\", \"Default\", \"Default\", \"Default\", \"Default\", \"Topic1\", \"Topic1\", \"Topic1\", \"Topic1\", \"Topic1\", \"Topic1\", \"Topic1\", \"Topic1\", \"Topic1\", \"Topic1\", \"Topic1\", \"Topic1\", \"Topic1\", \"Topic1\", \"Topic1\", \"Topic1\", \"Topic1\", \"Topic1\", \"Topic1\", \"Topic1\", \"Topic1\", \"Topic1\", \"Topic1\", \"Topic1\", \"Topic1\", \"Topic1\", \"Topic1\", \"Topic1\", \"Topic1\", \"Topic1\", \"Topic1\", \"Topic1\", \"Topic1\", \"Topic1\", \"Topic1\", \"Topic1\", \"Topic1\", \"Topic1\", \"Topic1\", \"Topic1\", \"Topic1\", \"Topic1\", \"Topic1\", \"Topic1\", \"Topic1\", \"Topic1\", \"Topic1\", \"Topic1\", \"Topic1\", \"Topic1\", \"Topic1\", \"Topic1\", \"Topic1\", \"Topic1\", \"Topic1\", \"Topic1\", \"Topic1\", \"Topic1\", \"Topic1\", \"Topic1\", \"Topic1\", \"Topic1\", \"Topic1\", \"Topic1\", \"Topic1\", \"Topic1\", \"Topic1\", \"Topic1\", \"Topic1\", \"Topic1\", \"Topic1\", \"Topic1\", \"Topic1\", \"Topic1\", \"Topic1\", \"Topic1\", \"Topic2\", \"Topic2\", \"Topic2\", \"Topic2\", \"Topic2\", \"Topic2\", \"Topic2\", \"Topic2\", \"Topic2\", \"Topic2\", \"Topic2\", \"Topic2\", \"Topic2\", \"Topic2\", \"Topic2\", \"Topic2\", \"Topic2\", \"Topic2\", \"Topic2\", \"Topic2\", \"Topic2\", \"Topic2\", \"Topic2\", \"Topic2\", \"Topic2\", \"Topic2\", \"Topic2\", \"Topic2\", \"Topic2\", \"Topic2\", \"Topic2\", \"Topic2\", \"Topic2\", \"Topic2\", \"Topic2\", \"Topic2\", \"Topic2\", \"Topic2\", \"Topic2\", \"Topic2\", \"Topic2\", \"Topic2\", \"Topic2\", \"Topic2\", \"Topic2\", \"Topic2\", \"Topic2\", \"Topic2\", \"Topic2\", \"Topic2\", \"Topic2\", \"Topic2\", \"Topic2\", \"Topic2\", \"Topic2\", \"Topic2\", \"Topic2\", \"Topic2\", \"Topic2\", \"Topic2\", \"Topic2\", \"Topic2\", \"Topic2\", \"Topic2\", \"Topic2\", \"Topic2\", \"Topic2\", \"Topic2\", \"Topic2\", \"Topic2\", \"Topic2\", \"Topic3\", \"Topic3\", \"Topic3\", \"Topic3\", \"Topic3\", \"Topic3\", \"Topic3\", \"Topic3\", \"Topic3\", \"Topic3\", \"Topic3\", \"Topic3\", \"Topic3\", \"Topic3\", \"Topic3\", \"Topic3\", \"Topic3\", \"Topic3\", \"Topic3\", \"Topic3\", \"Topic3\", \"Topic3\", \"Topic3\", \"Topic3\", \"Topic3\", \"Topic3\", \"Topic3\", \"Topic3\", \"Topic3\", \"Topic3\", \"Topic3\", \"Topic3\", \"Topic3\", \"Topic3\", \"Topic3\", \"Topic3\", \"Topic3\", \"Topic3\", \"Topic3\", \"Topic3\", \"Topic3\", \"Topic3\", \"Topic3\", \"Topic3\", \"Topic3\", \"Topic3\", \"Topic3\", \"Topic3\", \"Topic3\", \"Topic3\", \"Topic3\", \"Topic3\", \"Topic3\", \"Topic3\", \"Topic3\", \"Topic3\", \"Topic3\", \"Topic3\", \"Topic3\", \"Topic3\", \"Topic3\", \"Topic3\", \"Topic3\", \"Topic3\", \"Topic3\", \"Topic3\", \"Topic3\", \"Topic3\", \"Topic3\", \"Topic3\", \"Topic3\", \"Topic3\", \"Topic3\", \"Topic4\", \"Topic4\", \"Topic4\", \"Topic4\", \"Topic4\", \"Topic4\", \"Topic4\", \"Topic4\", \"Topic4\", \"Topic4\", \"Topic4\", \"Topic4\", \"Topic4\", \"Topic4\", \"Topic4\", \"Topic4\", \"Topic4\", \"Topic4\", \"Topic4\", \"Topic4\", \"Topic4\", \"Topic4\", \"Topic4\", \"Topic4\", \"Topic4\", \"Topic4\", \"Topic4\", \"Topic4\", \"Topic4\", \"Topic4\", \"Topic4\", \"Topic4\", \"Topic4\", \"Topic4\", \"Topic4\", \"Topic4\", \"Topic4\", \"Topic4\", \"Topic4\", \"Topic4\", \"Topic4\", \"Topic4\", \"Topic4\", \"Topic4\", \"Topic4\", \"Topic4\", \"Topic4\", \"Topic4\", \"Topic4\", \"Topic4\", \"Topic4\", \"Topic4\", \"Topic4\", \"Topic4\", \"Topic4\", \"Topic4\", \"Topic4\", \"Topic4\", \"Topic4\", \"Topic4\", \"Topic4\", \"Topic4\", \"Topic4\", \"Topic4\", \"Topic4\", \"Topic4\", \"Topic4\", \"Topic4\", \"Topic4\", \"Topic4\", \"Topic4\", \"Topic4\", \"Topic4\", \"Topic4\", \"Topic4\", \"Topic4\", \"Topic4\", \"Topic5\", \"Topic5\", \"Topic5\", \"Topic5\", \"Topic5\", \"Topic5\", \"Topic5\", \"Topic5\", \"Topic5\", \"Topic5\", \"Topic5\", \"Topic5\", \"Topic5\", \"Topic5\", \"Topic5\", \"Topic5\", \"Topic5\", \"Topic5\", \"Topic5\", \"Topic5\", \"Topic5\", \"Topic5\", \"Topic5\", \"Topic5\", \"Topic5\", \"Topic5\", \"Topic5\", \"Topic5\", \"Topic5\", \"Topic5\", \"Topic5\", \"Topic5\", \"Topic5\", \"Topic5\", \"Topic5\", \"Topic5\", \"Topic5\", \"Topic5\", \"Topic5\", \"Topic5\", \"Topic5\", \"Topic5\", \"Topic5\", \"Topic5\", \"Topic5\", \"Topic5\", \"Topic5\", \"Topic5\", \"Topic5\", \"Topic5\", \"Topic5\", \"Topic5\", \"Topic5\", \"Topic5\", \"Topic5\", \"Topic5\", \"Topic5\", \"Topic5\", \"Topic5\", \"Topic5\", \"Topic5\", \"Topic5\", \"Topic5\", \"Topic5\", \"Topic5\", \"Topic5\", \"Topic5\", \"Topic5\", \"Topic5\", \"Topic5\", \"Topic5\", \"Topic5\", \"Topic5\", \"Topic5\", \"Topic5\", \"Topic6\", \"Topic6\", \"Topic6\", \"Topic6\", \"Topic6\", \"Topic6\", \"Topic6\", \"Topic6\", \"Topic6\", \"Topic6\", \"Topic6\", \"Topic6\", \"Topic6\", \"Topic6\", \"Topic6\", \"Topic6\", \"Topic6\", \"Topic6\", \"Topic6\", \"Topic6\", \"Topic6\", \"Topic6\", \"Topic6\", \"Topic6\", \"Topic6\", \"Topic6\", \"Topic6\", \"Topic6\", \"Topic6\", \"Topic6\", \"Topic6\", \"Topic6\", \"Topic6\", \"Topic6\", \"Topic6\", \"Topic6\", \"Topic6\", \"Topic6\", \"Topic6\", \"Topic6\", \"Topic6\", \"Topic6\", \"Topic6\", \"Topic6\", \"Topic6\", \"Topic6\", \"Topic6\", \"Topic6\", \"Topic6\", \"Topic6\", \"Topic6\", \"Topic6\", \"Topic6\", \"Topic6\", \"Topic6\", \"Topic6\", \"Topic6\", \"Topic6\", \"Topic6\", \"Topic6\", \"Topic6\", \"Topic6\", \"Topic6\", \"Topic6\", \"Topic6\", \"Topic6\", \"Topic6\", \"Topic6\", \"Topic6\", \"Topic6\", \"Topic6\", \"Topic6\", \"Topic6\", \"Topic6\", \"Topic6\", \"Topic6\", \"Topic6\", \"Topic6\", \"Topic6\", \"Topic6\", \"Topic6\", \"Topic6\", \"Topic7\", \"Topic7\", \"Topic7\", \"Topic7\", \"Topic7\", \"Topic7\", \"Topic7\", \"Topic7\", \"Topic7\", \"Topic7\", \"Topic7\", \"Topic7\", \"Topic7\", \"Topic7\", \"Topic7\", \"Topic7\", \"Topic7\", \"Topic7\", \"Topic7\", \"Topic7\", \"Topic7\", \"Topic7\", \"Topic7\", \"Topic7\", \"Topic7\", \"Topic7\", \"Topic7\", \"Topic7\", \"Topic7\", \"Topic7\", \"Topic7\", \"Topic7\", \"Topic7\", \"Topic7\", \"Topic7\", \"Topic7\", \"Topic7\", \"Topic7\", \"Topic7\", \"Topic7\", \"Topic7\", \"Topic7\", \"Topic7\", \"Topic7\", \"Topic7\", \"Topic7\", \"Topic7\", \"Topic7\", \"Topic7\", \"Topic7\", \"Topic7\", \"Topic7\", \"Topic7\", \"Topic7\", \"Topic7\", \"Topic7\", \"Topic7\", \"Topic7\", \"Topic7\", \"Topic7\", \"Topic7\", \"Topic7\", \"Topic7\", \"Topic7\", \"Topic7\", \"Topic7\", \"Topic7\", \"Topic7\", \"Topic7\", \"Topic7\", \"Topic7\", \"Topic7\", \"Topic8\", \"Topic8\", \"Topic8\", \"Topic8\", \"Topic8\", \"Topic8\", \"Topic8\", \"Topic8\", \"Topic8\", \"Topic8\", \"Topic8\", \"Topic8\", \"Topic8\", \"Topic8\", \"Topic8\", \"Topic8\", \"Topic8\", \"Topic8\", \"Topic8\", \"Topic8\", \"Topic8\", \"Topic8\", \"Topic8\", \"Topic8\", \"Topic8\", \"Topic8\", \"Topic8\", \"Topic8\", \"Topic8\", \"Topic8\", \"Topic8\", \"Topic8\", \"Topic8\", \"Topic8\", \"Topic8\", \"Topic8\", \"Topic8\", \"Topic8\", \"Topic8\"], \"logprob\": [30.0, 29.0, 28.0, 27.0, 26.0, 25.0, 24.0, 23.0, 22.0, 21.0, 20.0, 19.0, 18.0, 17.0, 16.0, 15.0, 14.0, 13.0, 12.0, 11.0, 10.0, 9.0, 8.0, 7.0, 6.0, 5.0, 4.0, 3.0, 2.0, 1.0, -6.5528, -6.6709, -6.7974, -5.9826, -6.8032, -6.9515, -6.9517, -6.9529, -6.9575, -7.1277, -7.1282, -7.1286, -7.1288, -7.1307, -7.1328, -7.1331, -7.1343, -5.5751, -7.3452, -7.3452, -7.3452, -7.346, -7.3464, -7.3473, -7.3477, -7.3478, -7.3484, -7.3489, -7.3562, -7.3609, -6.1167, -6.5506, -5.358, -6.1474, -5.4046, -5.4366, -6.3729, -6.048, -5.4319, -4.9708, -6.7986, -6.7982, -4.4808, -5.08, -4.2029, -4.8478, -3.9398, -5.8704, -5.349, -6.1848, -6.2845, -4.8221, -5.6796, -4.0941, -4.9979, -6.1114, -3.8796, -5.0711, -5.7752, -5.8722, -5.1134, -4.7776, -4.9852, -5.081, -5.1343, -5.1713, -5.2247, -5.1528, -5.2248, -5.1086, -4.902, -5.247, -5.3493, -5.0426, -5.3306, -5.3723, -6.3289, -6.3297, -6.607, -6.6067, -6.6074, -6.6074, -6.6074, -6.6081, -6.6099, -5.9329, -6.1102, -6.9887, -6.9899, -6.9908, -6.9909, -6.9918, -6.9921, -6.9923, -6.9925, -6.9924, -6.9925, -6.9925, -6.9924, -6.9924, -6.9925, -6.9927, -6.993, -6.9927, -6.9928, -6.9929, -6.1142, -6.3288, -6.3292, -6.3304, -5.2007, -6.6064, -4.1605, -6.6083, -5.3433, -5.2505, -5.4534, -5.1203, -3.5243, -4.7456, -3.8144, -5.7813, -6.125, -5.8318, -6.6052, -5.0423, -4.7287, -4.7894, -4.6817, -5.0611, -5.5066, -5.2805, -4.9653, -5.3148, -4.9375, -5.2173, -5.3246, -5.6189, -5.569, -5.4702, -5.0973, -5.3664, -5.4187, -5.4407, -5.5896, -5.5153, -5.4942, -5.3651, -6.3137, -6.3192, -6.3202, -6.322, -6.6994, -6.7001, -6.701, -6.701, -6.7019, -6.7019, -6.7025, -6.7033, -6.7041, -6.7045, -6.7049, -6.7058, -6.7063, -6.7067, -6.709, -6.3192, -7.3344, -7.3345, -7.3346, -7.3347, -7.3347, -7.3348, -7.335, -7.335, -7.335, -6.6989, -6.7045, -4.8783, -6.6876, -6.3126, -6.6989, -6.7042, -6.3181, -5.2482, -5.2469, -6.3137, -5.8165, -5.3617, -5.3589, -6.0331, -3.7308, -5.2449, -3.8921, -5.6423, -4.6087, -5.0375, -3.8864, -4.7332, -5.1367, -5.141, -5.3578, -5.24, -5.8172, -4.5489, -4.8005, -5.4877, -4.7997, -5.0411, -5.1312, -5.1362, -5.1322, -5.1321, -5.0407, -5.237, -5.4869, -5.3544, -5.3526, -5.4737, -5.3092, -5.8606, -6.1338, -6.1339, -6.5185, -6.5186, -6.5192, -6.5193, -6.5217, -5.4603, -5.6398, -5.3105, -6.1333, -5.8592, -7.1531, -7.1536, -7.1535, -7.1536, -7.1542, -7.1538, -7.154, -7.154, -7.154, -7.154, -7.1544, -7.1544, -7.1542, -7.1543, -7.1542, -7.1541, -6.1336, -6.1364, -6.5186, -6.5218, -4.7782, -6.5177, -6.5185, -6.5187, -6.5188, -6.1344, -4.6247, -5.1791, -4.623, -6.1316, -6.5191, -6.1327, -5.8549, -5.4568, -4.3731, -5.6362, -4.8639, -4.9552, -4.9567, -5.8531, -5.3061, -4.5531, -5.1753, -5.6351, -5.4561, -5.4575, -4.3659, -5.1742, -5.0564, -5.0572, -4.6864, -4.6879, -4.9525, -4.8576, -5.1722, -5.0481, -5.3016, -5.3008, -5.3008, -5.4423, -5.4502, -5.4512, -5.4521, -6.0188, -6.0191, -6.4033, -6.4041, -6.404, -6.4042, -6.4044, -6.4044, -6.4043, -6.4045, -6.4045, -6.4046, -6.4047, -6.4048, -6.405, -6.405, -6.4051, -5.7417, -5.3425, -7.039, -7.039, -7.0391, -7.039, -7.0393, -7.0394, -7.0393, -7.0394, -7.0394, -7.0394, -7.0397, -6.4044, -6.4027, -6.0177, -6.4039, -5.7364, -6.4051, -6.0187, -6.0135, -5.7394, -5.3428, -5.7405, -5.3423, -5.7407, -3.7115, -3.9697, -5.7383, -5.0629, -5.0566, -4.7423, -5.191, -4.8369, -5.1887, -5.7402, -4.8335, -5.7402, -5.0544, -5.1874, -5.0576, -5.7363, -6.0176, -5.1827, -5.0469, -5.0494, -5.3402, -5.3359, -5.5142, -5.5205, -5.5179, -5.5174, -5.5146, -5.5194, -5.7309, -5.7315, -5.7316, -5.732, -5.5039, -5.7245, -6.0048, -6.3839, -6.387, -6.3886, -6.3917, -6.3919, -6.3939, -6.3946, -6.0134, -7.0187, -7.0192, -7.0194, -7.0196, -7.0196, -7.0197, -7.0198, -7.0199, -7.0199, -7.0202, -7.0196, -7.0203, -7.0208, -7.022, -7.0215, -7.0216, -7.0218, -7.0219, -7.0219, -5.7322, -6.0548, -5.7607, -6.3842, -6.3853, -6.3917, -5.5527, -6.3864, -6.4106, -6.3826, -6.3856, -6.3878, -6.3881, -5.9977, -5.5043, -5.0777, -6.0019, -5.7222, -4.4336, -5.2967, -4.9328, -5.3972, -3.6927, -4.3363, -4.4169, -5.622, -5.4166, -5.0553, -5.0535, -4.9183, -4.9723, -5.7513, -4.9809, -4.9996, -5.2691, -5.567, -4.8729, -4.7742, -5.1167, -5.2016, -4.8568, -5.1927, -5.4228, -5.2182, -5.2567, -5.2889, -5.3568, -5.3117, -5.3711, -5.3243, -5.3346, -5.3947, -5.6524, -6.0368, -6.0369, -6.0378, -6.0377, -6.0378, -6.0376, -6.0399, -4.8296, -6.6725, -6.6729, -6.6728, -6.6728, -6.6729, -6.673, -6.6732, -6.6733, -6.6731, -6.6734, -6.6732, -6.6733, -6.6733, -6.6732, -6.6734, -6.6733, -6.6735, -6.6735, -6.6735, -6.6733, -6.6736, -5.6534, -6.0398, -5.6513, -6.0403, -6.036, -6.0376, -5.6529, -3.9485, -4.9796, -5.6507, -6.0394, -5.1545, -5.6551, -4.6945, -6.039, -4.5788, -5.3754, -3.7804, -4.3762, -5.6521, -4.69, -4.9775, -4.974, -5.3716, -4.5717, -5.3744, -4.5651, -5.1514, -5.3697, -5.1507, -5.1393, -5.3768, -5.6524, -5.3665, -5.386, -5.3651, -5.3584, -5.3967, -5.357, -5.3732, -5.6156, -5.635, -4.913, -5.9347, -5.9348, -5.9352, -5.9355, -5.9355, -5.3003, -5.9349, -5.9338, -5.9339, -5.9397, -4.9115, -5.9362, -5.308, -5.2985, -5.9384, -5.9414, -5.943, -5.9375, -5.948, -5.9431, -5.9338, -5.9408, -5.9555, -5.3008, -5.9419, -5.9546, -5.9396, -5.9265, -5.9398, -5.306, -5.312, -5.3211, -5.3199, -5.3456, -5.0186, -5.0357, -5.387, -5.9374], \"loglift\": [30.0, 29.0, 28.0, 27.0, 26.0, 25.0, 24.0, 23.0, 22.0, 21.0, 20.0, 19.0, 18.0, 17.0, 16.0, 15.0, 14.0, 13.0, 12.0, 11.0, 10.0, 9.0, 8.0, 7.0, 6.0, 5.0, 4.0, 3.0, 2.0, 1.0, 0.6853, 0.6758, 0.6702, 0.6671, 0.665, 0.6552, 0.6549, 0.6542, 0.6498, 0.6393, 0.6393, 0.639, 0.6389, 0.6369, 0.6354, 0.6351, 0.6336, 0.6245, 0.6139, 0.6139, 0.6137, 0.6134, 0.6127, 0.612, 0.6117, 0.6114, 0.6112, 0.6108, 0.6049, 0.6013, 0.5989, 0.6007, 0.5571, 0.573, 0.5167, 0.5086, 0.559, 0.5209, 0.4656, 0.416, 0.5712, 0.5666, 0.3254, 0.3882, 0.2898, 0.3573, 0.2337, 0.4589, 0.3804, 0.4983, 0.5058, 0.2656, 0.3969, 0.0896, 0.2537, 0.4738, -0.0325, 0.2222, 0.3789, 0.3995, 0.1726, 0.063, 0.1223, 0.1517, 0.1646, 0.1655, 0.165, 0.1202, 0.1346, 0.0726, -0.0717, 0.1129, 0.1776, -0.1221, -0.1468, -0.2219, 1.737, 1.7361, 1.691, 1.6909, 1.6906, 1.6906, 1.6902, 1.6898, 1.6867, 1.633, 1.6287, 1.6112, 1.6102, 1.6095, 1.6093, 1.6085, 1.6081, 1.608, 1.6079, 1.6078, 1.6078, 1.6078, 1.6078, 1.6078, 1.6076, 1.6076, 1.6075, 1.6074, 1.6074, 1.6073, 1.5858, 1.5262, 1.5254, 1.5242, 1.1243, 1.4869, 0.6698, 1.4852, 1.0632, 1.0317, 1.086, 0.952, 0.3229, 0.765, 0.3694, 1.1199, 1.2556, 1.1048, 1.4333, 0.6509, 0.4216, 0.3182, 0.2389, 0.3992, 0.7342, 0.5158, 0.2185, 0.4147, -0.0969, 0.0687, 0.1511, 0.5287, 0.369, 0.1748, -0.6046, -0.1613, -0.1253, -0.0813, 0.1481, -0.2423, -0.6881, 2.1388, 2.0208, 2.0143, 2.0132, 2.0111, 1.934, 1.9334, 1.9324, 1.9323, 1.931, 1.931, 1.9306, 1.9293, 1.9284, 1.9279, 1.9275, 1.9266, 1.926, 1.9255, 1.9228, 1.7466, 1.727, 1.7269, 1.7268, 1.7268, 1.7267, 1.7267, 1.7265, 1.7265, 1.7264, 1.7011, 1.6948, 1.5415, 1.6693, 1.6128, 1.6486, 1.6428, 1.5822, 1.383, 1.3324, 1.5535, 1.4233, 1.267, 1.265, 1.4628, 0.453, 1.0589, 0.2814, 1.2395, 0.5417, 0.8142, -0.0393, 0.5398, 0.7998, 0.6878, 0.8456, 0.7437, 1.2021, -0.0562, 0.1201, 0.7686, 0.0064, 0.1916, 0.1548, 0.1571, 0.0516, -0.0245, -0.2001, 0.0998, 0.4782, -0.1028, -0.1475, -0.6434, 2.3609, 2.2852, 2.24, 2.2398, 2.1498, 2.1497, 2.1495, 2.1493, 2.1464, 2.1, 2.0615, 1.991, 1.9636, 1.9577, 1.9354, 1.935, 1.9348, 1.9348, 1.9347, 1.9346, 1.9346, 1.9345, 1.9345, 1.9344, 1.9344, 1.9344, 1.9343, 1.9342, 1.9342, 1.9341, 1.8419, 1.8378, 1.8654, 1.8619, 1.6066, 1.8302, 1.829, 1.7925, 1.7924, 1.6989, 1.3133, 1.3798, 1.2196, 1.6297, 1.74, 1.6077, 1.5016, 1.3318, 0.808, 1.3782, 0.8739, 0.9077, 0.7645, 1.4025, 0.9789, 0.3675, 0.7845, 1.1259, 0.8977, 0.8718, -0.5187, 0.4954, 0.303, 0.2795, -0.5026, -0.5144, -0.1222, -0.3648, 0.1212, -0.2075, 0.0583, -0.1171, -0.4946, -0.3347, 0.0179, -0.0615, 0.334, 2.3858, 2.3856, 2.2933, 2.2922, 2.292, 2.292, 2.2918, 2.2917, 2.2917, 2.2916, 2.2915, 2.2914, 2.2914, 2.2912, 2.2912, 2.291, 2.2909, 2.2038, 2.0803, 2.0705, 2.0705, 2.0705, 2.0705, 2.0703, 2.0702, 2.0702, 2.0701, 2.0701, 2.07, 2.07, 2.0449, 2.002, 1.9131, 1.9642, 1.7771, 1.9253, 1.7458, 1.7307, 1.6392, 1.4033, 1.5504, 1.325, 1.541, 0.1357, 0.2038, 1.5267, 0.9207, 0.7861, 0.408, 0.8226, 0.3469, 0.7661, 1.4485, 0.0871, 1.2846, 0.1268, 0.2883, 0.03, 1.1767, 1.6299, 0.069, -0.2063, -0.5567, 0.0197, -0.1032, 0.1227, 0.1245, 0.0089, -0.057, -0.1778, -0.2204, 0.0654, -0.3447, -0.3722, -0.3424, 2.4934, 2.4564, 2.4011, 2.3137, 2.3105, 2.3089, 2.3058, 2.3052, 2.3028, 2.3022, 2.1056, 2.0924, 2.0919, 2.0918, 2.0915, 2.0915, 2.0914, 2.0913, 2.0912, 2.0912, 2.0909, 2.0908, 2.0901, 2.0894, 2.0892, 2.089, 2.0888, 2.0886, 2.0886, 2.0885, 2.0595, 2.0576, 2.0197, 2.0221, 2.0102, 1.9896, 1.8363, 1.9824, 1.9679, 1.9495, 1.9461, 1.9435, 1.9431, 1.775, 1.6014, 1.3771, 1.7161, 1.5689, 1.0267, 1.2958, 1.0509, 1.3327, 0.1544, 0.5043, 0.4134, 1.3327, 1.1363, 0.7411, 0.7326, 0.4416, 0.5034, 1.3448, 0.1267, 0.1507, 0.5597, 1.0344, -0.3802, -0.6007, 0.067, 0.1881, -0.6731, 0.04, 0.6687, -0.037, 0.0293, 0.0979, 0.3128, -0.0128, 0.1395, -0.5181, -0.414, -0.1431, 2.8917, 2.783, 2.7829, 2.7821, 2.7819, 2.7817, 2.7816, 2.7804, 2.7308, 2.5286, 2.5285, 2.5285, 2.5284, 2.5283, 2.5282, 2.5281, 2.528, 2.528, 2.528, 2.5279, 2.5279, 2.5278, 2.5276, 2.5276, 2.5276, 2.5275, 2.5275, 2.5275, 2.5275, 2.5274, 2.4178, 2.4567, 2.3814, 2.4298, 2.3791, 2.3768, 2.1546, 1.1392, 1.6491, 1.996, 2.1713, 1.5887, 1.8737, 1.2031, 2.0966, 1.0661, 1.5987, 0.3931, 0.43, 1.5746, 0.609, 0.8742, 0.7192, 1.2399, -0.079, 1.1178, -0.718, 0.2383, 0.7548, 0.033, -0.2987, 0.3528, 1.3867, 0.2703, 0.1246, -0.0057, -0.1772, -0.145, -0.5267, -0.4526, -1.4319, -0.362, 4.3769, 3.6784, 3.6784, 3.6777, 3.6773, 3.6772, 3.4807, 3.1469, 3.066, 3.0002, 2.9271, 2.7352, 2.582, 2.4316, 2.3938, 2.3207, 2.2691, 2.2589, 2.1048, 1.999, 1.9638, 1.9172, 1.9166, 1.813, 1.7184, 1.661, 1.5699, 1.5198, 1.375, 1.3, 1.1138, 1.0729, 0.8265, 0.5318, 0.4405, -0.5258, -0.8622, -0.0001, -2.0903]}, \"token.table\": {\"Topic\": [1, 2, 4, 5, 7, 7, 6, 1, 4, 5, 7, 1, 4, 4, 1, 2, 3, 4, 5, 6, 7, 1, 2, 3, 4, 5, 6, 7, 2, 6, 1, 2, 6, 2, 3, 6, 1, 2, 3, 4, 5, 6, 5, 1, 2, 3, 5, 6, 7, 1, 2, 3, 4, 5, 6, 7, 3, 6, 1, 4, 3, 7, 4, 1, 2, 3, 4, 5, 6, 7, 7, 2, 4, 2, 5, 1, 2, 3, 4, 6, 5, 1, 2, 3, 4, 5, 6, 7, 6, 1, 2, 3, 4, 5, 6, 7, 7, 1, 7, 1, 2, 4, 6, 7, 6, 1, 2, 3, 4, 5, 7, 3, 4, 7, 5, 2, 7, 1, 1, 3, 5, 1, 3, 1, 3, 4, 6, 2, 1, 5, 1, 3, 6, 1, 2, 3, 4, 5, 6, 7, 1, 2, 6, 5, 6, 1, 5, 2, 1, 2, 4, 5, 1, 2, 3, 5, 6, 5, 2, 2, 1, 2, 3, 4, 5, 7, 5, 5, 5, 7, 1, 6, 5, 8, 1, 1, 2, 1, 4, 3, 1, 2, 3, 4, 1, 2, 3, 4, 4, 5, 4, 5, 1, 4, 3, 2, 3, 1, 3, 4, 7, 4, 3, 2, 7, 4, 5, 7, 7, 1, 1, 6, 1, 6, 5, 1, 3, 4, 6, 7, 1, 2, 4, 4, 1, 2, 1, 2, 3, 4, 5, 6, 7, 1, 2, 3, 4, 5, 6, 7, 1, 2, 3, 4, 5, 6, 7, 6, 1, 2, 3, 5, 5, 1, 2, 3, 4, 5, 6, 7, 6, 1, 2, 6, 1, 2, 3, 4, 6, 7, 1, 4, 7, 5, 3, 2, 1, 2, 3, 4, 7, 3, 1, 6, 3, 4, 5, 7, 6, 5, 3, 1, 3, 4, 1, 2, 3, 5, 6, 1, 2, 3, 5, 1, 4, 6, 1, 2, 3, 4, 5, 6, 7, 1, 2, 3, 5, 6, 1, 2, 3, 4, 5, 6, 6, 1, 2, 3, 5, 7, 1, 2, 3, 4, 5, 6, 7, 6, 4, 1, 3, 5, 6, 1, 3, 6, 4, 2, 1, 1, 2, 3, 5, 6, 2, 1, 2, 3, 4, 7, 1, 2, 3, 4, 5, 6, 7, 1, 2, 3, 4, 5, 6, 7, 1, 2, 3, 4, 5, 6, 7, 6, 6, 1, 2, 3, 4, 5, 6, 7, 1, 4, 5, 7, 1, 2, 3, 4, 5, 6, 7, 4, 6, 1, 2, 3, 4, 6, 7, 1, 4, 1, 4, 2, 1, 2, 4, 5, 6, 3, 6, 1, 2, 4, 5, 5, 7, 1, 2, 3, 4, 5, 6, 7, 1, 3, 4, 5, 6, 7, 1, 4, 2, 5, 1, 2, 3, 5, 6, 1, 4, 1, 2, 6, 4, 5, 1, 3, 4, 6, 2, 2, 5, 1, 6, 6, 4, 4, 5, 6, 4, 1, 3, 5, 6, 1, 2, 5, 1, 2, 4, 6, 3, 6, 5, 5, 4, 5, 4, 3, 1, 2, 3, 4, 5, 6, 1, 2, 4, 5, 2, 3, 4, 5, 6, 1, 2, 3, 5, 6, 7, 1, 1, 2, 3, 4, 5, 6, 7, 1, 2, 7, 3, 3, 3, 1, 6, 1, 2, 3, 4, 1, 1, 1, 3, 4, 5, 6, 7, 1, 2, 3, 4, 1, 2, 3, 4, 5, 6, 1, 4, 5, 1, 3, 7, 1, 2, 3, 4, 5, 6, 7, 5, 1, 2, 3, 5, 6, 7, 1, 2, 3, 4, 5, 6, 7, 1, 4, 6, 1, 2, 1, 2, 3, 4, 5, 6, 7, 1, 1, 2, 3, 4, 5, 6, 7, 1, 1, 2, 3, 4, 5, 6, 5, 6, 1, 2, 3, 4, 5, 6, 1, 2, 3, 7, 2, 1, 2, 4, 6, 7, 6, 4, 3, 1, 2, 3, 4, 6, 7, 3, 1, 4, 3, 2, 2, 6, 4, 1, 3, 6, 3, 1, 2, 3, 4, 5, 6, 7, 1, 2, 3, 4, 5, 6, 6, 4, 6, 1, 1, 4, 4, 7, 1, 1, 3, 6, 1, 2, 5, 3, 1, 7, 1, 3, 1, 2, 3, 4, 5, 6, 7, 6, 1, 2, 3, 5, 6, 1, 1, 2, 4, 6, 1, 1, 2, 3, 4, 5, 6, 7, 2, 7, 1, 7, 7, 7, 5, 1, 6, 1, 2, 3, 4, 5, 6, 7, 6, 4, 1, 6, 5, 1, 2, 5, 6, 2, 1, 3, 6, 2, 4, 1, 2, 3, 4, 5, 6, 7, 1, 2, 3, 4, 7, 1, 2, 3, 4, 5, 6, 7, 4, 1, 1, 1, 3, 6, 7, 7, 6, 1, 4, 6, 3, 4, 1, 2, 3, 4, 5, 6, 7, 1, 2, 3, 4, 5, 6, 7, 1, 5, 4, 6, 3, 6, 4, 1, 2, 7, 4, 2, 1, 2, 3, 4, 5, 7, 7, 3, 4, 5, 7, 1, 3, 6, 1, 4, 7, 2, 4, 5, 6, 1, 2, 4, 5, 5, 1, 2, 3, 4, 5, 3, 1, 2, 3, 4, 5, 6, 7, 2, 1, 2, 3, 4, 5, 6, 1, 2, 3, 4, 5, 6, 7, 2, 1, 3, 4, 6, 7, 1, 2, 3, 4, 5, 6, 7, 1, 2, 4, 6, 6, 1, 2, 3, 4, 5, 6, 7, 1, 2, 3, 4, 5, 6, 7, 3, 1, 2, 1, 2, 3, 4, 5, 6, 7, 3, 1, 3, 5, 4, 6, 1, 1, 2, 3, 4, 5, 6, 7, 3, 7, 1, 2, 4, 5, 2, 6, 1, 5, 1, 6, 3, 4, 5, 6, 7, 1, 2, 3, 5, 6, 7, 1, 3, 5, 1, 2, 5, 7, 1, 2, 3, 4, 5, 6, 2, 7, 1, 2, 3, 4, 5, 7, 6, 1, 2, 3, 4, 5, 6, 7, 1, 2, 5, 3, 7, 1, 2, 4, 5, 1, 2, 5, 6, 3, 7, 1, 2, 3, 6, 2, 1, 7, 1, 2, 3, 4, 5, 7, 5, 4, 4, 1, 4, 3, 7, 2, 5, 1, 2, 3, 4, 5, 6, 1, 2, 3, 4, 5, 6, 7, 1, 2, 1, 2, 3, 4, 5, 6, 7, 7, 1, 5, 6, 3, 1, 3, 1, 3, 6, 7, 8, 3, 1, 3, 5, 6, 2, 4, 4, 1, 4, 5, 6, 2, 1, 2, 1, 4, 5, 7, 7, 7, 5, 1, 2, 1, 2, 3, 5, 6, 1, 5, 6, 2, 1, 2, 1, 3, 5, 7, 2, 1, 2, 3, 4, 6, 7, 7, 1, 2, 3, 4, 7, 1, 2, 3, 4, 5, 6, 7, 1, 2, 3, 4, 5, 6, 7, 1, 2, 1, 2, 3, 4, 5, 6, 7, 7, 3, 7, 2, 1, 2, 3, 4, 5, 6], \"Freq\": [0.42517101115352746, 0.10629275278838186, 0.10629275278838186, 0.21258550557676373, 0.21258550557676373, 0.7652988386870738, 0.699089997383428, 0.32380634434127215, 0.16190317217063607, 0.32380634434127215, 0.16190317217063607, 0.7308693857132674, 0.18271734642831686, 0.6838527708975473, 0.40987297229538516, 0.20493648614769258, 0.06831216204923087, 0.06831216204923087, 0.06831216204923087, 0.13662432409846173, 0.03415608102461543, 0.40126579761982095, 0.32483421712080746, 0.07643158049901351, 0.057323685374260136, 0.019107895124753378, 0.07643158049901351, 0.038215790249506755, 0.8397625113235293, 0.6996457048024042, 0.250044172597871, 0.250044172597871, 0.500088345195742, 0.2137688025109786, 0.6413064075329358, 0.2137688025109786, 0.5188643141852947, 0.09433896621550812, 0.07075422466163109, 0.18867793243101624, 0.04716948310775406, 0.04716948310775406, 0.92451878128027, 0.47280649899557214, 0.10506811088790492, 0.21013622177580984, 0.0788010831659287, 0.13133513860988116, 0.02626702772197623, 0.5920720427756014, 0.025087798422694978, 0.14049167116709188, 0.050175596845389955, 0.09031607432170191, 0.04014047747631196, 0.06021071621446795, 0.33723142797067596, 0.6744628559413519, 0.9130417228273539, 0.6842616621228904, 0.3685226878853119, 0.3685226878853119, 0.6693188921114945, 0.5631663867886026, 0.13593671405242133, 0.09709765289458666, 0.05825859173675199, 0.07767812231566933, 0.05825859173675199, 0.01941953057891733, 0.5228334719578926, 0.32603500781918837, 0.6520700156383767, 0.33278197393282244, 0.6655639478656449, 0.3181071413803117, 0.47716071207046756, 0.07952678534507793, 0.07952678534507793, 0.07952678534507793, 0.6985720061030588, 0.5647374081787832, 0.15263173194021168, 0.12210538555216933, 0.06105269277608467, 0.015263173194021167, 0.07631586597010584, 0.015263173194021167, 0.9252900207448789, 0.2956419777367157, 0.12670370474430673, 0.2956419777367157, 0.08446913649620448, 0.08446913649620448, 0.04223456824810224, 0.04223456824810224, 0.7656128704419418, 0.5274880038927904, 0.2637440019463952, 0.33359355777468624, 0.1334374231098745, 0.266874846219749, 0.1334374231098745, 0.1334374231098745, 0.9245555260685165, 0.4758890123489061, 0.31725934156593744, 0.03965741769574218, 0.07931483539148436, 0.07931483539148436, 0.7655194585789097, 0.6516780969489615, 0.32583904847448075, 0.7937076575208429, 0.9239059487679312, 0.9303813543562008, 0.765586638586497, 0.9330393937292322, 0.2084694174561727, 0.4169388349123454, 0.2084694174561727, 0.9324404308733127, 0.6657407632045569, 0.24595947101968654, 0.4919189420393731, 0.6840154512918211, 0.6995998002443757, 0.8395775728507827, 0.2180893268475009, 0.6542679805425028, 0.8541969627576675, 0.12202813753680966, 0.918737578501312, 0.45616666175966675, 0.20636110889127782, 0.10137036927992595, 0.05068518463996297, 0.08326851762279631, 0.08326851762279631, 0.02172222198855556, 0.9126048247572307, 0.3330199463854617, 0.6660398927709233, 0.6259515079050498, 0.6991751158280493, 0.32048256189968766, 0.6409651237993753, 0.8394881226368033, 0.8303624199975004, 0.0858995606893966, 0.05726637379293106, 0.02863318689646553, 0.2225263159203308, 0.1112631579601654, 0.38942105286057893, 0.1112631579601654, 0.1112631579601654, 0.6984443959511117, 0.9304647540044453, 0.7379393479681439, 0.38731476026742984, 0.17876065858496762, 0.14896721548747302, 0.08938032929248381, 0.14896721548747302, 0.029793443097494605, 0.9238451509357822, 0.9239092118434156, 0.37838294914615533, 0.37838294914615533, 0.32076587099956533, 0.6415317419991307, 0.6985905390045273, 0.8365748272212221, 0.884666414458641, 0.1492084579120146, 0.7460422895600729, 0.3143942483116975, 0.628788496623395, 0.8664457807454343, 0.32305804543486544, 0.10768601514495514, 0.43074406057982056, 0.10768601514495514, 0.4033298620007702, 0.2016649310003851, 0.4033298620007702, 0.8986055702684792, 0.44890357497339023, 0.44890357497339023, 0.7418761423415502, 0.2967504569366201, 0.7100884790892722, 0.17752211977231805, 0.8669665860484906, 0.8395991109594308, 0.8670229937636537, 0.4313283426363467, 0.14377611421211556, 0.14377611421211556, 0.2875522284242311, 0.6838919833903057, 0.6656720266511954, 0.8395082010755197, 0.7657497021377199, 0.6833646642631729, 0.17084116606579322, 0.17084116606579322, 0.522691717283836, 0.9127742785371427, 0.3209051563920293, 0.6418103127840586, 0.5029254917575043, 0.6991885956345555, 0.6984967858767497, 0.7065730783945754, 0.1345853482656334, 0.03364633706640835, 0.0672926741328167, 0.0672926741328167, 0.7707244657355178, 0.05505174755253698, 0.11010349510507396, 0.8984235747784074, 0.19914796430515255, 0.5974438929154576, 0.3874889340536147, 0.16606668602297772, 0.11071112401531849, 0.0922592700127654, 0.0922592700127654, 0.11071112401531849, 0.01845185400255308, 0.5026536559691125, 0.17483605425012608, 0.04370901356253152, 0.02185450678126576, 0.08741802712506304, 0.04370901356253152, 0.13112704068759456, 0.5586984718998637, 0.08465128362119145, 0.08465128362119145, 0.08465128362119145, 0.050790770172714876, 0.08465128362119145, 0.050790770172714876, 0.6991151168748971, 0.18198377890620634, 0.18198377890620634, 0.18198377890620634, 0.3639675578124127, 0.6985339167123332, 0.525904978451691, 0.09860718345969206, 0.08217265288307672, 0.08217265288307672, 0.06573812230646138, 0.1150417140363074, 0.016434530576615345, 0.6996429686073377, 0.282502154473539, 0.282502154473539, 0.37666953929805197, 0.5362890319480454, 0.2043005835992554, 0.1021502917996277, 0.06384393237476732, 0.07661271884972078, 0.012768786474953463, 0.4196845009642288, 0.2098422504821144, 0.2098422504821144, 0.6985302108367629, 0.6657581886284012, 0.8395782888192668, 0.44054264731521864, 0.17621705892608747, 0.17621705892608747, 0.08810852946304373, 0.17621705892608747, 0.8675456700220692, 0.25771716358497193, 0.5154343271699439, 0.1949448784892729, 0.3898897569785458, 0.1949448784892729, 0.1949448784892729, 0.6996318105322803, 0.9240017147956325, 0.6429065166960302, 0.8752371833711722, 0.07610758116271063, 0.038053790581355315, 0.2371536252391034, 0.14229217514346204, 0.4743072504782068, 0.047430725047820685, 0.047430725047820685, 0.19841527116529298, 0.39683054233058596, 0.19841527116529298, 0.19841527116529298, 0.39943799902120763, 0.19971899951060382, 0.39943799902120763, 0.43610204345831943, 0.21805102172915972, 0.018170918477429975, 0.03634183695485995, 0.0726836739097199, 0.19988010325172972, 0.018170918477429975, 0.6635472656189293, 0.06319497767799327, 0.0947924665169899, 0.15798744419498317, 0.031597488838996636, 0.2586925915959766, 0.1940194436969824, 0.1293462957979883, 0.06467314789899414, 0.06467314789899414, 0.2586925915959766, 0.6912316514787625, 0.6118949241273541, 0.15297373103183853, 0.05099124367727951, 0.05099124367727951, 0.10198248735455902, 0.4795857766031635, 0.16785502181110723, 0.04795857766031635, 0.1918343106412654, 0.023979288830158176, 0.04795857766031635, 0.023979288830158176, 0.8280035707800079, 0.8986107240833244, 0.2782399105730035, 0.41735986585950524, 0.13911995528650176, 0.13911995528650176, 0.18347987244772587, 0.36695974489545174, 0.36695974489545174, 0.684197824866281, 0.8394455568713268, 0.8843284579259301, 0.7779007107297443, 0.05762227486886995, 0.08643341230330492, 0.028811137434434975, 0.028811137434434975, 0.9307450590449887, 0.2922472390304579, 0.058449447806091584, 0.35069668683654953, 0.058449447806091584, 0.23379779122436634, 0.413058909090052, 0.19064257342617785, 0.11650379487155313, 0.12709504895078522, 0.07413877855462472, 0.04236501631692841, 0.021182508158464206, 0.5085361946507689, 0.05497688590819124, 0.05497688590819124, 0.19241910067866935, 0.08246532886228686, 0.06872110738523905, 0.04123266443114343, 0.5420539176387837, 0.13140701033667485, 0.08212938146042179, 0.1149811340445905, 0.04927762887625307, 0.03285175258416871, 0.04927762887625307, 0.699667035195732, 0.6996301905025766, 0.5499163851459978, 0.10130038673742066, 0.1302433543766837, 0.05788593527852609, 0.07235741909815761, 0.07235741909815761, 0.028942967639263045, 0.4533526583013974, 0.11333816457534936, 0.3400144937260481, 0.11333816457534936, 0.49863302771864415, 0.1368796546678631, 0.08799406371505485, 0.06843982733393154, 0.0586627091433699, 0.1173254182867398, 0.02933135457168495, 0.6840268508847046, 0.6992097496166242, 0.45878824480760394, 0.06554117782965771, 0.06554117782965771, 0.13108235565931542, 0.13108235565931542, 0.19662353348897313, 0.5636830045603852, 0.2818415022801926, 0.386699910430508, 0.386699910430508, 0.8394539204999771, 0.36639077932709885, 0.045798847415887356, 0.4121896267429862, 0.09159769483177471, 0.045798847415887356, 0.6582109870744819, 0.32910549353724095, 0.43764164859783655, 0.10941041214945914, 0.32823123644837743, 0.10941041214945914, 0.6984843513802927, 0.7652841261320573, 0.6517972954628182, 0.07557070092322529, 0.10390971376943478, 0.04723168807701581, 0.009446337615403162, 0.037785350461612646, 0.06612436330782213, 0.4527402724563142, 0.05326356146544873, 0.292949588059968, 0.1597906843963462, 0.026631780732724365, 0.7655681138780008, 0.5685745494231993, 0.28428727471159965, 0.9295099208026072, 0.6985498679671991, 0.17275433413554897, 0.17275433413554897, 0.34550866827109794, 0.17275433413554897, 0.08637716706777449, 0.8952859842186847, 0.05968573228124564, 0.9128081167615677, 0.7586481578937073, 0.2528827192979024, 0.8279450255784854, 0.92410565804225, 0.37642459278862883, 0.37642459278862883, 0.15056983711545152, 0.15056983711545152, 0.5861428344410272, 0.8396390942107592, 0.6986138306850761, 0.5211773222593726, 0.34745154817291507, 0.6996115106081903, 0.6842269612753141, 0.8989274453535366, 0.690442651116314, 0.345221325558157, 0.68393979011942, 0.40930970922712917, 0.10232742730678229, 0.3069822819203469, 0.10232742730678229, 0.8328309537917662, 0.06406391952244356, 0.06406391952244356, 0.3238903828677136, 0.2429177871507852, 0.1619451914338568, 0.2429177871507852, 0.3362926306732491, 0.6725852613464982, 0.9240251121047496, 0.9238777608995601, 0.6762976252440642, 0.3381488126220321, 0.6693929362928716, 0.6430162206733102, 0.3286361788779539, 0.06572723577559077, 0.06572723577559077, 0.13145447155118153, 0.26290894310236307, 0.13145447155118153, 0.6213514754867584, 0.0776689344358448, 0.0776689344358448, 0.2330068033075344, 0.25788000756758467, 0.08596000252252824, 0.34384001009011295, 0.17192000504505647, 0.08596000252252824, 0.38200176474741515, 0.19100088237370758, 0.22920105884844907, 0.07640035294948302, 0.03820017647474151, 0.03820017647474151, 0.8846021251701771, 0.5419435064447689, 0.15174418180453528, 0.08671096103116302, 0.06503322077337227, 0.08671096103116302, 0.021677740257790755, 0.06503322077337227, 0.14839309331922945, 0.14839309331922945, 0.5935723732769178, 0.866824084050615, 0.6657317847721885, 0.8414585424648691, 0.2594180776139431, 0.5188361552278862, 0.46910652832288313, 0.4020913099910427, 0.10052282749776068, 0.06701521833184045, 0.8847764730484509, 0.8841435640562895, 0.6319998531945669, 0.057454532108596995, 0.057454532108596995, 0.11490906421719399, 0.057454532108596995, 0.11490906421719399, 0.7557184830154589, 0.06870168027413262, 0.06870168027413262, 0.06870168027413262, 0.14041537269795004, 0.42124611809385015, 0.23402562116325007, 0.046805124232650014, 0.046805124232650014, 0.09361024846530003, 0.35532903278947237, 0.35532903278947237, 0.17766451639473618, 0.8848029294511267, 0.6871889991848371, 0.34359449959241856, 0.6958860863069767, 0.05493837523476132, 0.05493837523476132, 0.0915639587246022, 0.03662558348984088, 0.05493837523476132, 0.765452462511288, 0.9240193063118617, 0.4335106406872387, 0.2528812070675559, 0.10837766017180968, 0.07225177344787312, 0.07225177344787312, 0.03612588672393656, 0.509013114846028, 0.08982584379635788, 0.029941947932119295, 0.17965168759271577, 0.08982584379635788, 0.05988389586423859, 0.05988389586423859, 0.8584621994619204, 0.12263745706598862, 0.6989707476741482, 0.1706200869667613, 0.6824803478670451, 0.3731567255522615, 0.22655944051387303, 0.18657836277613074, 0.013327025912580767, 0.10661620730064614, 0.0799621554754846, 0.013327025912580767, 0.88708282563608, 0.6046572422801574, 0.07373868808294602, 0.10323416331612442, 0.04424321284976761, 0.07373868808294602, 0.058990950466356815, 0.029495475233178407, 0.9675574851085378, 0.6952521176752413, 0.08179436678532251, 0.12269155017798376, 0.040897183392661254, 0.040897183392661254, 0.040897183392661254, 0.3457500022878102, 0.6915000045756204, 0.15351719748647605, 0.46055159245942817, 0.07675859874323802, 0.15351719748647605, 0.15351719748647605, 0.07675859874323802, 0.7596495089164735, 0.028135166996906425, 0.08440550099071928, 0.14067583498453212, 0.8395138170665974, 0.3096726253537156, 0.1548363126768578, 0.1548363126768578, 0.3096726253537156, 0.1548363126768578, 0.6991082230583103, 0.7993615422219064, 0.6436556237713539, 0.6757171449905794, 0.12669696468573363, 0.0985420836444595, 0.042232321561911215, 0.05630976208254829, 0.014077440520637072, 0.6426580954791216, 0.29843353775932274, 0.5968670755186455, 0.8677520592550403, 0.8392279107160784, 0.7585211040591793, 0.2528403680197264, 0.8989076574131927, 0.8022686633160779, 0.12342594820247353, 0.12342594820247353, 0.8677932470953965, 0.3306496867121852, 0.41331210839023147, 0.04133121083902315, 0.04133121083902315, 0.04133121083902315, 0.0826624216780463, 0.04133121083902315, 0.4833353328968524, 0.08055588881614206, 0.2416676664484262, 0.04027794440807103, 0.1208338332242131, 0.04027794440807103, 0.699650127169584, 0.5753178526490298, 0.3835452350993532, 0.8843615500355223, 0.31438092714737254, 0.6287618542947451, 0.49461805908994294, 0.49461805908994294, 0.9122406278044661, 0.5235321943526422, 0.3490214629017615, 0.11634048763392049, 0.22458053446512746, 0.33687080169769124, 0.33687080169769124, 0.6657100333556693, 0.348822953899829, 0.348822953899829, 0.8288483533894321, 0.12751513129068184, 0.5566160934349473, 0.10823090705679532, 0.07730779075485379, 0.061846232603883035, 0.061846232603883035, 0.07730779075485379, 0.07730779075485379, 0.6997019736326905, 0.6909048576674536, 0.03636341356144492, 0.10909024068433477, 0.07272682712288984, 0.07272682712288984, 0.886139959311377, 0.26827129722542503, 0.26827129722542503, 0.26827129722542503, 0.26827129722542503, 0.9472327226869952, 0.2901307908470855, 0.20723627917648962, 0.08289451167059585, 0.20723627917648962, 0.08289451167059585, 0.04144725583529792, 0.08289451167059585, 0.4759205497922173, 0.4759205497922173, 0.3485769632353723, 0.3485769632353723, 0.7657241991121182, 0.7656553198428587, 0.6904345281329792, 0.9128790526709653, 0.9252658673610804, 0.4357559903146438, 0.2752143096724066, 0.06880357741810166, 0.022934525806033883, 0.022934525806033883, 0.06880357741810166, 0.09173810322413553, 0.9249276706830182, 0.6840790409272822, 0.3210361261109666, 0.6420722522219332, 0.698525150371796, 0.12397317134053246, 0.4958926853621298, 0.12397317134053246, 0.2479463426810649, 0.8395658537050831, 0.5726404381522863, 0.14316010953807157, 0.14316010953807157, 0.5442149750570617, 0.3628099833713745, 0.7090702807806833, 0.06753050293149365, 0.016882625732873413, 0.05064787719862024, 0.05064787719862024, 0.08441312866436707, 0.016882625732873413, 0.7274952632525394, 0.05596117409634919, 0.05596117409634919, 0.11192234819269838, 0.05596117409634919, 0.4420438024600068, 0.09823195610222372, 0.04911597805111186, 0.04911597805111186, 0.04911597805111186, 0.29469586830667116, 0.04911597805111186, 0.6839737865351666, 0.5480015272737097, 0.884471585781573, 0.4687849285608924, 0.41018681249078087, 0.05859811607011155, 0.5224993911883636, 0.7653069054047053, 0.6996117693601657, 0.18701262642432626, 0.18701262642432626, 0.5610378792729788, 0.6520236396241804, 0.3260118198120902, 0.43544769748723217, 0.29029846499148815, 0.05805969299829763, 0.07741292399773017, 0.009676615499716271, 0.10644277049687897, 0.029029846499148814, 0.351564752384622, 0.20507943889102948, 0.029297062698718495, 0.32226768968590347, 0.05859412539743699, 0.029297062698718495, 0.029297062698718495, 0.8845397416884015, 0.9240092825408853, 0.3420517844531196, 0.6841035689062392, 0.6657672157701066, 0.9252627654690724, 0.6840045034293836, 0.7914297823865621, 0.07914297823865621, 0.07914297823865621, 0.6839943692017095, 0.839564999625733, 0.7671446000192077, 0.029505561539200295, 0.05901112307840059, 0.029505561539200295, 0.05901112307840059, 0.05901112307840059, 0.7654322838208444, 0.8671867030264568, 0.6839516345479597, 0.7219371924667991, 0.36096859623339955, 0.18490956924785898, 0.18490956924785898, 0.554728707743577, 0.7365393690461283, 0.21662922619003772, 0.043325845238007546, 0.3436035546614027, 0.5726725911023378, 0.9241640333429499, 0.9253858038255599, 0.5328004606252199, 0.22200019192717493, 0.22200019192717493, 0.044400038385434985, 0.9239258789006514, 0.4620062323608924, 0.13588418598849777, 0.10870734879079821, 0.21741469758159643, 0.05435367439539911, 0.8669955588939517, 0.5842650636509044, 0.13837856770679313, 0.12300317129492723, 0.09225237847119543, 0.030750792823731807, 0.015375396411865904, 0.015375396411865904, 0.8395938115713469, 0.3559726621194979, 0.25426618722821276, 0.1017064748912851, 0.05085323744564255, 0.07627985616846383, 0.15255971233692767, 0.3762359631104058, 0.1612439841901739, 0.24186597628526085, 0.026873997365028983, 0.026873997365028983, 0.08062199209508696, 0.10749598946011593, 0.8394509488184768, 0.49055014661323504, 0.10901114369183, 0.32703343107549, 0.054505571845915, 0.054505571845915, 0.45890248414158047, 0.1765009554390694, 0.10590057326344164, 0.07060038217562777, 0.03530019108781388, 0.07060038217562777, 0.07060038217562777, 0.374183534372254, 0.4276383249968617, 0.10690958124921543, 0.10690958124921543, 0.9246248058762025, 0.562023910432807, 0.09634695607419548, 0.11240478208656139, 0.11240478208656139, 0.06423130404946366, 0.03211565202473183, 0.03211565202473183, 0.4518715694661378, 0.23782714182428308, 0.04756542836485662, 0.04756542836485662, 0.07134814254728493, 0.07134814254728493, 0.04756542836485662, 0.8679335884939354, 0.19923286930487968, 0.597698607914639, 0.2453135092947431, 0.061328377323685776, 0.21464932063290024, 0.061328377323685776, 0.18398513197105734, 0.21464932063290024, 0.030664188661842888, 0.6656765645374695, 0.9466245461421646, 0.8667968825075465, 0.6903623365441515, 0.44947670444799537, 0.44947670444799537, 0.9587901784590321, 0.5119914308122172, 0.21797654975173605, 0.1672843288792393, 0.05069222087249676, 0.005069222087249675, 0.03548455461074773, 0.01013844417449935, 0.665761656206532, 0.5230622929218414, 0.4252104636854069, 0.12148870391011626, 0.18223305586517438, 0.24297740782023253, 0.7095367464155228, 0.1773841866038807, 0.9324547810183151, 0.6984703244111372, 0.32076175466018786, 0.6415235093203757, 0.22671618054510337, 0.22671618054510337, 0.22671618054510337, 0.34007427081765507, 0.11335809027255168, 0.48764084046053924, 0.05418231560672658, 0.16254694682017973, 0.10836463121345316, 0.21672926242690632, 0.7654772026300415, 0.35668770030196384, 0.17834385015098192, 0.35668770030196384, 0.49539308234141727, 0.24769654117070863, 0.08256551372356954, 0.1651310274471391, 0.5073261465255551, 0.056369571836172784, 0.056369571836172784, 0.056369571836172784, 0.056369571836172784, 0.2818478591808639, 0.9306905177277501, 0.7655800490407852, 0.5718919958145453, 0.12039831490832532, 0.180597472362488, 0.03009957872708133, 0.06019915745416266, 0.03009957872708133, 0.6996429323028572, 0.6283027709592707, 0.08285311265396976, 0.10356639081746219, 0.055235408435979835, 0.04142655632698488, 0.04833098238148236, 0.04142655632698488, 0.3312908118273028, 0.22086054121820187, 0.3312908118273028, 0.8674297463506835, 0.5226628433473601, 0.24028271784202296, 0.24028271784202296, 0.24028271784202296, 0.24028271784202296, 0.16931909625288646, 0.33863819250577293, 0.16931909625288646, 0.16931909625288646, 0.6866740310633587, 0.34333701553167933, 0.3731174613592337, 0.09327936533980842, 0.2798380960194252, 0.2798380960194252, 0.8395689341986872, 0.3799563197524143, 0.3799563197524143, 0.43877012220405337, 0.17550804888162133, 0.23401073184216178, 0.08775402444081067, 0.029251341480270223, 0.029251341480270223, 0.9240067746678113, 0.6837926016119525, 0.683942127242494, 0.2537672060757605, 0.507534412151521, 0.5686816812027985, 0.28434084060139925, 0.9308127362204279, 0.9239513897010786, 0.5285044370108349, 0.0503337559057938, 0.1006675118115876, 0.12583438976448452, 0.0503337559057938, 0.1510012677173814, 0.49278677409986293, 0.06719819646816312, 0.13439639293632624, 0.13439639293632624, 0.04479879764544208, 0.08959759529088417, 0.04479879764544208, 0.887032253368797, 0.09855913926319967, 0.39961631240828294, 0.17913834694164407, 0.11023898273331943, 0.06889936420832465, 0.0964591098916545, 0.06889936420832465, 0.041339618524994785, 0.7654536290830464, 0.2586292415687371, 0.5172584831374742, 0.12931462078436856, 0.8673945177150951, 0.9133035294878872, 0.8668814720425646, 0.8843881071138346, 0.32352709413138847, 0.16176354706569424, 0.32352709413138847, 0.16176354706569424, 0.8678099700859221, 0.434268150508235, 0.26056089030494095, 0.26056089030494095, 0.08685363010164698, 0.3261627389783543, 0.6523254779567086, 0.6840642696282784, 0.9133185652993233, 0.6760781758214257, 0.33803908791071285, 0.6991988591284354, 0.8393830221068549, 0.9328696153072584, 0.8394179948143085, 0.28320077129548665, 0.28320077129548665, 0.42480115694322995, 0.7657084256778701, 0.5228040661943467, 0.6793841872741345, 0.9239375157899173, 0.2393410320530597, 0.7180230961591791, 0.17256095891516415, 0.47454263701670146, 0.17256095891516415, 0.04314023972879104, 0.12942071918637313, 0.49486478931937894, 0.3711485919895342, 0.12371619732984473, 0.7379726662053531, 0.6552836095865747, 0.2184278698621916, 0.21491179774914723, 0.21491179774914723, 0.42982359549829446, 0.7654180532467089, 0.8394282284903896, 0.6896323478194126, 0.11890212893438148, 0.07134127736062888, 0.047560851573752595, 0.023780425786876298, 0.023780425786876298, 0.7655428132145808, 0.3630367287252837, 0.12101224290842791, 0.12101224290842791, 0.3630367287252837, 0.7654830390816794, 0.613362794805147, 0.037552824171743694, 0.07510564834348739, 0.050070432228991595, 0.07510564834348739, 0.025035216114495797, 0.12517608057247898, 0.20575983667268397, 0.20575983667268397, 0.13717322444845598, 0.34293306112113997, 0.06858661222422799, 0.06858661222422799, 0.7654803646780209, 0.19914777717892973, 0.5974433315367892, 0.5273027007536135, 0.12052633160082596, 0.18078949740123892, 0.04519737435030973, 0.04519737435030973, 0.04519737435030973, 0.03013158290020649, 0.7654889986997052, 0.6656605293933866, 0.5228780196774464, 0.930757762678006, 0.398151849077993, 0.17063650674771128, 0.11375767116514085, 0.056878835582570425, 0.056878835582570425, 0.17063650674771128], \"Term\": [\"ability\", \"ability\", \"ability\", \"ability\", \"ability\", \"abomination\", \"absurd\", \"academy\", \"academy\", \"academy\", \"academy\", \"accidentally\", \"accidentally\", \"achieve\", \"action\", \"action\", \"action\", \"action\", \"action\", \"action\", \"action\", \"actually\", \"actually\", \"actually\", \"actually\", \"actually\", \"actually\", \"actually\", \"address\", \"afraid\", \"alien\", \"alien\", \"alien\", \"alone\", \"alone\", \"alone\", \"also\", \"also\", \"also\", \"also\", \"also\", \"also\", \"angry\", \"animation\", \"animation\", \"animation\", \"animation\", \"animation\", \"animation\", \"anime\", \"anime\", \"anime\", \"anime\", \"anime\", \"anime\", \"anime\", \"answer\", \"answer\", \"anyway\", \"apt\", \"archetype\", \"archetype\", \"armor\", \"art\", \"art\", \"art\", \"art\", \"art\", \"art\", \"art\", \"artstyle\", \"aside\", \"aside\", \"atmosphere\", \"atmosphere\", \"background\", \"background\", \"background\", \"background\", \"background\", \"backstorie\", \"bad\", \"bad\", \"bad\", \"bad\", \"bad\", \"bad\", \"bad\", \"badly\", \"battle\", \"battle\", \"battle\", \"battle\", \"battle\", \"battle\", \"battle\", \"be\", \"beautiful\", \"beautiful\", \"become\", \"become\", \"become\", \"become\", \"become\", \"bee\", \"big\", \"big\", \"big\", \"big\", \"big\", \"binge\", \"blade\", \"blade\", \"blend\", \"bold\", \"bond\", \"bonus\", \"bore\", \"break\", \"break\", \"break\", \"brother\", \"buildup\", \"bullet\", \"bullet\", \"buso\", \"capitalize\", \"category\", \"cg\", \"cg\", \"challenge\", \"challenge\", \"chapter\", \"character\", \"character\", \"character\", \"character\", \"character\", \"character\", \"character\", \"charlotte\", \"cheap\", \"cheap\", \"check\", \"cheesy\", \"childhood\", \"childhood\", \"choppy\", \"claire\", \"claire\", \"claire\", \"claire\", \"cliche\", \"cliche\", \"cliche\", \"cliche\", \"cliche\", \"cliff\", \"climax\", \"clingy\", \"come\", \"come\", \"come\", \"come\", \"come\", \"come\", \"commend\", \"compatibility\", \"compete\", \"compete\", \"completely\", \"completely\", \"complicate\", \"component\", \"composition\", \"connection\", \"connection\", \"consider\", \"consider\", \"cookie\", \"couple\", \"couple\", \"couple\", \"couple\", \"crap\", \"crap\", \"crap\", \"credit\", \"cross\", \"cross\", \"crush\", \"crush\", \"cute\", \"cute\", \"cutter\", \"damningly\", \"dance\", \"decide\", \"decide\", \"decide\", \"decide\", \"depend\", \"disagree\", \"disguise\", \"down\", \"dress\", \"dress\", \"dress\", \"dub\", \"dude\", \"dull\", \"dull\", \"dxd\", \"dynamic\", \"dysfunctional\", \"ecchi\", \"ecchi\", \"ecchi\", \"ecchi\", \"ecchi\", \"emilia\", \"emilia\", \"emilia\", \"emilie\", \"emotional\", \"emotional\", \"end\", \"end\", \"end\", \"end\", \"end\", \"end\", \"end\", \"enjoy\", \"enjoy\", \"enjoy\", \"enjoy\", \"enjoy\", \"enjoy\", \"enjoy\", \"enjoyment\", \"enjoyment\", \"enjoyment\", \"enjoyment\", \"enjoyment\", \"enjoyment\", \"enjoyment\", \"entrenerte\", \"environment\", \"environment\", \"environment\", \"environment\", \"epic\", \"episode\", \"episode\", \"episode\", \"episode\", \"episode\", \"episode\", \"episode\", \"error\", \"especially\", \"especially\", \"especially\", \"even\", \"even\", \"even\", \"even\", \"even\", \"even\", \"every_single\", \"every_single\", \"every_single\", \"evolve\", \"exam\", \"excuse\", \"expect\", \"expect\", \"expect\", \"expect\", \"expect\", \"expense\", \"explode\", \"explode\", \"eye\", \"eye\", \"eye\", \"eye\", \"facepalm\", \"faction\", \"fafnir\", \"fall\", \"fall\", \"fall\", \"fanservice\", \"fanservice\", \"fanservice\", \"fanservice\", \"fanservice\", \"far\", \"far\", \"far\", \"far\", \"favorite\", \"favorite\", \"favorite\", \"feel\", \"feel\", \"feel\", \"feel\", \"feel\", \"feel\", \"feel\", \"fight\", \"fight\", \"fight\", \"fight\", \"fight\", \"final\", \"final\", \"final\", \"final\", \"final\", \"final\", \"finale\", \"find\", \"find\", \"find\", \"find\", \"find\", \"first\", \"first\", \"first\", \"first\", \"first\", \"first\", \"first\", \"fix\", \"flirt\", \"forgettable\", \"forgettable\", \"forgettable\", \"forgettable\", \"frame\", \"frame\", \"frame\", \"frankenstein\", \"franxx\", \"front\", \"generic\", \"generic\", \"generic\", \"generic\", \"generic\", \"generically\", \"genre\", \"genre\", \"genre\", \"genre\", \"genre\", \"get\", \"get\", \"get\", \"get\", \"get\", \"get\", \"get\", \"girl\", \"girl\", \"girl\", \"girl\", \"girl\", \"girl\", \"girl\", \"give\", \"give\", \"give\", \"give\", \"give\", \"give\", \"give\", \"giving\", \"glaring\", \"go\", \"go\", \"go\", \"go\", \"go\", \"go\", \"go\", \"gon\", \"gon\", \"gon\", \"gon\", \"good\", \"good\", \"good\", \"good\", \"good\", \"good\", \"good\", \"goosebump\", \"grand\", \"great\", \"great\", \"great\", \"great\", \"great\", \"great\", \"grope\", \"grope\", \"ground\", \"ground\", \"guinea\", \"guy\", \"guy\", \"guy\", \"guy\", \"guy\", \"haired\", \"haired\", \"hand\", \"hand\", \"hand\", \"hand\", \"hanger\", \"hangover\", \"harem\", \"harem\", \"harem\", \"harem\", \"harem\", \"harem\", \"harem\", \"hayato\", \"hayato\", \"hayato\", \"hayato\", \"hayato\", \"heh\", \"helpful_read\", \"helpful_read\", \"hero\", \"hidden\", \"high\", \"high\", \"high\", \"high\", \"high\", \"honestly\", \"honestly\", \"huge\", \"humor\", \"humor\", \"hunter\", \"hyakka\", \"idea\", \"idea\", \"idea\", \"idea\", \"imo\", \"inanimate\", \"incoming\", \"incredibly\", \"incredibly\", \"indication\", \"induce\", \"inevitable\", \"infect\", \"infect\", \"insight\", \"interest\", \"interest\", \"interest\", \"interest\", \"interesting\", \"interesting\", \"interesting\", \"introduce\", \"introduce\", \"introduce\", \"introduce\", \"invade\", \"invade\", \"jar\", \"jarring\", \"joke\", \"joke\", \"jumpsuit\", \"juuou\", \"keep\", \"keep\", \"keep\", \"keep\", \"keep\", \"keep\", \"kid\", \"kid\", \"kid\", \"kid\", \"kill\", \"kill\", \"kill\", \"kill\", \"kill\", \"kind\", \"kind\", \"kind\", \"kind\", \"kind\", \"kind\", \"kisaragi_hayato\", \"know\", \"know\", \"know\", \"know\", \"know\", \"know\", \"know\", \"kun\", \"kun\", \"kun\", \"kuusen\", \"kyoani\", \"la\", \"large\", \"large\", \"least\", \"least\", \"least\", \"least\", \"leg\", \"lighthearte\", \"like\", \"like\", \"like\", \"like\", \"like\", \"like\", \"literally\", \"literally\", \"literally\", \"literally\", \"little\", \"little\", \"little\", \"little\", \"little\", \"little\", \"little_garden\", \"little_garden\", \"little_garden\", \"liza\", \"loli\", \"loli\", \"look\", \"look\", \"look\", \"look\", \"look\", \"look\", \"loooooooooooot\", \"loose\", \"lot\", \"lot\", \"lot\", \"lot\", \"lot\", \"lot\", \"love\", \"love\", \"love\", \"love\", \"love\", \"love\", \"love\", \"low\", \"low\", \"lull\", \"mad\", \"mad\", \"main\", \"main\", \"main\", \"main\", \"main\", \"main\", \"main\", \"majority\", \"make\", \"make\", \"make\", \"make\", \"make\", \"make\", \"make\", \"man\", \"many\", \"many\", \"many\", \"many\", \"many\", \"many\", \"matter\", \"matter\", \"maybe\", \"maybe\", \"maybe\", \"maybe\", \"maybe\", \"maybe\", \"mc\", \"mc\", \"mc\", \"mc\", \"meaningful\", \"mecha\", \"mecha\", \"mecha\", \"mecha\", \"mecha\", \"midpoint\", \"mill\", \"mood\", \"much\", \"much\", \"much\", \"much\", \"much\", \"much\", \"mujin\", \"musical\", \"musical\", \"musume\", \"mysterious\", \"mystery\", \"mystery\", \"nakri\", \"name\", \"name\", \"name\", \"nerve\", \"never\", \"never\", \"never\", \"never\", \"never\", \"never\", \"never\", \"new\", \"new\", \"new\", \"new\", \"new\", \"new\", \"noticeable\", \"number\", \"number\", \"obviously\", \"occur\", \"occur\", \"often\", \"often\", \"okay\", \"op\", \"op\", \"op\", \"opening\", \"opening\", \"opening\", \"oppai\", \"option\", \"option\", \"other\", \"other\", \"overall\", \"overall\", \"overall\", \"overall\", \"overall\", \"overall\", \"overall\", \"painfully\", \"part\", \"part\", \"part\", \"part\", \"part\", \"particular\", \"pass\", \"pass\", \"pass\", \"pass\", \"paste\", \"people\", \"people\", \"people\", \"people\", \"people\", \"people\", \"people\", \"perfect\", \"perfect\", \"perfectly\", \"perfectly\", \"personalty\", \"personly\", \"pervy\", \"pilot\", \"plan\", \"plot\", \"plot\", \"plot\", \"plot\", \"plot\", \"plot\", \"plot\", \"pointless\", \"portrayal\", \"position\", \"position\", \"possess\", \"potential\", \"potential\", \"potential\", \"potential\", \"predicate\", \"predictable\", \"predictable\", \"predictable\", \"pretend\", \"pretend\", \"pretty\", \"pretty\", \"pretty\", \"pretty\", \"pretty\", \"pretty\", \"pretty\", \"probably\", \"probably\", \"probably\", \"probably\", \"probably\", \"problem\", \"problem\", \"problem\", \"problem\", \"problem\", \"problem\", \"problem\", \"problematic\", \"producer\", \"properly\", \"protagonist\", \"protagonist\", \"protagonist\", \"puking\", \"punish\", \"pussy\", \"random\", \"random\", \"random\", \"range\", \"range\", \"really\", \"really\", \"really\", \"really\", \"really\", \"really\", \"really\", \"reason\", \"reason\", \"reason\", \"reason\", \"reason\", \"reason\", \"reason\", \"receive\", \"recognize\", \"red\", \"red\", \"redeem\", \"regard\", \"regret\", \"remember\", \"remember\", \"remember\", \"renkin\", \"repeatedly\", \"review\", \"review\", \"review\", \"review\", \"review\", \"review\", \"rewatche\", \"riddled\", \"ripoff\", \"rival\", \"rival\", \"robot\", \"robot\", \"robot\", \"romance\", \"romance\", \"romance\", \"run\", \"run\", \"ryoran\", \"saga\", \"sakura\", \"sakura\", \"sakura\", \"sakura\", \"samurai\", \"savage\", \"savage\", \"savage\", \"savage\", \"savage\", \"savvy\", \"say\", \"say\", \"say\", \"say\", \"say\", \"say\", \"say\", \"scarecrow\", \"scene\", \"scene\", \"scene\", \"scene\", \"scene\", \"scene\", \"school\", \"school\", \"school\", \"school\", \"school\", \"school\", \"school\", \"science\", \"score\", \"score\", \"score\", \"score\", \"score\", \"season\", \"season\", \"season\", \"season\", \"season\", \"season\", \"season\", \"second\", \"second\", \"second\", \"second\", \"section\", \"see\", \"see\", \"see\", \"see\", \"see\", \"see\", \"see\", \"seem\", \"seem\", \"seem\", \"seem\", \"seem\", \"seem\", \"seem\", \"segment\", \"sell\", \"sell\", \"series\", \"series\", \"series\", \"series\", \"series\", \"series\", \"series\", \"setting\", \"several\", \"shade\", \"shifty\", \"shine\", \"shine\", \"shounen\", \"show\", \"show\", \"show\", \"show\", \"show\", \"show\", \"show\", \"shroud\", \"skilled\", \"slayer\", \"slayer\", \"slayer\", \"slayer\", \"slow\", \"slow\", \"smile\", \"soft\", \"solid\", \"solid\", \"sometimes\", \"sometimes\", \"sometimes\", \"sometimes\", \"sometimes\", \"song\", \"song\", \"song\", \"song\", \"song\", \"soo\", \"speak\", \"speak\", \"speak\", \"special\", \"special\", \"special\", \"special\", \"spoiler\", \"spoiler\", \"spoiler\", \"spoiler\", \"spoiler\", \"spoiler\", \"spout\", \"srsly\", \"still\", \"still\", \"still\", \"still\", \"still\", \"still\", \"stilte\", \"story\", \"story\", \"story\", \"story\", \"story\", \"story\", \"story\", \"strong\", \"strong\", \"strong\", \"stuck\", \"sub\", \"suggest\", \"suggest\", \"suggest\", \"suggest\", \"super\", \"super\", \"super\", \"super\", \"supernatural\", \"supernatural\", \"suppose\", \"suppose\", \"suppose\", \"suppose\", \"survivor\", \"tag\", \"tag\", \"take\", \"take\", \"take\", \"take\", \"take\", \"take\", \"talented\", \"tarot\", \"template\", \"tend\", \"tend\", \"tension\", \"tension\", \"theoretically\", \"thick\", \"thing\", \"thing\", \"thing\", \"thing\", \"thing\", \"thing\", \"think\", \"think\", \"think\", \"think\", \"think\", \"think\", \"think\", \"thought\", \"thought\", \"time\", \"time\", \"time\", \"time\", \"time\", \"time\", \"time\", \"tipical\", \"tone\", \"tone\", \"tone\", \"toshi\", \"touch\", \"trend\", \"triangle\", \"trope\", \"trope\", \"trope\", \"trope\", \"turd\", \"turn\", \"turn\", \"turn\", \"turn\", \"twice\", \"twice\", \"ultimate\", \"understand\", \"uniform\", \"uniform\", \"unnecessary\", \"uptake\", \"usual\", \"utilize\", \"variant\", \"variant\", \"variant\", \"varied\", \"ve\", \"version\", \"vibe\", \"viewer\", \"viewer\", \"villain\", \"villain\", \"villain\", \"villain\", \"villain\", \"virus\", \"virus\", \"virus\", \"vision\", \"visually\", \"visually\", \"voice_actor\", \"voice_actor\", \"voice_actor\", \"wae\", \"wall\", \"want\", \"want\", \"want\", \"want\", \"want\", \"want\", \"wapping\", \"war\", \"war\", \"war\", \"war\", \"wasss\", \"watch\", \"watch\", \"watch\", \"watch\", \"watch\", \"watch\", \"watch\", \"weapon\", \"weapon\", \"weapon\", \"weapon\", \"weapon\", \"weapon\", \"weekend\", \"weight\", \"weight\", \"well\", \"well\", \"well\", \"well\", \"well\", \"well\", \"well\", \"whitch\", \"white\", \"wink\", \"winner\", \"work\", \"work\", \"work\", \"work\", \"work\", \"work\"]}, \"R\": 30, \"lambda.step\": 0.01, \"plot.opts\": {\"xlab\": \"PC1\", \"ylab\": \"PC2\"}, \"topic.order\": [8, 5, 4, 3, 6, 1, 2, 7]};\n",
       "\n",
       "function LDAvis_load_lib(url, callback){\n",
       "  var s = document.createElement('script');\n",
       "  s.src = url;\n",
       "  s.async = true;\n",
       "  s.onreadystatechange = s.onload = callback;\n",
       "  s.onerror = function(){console.warn(\"failed to load library \" + url);};\n",
       "  document.getElementsByTagName(\"head\")[0].appendChild(s);\n",
       "}\n",
       "\n",
       "if(typeof(LDAvis) !== \"undefined\"){\n",
       "   // already loaded: just create the visualization\n",
       "   !function(LDAvis){\n",
       "       new LDAvis(\"#\" + \"ldavis_el608829729496485443593120457\", ldavis_el608829729496485443593120457_data);\n",
       "   }(LDAvis);\n",
       "}else if(typeof define === \"function\" && define.amd){\n",
       "   // require.js is available: use it to load d3/LDAvis\n",
       "   require.config({paths: {d3: \"https://d3js.org/d3.v5\"}});\n",
       "   require([\"d3\"], function(d3){\n",
       "      window.d3 = d3;\n",
       "      LDAvis_load_lib(\"https://cdn.jsdelivr.net/gh/bmabey/pyLDAvis@3.3.1/pyLDAvis/js/ldavis.v3.0.0.js\", function(){\n",
       "        new LDAvis(\"#\" + \"ldavis_el608829729496485443593120457\", ldavis_el608829729496485443593120457_data);\n",
       "      });\n",
       "    });\n",
       "}else{\n",
       "    // require.js not available: dynamically load d3 & LDAvis\n",
       "    LDAvis_load_lib(\"https://d3js.org/d3.v5.js\", function(){\n",
       "         LDAvis_load_lib(\"https://cdn.jsdelivr.net/gh/bmabey/pyLDAvis@3.3.1/pyLDAvis/js/ldavis.v3.0.0.js\", function(){\n",
       "                 new LDAvis(\"#\" + \"ldavis_el608829729496485443593120457\", ldavis_el608829729496485443593120457_data);\n",
       "            })\n",
       "         });\n",
       "}\n",
       "</script>"
      ],
      "text/plain": [
       "PreparedData(topic_coordinates=              x         y  topics  cluster       Freq\n",
       "topic                                                \n",
       "7     -0.038773  0.010076       1        1  46.988901\n",
       "4     -0.091124  0.040362       2        1  14.940746\n",
       "3     -0.056979 -0.080059       3        1  10.655105\n",
       "2      0.020842  0.118242       4        1   8.445044\n",
       "5      0.039506  0.006906       5        1   7.227844\n",
       "0     -0.042896 -0.038047       6        1   7.062390\n",
       "1      0.083982 -0.033424       7        1   4.146114\n",
       "6      0.085442 -0.024056       8        1   0.533856, topic_info=          Term        Freq       Total Category  logprob  loglift\n",
       "10       anime  199.000000  199.000000  Default  30.0000  30.0000\n",
       "33   character  276.000000  276.000000  Default  29.0000  29.0000\n",
       "246      watch   79.000000   79.000000  Default  28.0000  28.0000\n",
       "211       show  197.000000  197.000000  Default  27.0000  27.0000\n",
       "225      story  144.000000  144.000000  Default  26.0000  26.0000\n",
       "..         ...         ...         ...      ...      ...      ...\n",
       "441      thing    0.329544   39.734766   Topic8  -5.3456   0.4405\n",
       "225      story    0.457010  144.834631   Topic8  -5.0186  -0.5258\n",
       "10       anime    0.449232  199.300071   Topic8  -5.0357  -0.8622\n",
       "180     pretty    0.316180   59.232492   Topic8  -5.3870  -0.0001\n",
       "33   character    0.182335  276.214837   Topic8  -5.9374  -2.0903\n",
       "\n",
       "[595 rows x 6 columns], token_table=      Topic      Freq     Term\n",
       "term                          \n",
       "634       1  0.425171  ability\n",
       "634       2  0.106293  ability\n",
       "634       4  0.106293  ability\n",
       "634       5  0.212586  ability\n",
       "634       7  0.212586  ability\n",
       "...     ...       ...      ...\n",
       "251       2  0.170637     work\n",
       "251       3  0.113758     work\n",
       "251       4  0.056879     work\n",
       "251       5  0.056879     work\n",
       "251       6  0.170637     work\n",
       "\n",
       "[1108 rows x 3 columns], R=30, lambda_step=0.01, plot_opts={'xlab': 'PC1', 'ylab': 'PC2'}, topic_order=[8, 5, 4, 3, 6, 1, 2, 7])"
      ]
     },
     "execution_count": 22,
     "metadata": {},
     "output_type": "execute_result"
    }
   ],
   "source": [
    "# Generate a visualization of the topic models\n",
    "\n",
    "import pyLDAvis.gensim_models\n",
    "pyLDAvis.enable_notebook()\n",
    "vis = pyLDAvis.gensim_models.prepare(lda_model, corpus, id2word)\n",
    "vis"
   ]
  },
  {
   "cell_type": "code",
   "execution_count": 23,
   "metadata": {},
   "outputs": [],
   "source": [
    "# Save the data frame as a CSV file\n",
    "# job_datas.to_csv(r'D:\\UMD Senior College Work\\Spring 2021\\INST447-0101\\Programming Assignment 2\\Chan_Matthew_INST447_PA2.csv')"
   ]
  },
  {
   "cell_type": "code",
   "execution_count": 24,
   "metadata": {},
   "outputs": [],
   "source": [
    "# Week 9 Topic Modelling\n",
    "# ner_corpus = ' '.join(ner_df['Name'])\n",
    "# corp = open(r'D:\\UMD Senior College Work\\Spring 2021\\INST447-0101\\Week 9\\corpus.txt',\"w\")\n",
    "# corp.writelines(ner_corpus)\n",
    "# corp.close()"
   ]
  },
  {
   "cell_type": "code",
   "execution_count": null,
   "metadata": {},
   "outputs": [],
   "source": []
  },
  {
   "cell_type": "code",
   "execution_count": null,
   "metadata": {},
   "outputs": [],
   "source": []
  },
  {
   "cell_type": "code",
   "execution_count": null,
   "metadata": {},
   "outputs": [],
   "source": []
  },
  {
   "cell_type": "code",
   "execution_count": null,
   "metadata": {},
   "outputs": [],
   "source": []
  },
  {
   "cell_type": "code",
   "execution_count": null,
   "metadata": {},
   "outputs": [],
   "source": []
  },
  {
   "cell_type": "code",
   "execution_count": null,
   "metadata": {},
   "outputs": [],
   "source": []
  },
  {
   "cell_type": "code",
   "execution_count": null,
   "metadata": {},
   "outputs": [],
   "source": []
  },
  {
   "cell_type": "code",
   "execution_count": null,
   "metadata": {},
   "outputs": [],
   "source": []
  }
 ],
 "metadata": {
  "kernelspec": {
   "display_name": "Python 3",
   "language": "python",
   "name": "python3"
  },
  "language_info": {
   "codemirror_mode": {
    "name": "ipython",
    "version": 3
   },
   "file_extension": ".py",
   "mimetype": "text/x-python",
   "name": "python",
   "nbconvert_exporter": "python",
   "pygments_lexer": "ipython3",
   "version": "3.8.5"
  }
 },
 "nbformat": 4,
 "nbformat_minor": 4
}
