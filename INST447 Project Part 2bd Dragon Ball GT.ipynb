{
 "cells": [
  {
   "cell_type": "markdown",
   "metadata": {},
   "source": [
    "### INST447 Project Part 2\n",
    "#### Members: Alexander Chui and Matthew Chan"
   ]
  },
  {
   "cell_type": "markdown",
   "metadata": {},
   "source": [
    "### What factors affect ratings for an anime?"
   ]
  },
  {
   "cell_type": "code",
   "execution_count": 1,
   "metadata": {},
   "outputs": [],
   "source": [
    "import warnings\n",
    "warnings.filterwarnings('ignore')"
   ]
  },
  {
   "cell_type": "code",
   "execution_count": 2,
   "metadata": {},
   "outputs": [],
   "source": [
    "#Importing the required libraries\n",
    "import pandas as pd\n",
    "from bs4 import BeautifulSoup\n",
    "from urllib.request import urlopen \n",
    "import numpy as np\n",
    "from requests import get"
   ]
  },
  {
   "cell_type": "code",
   "execution_count": 3,
   "metadata": {},
   "outputs": [],
   "source": [
    "#libraries imported for handling rate limits and console formatting\n",
    "from time import time, sleep\n",
    "from random import randint\n",
    "from warnings import warn\n",
    "from IPython.core.display import clear_output"
   ]
  },
  {
   "cell_type": "code",
   "execution_count": 4,
   "metadata": {},
   "outputs": [
    {
     "name": "stderr",
     "output_type": "stream",
     "text": [
      "C:\\Users\\MaNinjaChan\\anaconda3\\lib\\site-packages\\sklearn\\linear_model\\_least_angle.py:34: DeprecationWarning: `np.float` is a deprecated alias for the builtin `float`. To silence this warning, use `float` by itself. Doing this will not modify any behavior and is safe. If you specifically wanted the numpy scalar type, use `np.float64` here.\n",
      "Deprecated in NumPy 1.20; for more details and guidance: https://numpy.org/devdocs/release/1.20.0-notes.html#deprecations\n",
      "  method='lar', copy_X=True, eps=np.finfo(np.float).eps,\n",
      "C:\\Users\\MaNinjaChan\\anaconda3\\lib\\site-packages\\sklearn\\linear_model\\_least_angle.py:164: DeprecationWarning: `np.float` is a deprecated alias for the builtin `float`. To silence this warning, use `float` by itself. Doing this will not modify any behavior and is safe. If you specifically wanted the numpy scalar type, use `np.float64` here.\n",
      "Deprecated in NumPy 1.20; for more details and guidance: https://numpy.org/devdocs/release/1.20.0-notes.html#deprecations\n",
      "  method='lar', copy_X=True, eps=np.finfo(np.float).eps,\n",
      "C:\\Users\\MaNinjaChan\\anaconda3\\lib\\site-packages\\sklearn\\linear_model\\_least_angle.py:281: DeprecationWarning: `np.float` is a deprecated alias for the builtin `float`. To silence this warning, use `float` by itself. Doing this will not modify any behavior and is safe. If you specifically wanted the numpy scalar type, use `np.float64` here.\n",
      "Deprecated in NumPy 1.20; for more details and guidance: https://numpy.org/devdocs/release/1.20.0-notes.html#deprecations\n",
      "  eps=np.finfo(np.float).eps, copy_Gram=True, verbose=0,\n",
      "C:\\Users\\MaNinjaChan\\anaconda3\\lib\\site-packages\\sklearn\\linear_model\\_least_angle.py:865: DeprecationWarning: `np.float` is a deprecated alias for the builtin `float`. To silence this warning, use `float` by itself. Doing this will not modify any behavior and is safe. If you specifically wanted the numpy scalar type, use `np.float64` here.\n",
      "Deprecated in NumPy 1.20; for more details and guidance: https://numpy.org/devdocs/release/1.20.0-notes.html#deprecations\n",
      "  eps=np.finfo(np.float).eps, copy_X=True, fit_path=True,\n",
      "C:\\Users\\MaNinjaChan\\anaconda3\\lib\\site-packages\\sklearn\\linear_model\\_least_angle.py:1121: DeprecationWarning: `np.float` is a deprecated alias for the builtin `float`. To silence this warning, use `float` by itself. Doing this will not modify any behavior and is safe. If you specifically wanted the numpy scalar type, use `np.float64` here.\n",
      "Deprecated in NumPy 1.20; for more details and guidance: https://numpy.org/devdocs/release/1.20.0-notes.html#deprecations\n",
      "  eps=np.finfo(np.float).eps, copy_X=True, fit_path=True,\n",
      "C:\\Users\\MaNinjaChan\\anaconda3\\lib\\site-packages\\sklearn\\linear_model\\_least_angle.py:1149: DeprecationWarning: `np.float` is a deprecated alias for the builtin `float`. To silence this warning, use `float` by itself. Doing this will not modify any behavior and is safe. If you specifically wanted the numpy scalar type, use `np.float64` here.\n",
      "Deprecated in NumPy 1.20; for more details and guidance: https://numpy.org/devdocs/release/1.20.0-notes.html#deprecations\n",
      "  eps=np.finfo(np.float).eps, positive=False):\n",
      "C:\\Users\\MaNinjaChan\\anaconda3\\lib\\site-packages\\sklearn\\linear_model\\_least_angle.py:1379: DeprecationWarning: `np.float` is a deprecated alias for the builtin `float`. To silence this warning, use `float` by itself. Doing this will not modify any behavior and is safe. If you specifically wanted the numpy scalar type, use `np.float64` here.\n",
      "Deprecated in NumPy 1.20; for more details and guidance: https://numpy.org/devdocs/release/1.20.0-notes.html#deprecations\n",
      "  max_n_alphas=1000, n_jobs=None, eps=np.finfo(np.float).eps,\n",
      "C:\\Users\\MaNinjaChan\\anaconda3\\lib\\site-packages\\sklearn\\linear_model\\_least_angle.py:1621: DeprecationWarning: `np.float` is a deprecated alias for the builtin `float`. To silence this warning, use `float` by itself. Doing this will not modify any behavior and is safe. If you specifically wanted the numpy scalar type, use `np.float64` here.\n",
      "Deprecated in NumPy 1.20; for more details and guidance: https://numpy.org/devdocs/release/1.20.0-notes.html#deprecations\n",
      "  max_n_alphas=1000, n_jobs=None, eps=np.finfo(np.float).eps,\n",
      "C:\\Users\\MaNinjaChan\\anaconda3\\lib\\site-packages\\sklearn\\linear_model\\_least_angle.py:1755: DeprecationWarning: `np.float` is a deprecated alias for the builtin `float`. To silence this warning, use `float` by itself. Doing this will not modify any behavior and is safe. If you specifically wanted the numpy scalar type, use `np.float64` here.\n",
      "Deprecated in NumPy 1.20; for more details and guidance: https://numpy.org/devdocs/release/1.20.0-notes.html#deprecations\n",
      "  eps=np.finfo(np.float).eps, copy_X=True, positive=False):\n",
      "C:\\Users\\MaNinjaChan\\anaconda3\\lib\\site-packages\\sklearn\\decomposition\\_lda.py:28: DeprecationWarning: `np.float` is a deprecated alias for the builtin `float`. To silence this warning, use `float` by itself. Doing this will not modify any behavior and is safe. If you specifically wanted the numpy scalar type, use `np.float64` here.\n",
      "Deprecated in NumPy 1.20; for more details and guidance: https://numpy.org/devdocs/release/1.20.0-notes.html#deprecations\n",
      "  EPS = np.finfo(np.float).eps\n",
      "C:\\Users\\MaNinjaChan\\anaconda3\\lib\\site-packages\\sklearn\\feature_extraction\\image.py:172: DeprecationWarning: `np.int` is a deprecated alias for the builtin `int`. To silence this warning, use `int` by itself. Doing this will not modify any behavior and is safe. When replacing `np.int`, you may wish to use e.g. `np.int64` or `np.int32` to specify the precision. If you wish to review your current use, check the release note link for additional information.\n",
      "Deprecated in NumPy 1.20; for more details and guidance: https://numpy.org/devdocs/release/1.20.0-notes.html#deprecations\n",
      "  dtype=np.int):\n"
     ]
    }
   ],
   "source": [
    "import regex as re\n",
    "\n",
    "# Gensim\n",
    "import gensim\n",
    "import gensim.corpora as corpora\n",
    "from gensim.utils import simple_preprocess\n",
    "\n",
    "# spacy for lemmatization\n",
    "import spacy\n",
    "\n",
    "# Plotting tools\n",
    "import pyLDAvis\n",
    "\n",
    "import nltk; "
   ]
  },
  {
   "cell_type": "code",
   "execution_count": 5,
   "metadata": {},
   "outputs": [],
   "source": [
    "# NLTK Stop words\n",
    "from nltk.corpus import stopwords\n",
    "stop_words = stopwords.words('english')\n",
    "stop_words.extend(['from', 'subject', 're', 'edu', 'use'])"
   ]
  },
  {
   "cell_type": "code",
   "execution_count": 6,
   "metadata": {},
   "outputs": [],
   "source": [
    "#Connecting to the URL on the web to access its content (Crunchyroll)\n",
    "# html=urlopen('https://www.crunchyroll.com/fullmetal-alchemist-brotherhood/reviews/helpful/page1')\n",
    "# html.status"
   ]
  },
  {
   "cell_type": "code",
   "execution_count": 7,
   "metadata": {},
   "outputs": [
    {
     "data": {
      "text/plain": [
       "200"
      ]
     },
     "execution_count": 7,
     "metadata": {},
     "output_type": "execute_result"
    }
   ],
   "source": [
    "#Connecting to the URL on the web to access its content (MAL)\n",
    "html=urlopen('https://myanimelist.net/anime/225/Dragon_Ball_GT/reviews?p=1')\n",
    "html.status"
   ]
  },
  {
   "cell_type": "code",
   "execution_count": 8,
   "metadata": {},
   "outputs": [],
   "source": [
    "#Creating an instance of beautifulsoup object to begin web scraping\n",
    "bs=BeautifulSoup(html.read(),'html.parser')"
   ]
  },
  {
   "cell_type": "code",
   "execution_count": 9,
   "metadata": {},
   "outputs": [
    {
     "name": "stdout",
     "output_type": "stream",
     "text": [
      "20\n"
     ]
    }
   ],
   "source": [
    "#Acessing the container objects with the anime info \n",
    "anime_review_containers = bs.find_all('div', {'class':{'borderDark'}})\n",
    "print(len(anime_review_containers))"
   ]
  },
  {
   "cell_type": "code",
   "execution_count": 10,
   "metadata": {},
   "outputs": [],
   "source": [
    "#Creating empty lists to store all the items \n",
    "review = []"
   ]
  },
  {
   "cell_type": "code",
   "execution_count": 11,
   "metadata": {},
   "outputs": [],
   "source": [
    "# Preparing the monitoring of the loop\n",
    "start_time = time()\n",
    "request = 0"
   ]
  },
  {
   "cell_type": "code",
   "execution_count": 12,
   "metadata": {},
   "outputs": [],
   "source": [
    "#Extracting each job name in loop\n",
    "for page in range(1,3):\n",
    "    # Make a get request\n",
    "        #https://myanimelist.net/anime/genre/1/Action?page=1\n",
    "        #https://myanimelist.net/anime/genre/1/Action?page=2\n",
    "        response = get('https://myanimelist.net/anime/225/Dragon_Ball_GT/reviews?p='+ str(page))\n",
    "        \n",
    "#         # Pause the loop\n",
    "#         sleep(randint(8,15))\n",
    "\n",
    "#         # Monitor the requests\n",
    "#         request += 1\n",
    "#         elapsed_time = time() - start_time\n",
    "#         print('Request:{}; Frequency: {} requests/s'.format(request, \n",
    "#                                                             request/elapsed_time))\n",
    "#         clear_output(wait = True)\n",
    "\n",
    "#         # Throw a warning for non-200 status codes\n",
    "#         if response.status_code != 200:\n",
    "#             warn('Request: {}; Status code: {}'.format(request, \n",
    "#                                                        response.status_code))\n",
    "\n",
    "#         # Break the loop if the number of requests is greater than expected\n",
    "#         if request > 100:\n",
    "#             warn('Number of requests was greater than expected.')\n",
    "#             break\n",
    "        \n",
    "        # Parse the content of the request with BeautifulSoup\n",
    "        bs = BeautifulSoup(response.text, 'html.parser')\n",
    "        \n",
    "        #Acessing the container objects with the anime info \n",
    "        anime_review_containers = bs.find_all('div', {'class':{'borderDark'}})\n",
    "\n",
    "        #Extracting all the elements \n",
    "        for container in anime_review_containers:\n",
    "        # If the movie has Metascore, then extract:\n",
    "        #  if container.find('div', {'class':{'scoremem'}})  is not None:\n",
    "        \n",
    "        # The name of anime\n",
    "            try: \n",
    "                reviews = container.find('div', {'class':'spaceit textReadability word-break pt8 mt8'})\n",
    "                review.append(reviews.text)\n",
    "            except:\n",
    "                review.append('Missing')"
   ]
  },
  {
   "cell_type": "code",
   "execution_count": 13,
   "metadata": {},
   "outputs": [
    {
     "name": "stdout",
     "output_type": "stream",
     "text": [
      "<class 'pandas.core.frame.DataFrame'>\n",
      "RangeIndex: 40 entries, 0 to 39\n",
      "Data columns (total 1 columns):\n",
      " #   Column  Non-Null Count  Dtype \n",
      "---  ------  --------------  ----- \n",
      " 0   Review  40 non-null     object\n",
      "dtypes: object(1)\n",
      "memory usage: 448.0+ bytes\n",
      "None\n"
     ]
    }
   ],
   "source": [
    "#Creating a pandas dataframe to store the objects extracted\n",
    "anime_review = pd.DataFrame({'Review': review\n",
    "})\n",
    "print(anime_review.info())"
   ]
  },
  {
   "cell_type": "code",
   "execution_count": 14,
   "metadata": {},
   "outputs": [
    {
     "data": {
      "text/html": [
       "<div>\n",
       "<style scoped>\n",
       "    .dataframe tbody tr th:only-of-type {\n",
       "        vertical-align: middle;\n",
       "    }\n",
       "\n",
       "    .dataframe tbody tr th {\n",
       "        vertical-align: top;\n",
       "    }\n",
       "\n",
       "    .dataframe thead th {\n",
       "        text-align: right;\n",
       "    }\n",
       "</style>\n",
       "<table border=\"1\" class=\"dataframe\">\n",
       "  <thead>\n",
       "    <tr style=\"text-align: right;\">\n",
       "      <th></th>\n",
       "      <th>Review</th>\n",
       "    </tr>\n",
       "  </thead>\n",
       "  <tbody>\n",
       "    <tr>\n",
       "      <th>0</th>\n",
       "      <td>\\n\\n\\n\\nOverall\\n4\\n\\n\\nStory\\n3\\n\\n\\nAnimatio...</td>\n",
       "    </tr>\n",
       "    <tr>\n",
       "      <th>1</th>\n",
       "      <td>\\n\\n\\n\\nOverall\\n6\\n\\n\\nStory\\n4\\n\\n\\nAnimatio...</td>\n",
       "    </tr>\n",
       "    <tr>\n",
       "      <th>2</th>\n",
       "      <td>\\n\\n\\n\\nOverall\\n7\\n\\n\\nStory\\n7\\n\\n\\nAnimatio...</td>\n",
       "    </tr>\n",
       "    <tr>\n",
       "      <th>3</th>\n",
       "      <td>\\n\\n\\n\\nOverall\\n4\\n\\n\\nStory\\n4\\n\\n\\nAnimatio...</td>\n",
       "    </tr>\n",
       "    <tr>\n",
       "      <th>4</th>\n",
       "      <td>\\n\\n\\n\\nOverall\\n3\\n\\n\\nStory\\n3\\n\\n\\nAnimatio...</td>\n",
       "    </tr>\n",
       "  </tbody>\n",
       "</table>\n",
       "</div>"
      ],
      "text/plain": [
       "                                              Review\n",
       "0  \\n\\n\\n\\nOverall\\n4\\n\\n\\nStory\\n3\\n\\n\\nAnimatio...\n",
       "1  \\n\\n\\n\\nOverall\\n6\\n\\n\\nStory\\n4\\n\\n\\nAnimatio...\n",
       "2  \\n\\n\\n\\nOverall\\n7\\n\\n\\nStory\\n7\\n\\n\\nAnimatio...\n",
       "3  \\n\\n\\n\\nOverall\\n4\\n\\n\\nStory\\n4\\n\\n\\nAnimatio...\n",
       "4  \\n\\n\\n\\nOverall\\n3\\n\\n\\nStory\\n3\\n\\n\\nAnimatio..."
      ]
     },
     "execution_count": 14,
     "metadata": {},
     "output_type": "execute_result"
    }
   ],
   "source": [
    "# Display the top 5 rows of dataset\n",
    "anime_review.head()"
   ]
  },
  {
   "cell_type": "code",
   "execution_count": 15,
   "metadata": {},
   "outputs": [
    {
     "name": "stdout",
     "output_type": "stream",
     "text": [
      " Overall 4 Story 3 Animation 5 Sound 6 Character 4 Enjoyment 0 Oh boy, I'm stepping into unholy ground here! This review will be going into just about every plot hole, very F up, just about everything that is terrible and wrong in DBGT that I can find or remember. *Just so you know, I am a GIGANTIC DBZ FANBOY, and I do know DBZ isn't \"perfect\" and yes this review is nothing but a whinny nit-picking troll intended bash fest, so if you hate reading about hate or if you are not familiar with the majority of dragonball and most of the stuff that accurs before GT cause this review will spoil most of the \"plot\" of GT, then go ahead and click unhelpful * STORY: Sequels, well they usually give justice to the original, or remind you that the original is as good as it gets. Dragonball Z, anime franchise king, the big long winded battle, overrated fail, BEST ANIME EVAR!!, whatever your take on DBZ is, you can not deny it's popularity, calling it a household name in Japan (And around the world) is more than an understatement. Probably the best best comparison I can made is: DBZ is like Mario, everyone knows what is it is. And of course one thing always happens when a series becomes popular, a sequel is made. I remember when I found out about Dragonball GT, I went crazy! Fanboying like no tomorrow, but I was young and very easy to impress, and there was a side to me that wished DBZ never ended, and that Goku would continued to beat up baddies and fire Kamehamehas until the cows come home. But enough of that. I watched Funimation's version, the one where they skipped the first 20 or so episodes, but that was actually a present in disguise because those episodes were just a laughable gimmacky version of a dragonball search from Dragonball, but instead they're looking around the galaxy for the black star dragonballs! Stop, I'm not going to ask what's the difference between these black star dragonballs and the original ones cause I don't give a damn, but I want to know why are they there. From how DBGT explains it, the black star dragon balls were an extra set of dragonballs that Kami, the namekian guardian of the earth before dende, made for no apparent reason. Hold on... Wasn't the earth destroyed by Kidd Buu? I'll explain this F up, you see when Kidd Buu destroyed the earth at the end of DBZ, they had to use the Namekian dragonballs to bring the planet back to normal... but before that, Super Buu destroyed the lookout(Where Popo and Dende live at), where these balls are said to be. If memory serves me right, Dende had to recreate the Dragonballs again cause they got destroyed along with the earth... So no one except Dende could've made them, but it's pointed out that Kami made them... Sooooooo yeah, if you look at it this way, DBGT is completely non canon. Next let's talk about the first major villian, Baby, who's name is impossible to take serious, I mean I laugh every time one of the characters say his name with anger or seriousness. Baby's er... Babie's (I'm not sure how to write that) story is that he is the last of the race called the tuffles, and that he seeks revenge against the saiyans... Wait a minute, something like this had already happened, although it was non canon, there was an ova about the last creation of the tuffles trying to get revenge on the saiyans, and said ova was made years before GT. Unoriginality is one thing, but to use the same concept twice shows that there was no creative thought used in the making of this anime. Anyway, after Baby gets his ass whooped twice, he goes to Earth and starts to take control of everybodies minds (Except Hercule, Buu, and Uub... and Piccolo). Mainly Vegeta's, and the result of baby taking over his mind? You get the worst named villian of all of Dragonball, Baby Vegeta... probably the least threatening name of a villian next to Buu. Next up the Super 17 saga... which needs to be renamed the Fan Service saga. This is without a doubt the most shallow part of DBGT, premise; all hell breaks loose on earth, literally! And the main characters have to go around the world rekilling their old foes (Except Baby for some reason) even the ones from the movies. Oh my god, once again GT takes a pre existed plot, this time from the DBZ movie Fusion Rebirth, and just switches a few things around like who is fusing into a super fighter, actually both the movie and GT seem to rip off the OVA, cause they all feature villians coming back to life, except the OVA was the one that had the original concept of revived villians for the series. The main villian this time is Android 17, 2 of them actually that fuse together into a super android named, heh, super 17. I'm tired of naming similiarites between GT and the movies, cause fusing androids had already been used in the DBZ movie, Super Android 13. Usual DBZ plot setups accur, super 17 beats every one to death until Goku arrives and Goku uses a last resort attack to beat him. But before any of that happens, two notable things happen: 1. Goku goes to hell and fights Frieza and Cell in a goofy battle, and Goku gets sends sent further down to hell with filler episodes. and 2, An android 17 that already exists on earth (Which is actually canon, because Krillian, after the Cell games saga, wishes android 17 back to life but this part is pretty easy to over look), kills Krillian just to piss off android 18. This part really irritates me alot actually, just piece together what I said in this paragraph, and you'll understand. And last but not least, the Evil Dragon saga, which isn't that bad actually. While the villians revived on the last saga were on earth, their negative energy corrupted the dragonballs making them crack and when they gathered them together to make a wish, instead of shenron appearing, an evil dragon appears and spreads the dragonballs along with 7 evil dragons around the earth. So Goku and his granddaughter, Pan, basicly just go around killing each dragon and taking each dragonball from each evil dragon, simple and probably the best arc GT has to offer. But these is where I need to point something out, GT does not know what mood to take, sometimes it gets really serious and dark, then next episode it gets so silly and whimsical that the first dragonball series seems more mature, never does it get into a comforable middle of these moods like DBZ does. I know I haven't touched everything yet (like super saiyan 4 for instance, or how Goku gets turned into a kid, sigh) but I feel like I have made my point. Except I will actually admit there is ONE thing and one thing only that GT actually does better than Z. And that is: The relevancy of the dragon balls, unlike Z where they simply used to bring people back to life, the dragon balls are so important to the plot that three of the major story arcs are heavily affected by the dragon balls, especially the shadow dragons arc. ANIMATION: I know it's a pre 2000's anime, but even DBZ looks better than most of GT's animation. SOUND: This is the only thing I'll say it's decent, Funimation's dub cast returns to repraise their roles, making the dub more than tolerable. Hahahahaha, except the really stupid rap for the opening theme. OVERALL: + It's another dragonball adventure, and dbz fanbase loses its shit. + The dragon balls are actually important to the plot. - Completely unoriginal - Doesn't know what mood to take - More plot holes than a fan fiction - It's another dragonball adventure, and dbz fanbase goes insane (DBAF) Helpful read more \n"
     ]
    },
    {
     "name": "stderr",
     "output_type": "stream",
     "text": [
      "<>:5: DeprecationWarning: invalid escape sequence \\s\n",
      "<>:5: DeprecationWarning: invalid escape sequence \\s\n",
      "<ipython-input-15-b412c0db5fd7>:5: DeprecationWarning: invalid escape sequence \\s\n",
      "  data = [re.sub('\\s+', ' ', sent) for sent in data]\n"
     ]
    }
   ],
   "source": [
    "# Convert to list\n",
    "data = anime_review['Review'].tolist()\n",
    "\n",
    "# Remove new line characters\n",
    "data = [re.sub('\\s+', ' ', sent) for sent in data]\n",
    "\n",
    "print(data[0])"
   ]
  },
  {
   "cell_type": "code",
   "execution_count": 16,
   "metadata": {},
   "outputs": [
    {
     "name": "stdout",
     "output_type": "stream",
     "text": [
      "['overall', 'story', 'animation', 'sound', 'character', 'enjoyment', 'oh', 'boy', 'stepping', 'into', 'unholy', 'ground', 'here', 'this', 'review', 'will', 'be', 'going', 'into', 'just', 'about', 'every', 'plot', 'hole', 'very', 'up', 'just', 'about', 'everything', 'that', 'is', 'terrible', 'and', 'wrong', 'in', 'dbgt', 'that', 'can', 'find', 'or', 'remember', 'just', 'so', 'you', 'know', 'am', 'gigantic', 'dbz', 'fanboy', 'and', 'do', 'know', 'dbz', 'isn', 'perfect', 'and', 'yes', 'this', 'review', 'is', 'nothing', 'but', 'whinny', 'nit', 'picking', 'troll', 'intended', 'bash', 'fest', 'so', 'if', 'you', 'hate', 'reading', 'about', 'hate', 'or', 'if', 'you', 'are', 'not', 'familiar', 'with', 'the', 'majority', 'of', 'dragonball', 'and', 'most', 'of', 'the', 'stuff', 'that', 'accurs', 'before', 'gt', 'cause', 'this', 'review', 'will', 'spoil', 'most', 'of', 'the', 'plot', 'of', 'gt', 'then', 'go', 'ahead', 'and', 'click', 'unhelpful', 'story', 'sequels', 'well', 'they', 'usually', 'give', 'justice', 'to', 'the', 'original', 'or', 'remind', 'you', 'that', 'the', 'original', 'is', 'as', 'good', 'as', 'it', 'gets', 'dragonball', 'anime', 'franchise', 'king', 'the', 'big', 'long', 'winded', 'battle', 'overrated', 'fail', 'best', 'anime', 'evar', 'whatever', 'your', 'take', 'on', 'dbz', 'is', 'you', 'can', 'not', 'deny', 'it', 'popularity', 'calling', 'it', 'household', 'name', 'in', 'japan', 'and', 'around', 'the', 'world', 'is', 'more', 'than', 'an', 'understatement', 'probably', 'the', 'best', 'best', 'comparison', 'can', 'made', 'is', 'dbz', 'is', 'like', 'mario', 'everyone', 'knows', 'what', 'is', 'it', 'is', 'and', 'of', 'course', 'one', 'thing', 'always', 'happens', 'when', 'series', 'becomes', 'popular', 'sequel', 'is', 'made', 'remember', 'when', 'found', 'out', 'about', 'dragonball', 'gt', 'went', 'crazy', 'fanboying', 'like', 'no', 'tomorrow', 'but', 'was', 'young', 'and', 'very', 'easy', 'to', 'impress', 'and', 'there', 'was', 'side', 'to', 'me', 'that', 'wished', 'dbz', 'never', 'ended', 'and', 'that', 'goku', 'would', 'continued', 'to', 'beat', 'up', 'baddies', 'and', 'fire', 'kamehamehas', 'until', 'the', 'cows', 'come', 'home', 'but', 'enough', 'of', 'that', 'watched', 'funimation', 'version', 'the', 'one', 'where', 'they', 'skipped', 'the', 'first', 'or', 'so', 'episodes', 'but', 'that', 'was', 'actually', 'present', 'in', 'disguise', 'because', 'those', 'episodes', 'were', 'just', 'laughable', 'gimmacky', 'version', 'of', 'dragonball', 'search', 'from', 'dragonball', 'but', 'instead', 'they', 're', 'looking', 'around', 'the', 'galaxy', 'for', 'the', 'black', 'star', 'dragonballs', 'stop', 'not', 'going', 'to', 'ask', 'what', 'the', 'difference', 'between', 'these', 'black', 'star', 'dragonballs', 'and', 'the', 'original', 'ones', 'cause', 'don', 'give', 'damn', 'but', 'want', 'to', 'know', 'why', 'are', 'they', 'there', 'from', 'how', 'dbgt', 'explains', 'it', 'the', 'black', 'star', 'dragon', 'balls', 'were', 'an', 'extra', 'set', 'of', 'dragonballs', 'that', 'kami', 'the', 'namekian', 'guardian', 'of', 'the', 'earth', 'before', 'dende', 'made', 'for', 'no', 'apparent', 'reason', 'hold', 'on', 'wasn', 'the', 'earth', 'destroyed', 'by', 'kidd', 'buu', 'll', 'explain', 'this', 'up', 'you', 'see', 'when', 'kidd', 'buu', 'destroyed', 'the', 'earth', 'at', 'the', 'end', 'of', 'dbz', 'they', 'had', 'to', 'use', 'the', 'namekian', 'dragonballs', 'to', 'bring', 'the', 'planet', 'back', 'to', 'normal', 'but', 'before', 'that', 'super', 'buu', 'destroyed', 'the', 'lookout', 'where', 'popo', 'and', 'dende', 'live', 'at', 'where', 'these', 'balls', 'are', 'said', 'to', 'be', 'if', 'memory', 'serves', 'me', 'right', 'dende', 'had', 'to', 'recreate', 'the', 'dragonballs', 'again', 'cause', 'they', 'got', 'destroyed', 'along', 'with', 'the', 'earth', 'so', 'no', 'one', 'except', 'dende', 'could', 've', 'made', 'them', 'but', 'it', 'pointed', 'out', 'that', 'kami', 'made', 'them', 'sooooooo', 'yeah', 'if', 'you', 'look', 'at', 'it', 'this', 'way', 'dbgt', 'is', 'completely', 'non', 'canon', 'next', 'let', 'talk', 'about', 'the', 'first', 'major', 'villian', 'baby', 'who', 'name', 'is', 'impossible', 'to', 'take', 'serious', 'mean', 'laugh', 'every', 'time', 'one', 'of', 'the', 'characters', 'say', 'his', 'name', 'with', 'anger', 'or', 'seriousness', 'baby', 'er', 'babie', 'not', 'sure', 'how', 'to', 'write', 'that', 'story', 'is', 'that', 'he', 'is', 'the', 'last', 'of', 'the', 'race', 'called', 'the', 'tuffles', 'and', 'that', 'he', 'seeks', 'revenge', 'against', 'the', 'saiyans', 'wait', 'minute', 'something', 'like', 'this', 'had', 'already', 'happened', 'although', 'it', 'was', 'non', 'canon', 'there', 'was', 'an', 'ova', 'about', 'the', 'last', 'creation', 'of', 'the', 'tuffles', 'trying', 'to', 'get', 'revenge', 'on', 'the', 'saiyans', 'and', 'said', 'ova', 'was', 'made', 'years', 'before', 'gt', 'unoriginality', 'is', 'one', 'thing', 'but', 'to', 'use', 'the', 'same', 'concept', 'twice', 'shows', 'that', 'there', 'was', 'no', 'creative', 'thought', 'used', 'in', 'the', 'making', 'of', 'this', 'anime', 'anyway', 'after', 'baby', 'gets', 'his', 'ass', 'whooped', 'twice', 'he', 'goes', 'to', 'earth', 'and', 'starts', 'to', 'take', 'control', 'of', 'everybodies', 'minds', 'except', 'hercule', 'buu', 'and', 'uub', 'and', 'piccolo', 'mainly', 'vegeta', 'and', 'the', 'result', 'of', 'baby', 'taking', 'over', 'his', 'mind', 'you', 'get', 'the', 'worst', 'named', 'villian', 'of', 'all', 'of', 'dragonball', 'baby', 'vegeta', 'probably', 'the', 'least', 'threatening', 'name', 'of', 'villian', 'next', 'to', 'buu', 'next', 'up', 'the', 'super', 'saga', 'which', 'needs', 'to', 'be', 'renamed', 'the', 'fan', 'service', 'saga', 'this', 'is', 'without', 'doubt', 'the', 'most', 'shallow', 'part', 'of', 'dbgt', 'premise', 'all', 'hell', 'breaks', 'loose', 'on', 'earth', 'literally', 'and', 'the', 'main', 'characters', 'have', 'to', 'go', 'around', 'the', 'world', 'rekilling', 'their', 'old', 'foes', 'except', 'baby', 'for', 'some', 'reason', 'even', 'the', 'ones', 'from', 'the', 'movies', 'oh', 'my', 'god', 'once', 'again', 'gt', 'takes', 'pre', 'existed', 'plot', 'this', 'time', 'from', 'the', 'dbz', 'movie', 'fusion', 'rebirth', 'and', 'just', 'switches', 'few', 'things', 'around', 'like', 'who', 'is', 'fusing', 'into', 'super', 'fighter', 'actually', 'both', 'the', 'movie', 'and', 'gt', 'seem', 'to', 'rip', 'off', 'the', 'ova', 'cause', 'they', 'all', 'feature', 'villians', 'coming', 'back', 'to', 'life', 'except', 'the', 'ova', 'was', 'the', 'one', 'that', 'had', 'the', 'original', 'concept', 'of', 'revived', 'villians', 'for', 'the', 'series', 'the', 'main', 'villian', 'this', 'time', 'is', 'android', 'of', 'them', 'actually', 'that', 'fuse', 'together', 'into', 'super', 'android', 'named', 'heh', 'super', 'tired', 'of', 'naming', 'similiarites', 'between', 'gt', 'and', 'the', 'movies', 'cause', 'fusing', 'androids', 'had', 'already', 'been', 'used', 'in', 'the', 'dbz', 'movie', 'super', 'android', 'usual', 'dbz', 'plot', 'setups', 'accur', 'super', 'beats', 'every', 'one', 'to', 'death', 'until', 'goku', 'arrives', 'and', 'goku', 'uses', 'last', 'resort', 'attack', 'to', 'beat', 'him', 'but', 'before', 'any', 'of', 'that', 'happens', 'two', 'notable', 'things', 'happen', 'goku', 'goes', 'to', 'hell', 'and', 'fights', 'frieza', 'and', 'cell', 'in', 'goofy', 'battle', 'and', 'goku', 'gets', 'sends', 'sent', 'further', 'down', 'to', 'hell', 'with', 'filler', 'episodes', 'and', 'an', 'android', 'that', 'already', 'exists', 'on', 'earth', 'which', 'is', 'actually', 'canon', 'because', 'krillian', 'after', 'the', 'cell', 'games', 'saga', 'wishes', 'android', 'back', 'to', 'life', 'but', 'this', 'part', 'is', 'pretty', 'easy', 'to', 'over', 'look', 'kills', 'krillian', 'just', 'to', 'piss', 'off', 'android', 'this', 'part', 'really', 'irritates', 'me', 'alot', 'actually', 'just', 'piece', 'together', 'what', 'said', 'in', 'this', 'paragraph', 'and', 'you', 'll', 'understand', 'and', 'last', 'but', 'not', 'least', 'the', 'evil', 'dragon', 'saga', 'which', 'isn', 'that', 'bad', 'actually', 'while', 'the', 'villians', 'revived', 'on', 'the', 'last', 'saga', 'were', 'on', 'earth', 'their', 'negative', 'energy', 'corrupted', 'the', 'dragonballs', 'making', 'them', 'crack', 'and', 'when', 'they', 'gathered', 'them', 'together', 'to', 'make', 'wish', 'instead', 'of', 'shenron', 'appearing', 'an', 'evil', 'dragon', 'appears', 'and', 'spreads', 'the', 'dragonballs', 'along', 'with', 'evil', 'dragons', 'around', 'the', 'earth', 'so', 'goku', 'and', 'his', 'granddaughter', 'pan', 'basicly', 'just', 'go', 'around', 'killing', 'each', 'dragon', 'and', 'taking', 'each', 'dragonball', 'from', 'each', 'evil', 'dragon', 'simple', 'and', 'probably', 'the', 'best', 'arc', 'gt', 'has', 'to', 'offer', 'but', 'these', 'is', 'where', 'need', 'to', 'point', 'something', 'out', 'gt', 'does', 'not', 'know', 'what', 'mood', 'to', 'take', 'sometimes', 'it', 'gets', 'really', 'serious', 'and', 'dark', 'then', 'next', 'episode', 'it', 'gets', 'so', 'silly', 'and', 'whimsical', 'that', 'the', 'first', 'dragonball', 'series', 'seems', 'more', 'mature', 'never', 'does', 'it', 'get', 'into', 'comforable', 'middle', 'of', 'these', 'moods', 'like', 'dbz', 'does', 'know', 'haven', 'touched', 'everything', 'yet', 'like', 'super', 'saiyan', 'for', 'instance', 'or', 'how', 'goku', 'gets', 'turned', 'into', 'kid', 'sigh', 'but', 'feel', 'like', 'have', 'made', 'my', 'point', 'except', 'will', 'actually', 'admit', 'there', 'is', 'one', 'thing', 'and', 'one', 'thing', 'only', 'that', 'gt', 'actually', 'does', 'better', 'than', 'and', 'that', 'is', 'the', 'relevancy', 'of', 'the', 'dragon', 'balls', 'unlike', 'where', 'they', 'simply', 'used', 'to', 'bring', 'people', 'back', 'to', 'life', 'the', 'dragon', 'balls', 'are', 'so', 'important', 'to', 'the', 'plot', 'that', 'three', 'of', 'the', 'major', 'story', 'arcs', 'are', 'heavily', 'affected', 'by', 'the', 'dragon', 'balls', 'especially', 'the', 'shadow', 'dragons', 'arc', 'animation', 'know', 'it', 'pre', 'anime', 'but', 'even', 'dbz', 'looks', 'better', 'than', 'most', 'of', 'gt', 'animation', 'sound', 'this', 'is', 'the', 'only', 'thing', 'll', 'say', 'it', 'decent', 'funimation', 'dub', 'cast', 'returns', 'to', 'repraise', 'their', 'roles', 'making', 'the', 'dub', 'more', 'than', 'tolerable', 'hahahahaha', 'except', 'the', 'really', 'stupid', 'rap', 'for', 'the', 'opening', 'theme', 'overall', 'it', 'another', 'dragonball', 'adventure', 'and', 'dbz', 'fanbase', 'loses', 'its', 'shit', 'the', 'dragon', 'balls', 'are', 'actually', 'important', 'to', 'the', 'plot', 'completely', 'unoriginal', 'doesn', 'know', 'what', 'mood', 'to', 'take', 'more', 'plot', 'holes', 'than', 'fan', 'fiction', 'it', 'another', 'dragonball', 'adventure', 'and', 'dbz', 'fanbase', 'goes', 'insane', 'dbaf', 'helpful', 'read', 'more']\n"
     ]
    }
   ],
   "source": [
    "# Clean and tokenize the reviews\n",
    "\n",
    "def sent_to_words(sentences):\n",
    "    for sentence in sentences:\n",
    "        yield(gensim.utils.simple_preprocess(str(sentence), deacc=True))  # deacc=True removes punctuations\n",
    "        \n",
    "data_words = list(sent_to_words(data))\n",
    "\n",
    "print(data_words[0])"
   ]
  },
  {
   "cell_type": "code",
   "execution_count": 17,
   "metadata": {},
   "outputs": [
    {
     "name": "stdout",
     "output_type": "stream",
     "text": [
      "['overall', 'story', 'animation_sound', 'character_enjoyment', 'it', 'sucks', 'period', 'it', 'has', 'lots', 'of', 'plot', 'holes', 'and', 'full', 'of', 'contradictions', 'apparently', 'old', 'man', 'krillin', 'is', 'the', 'strongest', 'but', 'lets', 'get', 'to', 'the', 'key', 'points', 'on', 'why', 'it', 'sucks', 'story', 'very', 'poor', 'in', 'the', 'beginning', 'they', 'attempted', 'to', 'recreate', 'the', 'feeling', 'that', 'the', 'original', 'dragonball', 'had', 'but', 'they', 'ultimately', 'failed', 'in', 'later', 'parts', 'of', 'the', 'story', 'they', 'tried', 'to', 'recreate', 'the', 'vegeta', 'saga', 'and', 'later', 'the', 'android', 'saga', 'but', 'they', 'have', 'failed', 'to', 'keep', 'me', 'entertained', 'overall', 'the', 'story', 'was', 'full', 'of', 'disappointment', 'instead', 'of', 'seeing', 'other', 'characters', 'beating', 'the', 'enemies', 'goku', 'ends', 'up', 'doing', 'so', 'which', 'gets', 'kind', 'of', 'repetitive', 'helpful']\n"
     ]
    }
   ],
   "source": [
    "# Create bigrams, remove stop words and lemmatize the reviews\n",
    "\n",
    "# Build the bigram models\n",
    "bigram = gensim.models.Phrases(data_words, min_count=5, threshold=100) # higher threshold fewer phrases.\n",
    "\n",
    "# Faster way to get a sentence clubbed as a trigram/bigram\n",
    "bigram_mod = gensim.models.phrases.Phraser(bigram)\n",
    "\n",
    "print(bigram_mod[data_words[4]])"
   ]
  },
  {
   "cell_type": "code",
   "execution_count": 18,
   "metadata": {},
   "outputs": [],
   "source": [
    "# Defining removing stopwords\n",
    "def remove_stopwords(texts):\n",
    "    return [[word for word in simple_preprocess(str(doc)) if word not in stop_words] for doc in texts]\n",
    "\n",
    "# Defining making bigrams\n",
    "def make_bigrams(texts):\n",
    "    return [bigram_mod[doc] for doc in texts]\n",
    "\n",
    "# Defining lemmatization\n",
    "def lemmatization(texts, allowed_postags=['NOUN', 'ADJ', 'VERB', 'ADV']):\n",
    "    texts_out = []\n",
    "    for sent in texts:\n",
    "        doc = nlp(\" \".join(sent)) \n",
    "        texts_out.append([token.lemma_ for token in doc if token.pos_ in allowed_postags])\n",
    "    return texts_out"
   ]
  },
  {
   "cell_type": "code",
   "execution_count": 19,
   "metadata": {},
   "outputs": [
    {
     "name": "stdout",
     "output_type": "stream",
     "text": [
      "['overall', 'story', 'character_enjoyment', 'step', 'unholy', 'ground', 'review', 'go', 'plot', 'hole', 'terrible', 'wrong', 'dbgt', 'find', 'remember', 'know', 'gigantic', 'dbz', 'fanboy', 'know', 'dbz', 'perfect', 'review', 'whinny', 'nit', 'pick', 'troll', 'intend', 'bash', 'f', 'hate', 'reading', 'hate', 'familiar', 'majority', 'dragonball', 'stuff', 'accur', 'gt', 'cause', 'review', 'spoil', 'plot', 'gt', 'go', 'ahead', 'click', 'unhelpful', 'story', 'sequel', 'well', 'usually', 'give', 'justice', 'original', 'remind', 'original', 'good', 'get', 'dragonball', 'anime', 'franchise', 'king', 'big', 'long', 'wind', 'battle', 'overrate', 'fail', 'good', 'anime', 'evar', 'take', 'dbz', 'deny', 'popularity', 'call', 'household', 'name', 'japan', 'world', 'understatement', 'probably', 'well', 'good', 'comparison', 'make', 'dbz', 'mario', 'know', 'course', 'thing', 'always', 'happen', 'series', 'become', 'popular', 'sequel', 'make', 'remember', 'find', 'dragonball', 'gt', 'go', 'crazy', 'fanboye', 'tomorrow', 'young', 'easy', 'impress', 'side', 'wish', 'dbz', 'never', 'end', 'goku', 'continue', 'beat', 'baddie', 'fire', 'kamehameha', 'cow', 'come', 'home', 'enough', 'watch', 'funimation', 'version', 'skip', 'first', 'episode', 'actually', 'present', 'disguise', 'episode', 'laughable', 'gimmacky', 'version', 'dragonball', 'search', 'dragonball', 'instead', 'look', 'galaxy', 'black_star', 'dragonball', 'stop', 'go', 'ask', 'difference', 'dragonball', 'original', 'one', 'cause', 'give', 'damn', 'want', 'know', 'dbgt', 'explain', 'dragon', 'ball', 'extra', 'set', 'dragonball', 'kami', 'namekian', 'guardian', 'earth', 'dende', 'make', 'apparent', 'reason', 'hold', 'earth', 'destroy', 'kidd', 'buu', 'explain', 'kidd', 'buu', 'destroy', 'earth', 'end', 'dbz', 'namekian', 'dragonball', 'bring', 'planet', 'back', 'normal', 'super', 'buu', 'destroy', 'popo', 'dende', 'live', 'ball', 'say', 'memory', 'serve', 'right', 'dende', 'recreate', 'dragonball', 'get', 'destroy', 'earth', 'dende', 'make', 'point', 'kami', 'make', 'sooooooo', 'look', 'way', 'dbgt', 'completely', 'non', 'canon', 'next', 'let', 'talk', 'first', 'major', 'villian', 'baby', 'name', 'impossible', 'take', 'serious', 'mean', 'laugh', 'time', 'character', 'say', 'name', 'anger', 'seriousness', 'baby', 'babie', 'sure', 'write', 'story', 'last', 'race', 'call', 'tuffle', 'seek', 'revenge', 'saiyan', 'wait', 'minute', 'already', 'happen', 'non', 'canon', 'ova', 'last', 'creation', 'tuffle', 'try', 'get', 'revenge', 'saiyan', 'say', 'ova', 'make', 'year', 'gt', 'unoriginality', 'thing', 'concept', 'twice', 'show', 'creative', 'thought', 'use', 'make', 'anime', 'anyway', 'baby', 'get', 'ass', 'whoop', 'twice', 'go', 'earth', 'start', 'take', 'control', 'everybodie', 'mind', 'hercule', 'buu', 'uub', 'piccolo', 'mainly', 'vegeta', 'result', 'baby', 'take', 'mind', 'get', 'worst', 'name', 'villian', 'dragonball', 'baby', 'vegeta', 'probably', 'least', 'threaten', 'name', 'villian', 'next', 'buu', 'next', 'super', 'saga', 'need', 'rename', 'fan', 'service', 'saga', 'doubt', 'shallow', 'part', 'dbgt', 'premise', 'hell', 'break', 'loose', 'earth', 'literally', 'main', 'character', 'go', 'world', 'rekille', 'old', 'foe', 'baby', 'reason', 'even', 'one', 'movie', 'gt', 'take', 'pre', 'exist', 'plot', 'time', 'dbz', 'movie', 'fusion', 'rebirth', 'switch', 'thing', 'around', 'fuse', 'super', 'fighter', 'actually', 'movie', 'gt', 'seem', 'rip', 'ova', 'cause', 'feature', 'come', 'back', 'life', 'ova', 'original', 'concept', 'revive', 'series', 'main', 'villian', 'time', 'android', 'actually', 'fuse', 'super', 'android', 'name', 'heh', 'super', 'tired', 'naming', 'similiarite', 'gt', 'movie', 'cause', 'fuse', 'android', 'already', 'use', 'dbz', 'movie', 'super', 'android', 'usual', 'dbz', 'plot', 'setup', 'accur', 'super', 'beat', 'death', 'goku', 'arrive', 'goku', 'use', 'last', 'resort', 'attack', 'beat', 'happen', 'notable', 'thing', 'happen', 'goku', 'go', 'hell', 'fight', 'frieza', 'cell', 'goofy', 'battle', 'goku', 'get', 'send', 'send', 'hell', 'filler', 'episode', 'android', 'already', 'exist', 'earth', 'actually', 'canon', 'krillian', 'cell', 'game', 'saga', 'wish', 'android', 'back', 'life', 'part', 'pretty', 'easy', 'look', 'kill', 'krillian', 'piss', 'android', 'part', 'really', 'irritate', 'alot', 'actually', 'piece', 'together', 'say', 'paragraph', 'understand', 'last', 'least', 'evil', 'dragon', 'saga', 'bad', 'actually', 'revive', 'last', 'saga', 'earth', 'negative', 'energy', 'corrupt', 'dragonball', 'make', 'crack', 'gather', 'together', 'make', 'wish', 'instead', 'shenron', 'appear', 'evil', 'dragon', 'appear', 'spread', 'dragonball', 'evil', 'dragon', 'earth', 'goku', 'granddaughter', 'pan', 'basicly', 'go', 'around', 'kill', 'dragon', 'take', 'dragonball', 'evil', 'dragon', 'simple', 'probably', 'good', 'arc', 'gt', 'offer', 'need', 'point', 'gt', 'know', 'mood', 'take', 'sometimes', 'get', 'really', 'serious', 'dark', 'next', 'episode', 'get', 'silly', 'whimsical', 'first', 'dragonball', 'series', 'seem', 'mature', 'never', 'get', 'comforable', 'middle', 'mood', 'dbz', 'know', 'touch', 'yet', 'super_saiyan', 'instance', 'goku', 'get', 'turn', 'kid', 'sigh', 'feel', 'make', 'point', 'actually', 'admit', 'thing', 'thing', 'gt', 'actually', 'well', 'relevancy', 'dragon', 'ball', 'simply', 'use', 'bring', 'people', 'life', 'dragon', 'ball', 'important', 'plot', 'major', 'story', 'arc', 'heavily', 'affect', 'dragon', 'ball', 'especially', 'shadow', 'dragon', 'arc', 'animation', 'know', 'pre', 'anime', 'even', 'dbz', 'look', 'well', 'gt', 'thing', 'say', 'decent', 'funimation', 'dub', 'cast', 'return', 'repraise', 'role', 'make', 'dub', 'tolerable', 'hahahahaha', 'really', 'stupid', 'rap', 'opening', 'theme', 'overall', 'dragonball', 'adventure', 'dbz', 'fanbase', 'lose', 'shit', 'dragon', 'ball', 'actually', 'important', 'plot', 'completely', 'unoriginal', 'know', 'mood', 'take', 'plot', 'hole', 'fan', 'fiction', 'dragonball', 'adventure', 'dbz', 'fanbase', 'go', 'insane', 'dbaf']\n"
     ]
    }
   ],
   "source": [
    "# Remove Stop Words\n",
    "data_words_nostops = remove_stopwords(data_words)\n",
    "\n",
    "# Form Bigrams\n",
    "data_words_bigrams = make_bigrams(data_words_nostops)\n",
    "\n",
    "# Initialize spacy 'en' model, keeping only tagger component (for efficiency)\n",
    "# python3 -m spacy download en\n",
    "nlp = spacy.load('en_core_web_sm', disable=['parser', 'ner'])\n",
    "\n",
    "# Do lemmatization keeping only noun, adj, vb, adv\n",
    "data_lemmatized = lemmatization(data_words_bigrams, allowed_postags=['NOUN', 'ADJ', 'VERB', 'ADV'])\n",
    "\n",
    "print(data_lemmatized[0])"
   ]
  },
  {
   "cell_type": "code",
   "execution_count": 20,
   "metadata": {},
   "outputs": [
    {
     "name": "stdout",
     "output_type": "stream",
     "text": [
      "[(0, 2), (1, 9), (2, 1), (3, 2), (4, 1), (5, 1), (6, 1), (7, 3), (8, 1), (9, 7), (10, 1), (11, 1), (12, 4), (13, 1), (14, 1), (15, 2), (16, 3), (17, 2), (18, 1), (19, 1), (20, 1), (21, 1), (22, 1), (23, 6), (24, 3), (25, 1), (26, 1), (27, 6), (28, 1), (29, 1), (30, 2), (31, 3), (32, 1), (33, 1), (34, 1), (35, 1), (36, 2), (37, 5), (38, 2), (39, 3), (40, 1), (41, 4), (42, 2), (43, 2), (44, 1), (45, 1), (46, 2), (47, 1), (48, 1), (49, 2), (50, 2), (51, 1), (52, 1), (53, 1), (54, 1), (55, 1), (56, 1), (57, 1), (58, 1), (59, 1), (60, 1), (61, 1), (62, 1), (63, 4), (64, 13), (65, 1), (66, 1), (67, 4), (68, 1), (69, 4), (70, 1), (71, 1), (72, 1), (73, 11), (74, 17), (75, 2), (76, 9), (77, 2), (78, 2), (79, 1), (80, 1), (81, 4), (82, 1), (83, 1), (84, 2), (85, 1), (86, 4), (87, 2), (88, 2), (89, 1), (90, 1), (91, 1), (92, 1), (93, 2), (94, 2), (95, 1), (96, 1), (97, 1), (98, 1), (99, 1), (100, 1), (101, 1), (102, 1), (103, 2), (104, 1), (105, 3), (106, 1), (107, 1), (108, 1), (109, 2), (110, 3), (111, 1), (112, 1), (113, 1), (114, 1), (115, 10), (116, 1), (117, 1), (118, 2), (119, 9), (120, 7), (121, 4), (122, 1), (123, 1), (124, 1), (125, 11), (126, 1), (127, 1), (128, 4), (129, 2), (130, 1), (131, 1), (132, 3), (133, 1), (134, 1), (135, 2), (136, 1), (137, 1), (138, 2), (139, 1), (140, 1), (141, 1), (142, 1), (143, 2), (144, 1), (145, 1), (146, 1), (147, 1), (148, 1), (149, 2), (150, 1), (151, 2), (152, 2), (153, 1), (154, 8), (155, 2), (156, 5), (157, 1), (158, 1), (159, 2), (160, 1), (161, 3), (162, 1), (163, 1), (164, 1), (165, 4), (166, 1), (167, 1), (168, 2), (169, 1), (170, 2), (171, 1), (172, 11), (173, 1), (174, 1), (175, 1), (176, 1), (177, 1), (178, 2), (179, 1), (180, 3), (181, 5), (182, 6), (183, 2), (184, 1), (185, 2), (186, 1), (187, 2), (188, 4), (189, 1), (190, 2), (191, 1), (192, 1), (193, 1), (194, 1), (195, 2), (196, 1), (197, 4), (198, 4), (199, 2), (200, 1), (201, 1), (202, 1), (203, 3), (204, 1), (205, 1), (206, 1), (207, 1), (208, 1), (209, 1), (210, 1), (211, 7), (212, 3), (213, 1), (214, 1), (215, 1), (216, 2), (217, 1), (218, 1), (219, 1), (220, 3), (221, 1), (222, 1), (223, 1), (224, 3), (225, 2), (226, 1), (227, 1), (228, 1), (229, 1), (230, 2), (231, 1), (232, 1), (233, 1), (234, 1), (235, 1), (236, 1), (237, 2), (238, 3), (239, 2), (240, 1), (241, 1), (242, 1), (243, 5), (244, 2), (245, 5), (246, 1), (247, 1), (248, 2), (249, 2), (250, 2), (251, 3), (252, 2), (253, 1), (254, 1), (255, 1), (256, 1), (257, 1), (258, 1), (259, 1), (260, 1), (261, 1), (262, 1), (263, 1), (264, 1), (265, 1), (266, 1), (267, 1), (268, 1), (269, 1), (270, 1), (271, 1), (272, 1), (273, 1), (274, 1), (275, 1), (276, 1), (277, 4), (278, 1), (279, 1), (280, 7), (281, 1), (282, 1), (283, 1), (284, 8), (285, 1), (286, 1), (287, 1), (288, 7), (289, 1), (290, 1), (291, 3), (292, 1), (293, 2), (294, 1), (295, 1), (296, 1), (297, 1), (298, 1), (299, 2), (300, 1), (301, 2), (302, 1), (303, 1), (304, 1), (305, 1), (306, 1), (307, 1), (308, 4), (309, 1), (310, 1), (311, 1), (312, 2), (313, 2), (314, 4), (315, 1), (316, 1), (317, 1), (318, 1), (319, 4), (320, 1), (321, 1), (322, 1), (323, 1), (324, 3), (325, 2), (326, 1), (327, 1), (328, 1), (329, 1), (330, 1), (331, 1)]\n"
     ]
    }
   ],
   "source": [
    "# Create Dictionary\n",
    "id2word = corpora.Dictionary(data_lemmatized)\n",
    "\n",
    "# Create Corpus\n",
    "texts = data_lemmatized\n",
    "\n",
    "# Term Document Frequency\n",
    "corpus = [id2word.doc2bow(text) for text in texts]\n",
    "\n",
    "# View\n",
    "print(corpus[0])"
   ]
  },
  {
   "cell_type": "code",
   "execution_count": 21,
   "metadata": {},
   "outputs": [
    {
     "name": "stdout",
     "output_type": "stream",
     "text": [
      "[(0, '0.020*\"gt\" + 0.018*\"show\" + 0.016*\"series\" + 0.016*\"dragon_ball\" + 0.011*\"even\" + 0.011*\"say\" + 0.011*\"watch\" + 0.009*\"story\" + 0.009*\"dragon\" + 0.009*\"great\"'), (1, '0.016*\"goku\" + 0.013*\"trunk\" + 0.011*\"dragonball\" + 0.011*\"reason\" + 0.008*\"dbgt\" + 0.008*\"gt\" + 0.008*\"come\" + 0.008*\"series\" + 0.008*\"people\" + 0.008*\"go\"'), (2, '0.016*\"goku\" + 0.016*\"make\" + 0.011*\"even\" + 0.010*\"gt\" + 0.009*\"series\" + 0.008*\"well\" + 0.007*\"ssj\" + 0.007*\"good\" + 0.007*\"time\" + 0.007*\"story\"'), (3, '0.016*\"character\" + 0.016*\"story\" + 0.014*\"overall\" + 0.013*\"well\" + 0.011*\"saga\" + 0.011*\"end\" + 0.011*\"good\" + 0.011*\"time\" + 0.009*\"goku\" + 0.009*\"watch\"'), (4, '0.019*\"dragonball\" + 0.015*\"dbz\" + 0.012*\"well\" + 0.011*\"gt\" + 0.011*\"make\" + 0.011*\"say\" + 0.010*\"get\" + 0.009*\"dragon\" + 0.009*\"watch\" + 0.008*\"go\"'), (5, '0.016*\"story\" + 0.015*\"character\" + 0.013*\"make\" + 0.012*\"dragonball\" + 0.011*\"goku\" + 0.011*\"little\" + 0.009*\"bad\" + 0.009*\"get\" + 0.007*\"watch\" + 0.006*\"overall\"'), (6, '0.016*\"story\" + 0.015*\"character\" + 0.013*\"good\" + 0.012*\"overall\" + 0.012*\"series\" + 0.012*\"bad\" + 0.012*\"dbz\" + 0.012*\"get\" + 0.010*\"dragon_ball\" + 0.009*\"watch\"'), (7, '0.017*\"story\" + 0.016*\"good\" + 0.016*\"character\" + 0.011*\"goku\" + 0.010*\"dragon_ball\" + 0.010*\"pan\" + 0.010*\"end\" + 0.010*\"overall\" + 0.010*\"pretty\" + 0.008*\"really\"')]\n"
     ]
    }
   ],
   "source": [
    "# Using LDA to develop a topic model with 3 models\n",
    "\n",
    "lda_model = gensim.models.ldamodel.LdaModel(corpus=corpus,\n",
    "                                           id2word=id2word,\n",
    "                                           num_topics=8, \n",
    "                                           random_state=100,\n",
    "                                           update_every=1,\n",
    "                                           chunksize=100,\n",
    "                                           passes=10,\n",
    "                                           alpha='auto',\n",
    "                                           per_word_topics=True)\n",
    "# Print the KeywordS in the 3 topics\n",
    "print(lda_model.print_topics())\n",
    "doc_lda = lda_model[corpus]"
   ]
  },
  {
   "cell_type": "code",
   "execution_count": 22,
   "metadata": {},
   "outputs": [
    {
     "data": {
      "text/html": [
       "\n",
       "<link rel=\"stylesheet\" type=\"text/css\" href=\"https://cdn.jsdelivr.net/gh/bmabey/pyLDAvis@3.3.1/pyLDAvis/js/ldavis.v1.0.0.css\">\n",
       "\n",
       "\n",
       "<div id=\"ldavis_el2470023756906526883734810720\"></div>\n",
       "<script type=\"text/javascript\">\n",
       "\n",
       "var ldavis_el2470023756906526883734810720_data = {\"mdsDat\": {\"x\": [-0.06074639923086514, 0.11050346933311139, 0.04202041848207919, 0.04967129834740809, -0.023867812249562994, 0.004032108943728578, -0.029530392071632036, -0.09208269155426707], \"y\": [-0.09515654748374808, 0.005370340795870734, -0.0864008650563444, 0.03731330579980288, 0.07447847588580567, 0.023622022367230516, 0.013432682742323593, 0.02734058494905907], \"topics\": [1, 2, 3, 4, 5, 6, 7, 8], \"cluster\": [1, 1, 1, 1, 1, 1, 1, 1], \"Freq\": [24.534812124282134, 20.12894282457673, 16.588242394217477, 14.961277130970185, 11.742254709335802, 5.601231629030421, 3.8611716000284293, 2.582067587558825]}, \"tinfo\": {\"Term\": [\"dragon_ball\", \"gt\", \"dragonball\", \"show\", \"series\", \"trunk\", \"goku\", \"dbz\", \"character\", \"story\", \"watch\", \"reason\", \"overall\", \"great\", \"say\", \"little\", \"fuck\", \"good\", \"even\", \"dbgt\", \"people\", \"dragon\", \"end\", \"go\", \"dark\", \"well\", \"fucking\", \"time\", \"earth\", \"form\", \"nao\", \"ultimate\", \"que\", \"addition\", \"nail\", \"oozaru\", \"exact\", \"easily\", \"tien\", \"machine\", \"form\", \"defeat\", \"ssj\", \"power\", \"pair\", \"genius\", \"sum\", \"ainda\", \"selfish\", \"journey\", \"dream\", \"counterpart\", \"serie\", \"quando\", \"argue\", \"technically\", \"eventually\", \"goddammit\", \"smart\", \"move\", \"excuse\", \"matter\", \"help\", \"kami\", \"somehow\", \"useless\", \"fusion\", \"adult\", \"inconsistency\", \"sense\", \"piccolo\", \"fact\", \"word\", \"saiyan\", \"super_saiyan\", \"make\", \"even\", \"earth\", \"goku\", \"time\", \"also\", \"still\", \"look\", \"gt\", \"whole\", \"use\", \"saga\", \"ball\", \"series\", \"turn\", \"vegeta\", \"fight\", \"well\", \"dragon_ball\", \"good\", \"dragon\", \"end\", \"trunk\", \"show\", \"story\", \"character\", \"come\", \"get\", \"overall\", \"plot\", \"fuck\", \"fucking\", \"thank\", \"biased\", \"voice\", \"shitty\", \"awesome\", \"slow\", \"heart\", \"read\", \"tension\", \"flow\", \"hear\", \"hair\", \"sadly\", \"nitty\", \"tad\", \"drop\", \"mark\", \"view\", \"animation_sound\", \"describe\", \"ent\", \"drab\", \"lackluster\", \"trust\", \"complaint\", \"producer\", \"m\", \"fond\", \"music\", \"enjoyment\", \"art\", \"copy\", \"sound\", \"hate\", \"shit\", \"bad\", \"dbz\", \"piece\", \"start\", \"fight\", \"bit\", \"compare\", \"opinion\", \"dragon_ball\", \"character\", \"overall\", \"good\", \"story\", \"series\", \"get\", \"really\", \"think\", \"watch\", \"anime\", \"give\", \"people\", \"show\", \"gt\", \"character_enjoyment\", \"dbgt\", \"episode\", \"goku\", \"end\", \"even\", \"well\", \"ending\", \"pick\", \"feature\", \"movie\", \"receive\", \"appear\", \"exist\", \"around\", \"twice\", \"accur\", \"pre\", \"kidd\", \"tuffle\", \"namekian\", \"revive\", \"together\", \"krillian\", \"ova\", \"dende\", \"mood\", \"major\", \"side\", \"negative\", \"name\", \"generally\", \"especailly\", \"sayan\", \"mix\", \"scrutinize\", \"bebop\", \"understand\", \"actually\", \"evil\", \"dragonball\", \"kamehameha\", \"easy\", \"dbz\", \"earth\", \"android\", \"version\", \"know\", \"say\", \"thing\", \"dragon\", \"original\", \"go\", \"well\", \"review\", \"next\", \"villian\", \"gt\", \"get\", \"buu\", \"plot\", \"dub\", \"make\", \"watch\", \"super\", \"episode\", \"anime\", \"take\", \"ball\", \"give\", \"goku\", \"series\", \"story\", \"really\", \"good\", \"quality\", \"cut\", \"consideration\", \"quirky\", \"rush\", \"ss\", \"forgettable\", \"growth\", \"maintain\", \"believable\", \"massive\", \"nice\", \"several\", \"admittedly\", \"wise\", \"horrible\", \"randomly\", \"mega\", \"feeding\", \"obviously\", \"deer\", \"random\", \"overusage\", \"diss\", \"shirt\", \"storywise\", \"remove\", \"doesen\", \"sacrifice\", \"pant\", \"weird\", \"rest\", \"manage\", \"interesting\", \"huge\", \"shonen\", \"pan\", \"pretty\", \"feel\", \"often\", \"redeem\", \"support\", \"almost\", \"absolute\", \"classic\", \"way\", \"transformation\", \"good\", \"story\", \"fan\", \"end\", \"character\", \"dragon_ball\", \"animation\", \"really\", \"overall\", \"goku\", \"trunk\", \"try\", \"decent\", \"watch\", \"arc\", \"dragonball\", \"create\", \"fail\", \"say\", \"baby\", \"get\", \"series\", \"gt\", \"well\", \"character_enjoyment\", \"make\", \"show\", \"figure\", \"chi\", \"insult\", \"quest\", \"prime\", \"con\", \"woman\", \"aside\", \"man\", \"enemy\", \"par\", \"fitting\", \"period\", \"apparently\", \"whack\", \"beginning\", \"contradiction\", \"acceptable\", \"fappish\", \"swear\", \"disappointment\", \"linear\", \"finished\", \"curse\", \"fragile\", \"warn\", \"plastic\", \"unfunny\", \"famous\", \"poorly\", \"suck\", \"quot\", \"little\", \"bore\", \"kind\", \"staff\", \"care\", \"long\", \"old\", \"krillin\", \"bulma\", \"honestly\", \"serve\", \"recreate\", \"character\", \"story\", \"dragonball\", \"favorite\", \"bad\", \"make\", \"arc\", \"pretty\", \"back\", \"strong\", \"goku\", \"get\", \"watch\", \"anime\", \"trunk\", \"go\", \"look\", \"villain\", \"overall\", \"really\", \"even\", \"well\", \"see\", \"gt\", \"plot\", \"show\", \"battle\", \"end\", \"develop\", \"spoiler\", \"fairly\", \"magnificently\", \"type\", \"mentor\", \"technology\", \"helpful_read\", \"kakarrot\", \"availability\", \"storyline\", \"pure\", \"oob\", \"parasite\", \"revert\", \"joy\", \"surround\", \"crush\", \"abilitie\", \"shot\", \"absence\", \"gold\", \"frankly\", \"nostalgic\", \"aura\", \"useful\", \"invasion\", \"firstly\", \"beast\", \"meaning\", \"alert\", \"favourite\", \"quiet\", \"predictable\", \"rating\", \"tell\", \"due\", \"however\", \"battle\", \"time\", \"overall\", \"character\", \"saga\", \"villain\", \"opinion\", \"line\", \"follow\", \"mainly\", \"death\", \"story\", \"great\", \"end\", \"well\", \"much\", \"purpose\", \"good\", \"give\", \"watch\", \"want\", \"anime\", \"goku\", \"see\", \"episode\", \"take\", \"character_enjoyment\", \"say\", \"show\", \"series\", \"get\", \"dbz\", \"gt\", \"cannon\", \"dvd\", \"totally\", \"risk\", \"intense\", \"automatically\", \"wayyyy\", \"unique\", \"repeat\", \"friend\", \"entirely\", \"higher\", \"blue\", \"twist\", \"martial\", \"absorb\", \"appreciate\", \"recolore\", \"predicesor\", \"generation\", \"everyone\", \"perhaps\", \"galactic\", \"high\", \"hakusho\", \"bada\", \"exceed\", \"depth\", \"collection\", \"outer\", \"dark\", \"show\", \"gt\", \"dragon_ball\", \"great\", \"fun\", \"series\", \"moment\", \"say\", \"place\", \"even\", \"watch\", \"dragon\", \"little\", \"see\", \"ball\", \"think\", \"super\", \"take\", \"always\", \"like\", \"story\", \"year\", \"transformation\", \"love\", \"get\", \"well\", \"overall\", \"make\", \"goku\", \"end\", \"also\", \"bad\", \"super_saiyan\", \"hate\", \"people\", \"personality\", \"alien\", \"slightly\", \"charasmatic\", \"eveything\", \"advertising\", \"freeload\", \"range\", \"mellow\", \"roshi\", \"needy\", \"loveable\", \"universewide\", \"businessman\", \"brat\", \"completly\", \"sightthroughout\", \"breife\", \"vaccant\", \"restore\", \"stress\", \"immature\", \"frest\", \"serach\", \"teenager\", \"rare\", \"mange\", \"group\", \"search\", \"order\", \"yet\", \"reason\", \"trunk\", \"adult\", \"goku\", \"need\", \"dbgt\", \"dragonball\", \"keep\", \"people\", \"change\", \"come\", \"child\", \"go\", \"adventure\", \"cool\", \"dbz\", \"series\", \"gt\", \"story\", \"vegeta\", \"know\", \"character_enjoyment\", \"overall\", \"character\", \"get\", \"good\"], \"Freq\": [38.0, 57.0, 48.0, 37.0, 53.0, 23.0, 70.0, 39.0, 65.0, 76.0, 44.0, 11.0, 50.0, 16.0, 36.0, 18.0, 12.0, 54.0, 39.0, 19.0, 22.0, 31.0, 37.0, 26.0, 8.0, 50.0, 11.0, 29.0, 19.0, 13.0, 5.360221109701464, 3.603639123058717, 2.736468735925632, 2.732987829108723, 2.7323312639709716, 2.7307584597234196, 2.7278382664587895, 2.725965333767752, 2.725443616868118, 2.720577417745579, 10.595235265856509, 5.357617809796409, 11.446725354079458, 10.32409992247614, 1.8609146151559892, 1.8605302976773554, 1.860410027627143, 1.860501505756244, 1.8596911407360996, 1.8596977009206568, 1.8596754691841024, 1.8596468594903397, 1.8598742792216507, 1.8598837550437886, 1.859610596247927, 1.8596346502579695, 1.8595174780726869, 1.859193477846508, 1.8592149806736673, 1.8589319816009702, 1.8592080560344126, 3.6103851795115474, 5.35569312453831, 5.333116978294625, 3.610546997397288, 3.6041602932763044, 3.602908391390001, 3.6136171637699865, 3.604013418033166, 5.351586813460296, 7.989467273589125, 4.484522847098915, 2.737169946763841, 5.966009325617024, 7.1142220281757105, 25.4506645877914, 16.989160692218693, 9.626624016008398, 25.46866281857836, 11.103566473356658, 9.700641120546779, 5.784772200223556, 9.823177350069084, 15.83791390430237, 5.734737672606952, 5.938588847532656, 10.66017380387733, 8.11175640282645, 14.07236414537014, 6.231396853961324, 7.9470870235318065, 8.871716609381282, 12.18785054186161, 10.093503604020748, 11.166805923577204, 8.840120573826354, 9.163523823210301, 7.59340123332313, 8.879243327796402, 10.750863981922144, 10.045636124036156, 7.274881676887206, 8.25242133791746, 8.062624265041137, 7.124577643953708, 12.048396034064435, 10.41763537179397, 3.5917096966488526, 3.5925947582376856, 3.5878381502122965, 3.5440129502076907, 2.727186021786386, 2.7216818955271855, 2.7201832709720404, 2.720598293095452, 2.719718613637903, 2.7192303347275772, 2.715503507821087, 2.680646433571164, 1.852656665860706, 1.8523023422178793, 1.8521948490958573, 1.851713297849636, 1.8517291452361928, 1.8512745046463885, 1.8504265199619527, 1.850520707259413, 1.8511235059631586, 1.85097430132369, 1.8497425407780153, 1.850423380385371, 1.849301953531007, 1.8491869852266467, 1.849589299540084, 1.849178015007841, 7.033509096616217, 4.552521793223163, 10.736928516140443, 2.713604512499912, 7.206335910288018, 8.779060452914534, 6.709826525200802, 15.343495877668177, 15.19555902912395, 3.5214211551381465, 9.863159236754903, 10.728379299603988, 4.463964803099985, 2.7217354178327264, 4.939156463195364, 13.476768227581497, 19.515989567069564, 15.628197466241378, 16.36598121860487, 19.978080222599164, 15.350219953684958, 14.939261937406412, 10.714264959320454, 7.87804204085551, 12.190386225555045, 9.671726993250829, 7.900951381670777, 7.607408745442641, 9.490327042459091, 11.350223571917907, 8.297499638459787, 6.947516991056892, 7.337478117169555, 10.875725309736211, 8.528423569263415, 8.615276217813504, 9.038088677251126, 1.7606261977911781, 1.7599618720566488, 1.7593772604820304, 4.241515786146509, 1.7594197664869289, 1.7586326045585334, 1.7585403234058699, 1.7585990925778598, 1.758496831754481, 1.7585257851201364, 1.758304261071419, 1.75826360315369, 1.7581469272503891, 1.7579166555890695, 1.7576808396662413, 1.7577356662522698, 1.7575482702132825, 3.4128381811638264, 3.4119200514580195, 2.585596909529279, 2.586908065773133, 1.7685208565618453, 1.762212842229099, 5.902438543583876, 0.9360880000536458, 0.936068410329649, 0.9360578762327829, 0.9350592931321967, 0.935038656158804, 0.9350093947786202, 2.5966149588222116, 7.952190956311984, 3.4196327352453966, 20.198475039507866, 1.7642771555974297, 2.59067323536646, 15.711529334665881, 8.383492118874047, 5.897416181892044, 4.263987540481131, 8.393993196582766, 11.71468254812426, 8.517804194827828, 10.006929754635024, 7.594856156152228, 8.559740496054863, 12.626946671667174, 5.915292359465178, 4.422374524786169, 3.418515751360151, 11.927159347706205, 10.89125769970054, 4.246564267470336, 7.5709852766244845, 3.4231039357729616, 11.737254838400903, 9.703838530604678, 6.738053374977614, 6.488985927909318, 7.577054887712365, 6.748384921489984, 5.864014593625381, 6.06568722920281, 8.2754287946061, 7.376293975138556, 7.949769222885073, 5.748942337164202, 5.740789069395616, 4.996888073104284, 1.7384344347728877, 1.7375782408703726, 1.7373667759779021, 1.7364781344933578, 1.7351837871115934, 1.7350900002649063, 1.7342402514300546, 1.7339605577178379, 1.733297160235941, 1.731877578522167, 3.367437176715429, 2.551336928915302, 2.5452241156022124, 1.7342430294764613, 0.9233158930119261, 0.9232980579539957, 0.9232791116775027, 0.9232748890469646, 0.923239718979457, 0.9232350518614939, 0.9232061601788653, 0.9229533579558644, 0.9228960190780321, 0.9228438473665161, 0.9228272902099327, 0.9226899991565184, 0.9226773312649044, 0.922638883102637, 0.9225871003176178, 3.3825128567110703, 1.7337366471774656, 3.3774530341079396, 6.6260882785854065, 1.7321899420601252, 1.7306427924553598, 9.930897177110376, 9.097724167313828, 7.45553559478513, 1.7251958213050052, 1.7361308786925325, 1.7374098912581326, 1.7367200467744448, 1.7343828207716414, 1.7305832311404024, 6.631301671593894, 5.00681303281837, 14.86765099096619, 16.505578262550873, 4.989264224789714, 9.929641944622016, 14.818136869764597, 9.939042853661961, 5.001342281590775, 7.488804145088333, 9.117313617110918, 10.765243633709071, 5.822070976948015, 5.010168912877547, 3.372997269915461, 7.487074200030014, 5.024121817637495, 7.447619718232299, 3.366542645772503, 3.3697011734149545, 5.86459064402892, 5.041284810581201, 6.627391960203097, 6.659347050165259, 6.685404236484345, 5.870072507442141, 5.0233590772160985, 5.881181581656578, 5.02254966561507, 1.6530895891141675, 1.6522082123222208, 1.6521414069964113, 1.6518108688961266, 1.651443352390955, 1.6514025366044291, 1.6511902596292067, 1.650960888863046, 2.430159196623618, 2.4309985366439717, 1.6518180203800905, 0.8771374445806925, 0.8766151246116674, 0.8765540753583166, 0.8767667883996345, 0.8762683648526352, 0.8762859819228879, 0.87669762831691, 0.8765888734327266, 0.8764312791458626, 0.8759134942642293, 0.8764184588026589, 0.8762528408996403, 0.8762473464668387, 0.8761893496761555, 0.8761750467082277, 0.8761753955611039, 0.876199553622787, 0.8760948105466809, 0.876055128532003, 3.213552460221577, 2.4308380643208785, 7.890403195329025, 2.4341458872938597, 2.432073003502945, 1.6532401191302866, 2.433344921089898, 2.4362920301887954, 3.216378866225278, 2.433415040518032, 1.652163908006932, 2.4366323361696165, 1.6552386972585518, 1.6748072505011609, 11.04647656253581, 11.818674962907187, 8.72493672075315, 2.4322964437702086, 7.1139613485704585, 9.462749390814375, 4.775508072786631, 4.772699807132497, 3.992456510580998, 3.221764108076566, 7.903064461621093, 6.398578523043171, 5.560432626085064, 4.789844879443519, 3.996635070333199, 4.004441699998816, 4.002503124565273, 3.231145459625756, 4.7998963773680625, 4.008785616014379, 3.9981149042344213, 4.010640117904736, 3.214632857579447, 4.028694998517123, 3.2351513372041936, 3.211971807839107, 2.466409545557537, 2.4606881839599435, 1.3315130516296878, 1.9569785264124766, 1.3308613144832615, 0.7057474599201584, 0.7057204186112617, 0.7055938652856246, 0.7056146662924683, 0.7055882906157905, 0.7054487574618831, 0.7054842023775447, 0.705387020073571, 0.7053791156909704, 0.7052365871920775, 0.7053309405591205, 0.7052573881989211, 0.7050322381008451, 0.704925404129696, 0.7050178438041093, 0.7049672557554655, 0.704843281754677, 0.7049405472626782, 0.704717810081396, 0.7046977579107987, 0.7045996603625239, 0.7046008252189071, 0.704537090933938, 0.7045382557903213, 0.7045360924856096, 0.7045073870961652, 0.7045191188640251, 1.3314004765806497, 1.3312540374924704, 1.331037956633378, 1.330878537716928, 1.3316381904868595, 1.3322873483084372, 1.3324184778555799, 1.9766294871897887, 2.585885985399704, 3.863812980871181, 5.112967690860362, 5.754586229109629, 3.87443547263806, 2.589848826815508, 1.9654352173467908, 1.3334431354526999, 1.333305099971285, 1.332480048835837, 1.3302233892053794, 5.751069028464444, 2.589003141081271, 3.872640262543422, 4.485962775163086, 2.592472915430853, 1.3332780586623882, 3.865663438439995, 2.590212262007081, 3.234148198826789, 1.963392558474741, 2.618293621246057, 3.2766781038274435, 1.9709969073526281, 1.9854499461317852, 1.9696260377976018, 1.9784955871157495, 1.9849420687486898, 1.9756849550710307, 1.9874450123001768, 1.3519916428672965, 1.3487179804102374, 1.3464586582509035, 1.6741831788720885, 1.1406146059668647, 1.1367741535205944, 1.1346838663412897, 0.603853819713727, 0.6038254857803889, 0.6038098275540703, 0.6038059846926662, 0.6037547656593241, 0.603748227059323, 0.603743466499673, 0.6033349187118839, 0.6035785102399958, 0.6035295854522681, 0.603503029559281, 0.6034487706504998, 0.6034430350364638, 0.6034173394855822, 0.6028936205679488, 0.6027865940100359, 0.6029509193521692, 0.602991756924106, 0.6029533283100643, 0.6024729706345436, 0.6026123460556201, 0.602437237759099, 0.6023943353661091, 0.6024245046959389, 0.6020216351660455, 0.6023649690222445, 2.2080895794440365, 4.364548079033636, 4.94259702706225, 3.826048254604762, 2.2144049493468705, 1.1423343724794393, 3.829920252928231, 1.6787334709114627, 2.759147186668039, 1.1405298335914116, 2.773032419975675, 2.75822031143981, 2.2281254558193906, 1.6752527561775346, 1.6814568551680684, 1.6885645427938445, 1.6809006153188506, 1.6990859531816076, 1.6916126775171725, 1.1432580357638078, 1.144586403974561, 2.2398511157301666, 1.1375689949137127, 1.1448131901535472, 1.1432552826690705, 1.6947237892826166, 1.6855425624705211, 1.6841812718352007, 1.7061474117582531, 1.1802402426578473, 1.154958000123702, 1.1496697639824474, 1.1486435479191142, 1.1472672299750193, 1.1469056568661855, 1.146335651543281, 0.9101818545634502, 0.48486792752123703, 0.4844770075692557, 0.48308531412952954, 0.4828465123613746, 0.48282890715553084, 0.4827326730346987, 0.48267521639340477, 0.48256444551219185, 0.48255976613286083, 0.4824886549092567, 0.4823946837669535, 0.48232783001142926, 0.48234025721555424, 0.4823368435699767, 0.4822754363051492, 0.48226400634579963, 0.4822092345942858, 0.482253496920089, 0.4821613668450636, 0.4821250057663275, 0.4820872638871331, 0.48208856797645483, 0.4820118184843125, 0.4817364255040117, 0.4814450766073035, 0.4812850188208418, 0.48064256305203423, 0.9061120986347879, 0.9103600545337117, 0.9081040567182059, 1.767352785041959, 2.193022881891286, 0.9091684237381706, 2.6291907443584956, 0.9111478779063271, 1.3460460176409639, 1.768544262415227, 0.9144707742093046, 1.323123962921276, 0.9107931656108087, 1.3394625144779069, 0.9082227288464859, 1.3095210839171485, 0.9105416297939825, 0.901303000771825, 1.2986336257254687, 1.3384964144238936, 1.3433775440440994, 1.2550947626512796, 0.9018959778575423, 0.9001985905385687, 0.8815801072918209, 0.860453553434785, 0.8682154930778923, 0.8328023338564445, 0.49163197034422096], \"Total\": [38.0, 57.0, 48.0, 37.0, 53.0, 23.0, 70.0, 39.0, 65.0, 76.0, 44.0, 11.0, 50.0, 16.0, 36.0, 18.0, 12.0, 54.0, 39.0, 19.0, 22.0, 31.0, 37.0, 26.0, 8.0, 50.0, 11.0, 29.0, 19.0, 13.0, 5.998614534678582, 4.239429202150005, 3.3614682199932626, 3.3601552680921105, 3.3610226222222903, 3.3610534270048142, 3.3609476397818736, 3.359310863720019, 3.3605145607034066, 3.3588427770557607, 13.347929644331467, 6.817329580068411, 14.612553079451168, 13.46715805003956, 2.481846092646084, 2.4818791582659965, 2.4817330302960783, 2.482147867880123, 2.481517242408313, 2.481542967177596, 2.4815165209997554, 2.4815532051794813, 2.4818570723122906, 2.4819474224290556, 2.4817038652253838, 2.481790534972168, 2.4817301637857785, 2.4814294322391546, 2.48157338633376, 2.4812003453317217, 2.4815830985408467, 5.0219960800447945, 7.66300118860684, 7.660629754146072, 5.060832721227939, 5.060134836583967, 5.071451936446732, 5.1120267677778415, 5.114440129349419, 8.142135346917021, 12.920797801451657, 6.782994759076108, 3.901866163557183, 10.099855071170088, 12.532412230528262, 60.49162153357996, 39.20259757681725, 19.343514029848766, 70.37423410909462, 29.925041820240406, 24.3816552771369, 11.026809777535927, 26.168917655891722, 57.46182928828521, 11.189997109730449, 11.852411303552998, 31.854244908258565, 20.307496194114353, 53.070348219397474, 13.205395249466948, 20.262560383793865, 26.84130049156308, 50.39172037328427, 38.6490082427857, 54.2786860045391, 31.455199742454127, 37.41171028552547, 23.355836080976836, 37.55304616431481, 76.24898155971032, 65.84138929559396, 25.343044979464644, 50.98842922427704, 50.67849625981527, 27.77636755739988, 12.945412855379983, 11.19774992057705, 4.222075263451525, 4.2231572561458535, 4.220345410943008, 4.212986471531413, 3.3481072416387363, 3.3475784036628076, 3.3461593859885603, 3.3474308793066756, 3.346906583590981, 3.346565096035159, 3.3451764684831167, 3.3419768623771535, 2.4732049817685295, 2.4736292408966527, 2.473596868508841, 2.4735032708333238, 2.4735459238812947, 2.473506801974778, 2.4723848043506154, 2.4726302261169604, 2.4735507057257013, 2.47350111907539, 2.472461525282186, 2.4734804809145214, 2.4721326020369894, 2.472425419647835, 2.4734252667018666, 2.4734366849555345, 10.87964916998224, 6.8353455944937584, 19.044301893935696, 3.8854273654226983, 12.440381606283918, 16.30327530604033, 11.881729543889545, 36.2620868651784, 39.74357493108166, 5.865451734272405, 23.742540121106032, 26.84130049156308, 8.161788198083281, 4.178482151665466, 9.4935846138548, 38.6490082427857, 65.84138929559396, 50.67849625981527, 54.2786860045391, 76.24898155971032, 53.070348219397474, 50.98842922427704, 34.204698156570316, 20.874680726866533, 44.335251906592866, 33.313684169897606, 23.59419503838198, 22.576094184672492, 37.55304616431481, 57.46182928828521, 28.651860232140915, 19.730896852470543, 23.973860342624977, 70.37423410909462, 37.41171028552547, 39.20259757681725, 50.39172037328427, 2.3887531853996467, 2.3881797089847714, 2.3878419612294555, 5.757515983942164, 2.3887767043606507, 2.3877154852649136, 2.387824835812603, 2.3879114718574814, 2.387804133639956, 2.3878901539153214, 2.3877031956571044, 2.3878578466755096, 2.3878023036468847, 2.38773034448089, 2.387554763738861, 2.3877262552104965, 2.3874898782355403, 4.924344815336555, 4.930002055940958, 4.093175881720567, 4.098778110029845, 2.825842672161536, 2.821428577907774, 9.753097036820238, 1.5561956391192493, 1.5561937027544297, 1.556192949300401, 1.5561858451400226, 1.556188855536802, 1.5561666127722238, 4.581861562190605, 15.139717877736045, 6.343423338827066, 48.37953309627769, 3.170921009743794, 4.919296575815667, 39.74357493108166, 19.343514029848766, 13.385216338924888, 8.972250961925655, 21.89327360369208, 36.02134428327487, 23.811098429790146, 31.455199742454127, 21.219083937875396, 26.199774083767846, 50.39172037328427, 15.489044590615899, 10.083909415701733, 7.016293146896018, 57.46182928828521, 50.98842922427704, 10.383211997294252, 27.77636755739988, 7.305261112504075, 60.49162153357996, 44.335251906592866, 25.674007019690613, 23.973860342624977, 33.313684169897606, 26.721984355410648, 20.307496194114353, 23.59419503838198, 70.37423410909462, 53.070348219397474, 76.24898155971032, 34.204698156570316, 54.2786860045391, 5.647844047844714, 2.3658082916051884, 2.3656567592631568, 2.3657004362020086, 2.364953222368674, 2.365436236361116, 2.36552737568969, 2.3653616057411777, 2.365470017021277, 2.365300472619757, 2.3655010597434196, 4.839391611558962, 4.064480548096434, 4.0597153106146715, 2.80412858051423, 1.5448699166392073, 1.5448704840883325, 1.5448719913288211, 1.5448720081517844, 1.5448747373570066, 1.5448750823433448, 1.5448769296724725, 1.5448936068454642, 1.5448973773383317, 1.5449004909018687, 1.544901531742943, 1.5449098730235138, 1.5449106155896106, 1.544913562306066, 1.5449168518703975, 5.713394316469106, 2.995849831028228, 6.541712215487109, 14.324592684216801, 3.1473020895732224, 3.147070771576049, 23.445011908152765, 21.35667334260344, 17.13622834158845, 3.197038955804106, 3.2374308105019938, 3.2424334967649826, 3.2443983252211526, 3.243224202985459, 3.239489910553775, 16.14870819688159, 12.273575629318447, 54.2786860045391, 76.24898155971032, 14.145387812088376, 37.41171028552547, 65.84138929559396, 38.6490082427857, 15.794054482111232, 34.204698156570316, 50.67849625981527, 70.37423410909462, 23.355836080976836, 18.04868224914932, 8.690233318368492, 44.335251906592866, 21.27276367992552, 48.37953309627769, 9.607282709948587, 9.811317199722193, 36.02134428327487, 25.64823752183953, 50.98842922427704, 53.070348219397474, 57.46182928828521, 50.39172037328427, 28.651860232140915, 60.49162153357996, 37.55304616431481, 2.2888215014027993, 2.2883835507729726, 2.288291469370367, 2.2884397379805446, 2.288386245817528, 2.2883877423405714, 2.2885549755226178, 2.288263739668229, 3.9425451428353244, 3.9493326847207224, 2.831103175117471, 1.5064663942669605, 1.505762281310747, 1.505739314502128, 1.5065226344181017, 1.505719767609768, 1.5057844063320036, 1.5065056926233105, 1.5065200811316426, 1.506496624692156, 1.505636960168294, 1.5065128231114508, 1.5064986555250146, 1.5065147449802816, 1.5065157597576198, 1.506521309487515, 1.5065232323284798, 1.5065697233099202, 1.5065198538819733, 1.506571234799569, 6.473163246237984, 4.736734886417526, 18.57534266508909, 4.82533107954397, 4.824316162124619, 3.1669165855597976, 5.323931615076929, 5.542843875424949, 8.287923385485875, 6.085150255995743, 3.6017851315406593, 6.411997877737434, 3.7501843010878644, 3.9393403451531492, 65.84138929559396, 76.24898155971032, 48.37953309627769, 7.027761106462352, 36.2620868651784, 60.49162153357996, 21.27276367992552, 21.35667334260344, 17.068056607941234, 11.695555241166224, 70.37423410909462, 50.98842922427704, 44.335251906592866, 33.313684169897606, 23.355836080976836, 26.199774083767846, 26.168917655891722, 15.573524579773677, 50.67849625981527, 34.204698156570316, 39.20259757681725, 50.39172037328427, 19.39885732151859, 57.46182928828521, 27.77636755739988, 37.55304616431481, 12.307531155245245, 37.41171028552547, 1.9844772051133195, 3.493473999481908, 2.421593645845948, 1.353914098507492, 1.3541028115803766, 1.3539435439321197, 1.3541243911927776, 1.3541600806271838, 1.3539653235793538, 1.3541867910547534, 1.3542247822226805, 1.3542176703633488, 1.354022782926593, 1.3542366720109476, 1.354256386186599, 1.3540910513757833, 1.354126939283562, 1.354337538139575, 1.3543475496369564, 1.3541489538763851, 1.3543521579518016, 1.3541466356125886, 1.3542141977762407, 1.3541491424951915, 1.3542232584579437, 1.3541561968139892, 1.354164247491149, 1.3541986179399383, 1.3541867858768026, 1.354223152112251, 2.7662534397239966, 2.8049873633151687, 2.8052880703859415, 2.805190148395638, 2.816508488037359, 2.86295512626111, 3.3015895662258967, 7.762804402164621, 12.307531155245245, 29.925041820240406, 50.67849625981527, 65.84138929559396, 31.854244908258565, 15.573524579773677, 9.4935846138548, 4.515475834827441, 4.515604120717628, 4.526660016796604, 4.51623999943542, 76.24898155971032, 16.4821388922454, 37.41171028552547, 50.39172037328427, 17.643110508865412, 4.804590274244517, 54.2786860045391, 23.59419503838198, 44.335251906592866, 12.944197953815605, 33.313684169897606, 70.37423410909462, 19.39885732151859, 23.973860342624977, 26.721984355410648, 28.651860232140915, 36.02134428327487, 37.55304616431481, 53.070348219397474, 50.98842922427704, 39.74357493108166, 57.46182928828521, 2.3482603835637708, 1.804794043604088, 1.8054933762697585, 1.8071120830435463, 1.264669813252633, 1.264680259543781, 1.2646728385661792, 1.2646683711999862, 1.2647164048197501, 1.264717913954693, 1.2647205442854383, 1.2640596577006569, 1.2648070928752126, 1.2648622579827429, 1.2648300348291657, 1.2648789922683508, 1.2648816704674672, 1.2648918610993447, 1.2643690651958421, 1.2641778888474664, 1.2651479512785941, 1.2653480592274924, 1.2653755580012096, 1.2644222041554085, 1.2647763822792404, 1.2648510478093393, 1.2649805976221553, 1.2657007283649746, 1.2648829589797275, 1.2657373374361662, 8.560685569522654, 37.55304616431481, 57.46182928828521, 38.6490082427857, 16.4821388922454, 4.442115742301401, 53.070348219397474, 10.65518084143399, 36.02134428327487, 5.0626558730885565, 39.20259757681725, 44.335251906592866, 31.455199742454127, 18.57534266508909, 19.39885732151859, 20.307496194114353, 20.874680726866533, 25.674007019690613, 26.721984355410648, 8.638393820500662, 8.7187638514306, 76.24898155971032, 10.835838308288167, 12.273575629318447, 12.259683972811786, 50.98842922427704, 50.39172037328427, 50.67849625981527, 60.49162153357996, 70.37423410909462, 37.41171028552547, 24.3816552771369, 36.2620868651784, 12.532412230528262, 16.30327530604033, 22.576094184672492, 1.5947387488329419, 1.1572661044192578, 1.157596927968037, 1.15844615886112, 1.158683817619854, 1.1586752589223328, 1.158786381784682, 1.1588399428140623, 1.1589841574642046, 1.1590092746515857, 1.1590478370389976, 1.1590424524193628, 1.1590089640353438, 1.1590849049647072, 1.1592443540179942, 1.159153681709118, 1.1592191116478692, 1.1591904636093067, 1.159297311706872, 1.1592407040885226, 1.1593185731282623, 1.1594145720522029, 1.1594347202685504, 1.1594195561066327, 1.159656689286873, 1.159898688326653, 1.1601051018861943, 1.7016142177784324, 3.3093818449638848, 3.3526429493473175, 4.1400733309493205, 11.054318349628037, 23.355836080976836, 5.1120267677778415, 70.37423410909462, 6.67389106405766, 19.730896852470543, 48.37953309627769, 7.589797649524374, 22.576094184672492, 7.637033553079164, 25.343044979464644, 8.109171846474828, 26.199774083767846, 8.734178179423866, 10.09333761091703, 39.74357493108166, 53.070348219397474, 57.46182928828521, 76.24898155971032, 20.262560383793865, 21.89327360369208, 28.651860232140915, 50.67849625981527, 65.84138929559396, 50.98842922427704, 54.2786860045391], \"Category\": [\"Default\", \"Default\", \"Default\", \"Default\", \"Default\", \"Default\", \"Default\", \"Default\", \"Default\", \"Default\", \"Default\", \"Default\", \"Default\", \"Default\", \"Default\", \"Default\", \"Default\", \"Default\", \"Default\", \"Default\", \"Default\", \"Default\", \"Default\", \"Default\", \"Default\", \"Default\", \"Default\", \"Default\", \"Default\", \"Default\", \"Topic1\", \"Topic1\", \"Topic1\", \"Topic1\", \"Topic1\", \"Topic1\", \"Topic1\", \"Topic1\", \"Topic1\", \"Topic1\", \"Topic1\", \"Topic1\", \"Topic1\", \"Topic1\", \"Topic1\", \"Topic1\", \"Topic1\", \"Topic1\", \"Topic1\", \"Topic1\", \"Topic1\", \"Topic1\", \"Topic1\", \"Topic1\", \"Topic1\", \"Topic1\", \"Topic1\", \"Topic1\", \"Topic1\", \"Topic1\", \"Topic1\", \"Topic1\", \"Topic1\", \"Topic1\", \"Topic1\", \"Topic1\", \"Topic1\", \"Topic1\", \"Topic1\", \"Topic1\", \"Topic1\", \"Topic1\", \"Topic1\", \"Topic1\", \"Topic1\", \"Topic1\", \"Topic1\", \"Topic1\", \"Topic1\", \"Topic1\", \"Topic1\", \"Topic1\", \"Topic1\", \"Topic1\", \"Topic1\", \"Topic1\", \"Topic1\", \"Topic1\", \"Topic1\", \"Topic1\", \"Topic1\", \"Topic1\", \"Topic1\", \"Topic1\", \"Topic1\", \"Topic1\", \"Topic1\", \"Topic1\", \"Topic1\", \"Topic1\", \"Topic1\", \"Topic1\", \"Topic1\", \"Topic1\", \"Topic1\", \"Topic2\", \"Topic2\", \"Topic2\", \"Topic2\", \"Topic2\", \"Topic2\", \"Topic2\", \"Topic2\", \"Topic2\", \"Topic2\", \"Topic2\", \"Topic2\", \"Topic2\", \"Topic2\", \"Topic2\", \"Topic2\", \"Topic2\", \"Topic2\", \"Topic2\", \"Topic2\", \"Topic2\", \"Topic2\", \"Topic2\", \"Topic2\", \"Topic2\", \"Topic2\", \"Topic2\", \"Topic2\", \"Topic2\", \"Topic2\", \"Topic2\", \"Topic2\", \"Topic2\", \"Topic2\", \"Topic2\", \"Topic2\", \"Topic2\", \"Topic2\", \"Topic2\", \"Topic2\", \"Topic2\", \"Topic2\", \"Topic2\", \"Topic2\", \"Topic2\", \"Topic2\", \"Topic2\", \"Topic2\", \"Topic2\", \"Topic2\", \"Topic2\", \"Topic2\", \"Topic2\", \"Topic2\", \"Topic2\", \"Topic2\", \"Topic2\", \"Topic2\", \"Topic2\", \"Topic2\", \"Topic2\", \"Topic2\", \"Topic2\", \"Topic2\", \"Topic2\", \"Topic2\", \"Topic2\", \"Topic3\", \"Topic3\", \"Topic3\", \"Topic3\", \"Topic3\", \"Topic3\", \"Topic3\", \"Topic3\", \"Topic3\", \"Topic3\", \"Topic3\", \"Topic3\", \"Topic3\", \"Topic3\", \"Topic3\", \"Topic3\", \"Topic3\", \"Topic3\", \"Topic3\", \"Topic3\", \"Topic3\", \"Topic3\", \"Topic3\", \"Topic3\", \"Topic3\", \"Topic3\", \"Topic3\", \"Topic3\", \"Topic3\", \"Topic3\", \"Topic3\", \"Topic3\", \"Topic3\", \"Topic3\", \"Topic3\", \"Topic3\", \"Topic3\", \"Topic3\", \"Topic3\", \"Topic3\", \"Topic3\", \"Topic3\", \"Topic3\", \"Topic3\", \"Topic3\", \"Topic3\", \"Topic3\", \"Topic3\", \"Topic3\", \"Topic3\", \"Topic3\", \"Topic3\", \"Topic3\", \"Topic3\", \"Topic3\", \"Topic3\", \"Topic3\", \"Topic3\", \"Topic3\", \"Topic3\", \"Topic3\", \"Topic3\", \"Topic3\", \"Topic3\", \"Topic3\", \"Topic3\", \"Topic3\", \"Topic3\", \"Topic4\", \"Topic4\", \"Topic4\", \"Topic4\", \"Topic4\", \"Topic4\", \"Topic4\", \"Topic4\", \"Topic4\", \"Topic4\", \"Topic4\", \"Topic4\", \"Topic4\", \"Topic4\", \"Topic4\", \"Topic4\", \"Topic4\", \"Topic4\", \"Topic4\", \"Topic4\", \"Topic4\", \"Topic4\", \"Topic4\", \"Topic4\", \"Topic4\", \"Topic4\", \"Topic4\", \"Topic4\", \"Topic4\", \"Topic4\", \"Topic4\", \"Topic4\", \"Topic4\", \"Topic4\", \"Topic4\", \"Topic4\", \"Topic4\", \"Topic4\", \"Topic4\", \"Topic4\", \"Topic4\", \"Topic4\", \"Topic4\", \"Topic4\", \"Topic4\", \"Topic4\", \"Topic4\", \"Topic4\", \"Topic4\", \"Topic4\", \"Topic4\", \"Topic4\", \"Topic4\", \"Topic4\", \"Topic4\", \"Topic4\", \"Topic4\", \"Topic4\", \"Topic4\", \"Topic4\", \"Topic4\", \"Topic4\", \"Topic4\", \"Topic4\", \"Topic4\", \"Topic4\", \"Topic4\", \"Topic4\", \"Topic4\", \"Topic4\", \"Topic4\", \"Topic4\", \"Topic4\", \"Topic4\", \"Topic5\", \"Topic5\", \"Topic5\", \"Topic5\", \"Topic5\", \"Topic5\", \"Topic5\", \"Topic5\", \"Topic5\", \"Topic5\", \"Topic5\", \"Topic5\", \"Topic5\", \"Topic5\", \"Topic5\", \"Topic5\", \"Topic5\", \"Topic5\", \"Topic5\", \"Topic5\", \"Topic5\", \"Topic5\", \"Topic5\", \"Topic5\", \"Topic5\", \"Topic5\", \"Topic5\", \"Topic5\", \"Topic5\", \"Topic5\", \"Topic5\", \"Topic5\", \"Topic5\", \"Topic5\", \"Topic5\", \"Topic5\", \"Topic5\", \"Topic5\", \"Topic5\", \"Topic5\", \"Topic5\", \"Topic5\", \"Topic5\", \"Topic5\", \"Topic5\", \"Topic5\", \"Topic5\", \"Topic5\", \"Topic5\", \"Topic5\", \"Topic5\", \"Topic5\", \"Topic5\", \"Topic5\", \"Topic5\", \"Topic5\", \"Topic5\", \"Topic5\", \"Topic5\", \"Topic5\", \"Topic5\", \"Topic5\", \"Topic5\", \"Topic5\", \"Topic5\", \"Topic5\", \"Topic5\", \"Topic5\", \"Topic5\", \"Topic5\", \"Topic5\", \"Topic5\", \"Topic6\", \"Topic6\", \"Topic6\", \"Topic6\", \"Topic6\", \"Topic6\", \"Topic6\", \"Topic6\", \"Topic6\", \"Topic6\", \"Topic6\", \"Topic6\", \"Topic6\", \"Topic6\", \"Topic6\", \"Topic6\", \"Topic6\", \"Topic6\", \"Topic6\", \"Topic6\", \"Topic6\", \"Topic6\", \"Topic6\", \"Topic6\", \"Topic6\", \"Topic6\", \"Topic6\", \"Topic6\", \"Topic6\", \"Topic6\", \"Topic6\", \"Topic6\", \"Topic6\", \"Topic6\", \"Topic6\", \"Topic6\", \"Topic6\", \"Topic6\", \"Topic6\", \"Topic6\", \"Topic6\", \"Topic6\", \"Topic6\", \"Topic6\", \"Topic6\", \"Topic6\", \"Topic6\", \"Topic6\", \"Topic6\", \"Topic6\", \"Topic6\", \"Topic6\", \"Topic6\", \"Topic6\", \"Topic6\", \"Topic6\", \"Topic6\", \"Topic6\", \"Topic6\", \"Topic6\", \"Topic6\", \"Topic6\", \"Topic6\", \"Topic6\", \"Topic6\", \"Topic6\", \"Topic6\", \"Topic6\", \"Topic6\", \"Topic6\", \"Topic6\", \"Topic7\", \"Topic7\", \"Topic7\", \"Topic7\", \"Topic7\", \"Topic7\", \"Topic7\", \"Topic7\", \"Topic7\", \"Topic7\", \"Topic7\", \"Topic7\", \"Topic7\", \"Topic7\", \"Topic7\", \"Topic7\", \"Topic7\", \"Topic7\", \"Topic7\", \"Topic7\", \"Topic7\", \"Topic7\", \"Topic7\", \"Topic7\", \"Topic7\", \"Topic7\", \"Topic7\", \"Topic7\", \"Topic7\", \"Topic7\", \"Topic7\", \"Topic7\", \"Topic7\", \"Topic7\", \"Topic7\", \"Topic7\", \"Topic7\", \"Topic7\", \"Topic7\", \"Topic7\", \"Topic7\", \"Topic7\", \"Topic7\", \"Topic7\", \"Topic7\", \"Topic7\", \"Topic7\", \"Topic7\", \"Topic7\", \"Topic7\", \"Topic7\", \"Topic7\", \"Topic7\", \"Topic7\", \"Topic7\", \"Topic7\", \"Topic7\", \"Topic7\", \"Topic7\", \"Topic7\", \"Topic7\", \"Topic7\", \"Topic7\", \"Topic7\", \"Topic7\", \"Topic7\", \"Topic8\", \"Topic8\", \"Topic8\", \"Topic8\", \"Topic8\", \"Topic8\", \"Topic8\", \"Topic8\", \"Topic8\", \"Topic8\", \"Topic8\", \"Topic8\", \"Topic8\", \"Topic8\", \"Topic8\", \"Topic8\", \"Topic8\", \"Topic8\", \"Topic8\", \"Topic8\", \"Topic8\", \"Topic8\", \"Topic8\", \"Topic8\", \"Topic8\", \"Topic8\", \"Topic8\", \"Topic8\", \"Topic8\", \"Topic8\", \"Topic8\", \"Topic8\", \"Topic8\", \"Topic8\", \"Topic8\", \"Topic8\", \"Topic8\", \"Topic8\", \"Topic8\", \"Topic8\", \"Topic8\", \"Topic8\", \"Topic8\", \"Topic8\", \"Topic8\", \"Topic8\", \"Topic8\", \"Topic8\", \"Topic8\", \"Topic8\", \"Topic8\", \"Topic8\", \"Topic8\", \"Topic8\", \"Topic8\", \"Topic8\", \"Topic8\"], \"logprob\": [30.0, 29.0, 28.0, 27.0, 26.0, 25.0, 24.0, 23.0, 22.0, 21.0, 20.0, 19.0, 18.0, 17.0, 16.0, 15.0, 14.0, 13.0, 12.0, 11.0, 10.0, 9.0, 8.0, 7.0, 6.0, 5.0, 4.0, 3.0, 2.0, 1.0, -5.6768, -6.0739, -6.3492, -6.3505, -6.3507, -6.3513, -6.3523, -6.353, -6.3532, -6.355, -4.9954, -5.6773, -4.9181, -5.0214, -6.7348, -6.735, -6.735, -6.735, -6.7354, -6.7354, -6.7354, -6.7355, -6.7353, -6.7353, -6.7355, -6.7355, -6.7355, -6.7357, -6.7357, -6.7358, -6.7357, -6.072, -5.6777, -5.6819, -6.072, -6.0738, -6.0741, -6.0711, -6.0738, -5.6785, -5.2777, -5.8552, -6.3489, -5.5698, -5.3938, -4.1191, -4.5233, -5.0913, -4.1184, -4.9486, -5.0837, -5.6006, -5.0711, -4.5934, -5.6093, -5.5744, -4.9893, -5.2625, -4.7116, -5.5262, -5.283, -5.173, -4.8554, -5.044, -4.9429, -5.1765, -5.1406, -5.3286, -5.1721, -4.9809, -5.0487, -5.3714, -5.2453, -5.2686, -5.3923, -4.669, -4.8144, -5.8793, -5.879, -5.8804, -5.8927, -6.1546, -6.1567, -6.1572, -6.1571, -6.1574, -6.1576, -6.1589, -6.1719, -6.5413, -6.5415, -6.5415, -6.5418, -6.5418, -6.542, -6.5425, -6.5424, -6.5421, -6.5422, -6.5429, -6.5425, -6.5431, -6.5432, -6.5429, -6.5432, -5.2072, -5.6422, -4.7842, -6.1596, -5.183, -4.9855, -5.2543, -4.4272, -4.4369, -5.899, -4.8691, -4.785, -5.6619, -6.1566, -5.5607, -4.5569, -4.1867, -4.4088, -4.3627, -4.1633, -4.4268, -4.4539, -4.7863, -5.0938, -4.6573, -4.8887, -5.0909, -5.1288, -4.9076, -4.7287, -5.042, -5.2195, -5.1649, -4.7714, -5.0145, -5.0044, -4.9565, -6.3988, -6.3992, -6.3995, -5.5195, -6.3995, -6.3999, -6.4, -6.3999, -6.4, -6.4, -6.4001, -6.4001, -6.4002, -6.4003, -6.4005, -6.4004, -6.4005, -5.7369, -5.7372, -6.0145, -6.014, -6.3943, -6.3979, -5.1891, -7.0305, -7.0305, -7.0305, -7.0316, -7.0316, -7.0316, -6.0102, -4.891, -5.7349, -3.9588, -6.3967, -6.0125, -4.2101, -4.8382, -5.1899, -5.5142, -4.8369, -4.5036, -4.8223, -4.6612, -4.937, -4.8174, -4.4286, -5.1869, -5.4778, -5.7352, -4.4856, -4.5765, -5.5183, -4.9401, -5.7339, -4.5017, -4.6919, -5.0567, -5.0943, -4.9393, -5.0551, -5.1956, -5.1618, -4.8512, -4.9662, -4.8913, -5.2154, -5.2169, -5.2524, -6.3082, -6.3087, -6.3088, -6.3094, -6.3101, -6.3102, -6.3106, -6.3108, -6.3112, -6.312, -5.6471, -5.9246, -5.927, -6.3106, -6.941, -6.941, -6.941, -6.941, -6.9411, -6.9411, -6.9411, -6.9414, -6.9415, -6.9415, -6.9415, -6.9417, -6.9417, -6.9417, -6.9418, -5.6426, -6.3109, -5.6441, -4.9702, -6.3118, -6.3127, -4.5656, -4.6532, -4.8523, -6.3159, -6.3096, -6.3088, -6.3092, -6.3106, -6.3128, -4.9694, -5.2504, -4.162, -4.0575, -5.2539, -4.5657, -4.1654, -4.5647, -5.2515, -4.8478, -4.651, -4.4849, -5.0996, -5.2497, -5.6454, -4.848, -5.247, -4.8533, -5.6473, -5.6464, -5.0923, -5.2436, -4.97, -4.9652, -4.9613, -5.0914, -5.2471, -5.0895, -5.2473, -6.1163, -6.1168, -6.1169, -6.1171, -6.1173, -6.1173, -6.1175, -6.1176, -5.731, -5.7306, -6.1171, -6.75, -6.7506, -6.7507, -6.7505, -6.751, -6.751, -6.7505, -6.7507, -6.7508, -6.7514, -6.7509, -6.751, -6.7511, -6.7511, -6.7511, -6.7511, -6.7511, -6.7512, -6.7513, -5.4516, -5.7307, -4.5533, -5.7294, -5.7302, -6.1162, -5.7297, -5.7285, -5.4507, -5.7297, -6.1169, -5.7283, -6.115, -6.1032, -4.2168, -4.1493, -4.4528, -5.7301, -4.6569, -4.3716, -5.0554, -5.056, -5.2345, -5.449, -4.5517, -4.7629, -4.9033, -5.0524, -5.2335, -5.2315, -5.232, -5.4461, -5.0504, -5.2305, -5.2331, -5.23, -5.4512, -5.2255, -5.4449, -5.4521, -5.7162, -5.7185, -5.5924, -5.2073, -5.5929, -6.2272, -6.2273, -6.2275, -6.2274, -6.2275, -6.2277, -6.2276, -6.2277, -6.2278, -6.228, -6.2278, -6.2279, -6.2283, -6.2284, -6.2283, -6.2283, -6.2285, -6.2284, -6.2287, -6.2287, -6.2289, -6.2289, -6.229, -6.229, -6.229, -6.229, -6.229, -5.5925, -5.5926, -5.5928, -5.5929, -5.5923, -5.5918, -5.5917, -5.1973, -4.9287, -4.5271, -4.247, -4.1287, -4.5243, -4.9271, -5.203, -5.591, -5.5911, -5.5917, -5.5934, -4.1294, -4.9275, -4.5248, -4.3778, -4.9261, -5.5911, -4.5266, -4.927, -4.705, -5.2041, -4.9162, -4.6919, -5.2002, -5.1929, -5.2009, -5.1964, -5.1931, -5.1978, -5.1919, -5.5772, -5.5796, -5.5813, -4.9914, -5.3752, -5.3785, -5.3804, -6.0111, -6.0112, -6.0112, -6.0112, -6.0113, -6.0113, -6.0113, -6.012, -6.0116, -6.0117, -6.0117, -6.0118, -6.0118, -6.0119, -6.0127, -6.0129, -6.0126, -6.0126, -6.0126, -6.0134, -6.0132, -6.0135, -6.0136, -6.0135, -6.0142, -6.0136, -4.7146, -4.0332, -3.9088, -4.1649, -4.7117, -5.3736, -4.1639, -4.9887, -4.4918, -5.3752, -4.4868, -4.4921, -4.7056, -4.9908, -4.9871, -4.9828, -4.9874, -4.9766, -4.981, -5.3728, -5.3717, -4.7003, -5.3778, -5.3715, -5.3728, -4.9792, -4.9846, -4.9854, -4.9725, -5.341, -5.3627, -5.3672, -5.3681, -5.3693, -5.3697, -5.3702, -5.1985, -5.8282, -5.829, -5.8319, -5.8324, -5.8324, -5.8326, -5.8328, -5.833, -5.833, -5.8331, -5.8333, -5.8335, -5.8334, -5.8335, -5.8336, -5.8336, -5.8337, -5.8336, -5.8338, -5.8339, -5.834, -5.834, -5.8341, -5.8347, -5.8353, -5.8356, -5.837, -5.2029, -5.1983, -5.2007, -4.5349, -4.3191, -5.1996, -4.1377, -5.1974, -4.8072, -4.5342, -5.1938, -4.8243, -5.1978, -4.8121, -5.2006, -4.8347, -5.1981, -5.2083, -4.843, -4.8128, -4.8092, -4.8771, -5.2076, -5.2095, -5.2304, -5.2546, -5.2457, -5.2873, -5.8144], \"loglift\": [30.0, 29.0, 28.0, 27.0, 26.0, 25.0, 24.0, 23.0, 22.0, 21.0, 20.0, 19.0, 18.0, 17.0, 16.0, 15.0, 14.0, 13.0, 12.0, 11.0, 10.0, 9.0, 8.0, 7.0, 6.0, 5.0, 4.0, 3.0, 2.0, 1.0, 1.2926, 1.2426, 1.1994, 1.1985, 1.198, 1.1974, 1.1964, 1.1962, 1.1956, 1.1943, 1.1741, 1.1641, 1.1609, 1.1393, 1.1171, 1.1169, 1.1169, 1.1168, 1.1166, 1.1166, 1.1166, 1.1166, 1.1166, 1.1165, 1.1165, 1.1165, 1.1164, 1.1164, 1.1163, 1.1163, 1.1163, 1.0751, 1.0468, 1.0429, 1.0674, 1.0658, 1.0632, 1.0582, 1.0551, 0.9854, 0.9244, 0.9913, 1.0505, 0.8786, 0.8389, 0.5393, 0.5689, 0.7073, 0.3887, 0.4136, 0.4834, 0.76, 0.4252, 0.1164, 0.7366, 0.714, 0.3104, 0.4874, 0.0777, 0.6541, 0.4691, 0.298, -0.0143, 0.0624, -0.1761, 0.1358, -0.0017, 0.2815, -0.037, -0.5539, -0.475, 0.157, -0.416, -0.4332, 0.0444, 1.5312, 1.5308, 1.4413, 1.4413, 1.4406, 1.4301, 1.3979, 1.396, 1.3959, 1.3957, 1.3955, 1.3954, 1.3945, 1.3825, 1.3141, 1.3138, 1.3137, 1.3135, 1.3135, 1.3132, 1.3132, 1.3132, 1.3131, 1.3131, 1.3128, 1.3128, 1.3127, 1.3126, 1.3124, 1.3121, 1.1668, 1.1966, 1.0299, 1.2441, 1.057, 0.984, 1.0316, 0.7429, 0.6416, 1.0928, 0.7245, 0.686, 0.9996, 1.1743, 0.9496, 0.5495, 0.387, 0.4266, 0.4041, 0.2636, 0.3625, 0.3754, 0.4422, 0.6286, 0.3119, 0.3663, 0.509, 0.5152, 0.2275, -0.0189, 0.3637, 0.5592, 0.419, -0.2643, 0.1244, 0.0878, -0.1154, 1.4914, 1.4912, 1.491, 1.4909, 1.4907, 1.4907, 1.4906, 1.4906, 1.4906, 1.4905, 1.4905, 1.4904, 1.4904, 1.4903, 1.4902, 1.4902, 1.4902, 1.4298, 1.4284, 1.3371, 1.3363, 1.3278, 1.3258, 1.2943, 1.2882, 1.2882, 1.2882, 1.2871, 1.2871, 1.2871, 1.2286, 1.1526, 1.1786, 0.923, 1.2102, 1.1552, 0.8684, 0.9604, 0.9768, 1.0525, 0.8378, 0.6732, 0.7685, 0.6512, 0.769, 0.6778, 0.4125, 0.8339, 0.9722, 1.0774, 0.2242, 0.2528, 0.9024, 0.4966, 1.0384, 0.1567, 0.2772, 0.4588, 0.4896, 0.3156, 0.4203, 0.5543, 0.4381, -0.3441, -0.1769, -0.4644, 0.0131, -0.4501, 1.7772, 1.5916, 1.5911, 1.591, 1.5908, 1.5899, 1.5898, 1.5893, 1.5891, 1.5888, 1.5879, 1.5371, 1.434, 1.4328, 1.4192, 1.385, 1.385, 1.3849, 1.3849, 1.3849, 1.3849, 1.3849, 1.3846, 1.3845, 1.3845, 1.3844, 1.3843, 1.3843, 1.3842, 1.3842, 1.3755, 1.3528, 1.2386, 1.1287, 1.3025, 1.3017, 1.0407, 1.0464, 1.0675, 1.2828, 1.2766, 1.2758, 1.2748, 1.2738, 1.2727, 1.0097, 1.0031, 0.6048, 0.3694, 0.8576, 0.5732, 0.4083, 0.5417, 0.7498, 0.3808, 0.1844, 0.0222, 0.5105, 0.6181, 0.9533, 0.1211, 0.4565, 0.0285, 0.8511, 0.831, 0.0845, 0.2729, -0.1407, -0.1759, -0.2515, -0.2503, 0.1586, -0.431, -0.1121, 1.8166, 1.8162, 1.8162, 1.816, 1.8158, 1.8158, 1.8156, 1.8155, 1.6581, 1.6567, 1.6032, 1.6011, 1.601, 1.6009, 1.6007, 1.6006, 1.6006, 1.6006, 1.6005, 1.6003, 1.6003, 1.6003, 1.6001, 1.6001, 1.6, 1.6, 1.6, 1.6, 1.5999, 1.5998, 1.4417, 1.4749, 1.2858, 1.4577, 1.4571, 1.492, 1.359, 1.3199, 1.1954, 1.2254, 1.3626, 1.1744, 1.3241, 1.2867, 0.3568, 0.2777, 0.4291, 1.0809, 0.5133, 0.2868, 0.648, 0.6435, 0.6892, 0.8527, -0.0446, 0.0665, 0.0659, 0.2025, 0.3766, 0.2636, 0.2643, 0.5692, -0.2149, -0.0019, -0.1409, -0.3889, 0.3445, -0.5157, -0.0081, -0.3169, 0.5345, -0.5796, 2.4831, 2.3027, 2.2836, 2.2307, 2.2305, 2.2304, 2.2303, 2.2303, 2.2302, 2.2301, 2.2299, 2.2299, 2.2299, 2.2299, 2.2297, 2.2295, 2.2294, 2.2293, 2.2293, 2.2292, 2.2292, 2.2291, 2.229, 2.2289, 2.2288, 2.2288, 2.2288, 2.2288, 2.2287, 2.2287, 2.1509, 2.1369, 2.1366, 2.1366, 2.1331, 2.1172, 1.9748, 1.5142, 1.322, 0.8351, 0.5885, 0.4449, 0.7754, 1.0882, 1.3073, 1.6624, 1.6623, 1.6592, 1.6599, 0.2976, 1.0312, 0.6141, 0.4633, 0.9645, 1.6003, 0.2402, 0.6729, 0.2642, 0.9962, 0.3387, -0.1848, 0.5955, 0.3911, 0.2745, 0.2093, -0.0163, -0.0627, -0.4026, -0.7478, -0.5011, -0.8715, 2.9159, 2.7953, 2.7916, 2.7888, 2.515, 2.5149, 2.5149, 2.5149, 2.5148, 2.5148, 2.5147, 2.5146, 2.5144, 2.5143, 2.5143, 2.5141, 2.5141, 2.5141, 2.5136, 2.5136, 2.5131, 2.513, 2.5129, 2.5129, 2.5128, 2.5125, 2.5123, 2.5118, 2.5118, 2.5117, 1.8991, 1.102, 0.801, 0.9415, 1.2469, 1.8961, 0.6254, 1.4062, 0.685, 1.7638, 0.6054, 0.477, 0.6068, 0.8483, 0.8086, 0.7671, 0.735, 0.5388, 0.4944, 1.2319, 1.2238, -0.2734, 1.0002, 0.882, 0.8818, -0.1499, -0.1435, -0.15, -0.3141, -0.8339, -0.2237, 0.1998, -0.198, 0.8633, 0.5999, 0.2739, 3.0958, 2.7866, 2.7855, 2.7819, 2.7812, 2.7812, 2.7809, 2.7807, 2.7804, 2.7804, 2.7802, 2.78, 2.7799, 2.7798, 2.7797, 2.7796, 2.7796, 2.7795, 2.7795, 2.7793, 2.7792, 2.779, 2.779, 2.7789, 2.7781, 2.7773, 2.7768, 2.3924, 2.3612, 2.3529, 2.1395, 1.8232, 1.291, 1.9298, 0.3694, 1.6653, 0.9716, 0.3477, 1.5404, 0.8197, 1.5301, 0.7163, 1.4673, 0.6605, 1.3956, 1.2408, 0.2354, -0.0235, -0.0994, -0.4502, 0.5445, 0.4653, 0.1753, -0.4192, -0.672, -0.458, -1.0476]}, \"token.table\": {\"Topic\": [6, 6, 1, 4, 7, 5, 3, 1, 2, 3, 4, 5, 6, 7, 1, 2, 4, 1, 8, 1, 2, 3, 5, 7, 8, 1, 5, 6, 1, 4, 1, 2, 3, 4, 6, 7, 1, 3, 4, 7, 1, 3, 5, 1, 2, 3, 4, 5, 2, 1, 2, 3, 4, 5, 6, 7, 5, 3, 7, 1, 2, 3, 4, 5, 7, 1, 3, 1, 2, 3, 4, 5, 6, 7, 5, 6, 7, 6, 2, 1, 2, 3, 4, 5, 6, 7, 1, 2, 3, 4, 5, 6, 1, 2, 3, 4, 5, 6, 7, 7, 1, 2, 3, 4, 5, 7, 1, 3, 4, 5, 6, 6, 3, 5, 4, 2, 2, 3, 4, 5, 6, 7, 1, 2, 5, 1, 5, 1, 3, 4, 5, 6, 7, 1, 3, 5, 7, 1, 2, 3, 4, 8, 1, 2, 3, 4, 5, 6, 7, 8, 1, 2, 3, 4, 5, 6, 7, 8, 5, 1, 4, 5, 6, 8, 2, 4, 7, 1, 2, 3, 4, 5, 6, 7, 8, 2, 3, 2, 5, 4, 5, 1, 2, 3, 4, 5, 8, 2, 7, 1, 1, 2, 4, 5, 6, 5, 4, 1, 2, 3, 7, 1, 2, 3, 4, 6, 8, 1, 2, 3, 4, 5, 6, 8, 1, 3, 4, 6, 2, 3, 4, 5, 6, 4, 1, 4, 1, 3, 7, 2, 6, 5, 4, 4, 2, 1, 2, 3, 4, 5, 7, 1, 2, 4, 6, 7, 1, 2, 3, 4, 5, 6, 7, 8, 1, 2, 2, 3, 6, 1, 6, 7, 1, 3, 6, 1, 1, 3, 4, 1, 2, 3, 4, 5, 6, 7, 3, 1, 5, 2, 6, 2, 7, 1, 2, 3, 4, 5, 6, 3, 1, 2, 3, 4, 5, 6, 7, 1, 7, 1, 3, 5, 6, 1, 7, 1, 3, 1, 3, 1, 2, 3, 4, 5, 6, 5, 1, 2, 3, 4, 5, 5, 2, 3, 5, 7, 4, 6, 3, 4, 2, 3, 4, 5, 6, 1, 2, 3, 4, 5, 6, 5, 5, 6, 5, 2, 1, 3, 4, 6, 2, 4, 1, 4, 5, 6, 7, 2, 2, 1, 7, 1, 3, 7, 3, 7, 1, 1, 2, 3, 4, 5, 6, 7, 8, 1, 2, 3, 4, 5, 6, 1, 2, 3, 4, 5, 6, 8, 1, 1, 2, 3, 4, 5, 6, 7, 8, 6, 1, 2, 3, 4, 5, 6, 1, 2, 3, 4, 6, 7, 7, 4, 1, 2, 3, 4, 5, 6, 7, 8, 2, 7, 1, 2, 3, 4, 5, 7, 2, 2, 1, 3, 6, 7, 7, 1, 4, 5, 4, 1, 2, 3, 4, 6, 4, 5, 1, 2, 5, 7, 1, 4, 5, 6, 7, 6, 1, 6, 6, 3, 5, 1, 3, 1, 4, 5, 8, 3, 1, 2, 5, 1, 2, 3, 4, 5, 6, 7, 8, 3, 1, 5, 6, 2, 1, 2, 3, 7, 1, 3, 4, 6, 5, 1, 2, 3, 4, 5, 7, 3, 4, 5, 1, 2, 3, 4, 5, 1, 2, 3, 4, 5, 7, 2, 1, 6, 1, 3, 6, 4, 1, 3, 1, 2, 3, 4, 5, 6, 7, 2, 5, 1, 2, 4, 5, 2, 7, 4, 1, 5, 6, 4, 6, 3, 1, 2, 4, 5, 6, 7, 2, 3, 1, 2, 3, 1, 2, 3, 4, 5, 6, 1, 2, 3, 4, 6, 1, 1, 2, 3, 4, 6, 3, 1, 1, 2, 3, 5, 8, 3, 1, 2, 3, 4, 3, 4, 2, 6, 4, 3, 4, 1, 2, 3, 5, 7, 6, 1, 2, 3, 4, 6, 1, 8, 1, 2, 3, 4, 5, 6, 7, 7, 2, 3, 1, 2, 3, 4, 5, 6, 7, 8, 4, 1, 1, 2, 3, 4, 5, 6, 4, 5, 7, 6, 1, 2, 3, 4, 5, 7, 8, 7, 5, 8, 1, 3, 4, 5, 6, 3, 2, 3, 4, 1, 2, 6, 7, 5, 1, 2, 3, 4, 5, 5, 1, 2, 5, 7, 3, 7, 4, 6, 1, 2, 3, 4, 5, 5, 2, 6, 4, 5, 6, 4, 1, 1, 5, 4, 6, 4, 3, 5, 4, 4, 3, 6, 2, 1, 2, 3, 4, 5, 6, 7, 1, 2, 3, 5, 8, 3, 7, 3, 4, 5, 2, 4, 4, 7, 4, 6, 6, 1, 2, 3, 4, 6, 7, 3, 7, 4, 4, 2, 1, 2, 3, 4, 5, 6, 1, 3, 5, 1, 2, 3, 4, 5, 6, 7, 3, 3, 1, 3, 8, 1, 2, 3, 4, 5, 6, 7, 1, 1, 4, 5, 7, 1, 1, 2, 3, 4, 5, 6, 7, 8, 3, 5, 6, 1, 4, 4, 1, 2, 3, 4, 2, 4, 5, 6, 1, 2, 3, 4, 5, 6, 7, 3, 2, 1, 1, 4, 2, 4, 5, 6, 7, 1, 6, 4, 1, 4, 1, 5, 1, 2, 3, 4, 5, 1, 2, 3, 5, 1, 2, 3, 4, 5, 6, 7, 8, 6, 4, 1, 2, 3, 4, 5, 7, 2, 5, 1, 1, 2, 3, 4, 5, 6, 7, 1, 3, 4, 5, 6, 7, 1, 4, 6, 5, 2, 1, 2, 3, 4, 5, 6, 7, 1, 6, 1, 6, 2, 2, 1, 2, 3, 4, 5, 6, 1, 2, 3, 4, 5, 6, 7, 1, 1, 2, 3, 4, 5, 6, 7, 3, 7, 1, 2, 4, 5, 6, 7, 1, 2, 3, 4, 5, 6, 7, 8, 2, 1, 2, 3, 4, 5, 7, 3, 1, 2, 3, 5, 3, 7, 6, 1, 3, 4, 7, 5, 7, 1, 3, 4, 6, 1, 4, 1, 2, 3, 4, 5, 6, 8, 1, 3, 4, 6, 2, 1, 2, 4, 5, 6, 7, 2, 3, 5, 2, 1, 2, 3, 4, 6, 5, 1, 2, 3, 4, 5, 6, 7, 2, 3, 4, 5, 6, 7, 2, 3, 4, 1, 2, 3, 4, 5, 6, 7, 5, 1, 2, 4, 4, 5, 1, 7, 1, 3, 4, 5, 6, 7, 1, 3, 8], \"Freq\": [0.738362911549593, 0.7383603991980259, 0.3083351434906899, 0.6166702869813798, 0.7905894604247208, 0.6637877340235461, 0.8375594650870709, 0.06605142896820859, 0.06605142896820859, 0.5284114317456687, 0.19815428690462575, 0.13210285793641718, 0.06605142896820859, 0.06605142896820859, 0.8928158851728879, 0.2463226909988899, 0.7389680729966697, 0.7824685162473766, 0.19561712906184414, 0.11449274098344112, 0.11449274098344112, 0.3434782229503234, 0.22898548196688223, 0.11449274098344112, 0.11449274098344112, 0.805753769096802, 0.361499776426767, 0.361499776426767, 0.30822355942741264, 0.6164471188548253, 0.4101444256484576, 0.2050722128242288, 0.12304332769453728, 0.16405777025938306, 0.041014442564845766, 0.041014442564845766, 0.46304904396777885, 0.34728678297583415, 0.11576226099194471, 0.11576226099194471, 0.3735464465717858, 0.448255735886143, 0.14941857862871433, 0.18994489371920809, 0.18994489371920809, 0.12662992914613871, 0.3165748228653468, 0.12662992914613871, 0.8089355655643218, 0.15008847338830278, 0.30017694677660556, 0.24014155742128443, 0.09005308403298166, 0.15008847338830278, 0.09005308403298166, 0.030017694677660554, 0.6641255829403973, 0.8376207351095278, 0.790587786468932, 0.2350423327796544, 0.14102539966779265, 0.14102539966779265, 0.2350423327796544, 0.2350423327796544, 0.04700846655593088, 0.8058979268335723, 0.8375519878231762, 0.05250914449735915, 0.5776005894709506, 0.1050182889947183, 0.1050182889947183, 0.05250914449735915, 0.05250914449735915, 0.05250914449735915, 0.8740251245208195, 0.7384306788074971, 0.7907136941955104, 0.7384505642837623, 0.896028646481361, 0.2729232366956788, 0.2339342028820104, 0.194945169068342, 0.194945169068342, 0.07797806762733679, 0.038989033813668396, 0.038989033813668396, 0.29294489201973095, 0.11717795680789238, 0.17576693521183856, 0.05858897840394619, 0.23435591361578476, 0.05858897840394619, 0.13788505936213447, 0.4136551780864034, 0.11030804748970757, 0.08273103561728068, 0.19303908310698825, 0.027577011872426893, 0.027577011872426893, 0.7906069269831824, 0.3939431982914078, 0.14772869935927793, 0.29545739871855586, 0.04924289978642597, 0.04924289978642597, 0.09848579957285195, 0.16250212774376252, 0.2437531916156438, 0.2437531916156438, 0.16250212774376252, 0.2437531916156438, 0.7384505671073467, 0.6426047132694589, 0.6641342044591968, 0.845558533958623, 0.9471586676482154, 0.4900886794562204, 0.1225221698640551, 0.1225221698640551, 0.1225221698640551, 0.1225221698640551, 0.7906344023789098, 0.2072396657380259, 0.2072396657380259, 0.4144793314760518, 0.2776401044146271, 0.5552802088292542, 0.28892793489931307, 0.3852372465324174, 0.09630931163310436, 0.09630931163310436, 0.09630931163310436, 0.8516943069851379, 0.18783111285052642, 0.18783111285052642, 0.37566222570105284, 0.18783111285052642, 0.5237635755033767, 0.13094089387584418, 0.13094089387584418, 0.13094089387584418, 0.13094089387584418, 0.15188014874815514, 0.3037602974963103, 0.04556404462444654, 0.2278202231222327, 0.16706816362297067, 0.09112808924889308, 0.015188014874815515, 0.015188014874815515, 0.17450873903088251, 0.27921398244941203, 0.13960699122470602, 0.17450873903088251, 0.06980349561235301, 0.06980349561235301, 0.034901747806176504, 0.034901747806176504, 0.8739793638721262, 0.3699514644401256, 0.3699514644401256, 0.1233171548133752, 0.1233171548133752, 0.1233171548133752, 0.30869057401356587, 0.6173811480271317, 0.7905869811121609, 0.27620990317746225, 0.23675134558068192, 0.1972927879839016, 0.07891711519356065, 0.07891711519356065, 0.039458557596780325, 0.039458557596780325, 0.039458557596780325, 0.7179640575476086, 0.23932135251586956, 0.8090180916476886, 0.8739777630317109, 0.8454311861467807, 0.6641056952076807, 0.09907525523751355, 0.49537627618756774, 0.09907525523751355, 0.09907525523751355, 0.1981505104750271, 0.09907525523751355, 0.7721158363936185, 0.25737194546453945, 0.8059468545045149, 0.31226311232555104, 0.20817540821703404, 0.31226311232555104, 0.10408770410851702, 0.7383683696559714, 0.6637837454508876, 0.8453770354499056, 0.11681307435938922, 0.46725229743755686, 0.11681307435938922, 0.23362614871877843, 0.15204580016971525, 0.3547735337293356, 0.20272773355962034, 0.15204580016971525, 0.050681933389905086, 0.050681933389905086, 0.025161299700242744, 0.3774194955036412, 0.4025807952038839, 0.07548389910072822, 0.05032259940048549, 0.025161299700242744, 0.025161299700242744, 0.22142313077361056, 0.22142313077361056, 0.22142313077361056, 0.22142313077361056, 0.11507170905139064, 0.11507170905139064, 0.3452151271541719, 0.23014341810278127, 0.11507170905139064, 0.6473015271132144, 0.7334250077359213, 0.14668500154718428, 0.20283967200276076, 0.6085190160082823, 0.7900761827733122, 0.8088552743856153, 0.503911053965922, 0.6641707306974081, 0.6472921856614691, 0.6472866390515111, 0.8085704852026152, 0.28612121600528173, 0.1907474773368545, 0.31791246222809083, 0.09537373866842724, 0.031791246222809086, 0.06358249244561817, 0.2587388513873864, 0.3363605068036023, 0.2587388513873864, 0.025873885138738638, 0.10349554055495455, 0.1446892839182563, 0.04133979540521609, 0.41339795405216084, 0.1446892839182563, 0.18602907932347237, 0.020669897702608044, 0.020669897702608044, 0.04133979540521609, 0.8059587687912061, 0.808569781808374, 0.4106629391884487, 0.4106629391884487, 0.13688764639614956, 0.3028844076288735, 0.3028844076288735, 0.5540798428185454, 0.5169691496885782, 0.4135753197508626, 0.051696914968857824, 0.8930403054982156, 0.20328109610553216, 0.6098432883165965, 0.20328109610553216, 0.24056638767145816, 0.24056638767145816, 0.05345919726032404, 0.2672959863016202, 0.05345919726032404, 0.10691839452064808, 0.02672959863016202, 0.837256863632562, 0.2532073339551325, 0.506414667910265, 0.7314919093524358, 0.14629838187048716, 0.8085542759929925, 0.7906885078434428, 0.20856048748686976, 0.2919846824816177, 0.2502725849842437, 0.0834241949947479, 0.04171209749737395, 0.0834241949947479, 0.6425935269047942, 0.43364473404316145, 0.22957662390520311, 0.07652554130173438, 0.07652554130173438, 0.10203405506897915, 0.02550851376724479, 0.07652554130173438, 0.8058893868417513, 0.7904213882569006, 0.15764358558243496, 0.4729307567473049, 0.15764358558243496, 0.15764358558243496, 0.8926053963145647, 0.7905259589591713, 0.8059371460000617, 0.8375823762296107, 0.5897100236805768, 0.2948550118402884, 0.20384622770698207, 0.10192311385349104, 0.10192311385349104, 0.30576934156047314, 0.20384622770698207, 0.4129511991887742, 0.6637814944311673, 0.3534721045772316, 0.07069442091544632, 0.14138884183089265, 0.3534721045772316, 0.14138884183089265, 0.6637813943036436, 0.28458565533209534, 0.28458565533209534, 0.28458565533209534, 0.14229282766604767, 0.3565078449473356, 0.3565078449473356, 0.837576369153944, 0.647302815199788, 0.29177949198222014, 0.11671179679288804, 0.40849128877510815, 0.11671179679288804, 0.05835589839644402, 0.3353041706317075, 0.40981620854986467, 0.07451203791815722, 0.11176805687723582, 0.07451203791815722, 0.03725601895907861, 0.873812133787723, 0.6637908346831548, 0.7384441150303641, 0.6638050498873527, 0.896441549442516, 0.22145431115451242, 0.22145431115451242, 0.22145431115451242, 0.22145431115451242, 0.8085915488214547, 0.845477427382079, 0.8240978408716311, 0.14983597106756927, 0.6637832983313019, 0.738435619447871, 0.7906901522989133, 0.9269692773848399, 0.8930365538548011, 0.6753538570441976, 0.22511795234806586, 0.7887287605455577, 0.19718219013638943, 0.7902792128999255, 0.6425927273295561, 0.7910279153131576, 0.8058410069398105, 0.1568983418730415, 0.2941843910119528, 0.21573522007543208, 0.13728604913891132, 0.11767375640478113, 0.019612292734130187, 0.039224585468260374, 0.019612292734130187, 0.12714991950857973, 0.33906645202287927, 0.25429983901715947, 0.12714991950857973, 0.08476661300571982, 0.12714991950857973, 0.11450480414098912, 0.22900960828197825, 0.3435144124229674, 0.07633653609399275, 0.1526730721879855, 0.03816826804699638, 0.03816826804699638, 0.8059870548868563, 0.3552436529716946, 0.15630720730754563, 0.11367796895094227, 0.15630720730754563, 0.11367796895094227, 0.04262923835660335, 0.014209746118867784, 0.04262923835660335, 0.7384724620665768, 0.20265781671796765, 0.29477500613522567, 0.11054062730070963, 0.2763515682517741, 0.03684687576690321, 0.07369375153380642, 0.060671737238574365, 0.3033586861928718, 0.12134347447714873, 0.1820152117157231, 0.1820152117157231, 0.12134347447714873, 0.5876772711182238, 0.845536680372939, 0.27844571253950545, 0.19143142737091, 0.20883428440462912, 0.12181999923603365, 0.06961142813487636, 0.01740285703371909, 0.08701428516859547, 0.01740285703371909, 0.897672283064849, 0.7906536001232964, 0.06133736818082818, 0.5520363136274536, 0.18401210454248454, 0.06133736818082818, 0.12267473636165636, 0.06133736818082818, 0.8968136743352023, 0.8965502398247853, 0.6524858703446211, 0.26099434813784844, 0.7384651300139099, 0.790875070616121, 0.7911019024363255, 0.15595763115767974, 0.4678728934730392, 0.3119152623153595, 0.647303691546699, 0.1288194250677184, 0.38645827520315523, 0.1288194250677184, 0.1288194250677184, 0.2576388501354368, 0.6354648975787393, 0.3177324487893696, 0.7820992911904159, 0.19552482279760397, 0.874014533013274, 0.7907202255647087, 0.27924005157977727, 0.4886700902646102, 0.13962002578988864, 0.06981001289494432, 0.06981001289494432, 0.7384628577018579, 0.8059501795669962, 0.7385027757062423, 0.738571352297555, 0.6307315741559886, 0.3153657870779943, 0.6526878547150656, 0.2610751418860262, 0.5270232731765472, 0.1317558182941368, 0.1317558182941368, 0.1317558182941368, 0.8375707970993734, 0.20728326386461413, 0.20728326386461413, 0.41456652772922825, 0.137028388458731, 0.18270451794497466, 0.36540903588994933, 0.137028388458731, 0.09135225897248733, 0.045676129486243666, 0.045676129486243666, 0.045676129486243666, 0.8376998864925399, 0.32866895900054155, 0.32866895900054155, 0.16433447950027077, 0.8089104641463477, 0.2293903165724387, 0.4587806331448774, 0.2293903165724387, 0.11469515828621935, 0.22146060273140958, 0.22146060273140958, 0.22146060273140958, 0.22146060273140958, 0.6637845922444038, 0.05383480768187508, 0.10766961536375017, 0.10766961536375017, 0.21533923072750033, 0.43067846145500066, 0.10766961536375017, 0.18041280297171167, 0.36082560594342333, 0.36082560594342333, 0.38213273210206994, 0.19106636605103497, 0.152853092840828, 0.11463981963062099, 0.152853092840828, 0.08156817110601651, 0.24470451331804954, 0.16313634221203302, 0.24470451331804954, 0.16313634221203302, 0.08156817110601651, 0.8085952815816647, 0.8931647591524634, 0.7385992959984429, 0.22091343204247826, 0.4418268640849565, 0.22091343204247826, 0.8454979287873216, 0.24397514897256015, 0.7319254469176805, 0.41328037447503474, 0.08265607489500694, 0.19837457974801667, 0.09918728987400834, 0.1487809348110125, 0.01653121497900139, 0.03306242995800278, 0.25364325930858944, 0.5072865186171789, 0.1528651776567854, 0.1528651776567854, 0.45859553297035616, 0.1528651776567854, 0.808555839085355, 0.7906200615603385, 0.8454868332280245, 0.7964960418615702, 0.19912401046539255, 0.738430736795667, 0.6473028222486255, 0.738583233017089, 0.6425967715379277, 0.1877021169103721, 0.3754042338207442, 0.1877021169103721, 0.09385105845518606, 0.09385105845518606, 0.1877021169103721, 0.2443090717078226, 0.7329272151234678, 0.8060614709178641, 0.1736860136887195, 0.694744054754878, 0.2267173919241767, 0.17003804394313252, 0.17003804394313252, 0.2267173919241767, 0.056679347981044174, 0.17003804394313252, 0.09191472853362535, 0.6434030997353775, 0.09191472853362535, 0.09191472853362535, 0.09191472853362535, 0.8925854828124947, 0.10253153395529283, 0.10253153395529283, 0.6151892037317569, 0.10253153395529283, 0.10253153395529283, 0.8376155224658816, 0.8335258035158797, 0.2996752540314944, 0.1498376270157472, 0.2996752540314944, 0.1498376270157472, 0.1498376270157472, 0.7088607578658244, 0.2975036641373114, 0.09916788804577045, 0.3966715521830818, 0.09916788804577045, 0.20663754460612044, 0.6199126338183613, 0.8085286052306815, 0.7384710949617952, 0.6473016716622695, 0.31278943229156997, 0.6255788645831399, 0.12065748601769628, 0.24131497203539257, 0.12065748601769628, 0.3619724580530888, 0.12065748601769628, 0.7385400102637816, 0.8925773020732476, 0.5266714527095563, 0.10533429054191126, 0.10533429054191126, 0.21066858108382253, 0.5965442876609792, 0.2982721438304896, 0.28276432750662667, 0.04712738791777111, 0.37701910334216887, 0.14138216375331333, 0.09425477583554222, 0.04712738791777111, 0.04712738791777111, 0.7900533313061345, 0.20307270053176704, 0.6092181015953012, 0.1578578803717086, 0.3157157607434172, 0.09866117523231786, 0.17759011541817216, 0.09866117523231786, 0.09866117523231786, 0.03946447009292715, 0.019732235046463573, 0.6472937654534744, 0.8058517431544873, 0.1706119841470006, 0.21326498018375076, 0.12795898811025047, 0.4265299603675015, 0.04265299603675015, 0.04265299603675015, 0.6472840261851772, 0.7064384009660878, 0.3532192004830439, 0.7384233647395395, 0.13288392471523172, 0.35435713257395124, 0.17717856628697562, 0.13288392471523172, 0.08858928314348781, 0.044294641571743905, 0.044294641571743905, 0.7902963873912369, 0.6641154532902184, 0.6270619565316374, 0.6191568139160258, 0.07739460173950323, 0.07739460173950323, 0.15478920347900646, 0.07739460173950323, 0.8374579151123477, 0.6819594093030569, 0.17048985232576422, 0.17048985232576422, 0.19752478245967242, 0.39504956491934484, 0.19752478245967242, 0.19752478245967242, 0.6637800058711353, 0.2520127941688018, 0.21601096643040155, 0.28801462190720206, 0.10800548321520077, 0.10800548321520077, 0.6637588564692315, 0.742547162723068, 0.0742547162723068, 0.0742547162723068, 0.0742547162723068, 0.837625046378343, 0.7909083095489265, 0.35648207326406245, 0.35648207326406245, 0.04682377184676727, 0.18729508738706907, 0.09364754369353454, 0.4214139466209054, 0.23411885923383635, 0.8739783345820181, 0.8089222769295399, 0.7384337258955505, 0.2081342930240273, 0.4162685860480546, 0.2081342930240273, 0.8852935664730439, 0.8058188428675984, 0.8924671612709797, 0.8739579053826949, 0.35646962982394303, 0.35646962982394303, 0.8454155773039806, 0.42223177947639673, 0.42223177947639673, 0.6473007530845896, 0.6473034537844288, 0.3550495247031315, 0.3550495247031315, 0.8962096927962151, 0.11694299951691424, 0.3215932486715142, 0.17541449927537137, 0.20465024915459992, 0.11694299951691424, 0.02923574987922856, 0.02923574987922856, 0.3618495391110746, 0.1809247695555373, 0.1809247695555373, 0.09046238477776865, 0.1809247695555373, 0.8372486203289957, 0.7905814170793055, 0.25384960739184953, 0.25384960739184953, 0.5076992147836991, 0.3088869101869518, 0.6177738203739036, 0.6472869501719987, 0.7906910957974977, 0.6675902040502361, 0.33379510202511803, 0.7384126153658861, 0.0645617613242494, 0.322808806621247, 0.3873705679454964, 0.1291235226484988, 0.0645617613242494, 0.0645617613242494, 0.8376771206990208, 0.5533691071977094, 0.8456826888088946, 0.6472854044386258, 0.8086673020405482, 0.3453228928100609, 0.21975093178822055, 0.12557196102184032, 0.12557196102184032, 0.06278598051092016, 0.12557196102184032, 0.5940679304524801, 0.19802264348416002, 0.19802264348416002, 0.16656790909343908, 0.13880659091119923, 0.33313581818687815, 0.16656790909343908, 0.05552263636447969, 0.05552263636447969, 0.08328395454671954, 0.6425938380260353, 0.6425955284553515, 0.3021712352479872, 0.3021712352479872, 0.3021712352479872, 0.25774714031499396, 0.15464828418899637, 0.15464828418899637, 0.10309885612599758, 0.15464828418899637, 0.10309885612599758, 0.10309885612599758, 0.8059585344887628, 0.6140895216011393, 0.12281790432022786, 0.12281790432022786, 0.12281790432022786, 0.8058481780889359, 0.26380079403516954, 0.2826437078948245, 0.13190039701758477, 0.13190039701758477, 0.037685827719309936, 0.037685827719309936, 0.07537165543861987, 0.018842913859654968, 0.26665356145561087, 0.5333071229112217, 0.26665356145561087, 0.24603389982228893, 0.7381016994668668, 0.6472908811209119, 0.08416283137115112, 0.5891398195980578, 0.08416283137115112, 0.25248849411345337, 0.9494452514930596, 0.6355116059237532, 0.3177558029618766, 0.738471197823106, 0.23966098410819062, 0.23966098410819062, 0.133144991171217, 0.133144991171217, 0.07988699470273021, 0.05325799646848681, 0.10651599293697361, 0.7077534852533618, 0.8961701977517542, 0.8059403002200836, 0.7903837610007898, 0.19759594025019744, 0.56268370388768, 0.16076677253933713, 0.08038338626966857, 0.08038338626966857, 0.08038338626966857, 0.28624801562808333, 0.5724960312561667, 0.8455100032950847, 0.7527774195372263, 0.20530293260106172, 0.3157645529912926, 0.6315291059825852, 0.16847397033328304, 0.4211849258332076, 0.12635547774996228, 0.16847397033328304, 0.08423698516664152, 0.5441283672294175, 0.09068806120490291, 0.27206418361470874, 0.09068806120490291, 0.14426422196060334, 0.2622985853829152, 0.10491943415316607, 0.2229537975754779, 0.1573791512297491, 0.07868957561487455, 0.026229858538291517, 0.013114929269145759, 0.7384298479301984, 0.6472904450239036, 0.34201026950141955, 0.08550256737535489, 0.08550256737535489, 0.17100513475070978, 0.25650770212606466, 0.08550256737535489, 0.4634519300503527, 0.4634519300503527, 0.8058884560042278, 0.19474949882833884, 0.2726492983596744, 0.2726492983596744, 0.1168496992970033, 0.07789979953133554, 0.03894989976566777, 0.07789979953133554, 0.5585516875153841, 0.07979309821648345, 0.07979309821648345, 0.07979309821648345, 0.07979309821648345, 0.07979309821648345, 0.3084103347062362, 0.6168206694124724, 0.7384832034499494, 0.6637917295064264, 0.8085391865836491, 0.1496894821431958, 0.26195659375059266, 0.26195659375059266, 0.1496894821431958, 0.03742237053579895, 0.0748447410715979, 0.0748447410715979, 0.805869783052593, 0.7384845930728359, 0.34928944251597643, 0.34928944251597643, 0.8963500847941874, 0.9474013963289751, 0.20998611276766985, 0.16798889021413588, 0.3779750029818057, 0.1259916676606019, 0.08399444510706794, 0.04199722255353397, 0.14371477289896378, 0.38323939439723675, 0.09580984859930919, 0.19161969719861838, 0.047904924299654594, 0.047904924299654594, 0.09580984859930919, 0.8927204289131407, 0.36758511704267455, 0.20050097293236793, 0.10025048646618397, 0.1336673152882453, 0.033416828822061324, 0.1336673152882453, 0.033416828822061324, 0.8376169569839087, 0.5538652277229901, 0.08147584943472011, 0.24442754830416036, 0.4073792471736006, 0.08147584943472011, 0.08147584943472011, 0.08147584943472011, 0.3425268088140053, 0.08563170220350133, 0.042815851101750665, 0.25689510661050396, 0.17126340440700266, 0.042815851101750665, 0.042815851101750665, 0.08563170220350133, 0.8085772317315958, 0.2216228279041552, 0.16621712092811639, 0.16621712092811639, 0.27702853488019397, 0.1108114139520776, 0.0554057069760388, 0.8375902799596955, 0.45435974362389475, 0.30290649574926315, 0.07572662393731579, 0.15145324787463157, 0.8375896380375264, 0.7905999200219977, 0.7384963619068907, 0.9435232455282944, 0.6547557055752005, 0.21825190185840015, 0.21825190185840015, 0.6637595223956904, 0.7907211271925347, 0.5062261042359693, 0.3374840694906462, 0.08437101737266155, 0.7384672479827398, 0.7904927692994737, 0.1976231923248684, 0.3948168369876126, 0.2467605231172579, 0.09870420924690315, 0.09870420924690315, 0.09870420924690315, 0.049352104623451576, 0.049352104623451576, 0.3343642540462477, 0.44581900539499697, 0.11145475134874924, 0.11145475134874924, 0.8085686275062015, 0.2568461609002148, 0.1926346206751611, 0.1284230804501074, 0.1926346206751611, 0.1926346206751611, 0.0642115402250537, 0.28505080362624136, 0.4275762054393621, 0.14252540181312068, 0.947789721103948, 0.30901875993181227, 0.2317640699488592, 0.2317640699488592, 0.07725468998295307, 0.15450937996590614, 0.6637808530834375, 0.06766624460193685, 0.2706649784077474, 0.22555414867312285, 0.157887904071186, 0.1353324892038737, 0.06766624460193685, 0.06766624460193685, 0.2476978313827247, 0.12384891569136235, 0.4334712049197682, 0.12384891569136235, 0.06192445784568117, 0.7907183340268052, 0.17502730331730418, 0.17502730331730418, 0.5250819099519125, 0.23813435840467817, 0.17860076880350864, 0.2579788882717347, 0.11906717920233909, 0.07937811946822605, 0.07937811946822605, 0.039689059734113026, 0.6637802693128819, 0.5361931679841633, 0.35746211198944217, 0.08936552799736054, 0.7132340556342226, 0.8739138982419582, 0.7688628656768212, 0.2562876218922737, 0.36914541230653664, 0.2768590592299025, 0.09228635307663416, 0.18457270615326832, 0.09228635307663416, 0.09228635307663416, 0.24154161534397256, 0.4830832306879451, 0.24154161534397256], \"Term\": [\"abilitie\", \"absence\", \"absolute\", \"absolute\", \"absorb\", \"acceptable\", \"accur\", \"actually\", \"actually\", \"actually\", \"actually\", \"actually\", \"actually\", \"actually\", \"addition\", \"admittedly\", \"admittedly\", \"adult\", \"adult\", \"adventure\", \"adventure\", \"adventure\", \"adventure\", \"adventure\", \"adventure\", \"ainda\", \"alert\", \"alert\", \"almost\", \"almost\", \"also\", \"also\", \"also\", \"also\", \"also\", \"also\", \"always\", \"always\", \"always\", \"always\", \"android\", \"android\", \"android\", \"animation\", \"animation\", \"animation\", \"animation\", \"animation\", \"animation_sound\", \"anime\", \"anime\", \"anime\", \"anime\", \"anime\", \"anime\", \"anime\", \"apparently\", \"appear\", \"appreciate\", \"arc\", \"arc\", \"arc\", \"arc\", \"arc\", \"arc\", \"argue\", \"around\", \"art\", \"art\", \"art\", \"art\", \"art\", \"art\", \"art\", \"aside\", \"aura\", \"automatically\", \"availability\", \"awesome\", \"baby\", \"baby\", \"baby\", \"baby\", \"baby\", \"baby\", \"baby\", \"back\", \"back\", \"back\", \"back\", \"back\", \"back\", \"bad\", \"bad\", \"bad\", \"bad\", \"bad\", \"bad\", \"bad\", \"bada\", \"ball\", \"ball\", \"ball\", \"ball\", \"ball\", \"ball\", \"battle\", \"battle\", \"battle\", \"battle\", \"battle\", \"beast\", \"bebop\", \"beginning\", \"believable\", \"biased\", \"bit\", \"bit\", \"bit\", \"bit\", \"bit\", \"blue\", \"bore\", \"bore\", \"bore\", \"bulma\", \"bulma\", \"buu\", \"buu\", \"buu\", \"buu\", \"buu\", \"cannon\", \"care\", \"care\", \"care\", \"care\", \"change\", \"change\", \"change\", \"change\", \"change\", \"character\", \"character\", \"character\", \"character\", \"character\", \"character\", \"character\", \"character\", \"character_enjoyment\", \"character_enjoyment\", \"character_enjoyment\", \"character_enjoyment\", \"character_enjoyment\", \"character_enjoyment\", \"character_enjoyment\", \"character_enjoyment\", \"chi\", \"child\", \"child\", \"child\", \"child\", \"child\", \"classic\", \"classic\", \"collection\", \"come\", \"come\", \"come\", \"come\", \"come\", \"come\", \"come\", \"come\", \"compare\", \"compare\", \"complaint\", \"con\", \"consideration\", \"contradiction\", \"cool\", \"cool\", \"cool\", \"cool\", \"cool\", \"cool\", \"copy\", \"copy\", \"counterpart\", \"create\", \"create\", \"create\", \"create\", \"crush\", \"curse\", \"cut\", \"dark\", \"dark\", \"dark\", \"dark\", \"dbgt\", \"dbgt\", \"dbgt\", \"dbgt\", \"dbgt\", \"dbgt\", \"dbz\", \"dbz\", \"dbz\", \"dbz\", \"dbz\", \"dbz\", \"dbz\", \"death\", \"death\", \"death\", \"death\", \"decent\", \"decent\", \"decent\", \"decent\", \"decent\", \"deer\", \"defeat\", \"defeat\", \"dende\", \"dende\", \"depth\", \"describe\", \"develop\", \"disappointment\", \"diss\", \"doesen\", \"drab\", \"dragon\", \"dragon\", \"dragon\", \"dragon\", \"dragon\", \"dragon\", \"dragon_ball\", \"dragon_ball\", \"dragon_ball\", \"dragon_ball\", \"dragon_ball\", \"dragonball\", \"dragonball\", \"dragonball\", \"dragonball\", \"dragonball\", \"dragonball\", \"dragonball\", \"dragonball\", \"dream\", \"drop\", \"dub\", \"dub\", \"dub\", \"due\", \"due\", \"dvd\", \"earth\", \"earth\", \"earth\", \"easily\", \"easy\", \"easy\", \"easy\", \"end\", \"end\", \"end\", \"end\", \"end\", \"end\", \"end\", \"ending\", \"enemy\", \"enemy\", \"enjoyment\", \"enjoyment\", \"ent\", \"entirely\", \"episode\", \"episode\", \"episode\", \"episode\", \"episode\", \"episode\", \"especailly\", \"even\", \"even\", \"even\", \"even\", \"even\", \"even\", \"even\", \"eventually\", \"everyone\", \"evil\", \"evil\", \"evil\", \"evil\", \"exact\", \"exceed\", \"excuse\", \"exist\", \"fact\", \"fact\", \"fail\", \"fail\", \"fail\", \"fail\", \"fail\", \"fairly\", \"famous\", \"fan\", \"fan\", \"fan\", \"fan\", \"fan\", \"fappish\", \"favorite\", \"favorite\", \"favorite\", \"favorite\", \"favourite\", \"favourite\", \"feature\", \"feeding\", \"feel\", \"feel\", \"feel\", \"feel\", \"feel\", \"fight\", \"fight\", \"fight\", \"fight\", \"fight\", \"fight\", \"figure\", \"finished\", \"firstly\", \"fitting\", \"flow\", \"follow\", \"follow\", \"follow\", \"follow\", \"fond\", \"forgettable\", \"form\", \"form\", \"fragile\", \"frankly\", \"friend\", \"fuck\", \"fucking\", \"fun\", \"fun\", \"fusion\", \"fusion\", \"galactic\", \"generally\", \"generation\", \"genius\", \"get\", \"get\", \"get\", \"get\", \"get\", \"get\", \"get\", \"get\", \"give\", \"give\", \"give\", \"give\", \"give\", \"give\", \"go\", \"go\", \"go\", \"go\", \"go\", \"go\", \"go\", \"goddammit\", \"goku\", \"goku\", \"goku\", \"goku\", \"goku\", \"goku\", \"goku\", \"goku\", \"gold\", \"good\", \"good\", \"good\", \"good\", \"good\", \"good\", \"great\", \"great\", \"great\", \"great\", \"great\", \"great\", \"group\", \"growth\", \"gt\", \"gt\", \"gt\", \"gt\", \"gt\", \"gt\", \"gt\", \"gt\", \"hair\", \"hakusho\", \"hate\", \"hate\", \"hate\", \"hate\", \"hate\", \"hate\", \"hear\", \"heart\", \"help\", \"help\", \"helpful_read\", \"high\", \"higher\", \"honestly\", \"honestly\", \"honestly\", \"horrible\", \"however\", \"however\", \"however\", \"however\", \"however\", \"huge\", \"huge\", \"inconsistency\", \"inconsistency\", \"insult\", \"intense\", \"interesting\", \"interesting\", \"interesting\", \"interesting\", \"interesting\", \"invasion\", \"journey\", \"joy\", \"kakarrot\", \"kamehameha\", \"kamehameha\", \"kami\", \"kami\", \"keep\", \"keep\", \"keep\", \"keep\", \"kidd\", \"kind\", \"kind\", \"kind\", \"know\", \"know\", \"know\", \"know\", \"know\", \"know\", \"know\", \"know\", \"krillian\", \"krillin\", \"krillin\", \"krillin\", \"lackluster\", \"like\", \"like\", \"like\", \"like\", \"line\", \"line\", \"line\", \"line\", \"linear\", \"little\", \"little\", \"little\", \"little\", \"little\", \"little\", \"long\", \"long\", \"long\", \"look\", \"look\", \"look\", \"look\", \"look\", \"love\", \"love\", \"love\", \"love\", \"love\", \"love\", \"m\", \"machine\", \"magnificently\", \"mainly\", \"mainly\", \"mainly\", \"maintain\", \"major\", \"major\", \"make\", \"make\", \"make\", \"make\", \"make\", \"make\", \"make\", \"man\", \"man\", \"manage\", \"manage\", \"manage\", \"manage\", \"mark\", \"martial\", \"massive\", \"matter\", \"matter\", \"meaning\", \"mega\", \"mentor\", \"mix\", \"moment\", \"moment\", \"moment\", \"moment\", \"moment\", \"moment\", \"mood\", \"mood\", \"move\", \"movie\", \"movie\", \"much\", \"much\", \"much\", \"much\", \"much\", \"much\", \"music\", \"music\", \"music\", \"music\", \"music\", \"nail\", \"name\", \"name\", \"name\", \"name\", \"name\", \"namekian\", \"nao\", \"need\", \"need\", \"need\", \"need\", \"need\", \"negative\", \"next\", \"next\", \"next\", \"next\", \"nice\", \"nice\", \"nitty\", \"nostalgic\", \"obviously\", \"often\", \"often\", \"old\", \"old\", \"old\", \"old\", \"old\", \"oob\", \"oozaru\", \"opinion\", \"opinion\", \"opinion\", \"opinion\", \"order\", \"order\", \"original\", \"original\", \"original\", \"original\", \"original\", \"original\", \"original\", \"outer\", \"ova\", \"ova\", \"overall\", \"overall\", \"overall\", \"overall\", \"overall\", \"overall\", \"overall\", \"overall\", \"overusage\", \"pair\", \"pan\", \"pan\", \"pan\", \"pan\", \"pan\", \"pan\", \"pant\", \"par\", \"par\", \"parasite\", \"people\", \"people\", \"people\", \"people\", \"people\", \"people\", \"people\", \"perhaps\", \"period\", \"personality\", \"piccolo\", \"piccolo\", \"piccolo\", \"piccolo\", \"piccolo\", \"pick\", \"piece\", \"piece\", \"piece\", \"place\", \"place\", \"place\", \"place\", \"plastic\", \"plot\", \"plot\", \"plot\", \"plot\", \"plot\", \"poorly\", \"power\", \"power\", \"power\", \"power\", \"pre\", \"predicesor\", \"predictable\", \"predictable\", \"pretty\", \"pretty\", \"pretty\", \"pretty\", \"pretty\", \"prime\", \"producer\", \"pure\", \"purpose\", \"purpose\", \"purpose\", \"quality\", \"quando\", \"que\", \"quest\", \"quiet\", \"quiet\", \"quirky\", \"quot\", \"quot\", \"random\", \"randomly\", \"rating\", \"rating\", \"read\", \"really\", \"really\", \"really\", \"really\", \"really\", \"really\", \"really\", \"reason\", \"reason\", \"reason\", \"reason\", \"reason\", \"receive\", \"recolore\", \"recreate\", \"recreate\", \"recreate\", \"redeem\", \"redeem\", \"remove\", \"repeat\", \"rest\", \"rest\", \"revert\", \"review\", \"review\", \"review\", \"review\", \"review\", \"review\", \"revive\", \"risk\", \"rush\", \"sacrifice\", \"sadly\", \"saga\", \"saga\", \"saga\", \"saga\", \"saga\", \"saga\", \"saiyan\", \"saiyan\", \"saiyan\", \"say\", \"say\", \"say\", \"say\", \"say\", \"say\", \"say\", \"sayan\", \"scrutinize\", \"search\", \"search\", \"search\", \"see\", \"see\", \"see\", \"see\", \"see\", \"see\", \"see\", \"selfish\", \"sense\", \"sense\", \"sense\", \"sense\", \"serie\", \"series\", \"series\", \"series\", \"series\", \"series\", \"series\", \"series\", \"series\", \"serve\", \"serve\", \"serve\", \"several\", \"several\", \"shirt\", \"shit\", \"shit\", \"shit\", \"shit\", \"shitty\", \"shonen\", \"shonen\", \"shot\", \"show\", \"show\", \"show\", \"show\", \"show\", \"show\", \"show\", \"side\", \"slow\", \"smart\", \"somehow\", \"somehow\", \"sound\", \"sound\", \"sound\", \"sound\", \"sound\", \"spoiler\", \"spoiler\", \"ss\", \"ssj\", \"ssj\", \"staff\", \"staff\", \"start\", \"start\", \"start\", \"start\", \"start\", \"still\", \"still\", \"still\", \"still\", \"story\", \"story\", \"story\", \"story\", \"story\", \"story\", \"story\", \"story\", \"storyline\", \"storywise\", \"strong\", \"strong\", \"strong\", \"strong\", \"strong\", \"strong\", \"suck\", \"suck\", \"sum\", \"super\", \"super\", \"super\", \"super\", \"super\", \"super\", \"super\", \"super_saiyan\", \"super_saiyan\", \"super_saiyan\", \"super_saiyan\", \"super_saiyan\", \"super_saiyan\", \"support\", \"support\", \"surround\", \"swear\", \"tad\", \"take\", \"take\", \"take\", \"take\", \"take\", \"take\", \"take\", \"technically\", \"technology\", \"tell\", \"tell\", \"tension\", \"thank\", \"thing\", \"thing\", \"thing\", \"thing\", \"thing\", \"thing\", \"think\", \"think\", \"think\", \"think\", \"think\", \"think\", \"think\", \"tien\", \"time\", \"time\", \"time\", \"time\", \"time\", \"time\", \"time\", \"together\", \"totally\", \"transformation\", \"transformation\", \"transformation\", \"transformation\", \"transformation\", \"transformation\", \"trunk\", \"trunk\", \"trunk\", \"trunk\", \"trunk\", \"trunk\", \"trunk\", \"trunk\", \"trust\", \"try\", \"try\", \"try\", \"try\", \"try\", \"try\", \"tuffle\", \"turn\", \"turn\", \"turn\", \"turn\", \"twice\", \"twist\", \"type\", \"ultimate\", \"understand\", \"understand\", \"understand\", \"unfunny\", \"unique\", \"use\", \"use\", \"use\", \"useful\", \"useless\", \"useless\", \"vegeta\", \"vegeta\", \"vegeta\", \"vegeta\", \"vegeta\", \"vegeta\", \"vegeta\", \"version\", \"version\", \"version\", \"version\", \"view\", \"villain\", \"villain\", \"villain\", \"villain\", \"villain\", \"villain\", \"villian\", \"villian\", \"villian\", \"voice\", \"want\", \"want\", \"want\", \"want\", \"want\", \"warn\", \"watch\", \"watch\", \"watch\", \"watch\", \"watch\", \"watch\", \"watch\", \"way\", \"way\", \"way\", \"way\", \"way\", \"wayyyy\", \"weird\", \"weird\", \"weird\", \"well\", \"well\", \"well\", \"well\", \"well\", \"well\", \"well\", \"whack\", \"whole\", \"whole\", \"whole\", \"wise\", \"woman\", \"word\", \"word\", \"year\", \"year\", \"year\", \"year\", \"year\", \"year\", \"yet\", \"yet\", \"yet\"]}, \"R\": 30, \"lambda.step\": 0.01, \"plot.opts\": {\"xlab\": \"PC1\", \"ylab\": \"PC2\"}, \"topic.order\": [3, 7, 5, 8, 6, 4, 1, 2]};\n",
       "\n",
       "function LDAvis_load_lib(url, callback){\n",
       "  var s = document.createElement('script');\n",
       "  s.src = url;\n",
       "  s.async = true;\n",
       "  s.onreadystatechange = s.onload = callback;\n",
       "  s.onerror = function(){console.warn(\"failed to load library \" + url);};\n",
       "  document.getElementsByTagName(\"head\")[0].appendChild(s);\n",
       "}\n",
       "\n",
       "if(typeof(LDAvis) !== \"undefined\"){\n",
       "   // already loaded: just create the visualization\n",
       "   !function(LDAvis){\n",
       "       new LDAvis(\"#\" + \"ldavis_el2470023756906526883734810720\", ldavis_el2470023756906526883734810720_data);\n",
       "   }(LDAvis);\n",
       "}else if(typeof define === \"function\" && define.amd){\n",
       "   // require.js is available: use it to load d3/LDAvis\n",
       "   require.config({paths: {d3: \"https://d3js.org/d3.v5\"}});\n",
       "   require([\"d3\"], function(d3){\n",
       "      window.d3 = d3;\n",
       "      LDAvis_load_lib(\"https://cdn.jsdelivr.net/gh/bmabey/pyLDAvis@3.3.1/pyLDAvis/js/ldavis.v3.0.0.js\", function(){\n",
       "        new LDAvis(\"#\" + \"ldavis_el2470023756906526883734810720\", ldavis_el2470023756906526883734810720_data);\n",
       "      });\n",
       "    });\n",
       "}else{\n",
       "    // require.js not available: dynamically load d3 & LDAvis\n",
       "    LDAvis_load_lib(\"https://d3js.org/d3.v5.js\", function(){\n",
       "         LDAvis_load_lib(\"https://cdn.jsdelivr.net/gh/bmabey/pyLDAvis@3.3.1/pyLDAvis/js/ldavis.v3.0.0.js\", function(){\n",
       "                 new LDAvis(\"#\" + \"ldavis_el2470023756906526883734810720\", ldavis_el2470023756906526883734810720_data);\n",
       "            })\n",
       "         });\n",
       "}\n",
       "</script>"
      ],
      "text/plain": [
       "PreparedData(topic_coordinates=              x         y  topics  cluster       Freq\n",
       "topic                                                \n",
       "2     -0.060746 -0.095157       1        1  24.534812\n",
       "6      0.110503  0.005370       2        1  20.128943\n",
       "4      0.042020 -0.086401       3        1  16.588242\n",
       "7      0.049671  0.037313       4        1  14.961277\n",
       "5     -0.023868  0.074478       5        1  11.742255\n",
       "3      0.004032  0.023622       6        1   5.601232\n",
       "0     -0.029530  0.013433       7        1   3.861172\n",
       "1     -0.092083  0.027341       8        1   2.582068, topic_info=                    Term       Freq      Total Category  logprob  loglift\n",
       "437          dragon_ball  38.000000  38.000000  Default  30.0000  30.0000\n",
       "125                   gt  57.000000  57.000000  Default  29.0000  29.0000\n",
       "74            dragonball  48.000000  48.000000  Default  28.0000  28.0000\n",
       "262                 show  37.000000  37.000000  Default  27.0000  27.0000\n",
       "251               series  53.000000  53.000000  Default  26.0000  26.0000\n",
       "..                   ...        ...        ...      ...      ...      ...\n",
       "44   character_enjoyment   0.881580  28.651860   Topic8  -5.2304   0.1753\n",
       "199              overall   0.860454  50.678496   Topic8  -5.2546  -0.4192\n",
       "43             character   0.868215  65.841389   Topic8  -5.2457  -0.6720\n",
       "115                  get   0.832802  50.988429   Topic8  -5.2873  -0.4580\n",
       "121                 good   0.491632  54.278686   Topic8  -5.8144  -1.0476\n",
       "\n",
       "[580 rows x 6 columns], token_table=      Topic      Freq      Term\n",
       "term                           \n",
       "1651      6  0.738363  abilitie\n",
       "1652      6  0.738360   absence\n",
       "549       1  0.308335  absolute\n",
       "549       4  0.616670  absolute\n",
       "758       7  0.790589    absorb\n",
       "...     ...       ...       ...\n",
       "329       6  0.092286      year\n",
       "329       7  0.092286      year\n",
       "330       1  0.241542       yet\n",
       "330       3  0.483083       yet\n",
       "330       8  0.241542       yet\n",
       "\n",
       "[1003 rows x 3 columns], R=30, lambda_step=0.01, plot_opts={'xlab': 'PC1', 'ylab': 'PC2'}, topic_order=[3, 7, 5, 8, 6, 4, 1, 2])"
      ]
     },
     "execution_count": 22,
     "metadata": {},
     "output_type": "execute_result"
    }
   ],
   "source": [
    "# Generate a visualization of the topic models\n",
    "\n",
    "import pyLDAvis.gensim_models\n",
    "pyLDAvis.enable_notebook()\n",
    "vis = pyLDAvis.gensim_models.prepare(lda_model, corpus, id2word)\n",
    "vis"
   ]
  },
  {
   "cell_type": "code",
   "execution_count": 23,
   "metadata": {},
   "outputs": [],
   "source": [
    "# Save the data frame as a CSV file\n",
    "# job_datas.to_csv(r'D:\\UMD Senior College Work\\Spring 2021\\INST447-0101\\Programming Assignment 2\\Chan_Matthew_INST447_PA2.csv')"
   ]
  },
  {
   "cell_type": "code",
   "execution_count": 24,
   "metadata": {},
   "outputs": [],
   "source": [
    "# Week 9 Topic Modelling\n",
    "# ner_corpus = ' '.join(ner_df['Name'])\n",
    "# corp = open(r'D:\\UMD Senior College Work\\Spring 2021\\INST447-0101\\Week 9\\corpus.txt',\"w\")\n",
    "# corp.writelines(ner_corpus)\n",
    "# corp.close()"
   ]
  },
  {
   "cell_type": "code",
   "execution_count": null,
   "metadata": {},
   "outputs": [],
   "source": []
  },
  {
   "cell_type": "code",
   "execution_count": null,
   "metadata": {},
   "outputs": [],
   "source": []
  },
  {
   "cell_type": "code",
   "execution_count": null,
   "metadata": {},
   "outputs": [],
   "source": []
  },
  {
   "cell_type": "code",
   "execution_count": null,
   "metadata": {},
   "outputs": [],
   "source": []
  },
  {
   "cell_type": "code",
   "execution_count": null,
   "metadata": {},
   "outputs": [],
   "source": []
  },
  {
   "cell_type": "code",
   "execution_count": null,
   "metadata": {},
   "outputs": [],
   "source": []
  },
  {
   "cell_type": "code",
   "execution_count": null,
   "metadata": {},
   "outputs": [],
   "source": []
  },
  {
   "cell_type": "code",
   "execution_count": null,
   "metadata": {},
   "outputs": [],
   "source": []
  }
 ],
 "metadata": {
  "kernelspec": {
   "display_name": "Python 3",
   "language": "python",
   "name": "python3"
  },
  "language_info": {
   "codemirror_mode": {
    "name": "ipython",
    "version": 3
   },
   "file_extension": ".py",
   "mimetype": "text/x-python",
   "name": "python",
   "nbconvert_exporter": "python",
   "pygments_lexer": "ipython3",
   "version": "3.8.5"
  }
 },
 "nbformat": 4,
 "nbformat_minor": 4
}
