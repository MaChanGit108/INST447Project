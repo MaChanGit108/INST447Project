{
 "cells": [
  {
   "cell_type": "markdown",
   "metadata": {},
   "source": [
    "### INST447 Project Part 2\n",
    "#### Members: Alexander Chui and Matthew Chan"
   ]
  },
  {
   "cell_type": "markdown",
   "metadata": {},
   "source": [
    "### What factors affect ratings for an anime?"
   ]
  },
  {
   "cell_type": "code",
   "execution_count": 1,
   "metadata": {},
   "outputs": [],
   "source": [
    "import warnings\n",
    "warnings.filterwarnings('ignore')"
   ]
  },
  {
   "cell_type": "code",
   "execution_count": 2,
   "metadata": {},
   "outputs": [],
   "source": [
    "#Importing the required libraries\n",
    "import pandas as pd\n",
    "from bs4 import BeautifulSoup\n",
    "from urllib.request import urlopen \n",
    "import numpy as np\n",
    "from requests import get"
   ]
  },
  {
   "cell_type": "code",
   "execution_count": 3,
   "metadata": {},
   "outputs": [],
   "source": [
    "#libraries imported for handling rate limits and console formatting\n",
    "from time import time, sleep\n",
    "from random import randint\n",
    "from warnings import warn\n",
    "from IPython.core.display import clear_output"
   ]
  },
  {
   "cell_type": "code",
   "execution_count": 4,
   "metadata": {},
   "outputs": [
    {
     "name": "stderr",
     "output_type": "stream",
     "text": [
      "C:\\Users\\MaNinjaChan\\anaconda3\\lib\\site-packages\\sklearn\\linear_model\\_least_angle.py:34: DeprecationWarning: `np.float` is a deprecated alias for the builtin `float`. To silence this warning, use `float` by itself. Doing this will not modify any behavior and is safe. If you specifically wanted the numpy scalar type, use `np.float64` here.\n",
      "Deprecated in NumPy 1.20; for more details and guidance: https://numpy.org/devdocs/release/1.20.0-notes.html#deprecations\n",
      "  method='lar', copy_X=True, eps=np.finfo(np.float).eps,\n",
      "C:\\Users\\MaNinjaChan\\anaconda3\\lib\\site-packages\\sklearn\\linear_model\\_least_angle.py:164: DeprecationWarning: `np.float` is a deprecated alias for the builtin `float`. To silence this warning, use `float` by itself. Doing this will not modify any behavior and is safe. If you specifically wanted the numpy scalar type, use `np.float64` here.\n",
      "Deprecated in NumPy 1.20; for more details and guidance: https://numpy.org/devdocs/release/1.20.0-notes.html#deprecations\n",
      "  method='lar', copy_X=True, eps=np.finfo(np.float).eps,\n",
      "C:\\Users\\MaNinjaChan\\anaconda3\\lib\\site-packages\\sklearn\\linear_model\\_least_angle.py:281: DeprecationWarning: `np.float` is a deprecated alias for the builtin `float`. To silence this warning, use `float` by itself. Doing this will not modify any behavior and is safe. If you specifically wanted the numpy scalar type, use `np.float64` here.\n",
      "Deprecated in NumPy 1.20; for more details and guidance: https://numpy.org/devdocs/release/1.20.0-notes.html#deprecations\n",
      "  eps=np.finfo(np.float).eps, copy_Gram=True, verbose=0,\n",
      "C:\\Users\\MaNinjaChan\\anaconda3\\lib\\site-packages\\sklearn\\linear_model\\_least_angle.py:865: DeprecationWarning: `np.float` is a deprecated alias for the builtin `float`. To silence this warning, use `float` by itself. Doing this will not modify any behavior and is safe. If you specifically wanted the numpy scalar type, use `np.float64` here.\n",
      "Deprecated in NumPy 1.20; for more details and guidance: https://numpy.org/devdocs/release/1.20.0-notes.html#deprecations\n",
      "  eps=np.finfo(np.float).eps, copy_X=True, fit_path=True,\n",
      "C:\\Users\\MaNinjaChan\\anaconda3\\lib\\site-packages\\sklearn\\linear_model\\_least_angle.py:1121: DeprecationWarning: `np.float` is a deprecated alias for the builtin `float`. To silence this warning, use `float` by itself. Doing this will not modify any behavior and is safe. If you specifically wanted the numpy scalar type, use `np.float64` here.\n",
      "Deprecated in NumPy 1.20; for more details and guidance: https://numpy.org/devdocs/release/1.20.0-notes.html#deprecations\n",
      "  eps=np.finfo(np.float).eps, copy_X=True, fit_path=True,\n",
      "C:\\Users\\MaNinjaChan\\anaconda3\\lib\\site-packages\\sklearn\\linear_model\\_least_angle.py:1149: DeprecationWarning: `np.float` is a deprecated alias for the builtin `float`. To silence this warning, use `float` by itself. Doing this will not modify any behavior and is safe. If you specifically wanted the numpy scalar type, use `np.float64` here.\n",
      "Deprecated in NumPy 1.20; for more details and guidance: https://numpy.org/devdocs/release/1.20.0-notes.html#deprecations\n",
      "  eps=np.finfo(np.float).eps, positive=False):\n",
      "C:\\Users\\MaNinjaChan\\anaconda3\\lib\\site-packages\\sklearn\\linear_model\\_least_angle.py:1379: DeprecationWarning: `np.float` is a deprecated alias for the builtin `float`. To silence this warning, use `float` by itself. Doing this will not modify any behavior and is safe. If you specifically wanted the numpy scalar type, use `np.float64` here.\n",
      "Deprecated in NumPy 1.20; for more details and guidance: https://numpy.org/devdocs/release/1.20.0-notes.html#deprecations\n",
      "  max_n_alphas=1000, n_jobs=None, eps=np.finfo(np.float).eps,\n",
      "C:\\Users\\MaNinjaChan\\anaconda3\\lib\\site-packages\\sklearn\\linear_model\\_least_angle.py:1621: DeprecationWarning: `np.float` is a deprecated alias for the builtin `float`. To silence this warning, use `float` by itself. Doing this will not modify any behavior and is safe. If you specifically wanted the numpy scalar type, use `np.float64` here.\n",
      "Deprecated in NumPy 1.20; for more details and guidance: https://numpy.org/devdocs/release/1.20.0-notes.html#deprecations\n",
      "  max_n_alphas=1000, n_jobs=None, eps=np.finfo(np.float).eps,\n",
      "C:\\Users\\MaNinjaChan\\anaconda3\\lib\\site-packages\\sklearn\\linear_model\\_least_angle.py:1755: DeprecationWarning: `np.float` is a deprecated alias for the builtin `float`. To silence this warning, use `float` by itself. Doing this will not modify any behavior and is safe. If you specifically wanted the numpy scalar type, use `np.float64` here.\n",
      "Deprecated in NumPy 1.20; for more details and guidance: https://numpy.org/devdocs/release/1.20.0-notes.html#deprecations\n",
      "  eps=np.finfo(np.float).eps, copy_X=True, positive=False):\n",
      "C:\\Users\\MaNinjaChan\\anaconda3\\lib\\site-packages\\sklearn\\decomposition\\_lda.py:28: DeprecationWarning: `np.float` is a deprecated alias for the builtin `float`. To silence this warning, use `float` by itself. Doing this will not modify any behavior and is safe. If you specifically wanted the numpy scalar type, use `np.float64` here.\n",
      "Deprecated in NumPy 1.20; for more details and guidance: https://numpy.org/devdocs/release/1.20.0-notes.html#deprecations\n",
      "  EPS = np.finfo(np.float).eps\n",
      "C:\\Users\\MaNinjaChan\\anaconda3\\lib\\site-packages\\sklearn\\feature_extraction\\image.py:172: DeprecationWarning: `np.int` is a deprecated alias for the builtin `int`. To silence this warning, use `int` by itself. Doing this will not modify any behavior and is safe. When replacing `np.int`, you may wish to use e.g. `np.int64` or `np.int32` to specify the precision. If you wish to review your current use, check the release note link for additional information.\n",
      "Deprecated in NumPy 1.20; for more details and guidance: https://numpy.org/devdocs/release/1.20.0-notes.html#deprecations\n",
      "  dtype=np.int):\n"
     ]
    }
   ],
   "source": [
    "import regex as re\n",
    "\n",
    "# Gensim\n",
    "import gensim\n",
    "import gensim.corpora as corpora\n",
    "from gensim.utils import simple_preprocess\n",
    "\n",
    "# spacy for lemmatization\n",
    "import spacy\n",
    "\n",
    "# Plotting tools\n",
    "import pyLDAvis\n",
    "\n",
    "import nltk; "
   ]
  },
  {
   "cell_type": "code",
   "execution_count": 5,
   "metadata": {},
   "outputs": [],
   "source": [
    "# NLTK Stop words\n",
    "from nltk.corpus import stopwords\n",
    "stop_words = stopwords.words('english')\n",
    "stop_words.extend(['from', 'subject', 're', 'edu', 'use'])"
   ]
  },
  {
   "cell_type": "code",
   "execution_count": 6,
   "metadata": {},
   "outputs": [],
   "source": [
    "#Connecting to the URL on the web to access its content (Crunchyroll)\n",
    "# html=urlopen('https://www.crunchyroll.com/fullmetal-alchemist-brotherhood/reviews/helpful/page1')\n",
    "# html.status"
   ]
  },
  {
   "cell_type": "code",
   "execution_count": 7,
   "metadata": {},
   "outputs": [
    {
     "data": {
      "text/plain": [
       "200"
      ]
     },
     "execution_count": 7,
     "metadata": {},
     "output_type": "execute_result"
    }
   ],
   "source": [
    "#Connecting to the URL on the web to access its content (MAL)\n",
    "html=urlopen('https://myanimelist.net/anime/6205/K%C3%A4mpfer/reviews?p=1')\n",
    "html.status"
   ]
  },
  {
   "cell_type": "code",
   "execution_count": 8,
   "metadata": {},
   "outputs": [],
   "source": [
    "#Creating an instance of beautifulsoup object to begin web scraping\n",
    "bs=BeautifulSoup(html.read(),'html.parser')"
   ]
  },
  {
   "cell_type": "code",
   "execution_count": 9,
   "metadata": {},
   "outputs": [
    {
     "name": "stdout",
     "output_type": "stream",
     "text": [
      "20\n"
     ]
    }
   ],
   "source": [
    "#Acessing the container objects with the anime info \n",
    "anime_review_containers = bs.find_all('div', {'class':{'borderDark'}})\n",
    "print(len(anime_review_containers))"
   ]
  },
  {
   "cell_type": "code",
   "execution_count": 10,
   "metadata": {},
   "outputs": [],
   "source": [
    "#Creating empty lists to store all the items \n",
    "review = []"
   ]
  },
  {
   "cell_type": "code",
   "execution_count": 11,
   "metadata": {},
   "outputs": [],
   "source": [
    "# Preparing the monitoring of the loop\n",
    "start_time = time()\n",
    "request = 0"
   ]
  },
  {
   "cell_type": "code",
   "execution_count": 12,
   "metadata": {},
   "outputs": [],
   "source": [
    "#Extracting each job name in loop\n",
    "for page in range(1,5):\n",
    "    # Make a get request\n",
    "        #https://myanimelist.net/anime/genre/1/Action?page=1\n",
    "        #https://myanimelist.net/anime/genre/1/Action?page=2\n",
    "        response = get('https://myanimelist.net/anime/6205/K%C3%A4mpfer/reviews?p='+ str(page))\n",
    "        \n",
    "#         # Pause the loop\n",
    "#         sleep(randint(8,15))\n",
    "\n",
    "#         # Monitor the requests\n",
    "#         request += 1\n",
    "#         elapsed_time = time() - start_time\n",
    "#         print('Request:{}; Frequency: {} requests/s'.format(request, \n",
    "#                                                             request/elapsed_time))\n",
    "#         clear_output(wait = True)\n",
    "\n",
    "#         # Throw a warning for non-200 status codes\n",
    "#         if response.status_code != 200:\n",
    "#             warn('Request: {}; Status code: {}'.format(request, \n",
    "#                                                        response.status_code))\n",
    "\n",
    "#         # Break the loop if the number of requests is greater than expected\n",
    "#         if request > 100:\n",
    "#             warn('Number of requests was greater than expected.')\n",
    "#             break\n",
    "        \n",
    "        # Parse the content of the request with BeautifulSoup\n",
    "        bs = BeautifulSoup(response.text, 'html.parser')\n",
    "        \n",
    "        #Acessing the container objects with the anime info \n",
    "        anime_review_containers = bs.find_all('div', {'class':{'borderDark'}})\n",
    "\n",
    "        #Extracting all the elements \n",
    "        for container in anime_review_containers:\n",
    "        # If the movie has Metascore, then extract:\n",
    "        #  if container.find('div', {'class':{'scoremem'}})  is not None:\n",
    "        \n",
    "        # The name of anime\n",
    "            try: \n",
    "                reviews = container.find('div', {'class':'spaceit textReadability word-break pt8 mt8'})\n",
    "                review.append(reviews.text)\n",
    "            except:\n",
    "                review.append('Missing')"
   ]
  },
  {
   "cell_type": "code",
   "execution_count": 13,
   "metadata": {},
   "outputs": [
    {
     "name": "stdout",
     "output_type": "stream",
     "text": [
      "<class 'pandas.core.frame.DataFrame'>\n",
      "RangeIndex: 80 entries, 0 to 79\n",
      "Data columns (total 1 columns):\n",
      " #   Column  Non-Null Count  Dtype \n",
      "---  ------  --------------  ----- \n",
      " 0   Review  80 non-null     object\n",
      "dtypes: object(1)\n",
      "memory usage: 768.0+ bytes\n",
      "None\n"
     ]
    }
   ],
   "source": [
    "#Creating a pandas dataframe to store the objects extracted\n",
    "anime_review = pd.DataFrame({'Review': review\n",
    "})\n",
    "print(anime_review.info())"
   ]
  },
  {
   "cell_type": "code",
   "execution_count": 14,
   "metadata": {},
   "outputs": [
    {
     "data": {
      "text/html": [
       "<div>\n",
       "<style scoped>\n",
       "    .dataframe tbody tr th:only-of-type {\n",
       "        vertical-align: middle;\n",
       "    }\n",
       "\n",
       "    .dataframe tbody tr th {\n",
       "        vertical-align: top;\n",
       "    }\n",
       "\n",
       "    .dataframe thead th {\n",
       "        text-align: right;\n",
       "    }\n",
       "</style>\n",
       "<table border=\"1\" class=\"dataframe\">\n",
       "  <thead>\n",
       "    <tr style=\"text-align: right;\">\n",
       "      <th></th>\n",
       "      <th>Review</th>\n",
       "    </tr>\n",
       "  </thead>\n",
       "  <tbody>\n",
       "    <tr>\n",
       "      <th>0</th>\n",
       "      <td>\\n\\n\\n\\nOverall\\n5\\n\\n\\nStory\\n5\\n\\n\\nAnimatio...</td>\n",
       "    </tr>\n",
       "    <tr>\n",
       "      <th>1</th>\n",
       "      <td>\\n\\n\\n\\nOverall\\n7\\n\\n\\nStory\\n7\\n\\n\\nAnimatio...</td>\n",
       "    </tr>\n",
       "    <tr>\n",
       "      <th>2</th>\n",
       "      <td>\\n\\n\\n\\nOverall\\n6\\n\\n\\nStory\\n6\\n\\n\\nAnimatio...</td>\n",
       "    </tr>\n",
       "    <tr>\n",
       "      <th>3</th>\n",
       "      <td>\\n\\n\\n\\nOverall\\n7\\n\\n\\nStory\\n5\\n\\n\\nAnimatio...</td>\n",
       "    </tr>\n",
       "    <tr>\n",
       "      <th>4</th>\n",
       "      <td>\\n\\n\\n\\nOverall\\n8\\n\\n\\nStory\\n8\\n\\n\\nAnimatio...</td>\n",
       "    </tr>\n",
       "  </tbody>\n",
       "</table>\n",
       "</div>"
      ],
      "text/plain": [
       "                                              Review\n",
       "0  \\n\\n\\n\\nOverall\\n5\\n\\n\\nStory\\n5\\n\\n\\nAnimatio...\n",
       "1  \\n\\n\\n\\nOverall\\n7\\n\\n\\nStory\\n7\\n\\n\\nAnimatio...\n",
       "2  \\n\\n\\n\\nOverall\\n6\\n\\n\\nStory\\n6\\n\\n\\nAnimatio...\n",
       "3  \\n\\n\\n\\nOverall\\n7\\n\\n\\nStory\\n5\\n\\n\\nAnimatio...\n",
       "4  \\n\\n\\n\\nOverall\\n8\\n\\n\\nStory\\n8\\n\\n\\nAnimatio..."
      ]
     },
     "execution_count": 14,
     "metadata": {},
     "output_type": "execute_result"
    }
   ],
   "source": [
    "# Display the top 5 rows of dataset\n",
    "anime_review.head()"
   ]
  },
  {
   "cell_type": "code",
   "execution_count": 15,
   "metadata": {},
   "outputs": [
    {
     "name": "stdout",
     "output_type": "stream",
     "text": [
      " Overall 5 Story 5 Animation 6 Sound 9 Character 4 Enjoyment 6 I really love all of the crazy implausible story concepts anime is capable of delivering us. Kämpfer is no exception, as it combines many time honored and tested themes of mahou shoujo-esque transformations, girls fighting each other, gender confusion, and lesbianism. Mix in plenty of service and a clichéd harem of the usual personality types and you have an anime that basically been made a hundred times before. And a lot better too. Even though, I still found myself inexorability drawn to this title because of its fabulous seiyuu cast. The premise for Kämpfer is a bit unique. While it shares many of the same themes as shows like Ikkitousen and Sekirei, Kämpfer deviates by essentially making the male lead one of his own harem by forcing him to transform into a girl in order to participate in the battles. The girls are divided into factions, red and blue, and must battle each other to the death (apparently) at the behest of a mysterious and sinister sounding faction known as the Moderators. From the start we seem to be set for a series chalk full of exciting action and ecchi gender bending comedy. By mid series we have our completed harem all vying for the affections of our clueless nondescript leading man (more on him later). Initially I found Kämpfer had a lot of potential for delivering some interesting action and some really entertaining comedy. Unfortunately it doesn't take too long for things to start to unravel. Mainly because the series makes the mistakes many others have made before, trying to be and do too many things instead of just keeping things simple. It was also a bit creepy the matter-of-fact way the lead accepted his fate of becoming a girl and his constantly flip flopping back and forth between masculinity and femininity. This element always tends to bother me a bit in gender bending stories and its rare that it actually really works. For a show that appeared to be about action and fighting there is a shocking lack of any real fighting in it. Very little about why the girls are fighting is even explained adequately and the ending to the series is in a word: pathetic. Additionally even the ecchi is inadequate with even the supposed \"uncensored\" version of the show lacking anything all that arousing. The comedy which at times is pretty good is not good enough, enough of the time to really be very pleasing in that aspect either. While normally I would scoff at the mention of any kind of serious romance or drama coming out of a harem anime, the series does try to deliver some of this as well. Some of it works but the characters are so uninteresting and lifeless that the impact is really lost. Because of the mediocre nature of all of the shows elements it’s unlikely to appeal to fans of any of these genres. Those who like action or romance will not be satisfied and neither will fans of ecchi since all of the service is pretty tame and pedestrian by current standards. Combining that with the terrible ending that fails to resolve neither the main plot or any of it's subplots and we have almost total across the board fail. The characters really bare the blunt of the blame for Kämpfer being so uninspired. This is nowhere more evident than with our harems leading man, er woman, Natsuru. Now this is nothing new to anyone who has watched any harems. Typically it’s the girls who always shine brightest in these sorts of shows with the guy being a typically plain and indecisive proxy for the fantasies of the intended, mostly male audience. The only difference here is that the guy is in fact one of the girls too. Though other than being hot and combined the stereotypical guy in a girls body humor there is absolutely nothing interesting about \"her\" either. Maybe the most memorable thing about Natsuru though is he is without a doubt the most clueless and colossally stupid man in the history of the universe. Really dude, buy a fucking clue! I wanted to reach through the TV and slap him myself. I actually almost felt sorry for those girls. Speaking of the girls they unfortunately don’t fair much better. They meet all the usual harem standards by combining a tomboyish childhood friend, moe oujosama, tsundere meganekko, and cool aloof student council president. They are about as exciting as their descriptions too. Perhaps the only exception is Akane, the bespectacled tsundere. Though this may only have been because of my affinity for the character type and that she was voiced by Yue Horie then out of any real quality. The supporting cast is equally as clichéd and unmemorable. So much so that I doubt I could even remember any of their names without looking at the cast list first. The best thing to come out of the cast is clearly the talking stuffed \"Entrails Animals\" that serve as companions for each of the Kämpfer. The fact that they were all voiced by very well known seiyuu was a big part of it but they were really the only characters who were actually funny. You know a series is in a lot of trouble when the highlight of the show is the preview of the next episode and the summary before the episode starts (all coincidently voiced by these characters). I felt that a huge opportunity was missed in not making these characters more involved in the episodes dialogue and comedy bits. I felt there was a lot of untapped potential left behind. Artistically Kämpfer is solid but unspectacular. The girls are cute and have nice figures and our leading man is at least somewhat manly in at least appearance. I thought the breasts were pretty silly looking though, a bit too torpedoish looking. Kind of a peeve of mine that if you’re going to show me these girls tits all the time that they don’t even look natural. Even if they are usually obscured by the usual convenient steam and light beams. The action scenes are also not that spectacular either, which is even more disappointing considering how few their actually are. The voice acting is the best and only real bright spot of the anime. A real all star lineup of acting talent is on display but unfortunately they all had very little to work with. The musical performances were fair. I was a little disappointed at who they actually had perform the OP/ED songs considering the talent they had available. Overall there is nothing for me to recommend about this anime. It fails as a action, harem, or even ecchi comedy. While it does have its moments at times there is not enough of any one thing to really appeal to fans of any of these genres. Stay clear, you can do a lot better than this one. Helpful read more \n"
     ]
    },
    {
     "name": "stderr",
     "output_type": "stream",
     "text": [
      "<>:5: DeprecationWarning: invalid escape sequence \\s\n",
      "<>:5: DeprecationWarning: invalid escape sequence \\s\n",
      "<ipython-input-15-b412c0db5fd7>:5: DeprecationWarning: invalid escape sequence \\s\n",
      "  data = [re.sub('\\s+', ' ', sent) for sent in data]\n"
     ]
    }
   ],
   "source": [
    "# Convert to list\n",
    "data = anime_review['Review'].tolist()\n",
    "\n",
    "# Remove new line characters\n",
    "data = [re.sub('\\s+', ' ', sent) for sent in data]\n",
    "\n",
    "print(data[0])"
   ]
  },
  {
   "cell_type": "code",
   "execution_count": 16,
   "metadata": {},
   "outputs": [
    {
     "name": "stdout",
     "output_type": "stream",
     "text": [
      "['overall', 'story', 'animation', 'sound', 'character', 'enjoyment', 'really', 'love', 'all', 'of', 'the', 'crazy', 'implausible', 'story', 'concepts', 'anime', 'is', 'capable', 'of', 'delivering', 'us', 'kampfer', 'is', 'no', 'exception', 'as', 'it', 'combines', 'many', 'time', 'honored', 'and', 'tested', 'themes', 'of', 'mahou', 'shoujo', 'esque', 'transformations', 'girls', 'fighting', 'each', 'other', 'gender', 'confusion', 'and', 'lesbianism', 'mix', 'in', 'plenty', 'of', 'service', 'and', 'cliched', 'harem', 'of', 'the', 'usual', 'personality', 'types', 'and', 'you', 'have', 'an', 'anime', 'that', 'basically', 'been', 'made', 'hundred', 'times', 'before', 'and', 'lot', 'better', 'too', 'even', 'though', 'still', 'found', 'myself', 'inexorability', 'drawn', 'to', 'this', 'title', 'because', 'of', 'its', 'fabulous', 'seiyuu', 'cast', 'the', 'premise', 'for', 'kampfer', 'is', 'bit', 'unique', 'while', 'it', 'shares', 'many', 'of', 'the', 'same', 'themes', 'as', 'shows', 'like', 'ikkitousen', 'and', 'sekirei', 'kampfer', 'deviates', 'by', 'essentially', 'making', 'the', 'male', 'lead', 'one', 'of', 'his', 'own', 'harem', 'by', 'forcing', 'him', 'to', 'transform', 'into', 'girl', 'in', 'order', 'to', 'participate', 'in', 'the', 'battles', 'the', 'girls', 'are', 'divided', 'into', 'factions', 'red', 'and', 'blue', 'and', 'must', 'battle', 'each', 'other', 'to', 'the', 'death', 'apparently', 'at', 'the', 'behest', 'of', 'mysterious', 'and', 'sinister', 'sounding', 'faction', 'known', 'as', 'the', 'moderators', 'from', 'the', 'start', 'we', 'seem', 'to', 'be', 'set', 'for', 'series', 'chalk', 'full', 'of', 'exciting', 'action', 'and', 'ecchi', 'gender', 'bending', 'comedy', 'by', 'mid', 'series', 'we', 'have', 'our', 'completed', 'harem', 'all', 'vying', 'for', 'the', 'affections', 'of', 'our', 'clueless', 'nondescript', 'leading', 'man', 'more', 'on', 'him', 'later', 'initially', 'found', 'kampfer', 'had', 'lot', 'of', 'potential', 'for', 'delivering', 'some', 'interesting', 'action', 'and', 'some', 'really', 'entertaining', 'comedy', 'unfortunately', 'it', 'doesn', 'take', 'too', 'long', 'for', 'things', 'to', 'start', 'to', 'unravel', 'mainly', 'because', 'the', 'series', 'makes', 'the', 'mistakes', 'many', 'others', 'have', 'made', 'before', 'trying', 'to', 'be', 'and', 'do', 'too', 'many', 'things', 'instead', 'of', 'just', 'keeping', 'things', 'simple', 'it', 'was', 'also', 'bit', 'creepy', 'the', 'matter', 'of', 'fact', 'way', 'the', 'lead', 'accepted', 'his', 'fate', 'of', 'becoming', 'girl', 'and', 'his', 'constantly', 'flip', 'flopping', 'back', 'and', 'forth', 'between', 'masculinity', 'and', 'femininity', 'this', 'element', 'always', 'tends', 'to', 'bother', 'me', 'bit', 'in', 'gender', 'bending', 'stories', 'and', 'its', 'rare', 'that', 'it', 'actually', 'really', 'works', 'for', 'show', 'that', 'appeared', 'to', 'be', 'about', 'action', 'and', 'fighting', 'there', 'is', 'shocking', 'lack', 'of', 'any', 'real', 'fighting', 'in', 'it', 'very', 'little', 'about', 'why', 'the', 'girls', 'are', 'fighting', 'is', 'even', 'explained', 'adequately', 'and', 'the', 'ending', 'to', 'the', 'series', 'is', 'in', 'word', 'pathetic', 'additionally', 'even', 'the', 'ecchi', 'is', 'inadequate', 'with', 'even', 'the', 'supposed', 'uncensored', 'version', 'of', 'the', 'show', 'lacking', 'anything', 'all', 'that', 'arousing', 'the', 'comedy', 'which', 'at', 'times', 'is', 'pretty', 'good', 'is', 'not', 'good', 'enough', 'enough', 'of', 'the', 'time', 'to', 'really', 'be', 'very', 'pleasing', 'in', 'that', 'aspect', 'either', 'while', 'normally', 'would', 'scoff', 'at', 'the', 'mention', 'of', 'any', 'kind', 'of', 'serious', 'romance', 'or', 'drama', 'coming', 'out', 'of', 'harem', 'anime', 'the', 'series', 'does', 'try', 'to', 'deliver', 'some', 'of', 'this', 'as', 'well', 'some', 'of', 'it', 'works', 'but', 'the', 'characters', 'are', 'so', 'uninteresting', 'and', 'lifeless', 'that', 'the', 'impact', 'is', 'really', 'lost', 'because', 'of', 'the', 'mediocre', 'nature', 'of', 'all', 'of', 'the', 'shows', 'elements', 'it', 'unlikely', 'to', 'appeal', 'to', 'fans', 'of', 'any', 'of', 'these', 'genres', 'those', 'who', 'like', 'action', 'or', 'romance', 'will', 'not', 'be', 'satisfied', 'and', 'neither', 'will', 'fans', 'of', 'ecchi', 'since', 'all', 'of', 'the', 'service', 'is', 'pretty', 'tame', 'and', 'pedestrian', 'by', 'current', 'standards', 'combining', 'that', 'with', 'the', 'terrible', 'ending', 'that', 'fails', 'to', 'resolve', 'neither', 'the', 'main', 'plot', 'or', 'any', 'of', 'it', 'subplots', 'and', 'we', 'have', 'almost', 'total', 'across', 'the', 'board', 'fail', 'the', 'characters', 'really', 'bare', 'the', 'blunt', 'of', 'the', 'blame', 'for', 'kampfer', 'being', 'so', 'uninspired', 'this', 'is', 'nowhere', 'more', 'evident', 'than', 'with', 'our', 'harems', 'leading', 'man', 'er', 'woman', 'natsuru', 'now', 'this', 'is', 'nothing', 'new', 'to', 'anyone', 'who', 'has', 'watched', 'any', 'harems', 'typically', 'it', 'the', 'girls', 'who', 'always', 'shine', 'brightest', 'in', 'these', 'sorts', 'of', 'shows', 'with', 'the', 'guy', 'being', 'typically', 'plain', 'and', 'indecisive', 'proxy', 'for', 'the', 'fantasies', 'of', 'the', 'intended', 'mostly', 'male', 'audience', 'the', 'only', 'difference', 'here', 'is', 'that', 'the', 'guy', 'is', 'in', 'fact', 'one', 'of', 'the', 'girls', 'too', 'though', 'other', 'than', 'being', 'hot', 'and', 'combined', 'the', 'stereotypical', 'guy', 'in', 'girls', 'body', 'humor', 'there', 'is', 'absolutely', 'nothing', 'interesting', 'about', 'her', 'either', 'maybe', 'the', 'most', 'memorable', 'thing', 'about', 'natsuru', 'though', 'is', 'he', 'is', 'without', 'doubt', 'the', 'most', 'clueless', 'and', 'colossally', 'stupid', 'man', 'in', 'the', 'history', 'of', 'the', 'universe', 'really', 'dude', 'buy', 'fucking', 'clue', 'wanted', 'to', 'reach', 'through', 'the', 'tv', 'and', 'slap', 'him', 'myself', 'actually', 'almost', 'felt', 'sorry', 'for', 'those', 'girls', 'speaking', 'of', 'the', 'girls', 'they', 'unfortunately', 'don', 'fair', 'much', 'better', 'they', 'meet', 'all', 'the', 'usual', 'harem', 'standards', 'by', 'combining', 'tomboyish', 'childhood', 'friend', 'moe', 'oujosama', 'tsundere', 'meganekko', 'and', 'cool', 'aloof', 'student', 'council', 'president', 'they', 'are', 'about', 'as', 'exciting', 'as', 'their', 'descriptions', 'too', 'perhaps', 'the', 'only', 'exception', 'is', 'akane', 'the', 'bespectacled', 'tsundere', 'though', 'this', 'may', 'only', 'have', 'been', 'because', 'of', 'my', 'affinity', 'for', 'the', 'character', 'type', 'and', 'that', 'she', 'was', 'voiced', 'by', 'yue', 'horie', 'then', 'out', 'of', 'any', 'real', 'quality', 'the', 'supporting', 'cast', 'is', 'equally', 'as', 'cliched', 'and', 'unmemorable', 'so', 'much', 'so', 'that', 'doubt', 'could', 'even', 'remember', 'any', 'of', 'their', 'names', 'without', 'looking', 'at', 'the', 'cast', 'list', 'first', 'the', 'best', 'thing', 'to', 'come', 'out', 'of', 'the', 'cast', 'is', 'clearly', 'the', 'talking', 'stuffed', 'entrails', 'animals', 'that', 'serve', 'as', 'companions', 'for', 'each', 'of', 'the', 'kampfer', 'the', 'fact', 'that', 'they', 'were', 'all', 'voiced', 'by', 'very', 'well', 'known', 'seiyuu', 'was', 'big', 'part', 'of', 'it', 'but', 'they', 'were', 'really', 'the', 'only', 'characters', 'who', 'were', 'actually', 'funny', 'you', 'know', 'series', 'is', 'in', 'lot', 'of', 'trouble', 'when', 'the', 'highlight', 'of', 'the', 'show', 'is', 'the', 'preview', 'of', 'the', 'next', 'episode', 'and', 'the', 'summary', 'before', 'the', 'episode', 'starts', 'all', 'coincidently', 'voiced', 'by', 'these', 'characters', 'felt', 'that', 'huge', 'opportunity', 'was', 'missed', 'in', 'not', 'making', 'these', 'characters', 'more', 'involved', 'in', 'the', 'episodes', 'dialogue', 'and', 'comedy', 'bits', 'felt', 'there', 'was', 'lot', 'of', 'untapped', 'potential', 'left', 'behind', 'artistically', 'kampfer', 'is', 'solid', 'but', 'unspectacular', 'the', 'girls', 'are', 'cute', 'and', 'have', 'nice', 'figures', 'and', 'our', 'leading', 'man', 'is', 'at', 'least', 'somewhat', 'manly', 'in', 'at', 'least', 'appearance', 'thought', 'the', 'breasts', 'were', 'pretty', 'silly', 'looking', 'though', 'bit', 'too', 'torpedoish', 'looking', 'kind', 'of', 'peeve', 'of', 'mine', 'that', 'if', 'you', 're', 'going', 'to', 'show', 'me', 'these', 'girls', 'tits', 'all', 'the', 'time', 'that', 'they', 'don', 'even', 'look', 'natural', 'even', 'if', 'they', 'are', 'usually', 'obscured', 'by', 'the', 'usual', 'convenient', 'steam', 'and', 'light', 'beams', 'the', 'action', 'scenes', 'are', 'also', 'not', 'that', 'spectacular', 'either', 'which', 'is', 'even', 'more', 'disappointing', 'considering', 'how', 'few', 'their', 'actually', 'are', 'the', 'voice', 'acting', 'is', 'the', 'best', 'and', 'only', 'real', 'bright', 'spot', 'of', 'the', 'anime', 'real', 'all', 'star', 'lineup', 'of', 'acting', 'talent', 'is', 'on', 'display', 'but', 'unfortunately', 'they', 'all', 'had', 'very', 'little', 'to', 'work', 'with', 'the', 'musical', 'performances', 'were', 'fair', 'was', 'little', 'disappointed', 'at', 'who', 'they', 'actually', 'had', 'perform', 'the', 'op', 'ed', 'songs', 'considering', 'the', 'talent', 'they', 'had', 'available', 'overall', 'there', 'is', 'nothing', 'for', 'me', 'to', 'recommend', 'about', 'this', 'anime', 'it', 'fails', 'as', 'action', 'harem', 'or', 'even', 'ecchi', 'comedy', 'while', 'it', 'does', 'have', 'its', 'moments', 'at', 'times', 'there', 'is', 'not', 'enough', 'of', 'any', 'one', 'thing', 'to', 'really', 'appeal', 'to', 'fans', 'of', 'any', 'of', 'these', 'genres', 'stay', 'clear', 'you', 'can', 'do', 'lot', 'better', 'than', 'this', 'one', 'helpful', 'read', 'more']\n"
     ]
    }
   ],
   "source": [
    "# Clean and tokenize the reviews\n",
    "\n",
    "def sent_to_words(sentences):\n",
    "    for sentence in sentences:\n",
    "        yield(gensim.utils.simple_preprocess(str(sentence), deacc=True))  # deacc=True removes punctuations\n",
    "        \n",
    "data_words = list(sent_to_words(data))\n",
    "\n",
    "print(data_words[0])"
   ]
  },
  {
   "cell_type": "code",
   "execution_count": 17,
   "metadata": {},
   "outputs": [
    {
     "name": "stdout",
     "output_type": "stream",
     "text": [
      "['overall', 'story', 'animation_sound', 'character', 'enjoyment', 'review', 'after', 'reading', 'manga', 'young', 'male', 'love', 'girl', 'at', 'his', 'school', 'but', 'doesnt', 'have', 'the', 'guts', 'to', 'ask', 'her', 'out', 'yet', 'so', 'has', 'been', 'keeping', 'it', 'at', 'friend', 'level', 'but', 'suddenly', 'hes', 'thrown', 'into', 'game', 'that', 'can', 'cost', 'him', 'his', 'life', 'but', 'comes', 'with', 'bonus', 'that', 'can', 'get', 'him', 'closer', 'to', 'the', 'girls', 'of', 'his', 'dreams', 'sure', 'this', 'sounds', 'like', 'million', 'other', 'anime', 'about', 'guys', 'who', 'cant', 'get', 'their', 'act', 'to', 'gether', 'but', 'whats', 'so', 'wrong', 'with', 'that', 'love', 'this', 'kinda', 'storys', 'and', 'as', 'long', 'as', 'theres', 'twist', 'why', 'would', 'complain', 'about', 'the', 'same', 'old', 'same', 'old', 'build', 'if', 'you', 'dont', 'enjoy', 'the', 'anime', 'where', 'guys', 'become', 'girls', 'and', 'try', 'to', 'hook', 'up', 'with', 'their', 'dream', 'girl', 'or', 'where', 'magic', 'thrusts', 'people', 'in', 'to', 'battles', 'they', 'have', 'little', 'to', 'no', 'knowledge', 'of', 'then', 'this', 'isnt', 'for', 'you', 'but', 'if', 'your', 'anything', 'like', 'me', 'and', 'think', 'its', 'funny', 'to', 'watch', 'some', 'guy', 'make', 'fool', 'of', 'himself', 'and', 'watch', 'hot', 'chick', 'go', 'at', 'it', 'ripping', 'clothes', 'off', 'and', 'making', 'out', 'then', 'you', 'should', 'enjoy', 'this', 'first', 'episode', 'review', 'before', 'manga', 'knowledge', 'after', 'waking', 'suddenly', 'young', 'meek', 'boy', 'finds', 'himself', 'in', 'female', 'body', 'and', 'stuffed', 'animal', 'starts', 'lecturing', 'him', 'as', 'with', 'anyone', 'denial', 'is', 'the', 'first', 'response', 'to', 'events', 'the', 'brain', 'just', 'cant', 'wrap', 'its', 'self', 'around', 'his', 'stuffed', 'tiger', 'explains', 'the', 'basics', 'of', 'his', 'situation', 'with', 'no', 'real', 'detail', 'simply', 'that', 'when', 'his', 'bracelet', 'glows', 'he', 'will', 'turn', 'in', 'to', 'female', 'and', 'likely', 'run', 'into', 'fight', 'when', 'turned', 'in', 'to', 'kampfer', 'deep', 'personality', 'traits', 'are', 'more', 'exaggerated', 'physical', 'ability', 'it', 'increased', 'and', 'you', 'gain', 'weapon', 'there', 'are', 'three', 'weapon', 'types', 'mentioned', 'at', 'this', 'point', 'to', 'keep', 'it', 'simple', 'either', 'your', 'sword', 'user', 'gun', 'user', 'or', 'like', 'our', 'main', 'character', 'magic', 'user', 'story', 'having', 'to', 'pick', 'based', 'off', 'the', 'first', 'episode', 'can', 'see', 'it', 'turning', 'into', 'good', 'story', 'chicks', 'dig', 'him', 'so', 'far', 'and', 'more', 'are', 'sure', 'to', 'come', 'art', 'love', 'the', 'school', 'uniforms', 'color', 'is', 'good', 'and', 'frame', 'rate', 'isnt', 'anything', 'to', 'be', 'disappointed', 'about', 'sound', 'sure', 'good', 'enough', 'guy', 'could', 'be', 'bit', 'more', 'many', 'but', 'then', 'again', 'it', 'adds', 'to', 'him', 'meek', 'personality', 'almost', 'makes', 'him', 'seem', 'character', 'quicky', 'defined', 'in', 'the', 'first', 'episode', 'already', 'feel', 'like', 'know', 'them', 'well', 'with', 'the', 'transformations', 'draging', 'out', 'the', 'most', 'deep', 'desires', 'of', 'the', 'kampfer', 'we', 'can', 'see', 'just', 'who', 'who', 'right', 'off', 'the', 'bat', 'enjoyment', 'worth', 'the', 'mins', 'so', 'far', 'and', 'expecting', 'more', 'the', 'first', 'epsisodes', 'make', 'up', 'nice', 'chunck', 'of', 'the', 'manga', 'so', 'im', 'hoping', 'for', 'some', 'good', 'new', 'action', 'helpful_read', 'more']\n"
     ]
    }
   ],
   "source": [
    "# Create bigrams, remove stop words and lemmatize the reviews\n",
    "\n",
    "# Build the bigram models\n",
    "bigram = gensim.models.Phrases(data_words, min_count=5, threshold=100) # higher threshold fewer phrases.\n",
    "\n",
    "# Faster way to get a sentence clubbed as a trigram/bigram\n",
    "bigram_mod = gensim.models.phrases.Phraser(bigram)\n",
    "\n",
    "print(bigram_mod[data_words[4]])"
   ]
  },
  {
   "cell_type": "code",
   "execution_count": 18,
   "metadata": {},
   "outputs": [],
   "source": [
    "# Defining removing stopwords\n",
    "def remove_stopwords(texts):\n",
    "    return [[word for word in simple_preprocess(str(doc)) if word not in stop_words] for doc in texts]\n",
    "\n",
    "# Defining making bigrams\n",
    "def make_bigrams(texts):\n",
    "    return [bigram_mod[doc] for doc in texts]\n",
    "\n",
    "# Defining lemmatization\n",
    "def lemmatization(texts, allowed_postags=['NOUN', 'ADJ', 'VERB', 'ADV']):\n",
    "    texts_out = []\n",
    "    for sent in texts:\n",
    "        doc = nlp(\" \".join(sent)) \n",
    "        texts_out.append([token.lemma_ for token in doc if token.pos_ in allowed_postags])\n",
    "    return texts_out"
   ]
  },
  {
   "cell_type": "code",
   "execution_count": 19,
   "metadata": {},
   "outputs": [
    {
     "name": "stdout",
     "output_type": "stream",
     "text": [
      "['overall', 'story', 'character', 'enjoyment', 'really', 'love', 'crazy', 'implausible', 'story', 'concept', 'anime', 'capable', 'deliver', 'kampfer', 'exception', 'combine', 'many', 'time', 'honor', 'test', 'theme', 'shoujo', 'esque', 'transformation', 'girl', 'fight', 'gender', 'confusion', 'lesbianism', 'mix', 'plenty', 'service', 'cliche', 'harem', 'usual', 'personality', 'type', 'anime', 'basically', 'make', 'time', 'lot', 'well', 'even', 'still', 'find', 'inexorability', 'draw', 'title', 'fabulous', 'seiyuu', 'cast', 'premise', 'kampfer', 'bit', 'unique', 'share', 'many', 'theme', 'show', 'ikkitousen', 'sekirei', 'kampfer', 'deviate', 'essentially', 'make', 'male', 'lead', 'harem', 'force', 'transform', 'girl', 'order', 'participate', 'battle', 'girl', 'divide', 'faction', 'red', 'blue', 'battle', 'death', 'apparently', 'behest', 'mysterious', 'sinister', 'sound', 'faction', 'know', 'moderator', 'start', 'seem', 'set', 'series', 'chalk', 'full', 'exciting', 'action', 'ecchi', 'gender_bending', 'comedy', 'mid', 'series', 'complete', 'harem', 'vie', 'affection', 'clueless', 'nondescript', 'lead', 'man', 'later', 'initially', 'find', 'kampfer', 'lot', 'potential', 'deliver', 'interesting', 'action', 'really', 'entertaining', 'comedy', 'unfortunately', 'take', 'long', 'thing', 'start', 'unravel', 'mainly', 'series', 'make', 'mistake', 'many', 'other', 'make', 'try', 'many', 'thing', 'instead', 'keep', 'thing', 'simple', 'also', 'bit', 'creepy', 'matter', 'fact', 'way', 'lead', 'accept', 'fate', 'become', 'girl', 'constantly', 'flip', 'flop', 'back', 'masculinity', 'femininity', 'element', 'always', 'tend', 'bother', 'bit', 'gender_bende', 'story', 'rare', 'actually', 'really', 'work', 'show', 'appear', 'action', 'fight', 'shocking', 'lack', 'real', 'fighting', 'little', 'girl', 'fight', 'even', 'explain', 'adequately', 'end', 'series', 'word', 'pathetic', 'additionally', 'even', 'ecchi', 'inadequate', 'even', 'suppose', 'uncensored', 'version', 'show', 'lack', 'arouse', 'comedy', 'time', 'pretty', 'good', 'good', 'enough', 'enough', 'time', 'really', 'pleasing', 'aspect', 'normally', 'scoff', 'mention', 'kind', 'serious', 'romance', 'drama', 'come', 'harem', 'anime', 'series', 'try', 'deliver', 'well', 'work', 'character', 'unintereste', 'lifeless', 'impact', 'really', 'lose', 'mediocre', 'nature', 'show', 'element', 'unlikely', 'appeal', 'fan', 'genre', 'action', 'romance', 'satisfy', 'fan', 'ecchi', 'service', 'pretty', 'tame', 'pedestrian', 'current', 'standard', 'combine', 'terrible', 'ending', 'fail', 'resolve', 'main', 'plot', 'subplot', 'almost', 'total', 'board', 'fail', 'character', 'really', 'bare', 'blunt', 'blame', 'kampfer', 'uninspired', 'nowhere', 'evident', 'harem', 'lead', 'man', 'woman', 'natsuru', 'new', 'watch', 'harem', 'typically', 'girl', 'always', 'shine', 'bright', 'sort', 'show', 'guy', 'typically', 'plain', 'indecisive', 'proxy', 'fantasy', 'intend', 'mostly', 'male', 'audience', 'difference', 'guy', 'fact', 'girl', 'hot', 'combined', 'stereotypical', 'guy', 'girl', 'body', 'humor', 'absolutely', 'interesting', 'maybe', 'memorable', 'thing', 'natsuru', 'though', 'doubt', 'clueless', 'colossally', 'stupid', 'man', 'history', 'universe', 'really', 'dude', 'buy', 'fucking', 'clue', 'want', 'reach', 'tv', 'slap', 'actually', 'almost', 'feel', 'sorry', 'girl', 'speak', 'girl', 'unfortunately', 'fair', 'much', 'well', 'meet', 'usual', 'harem', 'standard', 'combine', 'tomboyish', 'moe', 'oujosama', 'tsundere', 'meganekko', 'cool', 'aloof', 'student_council', 'president', 'exciting', 'description', 'perhaps', 'exception', 'akane', 'bespectacle', 'tsundere', 'affinity', 'character', 'type', 'voice', 'yue', 'horie', 'real', 'quality', 'support', 'cast', 'equally', 'cliche', 'unmemorable', 'much', 'doubt', 'even', 'remember', 'name', 'look', 'cast', 'list', 'first', 'good', 'thing', 'come', 'cast', 'clearly', 'talk', 'stuff', 'entrails_animal', 'serve', 'companion', 'kampfer', 'fact', 'voice', 'well', 'know', 'seiyuu', 'big', 'part', 'really', 'character', 'actually', 'funny', 'know', 'series', 'lot', 'trouble', 'highlight', 'show', 'preview', 'next', 'episode', 'summary', 'episode', 'start', 'coincidently', 'voice', 'character', 'feel', 'huge', 'opportunity', 'miss', 'make', 'character', 'involve', 'episode', 'dialogue', 'comedy', 'bit', 'feel', 'lot', 'untapped', 'potential', 'leave', 'behind', 'artistically', 'kampfer', 'solid', 'unspectacular', 'girl', 'cute', 'nice', 'figure', 'lead', 'man', 'least', 'somewhat', 'manly', 'least', 'appearance', 'think', 'breast', 'pretty', 'silly', 'look', 'though', 'bit', 'torpedoish', 'look', 'kind', 'peeve', 'go', 'show', 'girl', 'tit', 'time', 'even', 'look', 'natural', 'even', 'usually', 'obscure', 'usual', 'convenient', 'steam', 'light', 'beam', 'action', 'scene', 'also', 'spectacular', 'even', 'disappointing', 'consider', 'actually', 'voice_acte', 'good', 'real', 'bright', 'spot', 'anime', 'real', 'star', 'lineup', 'act', 'talent', 'display', 'unfortunately', 'little', 'work', 'musical', 'performance', 'fair', 'little', 'disappointed', 'actually', 'perform', 'op', 'ed', 'song', 'consider', 'talent', 'available', 'overall', 'recommend', 'anime', 'fail', 'action', 'harem', 'even', 'ecchi', 'comedy', 'moment', 'time', 'enough', 'thing', 'really', 'appeal', 'fan', 'genre', 'stay', 'clear', 'lot', 'well', 'helpful_read']\n"
     ]
    }
   ],
   "source": [
    "# Remove Stop Words\n",
    "data_words_nostops = remove_stopwords(data_words)\n",
    "\n",
    "# Form Bigrams\n",
    "data_words_bigrams = make_bigrams(data_words_nostops)\n",
    "\n",
    "# Initialize spacy 'en' model, keeping only tagger component (for efficiency)\n",
    "# python3 -m spacy download en\n",
    "nlp = spacy.load('en_core_web_sm', disable=['parser', 'ner'])\n",
    "\n",
    "# Do lemmatization keeping only noun, adj, vb, adv\n",
    "data_lemmatized = lemmatization(data_words_bigrams, allowed_postags=['NOUN', 'ADJ', 'VERB', 'ADV'])\n",
    "\n",
    "print(data_lemmatized[0])"
   ]
  },
  {
   "cell_type": "code",
   "execution_count": 20,
   "metadata": {},
   "outputs": [
    {
     "name": "stdout",
     "output_type": "stream",
     "text": [
      "[(0, 1), (1, 1), (2, 1), (3, 6), (4, 5), (5, 1), (6, 1), (7, 1), (8, 1), (9, 1), (10, 2), (11, 1), (12, 2), (13, 2), (14, 5), (15, 1), (16, 2), (17, 1), (18, 1), (19, 1), (20, 1), (21, 1), (22, 1), (23, 1), (24, 1), (25, 1), (26, 1), (27, 2), (28, 1), (29, 1), (30, 1), (31, 1), (32, 1), (33, 1), (34, 5), (35, 1), (36, 1), (37, 1), (38, 1), (39, 1), (40, 1), (41, 1), (42, 2), (43, 1), (44, 1), (45, 4), (46, 1), (47, 7), (48, 1), (49, 1), (50, 2), (51, 1), (52, 2), (53, 1), (54, 1), (55, 3), (56, 1), (57, 2), (58, 5), (59, 1), (60, 1), (61, 1), (62, 1), (63, 2), (64, 1), (65, 1), (66, 1), (67, 1), (68, 1), (69, 1), (70, 1), (71, 1), (72, 3), (73, 1), (74, 1), (75, 1), (76, 1), (77, 1), (78, 1), (79, 1), (80, 1), (81, 2), (82, 1), (83, 1), (84, 1), (85, 4), (86, 1), (87, 2), (88, 1), (89, 1), (90, 1), (91, 3), (92, 1), (93, 1), (94, 3), (95, 1), (96, 1), (97, 1), (98, 9), (99, 1), (100, 2), (101, 2), (102, 1), (103, 1), (104, 3), (105, 2), (106, 3), (107, 2), (108, 3), (109, 1), (110, 1), (111, 3), (112, 1), (113, 3), (114, 1), (115, 1), (116, 2), (117, 1), (118, 1), (119, 1), (120, 1), (121, 1), (122, 1), (123, 1), (124, 1), (125, 1), (126, 1), (127, 2), (128, 12), (129, 1), (130, 4), (131, 3), (132, 8), (133, 1), (134, 1), (135, 1), (136, 1), (137, 1), (138, 1), (139, 1), (140, 1), (141, 1), (142, 1), (143, 1), (144, 1), (145, 1), (146, 1), (147, 1), (148, 1), (149, 1), (150, 2), (151, 1), (152, 7), (153, 1), (154, 2), (155, 3), (156, 2), (157, 1), (158, 5), (159, 2), (160, 1), (161, 1), (162, 1), (163, 1), (164, 1), (165, 1), (166, 3), (167, 1), (168, 4), (169, 1), (170, 5), (171, 1), (172, 1), (173, 1), (174, 5), (175, 2), (176, 4), (177, 1), (178, 4), (179, 1), (180, 1), (181, 1), (182, 1), (183, 1), (184, 1), (185, 1), (186, 1), (187, 1), (188, 1), (189, 1), (190, 1), (191, 1), (192, 1), (193, 1), (194, 1), (195, 2), (196, 1), (197, 1), (198, 1), (199, 2), (200, 1), (201, 1), (202, 1), (203, 1), (204, 1), (205, 1), (206, 1), (207, 1), (208, 1), (209, 1), (210, 1), (211, 1), (212, 1), (213, 1), (214, 2), (215, 1), (216, 1), (217, 1), (218, 1), (219, 1), (220, 1), (221, 1), (222, 1), (223, 1), (224, 1), (225, 1), (226, 1), (227, 1), (228, 2), (229, 1), (230, 1), (231, 3), (232, 1), (233, 1), (234, 1), (235, 1), (236, 1), (237, 4), (238, 9), (239, 1), (240, 1), (241, 1), (242, 1), (243, 2), (244, 1), (245, 1), (246, 1), (247, 1), (248, 2), (249, 1), (250, 6), (251, 1), (252, 1), (253, 2), (254, 1), (255, 1), (256, 1), (257, 1), (258, 1), (259, 7), (260, 1), (261, 1), (262, 1), (263, 1), (264, 1), (265, 1), (266, 1), (267, 1), (268, 1), (269, 1), (270, 1), (271, 1), (272, 1), (273, 2), (274, 1), (275, 3), (276, 1), (277, 1), (278, 1), (279, 1), (280, 3), (281, 1), (282, 1), (283, 1), (284, 1), (285, 1), (286, 1), (287, 1), (288, 1), (289, 2), (290, 1), (291, 1), (292, 1), (293, 1), (294, 1), (295, 2), (296, 6), (297, 1), (298, 2), (299, 6), (300, 1), (301, 1), (302, 1), (303, 1), (304, 1), (305, 1), (306, 1), (307, 1), (308, 2), (309, 2), (310, 1), (311, 2), (312, 2), (313, 1), (314, 3), (315, 1), (316, 1), (317, 1), (318, 1), (319, 1), (320, 1), (321, 1), (322, 1), (323, 1), (324, 3), (325, 1), (326, 1), (327, 1), (328, 3), (329, 1), (330, 1), (331, 1), (332, 1), (333, 5), (334, 1), (335, 1), (336, 3), (337, 1)]\n"
     ]
    }
   ],
   "source": [
    "# Create Dictionary\n",
    "id2word = corpora.Dictionary(data_lemmatized)\n",
    "\n",
    "# Create Corpus\n",
    "texts = data_lemmatized\n",
    "\n",
    "# Term Document Frequency\n",
    "corpus = [id2word.doc2bow(text) for text in texts]\n",
    "\n",
    "# View\n",
    "print(corpus[0])"
   ]
  },
  {
   "cell_type": "code",
   "execution_count": 21,
   "metadata": {},
   "outputs": [
    {
     "name": "stdout",
     "output_type": "stream",
     "text": [
      "[(0, '0.023*\"character\" + 0.023*\"kampfer\" + 0.019*\"anime\" + 0.017*\"story\" + 0.015*\"girl\" + 0.010*\"natsuru\" + 0.009*\"really\" + 0.009*\"watch\" + 0.009*\"get\" + 0.009*\"overall\"'), (1, '0.026*\"character\" + 0.022*\"anime\" + 0.017*\"girl\" + 0.013*\"story\" + 0.010*\"kampfer\" + 0.009*\"really\" + 0.009*\"show\" + 0.009*\"plot\" + 0.009*\"get\" + 0.008*\"make\"'), (2, '0.020*\"kampfer\" + 0.016*\"character\" + 0.016*\"girl\" + 0.015*\"anime\" + 0.013*\"story\" + 0.013*\"natsuru\" + 0.013*\"show\" + 0.012*\"really\" + 0.009*\"get\" + 0.008*\"well\"'), (3, '0.012*\"service\" + 0.009*\"story\" + 0.009*\"anime\" + 0.008*\"well\" + 0.008*\"female\" + 0.007*\"know\" + 0.007*\"get\" + 0.007*\"kampfer\" + 0.006*\"episode\" + 0.006*\"overall\"'), (4, '0.005*\"switch\" + 0.005*\"bracelet\" + 0.004*\"unique\" + 0.004*\"normal\" + 0.004*\"sure\" + 0.004*\"point\" + 0.004*\"really\" + 0.003*\"want\" + 0.003*\"twelfth\" + 0.003*\"inclusion\"'), (5, '0.037*\"kampfer\" + 0.013*\"natsaru\" + 0.009*\"fight\" + 0.009*\"moderator\" + 0.009*\"force\" + 0.008*\"red\" + 0.007*\"blue\" + 0.007*\"struggle\" + 0.007*\"conflict\" + 0.006*\"lenin\"'), (6, '0.005*\"nonsense\" + 0.004*\"honest\" + 0.003*\"pay\" + 0.003*\"escalate\" + 0.003*\"campione\" + 0.003*\"model\" + 0.003*\"gist\" + 0.003*\"prop\" + 0.003*\"sexualish\" + 0.003*\"fat\"'), (7, '0.017*\"character\" + 0.016*\"show\" + 0.012*\"watch\" + 0.011*\"anime\" + 0.011*\"episode\" + 0.011*\"really\" + 0.011*\"story\" + 0.010*\"overall\" + 0.010*\"actually\" + 0.009*\"end\"')]\n"
     ]
    }
   ],
   "source": [
    "# Using LDA to develop a topic model with 8 models\n",
    "\n",
    "lda_model = gensim.models.ldamodel.LdaModel(corpus=corpus,\n",
    "                                           id2word=id2word,\n",
    "                                           num_topics=8, \n",
    "                                           random_state=100,\n",
    "                                           update_every=1,\n",
    "                                           chunksize=100,\n",
    "                                           passes=10,\n",
    "                                           alpha='auto',\n",
    "                                           per_word_topics=True)\n",
    "# Print the KeywordS in the 8 topics\n",
    "print(lda_model.print_topics())\n",
    "doc_lda = lda_model[corpus]"
   ]
  },
  {
   "cell_type": "code",
   "execution_count": 22,
   "metadata": {},
   "outputs": [
    {
     "data": {
      "text/html": [
       "\n",
       "<link rel=\"stylesheet\" type=\"text/css\" href=\"https://cdn.jsdelivr.net/gh/bmabey/pyLDAvis@3.3.1/pyLDAvis/js/ldavis.v1.0.0.css\">\n",
       "\n",
       "\n",
       "<div id=\"ldavis_el2032424307007260806298372359\"></div>\n",
       "<script type=\"text/javascript\">\n",
       "\n",
       "var ldavis_el2032424307007260806298372359_data = {\"mdsDat\": {\"x\": [-0.11959905367652318, -0.11226656642755951, -0.08922150851069481, 0.006299868566124823, -0.024332846744253935, 0.10574434595911127, 0.11325375717279788, 0.1201220036609974], \"y\": [-0.02122857720461281, -0.015779773684420857, -0.01765332858890451, 0.0807090768380757, 0.03334280886150626, -0.12559988214240758, 0.03704119010273986, 0.029168485818023775], \"topics\": [1, 2, 3, 4, 5, 6, 7, 8], \"cluster\": [1, 1, 1, 1, 1, 1, 1, 1], \"Freq\": [50.21593152979088, 29.893486815060204, 8.843753567566885, 3.7614934305187058, 3.5330640073671593, 3.024561565461654, 0.47209069620055494, 0.255618388033952]}, \"tinfo\": {\"Term\": [\"kampfer\", \"character\", \"show\", \"anime\", \"really\", \"story\", \"watch\", \"episode\", \"overall\", \"fight\", \"get\", \"girl\", \"good\", \"actually\", \"end\", \"female\", \"enjoyment\", \"make\", \"well\", \"see\", \"pretty\", \"moderator\", \"sound\", \"much\", \"want\", \"also\", \"know\", \"think\", \"red\", \"still\", \"standard\", \"helpful\", \"particularly\", \"generally\", \"realy\", \"loud\", \"straight\", \"personally\", \"hang\", \"nicely\", \"flat\", \"depend\", \"plush\", \"memorable\", \"fact\", \"save\", \"average\", \"depth\", \"fairly\", \"face\", \"assume\", \"department\", \"disappointing\", \"humor\", \"slight\", \"yet\", \"meet\", \"harakiri\", \"version\", \"cute\", \"mc\", \"especially\", \"fit\", \"lot\", \"look\", \"tsundere\", \"scene\", \"series\", \"mostly\", \"find\", \"fall\", \"character\", \"reason\", \"kampfer\", \"story\", \"anime\", \"still\", \"end\", \"even\", \"pretty\", \"kind\", \"good\", \"girl\", \"overall\", \"love\", \"episode\", \"see\", \"watch\", \"enjoyment\", \"get\", \"natsuru\", \"art\", \"know\", \"fight\", \"well\", \"really\", \"harem\", \"much\", \"show\", \"make\", \"plot\", \"female\", \"time\", \"director\", \"gun\", \"outta\", \"effort\", \"rip\", \"multiple\", \"romantic\", \"complain\", \"parody\", \"free\", \"hijink\", \"goofy\", \"author\", \"la\", \"user\", \"physical\", \"nonetheless\", \"benefit\", \"existant\", \"production\", \"history\", \"violent\", \"eventough\", \"chest\", \"antic\", \"confusion\", \"busy\", \"adapt\", \"spectacular\", \"clothing\", \"bare\", \"relationship\", \"producer\", \"horie\", \"seriously\", \"fine\", \"vs_blue\", \"performance\", \"sword\", \"magic\", \"s\", \"natsuru\", \"bad\", \"show\", \"typical\", \"generic\", \"really\", \"kampfer\", \"girl\", \"voice\", \"action\", \"decent\", \"say\", \"well\", \"thing\", \"main\", \"anime\", \"character\", \"story\", \"time\", \"ecchi\", \"go\", \"get\", \"watch\", \"first\", \"fanservice\", \"harem\", \"also\", \"think\", \"episode\", \"make\", \"good\", \"even\", \"overall\", \"fight\", \"female\", \"love\", \"end\", \"enjoyment\", \"waifu\", \"limitation\", \"alot\", \"ill\", \"akward\", \"ve\", \"hooked\", \"root\", \"sexualize\", \"core\", \"admittedly\", \"overboard\", \"troublesome\", \"babe\", \"dissapointe\", \"masterpiece\", \"tier\", \"recognize\", \"solid\", \"wierd\", \"pervert\", \"charachter\", \"complety\", \"request\", \"realise\", \"dutch\", \"echhiness\", \"mock\", \"srry\", \"bh\", \"excellent\", \"require\", \"hilarious\", \"earth\", \"negative\", \"be\", \"wish\", \"confused\", \"hot\", \"character\", \"anime\", \"girl\", \"far\", \"plot\", \"female\", \"make\", \"story\", \"twist\", \"enjoyment\", \"way\", \"go\", \"think\", \"level\", \"art\", \"get\", \"really\", \"overall\", \"show\", \"fight\", \"time\", \"kampfer\", \"natsuru\", \"good\", \"sound\", \"side\", \"watch\", \"great\", \"enjoy\", \"main\", \"thing\", \"much\", \"series\", \"chuckle\", \"factor\", \"ovas\", \"basis\", \"pro\", \"san\", \"campus\", \"ova\", \"chapter\", \"reverse\", \"dvd\", \"unbelievable\", \"item\", \"knock\", \"lgbt\", \"squick\", \"fundamentally\", \"incomplete\", \"victoria\", \"raw\", \"harassment\", \"belly\", \"verdict\", \"ray\", \"pretend\", \"natsura\", \"handling\", \"tune\", \"friendliness\", \"crude\", \"service\", \"crush\", \"order\", \"view\", \"image\", \"seiyuu\", \"marina\", \"inoue\", \"attach\", \"throw\", \"odd\", \"place\", \"manga\", \"disregard\", \"small\", \"problem\", \"later\", \"sex\", \"maybe\", \"know\", \"guy\", \"female\", \"well\", \"still\", \"real\", \"story\", \"form\", \"series\", \"get\", \"anime\", \"episode\", \"overall\", \"thing\", \"far\", \"kampfer\", \"enjoyment\", \"good\", \"character\", \"natsuru\", \"want\", \"forget\", \"hallow\", \"pokemon\", \"aloof\", \"silly\", \"wacky\", \"browse\", \"legendary\", \"coffin\", \"tremble\", \"wackiness\", \"importantly\", \"parent\", \"aimless\", \"insanely\", \"gunshot\", \"finished\", \"sing\", \"polar\", \"fuse\", \"badguy\", \"painfully\", \"ergo\", \"result\", \"forgive\", \"sparse\", \"definition\", \"afraid\", \"circlejerk\", \"inbetween\", \"disorder\", \"screentime\", \"trope\", \"m\", \"sad\", \"truly\", \"do\", \"dub\", \"storyline\", \"boring\", \"actually\", \"show\", \"half\", \"watch\", \"shenanigan\", \"episode\", \"character\", \"never\", \"sound\", \"end\", \"credit\", \"overall\", \"really\", \"see\", \"else\", \"think\", \"also\", \"story\", \"anime\", \"much\", \"pretty\", \"enjoyment\", \"enjoy\", \"good\", \"time\", \"get\", \"great\", \"way\", \"make\", \"even\", \"go\", \"well\", \"plot\", \"natsaru\", \"lenin\", \"communist\", \"oppression\", \"symbolism\", \"leader\", \"conflict\", \"infighting\", \"freedom\", \"capitalist\", \"perpetual\", \"tear\", \"corporation\", \"breaking\", \"wealth\", \"oversee\", \"nkvd\", \"inherently\", \"sister\", \"bracket\", \"trite\", \"similarity\", \"playing\", \"vitally\", \"lay\", \"creation\", \"police\", \"tooth\", \"inherent\", \"chain\", \"struggle\", \"rise\", \"respective\", \"refuse\", \"force\", \"human\", \"moderator\", \"red\", \"kampfer\", \"win\", \"blue\", \"nature\", \"uninspired\", \"field\", \"bear\", \"represent\", \"fight\", \"act\", \"people\", \"whole\", \"lead\", \"make\", \"power\", \"show\", \"far\", \"battle\", \"review\", \"however\", \"become\", \"male\", \"character\", \"anime\", \"story\", \"twelfth\", \"inclusion\", \"trip\", \"middle\", \"disturbingly\", \"reference\", \"twintail\", \"underachieving\", \"height\", \"pity\", \"inspire\", \"awesomeness\", \"mahou\", \"fortunately\", \"pile\", \"method\", \"nightmare\", \"amazed\", \"lightly\", \"shojou\", \"antagonist\", \"removal\", \"stumble\", \"heavy\", \"comprise\", \"game\", \"curiosity\", \"treat\", \"wrist\", \"achieve\", \"switch\", \"bracelet\", \"normal\", \"unique\", \"sure\", \"point\", \"really\", \"want\", \"escalate\", \"campione\", \"model\", \"gist\", \"sexualish\", \"fat\", \"heavily\", \"sincerely\", \"flak\", \"high_school\", \"option\", \"butt\", \"bicurious\", \"dxd\", \"bounce\", \"substance\", \"drummer\", \"prop\", \"shot\", \"omg\", \"nonsense\", \"page\", \"writing\", \"forgetful\", \"tit\", \"indecisive\", \"ball\", \"honest\", \"recognize\", \"mood\", \"pay\", \"interested\", \"break\"], \"Freq\": [328.0, 321.0, 158.0, 275.0, 153.0, 237.0, 133.0, 117.0, 122.0, 101.0, 135.0, 230.0, 118.0, 57.0, 93.0, 86.0, 104.0, 98.0, 115.0, 68.0, 68.0, 30.0, 60.0, 77.0, 39.0, 62.0, 63.0, 60.0, 25.0, 46.0, 10.730919835535314, 7.866324648109434, 6.877108960379546, 5.93066017483604, 5.930483364979824, 5.925183860888339, 5.917593974377569, 6.794118055483592, 6.701170695296773, 4.953970195646433, 4.954500625215084, 4.932077877162179, 4.928770718279772, 4.925681097811246, 21.299109437658903, 5.765077025749749, 10.6855549305294, 3.9941042253092824, 3.9929578362008846, 3.991395536644801, 3.9901494823599992, 3.9884364871405547, 3.984697365967146, 12.560095901096993, 3.982736166125695, 3.97886479692975, 4.8268678670016465, 3.970082761578147, 3.9674550508694937, 15.55902585068998, 14.938029386258393, 12.662914905342832, 7.901565871158306, 30.648555888272575, 44.74643658701491, 6.789950805295198, 27.384519444401814, 54.27226165029364, 14.197407877209834, 28.841430742990294, 22.679395465334732, 190.02739057909568, 40.207856950995016, 189.8045852439684, 141.6983205620924, 157.77849945347518, 32.35117826281919, 59.58923014730521, 57.29418263110884, 44.82355443389556, 29.828531899838108, 71.50235051409429, 124.35629620536193, 71.78344464431387, 49.16364703783076, 67.98334179941185, 43.22412768296331, 73.93544579943833, 60.093919267511275, 73.64093520316435, 82.38906906168623, 47.28201067335841, 39.984495790845486, 56.933877685304125, 62.09548350540583, 74.54634733148299, 47.747481546649475, 45.82146351246919, 69.25469378927805, 51.69002126173696, 45.40974666874404, 44.0156186813761, 41.56223003280579, 16.9861459217018, 6.514799068146073, 5.6072085617578695, 4.687726840788829, 4.689755204511827, 4.65342264919568, 4.642071685056603, 4.668964975526534, 5.619746707701913, 3.7765804938478356, 3.7761095574807046, 3.762406193450816, 3.7175577052208597, 9.277506333535129, 2.867245440626577, 2.864761258421038, 2.8614818184374484, 2.8606899835766635, 2.857333527954597, 2.8592155619644886, 2.8574393531467264, 2.855852260507891, 2.8603827767520724, 2.854239495989563, 2.852808146086314, 2.8560821664509, 2.845650255597648, 2.8463878942683936, 2.8456802061237223, 2.8460099471536457, 5.566888307827251, 5.610201332420462, 16.962865520405757, 6.345262546465082, 7.445755548761964, 7.7013795806462495, 4.672693958644345, 4.67718710804171, 4.774514337572947, 5.7237355047183, 8.131672798651355, 63.69923980780573, 33.855406064616496, 62.221046140804106, 15.655861073638217, 7.263834341927673, 57.68441656638626, 99.83247636962963, 75.96204628700076, 24.513244817336883, 21.344335396144515, 9.878572316840332, 26.912223766299544, 40.30759826451536, 29.717973075331614, 27.40397831624029, 72.47310779314002, 78.79863151670658, 63.95717259738569, 32.42622172702432, 23.55138452818815, 29.749908893420045, 41.805261484923946, 40.17286311316035, 23.148972682770328, 17.28776540434314, 28.409364421338914, 23.859657021021473, 22.354153038129724, 32.67201685198032, 28.56234600366463, 31.055811160828046, 26.53271808322339, 28.964782950475737, 26.908002168338587, 25.190338927487872, 24.24558866077766, 25.104868683364817, 25.265921504602915, 3.284233861453654, 2.4920086396865564, 2.3996918643007072, 1.7056626556875252, 1.7058785174674982, 1.7052349827004638, 1.7004055184049784, 1.7004652643550258, 1.7005194407673567, 1.6955817924210796, 1.6929448694732319, 1.6915470842803186, 1.6907783193016035, 1.6866695194318293, 1.6823553217620337, 1.687984267880609, 1.6879422431869315, 1.689563316210106, 4.06097880629919, 2.5071295970384844, 3.277595647591343, 0.904057826084621, 0.9040040716069655, 0.9039672789032641, 0.9039351274809929, 0.903859685561018, 0.9038193486060426, 0.9033965700612168, 0.9037741172088317, 0.9037964797466319, 2.4813836494626185, 2.385617136170087, 3.27774383104937, 1.6925006566468919, 3.20980762262955, 4.061117200872745, 3.1939401784497723, 1.7049688263071743, 5.851888299950307, 37.63878736553535, 32.00486714345796, 25.156293529342165, 6.474229119461606, 12.54049803990007, 11.193286274737076, 11.959875420717802, 18.552016716848915, 4.876266977427744, 11.943120901076306, 8.218586054045971, 10.23800929207495, 8.730890360766308, 3.277024854362361, 9.743023209722544, 12.36049193110124, 13.083972855158049, 11.730908687272349, 12.93562602402493, 10.121715994368307, 9.490538850109342, 14.838547359843712, 10.85665261363813, 9.392436675227252, 7.265229042931125, 5.990280848219622, 9.041871743787345, 6.0364425270030155, 6.154119095349736, 6.893356747927478, 6.935301105242565, 6.799475269991098, 6.3801255351120565, 1.33096699290718, 1.3296208955270397, 1.328693443620501, 1.3260806421890616, 1.322694581319756, 1.32044486438857, 1.31962508878697, 3.207492208016235, 1.9501934666011367, 0.7054427474899684, 0.7053793620384612, 0.7052694604232204, 0.7052650098026163, 0.7051209389066083, 0.7051752795485007, 0.7051642965653969, 0.7050263273266688, 0.7050141240121091, 0.7049850514097756, 0.7050754277217208, 0.7050503032505685, 0.7048949622346437, 0.7047892241031938, 0.7047859938140456, 0.70478412742476, 0.7047531166489377, 0.7048925215717317, 0.7047332324246257, 0.7048213834262689, 0.70480767264344, 7.513539426718198, 1.9371425241689397, 2.5814584383240535, 1.3300115451613572, 1.3227120966653594, 2.9317185470907487, 1.2816187987853664, 1.2759507180933933, 1.24646923293799, 2.4221905393422425, 1.3034170770939704, 2.5657793326409126, 3.4903880104555864, 1.3134670091233225, 1.8162686934549181, 2.5517136487109733, 2.491456265646397, 1.2458032190998425, 2.424083058077845, 4.511757774393122, 3.7625457574928243, 4.823575719475822, 5.196563568415352, 3.3066979769664253, 2.4906540053904003, 5.59632118244671, 3.109801947165955, 3.777709165459512, 4.410381538272181, 5.246370320027798, 3.913185195238881, 3.826230118422583, 3.333408017601113, 2.3848910366062563, 4.02317209011316, 3.078898847648548, 3.116507740300724, 3.732151177271541, 3.1769353954955104, 2.5061878198460774, 1.279540802680523, 1.2676966812792692, 1.267031602415632, 1.2400659717984774, 1.2353616041511035, 0.6791962143458001, 0.6791700534983659, 0.6791500283136032, 0.6790891436609405, 0.6791293288801952, 0.6790530039335572, 0.6790098520202635, 0.6789386513633292, 0.6787543792085927, 0.6789768138366482, 0.6789521363362334, 0.6788437171540833, 0.678796587173783, 0.6776726146822144, 0.6776042458695899, 0.6776155732468294, 0.6775597454590059, 0.6774239517818602, 0.6773721694859078, 0.6774124895548915, 0.6773215334126524, 0.6772835732139271, 0.6773562572178808, 0.6772110240597022, 0.6773220728115686, 1.279941306375779, 1.2800077872921969, 1.278860620647233, 2.2538531543156712, 1.8861012218505917, 1.8856040308996123, 3.9360289522196963, 1.2841726211736721, 1.2835895309452927, 1.777270882876636, 5.540773631158377, 9.416225388097637, 1.8818889208644936, 7.199964157897392, 1.1993459385184542, 6.296314008228575, 9.741773131164852, 2.9294296648096503, 4.190750111500877, 5.090406821293833, 1.270525424045392, 5.683066525845022, 6.2696779503492, 4.23286583947649, 1.761303326460723, 3.705888471247825, 3.7211882518055197, 6.183535943436902, 6.34010510923781, 3.9648811305461544, 3.540840763583104, 3.8342756618756155, 2.852833939915724, 3.585498948350082, 3.202408128905885, 3.410450515080117, 2.510373613531466, 2.4758523525960645, 2.7673826333155813, 2.6481120934694324, 2.3832016886618055, 2.4406061395173313, 2.3212884022660174, 6.393249740709213, 2.945392628630423, 2.3695315251591063, 1.7960367363272165, 1.7961555253682921, 1.7956629375759985, 3.5190294101936272, 1.221591173401741, 1.2216119528258358, 1.2213793387172183, 1.2213296989818805, 1.2213213872122426, 1.221368025475211, 1.2214181269755287, 0.6470586254981796, 0.6470035023037056, 0.6470205876079614, 0.6469719291232059, 0.646959230586259, 0.6470092166453317, 0.647012449000191, 0.647042406003261, 0.6470186828274194, 0.6469274265232694, 0.6469123614408007, 0.6469398941777263, 0.6470239354040656, 0.6469443963862802, 0.6469940938422405, 0.6468959687840147, 3.522138473803201, 1.7966324131512696, 1.221793426462931, 1.222089417815038, 4.671971369330629, 2.371766929426735, 4.675994265835398, 4.101166592389067, 18.567861676690583, 1.2218883191662977, 3.5272483650706214, 1.7988629688866098, 1.221818130889355, 1.2227570145347086, 1.2222753936606874, 1.2220531692641172, 4.702010104802185, 1.8009409112960977, 2.380594259664729, 1.804091418312616, 1.802833455066161, 2.416065429242156, 1.8037559460547288, 2.4422389609495747, 1.8062585968044669, 1.8018634022846651, 1.8056598030667994, 1.8061430401182503, 1.8081446758648119, 1.820421159620066, 1.9243657264461398, 1.900899638257039, 1.849164875205531, 0.19433764185929508, 0.1943156590169671, 0.19426769317575637, 0.1942175831064825, 0.19420050135687025, 0.19421902460434007, 0.1942110062725073, 0.19419675346244056, 0.19417502288223767, 0.19417965369410511, 0.19417159932482592, 0.19417331110353178, 0.1941491119582478, 0.1941348050920114, 0.194114101579032, 0.19411720079942577, 0.19406941514544723, 0.19406319868593644, 0.19404449525123443, 0.19403366599857944, 0.19402696303354172, 0.19402791802587235, 0.19400816950522362, 0.1938722362572545, 0.1933652254232997, 0.193173956676323, 0.19292196483209606, 0.1900893494670726, 0.1900598347984388, 0.1892787772030362, 0.357336111246457, 0.34844801564389527, 0.31839112759096594, 0.3236890646669033, 0.3151431806557293, 0.3029224140813521, 0.2855539325265199, 0.2515496827778596, 0.11391830877529278, 0.11388884437490714, 0.11387350727642824, 0.11384587708374871, 0.11382653985144263, 0.11380816850510946, 0.11362409405409087, 0.11360285431911088, 0.11353077385882969, 0.11352882257403593, 0.11352245162918434, 0.1134693376570984, 0.1134624691346244, 0.11338964718612159, 0.1133855787573266, 0.11327019928747206, 0.1131858062201423, 0.11382771062231888, 0.11365414383991465, 0.11370020391747117, 0.18924937536870354, 0.10473937729766811, 0.10441504449567464, 0.10276506734334993, 0.09663183776174879, 0.09545279343797214, 0.11225631170863856, 0.18595225042700508, 0.1118431564228335, 0.0920173126479727, 0.1222146351150076, 0.11255297529225664, 0.10308623906397753], \"Total\": [328.0, 321.0, 158.0, 275.0, 153.0, 237.0, 133.0, 117.0, 122.0, 101.0, 135.0, 230.0, 118.0, 57.0, 93.0, 86.0, 104.0, 98.0, 115.0, 68.0, 68.0, 30.0, 60.0, 77.0, 39.0, 62.0, 63.0, 60.0, 25.0, 46.0, 11.270081616546124, 8.365890747789159, 7.38899858993734, 6.424213002381003, 6.426012353261389, 6.422453662068141, 6.4194319936848165, 7.378323371200062, 7.329851745615832, 5.445138475944161, 5.45249251696745, 5.448232245667251, 5.446472946384708, 5.445861530365014, 23.572775123799794, 6.3838447295347205, 11.852960996394946, 4.4819913785872005, 4.482002139063678, 4.481546877885068, 4.480509127148729, 4.481104730451392, 4.481220347192253, 14.12760601308749, 4.480485217239066, 4.477388905198529, 5.4403456735818, 4.476782435904471, 4.477268965014811, 17.55936289626, 16.926519658610346, 15.047507332721326, 9.172535449205645, 38.231893223729905, 60.20398716256138, 7.9805301923125125, 36.417202437639496, 78.24719065237859, 17.941827508654875, 39.22760831798368, 30.15367904584332, 321.97696730292523, 57.43926555597218, 328.9037258626497, 237.9030219883631, 275.9286931549517, 46.125346559979604, 93.99962418071544, 90.15521558475425, 68.09788812638486, 42.462633077462755, 118.9250776722279, 230.3605557589113, 122.74792566526325, 78.82739020059628, 117.42435182130511, 68.91958044692878, 133.15885756936444, 104.97483457572987, 135.83472639762653, 160.88081853709272, 78.48307686681007, 63.158351838196495, 101.22534233344435, 115.13298373263724, 153.2831088101465, 82.0207351619046, 77.79296270528023, 158.76984203678933, 98.99828112783811, 83.45138917825469, 86.08127677129346, 87.6537068151759, 18.01256690724115, 7.035909212812699, 6.1152862771049845, 5.196195899174672, 5.19870519150512, 5.175254719946724, 5.164177408582458, 5.197427367742522, 6.299386180260044, 4.273504787516949, 4.274537726009663, 4.278218279740461, 4.278592665362241, 10.760236369903614, 3.3594226445818816, 3.3573920455844917, 3.355517914522281, 3.355611272849696, 3.353939956935724, 3.3568403745021347, 3.3551475825731614, 3.353666845768285, 3.359404202271439, 3.3522014615859237, 3.3522948202550857, 3.358253570671655, 3.34931445229719, 3.351592756509625, 3.3522113110174145, 3.3557327957235477, 6.702297221863796, 6.918829552628007, 22.957466173073986, 7.993379323230644, 10.146746569691873, 10.562784412168595, 5.984478780492018, 5.996614147884303, 6.161909475808489, 7.68650889252614, 11.737727874527588, 160.88081853709272, 73.50594876185241, 158.76984203678933, 28.333787538672194, 10.861184188485574, 153.2831088101465, 328.9037258626497, 230.3605557589113, 54.28541813701304, 46.473522200410606, 16.178106220592294, 64.25818388706976, 115.13298373263724, 75.79117228282495, 68.36404602410038, 275.9286931549517, 321.97696730292523, 237.9030219883631, 87.6537068151759, 56.021041841398365, 80.64771483283347, 135.83472639762653, 133.15885756936444, 58.745522467753055, 37.43162439768266, 82.0207351619046, 62.978579907240565, 60.840221979374974, 117.42435182130511, 98.99828112783811, 118.9250776722279, 90.15521558475425, 122.74792566526325, 101.22534233344435, 86.08127677129346, 78.82739020059628, 93.99962418071544, 104.97483457572987, 3.8191393845758697, 3.0125115457838385, 3.0274996179923286, 2.205992844801514, 2.2064622631934685, 2.205880725581058, 2.2051841809685504, 2.207140754424045, 2.2074451295153867, 2.2076583090908497, 2.2081895836499625, 2.20749102255434, 2.2076158144595857, 2.202394114410673, 2.2015089823101475, 2.209036747493335, 2.2094069989737415, 2.336001302495104, 5.814927003651406, 3.6116884075835904, 4.786591106886651, 1.4025160782334174, 1.4025115859713517, 1.4025178465960642, 1.402548070686343, 1.402546280700511, 1.4025169549161727, 1.4018990203868653, 1.402525546759122, 1.4025706819819923, 3.9837059545800306, 4.003946212763166, 5.657434090141335, 2.787040595381591, 5.720121476754783, 7.434629916463347, 5.722395689376451, 3.125546330947499, 15.168143320231824, 321.97696730292523, 275.9286931549517, 230.3605557589113, 24.732263712376895, 83.45138917825469, 86.08127677129346, 98.99828112783811, 237.9030219883631, 17.520740576887757, 104.97483457572987, 51.520426448647136, 80.64771483283347, 60.840221979374974, 8.406612880077546, 78.48307686681007, 135.83472639762653, 153.2831088101465, 122.74792566526325, 158.76984203678933, 101.22534233344435, 87.6537068151759, 328.9037258626497, 160.88081853709272, 118.9250776722279, 60.6373287624509, 35.434481017694885, 133.15885756936444, 37.5201751245418, 40.64778952794806, 68.36404602410038, 75.79117228282495, 77.79296270528023, 78.24719065237859, 1.8589209296839406, 1.8581623307227426, 1.8586052665502248, 1.860298284019895, 1.8591433982241623, 1.862121504415411, 1.8652365641857753, 4.559503334961012, 3.164077176428866, 1.228279996078182, 1.2283407028050837, 1.2283031867581964, 1.2285946717440965, 1.2283919632967883, 1.2286070378334932, 1.2286242683476325, 1.2284316731742426, 1.2284255336950025, 1.2284306361545603, 1.2286744595474264, 1.2286995683858775, 1.228478614023839, 1.2284634872012832, 1.2285131158110467, 1.2285134156402155, 1.2284902808274554, 1.22875930787921, 1.2285043747537787, 1.22879120642633, 1.2288198248659568, 13.667572204988264, 4.2235296616214155, 6.686220142384574, 2.829842059529982, 2.830785106335747, 8.469280699210028, 2.797442848659259, 2.8003860758649686, 2.8163339307324264, 8.865986640340994, 3.403036743650651, 11.376210927757015, 21.52032615455732, 3.7583597859192195, 7.364323650861941, 14.919601059867661, 15.327719023451271, 3.844865867088138, 16.10914159003892, 63.158351838196495, 45.01777073116708, 86.08127677129346, 115.13298373263724, 46.125346559979604, 21.39152915364678, 237.9030219883631, 41.15262203209934, 78.24719065237859, 135.83472639762653, 275.9286931549517, 117.42435182130511, 122.74792566526325, 75.79117228282495, 24.732263712376895, 328.9037258626497, 104.97483457572987, 118.9250776722279, 321.97696730292523, 160.88081853709272, 39.97676413070014, 1.8086752641001744, 1.8146206462351886, 1.8150377689073378, 1.8140010235030628, 1.8205336238012202, 1.2023044814318566, 1.202383871481098, 1.202392751295476, 1.2022960121427242, 1.2023676985402032, 1.202283645525781, 1.2022399199645055, 1.2022754239402687, 1.2021458725633045, 1.2029743840570708, 1.2029909956114582, 1.2030482573047148, 1.2030862509890665, 1.2026484489361249, 1.202605637868351, 1.2027594998946807, 1.2026985608730396, 1.2026062325995461, 1.20266996428888, 1.2027868918367635, 1.2026444989255283, 1.2026506923476756, 1.2027913443981229, 1.202613157974397, 1.202815390455656, 2.7264118591398203, 2.7768323532437265, 2.7772527318596048, 6.991952271888083, 6.53733246488038, 6.77174143210924, 24.883592304177366, 3.64621619817559, 3.7028759276396612, 6.887307348394725, 57.06301527543803, 158.76984203678933, 8.887397183534425, 133.15885756936444, 3.798439533703216, 117.42435182130511, 321.97696730292523, 27.051850249455267, 60.6373287624509, 93.99962418071544, 4.6485555885236955, 122.74792566526325, 153.2831088101465, 68.91958044692878, 10.088715420530725, 60.840221979374974, 62.978579907240565, 237.9030219883631, 275.9286931549517, 77.79296270528023, 68.09788812638486, 104.97483457572987, 40.64778952794806, 118.9250776722279, 87.6537068151759, 135.83472639762653, 37.5201751245418, 51.520426448647136, 98.99828112783811, 90.15521558475425, 80.64771483283347, 115.13298373263724, 83.45138917825469, 6.974279412357491, 3.496172599715618, 2.917711041483097, 2.3375170714270803, 2.337746003599436, 2.3379008909342196, 5.045625321575128, 1.7576418743413298, 1.757690358321828, 1.7574099477053817, 1.7576807878622325, 1.7577212513476053, 1.7578149016984828, 1.7579211636263687, 1.1777871015694383, 1.1777119139332561, 1.1777430452014561, 1.177747182776139, 1.177743352358734, 1.177857410147431, 1.177868859288898, 1.1779273536906072, 1.1778913843286716, 1.1777600960441488, 1.1777689228111872, 1.1778441500081795, 1.178004131571055, 1.1778652126957678, 1.1779621824392856, 1.177803925248573, 6.768807298758677, 4.175137489971837, 2.676538463338061, 2.7258990562758036, 16.387349449273543, 6.696565926688734, 30.23410154817437, 25.314289839996547, 328.9037258626497, 3.479652123536357, 22.215467202324056, 7.015208706283077, 3.59511138672026, 3.6977342792955485, 3.6965419369865518, 3.698668029444619, 101.22534233344435, 11.839619708797306, 29.591476622256256, 16.532898633196112, 20.35218720261112, 98.99828112783811, 22.082482392878433, 158.76984203678933, 24.732263712376895, 26.148584856378474, 33.90553059257529, 34.655599418096195, 37.94578100286178, 56.269722882027445, 321.97696730292523, 275.9286931549517, 237.9030219883631, 0.775101357207308, 0.7753133109732445, 0.7753880184875095, 0.7756518873494985, 0.7756094664010844, 0.7757281696598666, 0.7757725811223826, 0.7757610427341926, 0.7756998625160993, 0.7758692082006182, 0.7758654747885523, 0.7758906058980315, 0.7758938903623777, 0.7759155895470636, 0.7760173646692802, 0.7760905493191442, 0.7762269298545481, 0.7762986758549162, 0.7762787178215518, 0.7764257650472104, 0.7764196954500661, 0.776424281810796, 0.7764528186137785, 1.696433942736894, 1.699006443293545, 1.6996750374140002, 1.7009182826700862, 1.7558839591481137, 1.7614222159615152, 1.7681058748150242, 3.853655009944778, 9.328713449050131, 12.675569223229573, 16.23155687239992, 25.008216529101503, 25.145273036012487, 153.2831088101465, 39.97676413070014, 0.707290458292276, 0.7075780067793594, 0.7077566615621527, 0.7077982323903462, 0.7080741494016873, 0.7082308345727573, 0.7097167441769513, 0.7098871227953022, 0.7102777217956083, 0.7104646373143744, 0.7104545488149014, 0.710986667802046, 0.7110088803524617, 0.7115583970261056, 0.7115629320101488, 0.7124767484314061, 0.7132548167885382, 1.5109232255936496, 1.5123605910051001, 1.5135201249089683, 2.9168551470417876, 1.7561016608631046, 1.755937268028776, 1.7714184931956414, 1.7603323327731615, 1.7701898834280825, 2.1297588015588875, 3.746162301981754, 2.336001302495104, 2.834191542712721, 5.295154511513243, 9.389417239353625, 3.95835992304823], \"Category\": [\"Default\", \"Default\", \"Default\", \"Default\", \"Default\", \"Default\", \"Default\", \"Default\", \"Default\", \"Default\", \"Default\", \"Default\", \"Default\", \"Default\", \"Default\", \"Default\", \"Default\", \"Default\", \"Default\", \"Default\", \"Default\", \"Default\", \"Default\", \"Default\", \"Default\", \"Default\", \"Default\", \"Default\", \"Default\", \"Default\", \"Topic1\", \"Topic1\", \"Topic1\", \"Topic1\", \"Topic1\", \"Topic1\", \"Topic1\", \"Topic1\", \"Topic1\", \"Topic1\", \"Topic1\", \"Topic1\", \"Topic1\", \"Topic1\", \"Topic1\", \"Topic1\", \"Topic1\", \"Topic1\", \"Topic1\", \"Topic1\", \"Topic1\", \"Topic1\", \"Topic1\", \"Topic1\", \"Topic1\", \"Topic1\", \"Topic1\", \"Topic1\", \"Topic1\", \"Topic1\", \"Topic1\", \"Topic1\", \"Topic1\", \"Topic1\", \"Topic1\", \"Topic1\", \"Topic1\", \"Topic1\", \"Topic1\", \"Topic1\", \"Topic1\", \"Topic1\", \"Topic1\", \"Topic1\", \"Topic1\", \"Topic1\", \"Topic1\", \"Topic1\", \"Topic1\", \"Topic1\", \"Topic1\", \"Topic1\", \"Topic1\", \"Topic1\", \"Topic1\", \"Topic1\", \"Topic1\", \"Topic1\", \"Topic1\", \"Topic1\", \"Topic1\", \"Topic1\", \"Topic1\", \"Topic1\", \"Topic1\", \"Topic1\", \"Topic1\", \"Topic1\", \"Topic1\", \"Topic1\", \"Topic1\", \"Topic1\", \"Topic1\", \"Topic2\", \"Topic2\", \"Topic2\", \"Topic2\", \"Topic2\", \"Topic2\", \"Topic2\", \"Topic2\", \"Topic2\", \"Topic2\", \"Topic2\", \"Topic2\", \"Topic2\", \"Topic2\", \"Topic2\", \"Topic2\", \"Topic2\", \"Topic2\", \"Topic2\", \"Topic2\", \"Topic2\", \"Topic2\", \"Topic2\", \"Topic2\", \"Topic2\", \"Topic2\", \"Topic2\", \"Topic2\", \"Topic2\", \"Topic2\", \"Topic2\", \"Topic2\", \"Topic2\", \"Topic2\", \"Topic2\", \"Topic2\", \"Topic2\", \"Topic2\", \"Topic2\", \"Topic2\", \"Topic2\", \"Topic2\", \"Topic2\", \"Topic2\", \"Topic2\", \"Topic2\", \"Topic2\", \"Topic2\", \"Topic2\", \"Topic2\", \"Topic2\", \"Topic2\", \"Topic2\", \"Topic2\", \"Topic2\", \"Topic2\", \"Topic2\", \"Topic2\", \"Topic2\", \"Topic2\", \"Topic2\", \"Topic2\", \"Topic2\", \"Topic2\", \"Topic2\", \"Topic2\", \"Topic2\", \"Topic2\", \"Topic2\", \"Topic2\", \"Topic2\", \"Topic2\", \"Topic2\", \"Topic2\", \"Topic2\", \"Topic2\", \"Topic2\", \"Topic2\", \"Topic2\", \"Topic3\", \"Topic3\", \"Topic3\", \"Topic3\", \"Topic3\", \"Topic3\", \"Topic3\", \"Topic3\", \"Topic3\", \"Topic3\", \"Topic3\", \"Topic3\", \"Topic3\", \"Topic3\", \"Topic3\", \"Topic3\", \"Topic3\", \"Topic3\", \"Topic3\", \"Topic3\", \"Topic3\", \"Topic3\", \"Topic3\", \"Topic3\", \"Topic3\", \"Topic3\", \"Topic3\", \"Topic3\", \"Topic3\", \"Topic3\", \"Topic3\", \"Topic3\", \"Topic3\", \"Topic3\", \"Topic3\", \"Topic3\", \"Topic3\", \"Topic3\", \"Topic3\", \"Topic3\", \"Topic3\", \"Topic3\", \"Topic3\", \"Topic3\", \"Topic3\", \"Topic3\", \"Topic3\", \"Topic3\", \"Topic3\", \"Topic3\", \"Topic3\", \"Topic3\", \"Topic3\", \"Topic3\", \"Topic3\", \"Topic3\", \"Topic3\", \"Topic3\", \"Topic3\", \"Topic3\", \"Topic3\", \"Topic3\", \"Topic3\", \"Topic3\", \"Topic3\", \"Topic3\", \"Topic3\", \"Topic3\", \"Topic3\", \"Topic3\", \"Topic3\", \"Topic3\", \"Topic4\", \"Topic4\", \"Topic4\", \"Topic4\", \"Topic4\", \"Topic4\", \"Topic4\", \"Topic4\", \"Topic4\", \"Topic4\", \"Topic4\", \"Topic4\", \"Topic4\", \"Topic4\", \"Topic4\", \"Topic4\", \"Topic4\", \"Topic4\", \"Topic4\", \"Topic4\", \"Topic4\", \"Topic4\", \"Topic4\", \"Topic4\", \"Topic4\", \"Topic4\", \"Topic4\", \"Topic4\", \"Topic4\", \"Topic4\", \"Topic4\", \"Topic4\", \"Topic4\", \"Topic4\", \"Topic4\", \"Topic4\", \"Topic4\", \"Topic4\", \"Topic4\", \"Topic4\", \"Topic4\", \"Topic4\", \"Topic4\", \"Topic4\", \"Topic4\", \"Topic4\", \"Topic4\", \"Topic4\", \"Topic4\", \"Topic4\", \"Topic4\", \"Topic4\", \"Topic4\", \"Topic4\", \"Topic4\", \"Topic4\", \"Topic4\", \"Topic4\", \"Topic4\", \"Topic4\", \"Topic4\", \"Topic4\", \"Topic4\", \"Topic4\", \"Topic4\", \"Topic4\", \"Topic4\", \"Topic4\", \"Topic4\", \"Topic4\", \"Topic5\", \"Topic5\", \"Topic5\", \"Topic5\", \"Topic5\", \"Topic5\", \"Topic5\", \"Topic5\", \"Topic5\", \"Topic5\", \"Topic5\", \"Topic5\", \"Topic5\", \"Topic5\", \"Topic5\", \"Topic5\", \"Topic5\", \"Topic5\", \"Topic5\", \"Topic5\", \"Topic5\", \"Topic5\", \"Topic5\", \"Topic5\", \"Topic5\", \"Topic5\", \"Topic5\", \"Topic5\", \"Topic5\", \"Topic5\", \"Topic5\", \"Topic5\", \"Topic5\", \"Topic5\", \"Topic5\", \"Topic5\", \"Topic5\", \"Topic5\", \"Topic5\", \"Topic5\", \"Topic5\", \"Topic5\", \"Topic5\", \"Topic5\", \"Topic5\", \"Topic5\", \"Topic5\", \"Topic5\", \"Topic5\", \"Topic5\", \"Topic5\", \"Topic5\", \"Topic5\", \"Topic5\", \"Topic5\", \"Topic5\", \"Topic5\", \"Topic5\", \"Topic5\", \"Topic5\", \"Topic5\", \"Topic5\", \"Topic5\", \"Topic5\", \"Topic5\", \"Topic5\", \"Topic5\", \"Topic5\", \"Topic5\", \"Topic5\", \"Topic5\", \"Topic5\", \"Topic5\", \"Topic6\", \"Topic6\", \"Topic6\", \"Topic6\", \"Topic6\", \"Topic6\", \"Topic6\", \"Topic6\", \"Topic6\", \"Topic6\", \"Topic6\", \"Topic6\", \"Topic6\", \"Topic6\", \"Topic6\", \"Topic6\", \"Topic6\", \"Topic6\", \"Topic6\", \"Topic6\", \"Topic6\", \"Topic6\", \"Topic6\", \"Topic6\", \"Topic6\", \"Topic6\", \"Topic6\", \"Topic6\", \"Topic6\", \"Topic6\", \"Topic6\", \"Topic6\", \"Topic6\", \"Topic6\", \"Topic6\", \"Topic6\", \"Topic6\", \"Topic6\", \"Topic6\", \"Topic6\", \"Topic6\", \"Topic6\", \"Topic6\", \"Topic6\", \"Topic6\", \"Topic6\", \"Topic6\", \"Topic6\", \"Topic6\", \"Topic6\", \"Topic6\", \"Topic6\", \"Topic6\", \"Topic6\", \"Topic6\", \"Topic6\", \"Topic6\", \"Topic6\", \"Topic6\", \"Topic6\", \"Topic6\", \"Topic6\", \"Topic6\", \"Topic7\", \"Topic7\", \"Topic7\", \"Topic7\", \"Topic7\", \"Topic7\", \"Topic7\", \"Topic7\", \"Topic7\", \"Topic7\", \"Topic7\", \"Topic7\", \"Topic7\", \"Topic7\", \"Topic7\", \"Topic7\", \"Topic7\", \"Topic7\", \"Topic7\", \"Topic7\", \"Topic7\", \"Topic7\", \"Topic7\", \"Topic7\", \"Topic7\", \"Topic7\", \"Topic7\", \"Topic7\", \"Topic7\", \"Topic7\", \"Topic7\", \"Topic7\", \"Topic7\", \"Topic7\", \"Topic7\", \"Topic7\", \"Topic7\", \"Topic7\", \"Topic8\", \"Topic8\", \"Topic8\", \"Topic8\", \"Topic8\", \"Topic8\", \"Topic8\", \"Topic8\", \"Topic8\", \"Topic8\", \"Topic8\", \"Topic8\", \"Topic8\", \"Topic8\", \"Topic8\", \"Topic8\", \"Topic8\", \"Topic8\", \"Topic8\", \"Topic8\", \"Topic8\", \"Topic8\", \"Topic8\", \"Topic8\", \"Topic8\", \"Topic8\", \"Topic8\", \"Topic8\", \"Topic8\", \"Topic8\", \"Topic8\", \"Topic8\", \"Topic8\"], \"logprob\": [30.0, 29.0, 28.0, 27.0, 26.0, 25.0, 24.0, 23.0, 22.0, 21.0, 20.0, 19.0, 18.0, 17.0, 16.0, 15.0, 14.0, 13.0, 12.0, 11.0, 10.0, 9.0, 8.0, 7.0, 6.0, 5.0, 4.0, 3.0, 2.0, 1.0, -6.6426, -6.9532, -7.0876, -7.2356, -7.2357, -7.2366, -7.2378, -7.0997, -7.1135, -7.4156, -7.4155, -7.42, -7.4207, -7.4213, -5.9571, -7.264, -6.6469, -7.631, -7.6312, -7.6316, -7.6319, -7.6324, -7.6333, -6.4852, -7.6338, -7.6348, -7.4416, -7.637, -7.6376, -6.2711, -6.3119, -6.4771, -6.9487, -5.5932, -5.2148, -7.1003, -5.7058, -5.0218, -6.3627, -5.654, -5.8943, -3.7686, -5.3217, -3.7698, -4.0621, -3.9546, -5.5391, -4.9283, -4.9676, -5.213, -5.6203, -4.746, -4.1926, -4.7421, -5.1206, -4.7965, -5.2494, -4.7126, -4.9199, -4.7166, -4.6043, -5.1596, -5.3273, -4.9739, -4.8871, -4.7044, -5.1498, -5.191, -4.778, -5.0705, -5.2, -5.2312, -5.2886, -5.6647, -6.623, -6.773, -6.9521, -6.9517, -6.9595, -6.9619, -6.9561, -6.7708, -7.1683, -7.1684, -7.172, -7.184, -6.2695, -7.4437, -7.4446, -7.4457, -7.446, -7.4472, -7.4465, -7.4472, -7.4477, -7.4461, -7.4483, -7.4488, -7.4476, -7.4513, -7.451, -7.4513, -7.4512, -6.7802, -6.7725, -5.6661, -6.6494, -6.4894, -6.4557, -6.9553, -6.9544, -6.9338, -6.7525, -6.4013, -4.3429, -4.975, -4.3664, -5.7462, -6.5142, -4.4421, -3.8936, -4.1668, -5.2979, -5.4363, -6.2067, -5.2045, -4.8005, -5.1053, -5.1864, -4.2139, -4.1302, -4.3389, -5.0181, -5.3379, -5.1043, -4.7641, -4.8039, -5.3551, -5.6471, -5.1504, -5.3249, -5.3901, -5.0106, -5.145, -5.0613, -5.2187, -5.131, -5.2047, -5.2706, -5.3088, -5.274, -5.2676, -6.09, -6.3661, -6.4038, -6.7452, -6.7451, -6.7454, -6.7483, -6.7482, -6.7482, -6.7511, -6.7527, -6.7535, -6.754, -6.7564, -6.759, -6.7556, -6.7556, -6.7547, -5.8777, -6.36, -6.092, -7.38, -7.3801, -7.3801, -7.3801, -7.3802, -7.3803, -7.3807, -7.3803, -7.3803, -6.3703, -6.4097, -6.092, -6.7529, -6.1129, -5.8777, -6.1179, -6.7456, -5.5124, -3.6511, -3.8133, -4.054, -5.4113, -4.7502, -4.8638, -4.7976, -4.3586, -5.6948, -4.799, -5.1728, -4.953, -5.1123, -6.0922, -5.0026, -4.7646, -4.7078, -4.8169, -4.7192, -4.9645, -5.0289, -4.5819, -4.8944, -5.0392, -5.2961, -5.489, -5.0773, -5.4813, -5.462, -5.3486, -5.3425, -5.3623, -5.426, -6.1383, -6.1394, -6.1401, -6.142, -6.1446, -6.1463, -6.1469, -5.2588, -5.7563, -6.7732, -6.7733, -6.7734, -6.7734, -6.7736, -6.7736, -6.7736, -6.7738, -6.7738, -6.7738, -6.7737, -6.7737, -6.774, -6.7741, -6.7741, -6.7741, -6.7742, -6.774, -6.7742, -6.7741, -6.7741, -4.4075, -5.763, -5.4759, -6.1391, -6.1446, -5.3487, -6.1761, -6.1806, -6.2039, -5.5396, -6.1593, -5.482, -5.1742, -6.1516, -5.8275, -5.4875, -5.5114, -6.2045, -5.5388, -4.9176, -5.0992, -4.8507, -4.7763, -5.2283, -5.5117, -4.7021, -5.2897, -5.0951, -4.9403, -4.7667, -5.0599, -5.0824, -5.2203, -5.5551, -5.0322, -5.2997, -5.2875, -5.1073, -5.2683, -5.5055, -6.1151, -6.1244, -6.1249, -6.1464, -6.1502, -6.7485, -6.7485, -6.7485, -6.7486, -6.7485, -6.7487, -6.7487, -6.7488, -6.7491, -6.7488, -6.7488, -6.749, -6.749, -6.7507, -6.7508, -6.7508, -6.7509, -6.7511, -6.7511, -6.7511, -6.7512, -6.7513, -6.7512, -6.7514, -6.7512, -6.1148, -6.1147, -6.1156, -5.549, -5.7271, -5.7274, -4.9914, -6.1115, -6.1119, -5.7865, -4.6495, -4.1192, -5.7293, -4.3875, -6.1798, -4.5216, -4.0852, -5.2868, -4.9287, -4.7342, -6.1222, -4.6241, -4.5259, -4.9187, -5.7956, -5.0517, -5.0476, -4.5397, -4.5147, -4.9841, -5.0972, -5.0176, -5.3133, -5.0847, -5.1977, -5.1348, -5.4412, -5.455, -5.3437, -5.3878, -5.4932, -5.4694, -5.5195, -4.351, -5.126, -5.3435, -5.6206, -5.6206, -5.6208, -4.948, -6.0061, -6.006, -6.0062, -6.0063, -6.0063, -6.0062, -6.0062, -6.6415, -6.6416, -6.6416, -6.6417, -6.6417, -6.6416, -6.6416, -6.6415, -6.6416, -6.6417, -6.6418, -6.6417, -6.6416, -6.6417, -6.6416, -6.6418, -4.9471, -5.6203, -6.0059, -6.0056, -4.6646, -5.3426, -4.6638, -4.7949, -3.2848, -6.0058, -4.9457, -5.6191, -6.0059, -6.0051, -6.0055, -6.0057, -4.6582, -5.6179, -5.3389, -5.6161, -5.6168, -5.3241, -5.6163, -5.3133, -5.6149, -5.6174, -5.6153, -5.615, -5.6139, -5.6071, -5.5516, -5.5639, -5.5915, -5.987, -5.9871, -5.9874, -5.9876, -5.9877, -5.9876, -5.9877, -5.9877, -5.9879, -5.9878, -5.9879, -5.9879, -5.988, -5.9881, -5.9882, -5.9881, -5.9884, -5.9884, -5.9885, -5.9886, -5.9886, -5.9886, -5.9887, -5.9894, -5.992, -5.993, -5.9943, -6.0091, -6.0093, -6.0134, -5.3779, -5.4031, -5.4933, -5.4768, -5.5036, -5.5431, -5.6022, -5.729, -5.9076, -5.9079, -5.908, -5.9083, -5.9084, -5.9086, -5.9102, -5.9104, -5.9111, -5.9111, -5.9111, -5.9116, -5.9117, -5.9123, -5.9123, -5.9133, -5.9141, -5.9084, -5.91, -5.9096, -5.4001, -5.9917, -5.9948, -6.0107, -6.0722, -6.0845, -5.9223, -5.4176, -5.926, -6.1211, -5.8373, -5.9197, -6.0076], \"loglift\": [30.0, 29.0, 28.0, 27.0, 26.0, 25.0, 24.0, 23.0, 22.0, 21.0, 20.0, 19.0, 18.0, 17.0, 16.0, 15.0, 14.0, 13.0, 12.0, 11.0, 10.0, 9.0, 8.0, 7.0, 6.0, 5.0, 4.0, 3.0, 2.0, 1.0, 0.6398, 0.6273, 0.617, 0.6089, 0.6086, 0.6082, 0.6074, 0.6063, 0.5992, 0.5943, 0.5931, 0.5893, 0.589, 0.5884, 0.5874, 0.5869, 0.5852, 0.5736, 0.5733, 0.573, 0.5729, 0.5724, 0.5714, 0.5712, 0.5711, 0.5708, 0.5692, 0.5687, 0.5679, 0.5679, 0.5639, 0.5163, 0.5397, 0.4678, 0.3921, 0.5273, 0.4038, 0.323, 0.4548, 0.3813, 0.404, 0.1615, 0.3322, 0.1391, 0.1707, 0.1299, 0.3341, 0.233, 0.2355, 0.2706, 0.3357, 0.1801, 0.0723, 0.1524, 0.2167, 0.1423, 0.2223, 0.1005, 0.131, 0.0766, 0.0196, 0.1821, 0.2317, 0.1134, 0.0714, -0.032, 0.1478, 0.1595, -0.1408, 0.039, 0.0803, 0.0181, -0.0574, 1.1489, 1.1306, 1.1208, 1.1046, 1.1045, 1.1012, 1.1009, 1.1003, 1.0934, 1.0839, 1.0835, 1.0791, 1.067, 1.0593, 1.0491, 1.0489, 1.0483, 1.048, 1.0473, 1.0471, 1.047, 1.0468, 1.0467, 1.0467, 1.0462, 1.0456, 1.0446, 1.0441, 1.0437, 1.0428, 1.0219, 0.9979, 0.9049, 0.9766, 0.898, 0.8916, 0.9601, 0.959, 0.9524, 0.9127, 0.8405, 0.281, 0.4323, 0.2708, 0.6143, 0.8052, 0.2302, 0.0153, 0.0981, 0.4125, 0.4294, 0.7142, 0.3372, 0.158, 0.2713, 0.2934, -0.1294, -0.2001, -0.1061, 0.2131, 0.341, 0.2103, 0.0291, 0.0092, 0.2763, 0.435, 0.1473, 0.2369, 0.2063, -0.0717, -0.0355, -0.1352, -0.0156, -0.2365, -0.1174, -0.0213, 0.0285, -0.1127, -0.2167, 2.2746, 2.2358, 2.1931, 2.1682, 2.1681, 2.168, 2.1655, 2.1647, 2.1646, 2.1616, 2.1598, 2.1592, 2.1587, 2.1587, 2.1565, 2.1564, 2.1562, 2.1015, 2.0665, 2.0604, 2.0468, 1.9863, 1.9863, 1.9862, 1.9862, 1.9861, 1.9861, 1.986, 1.986, 1.986, 1.9521, 1.9076, 1.8796, 1.9267, 1.8477, 1.8208, 1.8423, 1.8194, 1.473, 0.279, 0.2712, 0.2109, 1.0852, 0.5302, 0.3855, 0.3119, -0.1258, 1.1465, 0.2519, 0.5899, 0.3615, 0.4841, 1.4834, 0.3391, 0.0285, -0.0354, 0.0776, -0.082, 0.1228, 0.2024, -0.6731, -0.2704, -0.1131, 0.3036, 0.6479, -0.2642, 0.5984, 0.5376, 0.1312, 0.0341, -0.0117, -0.0812, 2.9463, 2.9457, 2.9447, 2.9418, 2.9399, 2.9366, 2.9343, 2.9286, 2.7964, 2.7258, 2.7257, 2.7255, 2.7253, 2.7253, 2.7252, 2.7251, 2.7251, 2.7251, 2.725, 2.725, 2.7249, 2.7249, 2.7247, 2.7247, 2.7247, 2.7247, 2.7246, 2.7246, 2.7245, 2.7245, 2.682, 2.5009, 2.3287, 2.5253, 2.5195, 2.2195, 2.4998, 2.4943, 2.4652, 1.9828, 2.3207, 1.7911, 1.4614, 2.229, 1.8805, 1.5144, 1.4636, 2.1534, 1.3864, 0.6414, 0.7984, 0.3986, 0.1823, 0.6449, 1.1299, -0.4694, 0.6976, 0.2496, -0.1471, -0.6823, -0.1211, -0.1879, 0.1564, 0.9414, -1.1233, -0.2488, -0.3614, -1.1771, -0.6444, 0.5108, 2.9969, 2.9843, 2.9836, 2.9626, 2.9552, 2.7719, 2.7718, 2.7718, 2.7718, 2.7718, 2.7717, 2.7717, 2.7716, 2.7714, 2.771, 2.771, 2.7708, 2.7707, 2.7694, 2.7693, 2.7692, 2.7692, 2.7691, 2.7689, 2.7689, 2.7689, 2.7688, 2.7688, 2.7687, 2.7687, 2.5868, 2.5686, 2.5675, 2.2109, 2.1, 2.0645, 1.499, 2.2994, 2.2836, 1.9884, 1.011, 0.518, 1.7906, 0.4255, 2.1902, 0.4172, -0.1551, 1.1201, 0.671, 0.4271, 2.0459, 0.2704, 0.1464, 0.5529, 1.5976, 0.5447, 0.5143, -0.307, -0.4302, 0.3664, 0.3864, 0.0333, 0.6864, -0.1586, 0.0335, -0.3416, 0.6386, 0.3076, -0.2342, -0.1847, -0.1786, -0.5108, -0.2391, 3.4114, 3.327, 3.2903, 3.2349, 3.2349, 3.2345, 3.1381, 3.1346, 3.1346, 3.1345, 3.1343, 3.1343, 3.1343, 3.1343, 2.8994, 2.8994, 2.8994, 2.8993, 2.8993, 2.8993, 2.8993, 2.8993, 2.8993, 2.8993, 2.8992, 2.8992, 2.8992, 2.8992, 2.8992, 2.8992, 2.8451, 2.6552, 2.7142, 2.6962, 2.2435, 2.4604, 1.6319, 1.6783, 0.6241, 2.4519, 1.6581, 2.1375, 2.4192, 2.3918, 2.3917, 2.391, 0.429, 1.6153, 0.9783, 1.2831, 1.0746, -0.2146, 0.9935, -0.6761, 0.8816, 0.8234, 0.5658, 0.5441, 0.4545, 0.0673, -1.6215, -1.4794, -1.3587, 3.9724, 3.972, 3.9716, 3.971, 3.971, 3.9709, 3.9708, 3.9708, 3.9707, 3.9706, 3.9705, 3.9705, 3.9704, 3.9703, 3.97, 3.9699, 3.9695, 3.9694, 3.9693, 3.9691, 3.9691, 3.9691, 3.9689, 3.1867, 3.1825, 3.1812, 3.1791, 3.1325, 3.1292, 3.1213, 2.9777, 2.0684, 1.6716, 1.4408, 0.9818, 0.9368, -0.9299, 0.2873, 4.1433, 4.1426, 4.1422, 4.1419, 4.1414, 4.141, 4.1373, 4.1368, 4.1357, 4.1354, 4.1353, 4.1341, 4.134, 4.1326, 4.1326, 4.1303, 4.1284, 3.3834, 3.381, 3.3806, 3.234, 3.1499, 3.1469, 3.1221, 3.0669, 3.049, 3.0263, 2.9662, 2.9301, 2.5417, 2.2005, 1.5453, 2.3212]}, \"token.table\": {\"Topic\": [1, 1, 2, 6, 1, 2, 3, 4, 5, 1, 2, 3, 4, 5, 2, 3, 5, 5, 3, 5, 3, 1, 2, 3, 4, 5, 1, 2, 3, 4, 5, 6, 2, 1, 2, 3, 5, 6, 1, 2, 4, 2, 1, 5, 3, 1, 2, 3, 4, 5, 5, 3, 5, 2, 5, 4, 1, 2, 3, 4, 6, 1, 2, 3, 1, 6, 1, 2, 4, 6, 4, 2, 3, 1, 2, 6, 1, 2, 5, 6, 1, 2, 3, 6, 1, 3, 6, 6, 5, 2, 4, 6, 6, 4, 5, 3, 1, 2, 3, 4, 5, 6, 2, 4, 5, 2, 5, 6, 2, 3, 2, 1, 6, 2, 3, 2, 3, 6, 6, 1, 2, 5, 4, 2, 3, 4, 2, 1, 3, 4, 1, 2, 5, 5, 1, 1, 1, 2, 1, 2, 5, 1, 2, 4, 3, 1, 2, 3, 4, 5, 6, 2, 5, 3, 4, 3, 6, 1, 2, 3, 4, 5, 6, 3, 2, 1, 2, 5, 1, 2, 3, 4, 5, 1, 2, 3, 5, 1, 2, 3, 4, 5, 6, 1, 2, 3, 4, 5, 6, 5, 1, 2, 1, 2, 3, 4, 5, 6, 2, 1, 3, 2, 1, 1, 2, 4, 1, 1, 2, 3, 1, 2, 3, 4, 5, 1, 2, 3, 4, 5, 6, 1, 2, 3, 4, 6, 1, 6, 1, 2, 3, 4, 5, 6, 1, 2, 3, 4, 1, 2, 3, 5, 1, 2, 4, 5, 6, 1, 3, 1, 1, 2, 3, 6, 5, 1, 5, 1, 2, 3, 4, 6, 2, 6, 4, 4, 5, 2, 1, 1, 2, 1, 2, 3, 4, 5, 1, 2, 3, 4, 5, 6, 1, 2, 3, 4, 5, 1, 2, 3, 4, 5, 2, 1, 2, 3, 4, 5, 6, 2, 5, 1, 2, 3, 4, 1, 2, 3, 5, 5, 4, 1, 1, 4, 1, 2, 3, 5, 2, 1, 2, 2, 3, 2, 1, 2, 3, 3, 1, 2, 1, 2, 3, 4, 1, 2, 3, 6, 1, 2, 6, 1, 2, 3, 1, 4, 5, 5, 4, 2, 6, 6, 6, 2, 4, 5, 1, 2, 4, 1, 2, 3, 4, 5, 6, 1, 2, 3, 4, 5, 4, 1, 2, 3, 4, 5, 6, 1, 2, 1, 2, 3, 4, 6, 1, 2, 3, 6, 6, 5, 6, 1, 2, 3, 4, 3, 1, 2, 3, 5, 1, 2, 3, 4, 1, 1, 2, 3, 4, 5, 1, 2, 5, 1, 2, 5, 1, 2, 3, 1, 2, 3, 4, 5, 6, 1, 2, 3, 4, 6, 1, 2, 3, 4, 2, 4, 3, 1, 2, 3, 4, 5, 1, 4, 1, 1, 3, 1, 2, 3, 6, 1, 1, 2, 4, 5, 1, 2, 3, 4, 5, 2, 6, 4, 1, 2, 3, 4, 5, 1, 3, 6, 1, 2, 3, 1, 2, 3, 5, 6, 1, 6, 2, 1, 2, 1, 2, 2, 4, 5, 3, 6, 2, 3, 4, 2, 3, 4, 4, 1, 2, 3, 4, 5, 6, 3, 6, 1, 5, 5, 2, 1, 1, 2, 1, 2, 3, 4, 6, 2, 3, 6, 1, 1, 3, 2, 1, 2, 4, 6, 6, 1, 2, 3, 4, 5, 6, 1, 1, 2, 3, 4, 6, 5, 5, 6, 1, 2, 6, 4, 1, 2, 3, 5, 4, 1, 2, 3, 4, 5, 1, 2, 2, 3, 4, 4, 1, 2, 3, 4, 5, 3, 1, 2, 3, 4, 5, 1, 1, 2, 3, 5, 3, 1, 2, 3, 6, 1, 6, 2, 3, 1, 6, 3, 1, 3, 2, 6, 5, 4, 1, 2, 3, 6, 2, 2, 6, 2, 3, 1, 2, 1, 2, 5, 4, 1, 1, 2, 3, 4, 5, 6, 1, 2, 3, 1, 5, 1, 2, 3, 4, 5, 2, 4, 1, 2, 3, 4, 5, 6, 1, 2, 1, 2, 3, 4, 1, 4, 3, 1, 5, 3, 1, 2, 3, 4, 5, 6, 1, 2, 3, 5, 6, 5, 6, 1, 1, 2, 4, 1, 3, 1, 2, 3, 5, 6, 5, 2, 4, 3, 1, 1, 2, 4, 6, 1, 2, 3, 4, 5, 6, 1, 2, 5, 1, 1, 2, 3, 6, 1, 2, 3, 5, 1, 2, 1, 2, 6, 6, 1, 2, 3, 4, 5, 1, 2, 3, 4, 5, 1, 2, 4, 3, 1, 2, 3, 4, 5, 2, 6, 1, 5, 6, 1, 5, 3, 1, 3, 5, 1, 5, 4, 1, 2, 3, 5, 1, 2, 3, 4, 2, 6, 1, 2, 3, 5, 2, 3, 4, 1, 4, 1, 4, 2, 6, 1, 2, 3, 4, 2, 3, 5, 5, 3, 1, 2, 3, 4, 5, 1, 2, 3, 4, 5, 6, 1, 2, 3, 4, 5, 6, 6, 1, 2, 3, 4, 5, 6, 1, 2, 3, 5, 6, 3, 5, 2, 3, 6, 1, 2, 3, 1, 1, 1], \"Freq\": [0.5655769907470151, 0.5912352062117944, 0.25338651694791187, 0.16892434463194125, 0.4518702049188443, 0.4518702049188443, 0.0430352576113185, 0.02151762880565925, 0.02151762880565925, 0.4556366303901107, 0.35048971568470055, 0.07009794313694011, 0.017524485784235027, 0.10514691470541015, 0.895096814543848, 0.9057193344305874, 0.8313993982891524, 0.8318458040934134, 0.9064283733116512, 0.5512676051686426, 0.6606111485907602, 0.523987680392362, 0.3810819493762633, 0.015878414557344303, 0.031756829114688606, 0.06351365822937721, 0.5726117070082046, 0.2609369804088021, 0.11597199129280093, 0.018120623639500146, 0.021744748367400174, 0.007248249455800058, 0.8949093563828379, 0.5988552166444938, 0.22934880637448699, 0.12741600354138166, 0.02548320070827633, 0.012741600354138165, 0.892755686125672, 0.35507153078965187, 0.35507153078965187, 0.9348868454766414, 0.9280381504120049, 0.08436710458290952, 0.9081026810386158, 0.42173457416943316, 0.46254759747615254, 0.08162604661343868, 0.01360434110223978, 0.02720868220447956, 0.8314214105875404, 0.46953673780713806, 0.46953673780713806, 0.8952154464930608, 0.14920257441551016, 0.5375482032048714, 0.4589158482537466, 0.34418688619030996, 0.03824298735447888, 0.03824298735447888, 0.07648597470895777, 0.13450568639409827, 0.26901137278819653, 0.5380227455763931, 0.5410462086169148, 0.2705231043084574, 0.5797745999309071, 0.3425940817773542, 0.02635339090595032, 0.05270678181190064, 0.8140149845380985, 0.8940248902705291, 0.7129765457430537, 0.5851778799700423, 0.27008209844771186, 0.18005473229847457, 0.4355838716416847, 0.14519462388056156, 0.2903892477611231, 0.14519462388056156, 0.32158775337937584, 0.4287836711725011, 0.10719591779312528, 0.8489992009090737, 0.2526298819309806, 0.5052597638619613, 0.2526298819309806, 0.5688537237569441, 0.8316811491892342, 0.8957056862613763, 0.5361250252117624, 0.569019198568713, 0.8490377545557527, 0.6320958334705663, 0.31604791673528315, 0.7130043038505348, 0.5901043220313412, 0.24535916547618922, 0.11802086440626823, 0.01242324888487034, 0.03105812221217585, 0.00621162444243517, 0.8949342795706265, 0.5379464957501032, 0.8315225834418232, 0.8939925144883754, 0.8317419253664549, 0.6854688389510234, 0.9620144056330943, 0.7130065876121942, 0.5885792864101725, 0.19819148990789967, 0.7927659596315987, 0.3199440654897774, 0.6398881309795548, 0.8933214651209307, 0.905937296439517, 0.5688881116173001, 0.8490087589203168, 0.43024117102903503, 0.21512058551451751, 0.21512058551451751, 0.8137889540552318, 0.23676878822157943, 0.23676878822157943, 0.47353757644315886, 0.5879177207915063, 0.9111947907522241, 0.056949674422014006, 0.056949674422014006, 0.30905965950673214, 0.6181193190134643, 0.061811931901346436, 0.831496631867326, 0.8926370260480546, 0.9177288659044021, 0.892460440488591, 0.9437855297106992, 0.8926139957626128, 0.3667824421492572, 0.3667824421492572, 0.2660735152995524, 0.2660735152995524, 0.2660735152995524, 0.9084677900797413, 0.3214969889478936, 0.2813098653294069, 0.12056137085546009, 0.0803742472369734, 0.1607484944739468, 0.0401871236184867, 0.5485138267447537, 0.27425691337237684, 0.7129889499978165, 0.8141063775843, 0.7176070572183997, 0.35880352860919984, 0.4462608901629803, 0.4284104545564611, 0.08925217803259607, 0.01785043560651921, 0.01785043560651921, 0.01785043560651921, 0.7130038581670973, 0.9622423975189552, 0.49560323505853937, 0.29736194103512364, 0.19824129402341575, 0.6383004243149872, 0.26595851013124466, 0.03191502121574936, 0.010638340405249786, 0.053191702026248934, 0.5658364271982359, 0.1968126703298212, 0.1476095027473659, 0.07380475137368295, 0.5715655589503731, 0.23815231622932215, 0.11431311179007463, 0.028578277947518656, 0.03810437059669154, 0.009526092649172885, 0.5790962346846209, 0.2810319962440072, 0.051096726589819494, 0.034064484393212996, 0.051096726589819494, 0.008516121098303249, 0.8315273718799928, 0.8639304645315606, 0.13291237915870163, 0.6322429559986436, 0.2994835054730417, 0.011091981684186729, 0.022183963368373458, 0.03327594505256019, 0.011091981684186729, 0.8930154930364049, 0.2510225431800028, 0.5020450863600056, 0.8944703955704991, 0.8925489588737004, 0.8908581993300296, 0.0424218190157157, 0.538166113619925, 0.8924582978524923, 0.7627593291363413, 0.1989806945573064, 0.0331634490928844, 0.4541614282989131, 0.4541614282989131, 0.053430756270460365, 0.026715378135230183, 0.026715378135230183, 0.32346412334251956, 0.16173206167125978, 0.24259809250688966, 0.08086603083562989, 0.08086603083562989, 0.08086603083562989, 0.5111448348623147, 0.29042320162631513, 0.12778620871557866, 0.05808464032526303, 0.011616928065052606, 0.5408717471124015, 0.27043587355620075, 0.5631000961423026, 0.2667316244884591, 0.09878949055128115, 0.009878949055128115, 0.01975789811025623, 0.04939474527564058, 0.7392752513720066, 0.12746125023655286, 0.07647675014193171, 0.05098450009462114, 0.0946720070181471, 0.7573760561451768, 0.0946720070181471, 0.8312218515991868, 0.5106772182759594, 0.3915192006782355, 0.03404514788506396, 0.03404514788506396, 0.01702257394253198, 0.8721688833257997, 0.10902111041572496, 0.917011804131899, 0.30511340564728434, 0.3661360867767412, 0.061022681129456864, 0.30511340564728434, 0.5528908477097493, 0.5645193407662797, 0.8314024760220909, 0.5345953407984513, 0.3401970350535599, 0.04859957643622284, 0.07289936465433426, 0.02429978821811142, 0.9359998874189012, 0.5689284209050107, 0.813807907128731, 0.8140460896909473, 0.8315277830998077, 0.588347759417275, 0.9339665415477698, 0.2762129753015729, 0.6444969423703368, 0.5447796889830745, 0.3091992829363396, 0.08834265226752559, 0.029447550755841864, 0.022085663066881398, 0.5382865985519449, 0.32991759266086945, 0.10852552390160179, 0.008682041912128144, 0.008682041912128144, 0.004341020956064072, 0.4463858656704753, 0.3719882213920627, 0.12399607379735425, 0.02479921475947085, 0.02479921475947085, 0.605423190880235, 0.26066831829565673, 0.07567789886002937, 0.025225966286676456, 0.03363462171556861, 0.9349686571491768, 0.53304655251777, 0.213218621007108, 0.159913965755331, 0.0266523276258885, 0.0799569828776655, 0.0266523276258885, 0.994896293893715, 0.8312614172907574, 0.5997631504508759, 0.24434795018369018, 0.06664035005009732, 0.08885380006679643, 0.33755664769411503, 0.33755664769411503, 0.112518882564705, 0.22503776512941, 0.5510793686133296, 0.8138290335525192, 0.9549988516734838, 0.8934988593413422, 0.813868601999823, 0.5852178708865574, 0.3413770913504918, 0.06096019488401639, 0.012192038976803278, 0.589471817798386, 0.9562639820648086, 0.9357737038231858, 0.3535171542670214, 0.5302757314005321, 0.8941484468767278, 0.2669398492080791, 0.2669398492080791, 0.2669398492080791, 0.9069537217166004, 0.12510353375746405, 0.7506212025447843, 0.3955658826085181, 0.13185529420283937, 0.3955658826085181, 0.06592764710141968, 0.6636734145764057, 0.2596982926603327, 0.028855365851148073, 0.057710731702296146, 0.29866054062562547, 0.29866054062562547, 0.29866054062562547, 0.9201842115328739, 0.07078340088714415, 0.9066212543313811, 0.35325888841291453, 0.35325888841291453, 0.8317807314446218, 0.8313827773862915, 0.8140501581663503, 0.5649111484376117, 0.568944114610803, 0.8489236877955052, 0.8490786601950001, 0.35709361956141183, 0.35709361956141183, 0.8312728959593196, 0.8520230591596041, 0.10650288239495051, 0.8139380895901277, 0.5776766423112643, 0.3040403380585601, 0.04560605070878402, 0.012161613522342405, 0.006080806761171203, 0.05776766423112642, 0.7065035261772932, 0.16485082277470173, 0.04710023507848621, 0.023550117539243104, 0.04710023507848621, 0.8140724051272491, 0.6333287496557036, 0.2374982811208889, 0.031666437482785185, 0.07916609370696295, 0.015833218741392593, 0.015833218741392593, 0.09293476143302952, 0.8364128528972657, 0.5871715149677575, 0.06524127944086194, 0.1304825588817239, 0.1304825588817239, 0.84906298734146, 0.6387519862401886, 0.1965390726892888, 0.0491347681723222, 0.0982695363446444, 0.8554682569117824, 0.8316750071244068, 0.8580812057860138, 0.35686191844393894, 0.11895397281464631, 0.35686191844393894, 0.8139298971975487, 0.6638978704659574, 0.7474588000042599, 0.21593254222345287, 0.01661019555565022, 0.01661019555565022, 0.8108413522341292, 0.10462469061085539, 0.07846851795814154, 0.026156172652713847, 0.9342223884676338, 0.6216113444236461, 0.30446269930954095, 0.03805783741369262, 0.012685945804564206, 0.02537189160912841, 0.4290647137369389, 0.1430215712456463, 0.2860431424912926, 0.13009807364853695, 0.7805884418912218, 0.13009807364853695, 0.4973374453000336, 0.39494444185590905, 0.10239300344412457, 0.525261645026458, 0.29293437895706315, 0.12121422577533647, 0.010101185481278039, 0.030303556443834118, 0.020202370962556077, 0.5331463967380228, 0.30211629148487956, 0.10662927934760455, 0.03554309311586818, 0.03554309311586818, 0.5111446695091352, 0.232338486140516, 0.0464676972281032, 0.1394030916843096, 0.3574693225562316, 0.3574693225562316, 0.9053719917830539, 0.37245932481654376, 0.18622966240827188, 0.12415310827218125, 0.12415310827218125, 0.12415310827218125, 0.8861833562087086, 0.059078890413913905, 0.9190592473342073, 0.9181283754867837, 0.7133181387943633, 0.5292037527394668, 0.16537617273108338, 0.1323009381848667, 0.16537617273108338, 0.7056686077348597, 0.7802995538356728, 0.11147136483366754, 0.05573568241683377, 0.05573568241683377, 0.5913131265391147, 0.25709266371265854, 0.0899824322994305, 0.012854633185632928, 0.05141853274253171, 0.966136020460742, 0.8603039318110487, 0.8140072539494942, 0.5096940750652263, 0.3978100098070059, 0.06837359543557915, 0.018647344209703404, 0.006215781403234468, 0.5701897359685756, 0.1425474339921439, 0.2850948679842878, 0.1748214621077127, 0.1748214621077127, 0.5244643863231382, 0.7393209638369461, 0.03696604819184731, 0.07393209638369462, 0.11089814457554192, 0.03696604819184731, 0.9182502928234574, 0.8490816431261093, 0.8940497641262346, 0.3428349882283934, 0.3428349882283934, 0.7100272848896103, 0.23667576162987009, 0.29385518738984795, 0.29385518738984795, 0.29385518738984795, 0.6607113995660584, 0.8556087245082568, 0.44868400024443106, 0.14956133341481034, 0.44868400024443106, 0.9811478527936452, 0.21932213369212306, 0.6579664010763692, 0.5380378598927085, 0.5865679571347369, 0.23625653829038012, 0.09776132618912281, 0.0325871087297076, 0.048880663094561405, 0.0081467771824269, 0.9060059495443623, 0.8491040874845667, 0.5694431149894312, 0.8314635375252294, 0.8317561684182625, 0.9524737535224923, 0.9473543559113552, 0.18885190183321415, 0.7554076073328566, 0.47310920569169435, 0.3379351469226388, 0.10138054407679165, 0.03379351469226388, 0.06758702938452776, 0.833803856091704, 0.16676077121834082, 0.5689315186839149, 0.9487250216388213, 0.20891694687713389, 0.6267508406314016, 0.8935506962749497, 0.5274163812628065, 0.17580546042093553, 0.26370819063140327, 0.08790273021046777, 0.8489747130376888, 0.5392360803470706, 0.2516435041619663, 0.15577931210026483, 0.01198302400771268, 0.02396604801542536, 0.01198302400771268, 0.9180253072438245, 0.47722687213671827, 0.3579201541025387, 0.039768906011393185, 0.039768906011393185, 0.039768906011393185, 0.5509527223788876, 0.8314981829350133, 0.8488934573313777, 0.4528476383264313, 0.4528476383264313, 0.09056952766528627, 0.813991924930563, 0.6608134442654549, 0.19090166167668696, 0.08810845923539398, 0.058738972823595983, 0.5378821240767072, 0.335129604333023, 0.4021555251996276, 0.0670259208666046, 0.2010777625998138, 0.0670259208666046, 0.26135288427593073, 0.7404998387818038, 0.8936975445086337, 0.6618469972933898, 0.8138852339848774, 0.8139921235922779, 0.560969714404651, 0.23373738100193792, 0.046747476200387585, 0.09349495240077517, 0.046747476200387585, 0.7129880400538755, 0.4892907025580591, 0.3783848099782324, 0.08481038844339692, 0.006523876034107454, 0.039143256204644726, 0.9337050211169956, 0.6963877342933931, 0.20891632028801793, 0.05222908007200448, 0.03481938671466966, 0.856163906186089, 0.4740405547952609, 0.31602703653017394, 0.03950337956627174, 0.15801351826508697, 0.36685144216830495, 0.36685144216830495, 0.867198700930708, 0.14453311682178469, 0.5407352009096945, 0.27036760045484726, 0.713003404860065, 0.24975360478428837, 0.49950720956857675, 0.3736168987285331, 0.3736168987285331, 0.8314833077179943, 0.81414661412132, 0.47189941346925024, 0.412911986785594, 0.05898742668365628, 0.05898742668365628, 0.9617779458181603, 0.4790261410082308, 0.4790261410082308, 0.9682084104412044, 0.9061497305920128, 0.2555860923058537, 0.6815629128156099, 0.6118703647839016, 0.1529675911959754, 0.3059351823919508, 0.537021884785084, 0.9398724834645694, 0.5135532628496892, 0.42017994233156386, 0.031124440172708434, 0.015562220086354217, 0.015562220086354217, 0.015562220086354217, 0.7414078565269963, 0.1647573014504436, 0.0823786507252218, 0.36012256873622955, 0.36012256873622955, 0.6239155798853413, 0.20313530507894834, 0.07254832324248155, 0.02901932929699262, 0.05803865859398524, 0.5903689082434562, 0.35422134494607377, 0.6901206234981739, 0.15336013855514977, 0.07668006927757488, 0.05112004618504992, 0.01278001154626248, 0.01278001154626248, 0.1971075148337655, 0.6898763019181793, 0.29266353526488903, 0.07316588381622226, 0.14633176763244451, 0.5853270705297781, 0.5201741931025218, 0.2600870965512609, 0.9060247855125947, 0.5265320093301942, 0.2632660046650971, 0.661217970071152, 0.4345913500626377, 0.39050237252005127, 0.08187952972194623, 0.012596850726453267, 0.0566858282690397, 0.012596850726453267, 0.42331648634869135, 0.3950953872587786, 0.16932659453947654, 0.549289497829779, 0.8489487886216951, 0.8311956014607367, 0.8490814216843108, 0.8927604502766003, 0.5431591806169231, 0.13578979515423079, 0.27157959030846157, 0.17197120434565444, 0.6878848173826178, 0.6101851904616205, 0.18140640797507637, 0.11544044143868495, 0.0659659665363914, 0.01649149163409785, 0.831500913938761, 0.8949316500842793, 0.8139184824542758, 0.7129994903199762, 0.9760355225689222, 0.6937617250937821, 0.19512048518262623, 0.06504016172754208, 0.02168005390918069, 0.5968818672969436, 0.2690171796267915, 0.07986447520170373, 0.025220360590011703, 0.025220360590011703, 0.008406786863337234, 0.27006035836513537, 0.27006035836513537, 0.27006035836513537, 0.9346621330208907, 0.14773651484854483, 0.14773651484854483, 0.14773651484854483, 0.5909460593941793, 0.35988172085469994, 0.5198291523456777, 0.07997371574548888, 0.03998685787274444, 0.5189878167191359, 0.2594939083595679, 0.16228735652900717, 0.8114367826450359, 0.8555249359513791, 0.5689184216401335, 0.4617952057713634, 0.39582446208974004, 0.09235904115427268, 0.039582446208974005, 0.013194148736324669, 0.4109123732072358, 0.3616028884223675, 0.1479284543546049, 0.01643649492828943, 0.06574597971315772, 0.3383718159860229, 0.3383718159860229, 0.2255812106573486, 0.9052202699317011, 0.4791582869228794, 0.36507298051267, 0.10267677576918845, 0.011408530641020938, 0.03422559192306281, 0.5680745512551244, 0.8489935768722725, 0.5695137168888774, 0.831692336058347, 0.8489909484522065, 0.36006805881523635, 0.36006805881523635, 0.9059547349227478, 0.2953450039478318, 0.2953450039478318, 0.2953450039478318, 0.8771347055040231, 0.12530495792914614, 0.8139979153109842, 0.5136769168234947, 0.17122563894116488, 0.28537606490194145, 0.05707521298038829, 0.3529355186401115, 0.5646968298241785, 0.07058710372802231, 0.814131242823894, 0.5563109970354926, 0.2781554985177463, 0.49286707756316156, 0.36965030817237116, 0.061608384695395195, 0.12321676939079039, 0.8930105906258735, 0.9066673355483323, 0.8140250080026599, 0.8934017659550565, 0.8140467768944348, 0.3533766121795834, 0.3533766121795834, 0.8945432381828421, 0.8490693506757379, 0.460528828145001, 0.460528828145001, 0.07368461250320016, 0.01842115312580004, 0.8354946493082764, 0.16709892986165528, 0.8317504806136503, 0.8317360663989817, 0.7855172848930104, 0.5753342097625446, 0.2501453085924107, 0.0750435925777232, 0.0750435925777232, 0.050029061718482135, 0.5557272069674546, 0.30039308484727273, 0.06758844409063637, 0.007509827121181819, 0.05256878984827273, 0.007509827121181819, 0.5628835395783395, 0.19409777226839295, 0.15527821781471435, 0.019409777226839293, 0.03881955445367859, 0.019409777226839293, 0.8490498823322726, 0.5385077150782169, 0.34742433230852704, 0.0347424332308527, 0.04342804153856588, 0.01737121661542635, 0.008685608307713175, 0.3024273063623937, 0.4233982289073511, 0.06048546127247873, 0.06048546127247873, 0.12097092254495746, 0.830636439649886, 0.27687881321662866, 0.28738505014222626, 0.28738505014222626, 0.28738505014222626, 0.17475198400846106, 0.17475198400846106, 0.5242559520253832, 0.5677230540970131, 0.5694964268983282, 0.8933778335305538], \"Term\": [\"achieve\", \"act\", \"act\", \"act\", \"action\", \"action\", \"action\", \"action\", \"action\", \"actually\", \"actually\", \"actually\", \"actually\", \"actually\", \"adapt\", \"admittedly\", \"afraid\", \"aimless\", \"akward\", \"aloof\", \"alot\", \"also\", \"also\", \"also\", \"also\", \"also\", \"anime\", \"anime\", \"anime\", \"anime\", \"anime\", \"anime\", \"antic\", \"art\", \"art\", \"art\", \"art\", \"art\", \"assume\", \"attach\", \"attach\", \"author\", \"average\", \"average\", \"babe\", \"bad\", \"bad\", \"bad\", \"bad\", \"bad\", \"badguy\", \"ball\", \"ball\", \"bare\", \"bare\", \"basis\", \"battle\", \"battle\", \"battle\", \"battle\", \"battle\", \"be\", \"be\", \"be\", \"bear\", \"bear\", \"become\", \"become\", \"become\", \"become\", \"belly\", \"benefit\", \"bh\", \"blue\", \"blue\", \"blue\", \"boring\", \"boring\", \"boring\", \"boring\", \"bracelet\", \"bracelet\", \"bracelet\", \"bracket\", \"break\", \"break\", \"break\", \"breaking\", \"browse\", \"busy\", \"campus\", \"capitalist\", \"chain\", \"chapter\", \"chapter\", \"charachter\", \"character\", \"character\", \"character\", \"character\", \"character\", \"character\", \"chest\", \"chuckle\", \"circlejerk\", \"clothing\", \"coffin\", \"communist\", \"complain\", \"complety\", \"comprise\", \"conflict\", \"conflict\", \"confused\", \"confused\", \"confusion\", \"core\", \"corporation\", \"creation\", \"credit\", \"credit\", \"credit\", \"crude\", \"crush\", \"crush\", \"crush\", \"curiosity\", \"cute\", \"cute\", \"cute\", \"decent\", \"decent\", \"decent\", \"definition\", \"department\", \"depend\", \"depth\", \"director\", \"disappointing\", \"disorder\", \"disorder\", \"disregard\", \"disregard\", \"disregard\", \"dissapointe\", \"do\", \"do\", \"do\", \"do\", \"do\", \"do\", \"dub\", \"dub\", \"dutch\", \"dvd\", \"earth\", \"earth\", \"ecchi\", \"ecchi\", \"ecchi\", \"ecchi\", \"ecchi\", \"ecchi\", \"echhiness\", \"effort\", \"else\", \"else\", \"else\", \"end\", \"end\", \"end\", \"end\", \"end\", \"enjoy\", \"enjoy\", \"enjoy\", \"enjoy\", \"enjoyment\", \"enjoyment\", \"enjoyment\", \"enjoyment\", \"enjoyment\", \"enjoyment\", \"episode\", \"episode\", \"episode\", \"episode\", \"episode\", \"episode\", \"ergo\", \"especially\", \"especially\", \"even\", \"even\", \"even\", \"even\", \"even\", \"even\", \"eventough\", \"excellent\", \"excellent\", \"existant\", \"face\", \"fact\", \"fact\", \"factor\", \"fairly\", \"fall\", \"fall\", \"fall\", \"fanservice\", \"fanservice\", \"fanservice\", \"fanservice\", \"fanservice\", \"far\", \"far\", \"far\", \"far\", \"far\", \"far\", \"female\", \"female\", \"female\", \"female\", \"female\", \"field\", \"field\", \"fight\", \"fight\", \"fight\", \"fight\", \"fight\", \"fight\", \"find\", \"find\", \"find\", \"find\", \"fine\", \"fine\", \"fine\", \"finished\", \"first\", \"first\", \"first\", \"first\", \"first\", \"fit\", \"fit\", \"flat\", \"force\", \"force\", \"force\", \"force\", \"forget\", \"forgetful\", \"forgive\", \"form\", \"form\", \"form\", \"form\", \"form\", \"free\", \"freedom\", \"friendliness\", \"fundamentally\", \"fuse\", \"game\", \"generally\", \"generic\", \"generic\", \"get\", \"get\", \"get\", \"get\", \"get\", \"girl\", \"girl\", \"girl\", \"girl\", \"girl\", \"girl\", \"go\", \"go\", \"go\", \"go\", \"go\", \"good\", \"good\", \"good\", \"good\", \"good\", \"goofy\", \"great\", \"great\", \"great\", \"great\", \"great\", \"great\", \"gun\", \"gunshot\", \"guy\", \"guy\", \"guy\", \"guy\", \"half\", \"half\", \"half\", \"half\", \"hallow\", \"handling\", \"hang\", \"harakiri\", \"harassment\", \"harem\", \"harem\", \"harem\", \"harem\", \"heavy\", \"helpful\", \"hijink\", \"hilarious\", \"hilarious\", \"history\", \"honest\", \"honest\", \"honest\", \"hooked\", \"horie\", \"horie\", \"hot\", \"hot\", \"hot\", \"hot\", \"however\", \"however\", \"however\", \"however\", \"human\", \"human\", \"human\", \"humor\", \"humor\", \"ill\", \"image\", \"image\", \"importantly\", \"inbetween\", \"incomplete\", \"indecisive\", \"infighting\", \"inherent\", \"inherently\", \"inoue\", \"inoue\", \"insanely\", \"interested\", \"interested\", \"item\", \"kampfer\", \"kampfer\", \"kampfer\", \"kampfer\", \"kampfer\", \"kampfer\", \"kind\", \"kind\", \"kind\", \"kind\", \"kind\", \"knock\", \"know\", \"know\", \"know\", \"know\", \"know\", \"know\", \"la\", \"la\", \"later\", \"later\", \"later\", \"later\", \"lay\", \"lead\", \"lead\", \"lead\", \"lead\", \"leader\", \"legendary\", \"lenin\", \"level\", \"level\", \"level\", \"lgbt\", \"limitation\", \"look\", \"look\", \"look\", \"look\", \"lot\", \"lot\", \"lot\", \"lot\", \"loud\", \"love\", \"love\", \"love\", \"love\", \"love\", \"m\", \"m\", \"m\", \"magic\", \"magic\", \"magic\", \"main\", \"main\", \"main\", \"make\", \"make\", \"make\", \"make\", \"make\", \"make\", \"male\", \"male\", \"male\", \"male\", \"male\", \"manga\", \"manga\", \"manga\", \"manga\", \"marina\", \"marina\", \"masterpiece\", \"maybe\", \"maybe\", \"maybe\", \"maybe\", \"maybe\", \"mc\", \"mc\", \"meet\", \"memorable\", \"mock\", \"moderator\", \"moderator\", \"moderator\", \"moderator\", \"mood\", \"mostly\", \"mostly\", \"mostly\", \"mostly\", \"much\", \"much\", \"much\", \"much\", \"much\", \"multiple\", \"natsaru\", \"natsura\", \"natsuru\", \"natsuru\", \"natsuru\", \"natsuru\", \"natsuru\", \"nature\", \"nature\", \"nature\", \"negative\", \"negative\", \"negative\", \"never\", \"never\", \"never\", \"never\", \"never\", \"nicely\", \"nkvd\", \"nonetheless\", \"nonsense\", \"nonsense\", \"normal\", \"normal\", \"odd\", \"odd\", \"odd\", \"omg\", \"oppression\", \"order\", \"order\", \"order\", \"outta\", \"ova\", \"ova\", \"ovas\", \"overall\", \"overall\", \"overall\", \"overall\", \"overall\", \"overall\", \"overboard\", \"oversee\", \"page\", \"painfully\", \"parent\", \"parody\", \"particularly\", \"pay\", \"pay\", \"people\", \"people\", \"people\", \"people\", \"people\", \"performance\", \"performance\", \"perpetual\", \"personally\", \"pervert\", \"pervert\", \"physical\", \"place\", \"place\", \"place\", \"place\", \"playing\", \"plot\", \"plot\", \"plot\", \"plot\", \"plot\", \"plot\", \"plush\", \"point\", \"point\", \"point\", \"point\", \"point\", \"pokemon\", \"polar\", \"police\", \"power\", \"power\", \"power\", \"pretend\", \"pretty\", \"pretty\", \"pretty\", \"pretty\", \"pro\", \"problem\", \"problem\", \"problem\", \"problem\", \"problem\", \"producer\", \"producer\", \"production\", \"prop\", \"raw\", \"ray\", \"real\", \"real\", \"real\", \"real\", \"real\", \"realise\", \"really\", \"really\", \"really\", \"really\", \"really\", \"realy\", \"reason\", \"reason\", \"reason\", \"reason\", \"recognize\", \"red\", \"red\", \"red\", \"red\", \"refuse\", \"refuse\", \"relationship\", \"relationship\", \"represent\", \"represent\", \"request\", \"require\", \"require\", \"respective\", \"respective\", \"result\", \"reverse\", \"review\", \"review\", \"review\", \"review\", \"rip\", \"rise\", \"rise\", \"romantic\", \"root\", \"s\", \"s\", \"sad\", \"sad\", \"sad\", \"san\", \"save\", \"say\", \"say\", \"say\", \"say\", \"say\", \"say\", \"scene\", \"scene\", \"scene\", \"screentime\", \"screentime\", \"see\", \"see\", \"see\", \"see\", \"see\", \"seiyuu\", \"seiyuu\", \"series\", \"series\", \"series\", \"series\", \"series\", \"series\", \"seriously\", \"seriously\", \"service\", \"service\", \"service\", \"service\", \"sex\", \"sex\", \"sexualize\", \"shenanigan\", \"shenanigan\", \"shot\", \"show\", \"show\", \"show\", \"show\", \"show\", \"show\", \"side\", \"side\", \"side\", \"silly\", \"similarity\", \"sing\", \"sister\", \"slight\", \"small\", \"small\", \"small\", \"solid\", \"solid\", \"sound\", \"sound\", \"sound\", \"sound\", \"sound\", \"sparse\", \"spectacular\", \"squick\", \"srry\", \"standard\", \"still\", \"still\", \"still\", \"still\", \"story\", \"story\", \"story\", \"story\", \"story\", \"story\", \"storyline\", \"storyline\", \"storyline\", \"straight\", \"struggle\", \"struggle\", \"struggle\", \"struggle\", \"sure\", \"sure\", \"sure\", \"sure\", \"switch\", \"switch\", \"sword\", \"sword\", \"symbolism\", \"tear\", \"thing\", \"thing\", \"thing\", \"thing\", \"thing\", \"think\", \"think\", \"think\", \"think\", \"think\", \"throw\", \"throw\", \"throw\", \"tier\", \"time\", \"time\", \"time\", \"time\", \"time\", \"tit\", \"tooth\", \"treat\", \"tremble\", \"trite\", \"trope\", \"trope\", \"troublesome\", \"truly\", \"truly\", \"truly\", \"tsundere\", \"tsundere\", \"tune\", \"twist\", \"twist\", \"twist\", \"twist\", \"typical\", \"typical\", \"typical\", \"unbelievable\", \"uninspired\", \"uninspired\", \"unique\", \"unique\", \"unique\", \"unique\", \"user\", \"ve\", \"verdict\", \"version\", \"victoria\", \"view\", \"view\", \"violent\", \"vitally\", \"voice\", \"voice\", \"voice\", \"voice\", \"vs_blue\", \"vs_blue\", \"wackiness\", \"wacky\", \"waifu\", \"want\", \"want\", \"want\", \"want\", \"want\", \"watch\", \"watch\", \"watch\", \"watch\", \"watch\", \"watch\", \"way\", \"way\", \"way\", \"way\", \"way\", \"way\", \"wealth\", \"well\", \"well\", \"well\", \"well\", \"well\", \"well\", \"whole\", \"whole\", \"whole\", \"whole\", \"whole\", \"wierd\", \"wierd\", \"win\", \"win\", \"win\", \"wish\", \"wish\", \"wish\", \"wrist\", \"writing\", \"yet\"]}, \"R\": 30, \"lambda.step\": 0.01, \"plot.opts\": {\"xlab\": \"PC1\", \"ylab\": \"PC2\"}, \"topic.order\": [1, 3, 2, 4, 8, 6, 5, 7]};\n",
       "\n",
       "function LDAvis_load_lib(url, callback){\n",
       "  var s = document.createElement('script');\n",
       "  s.src = url;\n",
       "  s.async = true;\n",
       "  s.onreadystatechange = s.onload = callback;\n",
       "  s.onerror = function(){console.warn(\"failed to load library \" + url);};\n",
       "  document.getElementsByTagName(\"head\")[0].appendChild(s);\n",
       "}\n",
       "\n",
       "if(typeof(LDAvis) !== \"undefined\"){\n",
       "   // already loaded: just create the visualization\n",
       "   !function(LDAvis){\n",
       "       new LDAvis(\"#\" + \"ldavis_el2032424307007260806298372359\", ldavis_el2032424307007260806298372359_data);\n",
       "   }(LDAvis);\n",
       "}else if(typeof define === \"function\" && define.amd){\n",
       "   // require.js is available: use it to load d3/LDAvis\n",
       "   require.config({paths: {d3: \"https://d3js.org/d3.v5\"}});\n",
       "   require([\"d3\"], function(d3){\n",
       "      window.d3 = d3;\n",
       "      LDAvis_load_lib(\"https://cdn.jsdelivr.net/gh/bmabey/pyLDAvis@3.3.1/pyLDAvis/js/ldavis.v3.0.0.js\", function(){\n",
       "        new LDAvis(\"#\" + \"ldavis_el2032424307007260806298372359\", ldavis_el2032424307007260806298372359_data);\n",
       "      });\n",
       "    });\n",
       "}else{\n",
       "    // require.js not available: dynamically load d3 & LDAvis\n",
       "    LDAvis_load_lib(\"https://d3js.org/d3.v5.js\", function(){\n",
       "         LDAvis_load_lib(\"https://cdn.jsdelivr.net/gh/bmabey/pyLDAvis@3.3.1/pyLDAvis/js/ldavis.v3.0.0.js\", function(){\n",
       "                 new LDAvis(\"#\" + \"ldavis_el2032424307007260806298372359\", ldavis_el2032424307007260806298372359_data);\n",
       "            })\n",
       "         });\n",
       "}\n",
       "</script>"
      ],
      "text/plain": [
       "PreparedData(topic_coordinates=              x         y  topics  cluster       Freq\n",
       "topic                                                \n",
       "0     -0.119599 -0.021229       1        1  50.215932\n",
       "2     -0.112267 -0.015780       2        1  29.893487\n",
       "1     -0.089222 -0.017653       3        1   8.843754\n",
       "3      0.006300  0.080709       4        1   3.761493\n",
       "7     -0.024333  0.033343       5        1   3.533064\n",
       "5      0.105744 -0.125600       6        1   3.024562\n",
       "4      0.113254  0.037041       7        1   0.472091\n",
       "6      0.120122  0.029168       8        1   0.255618, topic_info=            Term        Freq       Total Category  logprob  loglift\n",
       "152      kampfer  328.000000  328.000000  Default  30.0000  30.0000\n",
       "47     character  321.000000  321.000000  Default  29.0000  29.0000\n",
       "259         show  158.000000  158.000000  Default  28.0000  28.0000\n",
       "14         anime  275.000000  275.000000  Default  27.0000  27.0000\n",
       "238       really  153.000000  153.000000  Default  26.0000  26.0000\n",
       "...          ...         ...         ...      ...      ...      ...\n",
       "2324   recognize    0.111843    2.336001   Topic8  -5.9260   2.9301\n",
       "1766        mood    0.092017    2.834192   Topic8  -6.1211   2.5417\n",
       "2079         pay    0.122215    5.295155   Topic8  -5.8373   2.2005\n",
       "824   interested    0.112553    9.389417   Topic8  -5.9197   1.5453\n",
       "1408       break    0.103086    3.958360   Topic8  -6.0076   2.3212\n",
       "\n",
       "[531 rows x 6 columns], token_table=      Topic      Freq     Term\n",
       "term                          \n",
       "1649      1  0.565577  achieve\n",
       "2         1  0.591235      act\n",
       "2         2  0.253387      act\n",
       "2         6  0.168924      act\n",
       "3         1  0.451870   action\n",
       "...     ...       ...      ...\n",
       "915       2  0.174752     wish\n",
       "915       3  0.524256     wish\n",
       "1860      1  0.567723    wrist\n",
       "646       1  0.569496  writing\n",
       "1161      1  0.893378      yet\n",
       "\n",
       "[814 rows x 3 columns], R=30, lambda_step=0.01, plot_opts={'xlab': 'PC1', 'ylab': 'PC2'}, topic_order=[1, 3, 2, 4, 8, 6, 5, 7])"
      ]
     },
     "execution_count": 22,
     "metadata": {},
     "output_type": "execute_result"
    }
   ],
   "source": [
    "# Generate a visualization of the topic models\n",
    "\n",
    "import pyLDAvis.gensim_models\n",
    "pyLDAvis.enable_notebook()\n",
    "vis = pyLDAvis.gensim_models.prepare(lda_model, corpus, id2word)\n",
    "vis"
   ]
  }
 ],
 "metadata": {
  "kernelspec": {
   "display_name": "Python 3",
   "language": "python",
   "name": "python3"
  },
  "language_info": {
   "codemirror_mode": {
    "name": "ipython",
    "version": 3
   },
   "file_extension": ".py",
   "mimetype": "text/x-python",
   "name": "python",
   "nbconvert_exporter": "python",
   "pygments_lexer": "ipython3",
   "version": "3.8.5"
  }
 },
 "nbformat": 4,
 "nbformat_minor": 4
}
