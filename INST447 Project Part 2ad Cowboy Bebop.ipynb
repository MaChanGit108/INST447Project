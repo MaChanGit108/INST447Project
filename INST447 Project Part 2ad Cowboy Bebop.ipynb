{
 "cells": [
  {
   "cell_type": "markdown",
   "metadata": {},
   "source": [
    "### INST447 Project Part 2\n",
    "#### Members: Alexander Chui and Matthew Chan"
   ]
  },
  {
   "cell_type": "markdown",
   "metadata": {},
   "source": [
    "### What factors affect ratings for an anime?"
   ]
  },
  {
   "cell_type": "code",
   "execution_count": 1,
   "metadata": {},
   "outputs": [],
   "source": [
    "import warnings\n",
    "warnings.filterwarnings('ignore')"
   ]
  },
  {
   "cell_type": "code",
   "execution_count": 2,
   "metadata": {},
   "outputs": [],
   "source": [
    "#Importing the required libraries\n",
    "import pandas as pd\n",
    "from bs4 import BeautifulSoup\n",
    "from urllib.request import urlopen \n",
    "import numpy as np\n",
    "from requests import get"
   ]
  },
  {
   "cell_type": "code",
   "execution_count": 3,
   "metadata": {},
   "outputs": [],
   "source": [
    "#libraries imported for handling rate limits and console formatting\n",
    "from time import time, sleep\n",
    "from random import randint\n",
    "from warnings import warn\n",
    "from IPython.core.display import clear_output"
   ]
  },
  {
   "cell_type": "code",
   "execution_count": 4,
   "metadata": {},
   "outputs": [
    {
     "name": "stderr",
     "output_type": "stream",
     "text": [
      "C:\\Users\\MaNinjaChan\\anaconda3\\lib\\site-packages\\sklearn\\linear_model\\_least_angle.py:34: DeprecationWarning: `np.float` is a deprecated alias for the builtin `float`. To silence this warning, use `float` by itself. Doing this will not modify any behavior and is safe. If you specifically wanted the numpy scalar type, use `np.float64` here.\n",
      "Deprecated in NumPy 1.20; for more details and guidance: https://numpy.org/devdocs/release/1.20.0-notes.html#deprecations\n",
      "  method='lar', copy_X=True, eps=np.finfo(np.float).eps,\n",
      "C:\\Users\\MaNinjaChan\\anaconda3\\lib\\site-packages\\sklearn\\linear_model\\_least_angle.py:164: DeprecationWarning: `np.float` is a deprecated alias for the builtin `float`. To silence this warning, use `float` by itself. Doing this will not modify any behavior and is safe. If you specifically wanted the numpy scalar type, use `np.float64` here.\n",
      "Deprecated in NumPy 1.20; for more details and guidance: https://numpy.org/devdocs/release/1.20.0-notes.html#deprecations\n",
      "  method='lar', copy_X=True, eps=np.finfo(np.float).eps,\n",
      "C:\\Users\\MaNinjaChan\\anaconda3\\lib\\site-packages\\sklearn\\linear_model\\_least_angle.py:281: DeprecationWarning: `np.float` is a deprecated alias for the builtin `float`. To silence this warning, use `float` by itself. Doing this will not modify any behavior and is safe. If you specifically wanted the numpy scalar type, use `np.float64` here.\n",
      "Deprecated in NumPy 1.20; for more details and guidance: https://numpy.org/devdocs/release/1.20.0-notes.html#deprecations\n",
      "  eps=np.finfo(np.float).eps, copy_Gram=True, verbose=0,\n",
      "C:\\Users\\MaNinjaChan\\anaconda3\\lib\\site-packages\\sklearn\\linear_model\\_least_angle.py:865: DeprecationWarning: `np.float` is a deprecated alias for the builtin `float`. To silence this warning, use `float` by itself. Doing this will not modify any behavior and is safe. If you specifically wanted the numpy scalar type, use `np.float64` here.\n",
      "Deprecated in NumPy 1.20; for more details and guidance: https://numpy.org/devdocs/release/1.20.0-notes.html#deprecations\n",
      "  eps=np.finfo(np.float).eps, copy_X=True, fit_path=True,\n",
      "C:\\Users\\MaNinjaChan\\anaconda3\\lib\\site-packages\\sklearn\\linear_model\\_least_angle.py:1121: DeprecationWarning: `np.float` is a deprecated alias for the builtin `float`. To silence this warning, use `float` by itself. Doing this will not modify any behavior and is safe. If you specifically wanted the numpy scalar type, use `np.float64` here.\n",
      "Deprecated in NumPy 1.20; for more details and guidance: https://numpy.org/devdocs/release/1.20.0-notes.html#deprecations\n",
      "  eps=np.finfo(np.float).eps, copy_X=True, fit_path=True,\n",
      "C:\\Users\\MaNinjaChan\\anaconda3\\lib\\site-packages\\sklearn\\linear_model\\_least_angle.py:1149: DeprecationWarning: `np.float` is a deprecated alias for the builtin `float`. To silence this warning, use `float` by itself. Doing this will not modify any behavior and is safe. If you specifically wanted the numpy scalar type, use `np.float64` here.\n",
      "Deprecated in NumPy 1.20; for more details and guidance: https://numpy.org/devdocs/release/1.20.0-notes.html#deprecations\n",
      "  eps=np.finfo(np.float).eps, positive=False):\n",
      "C:\\Users\\MaNinjaChan\\anaconda3\\lib\\site-packages\\sklearn\\linear_model\\_least_angle.py:1379: DeprecationWarning: `np.float` is a deprecated alias for the builtin `float`. To silence this warning, use `float` by itself. Doing this will not modify any behavior and is safe. If you specifically wanted the numpy scalar type, use `np.float64` here.\n",
      "Deprecated in NumPy 1.20; for more details and guidance: https://numpy.org/devdocs/release/1.20.0-notes.html#deprecations\n",
      "  max_n_alphas=1000, n_jobs=None, eps=np.finfo(np.float).eps,\n",
      "C:\\Users\\MaNinjaChan\\anaconda3\\lib\\site-packages\\sklearn\\linear_model\\_least_angle.py:1621: DeprecationWarning: `np.float` is a deprecated alias for the builtin `float`. To silence this warning, use `float` by itself. Doing this will not modify any behavior and is safe. If you specifically wanted the numpy scalar type, use `np.float64` here.\n",
      "Deprecated in NumPy 1.20; for more details and guidance: https://numpy.org/devdocs/release/1.20.0-notes.html#deprecations\n",
      "  max_n_alphas=1000, n_jobs=None, eps=np.finfo(np.float).eps,\n",
      "C:\\Users\\MaNinjaChan\\anaconda3\\lib\\site-packages\\sklearn\\linear_model\\_least_angle.py:1755: DeprecationWarning: `np.float` is a deprecated alias for the builtin `float`. To silence this warning, use `float` by itself. Doing this will not modify any behavior and is safe. If you specifically wanted the numpy scalar type, use `np.float64` here.\n",
      "Deprecated in NumPy 1.20; for more details and guidance: https://numpy.org/devdocs/release/1.20.0-notes.html#deprecations\n",
      "  eps=np.finfo(np.float).eps, copy_X=True, positive=False):\n",
      "C:\\Users\\MaNinjaChan\\anaconda3\\lib\\site-packages\\sklearn\\decomposition\\_lda.py:28: DeprecationWarning: `np.float` is a deprecated alias for the builtin `float`. To silence this warning, use `float` by itself. Doing this will not modify any behavior and is safe. If you specifically wanted the numpy scalar type, use `np.float64` here.\n",
      "Deprecated in NumPy 1.20; for more details and guidance: https://numpy.org/devdocs/release/1.20.0-notes.html#deprecations\n",
      "  EPS = np.finfo(np.float).eps\n",
      "C:\\Users\\MaNinjaChan\\anaconda3\\lib\\site-packages\\sklearn\\feature_extraction\\image.py:172: DeprecationWarning: `np.int` is a deprecated alias for the builtin `int`. To silence this warning, use `int` by itself. Doing this will not modify any behavior and is safe. When replacing `np.int`, you may wish to use e.g. `np.int64` or `np.int32` to specify the precision. If you wish to review your current use, check the release note link for additional information.\n",
      "Deprecated in NumPy 1.20; for more details and guidance: https://numpy.org/devdocs/release/1.20.0-notes.html#deprecations\n",
      "  dtype=np.int):\n"
     ]
    }
   ],
   "source": [
    "import regex as re\n",
    "\n",
    "# Gensim\n",
    "import gensim\n",
    "import gensim.corpora as corpora\n",
    "from gensim.utils import simple_preprocess\n",
    "\n",
    "# spacy for lemmatization\n",
    "import spacy\n",
    "\n",
    "# Plotting tools\n",
    "import pyLDAvis\n",
    "\n",
    "import nltk; "
   ]
  },
  {
   "cell_type": "code",
   "execution_count": 5,
   "metadata": {},
   "outputs": [],
   "source": [
    "# NLTK Stop words\n",
    "from nltk.corpus import stopwords\n",
    "stop_words = stopwords.words('english')\n",
    "stop_words.extend(['from', 'subject', 're', 'edu', 'use'])"
   ]
  },
  {
   "cell_type": "code",
   "execution_count": 6,
   "metadata": {},
   "outputs": [],
   "source": [
    "#Connecting to the URL on the web to access its content (Crunchyroll)\n",
    "# html=urlopen('https://www.crunchyroll.com/fullmetal-alchemist-brotherhood/reviews/helpful/page1')\n",
    "# html.status"
   ]
  },
  {
   "cell_type": "code",
   "execution_count": 7,
   "metadata": {},
   "outputs": [
    {
     "data": {
      "text/plain": [
       "200"
      ]
     },
     "execution_count": 7,
     "metadata": {},
     "output_type": "execute_result"
    }
   ],
   "source": [
    "#Connecting to the URL on the web to access its content (MAL)\n",
    "html=urlopen('https://myanimelist.net/anime/1/Cowboy_Bebop/reviews?p=1')\n",
    "html.status"
   ]
  },
  {
   "cell_type": "code",
   "execution_count": 8,
   "metadata": {},
   "outputs": [],
   "source": [
    "#Creating an instance of beautifulsoup object to begin web scraping\n",
    "bs=BeautifulSoup(html.read(),'html.parser')"
   ]
  },
  {
   "cell_type": "code",
   "execution_count": 9,
   "metadata": {},
   "outputs": [
    {
     "name": "stdout",
     "output_type": "stream",
     "text": [
      "20\n"
     ]
    }
   ],
   "source": [
    "#Acessing the container objects with the anime info \n",
    "anime_review_containers = bs.find_all('div', {'class':{'borderDark'}})\n",
    "print(len(anime_review_containers))"
   ]
  },
  {
   "cell_type": "code",
   "execution_count": 10,
   "metadata": {},
   "outputs": [],
   "source": [
    "#Creating empty lists to store all the items \n",
    "review = []"
   ]
  },
  {
   "cell_type": "code",
   "execution_count": 11,
   "metadata": {},
   "outputs": [],
   "source": [
    "# Preparing the monitoring of the loop\n",
    "start_time = time()\n",
    "request = 0"
   ]
  },
  {
   "cell_type": "code",
   "execution_count": 12,
   "metadata": {},
   "outputs": [],
   "source": [
    "#Extracting each job name in loop\n",
    "for page in range(1,22):\n",
    "    # Make a get request\n",
    "        #https://myanimelist.net/anime/genre/1/Action?page=1\n",
    "        #https://myanimelist.net/anime/genre/1/Action?page=2\n",
    "        response = get('https://myanimelist.net/anime/1/Cowboy_Bebop/reviews?p='+ str(page))\n",
    "        \n",
    "#         # Pause the loop\n",
    "#         sleep(randint(8,15))\n",
    "\n",
    "#         # Monitor the requests\n",
    "#         request += 1\n",
    "#         elapsed_time = time() - start_time\n",
    "#         print('Request:{}; Frequency: {} requests/s'.format(request, \n",
    "#                                                             request/elapsed_time))\n",
    "#         clear_output(wait = True)\n",
    "\n",
    "#         # Throw a warning for non-200 status codes\n",
    "#         if response.status_code != 200:\n",
    "#             warn('Request: {}; Status code: {}'.format(request, \n",
    "#                                                        response.status_code))\n",
    "\n",
    "#         # Break the loop if the number of requests is greater than expected\n",
    "#         if request > 100:\n",
    "#             warn('Number of requests was greater than expected.')\n",
    "#             break\n",
    "        \n",
    "        # Parse the content of the request with BeautifulSoup\n",
    "        bs = BeautifulSoup(response.text, 'html.parser')\n",
    "        \n",
    "        #Acessing the container objects with the anime info \n",
    "        anime_review_containers = bs.find_all('div', {'class':{'borderDark'}})\n",
    "\n",
    "        #Extracting all the elements \n",
    "        for container in anime_review_containers:\n",
    "        # If the movie has Metascore, then extract:\n",
    "        #  if container.find('div', {'class':{'scoremem'}})  is not None:\n",
    "        \n",
    "        # The name of anime\n",
    "            try: \n",
    "                reviews = container.find('div', {'class':'spaceit textReadability word-break pt8 mt8'})\n",
    "                review.append(reviews.text)\n",
    "            except:\n",
    "                review.append('Missing')"
   ]
  },
  {
   "cell_type": "code",
   "execution_count": 13,
   "metadata": {},
   "outputs": [
    {
     "name": "stdout",
     "output_type": "stream",
     "text": [
      "<class 'pandas.core.frame.DataFrame'>\n",
      "RangeIndex: 420 entries, 0 to 419\n",
      "Data columns (total 1 columns):\n",
      " #   Column  Non-Null Count  Dtype \n",
      "---  ------  --------------  ----- \n",
      " 0   Review  420 non-null    object\n",
      "dtypes: object(1)\n",
      "memory usage: 3.4+ KB\n",
      "None\n"
     ]
    }
   ],
   "source": [
    "#Creating a pandas dataframe to store the objects extracted\n",
    "anime_review = pd.DataFrame({'Review': review\n",
    "})\n",
    "print(anime_review.info())"
   ]
  },
  {
   "cell_type": "code",
   "execution_count": 14,
   "metadata": {},
   "outputs": [
    {
     "data": {
      "text/html": [
       "<div>\n",
       "<style scoped>\n",
       "    .dataframe tbody tr th:only-of-type {\n",
       "        vertical-align: middle;\n",
       "    }\n",
       "\n",
       "    .dataframe tbody tr th {\n",
       "        vertical-align: top;\n",
       "    }\n",
       "\n",
       "    .dataframe thead th {\n",
       "        text-align: right;\n",
       "    }\n",
       "</style>\n",
       "<table border=\"1\" class=\"dataframe\">\n",
       "  <thead>\n",
       "    <tr style=\"text-align: right;\">\n",
       "      <th></th>\n",
       "      <th>Review</th>\n",
       "    </tr>\n",
       "  </thead>\n",
       "  <tbody>\n",
       "    <tr>\n",
       "      <th>0</th>\n",
       "      <td>\\n\\n\\n\\nOverall\\n10\\n\\n\\nStory\\n10\\n\\n\\nAnimat...</td>\n",
       "    </tr>\n",
       "    <tr>\n",
       "      <th>1</th>\n",
       "      <td>\\n\\n\\n\\nOverall\\n7\\n\\n\\nStory\\n5\\n\\n\\nAnimatio...</td>\n",
       "    </tr>\n",
       "    <tr>\n",
       "      <th>2</th>\n",
       "      <td>\\n\\n\\n\\nOverall\\n6\\n\\n\\nStory\\n6\\n\\n\\nAnimatio...</td>\n",
       "    </tr>\n",
       "    <tr>\n",
       "      <th>3</th>\n",
       "      <td>\\n\\n\\n\\nOverall\\n9\\n\\n\\nStory\\n8\\n\\n\\nAnimatio...</td>\n",
       "    </tr>\n",
       "    <tr>\n",
       "      <th>4</th>\n",
       "      <td>\\n\\n\\n\\nOverall\\n10\\n\\n\\nStory\\n0\\n\\n\\nAnimati...</td>\n",
       "    </tr>\n",
       "  </tbody>\n",
       "</table>\n",
       "</div>"
      ],
      "text/plain": [
       "                                              Review\n",
       "0  \\n\\n\\n\\nOverall\\n10\\n\\n\\nStory\\n10\\n\\n\\nAnimat...\n",
       "1  \\n\\n\\n\\nOverall\\n7\\n\\n\\nStory\\n5\\n\\n\\nAnimatio...\n",
       "2  \\n\\n\\n\\nOverall\\n6\\n\\n\\nStory\\n6\\n\\n\\nAnimatio...\n",
       "3  \\n\\n\\n\\nOverall\\n9\\n\\n\\nStory\\n8\\n\\n\\nAnimatio...\n",
       "4  \\n\\n\\n\\nOverall\\n10\\n\\n\\nStory\\n0\\n\\n\\nAnimati..."
      ]
     },
     "execution_count": 14,
     "metadata": {},
     "output_type": "execute_result"
    }
   ],
   "source": [
    "# Display the top 5 rows of dataset\n",
    "anime_review.head()"
   ]
  },
  {
   "cell_type": "code",
   "execution_count": 15,
   "metadata": {},
   "outputs": [
    {
     "name": "stderr",
     "output_type": "stream",
     "text": [
      "<>:5: DeprecationWarning: invalid escape sequence \\s\n",
      "<>:5: DeprecationWarning: invalid escape sequence \\s\n",
      "<ipython-input-15-b412c0db5fd7>:5: DeprecationWarning: invalid escape sequence \\s\n",
      "  data = [re.sub('\\s+', ' ', sent) for sent in data]\n"
     ]
    },
    {
     "name": "stdout",
     "output_type": "stream",
     "text": [
      " Overall 10 Story 10 Animation 9 Sound 10 Character 10 Enjoyment 9 People who know me know that I'm not a fan of episodic anime series unless they're either one season (12-14 episodes) long or a slice of life series. Why? They have a tendency to get boring, or repetitive. But all rules and preferences have exceptions. You know what? Cowboy Bebop is that exception. The story is set in a space western setting - a genre and setting I'm loving more and more for each show I watch that falls under the genre. We follow two bounty hunters, Spike and Jet, who own a ship called the Bebop. They travel the Solar system, chasing wanted criminals to earn money. Along the way, they also pick up two women; the debt-laden Faye Valentine and the playful kid and computer genius Edward (yes, Ed&rsquo;s a girl). Each episode brings about a new bounty which they chase after, and while that doesn't sound too exciting to watch 26 episodes in a row, you'll end up loving the show. All the different events makes for a certain degree of unpredictability, and you'll sometimes wonder how things will end. However, that alone is not enough to give the story the rating I've given it. So why have I given that rating? Let's continue... One of the things that elevate the show a bit above the rest is the manner in which the main cast's pasts are explored. It's not like one flashback episode and you understand everything about how they are today. In one episode you might get one piece, and then the next one in another episode, and it's not until the final three episodes of the show that everything falls in place. This way of executing it makes you want to watch another episode, so that you can find out more about the characters (some may say that this falls in under &quot;Character&quot;, but the manner in which the pasts are explored are more &quot;Story&quot; than &quot;Character&quot;, IMO). Now, that's so far a 9 for the story. Why did it deserve a 10? The answer is easy: the way they executed many scenes in the show. The contrasts which you get to see between, music, the setting of scenes and what's really happening just gives the story that extra edge deserving of a perfect score. The characters are all really good and interesting fellows. Though they every now and then reminded me of characters from other shows, they preserved that originality which gave a feel that they were, if not completely, then at least a little bit more real than most characters out there. The way their pasts intertwine with the future and how everything ends with them confronting and settling open ends from their pasts is also something that's impressive to watch. I don't really have anything more to say than &quot;perfect&quot;. The animation is, for a 90s anime, stunningly good. The detail put into backgrounds and surroundings is really good, and I also love how good lighting effects and shading are at times. All of Ed&rsquo;s strange movements are animated really nicely too. If there's something negative, it's the somewhat dull coloring (compared to today's standards), as well as poor effects when traveling in hyperspace. The soundtrack is also astounding! The music used for the show is so incredibly varied, and while keeping mostly to the more jazzy tunes, the soundtrack visits so many genres that it's hard to not like at least a few pieces. What I also loved is the way the music was used not only as a medium to go with and amplify the mood, but also as a contrast to what's happening in several scenes. All in all, it's really amazing. Don't have anything to say against voice acting and other sound effects either. All in all Cowboy Bebop is an anime that&rsquo;s in the top tier on the greatness scale, and a show I believe every anime fan should give a try. To 'Not Helpful' voters (and you 'Helpful' voters too): Feedback greatly appreciated =) Helpful read more \n"
     ]
    }
   ],
   "source": [
    "# Convert to list\n",
    "data = anime_review['Review'].tolist()\n",
    "\n",
    "# Remove new line characters\n",
    "data = [re.sub('\\s+', ' ', sent) for sent in data]\n",
    "\n",
    "print(data[0])"
   ]
  },
  {
   "cell_type": "code",
   "execution_count": 16,
   "metadata": {},
   "outputs": [
    {
     "name": "stdout",
     "output_type": "stream",
     "text": [
      "['overall', 'story', 'animation', 'sound', 'character', 'enjoyment', 'people', 'who', 'know', 'me', 'know', 'that', 'not', 'fan', 'of', 'episodic', 'anime', 'series', 'unless', 'they', 're', 'either', 'one', 'season', 'episodes', 'long', 'or', 'slice', 'of', 'life', 'series', 'why', 'they', 'have', 'tendency', 'to', 'get', 'boring', 'or', 'repetitive', 'but', 'all', 'rules', 'and', 'preferences', 'have', 'exceptions', 'you', 'know', 'what', 'cowboy', 'bebop', 'is', 'that', 'exception', 'the', 'story', 'is', 'set', 'in', 'space', 'western', 'setting', 'genre', 'and', 'setting', 'loving', 'more', 'and', 'more', 'for', 'each', 'show', 'watch', 'that', 'falls', 'under', 'the', 'genre', 'we', 'follow', 'two', 'bounty', 'hunters', 'spike', 'and', 'jet', 'who', 'own', 'ship', 'called', 'the', 'bebop', 'they', 'travel', 'the', 'solar', 'system', 'chasing', 'wanted', 'criminals', 'to', 'earn', 'money', 'along', 'the', 'way', 'they', 'also', 'pick', 'up', 'two', 'women', 'the', 'debt', 'laden', 'faye', 'valentine', 'and', 'the', 'playful', 'kid', 'and', 'computer', 'genius', 'edward', 'yes', 'ed', 'rsquo', 'girl', 'each', 'episode', 'brings', 'about', 'new', 'bounty', 'which', 'they', 'chase', 'after', 'and', 'while', 'that', 'doesn', 'sound', 'too', 'exciting', 'to', 'watch', 'episodes', 'in', 'row', 'you', 'll', 'end', 'up', 'loving', 'the', 'show', 'all', 'the', 'different', 'events', 'makes', 'for', 'certain', 'degree', 'of', 'and', 'you', 'll', 'sometimes', 'wonder', 'how', 'things', 'will', 'end', 'however', 'that', 'alone', 'is', 'not', 'enough', 'to', 'give', 'the', 'story', 'the', 'rating', 've', 'given', 'it', 'so', 'why', 'have', 'given', 'that', 'rating', 'let', 'continue', 'one', 'of', 'the', 'things', 'that', 'elevate', 'the', 'show', 'bit', 'above', 'the', 'rest', 'is', 'the', 'manner', 'in', 'which', 'the', 'main', 'cast', 'pasts', 'are', 'explored', 'it', 'not', 'like', 'one', 'flashback', 'episode', 'and', 'you', 'understand', 'everything', 'about', 'how', 'they', 'are', 'today', 'in', 'one', 'episode', 'you', 'might', 'get', 'one', 'piece', 'and', 'then', 'the', 'next', 'one', 'in', 'another', 'episode', 'and', 'it', 'not', 'until', 'the', 'final', 'three', 'episodes', 'of', 'the', 'show', 'that', 'everything', 'falls', 'in', 'place', 'this', 'way', 'of', 'executing', 'it', 'makes', 'you', 'want', 'to', 'watch', 'another', 'episode', 'so', 'that', 'you', 'can', 'find', 'out', 'more', 'about', 'the', 'characters', 'some', 'may', 'say', 'that', 'this', 'falls', 'in', 'under', 'quot', 'character', 'quot', 'but', 'the', 'manner', 'in', 'which', 'the', 'pasts', 'are', 'explored', 'are', 'more', 'quot', 'story', 'quot', 'than', 'quot', 'character', 'quot', 'imo', 'now', 'that', 'so', 'far', 'for', 'the', 'story', 'why', 'did', 'it', 'deserve', 'the', 'answer', 'is', 'easy', 'the', 'way', 'they', 'executed', 'many', 'scenes', 'in', 'the', 'show', 'the', 'contrasts', 'which', 'you', 'get', 'to', 'see', 'between', 'music', 'the', 'setting', 'of', 'scenes', 'and', 'what', 'really', 'happening', 'just', 'gives', 'the', 'story', 'that', 'extra', 'edge', 'deserving', 'of', 'perfect', 'score', 'the', 'characters', 'are', 'all', 'really', 'good', 'and', 'interesting', 'fellows', 'though', 'they', 'every', 'now', 'and', 'then', 'reminded', 'me', 'of', 'characters', 'from', 'other', 'shows', 'they', 'preserved', 'that', 'originality', 'which', 'gave', 'feel', 'that', 'they', 'were', 'if', 'not', 'completely', 'then', 'at', 'least', 'little', 'bit', 'more', 'real', 'than', 'most', 'characters', 'out', 'there', 'the', 'way', 'their', 'pasts', 'intertwine', 'with', 'the', 'future', 'and', 'how', 'everything', 'ends', 'with', 'them', 'confronting', 'and', 'settling', 'open', 'ends', 'from', 'their', 'pasts', 'is', 'also', 'something', 'that', 'impressive', 'to', 'watch', 'don', 'really', 'have', 'anything', 'more', 'to', 'say', 'than', 'quot', 'perfect', 'quot', 'the', 'animation', 'is', 'for', 'anime', 'stunningly', 'good', 'the', 'detail', 'put', 'into', 'backgrounds', 'and', 'surroundings', 'is', 'really', 'good', 'and', 'also', 'love', 'how', 'good', 'lighting', 'effects', 'and', 'shading', 'are', 'at', 'times', 'all', 'of', 'ed', 'rsquo', 'strange', 'movements', 'are', 'animated', 'really', 'nicely', 'too', 'if', 'there', 'something', 'negative', 'it', 'the', 'somewhat', 'dull', 'coloring', 'compared', 'to', 'today', 'standards', 'as', 'well', 'as', 'poor', 'effects', 'when', 'traveling', 'in', 'hyperspace', 'the', 'soundtrack', 'is', 'also', 'astounding', 'the', 'music', 'used', 'for', 'the', 'show', 'is', 'so', 'incredibly', 'varied', 'and', 'while', 'keeping', 'mostly', 'to', 'the', 'more', 'jazzy', 'tunes', 'the', 'soundtrack', 'visits', 'so', 'many', 'genres', 'that', 'it', 'hard', 'to', 'not', 'like', 'at', 'least', 'few', 'pieces', 'what', 'also', 'loved', 'is', 'the', 'way', 'the', 'music', 'was', 'used', 'not', 'only', 'as', 'medium', 'to', 'go', 'with', 'and', 'amplify', 'the', 'mood', 'but', 'also', 'as', 'contrast', 'to', 'what', 'happening', 'in', 'several', 'scenes', 'all', 'in', 'all', 'it', 'really', 'amazing', 'don', 'have', 'anything', 'to', 'say', 'against', 'voice', 'acting', 'and', 'other', 'sound', 'effects', 'either', 'all', 'in', 'all', 'cowboy', 'bebop', 'is', 'an', 'anime', 'that', 'rsquo', 'in', 'the', 'top', 'tier', 'on', 'the', 'greatness', 'scale', 'and', 'show', 'believe', 'every', 'anime', 'fan', 'should', 'give', 'try', 'to', 'not', 'helpful', 'voters', 'and', 'you', 'helpful', 'voters', 'too', 'feedback', 'greatly', 'appreciated', 'helpful', 'read', 'more']\n"
     ]
    }
   ],
   "source": [
    "# Clean and tokenize the reviews\n",
    "\n",
    "def sent_to_words(sentences):\n",
    "    for sentence in sentences:\n",
    "        yield(gensim.utils.simple_preprocess(str(sentence), deacc=True))  # deacc=True removes punctuations\n",
    "        \n",
    "data_words = list(sent_to_words(data))\n",
    "\n",
    "print(data_words[0])"
   ]
  },
  {
   "cell_type": "code",
   "execution_count": 17,
   "metadata": {},
   "outputs": [
    {
     "name": "stdout",
     "output_type": "stream",
     "text": [
      "['overall', 'story', 'animation', 'sound', 'character', 'enjoyment', 'cowboy', 'bebop', 'was', 'one', 'of', 'the', 'first', 'anime', 'that', 'truly', 'impressed', 'me', 'one', 'of', 'the', 'first', 'anime', 'that', 'convinced', 'me', 'the', 'anime', 'genre', 'as', 'whole', 'had', 'something', 'going', 'for', 'it', 'that', 'anime', 'has', 'qualities', 'that', 'separate', 'it', 'from', 'other', 'forms', 'of', 'entertainment', 'it', 'is', 'show', 'that', 'has', 'withstood', 'the', 'test', 'of', 'time', 'and', 'is', 'often', 'viewed', 'as', 'masterpiece', 'by', 'many', 'with', 'such', 'popularity', 'and', 'praise', 'there', 'is', 'bound', 'to', 'be', 'group', 'of', 'the', 'opposite', 'extreme', 'that', 'dislike', 'the', 'show', 'now', 'bear', 'in', 'my', 'mind', 'that', 'although', 'this', 'group', 'is', 'minority', 'their', 'points', 'are', 'valid', 'as', 'reviewer', 'look', 'at', 'all', 'angles', 'and', 'try', 'my', 'best', 'to', 'keep', 'bias', 'at', 'an', 'all', 'time', 'low', 'having', 'said', 'that', 'regardless', 'of', 'my', 'attempts', 'to', 'locate', 'the', 'flaws', 'of', 'this', 'show', 'my', 'overall', 'consensus', 'is', 'that', 'cowboy', 'bebop', 'is', 'in', 'multiple', 'ways', 'masterpiece', 'here', 'goes', 'the', 'review', 'spoilers', 'are', 'at', 'minimum', 'story', 'when', 'most', 'people', 'think', 'about', 'what', 'society', 'would', 'be', 'like', 'by', 'the', 'time', 'space', 'exploration', 'is', 'achieved', 'they', 'imagine', 'society', 'that', 'is', 'more', 'organized', 'coherent', 'and', 'advanced', 'this', 'is', 'one', 'of', 'the', 'key', 'misconceptions', 'that', 'cause', 'cowboy', 'bebop', 'story', 'to', 'shine', 'we', 'start', 'our', 'episodic', 'space', 'journey', 'in', 'an', 'environment', 'that', 'is', 'futuristic', 'yet', 'in', 'many', 'ways', 'primitive', 'watanabe', 'shinichiro', 'depiction', 'of', 'the', 'cowboy', 'bebop', 'universe', 'seamlessly', 'fuses', 'the', 'attitudes', 'and', 'tensions', 'of', 'western', 'shooter', 'with', 'the', 'atmosphere', 'of', 'vast', 'unexplored', 'space', 'due', 'to', 'the', 'inability', 'of', 'the', 'police', 'to', 'handle', 'all', 'criminals', 'in', 'such', 'large', 'area', 'bounty_hunting', 'is', 'encouraged', 'through', 'media', 'our', 'four', 'main', 'characters', 'discussed', 'more', 'in', 'the', 'character', 'section', 'just', 'so', 'happen', 'to', 'be', 'bounty_hunters', 'that', 'are', 'all', 'unwillingly', 'bound', 'together', 'by', 'greed', 'revenge', 'coincidence', 'and', 'or', 'desire', 'furthermore', 'little', 'to', 'no', 'background', 'information', 'is', 'given', 'about', 'any', 'of', 'the', 'characters', 'from', 'the', 'beginning', 'each', 'character', 'has', 'past', 'that', 'is', 'hinted', 'throughout', 'many', 'episodes', 'slowly', 'the', 'audience', 'learns', 'of', 'the', 'sins', 'misfortunes', 'and', 'tragedies', 'that', 'quietly', 'haunt', 'those', 'aboard', 'the', 'spaceship', 'of', 'bebop', 'and', 'so', 'this', 'is', 'the', 'world', 'us', 'the', 'viewers', 'are', 'thrust', 'into', 'and', 'what', 'an', 'amazingly', 'unique', 'barren', 'world', 'it', 'is', 'being', 'for', 'the', 'most', 'part', 'episodic', 'viewers', 'may', 'be', 'deterred', 'by', 'the', 'looseness', 'and', 'seemingly', 'pointlessness', 'of', 'certain', 'episodes', 'be', 'aware', 'that', 'although', 'episodic', 'each', 'episode', 'develops', 'the', 'characters', 'and', 'is', 'key', 'to', 'forming', 'the', 'bonds', 'that', 'will', 'ultimately', 'culminate', 'the', 'multiple', 'climaxes', 'of', 'the', 'story', 'art', 'do', 'not', 'let', 'age', 'fool', 'you', 'despite', 'being', 'over', 'decade', 'and', 'half', 'old', 'the', 'animations', 'in', 'cowboy', 'bebop', 'are', 'amazing', 'in', 'providing', 'the', 'dangerous', 'rugged', 'environment', 'of', 'criminal', 'filled', 'space', 'in', 'fact', 'the', 'art', 'is', 'more', 'of', 'positive', 'than', 'negative', 'gone', 'are', 'the', 'crisp', 'saturated', 'art', 'of', 'modern', 'day', 'the', 'outdated', 'animations', 'contribute', 'greatly', 'to', 'the', 'classy', 'western', 'style', 'of', 'the', 'anime', 'everything', 'from', 'the', 'smoke', 'of', 'cigarettes', 'to', 'guns', 'ablazing', 'are', 'portrayed', 'brilliantly', 'the', 'choreography', 'of', 'martial_arts', 'and', 'space', 'flight', 'is', 'done', 'in', 'fluid', 'and', 'smooth', 'fashion', 'the', 'characters', 'look', 'great', 'and', 'production', 'never', 'seems', 'to', 'dip', 'for', 'single', 'moment', 'three', 'simple', 'words', 'can', 'summarize', 'the', 'art', 'rugged', 'yet', 'classy', 'and', 'so', 'in', 'trying', 'my', 'absolute', 'best', 'to', 'pinpoint', 'the', 'flaws', 'of', 'the', 'art', 'am', 'both', 'reluctant', 'and', 'glad', 'to', 'announce', 'that', 'have', 'failed', 'in', 'doing', 'so', 'cowboy', 'bebop', 'art', 'is', 'amazingly', 'well', 'done', 'even', 'for', 'today_standards', 'knowing', 'in', 'the', 'back', 'of', 'your', 'head', 'that', 'this', 'art', 'originates', 'from', 'is', 'just', 'icing', 'on', 'the', 'cake', 'sound', 'earlier', 'in', 'my', 'review', 'talked', 'about', 'how', 'with', 'much', 'praise', 'and', 'popularity', 'ultimately', 'spawns', 'group', 'with', 'ideals', 'of', 'the', 'opposite', 'extreme', 'wholeheartedly', 'believe', 'that', 'it', 'is', 'safe', 'to', 'say', 'that', 'regardless', 'of', 'your', 'ideas', 'about', 'cowboy', 'bebop', 'everyone', 'can', 'agree', 'that', 'the', 'music', 'in', 'this', 'anime', 'is', 'absolutely', 'amazing', 'so', 'amazing', 'that', 'without', 'the', 'music', 'believe', 'that', 'cowboy', 'bebop', 'would', 'never', 'have', 'achieved', 'the', 'success', 'it', 'has', 'had', 'to', 'this', 'day', 'never', 'have', 'come_across', 'another', 'example', 'such', 'as', 'cowboy', 'bebop', 'where', 'the', 'music', 'is', 'such', 'an', 'integral', 'part', 'of', 'the', 'show', 'from', 'the', 'blues', 'riffs', 'of', 'slide', 'guitars', 'to', 'the', 'unmatched', 'soul', 'of', 'harmonica', 'solos', 'the', 'music', 'in', 'cowboy', 'bebop', 'does', 'its', 'job', 'to', 'say', 'that', 'the', 'the', 'music', 'is', 'fitting', 'would', 'be', 'an', 'understatement', 'cowboy', 'bebop', 'music', 'boosts', 'the', 'atmosphere', 'and', 'situation', 'of', 'every', 'scene', 'to', 'its', 'highest', 'potential', 'and', 'provides', 'convincing', 'atmosphere', 'like', 'no', 'other', 'the', 'dub', 'of', 'cowboy', 'bebop', 'is', 'the', 'arguably', 'the', 'most', 'highly', 'praised', 'dub', 'ever', 'produced', 'in', 'the', 'anime', 'industry', 'watanabe', 'shinichiro', 'himself', 'has', 'even', 'stated', 'that', 'he', 'believed', 'the', 'english_dub', 'surpasses', 'the', 'japanese', 'dub', 'feat', 'that', 'is', 'notoriously', 'rare', 'every', 'character', 'voice', 'is', 'portrayed', 'brilliantly', 'with', 'every', 'word', 'filled', 'with', 'real', 'human', 'emotion', 'convincingly', 'raw', 'and', 'powerful', 'have', 'yet', 'to', 'stumble', 'across', 'another', 'instance', 'where', 'the', 'voice_acting', 'was', 'this', 'well', 'done', 'honestly', 'can', 'not', 'think', 'up', 'single', 'flaw', 'of', 'the', 'voice_acting', 'even', 'while', 'keeping', 'bias', 'at', 'minimum', 'the', 'english', 'voice_acting', 'is', 'truly', 'one', 'of', 'kind', 'in', 'world', 'of', 'horribly', 'ear', 'wrenching', 'dubs', 'the', 'op', 'and', 'the', 'ed', 'of', 'cowboy', 'bebop', 'are', 'probably', 'one', 'of', 'the', 'most', 'popular', 'opening', 'and', 'ending', 'themes', 'of', 'all', 'time', 'the', 'op', 'tank', 'by', 'the', 'seatbelts', 'is', 'jazzy', 'explosion', 'of', 'adrenaline', 'listening', 'to', 'it', 'is', 'joy', 'and', 'pumps', 'the', 'viewer', 'eagerness', 'to', 'watch', 'the', 'episode', 'it', 'keeps', 'you', 'on', 'your', 'feet', 'and', 'is', 'in', 'many', 'ways', 'the', 'most', 'famous', 'trademark', 'of', 'the', 'cowboy', 'bebop', 'series', 'the', 'ed', 'for', 'most', 'of', 'the', 'show', 'the', 'real_folk', 'blues', 'by', 'the', 'seatbelts', 'feat', 'mai', 'yamane', 'is', 'equally', 'as', 'amazing', 'but', 'instead', 'of', 'pumping', 'the', 'viewer', 'eagerness', 'the', 'ed', 'in', 'turn', 'helps', 'the', 'viewer', 'digest', 'what', 'was', 'just', 'displayed', 'on', 'the', 'screen', 'listening', 'to', 'the', 'ed', 'causes', 'heartwarming', 'scenes', 'to', 'be', 'that', 'much', 'more', 'heartwarming', 'while', 'heartbreaking', 'scenes', 'to', 'be', 'that', 'much', 'more', 'heartbreaking', 'the', 'real_folk', 'blues', 'is', 'beautiful', 'jazzy', 'blues', 'inspired', 'song', 'sung', 'over', 'with', 'mai', 'yamane', 'powerful', 'voice', 'the', 'ed', 'only', 'changes', 'twice', 'in', 'the', 'anime', 'each', 'change', 'being', 'only', 'for', 'one', 'episode', 'as', 'reviewer', 'would', 'not', 'feel', 'right', 'about', 'spoiling', 'the', 'timing', 'of', 'the', 'ed', 'changes', 'because', 'they', 'are', 'in', 'my', 'opinion', 'some', 'of', 'the', 'most', 'powerful', 'moments', 'of', 'the', 'anime', 'and', 'so', 'this', 'last', 'bit', 'shall', 'let', 'the', 'viewer', 'experience', 'character', 'cowboy', 'bebop', 'has', 'one', 'of', 'the', 'most', 'memorable', 'casts', 'of', 'any', 'show', 'have', 'ever', 'watched', 'they', 'are', 'eccentric', 'unique', 'strong', 'willed', 'and', 'powerfully', 'convincing', 'we', 'have', 'spike_spiegel', 'who', 'is', 'male', 'bounty_hunter', 'in', 'his', 'late', 'twenties', 'that', 'is', 'trying', 'to', 'escape', 'an', 'inescapable', 'past', 'jet_black', 'the', 'father', 'like', 'figure', 'of', 'the', 'spaceship', 'bebop', 'who', 'has', 'been', 'stricken', 'by', 'unjust', 'tragedies', 'faye_valentine', 'the', 'strong', 'independent', 'con', 'artist', 'who', 'is', 'kept', 'in', 'the', 'dark', 'about', 'her', 'own', 'life', 'and', 'last', 'but', 'not', 'least', 'edward', 'the', 'androgynous', 'female', 'teenage', 'hacker', 'with', 'background', 'as', 'confusing', 'as', 'herself', 'as', 'mentioned_earlier', 'they', 'are', 'for', 'the', 'most', 'part', 'unwillingly', 'bound', 'together', 'by', 'greed', 'revenge', 'coincidence', 'and', 'or', 'desire', 'this', 'is', 'what', 'is', 'so', 'great', 'about', 'the', 'characters', 'in', 'cowboy', 'bebop', 'they', 'all', 'start', 'off', 'the', 'show', 'hating', 'each', 'other', 'the', 'reluctant', 'and', 'slow', 'change', 'of', 'their', 'relationships', 'is', 'humorous', 'real', 'and', 'convincing', 'the', 'climatic', 'points', 'of', 'the', 'show', 'are', 'the', 'episodes', 'in', 'which', 'bits', 'and', 'pieces', 'of', 'each', 'crew', 'member', 'past', 'is', 'slowly', 'revealed', 'we', 'get', 'to', 'see', 'and', 'feel', 'what', 'they', 'were', 'hiding', 'and', 'the', 'raw', 'emotions', 'that', 'they', 'feel', 'each', 'character', 'is', 'its', 'own', 'little', 'mystery', 'that', 'keeps', 'the', 'audience', 'in', 'the', 'dark', 'easily', 'the', 'most', 'impressive', 'aspect', 'of', 'cowboy', 'bebop', 'is', 'the', 'portrayal', 'of', 'the', 'characters', 'the', 'crew', 'deals', 'with', 'grief', 'anger', 'sadness', 'and', 'all', 'else', 'in', 'their', 'own', 'unique', 'ways', 'and', 'rarely', 'deviate', 'how', 'shinichiro', 'portrays', 'this', 'uniqueness', 'is', 'simply', 'amazing', 'the', 'characters', 'never', 'falter', 'and', 'always', 'stay', 'true', 'to', 'themselves', 'as', 'the', 'episodes', 'roll', 'by', 'the', 'audience', 'starts', 'to', 'understand', 'why', 'each', 'character', 'acts', 'the', 'way', 'they', 'do', 'and', 'can', 'relate', 'this', 'understanding', 'makes', 'it', 'unbearably', 'easy', 'for', 'the', 'audience', 'to', 'become', 'emotionally', 'attached', 'to', 'each', 'crew', 'member', 'as', 'we', 'share', 'their', 'pain', 'and', 'memories', 'all', 'in', 'all', 'the', 'characters', 'of', 'cowboy', 'bebop', 'are', 'outstanding', 'their', 'strengths', 'overcome', 'their', 'flaws', 'when', 'united', 'as', 'whole', 'beautifully', 'drawn', 'and', 'creative', 'shinichiro', 'has', 'invented', 'golden', 'cast', 'overall', 'enjoyment', 'even', 'after', 'watching', 'dozens', 'of', 'anime', 'after', 'cowboy', 'bebop', 'it', 'still', 'strongly', 'remains', 'one', 'of', 'my', 'few', 'masterpieces', 'amazing', 'story', 'beautiful', 'and', 'impressive', 'art', 'gorgeous', 'heart', 'pounding', 'music', 'cast', 'like', 'no', 'other', 'cowboy', 'bebop', 'is', 'in', 'my', 'eyes', 'masterpiece', 'of', 'entertainment', 'with', 'its', 'flaws', 'being', 'few', 'and', 'far', 'in', 'between', 'an', 'instant', 'classic', 'and', 'an', 'easy', 'out', 'of', 'helpful_read', 'more']\n"
     ]
    }
   ],
   "source": [
    "# Create bigrams, remove stop words and lemmatize the reviews\n",
    "\n",
    "# Build the bigram models\n",
    "bigram = gensim.models.Phrases(data_words, min_count=5, threshold=100) # higher threshold fewer phrases.\n",
    "\n",
    "# Faster way to get a sentence clubbed as a trigram/bigram\n",
    "bigram_mod = gensim.models.phrases.Phraser(bigram)\n",
    "\n",
    "print(bigram_mod[data_words[4]])"
   ]
  },
  {
   "cell_type": "code",
   "execution_count": 18,
   "metadata": {},
   "outputs": [],
   "source": [
    "# Defining removing stopwords\n",
    "def remove_stopwords(texts):\n",
    "    return [[word for word in simple_preprocess(str(doc)) if word not in stop_words] for doc in texts]\n",
    "\n",
    "# Defining making bigrams\n",
    "def make_bigrams(texts):\n",
    "    return [bigram_mod[doc] for doc in texts]\n",
    "\n",
    "# Defining lemmatization\n",
    "def lemmatization(texts, allowed_postags=['NOUN', 'ADJ', 'VERB', 'ADV']):\n",
    "    texts_out = []\n",
    "    for sent in texts:\n",
    "        doc = nlp(\" \".join(sent)) \n",
    "        texts_out.append([token.lemma_ for token in doc if token.pos_ in allowed_postags])\n",
    "    return texts_out"
   ]
  },
  {
   "cell_type": "code",
   "execution_count": 19,
   "metadata": {},
   "outputs": [
    {
     "name": "stdout",
     "output_type": "stream",
     "text": [
      "['overall', 'story', 'animation', 'sound', 'character', 'enjoyment', 'people', 'know', 'know', 'fan', 'episodic', 'anime', 'series', 'season', 'episode', 'long', 'slice', 'life', 'series', 'tendency', 'get', 'bore', 'repetitive', 'rule', 'preference', 'exception', 'know', 'cowboy', 'bebop', 'exception', 'story', 'set', 'space', 'western', 'set', 'genre', 'set', 'love', 'show', 'watch', 'fall', 'genre', 'follow', 'bounty_hunter', 'spike', 'jet', 'ship', 'call', 'bebop', 'travel', 'chasing', 'want', 'criminal', 'earn', 'money', 'way', 'also', 'pick', 'woman', 'debt', 'laden', 'faye_valentine', 'playful', 'kid', 'computer', 'genius', 'edward', 'rsquo', 'girl', 'episode', 'bring', 'new', 'bounty', 'chase', 'sound', 'exciting', 'watch', 'episode', 'row', 'end', 'loving', 'show', 'different', 'event', 'make', 'certain', 'degree', 'sometimes', 'wonder', 'thing', 'end', 'however', 'alone', 'enough', 'give', 'story', 'rating', 'give', 'give', 'rating', 'let', 'continue', 'thing', 'elevate', 'show', 'bit', 'rest', 'manner', 'main', 'cast', 'past', 'explore', 'flashback', 'episode', 'understand', 'today', 'episode', 'get', 'piece', 'episode', 'final', 'episode', 'show', 'fall', 'place', 'way', 'execute', 'make', 'want', 'watch', 'episode', 'find', 'character', 'say', 'fall', 'quot', 'character', 'quot', 'manner', 'past', 'explore', 'quot', 'story', 'quot', 'quot', 'character', 'quot', 'imo', 'far', 'story', 'deserve', 'answer', 'easy', 'way', 'execute', 'many', 'scene', 'show', 'contrast', 'get', 'see', 'music', 'set', 'scene', 'really', 'happen', 'give', 'story', 'extra', 'edge', 'deserve', 'perfect', 'score', 'character', 'really', 'good', 'interesting', 'fellow', 'remind', 'character', 'show', 'preserved', 'originality', 'give', 'feel', 'completely', 'least', 'little', 'bit', 'real', 'character', 'way', 'past', 'intertwine', 'future', 'end', 'confront', 'settle', 'open', 'end', 'past', 'also', 'impressive', 'watch', 'really', 'say', 'quot', 'perfect', 'quot', 'animation', 'anime', 'stunningly', 'good', 'detail', 'put', 'background', 'surrounding', 'really', 'good', 'also', 'love', 'good', 'lighting', 'effect', 'shade', 'time', 'ed', 'rsquo', 'strange', 'movement', 'animate', 'really', 'nicely', 'negative', 'somewhat', 'dull', 'coloring', 'compare', 'today_standard', 'poor', 'effect', 'travel', 'hyperspace', 'soundtrack', 'also', 'astounding', 'music', 'use', 'show', 'incredibly', 'varied', 'keeping', 'mostly', 'jazzy', 'tune', 'soundtrack', 'visit', 'many', 'genre', 'hard', 'least', 'piece', 'also', 'love', 'way', 'music', 'use', 'medium', 'go', 'amplify', 'mood', 'also', 'contrast', 'happen', 'several', 'scene', 'really', 'amazing', 'say', 'voice_acte', 'sound', 'effect', 'cowboy', 'bebop', 'anime', 'rsquo', 'top', 'tier', 'greatness', 'scale', 'show', 'believe', 'anime', 'fan', 'give', 'try', 'helpful', 'voter', 'helpful', 'voter', 'feedback', 'greatly', 'appreciate']\n"
     ]
    }
   ],
   "source": [
    "# Remove Stop Words\n",
    "data_words_nostops = remove_stopwords(data_words)\n",
    "\n",
    "# Form Bigrams\n",
    "data_words_bigrams = make_bigrams(data_words_nostops)\n",
    "\n",
    "# Initialize spacy 'en' model, keeping only tagger component (for efficiency)\n",
    "# python3 -m spacy download en\n",
    "nlp = spacy.load('en_core_web_sm', disable=['parser', 'ner'])\n",
    "\n",
    "# Do lemmatization keeping only noun, adj, vb, adv\n",
    "data_lemmatized = lemmatization(data_words_bigrams, allowed_postags=['NOUN', 'ADJ', 'VERB', 'ADV'])\n",
    "\n",
    "print(data_lemmatized[0])"
   ]
  },
  {
   "cell_type": "code",
   "execution_count": 20,
   "metadata": {},
   "outputs": [
    {
     "name": "stdout",
     "output_type": "stream",
     "text": [
      "[(0, 1), (1, 6), (2, 1), (3, 1), (4, 1), (5, 2), (6, 4), (7, 1), (8, 1), (9, 1), (10, 1), (11, 3), (12, 1), (13, 2), (14, 1), (15, 1), (16, 1), (17, 1), (18, 1), (19, 1), (20, 1), (21, 7), (22, 1), (23, 1), (24, 1), (25, 1), (26, 1), (27, 1), (28, 1), (29, 1), (30, 2), (31, 2), (32, 1), (33, 1), (34, 1), (35, 2), (36, 1), (37, 1), (38, 1), (39, 1), (40, 1), (41, 1), (42, 1), (43, 1), (44, 3), (45, 1), (46, 4), (47, 1), (48, 1), (49, 8), (50, 1), (51, 1), (52, 2), (53, 1), (54, 2), (55, 2), (56, 1), (57, 3), (58, 2), (59, 1), (60, 1), (61, 1), (62, 1), (63, 1), (64, 1), (65, 1), (66, 1), (67, 1), (68, 1), (69, 1), (70, 3), (71, 3), (72, 1), (73, 6), (74, 1), (75, 4), (76, 1), (77, 1), (78, 2), (79, 1), (80, 2), (81, 1), (82, 1), (83, 1), (84, 1), (85, 1), (86, 1), (87, 1), (88, 1), (89, 1), (90, 1), (91, 1), (92, 3), (93, 1), (94, 2), (95, 1), (96, 1), (97, 1), (98, 1), (99, 1), (100, 3), (101, 1), (102, 1), (103, 2), (104, 2), (105, 2), (106, 1), (107, 1), (108, 1), (109, 1), (110, 1), (111, 3), (112, 1), (113, 1), (114, 1), (115, 1), (116, 1), (117, 1), (118, 4), (119, 1), (120, 2), (121, 1), (122, 2), (123, 1), (124, 1), (125, 1), (126, 1), (127, 1), (128, 1), (129, 8), (130, 2), (131, 1), (132, 6), (133, 1), (134, 1), (135, 1), (136, 1), (137, 3), (138, 1), (139, 3), (140, 1), (141, 3), (142, 1), (143, 1), (144, 1), (145, 2), (146, 4), (147, 1), (148, 1), (149, 1), (150, 1), (151, 8), (152, 1), (153, 1), (154, 1), (155, 3), (156, 2), (157, 1), (158, 1), (159, 6), (160, 1), (161, 1), (162, 1), (163, 1), (164, 2), (165, 1), (166, 1), (167, 1), (168, 1), (169, 1), (170, 2), (171, 1), (172, 1), (173, 1), (174, 2), (175, 1), (176, 1), (177, 1), (178, 2), (179, 2), (180, 4), (181, 5), (182, 1), (183, 1), (184, 1)]\n"
     ]
    }
   ],
   "source": [
    "# Create Dictionary\n",
    "id2word = corpora.Dictionary(data_lemmatized)\n",
    "\n",
    "# Create Corpus\n",
    "texts = data_lemmatized\n",
    "\n",
    "# Term Document Frequency\n",
    "corpus = [id2word.doc2bow(text) for text in texts]\n",
    "\n",
    "# View\n",
    "print(corpus[0])"
   ]
  },
  {
   "cell_type": "code",
   "execution_count": 21,
   "metadata": {},
   "outputs": [
    {
     "name": "stdout",
     "output_type": "stream",
     "text": [
      "[(0, '0.000*\"bebop\" + 0.000*\"cowboy\" + 0.000*\"episode\" + 0.000*\"anime\" + 0.000*\"story\" + 0.000*\"show\" + 0.000*\"character\" + 0.000*\"good\" + 0.000*\"watch\" + 0.000*\"spike\"'), (1, '0.010*\"simplistic\" + 0.002*\"sentence\" + 0.001*\"crappy\" + 0.001*\"fortunately\" + 0.001*\"quintet\" + 0.001*\"unlucky\" + 0.001*\"engine\" + 0.001*\"prey\" + 0.001*\"punchy\" + 0.001*\"prestigious\"'), (2, '0.000*\"bebop\" + 0.000*\"anime\" + 0.000*\"character\" + 0.000*\"cowboy\" + 0.000*\"series\" + 0.000*\"show\" + 0.000*\"even\" + 0.000*\"time\" + 0.000*\"well\" + 0.000*\"story\"'), (3, '0.009*\"spike\" + 0.007*\"crew\" + 0.006*\"past\" + 0.006*\"day\" + 0.005*\"matter\" + 0.005*\"vicious\" + 0.005*\"become\" + 0.005*\"individual\" + 0.005*\"support\" + 0.005*\"long\"'), (4, '0.027*\"character\" + 0.022*\"anime\" + 0.020*\"bebop\" + 0.020*\"show\" + 0.017*\"story\" + 0.016*\"cowboy\" + 0.015*\"episode\" + 0.012*\"watch\" + 0.011*\"series\" + 0.010*\"good\"'), (5, '0.003*\"fu\" + 0.003*\"kung\" + 0.001*\"pocky\" + 0.001*\"freezer\" + 0.001*\"fulfil\" + 0.001*\"weirdo\" + 0.001*\"mario\" + 0.001*\"bait\" + 0.001*\"hibernate\" + 0.001*\"quarantine\"'), (6, '0.027*\"dad\" + 0.015*\"presentation\" + 0.012*\"bepop\" + 0.012*\"bond\" + 0.011*\"weapon\" + 0.008*\"moe\" + 0.006*\"pistol\" + 0.006*\"gift\" + 0.006*\"m\" + 0.005*\"concert\"'), (7, '0.018*\"rsquo\" + 0.008*\"painstakingly\" + 0.003*\"rdquo\" + 0.003*\"ldquo\" + 0.001*\"aerial\" + 0.001*\"ranma\" + 0.001*\"woody\" + 0.001*\"allen\" + 0.001*\"unanswered\" + 0.001*\"footwork\"')]\n"
     ]
    }
   ],
   "source": [
    "# Using LDA to develop a topic model with 8 models\n",
    "\n",
    "lda_model = gensim.models.ldamodel.LdaModel(corpus=corpus,\n",
    "                                           id2word=id2word,\n",
    "                                           num_topics=8, \n",
    "                                           random_state=100,\n",
    "                                           update_every=1,\n",
    "                                           chunksize=100,\n",
    "                                           passes=10,\n",
    "                                           alpha='auto',\n",
    "                                           per_word_topics=True)\n",
    "# Print the KeywordS in the 8 topics\n",
    "print(lda_model.print_topics())\n",
    "doc_lda = lda_model[corpus]"
   ]
  },
  {
   "cell_type": "code",
   "execution_count": 22,
   "metadata": {},
   "outputs": [
    {
     "data": {
      "text/html": [
       "\n",
       "<link rel=\"stylesheet\" type=\"text/css\" href=\"https://cdn.jsdelivr.net/gh/bmabey/pyLDAvis@3.3.1/pyLDAvis/js/ldavis.v1.0.0.css\">\n",
       "\n",
       "\n",
       "<div id=\"ldavis_el3016821357922737764878032552\"></div>\n",
       "<script type=\"text/javascript\">\n",
       "\n",
       "var ldavis_el3016821357922737764878032552_data = {\"mdsDat\": {\"x\": [0.34123744379694537, -0.05987416779211353, -0.07901055903596631, -0.04725883905311929, -0.04032801437525786, -0.03955883929109435, -0.03760351168007402, -0.03760351256931978], \"y\": [0.0015543699577636072, 0.2064509597599708, -0.08673695128336416, -0.03177269511257273, -0.023906279674851417, -0.023274751628606444, -0.02115732588753395, -0.021157326130805267], \"topics\": [1, 2, 3, 4, 5, 6, 7, 8], \"cluster\": [1, 1, 1, 1, 1, 1, 1, 1], \"Freq\": [94.7248642405125, 4.3410011717604124, 0.6444295184147838, 0.19708976426745, 0.04066226821569972, 0.04054800665236037, 0.005711559679945513, 0.0056934704968479855]}, \"tinfo\": {\"Term\": [\"spike\", \"past\", \"jet\", \"seem\", \"crew\", \"faye\", \"become\", \"long\", \"always\", \"day\", \"moment\", \"happen\", \"leave\", \"come\", \"go\", \"thing\", \"fact\", \"already\", \"theme\", \"vicious\", \"course\", \"character\", \"anime\", \"bad\", \"show\", \"tell\", \"ever\", \"review\", \"soundtrack\", \"think\", \"anime\", \"show\", \"story\", \"character\", \"episode\", \"watch\", \"good\", \"time\", \"animation\", \"sound\", \"overall\", \"well\", \"really\", \"make\", \"get\", \"enjoyment\", \"say\", \"feel\", \"see\", \"music\", \"great\", \"also\", \"art\", \"much\", \"end\", \"people\", \"first\", \"main\", \"love\", \"plot\", \"cowboy\", \"bebop\", \"series\", \"even\", \"spike\", \"spectrum\", \"stuck\", \"sin\", \"overboard\", \"tempt\", \"acknowledge\", \"mannerism\", \"wall\", \"anticipate\", \"grain\", \"epitome\", \"revel\", \"imprint\", \"lecture\", \"structured\", \"reluctantly\", \"sustain\", \"similarly\", \"willingly\", \"unintentional\", \"salt\", \"lackadaisical\", \"deconstruction\", \"dealing\", \"accurately\", \"asse\", \"beg\", \"brick\", \"copypasta\", \"ditching\", \"distinguish\", \"interpretation\", \"deftly\", \"house\", \"merely\", \"support\", \"family\", \"matter\", \"order\", \"provide\", \"crew\", \"individual\", \"vicious\", \"day\", \"spike\", \"grand\", \"event\", \"long\", \"become\", \"course\", \"past\", \"scheme\", \"dynamic\", \"partner\", \"watanabe\", \"jet\", \"seem\", \"happen\", \"lose\", \"share\", \"viewer\", \"hard\", \"faye\", \"already\", \"question\", \"term\", \"dad\", \"presentation\", \"bepop\", \"weapon\", \"moe\", \"pistol\", \"m\", \"concert\", \"spill\", \"strengthen\", \"be\", \"gift\", \"fav\", \"principle\", \"honesty\", \"chick\", \"passage\", \"outro\", \"betrayal\", \"solution\", \"hurry\", \"charater\", \"shout\", \"gren\", \"unsatisfied\", \"clothe\", \"ve\", \"tbh\", \"infact\", \"godly\", \"baby\", \"bond\", \"seek\", \"classy\", \"concern\", \"introduce\", \"rsquo\", \"painstakingly\", \"rdquo\", \"ldquo\", \"aerial\", \"ranma\", \"unanswered\", \"allen\", \"woody\", \"footwork\", \"kaji\", \"motivator\", \"kusanagi\", \"disciple\", \"co\", \"freeloader\", \"philopshy\", \"tomato\", \"koichi\", \"lina\", \"associative\", \"slayer\", \"agility\", \"ippo\", \"southern\", \"off\", \"portraying\", \"blob\", \"ichi\", \"student\", \"private\", \"simplistic\", \"sentence\", \"crappy\", \"fortunately\", \"quintet\", \"unlucky\", \"prestigious\", \"punchy\", \"sunday\", \"reassure\", \"withstand\", \"cowbow\", \"engineer\", \"recognition\", \"teamwork\", \"engine\", \"prey\", \"constraint\", \"terraforme\", \"settlement\", \"newly\", \"weirdo\", \"corona\", \"bait\", \"mario\", \"binging\", \"hibernate\", \"quarantine\", \"rec\", \"socially\", \"advent\", \"breaker\", \"buoy\", \"enforcer\", \"entitle\", \"lobster\", \"missed\", \"mutate\", \"unruly\", \"compact\", \"indifference\", \"planning\", \"fu\", \"kung\", \"pocky\", \"freezer\", \"weirdo\", \"mario\", \"bait\", \"corona\", \"hibernate\", \"quarantine\", \"binging\", \"rec\", \"socially\", \"mosque\", \"scantily\", \"uncluttered\", \"peerless\", \"crater\", \"squeaky\", \"in\", \"derivative\", \"maladjuste\", \"schoolgirl\", \"ridden\", \"rant\", \"teamwork\", \"cowbow\", \"recognition\", \"reassure\", \"withstand\", \"fulfil\", \"prey\", \"distraction\", \"cathedral\", \"tarantino\", \"teamwork\", \"cowbow\", \"recognition\", \"reassure\", \"withstand\", \"engineer\", \"prestigious\", \"punchy\", \"sunday\", \"weirdo\", \"corona\", \"bait\", \"mario\", \"binging\", \"hibernate\", \"quarantine\", \"rec\", \"socially\", \"mosque\", \"scantily\", \"uncluttered\", \"peerless\", \"crater\", \"squeaky\", \"in\", \"derivative\", \"maladjuste\", \"schoolgirl\", \"quintet\", \"unlucky\", \"bebop\", \"anime\", \"character\", \"cowboy\", \"series\", \"show\", \"animation\", \"episode\", \"spike\", \"story\", \"time\", \"even\", \"well\", \"also\", \"end\", \"feel\", \"get\", \"give\", \"make\", \"music\", \"overall\", \"really\", \"say\", \"see\", \"way\", \"crew\", \"great\", \"bounty_hunter\", \"bring\", \"cast\", \"teamwork\", \"cowbow\", \"recognition\", \"reassure\", \"withstand\", \"engineer\", \"prestigious\", \"punchy\", \"sunday\", \"weirdo\", \"corona\", \"bait\", \"mario\", \"binging\", \"hibernate\", \"quarantine\", \"rec\", \"socially\", \"mosque\", \"scantily\", \"uncluttered\", \"peerless\", \"crater\", \"squeaky\", \"in\", \"derivative\", \"maladjuste\", \"schoolgirl\", \"quintet\", \"unlucky\", \"bebop\", \"cowboy\", \"anime\", \"character\", \"episode\", \"show\", \"story\", \"good\", \"spike\", \"watch\", \"animation\", \"get\", \"give\", \"make\", \"really\", \"say\", \"see\", \"series\", \"sound\", \"time\", \"even\", \"well\", \"also\", \"amazing\", \"bit\", \"bounty_hunter\", \"cast\", \"different\", \"end\", \"enjoyment\"], \"Freq\": [567.0, 276.0, 288.0, 233.0, 160.0, 266.0, 147.0, 124.0, 210.0, 110.0, 165.0, 120.0, 153.0, 257.0, 396.0, 306.0, 130.0, 109.0, 158.0, 86.0, 89.0, 2463.0, 2048.0, 178.0, 1813.0, 151.0, 301.0, 303.0, 290.0, 319.0, 2048.4553821008394, 1813.0598029195269, 1534.5875019287835, 2463.6167740599626, 1376.8177517558238, 1066.2033079221733, 962.869799508399, 868.1664122640833, 845.9760268805347, 810.6229027188213, 747.9722560452257, 746.282061690139, 740.2438305023851, 719.9778785997978, 651.2482222671422, 613.046295133254, 548.5989386684223, 505.339403437417, 492.01669752709887, 484.0617057631327, 470.9197010702724, 470.180688266814, 431.636972021947, 454.70693954820257, 420.32495511170583, 385.2314165252622, 374.6545328598986, 371.46704442360976, 363.87410168765615, 360.96214812302543, 1517.0337925363224, 1817.199033288128, 972.3128175191795, 516.9154889683994, 528.2442310867449, 10.341251744153832, 10.160315475722413, 9.180356704594809, 8.829890407477835, 8.978796753630169, 8.561643265425413, 8.561525726238562, 8.351204661094341, 8.350437199344901, 8.201162925905995, 8.19747723283259, 8.138900739499668, 7.9369545883496615, 7.9369545883496615, 7.9369545883496615, 7.936948168141977, 7.936816800815496, 7.935866116215964, 7.784394650162348, 7.784429220511422, 7.78441786168244, 7.784315138359478, 7.776816829645352, 7.759247684383874, 7.3671048560098145, 7.3671048560098145, 7.3671048560098145, 7.3671048560098145, 7.3671048560098145, 7.3671048560098145, 9.31304955703149, 9.172019324122447, 9.751779881679647, 8.783863444720865, 7.762381733458486, 20.679431665861383, 14.641694519276616, 22.78497334655543, 14.097667849970701, 16.255457180806495, 31.308326493346605, 21.126999159457085, 21.645655143439804, 23.418155958398632, 39.44831224794506, 9.61770322755575, 15.73391012791694, 20.343496768046553, 21.40555320415482, 17.82657385971883, 25.495278836705424, 9.175979110677796, 11.062442562945074, 11.592385272038287, 11.699179006673074, 19.419767163549754, 17.908709058221348, 14.699001293074266, 12.966785799753366, 11.047201977624786, 12.395309285558527, 11.90248920502511, 13.348394055040353, 11.870181732229176, 10.296291523596855, 10.184164077962098, 16.767100156534777, 9.253951952213436, 7.394669839032338, 6.913282380911544, 4.963924615854043, 3.769842015708415, 3.464141287464891, 3.199917635291153, 3.199917635291153, 3.199917635291153, 2.6917679541847006, 3.499295114591935, 1.6405071426996098, 1.5115651523340143, 1.4899210307384503, 1.310022076290682, 1.2622717519248814, 1.2112498309908017, 1.1481588389947357, 1.1253326639868741, 1.089004408179585, 1.065020960138596, 1.0540171521219908, 1.0532669224768851, 1.0320502257646365, 1.0081311480577042, 1.0036075558234945, 0.9727088423847424, 0.9715005422986496, 0.968064574102859, 3.1798200146370394, 7.324379780313755, 1.763014005842542, 1.3156772814020743, 1.1568350509229193, 1.0713213348851813, 3.5185596829877714, 1.602122216830104, 0.5530483351859852, 0.5525352684329404, 0.17620671334702967, 0.17620636580159343, 0.17601737956227703, 0.17601737956227703, 0.17601737956227703, 0.09948012760090014, 0.09948010517861393, 0.09948010517861393, 0.09948006033404151, 0.09948003791175529, 0.09948003791175529, 0.09948003791175529, 0.09948001548946908, 0.09948001548946908, 0.09948001548946908, 0.09948001548946908, 0.09948001548946908, 0.09947995943375357, 0.09947997064489666, 0.09947995943375357, 0.09947995943375357, 0.09947995943375357, 0.09947997064489666, 0.09947994822261046, 0.09947992580032425, 0.09947992580032425, 0.09947992580032425, 0.3829401595387693, 0.09799898588094073, 0.04421498641591168, 0.04294588895933315, 0.03846742366801558, 0.03846742366801558, 0.021641352392351293, 0.021641352392351293, 0.021641352392351293, 0.021629632372936476, 0.021629632372936476, 0.021629625433907812, 0.021629613868860035, 0.021629604616821816, 0.021629599990802707, 0.03846736352976715, 0.03846736352976715, 0.02164109333528114, 0.02162957917371671, 0.02162951672245873, 0.02162951672245873, 0.005118047128398352, 0.005118047128398352, 0.005118047128398352, 0.005118047128398352, 0.005118047128398352, 0.005118047128398352, 0.005118047128398352, 0.005118047128398352, 0.005118047128398352, 0.00530663315818787, 0.00530663315818787, 0.00530663315818787, 0.00530663315818787, 0.00530663315818787, 0.00530663315818787, 0.00530663315818787, 0.00530663315818787, 0.00530663315818787, 0.005469115140392864, 0.005469115140392864, 0.005424781686253568, 0.1008683214472377, 0.10086830299515798, 0.05549748059306871, 0.03867234842348043, 0.021809260325915732, 0.02180925801940577, 0.021809255712895805, 0.02180925340638584, 0.02180925340638584, 0.02180925340638584, 0.021809246486855945, 0.021809239567326052, 0.021733039397627656, 0.021733034784607724, 0.02173302555856787, 0.02173302555856787, 0.021733004799978185, 0.02173299788044829, 0.02173299788044829, 0.02173288947447996, 0.0217328802484401, 0.02173285487683049, 0.021730264666140316, 0.020797186818576684, 0.02180918882410683, 0.005137088977645634, 0.005137088977645634, 0.005137088977645634, 0.005137088977645634, 0.005137088977645634, 0.024805393704749237, 0.005616587604290691, 0.005224149926139544, 0.005219430230124612, 0.005199509480188399, 0.0007355853662829696, 0.0007355853662829696, 0.0007355853662829696, 0.0007355853662829696, 0.0007355853662829696, 0.0007355853662829696, 0.0007355853662829696, 0.0007355853662829696, 0.0007355853662829696, 0.0007355853662829696, 0.0007355853662829696, 0.0007355853662829696, 0.0007355853662829696, 0.0007355853662829696, 0.0007355853662829696, 0.0007355853662829696, 0.0007355853662829696, 0.0007355853662829696, 0.0007355853662829696, 0.0007355853662829696, 0.0007355853662829696, 0.0007355853662829696, 0.0007355853662829696, 0.0007355853662829696, 0.0007355853662829696, 0.0007355853662829696, 0.0007355853662829696, 0.0007355853662829696, 0.0007355853662829696, 0.0007355853662829696, 0.0007355864221856836, 0.0007355860972925409, 0.0007355859348459695, 0.0007355858536226838, 0.0007355856911761124, 0.0007355856911761124, 0.0007355856099528267, 0.0007355856099528267, 0.0007355856099528267, 0.0007355856099528267, 0.0007355856099528267, 0.0007355856099528267, 0.0007355856099528267, 0.000735585528729541, 0.000735585528729541, 0.000735585528729541, 0.000735585528729541, 0.000735585528729541, 0.000735585528729541, 0.000735585528729541, 0.000735585528729541, 0.000735585528729541, 0.000735585528729541, 0.000735585528729541, 0.000735585528729541, 0.000735585528729541, 0.000735585528729541, 0.0007355854475062553, 0.0007355854475062553, 0.0007355854475062553, 0.000733255680676904, 0.000733255680676904, 0.000733255680676904, 0.000733255680676904, 0.000733255680676904, 0.000733255680676904, 0.000733255680676904, 0.000733255680676904, 0.000733255680676904, 0.000733255680676904, 0.000733255680676904, 0.000733255680676904, 0.000733255680676904, 0.000733255680676904, 0.000733255680676904, 0.000733255680676904, 0.000733255680676904, 0.000733255680676904, 0.000733255680676904, 0.000733255680676904, 0.000733255680676904, 0.000733255680676904, 0.000733255680676904, 0.000733255680676904, 0.000733255680676904, 0.000733255680676904, 0.000733255680676904, 0.000733255680676904, 0.000733255680676904, 0.000733255680676904, 0.0007332561664731557, 0.0007332561664731557, 0.0007332560045410719, 0.0007332560045410719, 0.0007332560045410719, 0.0007332560045410719, 0.0007332560045410719, 0.0007332559235750299, 0.0007332559235750299, 0.0007332559235750299, 0.0007332558426089879, 0.0007332558426089879, 0.0007332558426089879, 0.0007332558426089879, 0.0007332558426089879, 0.0007332558426089879, 0.0007332558426089879, 0.0007332558426089879, 0.0007332558426089879, 0.0007332558426089879, 0.0007332558426089879, 0.0007332558426089879, 0.0007332557616429459, 0.0007332557616429459, 0.0007332557616429459, 0.0007332557616429459, 0.0007332557616429459, 0.0007332557616429459, 0.0007332557616429459, 0.0007332557616429459], \"Total\": [567.0, 276.0, 288.0, 233.0, 160.0, 266.0, 147.0, 124.0, 210.0, 110.0, 165.0, 120.0, 153.0, 257.0, 396.0, 306.0, 130.0, 109.0, 158.0, 86.0, 89.0, 2463.0, 2048.0, 178.0, 1813.0, 151.0, 301.0, 303.0, 290.0, 319.0, 2048.673272214074, 1813.2777050181398, 1534.805579815361, 2463.967773178265, 1377.046321931267, 1066.4208587095065, 963.087535902892, 868.3912464766156, 846.1980994553139, 810.8405678112334, 748.1898880235053, 746.5005141392741, 740.4613777304147, 720.1967271346145, 651.4660692852665, 613.2638850090623, 548.8171562944249, 505.5569580148285, 492.23701817663084, 484.2843921650434, 471.1372353716265, 470.3983783440281, 431.85450923168986, 454.95489443818065, 420.5562586217106, 385.44909403267127, 374.8720848811704, 371.68454773580146, 364.09186188096487, 361.1796339631514, 1518.2358184903667, 1826.992812683586, 973.163461057386, 517.3693734120278, 567.7828834363963, 10.575448885620453, 10.39471835848717, 9.415204973646667, 9.064448780695862, 9.218691694021574, 8.79579597658076, 8.795680867136404, 8.585407493087473, 8.585790927095609, 8.435315391195568, 8.431801534631507, 8.373212880815954, 8.171115601929746, 8.171115601929746, 8.171115601929746, 8.171113300621, 8.170981248014602, 8.170051264076227, 8.018561689041684, 8.018597816939234, 8.018586745060396, 8.018485051506984, 8.01116615026198, 7.994045799964922, 7.6012960778824095, 7.6012960778824095, 7.6012960778824095, 7.6012960778824095, 7.6012960778824095, 7.6012960778824095, 10.086933039143345, 10.109860035278409, 11.025599057631055, 9.62775260278468, 8.178568752571621, 40.399247486347974, 23.67616619469378, 54.370451756238246, 26.60988179629462, 36.85281209313765, 160.41624778641435, 74.4211491670496, 86.24269868204917, 110.7160666187646, 567.7828834363963, 13.57337287040267, 52.29307195298967, 124.78633756754476, 147.2307988596745, 89.9627852166711, 276.6767596542936, 12.430940615797493, 24.650860216386945, 31.403782100566595, 33.28327456603453, 288.05976391173493, 233.3080231336237, 120.14235799288187, 74.84953408618553, 31.688070851163978, 84.79872936501229, 74.59931167817678, 266.41649964085065, 109.02808110775547, 61.2868250767308, 62.085688939263434, 17.07320150766962, 9.562192950325397, 7.700893788535887, 7.220431911119411, 5.272825441324033, 4.076770174077225, 3.770353663020765, 3.5060119158829526, 3.5060119158829526, 3.5060119158829526, 2.997945026897149, 3.931408297269117, 1.9470938395403132, 1.817940202717997, 1.7962035027550431, 1.6161841703408508, 1.5692420195001866, 1.5178668269557443, 1.4550018428017946, 1.4338111875677326, 1.3955586707224874, 1.3710671461592285, 1.361062676336198, 1.3612330970713848, 1.3381049046340503, 1.3155516987985019, 1.309884269542464, 1.2788676244265804, 1.2777777968751307, 1.2744657969840758, 5.836856741804897, 30.95458926333359, 3.9005518190537423, 2.4824358038712413, 4.382952467925674, 47.97957717228999, 3.88652112663967, 1.9693526406485076, 1.3342789253316119, 1.3365619617242919, 0.5140232968600181, 0.5140245612128207, 0.5138684870796149, 0.5138685186515434, 0.5138685396994958, 0.43731626508309746, 0.43731624266081126, 0.43731629528069216, 0.43731626096009596, 0.4373162280138335, 0.4373162595857621, 0.4373162595857621, 0.4373161634956426, 0.43731620559154727, 0.4373162161155235, 0.4373162161155235, 0.4373162371634759, 0.4373161290645069, 0.43731620284287964, 0.4373161606364355, 0.4373161606364355, 0.4373162126796889, 0.4373162765107129, 0.43731620146854583, 0.43731614805095853, 0.4373161585749348, 0.43731623166614053, 0.7422540105376916, 0.45460079394955133, 0.40124903066217876, 0.4004918848399081, 0.3946126802809444, 0.3946126802809444, 0.37783310393206637, 0.37783310393206637, 0.37783310393206637, 0.37783027667252805, 0.37783027667252805, 0.3778302697334994, 0.377830279216404, 0.3778302699643658, 0.3778302653383467, 0.7990992378414716, 1.2045492067682602, 0.7790436927068577, 0.7880001140621476, 1.135334493196068, 1.1353357172759602, 0.37792535102450703, 0.3779253546289533, 0.3779253569354633, 0.37792535924197324, 0.3779253687573758, 0.3779253756769057, 0.3779253756769057, 0.3779253828857983, 0.3781340546999165, 0.3969009433623342, 0.3969009433623342, 0.3969009433623342, 0.3969009433623342, 0.3969009433623342, 0.3969009433623342, 0.3969009433623342, 0.3969009433623342, 0.3969009433623342, 0.4602998401840106, 0.4602998401840106, 1.630981337332548, 0.45787824118637344, 0.45787853022695346, 0.4115751798265363, 0.39475796168703936, 0.37792535102450703, 0.37792535924197324, 0.3779253569354633, 0.3779253546289533, 0.3779253756769057, 0.3779253756769057, 0.3779253687573758, 0.3779253828857983, 0.3781340546999165, 0.37813409132643294, 0.3781341050112466, 0.3781341352235404, 0.37813422154155635, 0.3781342558615628, 0.3781342558615628, 0.3781347843519236, 0.3781348255297615, 0.378134962220806, 0.37815037361885606, 0.7928413907775144, 1.2049046642745556, 0.3778302653383467, 0.3778302697334994, 0.3778302699643658, 0.37783027667252805, 0.37783027667252805, 2.167040318213839, 1.2045492067682602, 1.6958993265850508, 1.6711925617310157, 3.3408151688986494, 0.3778302653383467, 0.3778302697334994, 0.3778302699643658, 0.37783027667252805, 0.37783027667252805, 0.377830279216404, 0.37783310393206637, 0.37783310393206637, 0.37783310393206637, 0.37792535102450703, 0.3779253546289533, 0.3779253569354633, 0.37792535924197324, 0.3779253687573758, 0.3779253756769057, 0.3779253756769057, 0.3779253828857983, 0.3781340546999165, 0.37813409132643294, 0.3781341050112466, 0.3781341352235404, 0.37813422154155635, 0.3781342558615628, 0.3781342558615628, 0.3781347843519236, 0.3781348255297615, 0.378134962220806, 0.37815037361885606, 0.3946126802809444, 0.3946126802809444, 1826.992812683586, 2048.673272214074, 2463.967773178265, 1518.2358184903667, 973.163461057386, 1813.2777050181398, 846.1980994553139, 1377.046321931267, 567.7828834363963, 1534.805579815361, 868.3912464766156, 517.3693734120278, 746.5005141392741, 470.3983783440281, 420.5562586217106, 505.5569580148285, 651.4660692852665, 338.2571746122075, 720.1967271346145, 484.2843921650434, 748.1898880235053, 740.4613777304147, 548.8171562944249, 492.23701817663084, 378.0142319329937, 160.41624778641435, 471.1372353716265, 139.0136490082912, 96.954526023744, 141.38865573227534, 0.3778302653383467, 0.3778302697334994, 0.3778302699643658, 0.37783027667252805, 0.37783027667252805, 0.377830279216404, 0.37783310393206637, 0.37783310393206637, 0.37783310393206637, 0.37792535102450703, 0.3779253546289533, 0.3779253569354633, 0.37792535924197324, 0.3779253687573758, 0.3779253756769057, 0.3779253756769057, 0.3779253828857983, 0.3781340546999165, 0.37813409132643294, 0.3781341050112466, 0.3781341352235404, 0.37813422154155635, 0.3781342558615628, 0.3781342558615628, 0.3781347843519236, 0.3781348255297615, 0.378134962220806, 0.37815037361885606, 0.3946126802809444, 0.3946126802809444, 1826.992812683586, 1518.2358184903667, 2048.673272214074, 2463.967773178265, 1377.046321931267, 1813.2777050181398, 1534.805579815361, 963.087535902892, 567.7828834363963, 1066.4208587095065, 846.1980994553139, 651.4660692852665, 338.2571746122075, 720.1967271346145, 740.4613777304147, 548.8171562944249, 492.23701817663084, 973.163461057386, 810.8405678112334, 868.3912464766156, 517.3693734120278, 746.5005141392741, 470.3983783440281, 219.30085479130625, 140.42859644551405, 139.0136490082912, 141.38865573227534, 248.20684339032866, 420.5562586217106, 613.2638850090623], \"Category\": [\"Default\", \"Default\", \"Default\", \"Default\", \"Default\", \"Default\", \"Default\", \"Default\", \"Default\", \"Default\", \"Default\", \"Default\", \"Default\", \"Default\", \"Default\", \"Default\", \"Default\", \"Default\", \"Default\", \"Default\", \"Default\", \"Default\", \"Default\", \"Default\", \"Default\", \"Default\", \"Default\", \"Default\", \"Default\", \"Default\", \"Topic1\", \"Topic1\", \"Topic1\", \"Topic1\", \"Topic1\", \"Topic1\", \"Topic1\", \"Topic1\", \"Topic1\", \"Topic1\", \"Topic1\", \"Topic1\", \"Topic1\", \"Topic1\", \"Topic1\", \"Topic1\", \"Topic1\", \"Topic1\", \"Topic1\", \"Topic1\", \"Topic1\", \"Topic1\", \"Topic1\", \"Topic1\", \"Topic1\", \"Topic1\", \"Topic1\", \"Topic1\", \"Topic1\", \"Topic1\", \"Topic1\", \"Topic1\", \"Topic1\", \"Topic1\", \"Topic1\", \"Topic2\", \"Topic2\", \"Topic2\", \"Topic2\", \"Topic2\", \"Topic2\", \"Topic2\", \"Topic2\", \"Topic2\", \"Topic2\", \"Topic2\", \"Topic2\", \"Topic2\", \"Topic2\", \"Topic2\", \"Topic2\", \"Topic2\", \"Topic2\", \"Topic2\", \"Topic2\", \"Topic2\", \"Topic2\", \"Topic2\", \"Topic2\", \"Topic2\", \"Topic2\", \"Topic2\", \"Topic2\", \"Topic2\", \"Topic2\", \"Topic2\", \"Topic2\", \"Topic2\", \"Topic2\", \"Topic2\", \"Topic2\", \"Topic2\", \"Topic2\", \"Topic2\", \"Topic2\", \"Topic2\", \"Topic2\", \"Topic2\", \"Topic2\", \"Topic2\", \"Topic2\", \"Topic2\", \"Topic2\", \"Topic2\", \"Topic2\", \"Topic2\", \"Topic2\", \"Topic2\", \"Topic2\", \"Topic2\", \"Topic2\", \"Topic2\", \"Topic2\", \"Topic2\", \"Topic2\", \"Topic2\", \"Topic2\", \"Topic2\", \"Topic2\", \"Topic2\", \"Topic2\", \"Topic3\", \"Topic3\", \"Topic3\", \"Topic3\", \"Topic3\", \"Topic3\", \"Topic3\", \"Topic3\", \"Topic3\", \"Topic3\", \"Topic3\", \"Topic3\", \"Topic3\", \"Topic3\", \"Topic3\", \"Topic3\", \"Topic3\", \"Topic3\", \"Topic3\", \"Topic3\", \"Topic3\", \"Topic3\", \"Topic3\", \"Topic3\", \"Topic3\", \"Topic3\", \"Topic3\", \"Topic3\", \"Topic3\", \"Topic3\", \"Topic3\", \"Topic3\", \"Topic3\", \"Topic3\", \"Topic3\", \"Topic3\", \"Topic4\", \"Topic4\", \"Topic4\", \"Topic4\", \"Topic4\", \"Topic4\", \"Topic4\", \"Topic4\", \"Topic4\", \"Topic4\", \"Topic4\", \"Topic4\", \"Topic4\", \"Topic4\", \"Topic4\", \"Topic4\", \"Topic4\", \"Topic4\", \"Topic4\", \"Topic4\", \"Topic4\", \"Topic4\", \"Topic4\", \"Topic4\", \"Topic4\", \"Topic4\", \"Topic4\", \"Topic4\", \"Topic4\", \"Topic4\", \"Topic4\", \"Topic5\", \"Topic5\", \"Topic5\", \"Topic5\", \"Topic5\", \"Topic5\", \"Topic5\", \"Topic5\", \"Topic5\", \"Topic5\", \"Topic5\", \"Topic5\", \"Topic5\", \"Topic5\", \"Topic5\", \"Topic5\", \"Topic5\", \"Topic5\", \"Topic5\", \"Topic5\", \"Topic5\", \"Topic5\", \"Topic5\", \"Topic5\", \"Topic5\", \"Topic5\", \"Topic5\", \"Topic5\", \"Topic5\", \"Topic5\", \"Topic5\", \"Topic5\", \"Topic5\", \"Topic5\", \"Topic5\", \"Topic5\", \"Topic5\", \"Topic5\", \"Topic5\", \"Topic5\", \"Topic5\", \"Topic5\", \"Topic6\", \"Topic6\", \"Topic6\", \"Topic6\", \"Topic6\", \"Topic6\", \"Topic6\", \"Topic6\", \"Topic6\", \"Topic6\", \"Topic6\", \"Topic6\", \"Topic6\", \"Topic6\", \"Topic6\", \"Topic6\", \"Topic6\", \"Topic6\", \"Topic6\", \"Topic6\", \"Topic6\", \"Topic6\", \"Topic6\", \"Topic6\", \"Topic6\", \"Topic6\", \"Topic6\", \"Topic6\", \"Topic6\", \"Topic6\", \"Topic6\", \"Topic6\", \"Topic6\", \"Topic6\", \"Topic6\", \"Topic7\", \"Topic7\", \"Topic7\", \"Topic7\", \"Topic7\", \"Topic7\", \"Topic7\", \"Topic7\", \"Topic7\", \"Topic7\", \"Topic7\", \"Topic7\", \"Topic7\", \"Topic7\", \"Topic7\", \"Topic7\", \"Topic7\", \"Topic7\", \"Topic7\", \"Topic7\", \"Topic7\", \"Topic7\", \"Topic7\", \"Topic7\", \"Topic7\", \"Topic7\", \"Topic7\", \"Topic7\", \"Topic7\", \"Topic7\", \"Topic7\", \"Topic7\", \"Topic7\", \"Topic7\", \"Topic7\", \"Topic7\", \"Topic7\", \"Topic7\", \"Topic7\", \"Topic7\", \"Topic7\", \"Topic7\", \"Topic7\", \"Topic7\", \"Topic7\", \"Topic7\", \"Topic7\", \"Topic7\", \"Topic7\", \"Topic7\", \"Topic7\", \"Topic7\", \"Topic7\", \"Topic7\", \"Topic7\", \"Topic7\", \"Topic7\", \"Topic7\", \"Topic7\", \"Topic7\", \"Topic8\", \"Topic8\", \"Topic8\", \"Topic8\", \"Topic8\", \"Topic8\", \"Topic8\", \"Topic8\", \"Topic8\", \"Topic8\", \"Topic8\", \"Topic8\", \"Topic8\", \"Topic8\", \"Topic8\", \"Topic8\", \"Topic8\", \"Topic8\", \"Topic8\", \"Topic8\", \"Topic8\", \"Topic8\", \"Topic8\", \"Topic8\", \"Topic8\", \"Topic8\", \"Topic8\", \"Topic8\", \"Topic8\", \"Topic8\", \"Topic8\", \"Topic8\", \"Topic8\", \"Topic8\", \"Topic8\", \"Topic8\", \"Topic8\", \"Topic8\", \"Topic8\", \"Topic8\", \"Topic8\", \"Topic8\", \"Topic8\", \"Topic8\", \"Topic8\", \"Topic8\", \"Topic8\", \"Topic8\", \"Topic8\", \"Topic8\", \"Topic8\", \"Topic8\", \"Topic8\", \"Topic8\", \"Topic8\", \"Topic8\", \"Topic8\", \"Topic8\", \"Topic8\", \"Topic8\"], \"logprob\": [30.0, 29.0, 28.0, 27.0, 26.0, 25.0, 24.0, 23.0, 22.0, 21.0, 20.0, 19.0, 18.0, 17.0, 16.0, 15.0, 14.0, 13.0, 12.0, 11.0, 10.0, 9.0, 8.0, 7.0, 6.0, 5.0, 4.0, 3.0, 2.0, 1.0, -3.8109, -3.9329, -4.0997, -3.6263, -4.2082, -4.4639, -4.5658, -4.6693, -4.6952, -4.7379, -4.8184, -4.8206, -4.8287, -4.8565, -4.9568, -5.0173, -5.1284, -5.2105, -5.2372, -5.2535, -5.281, -5.2826, -5.3681, -5.3161, -5.3947, -5.4819, -5.5097, -5.5183, -5.5389, -5.5469, -4.1112, -3.9307, -4.556, -5.1878, -5.1662, -6.0167, -6.0344, -6.1358, -6.1747, -6.158, -6.2056, -6.2056, -6.2304, -6.2305, -6.2486, -6.249, -6.2562, -6.2813, -6.2813, -6.2813, -6.2813, -6.2813, -6.2815, -6.3007, -6.3007, -6.3007, -6.3007, -6.3017, -6.304, -6.3558, -6.3558, -6.3558, -6.3558, -6.3558, -6.3558, -6.1214, -6.1367, -6.0754, -6.1799, -6.3036, -5.3237, -5.669, -5.2267, -5.7068, -5.5644, -4.909, -5.3023, -5.278, -5.1993, -4.6779, -6.0892, -5.597, -5.3401, -5.2892, -5.4722, -5.1144, -6.1363, -5.9493, -5.9025, -5.8933, -5.3866, -5.4676, -5.6651, -5.7905, -5.9507, -5.8355, -5.8761, -5.7615, -5.8788, -6.0211, -6.032, -3.6259, -4.2203, -4.4446, -4.5119, -4.8432, -5.1183, -5.2029, -5.2822, -5.2822, -5.2822, -5.4552, -5.1928, -5.9503, -6.0322, -6.0466, -6.1753, -6.2124, -6.2537, -6.3072, -6.3273, -6.3601, -6.3824, -6.3927, -6.3935, -6.4138, -6.4373, -6.4418, -6.473, -6.4743, -6.4778, -5.2885, -4.4541, -5.8783, -6.171, -6.2997, -6.3765, -4.0026, -4.7893, -5.853, -5.8539, -6.9967, -6.9967, -6.9978, -6.9978, -6.9978, -7.5684, -7.5684, -7.5684, -7.5684, -7.5684, -7.5684, -7.5684, -7.5684, -7.5684, -7.5684, -7.5684, -7.5684, -7.5684, -7.5684, -7.5684, -7.5684, -7.5684, -7.5684, -7.5684, -7.5684, -7.5684, -7.5684, -4.6422, -6.0051, -6.801, -6.8301, -6.9402, -6.9402, -7.5154, -7.5154, -7.5154, -7.516, -7.516, -7.516, -7.516, -7.516, -7.516, -6.9402, -6.9402, -7.5154, -7.516, -7.516, -7.516, -8.9573, -8.9573, -8.9573, -8.9573, -8.9573, -8.9573, -8.9573, -8.9573, -8.9573, -8.9211, -8.9211, -8.9211, -8.9211, -8.9211, -8.9211, -8.9211, -8.9211, -8.9211, -8.8909, -8.8909, -8.8991, -5.9734, -5.9734, -6.5709, -6.9321, -7.5049, -7.5049, -7.5049, -7.5049, -7.5049, -7.5049, -7.5049, -7.5049, -7.5084, -7.5084, -7.5084, -7.5084, -7.5084, -7.5084, -7.5084, -7.5084, -7.5084, -7.5084, -7.5085, -7.5524, -7.5049, -8.9507, -8.9507, -8.9507, -8.9507, -8.9507, -7.3762, -8.8615, -8.9339, -8.9348, -8.9387, -8.9343, -8.9343, -8.9343, -8.9343, -8.9343, -8.9343, -8.9343, -8.9343, -8.9343, -8.9343, -8.9343, -8.9343, -8.9343, -8.9343, -8.9343, -8.9343, -8.9343, -8.9343, -8.9343, -8.9343, -8.9343, -8.9343, -8.9343, -8.9343, -8.9343, -8.9343, -8.9343, -8.9343, -8.9343, -8.9343, -8.9343, -8.9343, -8.9343, -8.9343, -8.9343, -8.9343, -8.9343, -8.9343, -8.9343, -8.9343, -8.9343, -8.9343, -8.9343, -8.9343, -8.9343, -8.9343, -8.9343, -8.9343, -8.9343, -8.9343, -8.9343, -8.9343, -8.9343, -8.9343, -8.9343, -8.9343, -8.9343, -8.9343, -8.9343, -8.9343, -8.9343, -8.9343, -8.9343, -8.9343, -8.9343, -8.9343, -8.9343, -8.9343, -8.9343, -8.9343, -8.9343, -8.9343, -8.9343, -8.9343, -8.9343, -8.9343, -8.9343, -8.9343, -8.9343, -8.9343, -8.9343, -8.9343, -8.9343, -8.9343, -8.9343, -8.9343, -8.9343, -8.9343, -8.9343, -8.9343, -8.9343, -8.9343, -8.9343, -8.9343, -8.9343, -8.9343, -8.9343, -8.9343, -8.9343, -8.9343, -8.9343, -8.9343, -8.9343, -8.9343, -8.9343, -8.9343, -8.9343, -8.9343, -8.9343, -8.9343, -8.9343, -8.9343, -8.9343, -8.9343, -8.9343, -8.9343, -8.9343, -8.9343, -8.9343, -8.9343], \"loglift\": [30.0, 29.0, 28.0, 27.0, 26.0, 25.0, 24.0, 23.0, 22.0, 21.0, 20.0, 19.0, 18.0, 17.0, 16.0, 15.0, 14.0, 13.0, 12.0, 11.0, 10.0, 9.0, 8.0, 7.0, 6.0, 5.0, 4.0, 3.0, 2.0, 1.0, 0.0541, 0.0541, 0.0541, 0.0541, 0.054, 0.054, 0.054, 0.0539, 0.0539, 0.0539, 0.0539, 0.0539, 0.0539, 0.0539, 0.0539, 0.0538, 0.0538, 0.0538, 0.0537, 0.0537, 0.0537, 0.0537, 0.0537, 0.0536, 0.0536, 0.0536, 0.0536, 0.0536, 0.0536, 0.0536, 0.0534, 0.0488, 0.0533, 0.0533, -0.018, 3.1147, 3.1143, 3.1118, 3.1108, 3.1107, 3.1101, 3.1101, 3.1094, 3.1093, 3.1089, 3.1089, 3.1087, 3.108, 3.108, 3.108, 3.108, 3.108, 3.108, 3.1074, 3.1074, 3.1074, 3.1074, 3.1074, 3.1073, 3.1058, 3.1058, 3.1058, 3.1058, 3.1058, 3.1058, 3.0572, 3.0397, 3.0143, 3.0453, 3.0848, 2.4674, 2.6565, 2.2673, 2.5018, 2.3186, 1.5032, 1.8779, 1.7547, 1.5836, 0.4703, 2.7926, 1.936, 1.3232, 1.2087, 1.5184, 0.7527, 2.8335, 2.3358, 2.1405, 2.0915, 0.4402, 0.57, 1.0362, 1.384, 2.0833, 1.2141, 1.3017, 0.1434, 0.9195, 1.3533, 1.3294, 5.0265, 5.0118, 5.004, 5.0011, 4.9842, 4.9663, 4.9599, 4.9532, 4.9532, 4.9532, 4.9368, 4.9281, 4.8732, 4.86, 4.8576, 4.8345, 4.8269, 4.8189, 4.8077, 4.8023, 4.7965, 4.792, 4.7889, 4.7881, 4.7849, 4.7784, 4.7782, 4.7709, 4.7705, 4.7696, 4.4372, 3.6032, 4.2505, 4.4097, 3.7125, 1.2427, 6.1298, 6.0229, 5.3486, 5.3459, 5.1587, 5.1587, 5.1579, 5.1579, 5.1579, 4.7486, 4.7486, 4.7486, 4.7486, 4.7486, 4.7486, 4.7486, 4.7486, 4.7486, 4.7486, 4.7486, 4.7486, 4.7486, 4.7486, 4.7486, 4.7486, 4.7486, 4.7486, 4.7486, 4.7486, 4.7486, 4.7486, 7.1458, 6.2732, 5.6021, 5.5749, 5.4795, 5.4795, 4.9478, 4.9478, 4.9478, 4.9472, 4.9472, 4.9472, 4.9472, 4.9472, 4.9472, 4.7739, 4.3636, 4.2242, 4.2122, 3.847, 3.847, 3.5057, 3.5057, 3.5057, 3.5057, 3.5057, 3.5057, 3.5057, 3.5057, 3.5051, 3.4929, 3.4929, 3.4929, 3.4929, 3.4929, 3.4929, 3.4929, 3.4929, 3.4929, 3.3749, 3.3749, 2.1017, 6.2977, 6.2977, 5.8068, 5.4873, 4.9581, 4.9581, 4.9581, 4.9581, 4.9581, 4.9581, 4.9581, 4.9581, 4.954, 4.954, 4.954, 4.954, 4.954, 4.954, 4.954, 4.954, 4.954, 4.954, 4.9539, 4.1696, 3.7986, 3.5125, 3.5125, 3.5125, 3.5125, 3.5125, 3.3404, 2.4423, 2.0278, 2.0415, 1.345, 3.5289, 3.5289, 3.5289, 3.5289, 3.5289, 3.5289, 3.5289, 3.5289, 3.5289, 3.5286, 3.5286, 3.5286, 3.5286, 3.5286, 3.5286, 3.5286, 3.5286, 3.5281, 3.5281, 3.5281, 3.5281, 3.5281, 3.5281, 3.5281, 3.5281, 3.5281, 3.5281, 3.5281, 3.4854, 3.4854, -4.9548, -5.0694, -5.2539, -4.7697, -4.325, -4.9473, -4.1852, -4.6721, -3.7861, -4.7806, -4.2111, -3.6932, -4.0598, -3.598, -3.486, -3.6701, -3.9236, -3.2682, -4.0239, -3.6271, -4.0621, -4.0517, -3.7522, -3.6434, -3.3793, -2.5222, -3.5996, -2.379, -2.0187, -2.3959, 3.5289, 3.5289, 3.5289, 3.5289, 3.5289, 3.5289, 3.5289, 3.5289, 3.5289, 3.5286, 3.5286, 3.5286, 3.5286, 3.5286, 3.5286, 3.5286, 3.5286, 3.5281, 3.5281, 3.5281, 3.5281, 3.5281, 3.5281, 3.5281, 3.5281, 3.5281, 3.5281, 3.5281, 3.4854, 3.4854, -4.9548, -4.7697, -5.0694, -5.2539, -4.6721, -4.9473, -4.7806, -4.3146, -3.7861, -4.4165, -4.1852, -3.9236, -3.2682, -4.0239, -4.0517, -3.7522, -3.6434, -4.325, -4.1425, -4.2111, -3.6932, -4.0598, -3.598, -2.8349, -2.3891, -2.379, -2.3959, -2.9587, -3.486, -3.8632]}, \"token.table\": {\"Topic\": [2, 2, 1, 2, 1, 1, 2, 1, 1, 1, 2, 1, 2, 1, 3, 1, 2, 3, 1, 2, 1, 2, 2, 3, 3, 1, 1, 3, 1, 2, 1, 1, 1, 2, 1, 3, 3, 2, 3, 3, 1, 2, 1, 3, 3, 2, 2, 1, 2, 1, 2, 1, 2, 3, 1, 2, 2, 2, 1, 2, 1, 1, 2, 1, 2, 2, 1, 2, 1, 2, 1, 1, 2, 1, 1, 2, 1, 1, 2, 1, 2, 3, 1, 2, 1, 1, 1, 1, 3, 1, 1, 2, 3, 1, 2, 1, 2, 1, 3, 1, 2, 1, 2, 3, 1, 2, 3, 2, 1, 2, 3, 1, 2, 1, 3, 1, 2, 2, 2, 4, 1, 2, 2, 1, 2, 1, 2, 1, 3, 1, 1, 2, 1, 2, 2, 3, 1, 2, 1, 1, 2, 1, 2, 3, 1, 2, 4, 1, 2, 3, 1, 2, 1, 3, 2, 1, 3, 2, 3, 1, 2, 1, 2, 2, 2, 4, 1, 2, 2, 1, 1, 4, 2, 1, 1, 2, 1, 2, 3, 1, 2, 1, 2, 2, 1, 2, 3, 1, 2, 2, 3, 1, 1, 2, 1, 2, 3, 1, 3, 2, 2, 1, 2, 2, 1, 3, 1, 2, 2, 1, 2, 2, 1, 2, 1, 2, 1, 1, 2, 3, 3, 1, 2, 1, 2, 2, 1, 2, 1, 1, 2, 3, 1, 2], \"Freq\": [0.9208955852105263, 1.023216093684181, 0.8896790534553407, 0.11006338805633081, 0.9991531043422587, 0.9513182538486766, 0.047565912692433834, 0.9986281184740818, 0.999765894705458, 0.9996713618402673, 0.9317720484845571, 1.0003368976477032, 0.9208955852105263, 0.3426501777361683, 0.5139752666042524, 0.9745198035102931, 0.028003442629606124, 1.0006854605686275, 0.9945304586782101, 0.005473475281663237, 0.8557992008186442, 0.1426332001364407, 0.9208955852105263, 0.9089853973081296, 0.6872843529011416, 0.9969479404027203, 0.7430239117158637, 0.22613771226134982, 0.9999018153369215, 0.9208955852105263, 1.0004690237590854, 0.9972511533527041, 0.5983750902793651, 0.5983750902793651, 1.0000130792383268, 0.7293588813657309, 0.6187413652177409, 0.402830155140587, 0.402830155140587, 0.7601373635968116, 0.9754744790471643, 0.02331811503698401, 0.6844701196177504, 0.2281567065392501, 0.8556730758413527, 1.2836250512797422, 0.9208955852105263, 0.8003309349148253, 0.20008273372870633, 0.9991860167733393, 0.0006586592068380615, 0.8041579439743324, 0.19324725785429692, 0.995712490850838, 0.7857938116567347, 0.2077385938862632, 1.0007448293622616, 0.9986061766723419, 0.09069801965162867, 0.9069801965162867, 0.9991666491241606, 0.09913816182970589, 0.892243456467353, 0.5896576431890276, 0.5896576431890276, 0.9208955852105263, 0.5273649635706464, 0.4462318922520855, 0.9986773264924564, 1.2514090273708707, 0.999569703979783, 0.9999663613848502, 0.9487889352165144, 0.999286054739592, 0.6884277143320862, 0.30596787303648276, 0.9995916196214294, 0.9288211418431462, 0.0690858700544489, 0.38012911068418875, 0.6335485178069812, 1.0271718596121577, 0.9496408831324745, 0.04879577660364494, 0.9988983278619772, 1.0003412233772226, 0.9229177617001976, 0.9992845839449814, 0.7630853305376337, 0.9992397068517398, 0.9863067079270023, 0.01261261774842714, 0.7846424771589965, 0.9999091090896427, 0.9483937030202888, 0.2946946229350388, 0.736736557337597, 0.999708714656106, 0.7346280384685347, 0.8739632029381427, 0.12485188613402037, 0.8445118136181138, 0.1608593930701169, 0.5567297906201527, 0.10386639969443806, 0.9347975972499426, 0.7165589100473255, 0.9790584774141081, 0.7121631497658472, 0.2821778517940149, 0.7826086839554967, 0.09891333772282651, 0.8902200395054386, 0.9795834555029023, 0.020842201180912814, 0.9338339945401918, 0.06595853493034812, 0.9976946952712085, 0.7481882835494622, 0.7481882835494622, 0.9423552535963079, 0.058491015740460485, 0.9790584774141081, 0.833424572170864, 0.1602739561867046, 0.8283284693343591, 0.17368177582817207, 0.9997476958685912, 0.7956813254479776, 0.9981582561342097, 0.9997268425039958, 1.0232294845561076, 0.5701626342739222, 0.4230238899451681, 0.9781662589171886, 0.9482582072249436, 0.9449683378988012, 0.054517404109546225, 1.000099142931246, 0.9994127579380124, 0.8807967412487695, 0.45096028955945905, 0.526120337819369, 0.6588193260706636, 0.9997462034350572, 0.9928899393382733, 1.0155621490630546, 0.6368659652507, 0.38211957915042, 0.6372503333287661, 0.9071958205438845, 0.09035814945656219, 0.9988348810786588, 0.9811688736918798, 0.6131278004906475, 0.9995026464776535, 0.9412066925185539, 0.8301860931716899, 1.1001461967834838, 0.5698343981709445, 0.43415954146357677, 0.83215274956972, 0.1631672057979843, 0.829941180949844, 0.7494684814507336, 0.7494684814507336, 0.9993769050698783, 0.9790587531557058, 0.9554277568087358, 0.9987823209818315, 1.261286319851858, 1.0291980590514491, 0.997682042278604, 1.0003331596023886, 0.24133330636199316, 0.7239999190859794, 0.9995184877043405, 0.5127479630523641, 0.5127479630523641, 0.9215285317336127, 0.07715122591258153, 0.9988044546430854, 0.0010275765994270426, 0.8807976908945228, 0.6627099547534816, 0.34713378582325227, 0.7347200223665443, 0.9998468491520238, 0.9791860223908333, 0.9559005911386068, 0.6974419007682352, 1.0001966258165855, 0.997791032836451, 0.9455863394694388, 0.9299329292992805, 0.06868822773233323, 0.8556730758413527, 1.0001266741450487, 0.8556730758413527, 0.9790584774141081, 0.9620270271041171, 0.4950587261992579, 0.5198116625092208, 0.9790745758893833, 0.8979844284498372, 0.7819417591780703, 0.9680466573171694, 0.0329267570516044, 0.9762773611180209, 0.8375521136742162, 0.16106771416811852, 1.2690353493034296, 0.95832471425127, 0.0378286071414975, 0.984421489412853, 0.016298369030014123, 0.9995116236959909, 0.9995494582905999, 0.9976806647042521, 0.7473255620967054, 0.7634262226458335, 0.7536869902417526, 0.2550940582356701, 0.8490693261461414, 0.14151155435769022, 0.9318136624780113, 0.6309475336729767, 0.3605414478131296, 0.9996053540156596, 0.9973169477566827, 0.002645403044447434, 0.969471090672575, 0.9993295193642951, 0.9976851597878145], \"Term\": [\"accurately\", \"acknowledge\", \"already\", \"already\", \"also\", \"always\", \"always\", \"amazing\", \"animation\", \"anime\", \"anticipate\", \"art\", \"asse\", \"baby\", \"baby\", \"bad\", \"bad\", \"be\", \"bebop\", \"bebop\", \"become\", \"become\", \"beg\", \"bepop\", \"betrayal\", \"bit\", \"bond\", \"bond\", \"bounty_hunter\", \"brick\", \"bring\", \"cast\", \"cathedral\", \"cathedral\", \"character\", \"charater\", \"chick\", \"classy\", \"classy\", \"clothe\", \"come\", \"come\", \"concern\", \"concern\", \"concert\", \"constraint\", \"copypasta\", \"course\", \"course\", \"cowboy\", \"cowboy\", \"crew\", \"crew\", \"dad\", \"day\", \"day\", \"dealing\", \"deconstruction\", \"deftly\", \"deftly\", \"different\", \"distinguish\", \"distinguish\", \"distraction\", \"distraction\", \"ditching\", \"dynamic\", \"dynamic\", \"end\", \"engine\", \"enjoyment\", \"episode\", \"epitome\", \"even\", \"event\", \"event\", \"ever\", \"fact\", \"fact\", \"family\", \"family\", \"fav\", \"faye\", \"faye\", \"feel\", \"first\", \"fulfil\", \"get\", \"gift\", \"give\", \"go\", \"go\", \"godly\", \"good\", \"grain\", \"grand\", \"grand\", \"great\", \"gren\", \"happen\", \"happen\", \"hard\", \"hard\", \"honesty\", \"house\", \"house\", \"hurry\", \"imprint\", \"individual\", \"individual\", \"infact\", \"interpretation\", \"interpretation\", \"introduce\", \"introduce\", \"jet\", \"jet\", \"lackadaisical\", \"ldquo\", \"ldquo\", \"leave\", \"leave\", \"lecture\", \"long\", \"long\", \"lose\", \"lose\", \"love\", \"m\", \"main\", \"make\", \"mannerism\", \"matter\", \"matter\", \"merely\", \"moe\", \"moment\", \"moment\", \"much\", \"music\", \"newly\", \"order\", \"order\", \"outro\", \"overall\", \"overboard\", \"painstakingly\", \"partner\", \"partner\", \"passage\", \"past\", \"past\", \"people\", \"pistol\", \"planning\", \"plot\", \"presentation\", \"prey\", \"principle\", \"provide\", \"provide\", \"question\", \"question\", \"rant\", \"rdquo\", \"rdquo\", \"really\", \"reluctantly\", \"revel\", \"review\", \"ridden\", \"rsquo\", \"salt\", \"say\", \"scheme\", \"scheme\", \"see\", \"seek\", \"seek\", \"seem\", \"seem\", \"series\", \"series\", \"settlement\", \"share\", \"share\", \"shout\", \"show\", \"similarly\", \"sin\", \"solution\", \"sound\", \"soundtrack\", \"spectrum\", \"spike\", \"spike\", \"spill\", \"story\", \"strengthen\", \"structured\", \"stuck\", \"support\", \"support\", \"sustain\", \"tarantino\", \"tbh\", \"tell\", \"tell\", \"tempt\", \"term\", \"term\", \"terraforme\", \"theme\", \"theme\", \"thing\", \"thing\", \"think\", \"time\", \"unintentional\", \"unsatisfied\", \"ve\", \"vicious\", \"vicious\", \"viewer\", \"viewer\", \"wall\", \"watanabe\", \"watanabe\", \"watch\", \"way\", \"way\", \"weapon\", \"well\", \"willingly\"]}, \"R\": 30, \"lambda.step\": 0.01, \"plot.opts\": {\"xlab\": \"PC1\", \"ylab\": \"PC2\"}, \"topic.order\": [5, 4, 7, 8, 2, 6, 3, 1]};\n",
       "\n",
       "function LDAvis_load_lib(url, callback){\n",
       "  var s = document.createElement('script');\n",
       "  s.src = url;\n",
       "  s.async = true;\n",
       "  s.onreadystatechange = s.onload = callback;\n",
       "  s.onerror = function(){console.warn(\"failed to load library \" + url);};\n",
       "  document.getElementsByTagName(\"head\")[0].appendChild(s);\n",
       "}\n",
       "\n",
       "if(typeof(LDAvis) !== \"undefined\"){\n",
       "   // already loaded: just create the visualization\n",
       "   !function(LDAvis){\n",
       "       new LDAvis(\"#\" + \"ldavis_el3016821357922737764878032552\", ldavis_el3016821357922737764878032552_data);\n",
       "   }(LDAvis);\n",
       "}else if(typeof define === \"function\" && define.amd){\n",
       "   // require.js is available: use it to load d3/LDAvis\n",
       "   require.config({paths: {d3: \"https://d3js.org/d3.v5\"}});\n",
       "   require([\"d3\"], function(d3){\n",
       "      window.d3 = d3;\n",
       "      LDAvis_load_lib(\"https://cdn.jsdelivr.net/gh/bmabey/pyLDAvis@3.3.1/pyLDAvis/js/ldavis.v3.0.0.js\", function(){\n",
       "        new LDAvis(\"#\" + \"ldavis_el3016821357922737764878032552\", ldavis_el3016821357922737764878032552_data);\n",
       "      });\n",
       "    });\n",
       "}else{\n",
       "    // require.js not available: dynamically load d3 & LDAvis\n",
       "    LDAvis_load_lib(\"https://d3js.org/d3.v5.js\", function(){\n",
       "         LDAvis_load_lib(\"https://cdn.jsdelivr.net/gh/bmabey/pyLDAvis@3.3.1/pyLDAvis/js/ldavis.v3.0.0.js\", function(){\n",
       "                 new LDAvis(\"#\" + \"ldavis_el3016821357922737764878032552\", ldavis_el3016821357922737764878032552_data);\n",
       "            })\n",
       "         });\n",
       "}\n",
       "</script>"
      ],
      "text/plain": [
       "PreparedData(topic_coordinates=              x         y  topics  cluster       Freq\n",
       "topic                                                \n",
       "4      0.341237  0.001554       1        1  94.724864\n",
       "3     -0.059874  0.206451       2        1   4.341001\n",
       "6     -0.079011 -0.086737       3        1   0.644430\n",
       "7     -0.047259 -0.031773       4        1   0.197090\n",
       "1     -0.040328 -0.023906       5        1   0.040662\n",
       "5     -0.039559 -0.023275       6        1   0.040548\n",
       "2     -0.037604 -0.021157       7        1   0.005712\n",
       "0     -0.037604 -0.021157       8        1   0.005693, topic_info=              Term        Freq       Total Category  logprob  loglift\n",
       "158          spike  567.000000  567.000000  Default  30.0000  30.0000\n",
       "118           past  276.000000  276.000000  Default  29.0000  29.0000\n",
       "89             jet  288.000000  288.000000  Default  28.0000  28.0000\n",
       "466           seem  233.000000  233.000000  Default  27.0000  27.0000\n",
       "261           crew  160.000000  160.000000  Default  26.0000  26.0000\n",
       "..             ...         ...         ...      ...      ...      ...\n",
       "16   bounty_hunter    0.000733  139.013649   Topic8  -8.9343  -2.3790\n",
       "19            cast    0.000733  141.388656   Topic8  -8.9343  -2.3959\n",
       "37       different    0.000733  248.206843   Topic8  -8.9343  -2.9587\n",
       "46             end    0.000733  420.556259   Topic8  -8.9343  -3.4860\n",
       "47       enjoyment    0.000733  613.263885   Topic8  -8.9343  -3.8632\n",
       "\n",
       "[395 rows x 6 columns], token_table=      Topic      Freq         Term\n",
       "term                              \n",
       "7463      2  0.920896   accurately\n",
       "1796      2  1.023216  acknowledge\n",
       "548       1  0.889679      already\n",
       "548       2  0.110063      already\n",
       "1         1  0.999153         also\n",
       "...     ...       ...          ...\n",
       "181       1  0.997317          way\n",
       "181       2  0.002645          way\n",
       "5203      3  0.969471       weapon\n",
       "528       1  0.999330         well\n",
       "3456      2  0.997685    willingly\n",
       "\n",
       "[234 rows x 3 columns], R=30, lambda_step=0.01, plot_opts={'xlab': 'PC1', 'ylab': 'PC2'}, topic_order=[5, 4, 7, 8, 2, 6, 3, 1])"
      ]
     },
     "execution_count": 22,
     "metadata": {},
     "output_type": "execute_result"
    }
   ],
   "source": [
    "# Generate a visualization of the topic models\n",
    "\n",
    "import pyLDAvis.gensim_models\n",
    "pyLDAvis.enable_notebook()\n",
    "vis = pyLDAvis.gensim_models.prepare(lda_model, corpus, id2word)\n",
    "vis"
   ]
  }
 ],
 "metadata": {
  "kernelspec": {
   "display_name": "Python 3",
   "language": "python",
   "name": "python3"
  },
  "language_info": {
   "codemirror_mode": {
    "name": "ipython",
    "version": 3
   },
   "file_extension": ".py",
   "mimetype": "text/x-python",
   "name": "python",
   "nbconvert_exporter": "python",
   "pygments_lexer": "ipython3",
   "version": "3.8.5"
  }
 },
 "nbformat": 4,
 "nbformat_minor": 4
}
