{
 "cells": [
  {
   "cell_type": "markdown",
   "metadata": {},
   "source": [
    "### INST447 Project Part 2\n",
    "#### Members: Alexander Chui and Matthew Chan"
   ]
  },
  {
   "cell_type": "markdown",
   "metadata": {},
   "source": [
    "### What factors affect ratings for an anime?"
   ]
  },
  {
   "cell_type": "code",
   "execution_count": 1,
   "metadata": {},
   "outputs": [],
   "source": [
    "import warnings\n",
    "warnings.filterwarnings('ignore')"
   ]
  },
  {
   "cell_type": "code",
   "execution_count": 2,
   "metadata": {},
   "outputs": [],
   "source": [
    "#Importing the required libraries\n",
    "import pandas as pd\n",
    "from bs4 import BeautifulSoup\n",
    "from urllib.request import urlopen \n",
    "import numpy as np\n",
    "from requests import get"
   ]
  },
  {
   "cell_type": "code",
   "execution_count": 3,
   "metadata": {},
   "outputs": [],
   "source": [
    "#libraries imported for handling rate limits and console formatting\n",
    "from time import time, sleep\n",
    "from random import randint\n",
    "from warnings import warn\n",
    "from IPython.core.display import clear_output"
   ]
  },
  {
   "cell_type": "code",
   "execution_count": 4,
   "metadata": {},
   "outputs": [
    {
     "name": "stderr",
     "output_type": "stream",
     "text": [
      "C:\\Users\\MaNinjaChan\\anaconda3\\lib\\site-packages\\sklearn\\linear_model\\_least_angle.py:34: DeprecationWarning: `np.float` is a deprecated alias for the builtin `float`. To silence this warning, use `float` by itself. Doing this will not modify any behavior and is safe. If you specifically wanted the numpy scalar type, use `np.float64` here.\n",
      "Deprecated in NumPy 1.20; for more details and guidance: https://numpy.org/devdocs/release/1.20.0-notes.html#deprecations\n",
      "  method='lar', copy_X=True, eps=np.finfo(np.float).eps,\n",
      "C:\\Users\\MaNinjaChan\\anaconda3\\lib\\site-packages\\sklearn\\linear_model\\_least_angle.py:164: DeprecationWarning: `np.float` is a deprecated alias for the builtin `float`. To silence this warning, use `float` by itself. Doing this will not modify any behavior and is safe. If you specifically wanted the numpy scalar type, use `np.float64` here.\n",
      "Deprecated in NumPy 1.20; for more details and guidance: https://numpy.org/devdocs/release/1.20.0-notes.html#deprecations\n",
      "  method='lar', copy_X=True, eps=np.finfo(np.float).eps,\n",
      "C:\\Users\\MaNinjaChan\\anaconda3\\lib\\site-packages\\sklearn\\linear_model\\_least_angle.py:281: DeprecationWarning: `np.float` is a deprecated alias for the builtin `float`. To silence this warning, use `float` by itself. Doing this will not modify any behavior and is safe. If you specifically wanted the numpy scalar type, use `np.float64` here.\n",
      "Deprecated in NumPy 1.20; for more details and guidance: https://numpy.org/devdocs/release/1.20.0-notes.html#deprecations\n",
      "  eps=np.finfo(np.float).eps, copy_Gram=True, verbose=0,\n",
      "C:\\Users\\MaNinjaChan\\anaconda3\\lib\\site-packages\\sklearn\\linear_model\\_least_angle.py:865: DeprecationWarning: `np.float` is a deprecated alias for the builtin `float`. To silence this warning, use `float` by itself. Doing this will not modify any behavior and is safe. If you specifically wanted the numpy scalar type, use `np.float64` here.\n",
      "Deprecated in NumPy 1.20; for more details and guidance: https://numpy.org/devdocs/release/1.20.0-notes.html#deprecations\n",
      "  eps=np.finfo(np.float).eps, copy_X=True, fit_path=True,\n",
      "C:\\Users\\MaNinjaChan\\anaconda3\\lib\\site-packages\\sklearn\\linear_model\\_least_angle.py:1121: DeprecationWarning: `np.float` is a deprecated alias for the builtin `float`. To silence this warning, use `float` by itself. Doing this will not modify any behavior and is safe. If you specifically wanted the numpy scalar type, use `np.float64` here.\n",
      "Deprecated in NumPy 1.20; for more details and guidance: https://numpy.org/devdocs/release/1.20.0-notes.html#deprecations\n",
      "  eps=np.finfo(np.float).eps, copy_X=True, fit_path=True,\n",
      "C:\\Users\\MaNinjaChan\\anaconda3\\lib\\site-packages\\sklearn\\linear_model\\_least_angle.py:1149: DeprecationWarning: `np.float` is a deprecated alias for the builtin `float`. To silence this warning, use `float` by itself. Doing this will not modify any behavior and is safe. If you specifically wanted the numpy scalar type, use `np.float64` here.\n",
      "Deprecated in NumPy 1.20; for more details and guidance: https://numpy.org/devdocs/release/1.20.0-notes.html#deprecations\n",
      "  eps=np.finfo(np.float).eps, positive=False):\n",
      "C:\\Users\\MaNinjaChan\\anaconda3\\lib\\site-packages\\sklearn\\linear_model\\_least_angle.py:1379: DeprecationWarning: `np.float` is a deprecated alias for the builtin `float`. To silence this warning, use `float` by itself. Doing this will not modify any behavior and is safe. If you specifically wanted the numpy scalar type, use `np.float64` here.\n",
      "Deprecated in NumPy 1.20; for more details and guidance: https://numpy.org/devdocs/release/1.20.0-notes.html#deprecations\n",
      "  max_n_alphas=1000, n_jobs=None, eps=np.finfo(np.float).eps,\n",
      "C:\\Users\\MaNinjaChan\\anaconda3\\lib\\site-packages\\sklearn\\linear_model\\_least_angle.py:1621: DeprecationWarning: `np.float` is a deprecated alias for the builtin `float`. To silence this warning, use `float` by itself. Doing this will not modify any behavior and is safe. If you specifically wanted the numpy scalar type, use `np.float64` here.\n",
      "Deprecated in NumPy 1.20; for more details and guidance: https://numpy.org/devdocs/release/1.20.0-notes.html#deprecations\n",
      "  max_n_alphas=1000, n_jobs=None, eps=np.finfo(np.float).eps,\n",
      "C:\\Users\\MaNinjaChan\\anaconda3\\lib\\site-packages\\sklearn\\linear_model\\_least_angle.py:1755: DeprecationWarning: `np.float` is a deprecated alias for the builtin `float`. To silence this warning, use `float` by itself. Doing this will not modify any behavior and is safe. If you specifically wanted the numpy scalar type, use `np.float64` here.\n",
      "Deprecated in NumPy 1.20; for more details and guidance: https://numpy.org/devdocs/release/1.20.0-notes.html#deprecations\n",
      "  eps=np.finfo(np.float).eps, copy_X=True, positive=False):\n",
      "C:\\Users\\MaNinjaChan\\anaconda3\\lib\\site-packages\\sklearn\\decomposition\\_lda.py:28: DeprecationWarning: `np.float` is a deprecated alias for the builtin `float`. To silence this warning, use `float` by itself. Doing this will not modify any behavior and is safe. If you specifically wanted the numpy scalar type, use `np.float64` here.\n",
      "Deprecated in NumPy 1.20; for more details and guidance: https://numpy.org/devdocs/release/1.20.0-notes.html#deprecations\n",
      "  EPS = np.finfo(np.float).eps\n",
      "C:\\Users\\MaNinjaChan\\anaconda3\\lib\\site-packages\\sklearn\\feature_extraction\\image.py:172: DeprecationWarning: `np.int` is a deprecated alias for the builtin `int`. To silence this warning, use `int` by itself. Doing this will not modify any behavior and is safe. When replacing `np.int`, you may wish to use e.g. `np.int64` or `np.int32` to specify the precision. If you wish to review your current use, check the release note link for additional information.\n",
      "Deprecated in NumPy 1.20; for more details and guidance: https://numpy.org/devdocs/release/1.20.0-notes.html#deprecations\n",
      "  dtype=np.int):\n"
     ]
    }
   ],
   "source": [
    "import regex as re\n",
    "\n",
    "# Gensim\n",
    "import gensim\n",
    "import gensim.corpora as corpora\n",
    "from gensim.utils import simple_preprocess\n",
    "\n",
    "# spacy for lemmatization\n",
    "import spacy\n",
    "\n",
    "# Plotting tools\n",
    "import pyLDAvis\n",
    "\n",
    "import nltk; "
   ]
  },
  {
   "cell_type": "code",
   "execution_count": 5,
   "metadata": {},
   "outputs": [],
   "source": [
    "# NLTK Stop words\n",
    "from nltk.corpus import stopwords\n",
    "stop_words = stopwords.words('english')\n",
    "stop_words.extend(['from', 'subject', 're', 'edu', 'use'])"
   ]
  },
  {
   "cell_type": "code",
   "execution_count": 6,
   "metadata": {},
   "outputs": [],
   "source": [
    "#Connecting to the URL on the web to access its content (Crunchyroll)\n",
    "# html=urlopen('https://www.crunchyroll.com/fullmetal-alchemist-brotherhood/reviews/helpful/page1')\n",
    "# html.status"
   ]
  },
  {
   "cell_type": "code",
   "execution_count": 7,
   "metadata": {},
   "outputs": [
    {
     "data": {
      "text/plain": [
       "200"
      ]
     },
     "execution_count": 7,
     "metadata": {},
     "output_type": "execute_result"
    }
   ],
   "source": [
    "#Connecting to the URL on the web to access its content (MAL)\n",
    "html=urlopen('https://myanimelist.net/anime/34566/Boruto__Naruto_Next_Generations/reviews?p=1')\n",
    "html.status"
   ]
  },
  {
   "cell_type": "code",
   "execution_count": 8,
   "metadata": {},
   "outputs": [],
   "source": [
    "#Creating an instance of beautifulsoup object to begin web scraping\n",
    "bs=BeautifulSoup(html.read(),'html.parser')"
   ]
  },
  {
   "cell_type": "code",
   "execution_count": 9,
   "metadata": {},
   "outputs": [
    {
     "name": "stdout",
     "output_type": "stream",
     "text": [
      "20\n"
     ]
    }
   ],
   "source": [
    "#Acessing the container objects with the anime info \n",
    "anime_review_containers = bs.find_all('div', {'class':{'borderDark'}})\n",
    "print(len(anime_review_containers))"
   ]
  },
  {
   "cell_type": "code",
   "execution_count": 10,
   "metadata": {},
   "outputs": [],
   "source": [
    "#Creating empty lists to store all the items \n",
    "review = []"
   ]
  },
  {
   "cell_type": "code",
   "execution_count": 11,
   "metadata": {},
   "outputs": [],
   "source": [
    "# Preparing the monitoring of the loop\n",
    "start_time = time()\n",
    "request = 0"
   ]
  },
  {
   "cell_type": "code",
   "execution_count": 12,
   "metadata": {},
   "outputs": [],
   "source": [
    "#Extracting each job name in loop\n",
    "for page in range(1,13):\n",
    "    # Make a get request\n",
    "        #https://myanimelist.net/anime/genre/1/Action?page=1\n",
    "        #https://myanimelist.net/anime/genre/1/Action?page=2\n",
    "        response = get('https://myanimelist.net/anime/34566/Boruto__Naruto_Next_Generations/reviews?p='+ str(page))\n",
    "        \n",
    "#         # Pause the loop\n",
    "#         sleep(randint(8,15))\n",
    "\n",
    "#         # Monitor the requests\n",
    "#         request += 1\n",
    "#         elapsed_time = time() - start_time\n",
    "#         print('Request:{}; Frequency: {} requests/s'.format(request, \n",
    "#                                                             request/elapsed_time))\n",
    "#         clear_output(wait = True)\n",
    "\n",
    "#         # Throw a warning for non-200 status codes\n",
    "#         if response.status_code != 200:\n",
    "#             warn('Request: {}; Status code: {}'.format(request, \n",
    "#                                                        response.status_code))\n",
    "\n",
    "#         # Break the loop if the number of requests is greater than expected\n",
    "#         if request > 100:\n",
    "#             warn('Number of requests was greater than expected.')\n",
    "#             break\n",
    "        \n",
    "        # Parse the content of the request with BeautifulSoup\n",
    "        bs = BeautifulSoup(response.text, 'html.parser')\n",
    "        \n",
    "        #Acessing the container objects with the anime info \n",
    "        anime_review_containers = bs.find_all('div', {'class':{'borderDark'}})\n",
    "\n",
    "        #Extracting all the elements \n",
    "        for container in anime_review_containers:\n",
    "        # If the movie has Metascore, then extract:\n",
    "        #  if container.find('div', {'class':{'scoremem'}})  is not None:\n",
    "        \n",
    "        # The name of anime\n",
    "            try: \n",
    "                reviews = container.find('div', {'class':'spaceit textReadability word-break pt8 mt8'})\n",
    "                review.append(reviews.text)\n",
    "            except:\n",
    "                review.append('Missing')"
   ]
  },
  {
   "cell_type": "code",
   "execution_count": 13,
   "metadata": {},
   "outputs": [
    {
     "name": "stdout",
     "output_type": "stream",
     "text": [
      "<class 'pandas.core.frame.DataFrame'>\n",
      "RangeIndex: 240 entries, 0 to 239\n",
      "Data columns (total 1 columns):\n",
      " #   Column  Non-Null Count  Dtype \n",
      "---  ------  --------------  ----- \n",
      " 0   Review  240 non-null    object\n",
      "dtypes: object(1)\n",
      "memory usage: 2.0+ KB\n",
      "None\n"
     ]
    }
   ],
   "source": [
    "#Creating a pandas dataframe to store the objects extracted\n",
    "anime_review = pd.DataFrame({'Review': review\n",
    "})\n",
    "print(anime_review.info())"
   ]
  },
  {
   "cell_type": "code",
   "execution_count": 14,
   "metadata": {},
   "outputs": [
    {
     "data": {
      "text/html": [
       "<div>\n",
       "<style scoped>\n",
       "    .dataframe tbody tr th:only-of-type {\n",
       "        vertical-align: middle;\n",
       "    }\n",
       "\n",
       "    .dataframe tbody tr th {\n",
       "        vertical-align: top;\n",
       "    }\n",
       "\n",
       "    .dataframe thead th {\n",
       "        text-align: right;\n",
       "    }\n",
       "</style>\n",
       "<table border=\"1\" class=\"dataframe\">\n",
       "  <thead>\n",
       "    <tr style=\"text-align: right;\">\n",
       "      <th></th>\n",
       "      <th>Review</th>\n",
       "    </tr>\n",
       "  </thead>\n",
       "  <tbody>\n",
       "    <tr>\n",
       "      <th>0</th>\n",
       "      <td>\\n\\n\\n\\nOverall\\n1\\n\\n\\nStory\\n1\\n\\n\\nAnimatio...</td>\n",
       "    </tr>\n",
       "    <tr>\n",
       "      <th>1</th>\n",
       "      <td>\\n\\n\\n\\nOverall\\n1\\n\\n\\nStory\\n1\\n\\n\\nAnimatio...</td>\n",
       "    </tr>\n",
       "    <tr>\n",
       "      <th>2</th>\n",
       "      <td>\\n\\n\\n\\nOverall\\n1\\n\\n\\nStory\\n1\\n\\n\\nAnimatio...</td>\n",
       "    </tr>\n",
       "    <tr>\n",
       "      <th>3</th>\n",
       "      <td>\\n\\n\\n\\nOverall\\n3\\n\\n\\nStory\\n2\\n\\n\\nAnimatio...</td>\n",
       "    </tr>\n",
       "    <tr>\n",
       "      <th>4</th>\n",
       "      <td>\\n\\n\\n\\nOverall\\n8\\n\\n\\nStory\\n9\\n\\n\\nAnimatio...</td>\n",
       "    </tr>\n",
       "  </tbody>\n",
       "</table>\n",
       "</div>"
      ],
      "text/plain": [
       "                                              Review\n",
       "0  \\n\\n\\n\\nOverall\\n1\\n\\n\\nStory\\n1\\n\\n\\nAnimatio...\n",
       "1  \\n\\n\\n\\nOverall\\n1\\n\\n\\nStory\\n1\\n\\n\\nAnimatio...\n",
       "2  \\n\\n\\n\\nOverall\\n1\\n\\n\\nStory\\n1\\n\\n\\nAnimatio...\n",
       "3  \\n\\n\\n\\nOverall\\n3\\n\\n\\nStory\\n2\\n\\n\\nAnimatio...\n",
       "4  \\n\\n\\n\\nOverall\\n8\\n\\n\\nStory\\n9\\n\\n\\nAnimatio..."
      ]
     },
     "execution_count": 14,
     "metadata": {},
     "output_type": "execute_result"
    }
   ],
   "source": [
    "# Display the top 5 rows of dataset\n",
    "anime_review.head()"
   ]
  },
  {
   "cell_type": "code",
   "execution_count": 15,
   "metadata": {},
   "outputs": [
    {
     "name": "stdout",
     "output_type": "stream",
     "text": [
      " Overall 1 Story 1 Animation 7 Sound 8 Character 1 Enjoyment 1 Yikes, just yikes. Because of my love for Naruto I really tried to delude myself into thinking this show wasn't that bad. But really, what else is there to say about Boruto other than it's an utter disgrace. Like most others I wanted to watch this show because I'm sentimental when it comes to Naruto, making it that much worse of a betrayal. \"Wow brotato chip you're sounding pretty salty.\" Ding Ding Ding we have a winner! To say the show reeks of a money grab is an understatement. Like driving without a steering wheel, the show has no direction. To begin the show they try to reel you in with a spoiler that is so ludicrous that it gets to the point where it almost tarnishes the image of Naruto. Story: Not much to say, there is no plot. You really can't analyze any kind of story here because it just doesn't exist. We thought the shinobi world would be slower after Naruto but nobody even has a goal or purpose in life anymore. There's no driving force for any individual, village, or nation. There is one character in the show that has a goal and a purpose (Sarada Uchiha). Characters: The whole idea of the hokage stamping papers 24/7 was funny in Naruto but they took it way too far in Boruto. The only thing we've seen Naruto do is stamping papers. They took this to the point where Naruto is a terrible father who is completely absent at home and just sends shadow clones for important family matters, such as his kids birthday. Truly disgusting and disgraceful. Almost all of the main characters are the exact copies of the characters from Naruto. They all have the same appearance, personality, justsu, etc. The only slight difference between the main cast and their parents is a different name. Writing does not get more lazy than that ladies and gentlemen. The show has no story, no action, no comedy, yada yada yada. It is the epitome of cheap trash, milking the hearts of anime fans until they look like shriveled old hags like Lady Tsunade. When there is no drug in existence that can make this show funny or entertaining in any way, you know there's a problem. I would much rather prefer to have a show that is constantly on hiatus, but has exceptional writing and a story that is thrilling, intelligent, and compelling like Hunter x Hunter. Boruto/Naruto should've just taken a page out of the Yu Yu Hakusho handbook and ended it on a high note. Instead we are given a show that makes a mockery of anime. Overall/Enjoyment: If I try to find any silver lining it is Sarada Uchiha who is the only interesting character and provides the only chance for Boruto to have a story in the future. Unfortunately, I don't think that's gona happen. I cannot further emphasize that unless you wana have your intelligence insulted and to bear witness to the metaphorical manifestation of Boruto/Kishimoto spitting on Naruto's grave, stay away! I'll offer this parting quote from the great Billy Madison as my condolences. Kishimoto listen: \"What you've just said is one of the most insanely idiotic things I have ever heard. At no point in your rambling, incoherent response were you even close to anything that could be considered a rational thought. Everyone in this room is now dumber for having listened to it. I award you no points, and may God have mercy on your soul.\" Helpful read more \n"
     ]
    },
    {
     "name": "stderr",
     "output_type": "stream",
     "text": [
      "<>:5: DeprecationWarning: invalid escape sequence \\s\n",
      "<>:5: DeprecationWarning: invalid escape sequence \\s\n",
      "<ipython-input-15-b412c0db5fd7>:5: DeprecationWarning: invalid escape sequence \\s\n",
      "  data = [re.sub('\\s+', ' ', sent) for sent in data]\n"
     ]
    }
   ],
   "source": [
    "# Convert to list\n",
    "data = anime_review['Review'].tolist()\n",
    "\n",
    "# Remove new line characters\n",
    "data = [re.sub('\\s+', ' ', sent) for sent in data]\n",
    "\n",
    "print(data[0])"
   ]
  },
  {
   "cell_type": "code",
   "execution_count": 16,
   "metadata": {},
   "outputs": [
    {
     "name": "stdout",
     "output_type": "stream",
     "text": [
      "['overall', 'story', 'animation', 'sound', 'character', 'enjoyment', 'yikes', 'just', 'yikes', 'because', 'of', 'my', 'love', 'for', 'naruto', 'really', 'tried', 'to', 'delude', 'myself', 'into', 'thinking', 'this', 'show', 'wasn', 'that', 'bad', 'but', 'really', 'what', 'else', 'is', 'there', 'to', 'say', 'about', 'boruto', 'other', 'than', 'it', 'an', 'utter', 'disgrace', 'like', 'most', 'others', 'wanted', 'to', 'watch', 'this', 'show', 'because', 'sentimental', 'when', 'it', 'comes', 'to', 'naruto', 'making', 'it', 'that', 'much', 'worse', 'of', 'betrayal', 'wow', 'brotato', 'chip', 'you', 're', 'sounding', 'pretty', 'salty', 'ding', 'ding', 'ding', 'we', 'have', 'winner', 'to', 'say', 'the', 'show', 'reeks', 'of', 'money', 'grab', 'is', 'an', 'understatement', 'like', 'driving', 'without', 'steering', 'wheel', 'the', 'show', 'has', 'no', 'direction', 'to', 'begin', 'the', 'show', 'they', 'try', 'to', 'reel', 'you', 'in', 'with', 'spoiler', 'that', 'is', 'so', 'ludicrous', 'that', 'it', 'gets', 'to', 'the', 'point', 'where', 'it', 'almost', 'tarnishes', 'the', 'image', 'of', 'naruto', 'story', 'not', 'much', 'to', 'say', 'there', 'is', 'no', 'plot', 'you', 'really', 'can', 'analyze', 'any', 'kind', 'of', 'story', 'here', 'because', 'it', 'just', 'doesn', 'exist', 'we', 'thought', 'the', 'shinobi', 'world', 'would', 'be', 'slower', 'after', 'naruto', 'but', 'nobody', 'even', 'has', 'goal', 'or', 'purpose', 'in', 'life', 'anymore', 'there', 'no', 'driving', 'force', 'for', 'any', 'individual', 'village', 'or', 'nation', 'there', 'is', 'one', 'character', 'in', 'the', 'show', 'that', 'has', 'goal', 'and', 'purpose', 'sarada', 'uchiha', 'characters', 'the', 'whole', 'idea', 'of', 'the', 'hokage', 'stamping', 'papers', 'was', 'funny', 'in', 'naruto', 'but', 'they', 'took', 'it', 'way', 'too', 'far', 'in', 'boruto', 'the', 'only', 'thing', 'we', 've', 'seen', 'naruto', 'do', 'is', 'stamping', 'papers', 'they', 'took', 'this', 'to', 'the', 'point', 'where', 'naruto', 'is', 'terrible', 'father', 'who', 'is', 'completely', 'absent', 'at', 'home', 'and', 'just', 'sends', 'shadow', 'clones', 'for', 'important', 'family', 'matters', 'such', 'as', 'his', 'kids', 'birthday', 'truly', 'disgusting', 'and', 'disgraceful', 'almost', 'all', 'of', 'the', 'main', 'characters', 'are', 'the', 'exact', 'copies', 'of', 'the', 'characters', 'from', 'naruto', 'they', 'all', 'have', 'the', 'same', 'appearance', 'personality', 'justsu', 'etc', 'the', 'only', 'slight', 'difference', 'between', 'the', 'main', 'cast', 'and', 'their', 'parents', 'is', 'different', 'name', 'writing', 'does', 'not', 'get', 'more', 'lazy', 'than', 'that', 'ladies', 'and', 'gentlemen', 'the', 'show', 'has', 'no', 'story', 'no', 'action', 'no', 'comedy', 'yada', 'yada', 'yada', 'it', 'is', 'the', 'epitome', 'of', 'cheap', 'trash', 'milking', 'the', 'hearts', 'of', 'anime', 'fans', 'until', 'they', 'look', 'like', 'shriveled', 'old', 'hags', 'like', 'lady', 'tsunade', 'when', 'there', 'is', 'no', 'drug', 'in', 'existence', 'that', 'can', 'make', 'this', 'show', 'funny', 'or', 'entertaining', 'in', 'any', 'way', 'you', 'know', 'there', 'problem', 'would', 'much', 'rather', 'prefer', 'to', 'have', 'show', 'that', 'is', 'constantly', 'on', 'hiatus', 'but', 'has', 'exceptional', 'writing', 'and', 'story', 'that', 'is', 'thrilling', 'intelligent', 'and', 'compelling', 'like', 'hunter', 'hunter', 'boruto', 'naruto', 'should', 've', 'just', 'taken', 'page', 'out', 'of', 'the', 'yu', 'yu', 'hakusho', 'handbook', 'and', 'ended', 'it', 'on', 'high', 'note', 'instead', 'we', 'are', 'given', 'show', 'that', 'makes', 'mockery', 'of', 'anime', 'overall', 'enjoyment', 'if', 'try', 'to', 'find', 'any', 'silver', 'lining', 'it', 'is', 'sarada', 'uchiha', 'who', 'is', 'the', 'only', 'interesting', 'character', 'and', 'provides', 'the', 'only', 'chance', 'for', 'boruto', 'to', 'have', 'story', 'in', 'the', 'future', 'unfortunately', 'don', 'think', 'that', 'gona', 'happen', 'cannot', 'further', 'emphasize', 'that', 'unless', 'you', 'wana', 'have', 'your', 'intelligence', 'insulted', 'and', 'to', 'bear', 'witness', 'to', 'the', 'metaphorical', 'manifestation', 'of', 'boruto', 'kishimoto', 'spitting', 'on', 'naruto', 'grave', 'stay', 'away', 'll', 'offer', 'this', 'parting', 'quote', 'from', 'the', 'great', 'billy', 'madison', 'as', 'my', 'condolences', 'kishimoto', 'listen', 'what', 'you', 've', 'just', 'said', 'is', 'one', 'of', 'the', 'most', 'insanely', 'idiotic', 'things', 'have', 'ever', 'heard', 'at', 'no', 'point', 'in', 'your', 'rambling', 'incoherent', 'response', 'were', 'you', 'even', 'close', 'to', 'anything', 'that', 'could', 'be', 'considered', 'rational', 'thought', 'everyone', 'in', 'this', 'room', 'is', 'now', 'dumber', 'for', 'having', 'listened', 'to', 'it', 'award', 'you', 'no', 'points', 'and', 'may', 'god', 'have', 'mercy', 'on', 'your', 'soul', 'helpful', 'read', 'more']\n"
     ]
    }
   ],
   "source": [
    "# Clean and tokenize the reviews\n",
    "\n",
    "def sent_to_words(sentences):\n",
    "    for sentence in sentences:\n",
    "        yield(gensim.utils.simple_preprocess(str(sentence), deacc=True))  # deacc=True removes punctuations\n",
    "        \n",
    "data_words = list(sent_to_words(data))\n",
    "\n",
    "print(data_words[0])"
   ]
  },
  {
   "cell_type": "code",
   "execution_count": 17,
   "metadata": {},
   "outputs": [
    {
     "name": "stdout",
     "output_type": "stream",
     "text": [
      "['overall', 'story', 'animation', 'sound', 'character', 'enjoyment', 'hello', 'anime', 'lovers', 'no', 'spoilers', 'short', 'the', 'first', 'episodes', 'are', 'fillers', 'some', 'are', 'very', 'good', 'and', 'enjoyable', 'funny', 'others', 'are', 'ok', 'and', 'there', 'are', 'some', 'meh', 'still', 'though', 'despite', 'the', 'fact', 'that', 'are', 'fillers', 'still', 'you', 'don', 'want', 'to', 'miss', 'some', 'important', 'arcs', 'of', 'this', 'episodes', 'episode', 'is', 'like', 'the', 'worst', 'episode', 'ever', 'take', 'deep', 'breath', 'on', 'this', 'one', 'episode', 'is', 'recap', 'of', 'what', 'happend', 'so', 'far', 'reminding', 'you', 'the', 'progression', 'of', 'most', 'of', 'the', 'characters', 'from', 'episode', 'starts', 'the', 'real', 'thing', 'and', 'particularly', 'episodes', 'later', 'starts', 'the', 'momoshiki', 'arc', 'first', 'manga', 'arc', 'this', 'arc', 'also', 'is', 'on', 'the', 'boruto', 'naruto', 'the', 'movie', 'but', 'limitless', 'scenes', 'or', 'dialogues', 'and', 'genuinely', 'not', 'so', 'good', 'like', 'the', 'series', 'what', 'wanted', 'after', 'naruto', 'shipudden', 'when', 'naruto', 'shipudden', 'finished', 'wanted', 'moreee', 'wanted', 'to', 'see', 'the', 'days', 'of', 'naruto', 'as', 'hokage', 'and', 'the', 'rest', 'characters', 'before', 'the', 'new', 'generation', 'some', 'mini', 'arcs', 'you', 'know', 'on', 'peaceful', 'era', 'when', 'noticed', 'that', 'this', 'boruto', 'show', 'its', 'gonna', 'be', 'next', 'was', 'like', 'hhmm', 'sure', 'why', 'not', 'will', 'give', 'it', 'shot', 'anyway', 'im', 'still', 'gonna', 'see', 'all', 'or', 'most', 'of', 'the', 'old', 'generation', 'im', 'not', 'gonna', 'lie', 'at', 'first', 'saw', 'some', 'events', 'in', 'the', 'early', 'episodes', 'that', 'triggered', 'me', 'or', 'was', 'just', 'headshaking', 'negatively', 'episode', 'through', 'episode', 'though', 'started', 'to', 'becoming', 'better', 'and', 'much', 'better', 'and', 'eventually', 'started', 'to', 'love', 'this', 'series', 'possible', 'spoilers', 'the', 'rest', 'text', 'facts', 'future', 'events', 'in', 'my_opinion', 'expect', 'that', 'in', 'the', 'future', 'propably', 'some', 'important', 'characters', 'are', 'gonna', 'die', 'and', 'the', 'main', 'character', 'will', 'have', 'the', 'fate', 'of', 'hero', 'with', 'tragic', 'backstory', 'somehow', 'like', 'kakashi', 'but', 'not', 'losing', 'anyone', 'from', 'his', 'team', 'hope', 'as', 'manga', 'reader', 'see', 'good', 'arc', 'are', 'coming', 'better', 'than', 'momoshikis', 'arc', 'boruto', 'greatness', 'hype', 'mistakes', 'from', 'naruto', 'fans', 'large', 'number', 'of', 'naruto', 'fans', 'believe', 'that', 'the', 'naruto', 'series', 'being', 'milked', 'like', 'cow', 'pardon', 'my', 'french', 'respect', 'those', 'people', 'who', 'think', 'that', 'naruto', 'he', 'achieved', 'his', 'goal', 'become', 'hokage', 'and', 'thats', 'it', 'nothing', 'more', 'to', 'see', 'fully', 'disagree', 'with', 'those', 'though', 'who', 'they', 'compare', 'the', 'previous', 'episodes', 'of', 'naruto', 'season', 'with', 'this', 'for', 'example', 'oh', 'we', 'had', 'the', 'zabuza', 'arc', 'back', 'then', 'and', 'here', 'we', 'have', 'what', 'and', 'blah', 'blah', 'this', 'show', 'is', 'about', 'the', 'next_generations', 'and', 'it', 'supposed', 'to', 'show', 'somthing', 'else', 'different', 'path', 'and', 'not', 'reliving', 'the', 'same', 'things', 'other', 'fans', 'think', 'that', 'the', 'behavior', 'of', 'main', 'character', 'is', 'disgraceful', 'or', 'disrespectful', 'to', 'his', 'father', 'naruto', 'before', 'the', 'momoshiki', 'arc', 'hated', 'this', 'aswell', 'watching', 'boruto', 'acting', 'like', 'this', 'with', 'his', 'dad', 'issues', 'but', 'lets', 'be', 'honest', 'here', 'hes', 'not', 'to', 'blame', 'they', 'are', 'some', 'fans', 'again', 'that', 'they', 'don', 'see', 'enough', 'action', 'as', 'the', 'previous', 'seasons', 'and', 'that', 'it', 'has', 'too', 'much', 'of', 'talk', 'jutsu', 'and', 'waisting', 'of', 'time', 'well', 'those', 'people', 'either', 'forget', 'and', 'they', 'did', 'started', 'watching', 'from', 'the', 'begin', 'the', 'first', 'naruto', 'season', 'and', 'were', 'waiting', 'week', 'after', 'week', 'to', 'get', 'dissapoint', 'some', 'times', 'from', 'some', 'boring', 'af', 'episodes', 'or', 'those', 'who', 'started', 'watching', 'it', 'much', 'later', 'the', 'first', 'season', 'full', 'released', 'and', 'lets', 'say', 'the', 'upcoming', 'episode', 'of', 'second', 'season', 'was', 'somewhere', 'to', 'next', 'release', 'just', 'like', 'in', 'my', 'case', 'maybe', 'they', 'fast', 'forward', 'or', 'skipped', 'some', 'minutes', 'or', 'entired', 'episodes', 'sometimes', 'because', 'wasn', 'interesting', 'if', 'some', 'people', 'still', 'loved', 'fillers', 'flashbacks', 'talk', 'staring', 'from', 'naruto', 'but', 'don', 'appreciate', 'atleast', 'the', 'good', 'episodes', 'of', 'boruto', 'then', 'what', 'more', 'can', 'say', 'don', 'know', 'it', 'seems', 'bit', 'hypocritical', 'anyway', 'different', 'minds', 'different', 'thoughts', 'heard', 'from', 'someone', 'that', 'is', 'not', 'gonna', 'watch', 'boruto', 'cause', 'sasuke', 'have', 'one', 'arm', 'simple', 'and', 'clear', 'right', 'haha', 'my', 'god', 'thank', 'you', 'for', 'your', 'time', 'dear', 'reader', 'hope', 'my', 'review', 'was', 'helpful', 'have', 'nice', 'day', 'helpful_read', 'more']\n"
     ]
    }
   ],
   "source": [
    "# Create bigrams, remove stop words and lemmatize the reviews\n",
    "\n",
    "# Build the bigram models\n",
    "bigram = gensim.models.Phrases(data_words, min_count=5, threshold=100) # higher threshold fewer phrases.\n",
    "\n",
    "# Faster way to get a sentence clubbed as a trigram/bigram\n",
    "bigram_mod = gensim.models.phrases.Phraser(bigram)\n",
    "\n",
    "print(bigram_mod[data_words[4]])"
   ]
  },
  {
   "cell_type": "code",
   "execution_count": 18,
   "metadata": {},
   "outputs": [],
   "source": [
    "# Defining removing stopwords\n",
    "def remove_stopwords(texts):\n",
    "    return [[word for word in simple_preprocess(str(doc)) if word not in stop_words] for doc in texts]\n",
    "\n",
    "# Defining making bigrams\n",
    "def make_bigrams(texts):\n",
    "    return [bigram_mod[doc] for doc in texts]\n",
    "\n",
    "# Defining lemmatization\n",
    "def lemmatization(texts, allowed_postags=['NOUN', 'ADJ', 'VERB', 'ADV']):\n",
    "    texts_out = []\n",
    "    for sent in texts:\n",
    "        doc = nlp(\" \".join(sent)) \n",
    "        texts_out.append([token.lemma_ for token in doc if token.pos_ in allowed_postags])\n",
    "    return texts_out"
   ]
  },
  {
   "cell_type": "code",
   "execution_count": 19,
   "metadata": {},
   "outputs": [
    {
     "name": "stdout",
     "output_type": "stream",
     "text": [
      "['overall', 'story', 'animation', 'sound', 'character', 'enjoyment', 'yike', 'yike', 'love', 'naruto', 'really', 'try', 'delude', 'thinking', 'show', 'bad', 'really', 'else', 'say', 'boruto', 'utter', 'disgrace', 'other', 'want', 'watch', 'show', 'sentimental', 'come', 'naruto', 'make', 'much', 'bad', 'betrayal', 'brotato', 'chip', 'sound', 'pretty', 'salty', 'ding', 'ding', 'ding', 'winner', 'say', 'show', 'reeks', 'money', 'grab', 'understatement', 'drive', 'steer', 'wheel', 'show', 'direction', 'begin', 'show', 'try', 'reel', 'spoiler', 'ludicrous', 'get', 'point', 'almost', 'tarnish', 'image', 'naruto', 'story', 'much', 'say', 'plot', 'really', 'analyze', 'kind', 'story', 'exist', 'think', 'shinobi', 'world', 'slower', 'naruto', 'even', 'goal', 'purpose', 'life', 'anymore', 'drive', 'force', 'individual', 'village', 'nation', 'character', 'show', 'goal', 'purpose', 'sarada', 'uchiha', 'character', 'whole', 'idea', 'hokage', 'stamp', 'paper', 'funny', 'naruto', 'take', 'way', 'far', 'boruto', 'thing', 'see', 'naruto', 'stamp', 'paper', 'take', 'point', 'naruto', 'terrible', 'father', 'completely', 'absent', 'home', 'send', 'shadow', 'clone', 'important', 'family', 'matter', 'kid', 'birthday', 'truly', 'disgusting', 'disgraceful', 'almost', 'main', 'character', 'exact', 'copy', 'character', 'naruto', 'appearance', 'personality', 'justsu', 'slight', 'difference', 'main', 'cast', 'parent', 'different', 'name', 'writing', 'get', 'lazy', 'lady', 'gentleman', 'show', 'story', 'action', 'comedy', 'yada', 'yada', 'yada', 'epitome', 'cheap', 'trash', 'milking', 'heart', 'anime', 'fan', 'look', 'shrivel', 'old', 'hag', 'lady', 'tsunade', 'drug', 'existence', 'make', 'show', 'funny', 'entertaining', 'way', 'know', 'problem', 'much', 'rather', 'prefer', 'show', 'constantly', 'hiatus', 'exceptional', 'writing', 'story', 'thrill', 'intelligent', 'compelling', 'hunter', 'hunter', 'boruto', 'naruto', 'take', 'page', 'hakusho', 'handbook', 'end', 'high', 'note', 'instead', 'give', 'show', 'make', 'mockery', 'anime', 'overall', 'enjoyment', 'try', 'find', 'silver', 'lining', 'sarada', 'uchiha', 'interesting', 'character', 'provide', 'chance', 'boruto', 'story', 'future', 'unfortunately', 'think', 'gona', 'happen', 'emphasize', 'wana', 'intelligence', 'insult', 'bear', 'witness', 'metaphorical', 'manifestation', 'boruto', 'kishimoto', 'spit', 'naruto', 'grave', 'stay', 'away', 'offer', 'part', 'great', 'billy', 'madison', 'condolence', 'kishimoto', 'listen', 'say', 'insanely', 'idiotic', 'thing', 'ever', 'hear', 'point', 'ramble', 'incoherent', 'response', 'even', 'close', 'consider', 'rational', 'thought', 'room', 'dumber', 'listen', 'award', 'point', 'god', 'mercy', 'soul']\n"
     ]
    }
   ],
   "source": [
    "# Remove Stop Words\n",
    "data_words_nostops = remove_stopwords(data_words)\n",
    "\n",
    "# Form Bigrams\n",
    "data_words_bigrams = make_bigrams(data_words_nostops)\n",
    "\n",
    "# Initialize spacy 'en' model, keeping only tagger component (for efficiency)\n",
    "# python3 -m spacy download en\n",
    "nlp = spacy.load('en_core_web_sm', disable=['parser', 'ner'])\n",
    "\n",
    "# Do lemmatization keeping only noun, adj, vb, adv\n",
    "data_lemmatized = lemmatization(data_words_bigrams, allowed_postags=['NOUN', 'ADJ', 'VERB', 'ADV'])\n",
    "\n",
    "print(data_lemmatized[0])"
   ]
  },
  {
   "cell_type": "code",
   "execution_count": 20,
   "metadata": {},
   "outputs": [
    {
     "name": "stdout",
     "output_type": "stream",
     "text": [
      "[(0, 1), (1, 1), (2, 2), (3, 1), (4, 1), (5, 2), (6, 1), (7, 1), (8, 1), (9, 1), (10, 2), (11, 1), (12, 1), (13, 1), (14, 1), (15, 1), (16, 5), (17, 1), (18, 1), (19, 1), (20, 6), (21, 1), (22, 1), (23, 1), (24, 1), (25, 1), (26, 1), (27, 1), (28, 1), (29, 1), (30, 1), (31, 1), (32, 1), (33, 1), (34, 1), (35, 1), (36, 3), (37, 1), (38, 1), (39, 1), (40, 1), (41, 2), (42, 1), (43, 1), (44, 1), (45, 1), (46, 1), (47, 2), (48, 1), (49, 1), (50, 2), (51, 1), (52, 1), (53, 1), (54, 1), (55, 1), (56, 1), (57, 1), (58, 1), (59, 1), (60, 1), (61, 1), (62, 2), (63, 1), (64, 1), (65, 2), (66, 1), (67, 2), (68, 1), (69, 1), (70, 1), (71, 1), (72, 1), (73, 1), (74, 1), (75, 1), (76, 1), (77, 1), (78, 1), (79, 1), (80, 1), (81, 1), (82, 1), (83, 2), (84, 1), (85, 1), (86, 1), (87, 1), (88, 1), (89, 1), (90, 1), (91, 1), (92, 1), (93, 1), (94, 1), (95, 1), (96, 1), (97, 1), (98, 1), (99, 2), (100, 1), (101, 2), (102, 1), (103, 1), (104, 1), (105, 2), (106, 1), (107, 1), (108, 1), (109, 1), (110, 2), (111, 3), (112, 1), (113, 1), (114, 1), (115, 1), (116, 1), (117, 1), (118, 1), (119, 3), (120, 1), (121, 10), (122, 1), (123, 1), (124, 1), (125, 1), (126, 1), (127, 2), (128, 1), (129, 2), (130, 1), (131, 1), (132, 1), (133, 1), (134, 4), (135, 1), (136, 1), (137, 1), (138, 1), (139, 2), (140, 1), (141, 1), (142, 1), (143, 3), (144, 1), (145, 1), (146, 1), (147, 1), (148, 1), (149, 2), (150, 4), (151, 1), (152, 1), (153, 1), (154, 1), (155, 1), (156, 10), (157, 1), (158, 1), (159, 1), (160, 1), (161, 1), (162, 2), (163, 1), (164, 1), (165, 2), (166, 1), (167, 1), (168, 6), (169, 3), (170, 1), (171, 1), (172, 2), (173, 2), (174, 1), (175, 1), (176, 1), (177, 1), (178, 1), (179, 3), (180, 1), (181, 2), (182, 1), (183, 1), (184, 1), (185, 1), (186, 1), (187, 1), (188, 1), (189, 2), (190, 1), (191, 1), (192, 1), (193, 1), (194, 1), (195, 2), (196, 3), (197, 2)]\n"
     ]
    }
   ],
   "source": [
    "# Create Dictionary\n",
    "id2word = corpora.Dictionary(data_lemmatized)\n",
    "\n",
    "# Create Corpus\n",
    "texts = data_lemmatized\n",
    "\n",
    "# Term Document Frequency\n",
    "corpus = [id2word.doc2bow(text) for text in texts]\n",
    "\n",
    "# View\n",
    "print(corpus[0])"
   ]
  },
  {
   "cell_type": "code",
   "execution_count": 21,
   "metadata": {},
   "outputs": [
    {
     "name": "stdout",
     "output_type": "stream",
     "text": [
      "[(0, '0.033*\"character\" + 0.028*\"story\" + 0.020*\"naruto\" + 0.019*\"anime\" + 0.014*\"sound\" + 0.013*\"boruto\" + 0.012*\"overall\" + 0.012*\"see\" + 0.012*\"enjoyment\" + 0.011*\"series\"'), (1, '0.033*\"naruto\" + 0.028*\"boruto\" + 0.026*\"character\" + 0.017*\"series\" + 0.013*\"show\" + 0.011*\"see\" + 0.009*\"much\" + 0.009*\"story\" + 0.008*\"think\" + 0.008*\"time\"'), (2, '0.030*\"naruto\" + 0.027*\"character\" + 0.027*\"boruto\" + 0.021*\"episode\" + 0.019*\"story\" + 0.018*\"anime\" + 0.017*\"good\" + 0.015*\"watch\" + 0.015*\"get\" + 0.013*\"animation\"'), (3, '0.020*\"anime\" + 0.008*\"wait\" + 0.008*\"naruto\" + 0.006*\"battle\" + 0.006*\"break\" + 0.006*\"pain\" + 0.006*\"shallow\" + 0.006*\"sasuke\" + 0.006*\"release\" + 0.006*\"original\"'), (4, '0.003*\"fantasy\" + 0.003*\"becouse\" + 0.003*\"tactic\" + 0.003*\"construction\" + 0.003*\"measure\" + 0.002*\"rule\" + 0.002*\"disneyish\" + 0.002*\"closed\" + 0.002*\"disorder\" + 0.002*\"children\"'), (5, '0.007*\"husk\" + 0.002*\"baruto\" + 0.001*\"doll\" + 0.001*\"obv\" + 0.000*\"mal\" + 0.000*\"endless\" + 0.000*\"sadly\" + 0.000*\"run\" + 0.000*\"non\" + 0.000*\"serious\"'), (6, '0.007*\"show\" + 0.006*\"thing\" + 0.006*\"read\" + 0.006*\"kishimoto\" + 0.005*\"know\" + 0.005*\"volume\" + 0.005*\"kid\" + 0.005*\"ppl\" + 0.005*\"topic\" + 0.005*\"eat\"'), (7, '0.000*\"boruto\" + 0.000*\"naruto\" + 0.000*\"anime\" + 0.000*\"story\" + 0.000*\"character\" + 0.000*\"series\" + 0.000*\"show\" + 0.000*\"say\" + 0.000*\"see\" + 0.000*\"much\"')]\n"
     ]
    }
   ],
   "source": [
    "# Using LDA to develop a topic model with 3 models\n",
    "\n",
    "lda_model = gensim.models.ldamodel.LdaModel(corpus=corpus,\n",
    "                                           id2word=id2word,\n",
    "                                           num_topics=8, \n",
    "                                           random_state=100,\n",
    "                                           update_every=1,\n",
    "                                           chunksize=100,\n",
    "                                           passes=10,\n",
    "                                           alpha='auto',\n",
    "                                           per_word_topics=True)\n",
    "# Print the KeywordS in the 3 topics\n",
    "print(lda_model.print_topics())\n",
    "doc_lda = lda_model[corpus]"
   ]
  },
  {
   "cell_type": "code",
   "execution_count": 22,
   "metadata": {},
   "outputs": [
    {
     "data": {
      "text/html": [
       "\n",
       "<link rel=\"stylesheet\" type=\"text/css\" href=\"https://cdn.jsdelivr.net/gh/bmabey/pyLDAvis@3.3.1/pyLDAvis/js/ldavis.v1.0.0.css\">\n",
       "\n",
       "\n",
       "<div id=\"ldavis_el2744026558890247203386896218\"></div>\n",
       "<script type=\"text/javascript\">\n",
       "\n",
       "var ldavis_el2744026558890247203386896218_data = {\"mdsDat\": {\"x\": [0.24950582837485305, 0.1999940789832755, 0.17319363240746408, -0.1163217728335014, -0.12494351089858159, -0.1376070634409294, -0.1226458076744442, -0.12117538491813566], \"y\": [0.004244239566895639, 0.037887876506783255, -0.050416124558863774, 0.13156063681808727, -0.13193225940944028, 0.0019419796998486735, 0.0030708851374070373, 0.0036427662392820403], \"topics\": [1, 2, 3, 4, 5, 6, 7, 8], \"cluster\": [1, 1, 1, 1, 1, 1, 1, 1], \"Freq\": [58.15279494403174, 27.03220496770436, 9.577925105723766, 2.601834587660185, 2.2564863195567044, 0.3437211210220705, 0.025735694465648034, 0.00929725983552474]}, \"tinfo\": {\"Term\": [\"anime\", \"character\", \"story\", \"naruto\", \"series\", \"sound\", \"manga\", \"show\", \"see\", \"original\", \"overall\", \"thing\", \"sasuke\", \"enjoyment\", \"animation\", \"boruto\", \"watch\", \"also\", \"know\", \"say\", \"kid\", \"art\", \"arc\", \"wait\", \"hate\", \"shippuden\", \"time\", \"start\", \"world\", \"do\", \"stop\", \"gon\", \"notice\", \"shonen\", \"second\", \"exam\", \"set\", \"mist\", \"detail\", \"honest\", \"straight\", \"fairly\", \"academy\", \"arch\", \"line\", \"pick\", \"disappointment\", \"amount\", \"support\", \"enemy\", \"be\", \"repeat\", \"person\", \"score\", \"hopefully\", \"damn\", \"thank\", \"member\", \"portray\", \"apart\", \"arc\", \"moment\", \"quality\", \"canon\", \"review\", \"uchiha\", \"shit\", \"episode\", \"good\", \"completely\", \"first\", \"rate\", \"exist\", \"get\", \"anime\", \"real\", \"animation\", \"people\", \"watch\", \"well\", \"still\", \"start\", \"stuff\", \"filler\", \"hate\", \"story\", \"really\", \"boruto\", \"worth\", \"naruto\", \"overall\", \"enjoyment\", \"character\", \"sound\", \"fight\", \"want\", \"show\", \"also\", \"plot\", \"manga\", \"bad\", \"go\", \"make\", \"even\", \"see\", \"time\", \"thing\", \"idea\", \"ability\", \"extremely\", \"background\", \"intensity\", \"threat\", \"academia\", \"lazy\", \"annoy\", \"convince\", \"defeat\", \"hero\", \"decision\", \"classic\", \"beloved\", \"constantly\", \"carbon\", \"mother\", \"attention\", \"attachment\", \"complain\", \"beat\", \"surprisingly\", \"danger\", \"handle\", \"fully\", \"ark\", \"classmate\", \"period\", \"star\", \"mostly\", \"age\", \"power\", \"shadow\", \"issue\", \"develop\", \"irritate\", \"modern\", \"series\", \"father\", \"child\", \"huge\", \"bring\", \"village\", \"reason\", \"use\", \"naruto\", \"boruto\", \"much\", \"fact\", \"character\", \"dad\", \"great\", \"see\", \"new\", \"show\", \"think\", \"whole\", \"look\", \"try\", \"say\", \"time\", \"make\", \"big\", \"feel\", \"world\", \"thing\", \"end\", \"story\", \"even\", \"go\", \"old\", \"really\", \"seem\", \"way\", \"get\", \"sound\", \"watch\", \"overall\", \"enjoyment\", \"wanna\", \"provide\", \"bland\", \"engage\", \"studio_pierrot\", \"consistent\", \"watching\", \"pure\", \"serie\", \"personal\", \"merit\", \"charcter\", \"nd\", \"hot\", \"repetitive\", \"colour\", \"mundane\", \"karma\", \"weather\", \"surprised\", \"binge\", \"principal\", \"saskue\", \"degree\", \"awkward\", \"soul\", \"favor\", \"ikemoto\", \"teammate\", \"tone\", \"aspect\", \"certainly\", \"generic\", \"guess\", \"paste\", \"story\", \"style\", \"original\", \"manga\", \"character\", \"anime\", \"weak\", \"put\", \"sound\", \"do\", \"overall\", \"see\", \"enjoyment\", \"art\", \"series\", \"naruto\", \"animation\", \"expect\", \"watch\", \"problem\", \"boruto\", \"time\", \"feel\", \"start\", \"really\", \"go\", \"show\", \"well\", \"fan\", \"episode\", \"give\", \"bad\", \"thing\", \"topic\", \"ppl\", \"sleep\", \"existent\", \"room\", \"image\", \"manner\", \"purely\", \"thread\", \"central\", \"horse\", \"await\", \"hilarious\", \"outcast\", \"silver\", \"exceptional\", \"cave\", \"ding\", \"edit\", \"cus\", \"pound\", \"stat\", \"whoop\", \"dinner\", \"loneline\", \"stitch\", \"strugle\", \"hunter\", \"thrill\", \"seemingly\", \"hook\", \"opposite\", \"volume\", \"buy\", \"normal\", \"eat\", \"milking\", \"constant\", \"colorful\", \"abandon\", \"comedy\", \"kishimoto\", \"read\", \"almost\", \"smart\", \"thing\", \"show\", \"kid\", \"know\", \"say\", \"spoiler\", \"hate\", \"stupid\", \"world\", \"exact\", \"end\", \"shallow\", \"reality\", \"ignore\", \"sick\", \"pokemon\", \"irritated\", \"buff\", \"adorable\", \"lighthearte\", \"successful\", \"seperate\", \"passionate\", \"surpass\", \"benefit\", \"fluid\", \"ash\", \"bash\", \"borutoxsarada\", \"inexperienced\", \"pikachu\", \"roughness\", \"settled\", \"snarky\", \"straying\", \"talkative\", \"evolve\", \"baruto\", \"question\", \"crew\", \"occur\", \"pain\", \"thus\", \"battle\", \"release\", \"author\", \"simplistic\", \"break\", \"motive\", \"wait\", \"blood\", \"creator\", \"anime\", \"suffer\", \"bruh\", \"apparently\", \"sasuke\", \"dreadful\", \"original\", \"sakura\", \"naruto\", \"problem\", \"work\", \"also\", \"form\", \"favorite\", \"shippuden\", \"technology\", \"fantasy\", \"becouse\", \"tactic\", \"construction\", \"disneyish\", \"closed\", \"disorder\", \"children\", \"distance\", \"harm\", \"scarred\", \"moon\", \"imbalance\", \"neji\", \"capacity\", \"communication\", \"telebim\", \"intervene\", \"incredolusness\", \"stable\", \"limited\", \"melody\", \"surrounding\", \"television\", \"sth\", \"tame\", \"familie\", \"default\", \"homogenous\", \"baggage\", \"condition\", \"measure\", \"ride\", \"incredibly\", \"rule\", \"element\", \"author\", \"origin\", \"husk\", \"doll\", \"obv\", \"baruto\", \"swear\", \"chojuro\", \"dope\", \"stongest\", \"shshshshhs\", \"stress\", \"highkey\", \"desk\", \"istg\", \"covid\", \"confuse\", \"conlusion\", \"worser\", \"imbalance\", \"telebim\", \"intervene\", \"neji\", \"limited\", \"capacity\", \"communication\", \"incredolusness\", \"stable\", \"melody\", \"homogenous\", \"surrounding\", \"tame\", \"cope\", \"mafia\", \"psychological\", \"foreboding\", \"wield\", \"ambitious\", \"crawl\", \"swap\", \"mal\", \"endless\", \"sadly\", \"run\", \"non\", \"serious\", \"impact\", \"milking\", \"deal\", \"drama\", \"childhood\", \"premise\", \"await\", \"central\", \"horse\", \"wish\", \"kill\", \"basing\", \"blend\", \"bringing\", \"brisk\", \"college\", \"cup\", \"doubtful\", \"eagerly\", \"fogy\", \"doll\", \"obv\", \"husk\", \"swear\", \"chojuro\", \"dope\", \"stongest\", \"shshshshhs\", \"stress\", \"highkey\", \"desk\", \"istg\", \"covid\", \"confuse\", \"conlusion\", \"worser\", \"neji\", \"imbalance\", \"telebim\", \"communication\", \"intervene\", \"limited\", \"stable\", \"capacity\", \"sth\", \"incredolusness\", \"melody\", \"surrounding\", \"tame\", \"familie\", \"homogenous\", \"harmonious\", \"cope\", \"baggage\", \"foreboding\", \"artifact\", \"unusual\", \"crawl\", \"ambitious\", \"boruto\", \"naruto\", \"anime\", \"character\", \"story\", \"series\", \"show\", \"say\", \"see\", \"much\", \"animation\", \"time\", \"get\", \"watch\", \"ninja\", \"end\", \"really\", \"episode\", \"people\", \"overall\", \"also\", \"fight\", \"become\", \"give\", \"manga\", \"enjoyment\", \"world\", \"sound\", \"good\", \"know\"], \"Freq\": [506.0, 984.0, 623.0, 1075.0, 310.0, 342.0, 164.0, 439.0, 323.0, 117.0, 328.0, 203.0, 105.0, 306.0, 370.0, 928.0, 436.0, 154.0, 131.0, 200.0, 91.0, 145.0, 255.0, 38.0, 88.0, 122.0, 241.0, 198.0, 84.0, 85.0, 36.92958343171196, 31.61230930899945, 22.637987815349813, 21.73164671493083, 21.238067947399408, 23.7788967686985, 19.048520215270308, 17.27207233485233, 21.097447557237462, 16.717175930055976, 17.689467178005128, 14.7243681778231, 15.306500548144374, 15.26990036762557, 20.966996531934743, 15.912474372158284, 13.935777346670971, 13.976145628559578, 13.698962803557018, 13.612782138450303, 13.507366765120496, 12.410476965209828, 12.309636131354953, 14.598418262327593, 12.300797518193166, 11.899423225001009, 24.51911161946127, 11.929935184298035, 12.010817319170902, 11.380211062236643, 243.85554648038007, 58.67547807865989, 45.24160024028874, 37.4382758283957, 91.57944100763673, 21.86454926054354, 32.5887693008914, 474.6485888874786, 381.2052813358842, 47.362625210037926, 161.53264423247353, 17.891053515970825, 19.030670364815606, 322.0604408211628, 400.49070498281355, 40.62442002848903, 295.0867196927027, 172.5188870920394, 341.1028921388081, 234.70022214404224, 96.85801898370099, 158.40886887330933, 37.810200960113086, 185.22690880028634, 74.64271552405933, 427.0081212736684, 237.85315294601034, 591.1528314110469, 40.65676515299947, 652.9343380575991, 231.7918507827728, 216.66167032569976, 598.2681198364106, 236.838308561498, 106.32379880219668, 122.34899673198251, 276.1206352294854, 114.40384484924941, 93.78602055795734, 119.36741212727762, 139.20702622360142, 159.89753815649684, 149.26198508403988, 137.21965355501956, 169.7570865004967, 137.35001311529757, 117.30943361258423, 21.826169495498842, 21.478490356277522, 14.436272721983363, 14.520982803548334, 13.453336837114911, 12.293073764296542, 11.442365563194283, 11.070037154384977, 10.982635905784186, 10.8852209288405, 10.64769639440444, 17.669136829883556, 9.946236580374803, 9.83233625912113, 9.420694295371558, 9.344336772288031, 9.120293224124861, 11.935360536323065, 15.226469786762635, 9.371644871791245, 8.455952232684295, 11.589788100624668, 8.404599088679685, 7.819469071796984, 8.373336877930917, 7.702732665300401, 7.689846322745037, 7.6254828772228, 7.53375623932523, 7.7960809499120325, 27.788518929447452, 17.082933100830132, 32.58995136213909, 22.41184984226715, 28.412330729747772, 34.58254317485291, 15.362013821896067, 20.091681800299177, 172.6321446439667, 42.02460810757899, 45.26678051552475, 22.872160370176744, 27.803188005484266, 33.73801256145459, 57.8952788480099, 37.262255683956695, 340.61222800360554, 287.0686824266159, 95.68491703866567, 33.72054093496659, 264.01435627711203, 36.01528601179467, 52.83536263605495, 110.40605823497204, 75.93307322468016, 133.61886022879267, 77.75470706452928, 34.861979012916684, 61.11528475862636, 49.81312576428622, 71.68761170863199, 77.38499556714557, 73.46298669864066, 40.8727167559802, 61.62498484871803, 41.70710069953986, 63.319617641625314, 48.82130555495328, 92.72796282501375, 59.43025728820562, 62.74889860265027, 44.503078331549396, 65.28973395785752, 45.16304782335457, 47.265343916507646, 56.644522139725375, 52.20614933894487, 53.565645004735465, 51.23610279080961, 46.52541789986433, 20.099499142280717, 10.547288496543763, 9.27952208695274, 7.416424542253611, 7.233328839405757, 7.2285446807066425, 6.61155200888087, 6.429273610419613, 6.246920101430615, 6.209080096520318, 5.551867222326084, 5.551417407866172, 5.549813352527991, 5.547031716882018, 5.102033666516054, 5.0965972768500665, 5.098503047359, 4.930656479055466, 4.930167624095259, 4.874221738466929, 4.593199730282926, 4.489596426980063, 4.488996391464669, 5.458311755609847, 4.477915679033299, 4.418214691371223, 4.235078674963282, 5.902693645036383, 4.157597709889979, 3.978650484551663, 10.461454561820524, 7.2480802075713235, 12.764199062225707, 18.005140950555376, 5.4271434327172425, 101.79999204083255, 16.067664463143288, 33.34722074159763, 40.126729226277426, 119.82437995803303, 69.19160088541408, 15.051004005325929, 14.292620220738476, 52.63662950277061, 23.582996415479574, 44.62136697003463, 43.188709612624315, 41.91959121353397, 28.181974139806062, 41.14927461516089, 73.1024066188129, 37.715014202485435, 16.05767179248099, 39.54453352210531, 15.214035437142073, 49.08790234323212, 26.551610596665995, 22.003044342697848, 21.664149036360115, 23.39410150092495, 19.755862961276804, 22.21207566833907, 19.822572991801508, 16.466673652869037, 19.90959596437067, 17.190896999698932, 17.00189514812177, 16.57879118006218, 5.086063867786957, 5.0874052097319336, 3.769926378886351, 3.7650562332614474, 3.5985421640982236, 3.4568585983409696, 3.1827752683803157, 3.1709378911333435, 3.012327549119946, 2.761939953735222, 2.761939953735222, 2.761699028617913, 2.7501129512540667, 2.586583356390898, 2.5769060053870487, 2.576883180902251, 2.4839151349654713, 2.1855986575595616, 2.1848415302052637, 2.175963727820386, 2.175963727820386, 2.175963727820386, 2.175963727820386, 2.1754482172344516, 2.1754482172344516, 2.1754482172344516, 2.1754482172344516, 2.1072975333336075, 2.1072809337083003, 1.9319464691977197, 2.339907852215536, 3.4049342787284385, 5.200626642946525, 3.612293109262574, 3.164914763200632, 5.026914791809741, 2.5836922549831964, 4.100314485137872, 2.5391317135972993, 2.519647442292062, 4.537751500043506, 5.549922414074204, 5.782446276574324, 4.789984189891216, 3.1282033085312575, 6.394156302172272, 7.337612606142377, 5.134076439585734, 5.372894787782271, 4.855569770581368, 3.555918015114502, 3.323759344371145, 3.034232368565491, 3.1957278176774513, 2.8563083625069594, 2.9710802468353306, 5.012556958105076, 4.063535950520021, 3.5100008806000944, 3.5077982445748037, 2.8123557094013214, 2.5801755580491683, 2.560917089090571, 2.4212808423020906, 2.4212730442987334, 2.4153461618494174, 2.4090685691978178, 2.402196528751811, 2.3570224953529513, 2.127665821062629, 2.11672562224965, 2.031275301406859, 2.031275301406859, 2.031275301406859, 2.031275301406859, 2.031275301406859, 2.031275301406859, 2.031275301406859, 2.031275301406859, 2.031275301406859, 2.031275301406859, 2.511937630053246, 2.040580918746821, 1.80754338692295, 1.806407077869598, 1.7361266728404203, 5.039380490064479, 4.791469966400991, 5.5792102691603755, 5.007395479677621, 3.7090483154302074, 2.3593950878616745, 5.213697457015867, 2.4278179685013326, 7.048651225638073, 2.694072595242548, 4.6344521700774255, 17.24587387420781, 2.8053191110895908, 2.329460752409038, 2.908905988151518, 5.009394167922792, 3.151975751269228, 4.8512466608564075, 3.749357194529197, 6.900840271945274, 3.5881540698394927, 3.429532684107536, 3.7818252812266127, 2.836169212064725, 2.8732035295999725, 3.289773468804572, 2.5825993374517258, 0.40018327597375364, 0.4001822708807142, 0.40018059572564846, 0.40017852462483994, 0.2762042576688782, 0.27620413583941883, 0.2762039530952299, 0.27620319166110907, 0.27620288708746077, 0.27620230839752896, 0.27620072461455775, 0.27579302232892816, 0.15218086298344377, 0.15218081729739652, 0.1521808020687141, 0.15218077161134927, 0.1521806954679372, 0.1521806954679372, 0.15218074115398444, 0.1521807106966196, 0.1521806954679372, 0.15218063455320752, 0.15218064978188994, 0.15218057363847787, 0.15218052795243062, 0.15218043658033611, 0.1521804061229713, 0.15218039089428886, 0.15218036043692404, 0.15218032997955921, 0.2761949986299695, 0.35220841867471586, 0.2756393344659902, 0.25535259747291394, 0.3110415743069231, 0.25304828462188456, 0.22515313037848336, 0.15218074115398444, 0.06414157287459378, 0.012782556509457343, 0.012782554228999763, 0.02324012494469305, 0.002394023796398577, 0.002394023796398577, 0.002394023796398577, 0.002394023796398577, 0.002394023796398577, 0.002394023796398577, 0.002394023796398577, 0.002394023796398577, 0.002394023796398577, 0.002394023796398577, 0.002394023796398577, 0.002394023796398577, 0.002394023796398577, 0.0023940275021421434, 0.0023940277871993404, 0.0023940283573137353, 0.0023940269320277484, 0.0023940277871993404, 0.0023940275021421434, 0.0023940269320277484, 0.0023940277871993404, 0.0023940275021421434, 0.0023940275021421434, 0.002394028642370933, 0.0023940269320277484, 0.0023940275021421434, 0.002394028642370933, 0.0023940283573137353, 0.002394028072256538, 0.0023940283573137353, 0.002394028072256538, 0.002394028642370933, 0.0023940283573137353, 0.0023940277871993404, 0.002406514432673566, 0.002404570627644602, 0.0023988486745215054, 0.002396815076475365, 0.00239618681041233, 0.0023959624703979885, 0.002395831914201586, 0.002395468181217724, 0.0023954627651309734, 0.0023954453766419333, 0.002395419151379774, 0.002395398627261562, 0.0023952432710889877, 0.00239524298603179, 0.00239524298603179, 0.00239500325292879, 0.0023949895701833156, 0.002394973036865867, 0.002394973036865867, 0.002394973036865867, 0.002394973036865867, 0.002394973036865867, 0.002394973036865867, 0.002394973036865867, 0.002394973036865867, 0.002394973036865867, 0.0008740975169500366, 0.0008740975169500366, 0.0008740975169500366, 0.0008740975169500366, 0.0008740975169500366, 0.0008740975169500366, 0.0008740975169500366, 0.0008740975169500366, 0.0008740975169500366, 0.0008740975169500366, 0.0008740975169500366, 0.0008740975169500366, 0.0008740975169500366, 0.0008740975169500366, 0.0008740975169500366, 0.0008740975169500366, 0.0008740985467457686, 0.0008740983407866221, 0.0008740984437661954, 0.0008740984437661954, 0.0008740983407866221, 0.0008740984437661954, 0.0008740984437661954, 0.0008740982378070489, 0.0008740987527049149, 0.0008740983407866221, 0.0008740981348274757, 0.0008740982378070489, 0.0008740984437661954, 0.0008740983407866221, 0.0008740984437661954, 0.0008740987527049149, 0.0008740985467457686, 0.0008740984437661954, 0.0008740985467457686, 0.0008740985467457686, 0.0008740985467457686, 0.0008740985467457686, 0.0008740985467457686, 0.0008742299486811713, 0.0008741946266875638, 0.0008741747516299363, 0.0008741721771406063, 0.0008741721771406063, 0.0008741515812259663, 0.0008741455054311476, 0.000874139532615902, 0.000874136958126572, 0.0008741365462082792, 0.0008741332508619368, 0.0008741315002091924, 0.0008741304704134604, 0.0008741303674338872, 0.000874130264454314, 0.0008741285138015696, 0.0008741283078424233, 0.0008741283078424233, 0.0008741276899649841, 0.0008741275869854108, 0.0008741244975982149, 0.0008741244975982149, 0.0008741236737616293, 0.0008741228499250436, 0.0008741224380067508, 0.0008741220260884581, 0.0008741217171497384, 0.0008741214082110189, 0.0008741214082110189, 0.0008741194515991281], \"Total\": [506.0, 984.0, 623.0, 1075.0, 310.0, 342.0, 164.0, 439.0, 323.0, 117.0, 328.0, 203.0, 105.0, 306.0, 370.0, 928.0, 436.0, 154.0, 131.0, 200.0, 91.0, 145.0, 255.0, 38.0, 88.0, 122.0, 241.0, 198.0, 84.0, 85.0, 37.366097297528796, 32.04879580859358, 23.078599800525982, 22.175102626899903, 21.67421984480754, 24.329289652478426, 19.514292683922715, 17.707169363460142, 21.634708241224576, 17.160621468694814, 18.182698008816207, 15.15920791619121, 15.765732380133178, 15.728506629511145, 21.600150837952114, 16.393346648850606, 14.370613755077853, 14.424615816007337, 14.139652190563512, 14.05143995553899, 13.961445878977155, 12.848496845579184, 12.749597230753096, 15.12997815057835, 12.749032657060734, 12.334299522980727, 25.42517038701428, 12.373732765591303, 12.462457234660459, 11.816118921433064, 255.01264559686052, 61.03251054199257, 47.229633676509025, 39.18736064612652, 98.04679175237575, 22.830954515625194, 34.33721248670661, 528.8631591755543, 424.9103160133816, 50.40360780758919, 179.94026705733356, 18.627452348822565, 19.87389085547458, 387.21262984393803, 506.3701187328345, 44.469287189329314, 370.9396074362374, 208.84282686436978, 436.53039849559775, 292.5060783518876, 113.42065580809074, 198.53796098507982, 41.55233096603338, 239.14235962165426, 88.18492126520826, 623.6153990495351, 326.78572423294213, 928.4180947850876, 45.10332743023171, 1075.4501724891325, 328.96613405104307, 306.0015422055656, 984.7743176410024, 342.3360047501464, 136.49205282171013, 161.52146094967367, 439.7435258388752, 154.75985143884924, 120.48944590578323, 164.65979654354214, 202.12233018289717, 245.0780180198254, 232.36613832650406, 207.46318544620124, 323.62925786622947, 241.53054683329316, 203.72656669715556, 22.27688413365008, 21.927783582511978, 14.882986221778006, 14.972949554810198, 13.904681076446828, 12.758183786509179, 11.888885871619395, 11.521284501471156, 11.432714633438627, 11.337480811994968, 11.09462448903365, 18.456609717673697, 10.402622696520071, 10.286427547512307, 9.870455708757323, 9.790920653967465, 9.567190553521343, 12.542122238173592, 16.01928763660333, 9.862381207215792, 8.9030634182792, 12.20322253704163, 8.85433485254922, 8.26614728260139, 8.857562207821903, 8.150488812728879, 8.13773752157068, 8.071929671799214, 7.9805013016333115, 8.264098146436393, 30.978637999502812, 18.90370642389285, 37.765057267246675, 25.74903285356212, 33.794047282015036, 41.98946623497403, 17.608770499575687, 24.172724001351412, 310.8155734132974, 60.18317141218142, 66.20368604058723, 28.952449655196045, 37.55058470605544, 49.31520511249519, 100.12090513664627, 57.457875522613584, 1075.4501724891325, 928.4180947850876, 228.95968309849658, 54.064644079527, 984.7743176410024, 60.60380184291695, 108.63173286351834, 323.62925786622947, 185.65462178700338, 439.7435258388752, 195.88221131555449, 59.05421464532346, 149.2321984339736, 108.23922903810515, 200.0799442441248, 241.53054683329316, 232.36613832650406, 78.91295006096011, 178.56718866182297, 84.98277256809858, 203.72656669715556, 121.80913413889299, 623.6153990495351, 207.46318544620124, 245.0780180198254, 104.72933918839756, 326.78572423294213, 111.8283681417576, 137.72914085933, 387.21262984393803, 342.3360047501464, 436.53039849559775, 328.96613405104307, 306.0015422055656, 20.5827355465711, 11.011047748230805, 9.742113519785084, 7.878350794410151, 7.695485497070206, 7.693086849847592, 7.074267156265992, 6.89225510444572, 6.709157634537157, 6.677180762440976, 6.013488830335008, 6.013269771500517, 6.0121265058054405, 6.009381538631537, 5.564955915788435, 5.5602895592943975, 5.573127756383973, 5.392116359472322, 5.39172215527849, 5.339503170270861, 5.0558990158213035, 4.951054424216739, 4.950595305015147, 6.02324733020259, 4.945397624697782, 4.880700832075755, 4.697305996057794, 6.554108795440259, 4.620083188455644, 4.440357517621951, 12.30603402196237, 8.709885726550846, 16.735632922943015, 28.47809833393953, 6.600893932555656, 623.6153990495351, 36.574856421508386, 117.92782807731086, 164.65979654354214, 984.7743176410024, 506.3701187328345, 36.66721461050057, 33.542545534812476, 342.3360047501464, 85.44588082754946, 328.96613405104307, 323.62925786622947, 306.0015422055656, 145.18448888369446, 310.8155734132974, 1075.4501724891325, 370.9396074362374, 55.76060141752315, 436.53039849559775, 53.19322733479867, 928.4180947850876, 241.53054683329316, 178.56718866182297, 198.53796098507982, 326.78572423294213, 245.0780180198254, 439.7435258388752, 292.5060783518876, 106.45488316953357, 528.8631591755543, 171.64754957376596, 202.12233018289717, 203.72656669715556, 5.553698963450661, 5.556337908243134, 4.237204075003866, 4.232978925816885, 4.065962328642502, 3.924490289486372, 3.6498317124950552, 3.641400181454198, 3.4791394672653504, 3.229443683136231, 3.229443683136231, 3.2292847974373875, 3.22065598762114, 3.0542217629229964, 3.045909057066159, 3.0459150204579863, 2.9771423059748057, 2.65235183658882, 2.6518449973569465, 2.642720538043221, 2.642720538043221, 2.642720538043221, 2.642720538043221, 2.642413669775405, 2.642413669775405, 2.642413669775405, 2.642413669775405, 2.5746348300703272, 2.5746718996104923, 2.4037120455919285, 2.9514813270405797, 4.611804316246998, 8.059894294129961, 5.193577752999793, 4.567970068784804, 10.957550467735759, 3.676329140812857, 9.687179249424444, 3.633305144537006, 3.581943944579596, 13.547674373900534, 22.66443913522079, 45.06091165720167, 39.78109179239238, 8.334140441068936, 203.72656669715556, 439.7435258388752, 91.24756465031496, 131.57346384241856, 200.0799442441248, 40.47325533255213, 88.18492126520826, 19.43935910751533, 84.98277256809858, 10.806322314089117, 121.80913413889299, 5.486554858736145, 4.538295302466811, 3.9850981664798915, 3.983292814056893, 3.285490689597208, 3.0540931217564986, 3.0372242267997223, 2.8945065235079985, 2.8945091474981166, 2.8907668769335095, 2.8854308560823676, 2.8788871561177167, 2.830998127075293, 2.60151411850313, 2.5929614541387322, 2.504477495830124, 2.504477495830124, 2.504477495830124, 2.504477495830124, 2.504477495830124, 2.504477495830124, 2.504477495830124, 2.504477495830124, 2.504477495830124, 2.504477495830124, 3.1108419892388914, 2.534715831039277, 2.2815944189042736, 2.28334640697774, 2.211034487887361, 6.8058096584334615, 7.175776697122153, 9.656447835751273, 10.7959910117009, 7.453510428298435, 3.338013842192678, 15.648570726907701, 3.624150808393961, 38.99747468834654, 4.6759333762274355, 16.351360174025974, 506.3701187328345, 6.113042055877413, 3.731440726962773, 8.939395240151994, 105.45085336867189, 14.710023399360788, 117.92782807731086, 35.102058329173666, 1075.4501724891325, 53.19322733479867, 53.08412569622457, 154.75985143884924, 11.35655694532914, 16.082750227661712, 122.3855265973456, 12.55892831719401, 0.9343529493067042, 0.9343563082281133, 0.9343622356192497, 0.9343693714207342, 0.810374504681152, 0.8103749275017907, 0.8103756432017879, 0.8103778118543942, 0.8103791870462277, 0.8103810215027643, 0.810386623504905, 1.2279155632360195, 0.6863668012072145, 0.6863669397631246, 0.6863672099142591, 0.6863671420362336, 0.6863669152448436, 0.6863671754908077, 0.6863674254410764, 0.6863673442649513, 0.6863672790633529, 0.6863674363549978, 0.6863676603998893, 0.686367895441503, 0.6863677095060188, 0.6863678443685799, 0.6863679055854752, 0.6863680378390167, 0.6863679898453569, 0.686368407547888, 1.2494067718105442, 2.6706101803015043, 3.2099826949526595, 2.838435128602907, 6.779957242359649, 4.2395135361129626, 7.453510428298435, 1.5219360861389784, 0.6303555036062155, 0.5731896608299301, 0.5731897172634614, 2.534715831039277, 0.6860634905676168, 0.6860634999485818, 0.6860640414466348, 0.6862112727227454, 0.6862115143393914, 0.6862120923345987, 0.6862126253751072, 0.6862127440505547, 0.6862128033736369, 0.6862131038751469, 0.6862131155477333, 0.6862136366282255, 0.6862136788052667, 0.6863668012072145, 0.6863669152448436, 0.6863671754908077, 0.6863669397631246, 0.6863672790633529, 0.6863672099142591, 0.6863671420362336, 0.6863674254410764, 0.6863673442649513, 0.6863674363549978, 0.6863679898453569, 0.6863676603998893, 0.6863678443685799, 0.6863683733373371, 0.6863683437667106, 0.6863685879000961, 0.6863698709024105, 0.6863696132902282, 0.6863722959639489, 0.6863719751760988, 0.6863689030695702, 3.008984651686445, 3.853044221623359, 5.471613083592442, 5.7477354712648125, 6.117511130015218, 5.38526585760755, 6.039818477483805, 3.676329140812857, 9.062597735207449, 4.749542756189213, 7.491532823372627, 7.8423367625756155, 3.2292847974373875, 3.229443683136231, 3.229443683136231, 15.837498611959546, 12.979576917207392, 3.0851259938214945, 3.0851259938214945, 3.0851259938214945, 3.0851259938214945, 3.0851259938214945, 3.0851259938214945, 3.0851259938214945, 3.0851259938214945, 3.0851259938214945, 0.5731896608299301, 0.5731897172634614, 0.6303555036062155, 0.6860634905676168, 0.6860634999485818, 0.6860640414466348, 0.6862112727227454, 0.6862115143393914, 0.6862120923345987, 0.6862126253751072, 0.6862127440505547, 0.6862128033736369, 0.6862131038751469, 0.6862131155477333, 0.6862136366282255, 0.6862136788052667, 0.6863669397631246, 0.6863668012072145, 0.6863669152448436, 0.6863671420362336, 0.6863671754908077, 0.6863672790633529, 0.6863673442649513, 0.6863672099142591, 0.6863677095060188, 0.6863674254410764, 0.6863674363549978, 0.6863676603998893, 0.6863678443685799, 0.6863679055854752, 0.6863679898453569, 0.6863685685446368, 0.6863683733373371, 0.686368407547888, 0.6863698709024105, 0.6863700860707572, 0.6863702629727783, 0.6863719751760988, 0.6863722959639489, 928.4180947850876, 1075.4501724891325, 506.3701187328345, 984.7743176410024, 623.6153990495351, 310.8155734132974, 439.7435258388752, 200.0799442441248, 323.62925786622947, 228.95968309849658, 370.9396074362374, 241.53054683329316, 387.21262984393803, 436.53039849559775, 75.51046109006155, 121.80913413889299, 326.78572423294213, 528.8631591755543, 208.84282686436978, 328.96613405104307, 154.75985143884924, 136.49205282171013, 87.45293660397115, 171.64754957376596, 164.65979654354214, 306.0015422055656, 84.98277256809858, 342.3360047501464, 424.9103160133816, 131.57346384241856], \"Category\": [\"Default\", \"Default\", \"Default\", \"Default\", \"Default\", \"Default\", \"Default\", \"Default\", \"Default\", \"Default\", \"Default\", \"Default\", \"Default\", \"Default\", \"Default\", \"Default\", \"Default\", \"Default\", \"Default\", \"Default\", \"Default\", \"Default\", \"Default\", \"Default\", \"Default\", \"Default\", \"Default\", \"Default\", \"Default\", \"Default\", \"Topic1\", \"Topic1\", \"Topic1\", \"Topic1\", \"Topic1\", \"Topic1\", \"Topic1\", \"Topic1\", \"Topic1\", \"Topic1\", \"Topic1\", \"Topic1\", \"Topic1\", \"Topic1\", \"Topic1\", \"Topic1\", \"Topic1\", \"Topic1\", \"Topic1\", \"Topic1\", \"Topic1\", \"Topic1\", \"Topic1\", \"Topic1\", \"Topic1\", \"Topic1\", \"Topic1\", \"Topic1\", \"Topic1\", \"Topic1\", \"Topic1\", \"Topic1\", \"Topic1\", \"Topic1\", \"Topic1\", \"Topic1\", \"Topic1\", \"Topic1\", \"Topic1\", \"Topic1\", \"Topic1\", \"Topic1\", \"Topic1\", \"Topic1\", \"Topic1\", \"Topic1\", \"Topic1\", \"Topic1\", \"Topic1\", \"Topic1\", \"Topic1\", \"Topic1\", \"Topic1\", \"Topic1\", \"Topic1\", \"Topic1\", \"Topic1\", \"Topic1\", \"Topic1\", \"Topic1\", \"Topic1\", \"Topic1\", \"Topic1\", \"Topic1\", \"Topic1\", \"Topic1\", \"Topic1\", \"Topic1\", \"Topic1\", \"Topic1\", \"Topic1\", \"Topic1\", \"Topic1\", \"Topic1\", \"Topic1\", \"Topic1\", \"Topic1\", \"Topic2\", \"Topic2\", \"Topic2\", \"Topic2\", \"Topic2\", \"Topic2\", \"Topic2\", \"Topic2\", \"Topic2\", \"Topic2\", \"Topic2\", \"Topic2\", \"Topic2\", \"Topic2\", \"Topic2\", \"Topic2\", \"Topic2\", \"Topic2\", \"Topic2\", \"Topic2\", \"Topic2\", \"Topic2\", \"Topic2\", \"Topic2\", \"Topic2\", \"Topic2\", \"Topic2\", \"Topic2\", \"Topic2\", \"Topic2\", \"Topic2\", \"Topic2\", \"Topic2\", \"Topic2\", \"Topic2\", \"Topic2\", \"Topic2\", \"Topic2\", \"Topic2\", \"Topic2\", \"Topic2\", \"Topic2\", \"Topic2\", \"Topic2\", \"Topic2\", \"Topic2\", \"Topic2\", \"Topic2\", \"Topic2\", \"Topic2\", \"Topic2\", \"Topic2\", \"Topic2\", \"Topic2\", \"Topic2\", \"Topic2\", \"Topic2\", \"Topic2\", \"Topic2\", \"Topic2\", \"Topic2\", \"Topic2\", \"Topic2\", \"Topic2\", \"Topic2\", \"Topic2\", \"Topic2\", \"Topic2\", \"Topic2\", \"Topic2\", \"Topic2\", \"Topic2\", \"Topic2\", \"Topic2\", \"Topic2\", \"Topic2\", \"Topic2\", \"Topic2\", \"Topic2\", \"Topic2\", \"Topic3\", \"Topic3\", \"Topic3\", \"Topic3\", \"Topic3\", \"Topic3\", \"Topic3\", \"Topic3\", \"Topic3\", \"Topic3\", \"Topic3\", \"Topic3\", \"Topic3\", \"Topic3\", \"Topic3\", \"Topic3\", \"Topic3\", \"Topic3\", \"Topic3\", \"Topic3\", \"Topic3\", \"Topic3\", \"Topic3\", \"Topic3\", \"Topic3\", \"Topic3\", \"Topic3\", \"Topic3\", \"Topic3\", \"Topic3\", \"Topic3\", \"Topic3\", \"Topic3\", \"Topic3\", \"Topic3\", \"Topic3\", \"Topic3\", \"Topic3\", \"Topic3\", \"Topic3\", \"Topic3\", \"Topic3\", \"Topic3\", \"Topic3\", \"Topic3\", \"Topic3\", \"Topic3\", \"Topic3\", \"Topic3\", \"Topic3\", \"Topic3\", \"Topic3\", \"Topic3\", \"Topic3\", \"Topic3\", \"Topic3\", \"Topic3\", \"Topic3\", \"Topic3\", \"Topic3\", \"Topic3\", \"Topic3\", \"Topic3\", \"Topic3\", \"Topic3\", \"Topic3\", \"Topic3\", \"Topic3\", \"Topic4\", \"Topic4\", \"Topic4\", \"Topic4\", \"Topic4\", \"Topic4\", \"Topic4\", \"Topic4\", \"Topic4\", \"Topic4\", \"Topic4\", \"Topic4\", \"Topic4\", \"Topic4\", \"Topic4\", \"Topic4\", \"Topic4\", \"Topic4\", \"Topic4\", \"Topic4\", \"Topic4\", \"Topic4\", \"Topic4\", \"Topic4\", \"Topic4\", \"Topic4\", \"Topic4\", \"Topic4\", \"Topic4\", \"Topic4\", \"Topic4\", \"Topic4\", \"Topic4\", \"Topic4\", \"Topic4\", \"Topic4\", \"Topic4\", \"Topic4\", \"Topic4\", \"Topic4\", \"Topic4\", \"Topic4\", \"Topic4\", \"Topic4\", \"Topic4\", \"Topic4\", \"Topic4\", \"Topic4\", \"Topic4\", \"Topic4\", \"Topic4\", \"Topic4\", \"Topic4\", \"Topic4\", \"Topic4\", \"Topic4\", \"Topic5\", \"Topic5\", \"Topic5\", \"Topic5\", \"Topic5\", \"Topic5\", \"Topic5\", \"Topic5\", \"Topic5\", \"Topic5\", \"Topic5\", \"Topic5\", \"Topic5\", \"Topic5\", \"Topic5\", \"Topic5\", \"Topic5\", \"Topic5\", \"Topic5\", \"Topic5\", \"Topic5\", \"Topic5\", \"Topic5\", \"Topic5\", \"Topic5\", \"Topic5\", \"Topic5\", \"Topic5\", \"Topic5\", \"Topic5\", \"Topic5\", \"Topic5\", \"Topic5\", \"Topic5\", \"Topic5\", \"Topic5\", \"Topic5\", \"Topic5\", \"Topic5\", \"Topic5\", \"Topic5\", \"Topic5\", \"Topic5\", \"Topic5\", \"Topic5\", \"Topic5\", \"Topic5\", \"Topic5\", \"Topic5\", \"Topic5\", \"Topic5\", \"Topic5\", \"Topic5\", \"Topic5\", \"Topic5\", \"Topic5\", \"Topic5\", \"Topic6\", \"Topic6\", \"Topic6\", \"Topic6\", \"Topic6\", \"Topic6\", \"Topic6\", \"Topic6\", \"Topic6\", \"Topic6\", \"Topic6\", \"Topic6\", \"Topic6\", \"Topic6\", \"Topic6\", \"Topic6\", \"Topic6\", \"Topic6\", \"Topic6\", \"Topic6\", \"Topic6\", \"Topic6\", \"Topic6\", \"Topic6\", \"Topic6\", \"Topic6\", \"Topic6\", \"Topic6\", \"Topic6\", \"Topic6\", \"Topic6\", \"Topic6\", \"Topic6\", \"Topic6\", \"Topic6\", \"Topic6\", \"Topic6\", \"Topic6\", \"Topic7\", \"Topic7\", \"Topic7\", \"Topic7\", \"Topic7\", \"Topic7\", \"Topic7\", \"Topic7\", \"Topic7\", \"Topic7\", \"Topic7\", \"Topic7\", \"Topic7\", \"Topic7\", \"Topic7\", \"Topic7\", \"Topic7\", \"Topic7\", \"Topic7\", \"Topic7\", \"Topic7\", \"Topic7\", \"Topic7\", \"Topic7\", \"Topic7\", \"Topic7\", \"Topic7\", \"Topic7\", \"Topic7\", \"Topic7\", \"Topic7\", \"Topic7\", \"Topic7\", \"Topic7\", \"Topic7\", \"Topic7\", \"Topic7\", \"Topic7\", \"Topic7\", \"Topic7\", \"Topic7\", \"Topic7\", \"Topic7\", \"Topic7\", \"Topic7\", \"Topic7\", \"Topic7\", \"Topic7\", \"Topic7\", \"Topic7\", \"Topic7\", \"Topic7\", \"Topic7\", \"Topic7\", \"Topic7\", \"Topic7\", \"Topic7\", \"Topic7\", \"Topic7\", \"Topic7\", \"Topic7\", \"Topic7\", \"Topic7\", \"Topic7\", \"Topic8\", \"Topic8\", \"Topic8\", \"Topic8\", \"Topic8\", \"Topic8\", \"Topic8\", \"Topic8\", \"Topic8\", \"Topic8\", \"Topic8\", \"Topic8\", \"Topic8\", \"Topic8\", \"Topic8\", \"Topic8\", \"Topic8\", \"Topic8\", \"Topic8\", \"Topic8\", \"Topic8\", \"Topic8\", \"Topic8\", \"Topic8\", \"Topic8\", \"Topic8\", \"Topic8\", \"Topic8\", \"Topic8\", \"Topic8\", \"Topic8\", \"Topic8\", \"Topic8\", \"Topic8\", \"Topic8\", \"Topic8\", \"Topic8\", \"Topic8\", \"Topic8\", \"Topic8\", \"Topic8\", \"Topic8\", \"Topic8\", \"Topic8\", \"Topic8\", \"Topic8\", \"Topic8\", \"Topic8\", \"Topic8\", \"Topic8\", \"Topic8\", \"Topic8\", \"Topic8\", \"Topic8\", \"Topic8\", \"Topic8\", \"Topic8\", \"Topic8\", \"Topic8\", \"Topic8\", \"Topic8\", \"Topic8\", \"Topic8\", \"Topic8\", \"Topic8\", \"Topic8\", \"Topic8\", \"Topic8\", \"Topic8\"], \"logprob\": [30.0, 29.0, 28.0, 27.0, 26.0, 25.0, 24.0, 23.0, 22.0, 21.0, 20.0, 19.0, 18.0, 17.0, 16.0, 15.0, 14.0, 13.0, 12.0, 11.0, 10.0, 9.0, 8.0, 7.0, 6.0, 5.0, 4.0, 3.0, 2.0, 1.0, -6.3958, -6.5512, -6.8851, -6.926, -6.949, -6.836, -7.0578, -7.1557, -6.9556, -7.1883, -7.1318, -7.3153, -7.2765, -7.2789, -6.9618, -7.2377, -7.3703, -7.3674, -7.3875, -7.3938, -7.4015, -7.4862, -7.4944, -7.3239, -7.4951, -7.5283, -6.8053, -7.5257, -7.519, -7.5729, -4.5082, -5.9327, -6.1928, -6.3821, -5.4876, -6.9199, -6.5208, -3.8422, -4.0614, -6.1469, -4.9201, -7.1205, -7.0587, -4.23, -4.0121, -6.3004, -4.3175, -4.8543, -4.1726, -4.5465, -5.4315, -4.9396, -6.3722, -4.7832, -5.6921, -3.948, -4.5331, -3.6227, -6.2996, -3.5233, -4.5589, -4.6264, -3.6107, -4.5374, -5.3383, -5.1979, -4.3839, -5.265, -5.4638, -5.2226, -5.0688, -4.9302, -4.9991, -5.0832, -4.8704, -5.0822, -5.24, -6.1556, -6.1717, -6.569, -6.5631, -6.6395, -6.7297, -6.8014, -6.8345, -6.8424, -6.8513, -6.8734, -6.3669, -6.9415, -6.953, -6.9958, -7.004, -7.0282, -6.7592, -6.5157, -7.001, -7.1039, -6.7886, -7.1099, -7.1821, -7.1137, -7.1972, -7.1988, -7.2072, -7.2193, -7.1851, -5.9141, -6.4006, -5.7547, -6.1291, -5.8919, -5.6954, -6.5068, -6.2384, -4.0876, -5.5005, -5.4262, -6.1088, -5.9136, -5.7201, -5.1801, -5.6207, -3.408, -3.579, -4.6777, -5.7206, -3.6627, -5.6548, -5.2715, -4.5346, -4.9089, -4.3437, -4.8852, -5.6873, -5.126, -5.3304, -4.9664, -4.8899, -4.9419, -5.5283, -5.1177, -5.5081, -5.0905, -5.3506, -4.7091, -5.1539, -5.0996, -5.4432, -5.0599, -5.4284, -5.3829, -5.2019, -5.2835, -5.2578, -5.3023, -5.3987, -5.2005, -5.8453, -5.9733, -6.1975, -6.2225, -6.2231, -6.3123, -6.3403, -6.3691, -6.3751, -6.487, -6.4871, -6.4874, -6.4879, -6.5715, -6.5726, -6.5722, -6.6057, -6.6058, -6.6172, -6.6766, -6.6994, -6.6995, -6.504, -6.702, -6.7154, -6.7578, -6.4257, -6.7762, -6.8202, -5.8535, -6.2204, -5.6545, -5.3105, -6.5097, -3.5781, -5.4243, -4.6942, -4.5091, -3.4151, -3.9643, -5.4897, -5.5414, -4.2377, -5.0406, -4.4029, -4.4356, -4.4654, -4.8625, -4.484, -3.9093, -4.5711, -5.425, -4.5237, -5.4789, -4.3075, -4.9221, -5.11, -5.1255, -5.0487, -5.2177, -5.1005, -5.2143, -5.3998, -5.21, -5.3568, -5.3678, -5.393, -5.2714, -5.2711, -5.5709, -5.5722, -5.6174, -5.6576, -5.7402, -5.7439, -5.7952, -5.882, -5.882, -5.8821, -5.8863, -5.9476, -5.9513, -5.9513, -5.9881, -6.116, -6.1164, -6.1204, -6.1204, -6.1204, -6.1204, -6.1207, -6.1207, -6.1207, -6.1207, -6.1525, -6.1525, -6.2394, -6.0478, -5.6727, -5.2491, -5.6136, -5.7458, -5.2831, -5.9487, -5.4868, -5.9661, -5.9738, -5.3855, -5.1841, -5.1431, -5.3314, -5.7575, -5.0425, -4.9049, -5.262, -5.2165, -5.3178, -5.6293, -5.6968, -5.788, -5.7361, -5.8484, -5.809, -5.1436, -5.3535, -5.4999, -5.5005, -5.7215, -5.8076, -5.8151, -5.8712, -5.8712, -5.8737, -5.8763, -5.8791, -5.8981, -6.0005, -6.0056, -6.0468, -6.0468, -6.0468, -6.0468, -6.0468, -6.0468, -6.0468, -6.0468, -6.0468, -6.0468, -5.8345, -6.0423, -6.1635, -6.1642, -6.2038, -5.1382, -5.1887, -5.0365, -5.1446, -5.4447, -5.8971, -5.1042, -5.8685, -4.8027, -5.7645, -5.222, -3.9079, -5.724, -5.9099, -5.6877, -5.1442, -5.6075, -5.1763, -5.4339, -4.8239, -5.4779, -5.5231, -5.4253, -5.7131, -5.7001, -5.5647, -5.8067, -5.7896, -5.7896, -5.7896, -5.7896, -6.1604, -6.1604, -6.1604, -6.1604, -6.1604, -6.1604, -6.1604, -6.1619, -6.7565, -6.7565, -6.7565, -6.7565, -6.7565, -6.7565, -6.7565, -6.7565, -6.7565, -6.7565, -6.7565, -6.7565, -6.7565, -6.7565, -6.7565, -6.7565, -6.7565, -6.7565, -6.1604, -5.9173, -6.1624, -6.2389, -6.0416, -6.2479, -6.3647, -6.7565, -5.0285, -6.6415, -6.6415, -6.0437, -8.3166, -8.3166, -8.3166, -8.3166, -8.3166, -8.3166, -8.3166, -8.3166, -8.3166, -8.3166, -8.3166, -8.3166, -8.3166, -8.3166, -8.3166, -8.3166, -8.3166, -8.3166, -8.3166, -8.3166, -8.3166, -8.3166, -8.3166, -8.3166, -8.3166, -8.3166, -8.3166, -8.3166, -8.3166, -8.3166, -8.3166, -8.3166, -8.3166, -8.3166, -8.3114, -8.3122, -8.3146, -8.3154, -8.3157, -8.3158, -8.3158, -8.316, -8.316, -8.316, -8.316, -8.316, -8.3161, -8.3161, -8.3161, -8.3162, -8.3162, -8.3162, -8.3162, -8.3162, -8.3162, -8.3162, -8.3162, -8.3162, -8.3162, -8.3162, -8.306, -8.306, -8.306, -8.306, -8.306, -8.306, -8.306, -8.306, -8.306, -8.306, -8.306, -8.306, -8.306, -8.306, -8.306, -8.306, -8.306, -8.306, -8.306, -8.306, -8.306, -8.306, -8.306, -8.306, -8.306, -8.306, -8.306, -8.306, -8.306, -8.306, -8.306, -8.306, -8.306, -8.306, -8.306, -8.306, -8.306, -8.306, -8.306, -8.3058, -8.3059, -8.3059, -8.3059, -8.3059, -8.3059, -8.3059, -8.3059, -8.3059, -8.3059, -8.3059, -8.3059, -8.3059, -8.3059, -8.3059, -8.3059, -8.3059, -8.3059, -8.3059, -8.3059, -8.3059, -8.3059, -8.3059, -8.306, -8.306, -8.306, -8.306, -8.306, -8.306, -8.306], \"loglift\": [30.0, 29.0, 28.0, 27.0, 26.0, 25.0, 24.0, 23.0, 22.0, 21.0, 20.0, 19.0, 18.0, 17.0, 16.0, 15.0, 14.0, 13.0, 12.0, 11.0, 10.0, 9.0, 8.0, 7.0, 6.0, 5.0, 4.0, 3.0, 2.0, 1.0, 0.5303, 0.5284, 0.5228, 0.5219, 0.5218, 0.5192, 0.5179, 0.5172, 0.5169, 0.5159, 0.5146, 0.513, 0.5125, 0.5125, 0.5123, 0.5123, 0.5114, 0.5105, 0.5104, 0.5104, 0.509, 0.5074, 0.507, 0.5063, 0.5063, 0.5062, 0.5058, 0.5056, 0.5052, 0.5045, 0.4974, 0.5027, 0.4991, 0.4964, 0.4739, 0.4988, 0.4898, 0.4339, 0.4336, 0.4799, 0.4342, 0.5018, 0.4987, 0.3579, 0.3075, 0.4517, 0.3133, 0.351, 0.2954, 0.3219, 0.3842, 0.3163, 0.4477, 0.2866, 0.3754, 0.1634, 0.2244, 0.0907, 0.4383, 0.0431, 0.192, 0.1968, 0.0437, 0.1737, 0.2923, 0.2643, 0.0767, 0.24, 0.2915, 0.2204, 0.1692, 0.1151, 0.0995, 0.1287, -0.1031, -0.0224, -0.0099, 1.2877, 1.2874, 1.2777, 1.2775, 1.2751, 1.271, 1.2699, 1.2682, 1.268, 1.2674, 1.267, 1.2645, 1.2633, 1.263, 1.2615, 1.2615, 1.2603, 1.2586, 1.2574, 1.2571, 1.2566, 1.2566, 1.256, 1.2526, 1.2519, 1.2516, 1.2515, 1.2512, 1.2505, 1.2498, 1.1995, 1.2069, 1.1608, 1.1693, 1.1347, 1.1141, 1.1716, 1.1232, 0.7201, 0.949, 0.928, 1.0724, 1.0076, 0.9285, 0.7604, 0.8751, 0.1584, 0.1344, 0.4357, 0.8361, -0.0083, 0.7877, 0.5874, 0.2327, 0.4141, 0.1169, 0.3842, 0.7811, 0.4154, 0.5321, 0.2817, 0.1699, 0.1566, 0.6503, 0.2442, 0.5964, 0.1396, 0.3939, -0.5977, 0.058, -0.0543, 0.4523, -0.3023, 0.4015, 0.2386, -0.614, -0.5725, -0.7898, -0.5514, -0.5755, 2.322, 2.3027, 2.2971, 2.2853, 2.2838, 2.2834, 2.2781, 2.2762, 2.2743, 2.273, 2.2658, 2.2658, 2.2657, 2.2657, 2.2589, 2.2586, 2.2567, 2.2562, 2.2562, 2.2545, 2.2497, 2.2479, 2.2478, 2.2472, 2.2464, 2.2462, 2.2421, 2.241, 2.2402, 2.2359, 2.1833, 2.162, 2.0748, 1.8872, 2.1499, 0.5332, 1.5232, 1.0826, 0.9339, 0.2393, 0.3553, 1.4553, 1.4926, 0.4733, 1.0584, 0.348, 0.3317, 0.3579, 0.7064, 0.3237, -0.3429, 0.0597, 1.1008, -0.0557, 1.094, -0.5942, 0.1378, 0.2519, 0.1304, -0.2911, -0.1724, -0.6398, -0.346, 0.4793, -0.9338, 0.0446, -0.1298, -0.1629, 3.561, 3.5608, 3.5321, 3.5318, 3.5268, 3.5221, 3.512, 3.5106, 3.5049, 3.4926, 3.4926, 3.4925, 3.491, 3.4828, 3.4817, 3.4817, 3.4678, 3.4554, 3.4552, 3.4546, 3.4546, 3.4546, 3.4546, 3.4545, 3.4545, 3.4545, 3.4545, 3.4487, 3.4486, 3.4305, 3.4168, 3.3456, 3.2108, 3.2859, 3.282, 2.8697, 3.2963, 2.7892, 3.2906, 3.2972, 2.5552, 2.2419, 1.5958, 1.5321, 2.6691, 0.1876, -0.4442, 0.7713, 0.4508, -0.0696, 1.2169, 0.3706, 1.7916, 0.3683, 2.3184, -0.0646, 3.701, 3.6809, 3.6644, 3.6642, 3.6359, 3.6227, 3.6208, 3.6128, 3.6128, 3.6117, 3.6109, 3.6103, 3.6081, 3.5903, 3.5884, 3.5819, 3.5819, 3.5819, 3.5819, 3.5819, 3.5819, 3.5819, 3.5819, 3.5819, 3.5819, 3.5775, 3.5745, 3.5585, 3.5571, 3.5496, 3.4909, 3.3875, 3.2428, 3.0231, 3.0935, 3.4444, 2.6923, 3.3907, 2.0807, 3.24, 2.5306, 0.4117, 3.0125, 3.3202, 2.6687, 0.7444, 2.2509, 0.6005, 1.5547, -1.2575, 1.0951, 1.0519, 0.0797, 2.404, 2.069, 0.175, 2.2097, 4.8252, 4.8252, 4.8251, 4.8251, 4.5967, 4.5967, 4.5967, 4.5967, 4.5967, 4.5967, 4.5967, 4.1797, 4.1668, 4.1668, 4.1668, 4.1668, 4.1668, 4.1668, 4.1668, 4.1668, 4.1668, 4.1667, 4.1667, 4.1667, 4.1667, 4.1667, 4.1667, 4.1667, 4.1667, 4.1667, 4.1638, 3.6473, 3.2182, 3.2647, 2.5913, 2.8545, 2.1734, 3.3704, 5.9799, 4.4619, 4.4619, 3.5731, 2.6071, 2.6071, 2.6071, 2.6068, 2.6068, 2.6068, 2.6068, 2.6068, 2.6068, 2.6068, 2.6068, 2.6068, 2.6068, 2.6066, 2.6066, 2.6066, 2.6066, 2.6066, 2.6066, 2.6066, 2.6066, 2.6066, 2.6066, 2.6066, 2.6066, 2.6066, 2.6066, 2.6066, 2.6066, 2.6066, 2.6066, 2.6066, 2.6066, 2.6066, 1.1339, 0.8858, 0.5327, 0.4826, 0.42, 0.5474, 0.4326, 0.929, 0.0267, 0.6728, 0.2171, 0.1713, 1.0585, 1.0585, 1.0585, -0.5317, -0.3327, 1.1041, 1.1041, 1.1041, 1.1041, 1.1041, 1.1041, 1.1041, 1.1041, 1.1041, 2.7974, 2.7974, 2.7024, 2.6177, 2.6177, 2.6177, 2.6175, 2.6175, 2.6175, 2.6175, 2.6175, 2.6175, 2.6175, 2.6175, 2.6175, 2.6175, 2.6172, 2.6172, 2.6172, 2.6172, 2.6172, 2.6172, 2.6172, 2.6172, 2.6172, 2.6172, 2.6172, 2.6172, 2.6172, 2.6172, 2.6172, 2.6172, 2.6172, 2.6172, 2.6172, 2.6172, 2.6172, 2.6172, 2.6172, -4.5924, -4.7395, -3.9863, -4.6514, -4.1946, -3.4983, -3.8452, -3.0578, -3.5387, -3.1926, -3.6751, -3.2461, -3.718, -3.8379, -2.0833, -2.5615, -3.5484, -4.0298, -3.1007, -3.555, -2.801, -2.6753, -2.2302, -2.9045, -2.863, -3.4827, -2.2015, -3.5949, -3.811, -2.6387]}, \"token.table\": {\"Topic\": [2, 4, 2, 2, 1, 5, 2, 3, 1, 2, 3, 4, 1, 2, 3, 5, 1, 1, 2, 3, 1, 2, 3, 4, 5, 2, 1, 1, 2, 3, 5, 1, 2, 1, 2, 1, 2, 3, 5, 1, 3, 2, 2, 1, 3, 5, 4, 3, 2, 1, 2, 3, 4, 5, 5, 2, 2, 3, 5, 1, 2, 1, 2, 3, 2, 5, 1, 2, 3, 3, 3, 2, 1, 5, 1, 2, 3, 5, 5, 1, 2, 3, 5, 1, 2, 3, 2, 2, 1, 5, 5, 2, 4, 1, 2, 2, 4, 4, 2, 3, 1, 2, 3, 4, 5, 3, 1, 2, 3, 1, 2, 2, 2, 2, 1, 4, 3, 1, 3, 4, 2, 1, 2, 3, 3, 3, 1, 4, 2, 2, 1, 5, 5, 2, 4, 1, 2, 1, 2, 1, 3, 5, 2, 2, 3, 1, 1, 2, 3, 4, 5, 4, 4, 1, 1, 2, 3, 4, 2, 1, 4, 2, 5, 2, 2, 4, 4, 1, 2, 1, 2, 3, 4, 1, 1, 3, 1, 2, 3, 4, 1, 2, 3, 1, 2, 3, 5, 1, 4, 1, 4, 1, 4, 4, 1, 2, 3, 2, 1, 2, 3, 1, 1, 2, 3, 1, 2, 3, 1, 2, 5, 1, 2, 3, 1, 2, 3, 1, 2, 3, 5, 1, 2, 3, 5, 2, 1, 2, 4, 5, 2, 1, 3, 4, 1, 2, 3, 4, 1, 2, 3, 1, 2, 3, 4, 5, 1, 1, 2, 3, 1, 2, 3, 1, 3, 2, 1, 2, 3, 4, 2, 4, 1, 4, 1, 4, 3, 1, 2, 4, 2, 5, 3, 4, 2, 2, 3, 5, 2, 1, 2, 5, 1, 2, 3, 1, 2, 3, 4, 1, 2, 1, 2, 3, 4, 1, 2, 3, 4, 2, 5, 1, 4, 1, 2, 3, 1, 2, 3, 4, 5, 2, 4, 1, 2, 3, 4, 5, 4, 1, 1, 3, 3, 4, 1, 1, 2, 1, 2, 4, 1, 2, 2, 3, 5, 1, 2, 3, 4, 3, 1, 2, 3, 4, 5, 3, 1, 2, 3, 1, 2, 3, 4, 1, 4, 2, 4, 1, 5, 1, 2, 3, 2, 4, 4, 1, 2, 3, 5, 4, 1, 2, 3, 4, 3, 5, 5, 1, 3, 1, 2, 3, 2, 1, 3, 1, 5, 1, 2, 3, 4, 5, 1, 4, 1, 2, 4, 2, 3, 1, 2, 3, 5, 3, 3, 4, 1, 2, 3, 1, 2, 5, 1, 1, 2, 3, 4, 1, 2, 5, 1, 2, 3, 1, 2, 3, 1, 5, 1, 3, 1, 2, 3, 5, 4, 5, 2, 1, 2, 4, 1, 1, 2, 5, 3, 1, 2, 3, 5, 1, 2, 3, 4, 1, 1, 1, 2, 3, 1, 2, 3, 5, 4, 5, 3, 1, 2, 3, 1, 1, 5, 2, 3, 5, 1, 2, 3, 5, 1, 2, 1, 1, 2, 3, 4, 5, 4, 3, 5, 4, 2, 4, 5, 3, 1, 2, 3, 1, 2, 4, 2, 1, 2, 3, 4, 1, 2, 3, 4, 1, 1, 2, 3, 4, 5, 1, 5, 4, 3, 1, 3, 1, 2, 3, 4, 1, 2, 3, 5, 1, 2, 5, 1, 5, 3, 2, 5, 3, 1, 5, 1, 4, 1, 2, 3, 4, 1, 2, 3, 4, 4, 2, 4, 3, 4, 5, 1, 2, 3, 3, 4, 1, 2, 3, 1, 4, 1, 2, 3, 1, 2, 4, 5, 1, 3, 5, 3, 1, 2, 3, 4, 5, 1, 2, 3, 4, 3, 1, 2, 4, 1, 2, 3, 4, 3, 1, 2, 3, 1, 2, 3, 4, 1, 2, 3, 1, 2, 3, 4, 5, 1, 2, 4, 1, 2, 3], \"Freq\": [0.2791780149193171, 0.8375340447579512, 0.95768913082251, 0.9252338796740153, 0.9514305861808172, 0.6909640671930838, 0.8992945414404707, 0.052899678908262984, 0.3519259871765842, 0.42733869871442365, 0.10055028205045263, 0.12568785256306578, 0.7366251578824059, 0.14215573222292044, 0.09692436287926393, 0.025846496767803716, 0.9705631109054474, 0.7952777058209104, 0.10244255193625287, 0.10244255193625287, 0.7899360274278816, 0.03357228116568497, 0.13626396473130958, 0.005924520205709112, 0.03357228116568497, 0.9621511909189954, 0.9309317275105686, 0.11186439050243821, 0.3355931715073146, 0.11186439050243821, 0.3355931715073146, 0.9568152960764542, 0.043135115806725396, 0.9536824031250202, 0.983074224106445, 0.6612276610134602, 0.14464355084669442, 0.19285806779559256, 0.7985697628866447, 0.16252189750415397, 0.8126094875207699, 0.91255852018934, 0.9363712257544895, 0.2683299391930389, 0.13416496959651944, 0.5366598783860778, 0.9289982730481569, 0.8088328388446709, 1.0018066210061538, 0.6877023428050785, 0.21768995024045648, 0.08410748077472183, 0.004947498869101284, 0.789043085425464, 0.7985697628866447, 0.9724076118797176, 0.31067324662522755, 0.10355774887507585, 0.6213464932504551, 1.0027614705064967, 0.9833468138088306, 0.7889958036796991, 0.1486513833019723, 0.05717360896229704, 0.9118120039802182, 0.7687830658980888, 0.3421491653669334, 0.5195598437053434, 0.13939410440875064, 0.9889438029425864, 0.923824176522072, 0.9724076118797176, 0.4277220907740155, 0.6415831361610232, 0.6365666538810901, 0.30912796897440414, 0.05277794592245925, 0.001077100937193046, 0.7985697628866447, 0.38342159834974615, 0.2556143988998308, 0.0639035997249577, 0.31951799862478847, 0.07989223133231844, 0.7456608257683055, 0.1597844626646369, 0.9724076118797176, 0.9724076118797176, 0.26799300140939275, 0.5359860028187855, 0.987743997801919, 0.19254549514010905, 0.7701819805604362, 0.9441819859755538, 0.025518432053393346, 0.9407150353755022, 0.6717851531605373, 0.9289525671760872, 0.11481206888302133, 0.8036844821811493, 0.6072457306080963, 0.26808172722497897, 0.12185533055680862, 0.001015461087973405, 0.00203092217594681, 0.9977932519237025, 0.1359440922138747, 0.6797204610693736, 0.16615389048362464, 0.6674201552452173, 0.26696806209808693, 0.9721548082471473, 0.9910889124752271, 0.9724076118797176, 0.2752314931498633, 0.8256944794495898, 0.8992337443365992, 0.5905072545448777, 0.07381340681810972, 0.3690670340905486, 0.8985671138290346, 0.932472932878493, 0.039679699271425235, 0.019839849635712618, 0.8003798463096826, 0.9099078349984671, 0.5161461217203213, 0.41291689737625703, 0.9192189701131968, 0.9702331745833769, 0.6727269097450025, 0.30578495897500113, 0.875907393590454, 0.9724076118797176, 0.7567958742549761, 0.39601475930845403, 0.5940221389626811, 0.9728967565318262, 0.9678027412889706, 0.7724054630390991, 0.11034363757701415, 0.11034363757701415, 0.9612960396367392, 0.9914711409000655, 0.8301169993349462, 0.9706625005455285, 0.04763099365940861, 0.8335423890396507, 0.04763099365940861, 0.023815496829704304, 0.04763099365940861, 0.7540477746618235, 0.7568837623255228, 0.9742103043478643, 0.3862093722996667, 0.31598948642700003, 0.2808795434906667, 0.02340662862422222, 0.9724076118797176, 0.42109316678826914, 0.42109316678826914, 0.7477894291098134, 0.20394257157540366, 0.9724076118797176, 0.4563063628794025, 0.4563063628794025, 0.7541918935659397, 0.47175223830838825, 0.23587611915419412, 0.4925738978785034, 0.40226868326744447, 0.08209564964641723, 0.024628694893925173, 0.7786051307597099, 0.9963391683911574, 0.8885108295719253, 0.7091467527775523, 0.15359399714536848, 0.13725421021501014, 0.00326795738607167, 0.8981529375963309, 0.06428884184900052, 0.03781696579352972, 0.6603581242876773, 0.2843878053501676, 0.05302145523477701, 0.9643691355516226, 0.7403073652143174, 0.27761526195536906, 0.986465299349795, 0.9849257053628888, 0.9560281948899878, 0.050317273415262515, 0.9449610003026594, 0.6276833303487471, 0.07173523775414253, 0.28694095101657013, 0.9406714345750083, 0.2959420203796148, 0.6288767933066814, 0.0739855050949037, 0.9894976098308432, 0.5542253980593843, 0.2818095244369751, 0.15029841303305339, 0.2990869304098636, 0.6978695042896819, 0.8515519328221312, 0.49742736079058836, 0.24871368039529418, 0.18653526029647063, 0.532012631838621, 0.34720824393678423, 0.12320292526789117, 0.7766019911683816, 0.13187580982104594, 0.08059077266841695, 0.773597786242, 0.18399082483593515, 0.0334528772428973, 0.004181609655362162, 0.9002987638580233, 0.08336099665352067, 0.016672199330704136, 0.7713188319123363, 0.9724076118797176, 0.44027428595393603, 0.1761097143815744, 0.0880548571907872, 0.2641645715723616, 0.9815362224049856, 0.17925823384231113, 0.7767856799833482, 0.05975274461410371, 0.8315844452950274, 0.14720594217955454, 0.018077922723804946, 0.005165120778229984, 0.6408480649630668, 0.25633922598522674, 0.09904015549429214, 0.6528533292898464, 0.25706099840787705, 0.0816066661612308, 0.00816066661612308, 0.00408033330806154, 0.9984774526667084, 0.896659802413461, 0.08237032305635468, 0.01882750241288107, 0.46947607900239313, 0.487886905629938, 0.036821653255089654, 0.35114704228976673, 0.6320646761215801, 0.9031830443070882, 0.8504855356670808, 0.1020582642800497, 0.011339807142227746, 0.03401942142668324, 0.9752603687969598, 0.9314872533827737, 0.9906401135303972, 0.6776258354327384, 0.9412478830975539, 0.9289525671760872, 0.9984388512243353, 0.20723635034188517, 0.7944060096438932, 0.7768091912068824, 0.9875707871895857, 1.003739389319303, 0.915456271365871, 0.7644304810836041, 0.9934073387085645, 0.7046136019971013, 0.35230680099855066, 0.7985697628866447, 0.9349369416333274, 0.11357976413220862, 0.8518482309915647, 0.9822883194454175, 0.14795505132233647, 0.8285482874050842, 0.9272796925490134, 0.5917966162378407, 0.3287758979099115, 0.0219183931939941, 0.05479598298498525, 0.3081764548655732, 0.6163529097311464, 0.5735857800159659, 0.044121983078151225, 0.13236594923445366, 0.2647318984689073, 0.5776240723663156, 0.3420142533747922, 0.03800158370831024, 0.03800158370831024, 0.9547546541876826, 0.6909634408060897, 0.9722154330099569, 0.7568837623255228, 0.5561802403971324, 0.4087589718581335, 0.0335048337588634, 0.6412294023264096, 0.3141593716095832, 0.030124871250234005, 0.004303553035747715, 0.00860710607149543, 0.33233801955072456, 0.33233801955072456, 0.7227022169223438, 0.012146255746594014, 0.2429251149318803, 0.012146255746594014, 0.006073127873297007, 0.8219557054451628, 0.7488925245444117, 0.9697962795325131, 0.9977569044001606, 0.2720104652487384, 0.8160313957462153, 0.9600631050087864, 0.16547576515482385, 0.8273788257741193, 0.9666979037247021, 0.032769420465244135, 0.8143882445504834, 0.0968409263198772, 0.9038486456521873, 0.9567758766914604, 0.2759267074879671, 0.5518534149759342, 0.5022718342535788, 0.41928779207255273, 0.06551371751133636, 0.013102743502267273, 0.897162279165867, 0.6071875914889014, 0.31707652174229006, 0.06787855157532896, 0.0018596863445295604, 0.0065089022058534615, 0.9979829922418081, 0.5278618924576669, 0.4093622839467621, 0.059249804255452405, 0.47675513406099707, 0.450268737724275, 0.03972959450508309, 0.02648639633672206, 0.8173258525788023, 0.16346517051576046, 0.21891562005484536, 0.6567468601645361, 0.9965942560984922, 0.9045539592243068, 0.4774211351611321, 0.42967902164501887, 0.09548422703222642, 0.21683487230303428, 0.6505046169091028, 0.6570578154414581, 0.3815893223311041, 0.2967916951464143, 0.27983216970947633, 0.042398813592344896, 0.9822469463150232, 0.705239767823646, 0.15503115585778424, 0.13679219634510373, 0.00303982658544675, 0.14693328937885353, 0.7346664468942675, 0.6947128843692061, 0.15149463242667677, 0.7574731621333839, 0.8283741538911105, 0.16280185683409107, 0.009576579813770063, 1.0024432924235847, 0.9412062030520458, 0.8985828321063126, 0.9760057139474821, 0.7985697628866447, 0.7801513177635769, 0.1493906778696211, 0.04979689262320704, 0.01659896420773568, 0.9131056160039801, 0.9628919701827119, 0.7567958742549761, 0.1323975219901615, 0.8738236451350659, 0.8998732767102274, 0.8925911003216124, 0.8079087114120753, 0.09399692875429334, 0.5451821867749014, 0.28199078626288004, 0.07519754300343467, 0.9989966669400212, 0.8705423564675968, 0.8238589142932228, 0.32794171773825387, 0.2385030674460028, 0.4173803680305049, 0.9527916373059231, 0.042346294991374364, 0.8765799843429192, 0.96631571848513, 0.5548045763074232, 0.19972964747067234, 0.11096091526148463, 0.13315309831378155, 0.9219846458397518, 0.08994972154534164, 0.8813882159289594, 0.7283059887596156, 0.19890709777048327, 0.07038251151878638, 0.40950488755612713, 0.5792995970306188, 0.009987924086734807, 0.46313487984390733, 0.46313487984390733, 0.9339613920774609, 0.8984797140646544, 0.9383274899228996, 0.06119527108192824, 0.311528159193004, 0.311528159193004, 0.9837769454532735, 0.7985697628866447, 0.884961333164957, 0.3479631256516215, 0.3479631256516215, 0.17398156282581076, 0.9138073039179884, 0.6552322312359806, 0.22790686303860197, 0.11395343151930099, 0.8079836370280243, 0.6543332537932692, 0.2939758096752369, 0.009483090634685061, 0.047415453173425305, 0.5397842367859983, 0.3598561578573322, 0.07497003288694422, 0.02499001096231474, 0.9914092307811178, 0.9688930051630412, 0.5252924322134949, 0.3398951031969673, 0.13286808579517811, 0.4828828399923326, 0.4024023666602772, 0.10730729777607392, 0.008942274814672826, 0.8320464190657613, 0.6931373856296309, 0.894300048803954, 0.3120821744379496, 0.5566001667810854, 0.13191102218511272, 0.9284592687168266, 0.9736453330770002, 0.7985697628866447, 0.8544010225594365, 0.11650923034901406, 0.9113186924648329, 0.7353810740718093, 0.1879307189294624, 0.049025404938120624, 0.024512702469060312, 0.9610564635313859, 0.029122923137314724, 0.9921036384883517, 0.6276385751751309, 0.3047230763531433, 0.05002916178932203, 0.015918369660238827, 1.0041943152871282, 0.9849276336863522, 0.2995793448666825, 0.599158689733365, 0.9440187277258648, 0.5999418938707854, 0.35996513632247124, 0.7985697628866447, 0.8195544323700754, 0.6923022898890645, 0.1518975488364192, 0.1548186555448119, 0.5682765028663606, 0.321199762489682, 0.09883069615067139, 0.9680427141889311, 0.7958175817665103, 0.09066276247972903, 0.11081004303077992, 0.7567958742549761, 0.8552234097828291, 0.08816736183328135, 0.05290041709996881, 0.7568837623255228, 0.9902024208037106, 0.6847168954628116, 0.1491303777003313, 0.16356234973584724, 0.0016035524483906593, 0.0016035524483906593, 0.989952095738068, 0.7985697628866447, 0.7568837623255228, 0.9096242209364194, 0.9145094659325561, 0.07219811573151759, 0.10288405028881803, 0.6687463268773172, 0.051442025144409015, 0.15432607543322704, 0.519482558756588, 0.027341187302978315, 0.43745899684765305, 0.6918579342937455, 0.16358467533174342, 0.32716935066348685, 0.49075402599523027, 0.990123364515521, 0.7064646143253376, 0.9364167115470335, 0.903512249448839, 0.7985697628866447, 0.8657852763333209, 0.7962462837142986, 0.23887388511428959, 0.9832775796369321, 0.039331103185477286, 0.5742991790261862, 0.3092380194756387, 0.08344517985850568, 0.02945123995006083, 0.5717721851708868, 0.3981984861011533, 0.02552554398084316, 0.0051051087961686325, 0.8622821902446008, 0.9405727492881157, 0.776798006884904, 0.2787154735183023, 0.13935773675915114, 0.6967886837957558, 0.567216038700723, 0.3188002553281436, 0.11178710251766073, 0.9008283644111192, 0.9003008684671966, 0.4804173169202233, 0.46193972780790704, 0.06467156189310698, 0.963604039635903, 0.043800183619813776, 0.19144460006480316, 0.6439500183997924, 0.15663649096211166, 0.30416582402491904, 0.6894425344564832, 0.6203555304244512, 0.2481422121697805, 0.7179952092735667, 0.07692805813645358, 0.1794988023183917, 0.9716881390594274, 0.7553175861752041, 0.20430721593263718, 0.0309556387776723, 0.00619112775553446, 0.00619112775553446, 0.7811598027884852, 0.12370272536826452, 0.09163164842093668, 0.004581582421046834, 0.9895017880120331, 0.6461958554646062, 0.34124949670602805, 0.007260627589489958, 0.24545087745559557, 0.3272678366074608, 0.409084795759326, 0.0272723197172884, 0.9273474886136344, 0.8034021081684763, 0.1264930978818452, 0.0683746475037001, 0.3386718478963603, 0.5926757338186305, 0.06773436957927206, 0.7567958742549761, 0.3157064207238064, 0.37884770486856767, 0.3157064207238064, 0.5274646541271265, 0.24489430370188017, 0.1507041868934647, 0.01883802336168309, 0.056514070085049266, 0.47068363141420355, 0.4942178129849137, 0.03530127235606526, 0.9090238422746313, 0.06651393967863156, 0.02217131322621052], \"Term\": [\"abandon\", \"abandon\", \"ability\", \"academia\", \"academy\", \"adorable\", \"age\", \"age\", \"almost\", \"almost\", \"almost\", \"almost\", \"also\", \"also\", \"also\", \"also\", \"amount\", \"animation\", \"animation\", \"animation\", \"anime\", \"anime\", \"anime\", \"anime\", \"anime\", \"annoy\", \"apart\", \"apparently\", \"apparently\", \"apparently\", \"apparently\", \"arc\", \"arc\", \"arch\", \"ark\", \"art\", \"art\", \"art\", \"ash\", \"aspect\", \"aspect\", \"attachment\", \"attention\", \"author\", \"author\", \"author\", \"await\", \"awkward\", \"background\", \"bad\", \"bad\", \"bad\", \"bad\", \"baruto\", \"bash\", \"basing\", \"battle\", \"battle\", \"battle\", \"be\", \"beat\", \"become\", \"become\", \"become\", \"beloved\", \"benefit\", \"big\", \"big\", \"big\", \"binge\", \"bland\", \"blend\", \"blood\", \"blood\", \"boruto\", \"boruto\", \"boruto\", \"boruto\", \"borutoxsarada\", \"break\", \"break\", \"break\", \"break\", \"bring\", \"bring\", \"bring\", \"bringing\", \"brisk\", \"bruh\", \"bruh\", \"buff\", \"buy\", \"buy\", \"canon\", \"canon\", \"carbon\", \"cave\", \"central\", \"certainly\", \"certainly\", \"character\", \"character\", \"character\", \"character\", \"character\", \"charcter\", \"child\", \"child\", \"child\", \"childhood\", \"childhood\", \"classic\", \"classmate\", \"college\", \"colorful\", \"colorful\", \"colour\", \"comedy\", \"comedy\", \"comedy\", \"complain\", \"completely\", \"completely\", \"completely\", \"condition\", \"consistent\", \"constant\", \"constant\", \"constantly\", \"convince\", \"creator\", \"creator\", \"crew\", \"cup\", \"cus\", \"dad\", \"dad\", \"damn\", \"danger\", \"deal\", \"deal\", \"deal\", \"decision\", \"defeat\", \"degree\", \"detail\", \"develop\", \"develop\", \"develop\", \"develop\", \"develop\", \"ding\", \"dinner\", \"disappointment\", \"do\", \"do\", \"do\", \"do\", \"doubtful\", \"drama\", \"drama\", \"dreadful\", \"dreadful\", \"eagerly\", \"eat\", \"eat\", \"edit\", \"element\", \"element\", \"end\", \"end\", \"end\", \"end\", \"endless\", \"enemy\", \"engage\", \"enjoyment\", \"enjoyment\", \"enjoyment\", \"enjoyment\", \"episode\", \"episode\", \"episode\", \"even\", \"even\", \"even\", \"evolve\", \"exact\", \"exact\", \"exam\", \"exceptional\", \"exist\", \"exist\", \"existent\", \"expect\", \"expect\", \"expect\", \"extremely\", \"fact\", \"fact\", \"fact\", \"fairly\", \"fan\", \"fan\", \"fan\", \"father\", \"father\", \"favor\", \"favorite\", \"favorite\", \"favorite\", \"feel\", \"feel\", \"feel\", \"fight\", \"fight\", \"fight\", \"filler\", \"filler\", \"filler\", \"filler\", \"first\", \"first\", \"first\", \"fluid\", \"fogy\", \"form\", \"form\", \"form\", \"form\", \"fully\", \"generic\", \"generic\", \"generic\", \"get\", \"get\", \"get\", \"get\", \"give\", \"give\", \"give\", \"go\", \"go\", \"go\", \"go\", \"go\", \"gon\", \"good\", \"good\", \"good\", \"great\", \"great\", \"great\", \"guess\", \"guess\", \"handle\", \"hate\", \"hate\", \"hate\", \"hate\", \"hero\", \"hilarious\", \"honest\", \"hook\", \"hopefully\", \"horse\", \"hot\", \"huge\", \"huge\", \"hunter\", \"idea\", \"ignore\", \"ikemoto\", \"image\", \"impact\", \"incredibly\", \"incredibly\", \"inexperienced\", \"intensity\", \"irritate\", \"irritate\", \"irritated\", \"issue\", \"issue\", \"karma\", \"kid\", \"kid\", \"kid\", \"kid\", \"kill\", \"kill\", \"kishimoto\", \"kishimoto\", \"kishimoto\", \"kishimoto\", \"know\", \"know\", \"know\", \"know\", \"lazy\", \"lighthearte\", \"line\", \"loneline\", \"look\", \"look\", \"look\", \"make\", \"make\", \"make\", \"make\", \"make\", \"mal\", \"mal\", \"manga\", \"manga\", \"manga\", \"manga\", \"manga\", \"manner\", \"measure\", \"member\", \"merit\", \"milking\", \"milking\", \"mist\", \"modern\", \"modern\", \"moment\", \"moment\", \"moon\", \"mostly\", \"mostly\", \"mother\", \"motive\", \"motive\", \"much\", \"much\", \"much\", \"much\", \"mundane\", \"naruto\", \"naruto\", \"naruto\", \"naruto\", \"naruto\", \"nd\", \"new\", \"new\", \"new\", \"ninja\", \"ninja\", \"ninja\", \"ninja\", \"non\", \"non\", \"normal\", \"normal\", \"notice\", \"occur\", \"old\", \"old\", \"old\", \"opposite\", \"opposite\", \"origin\", \"original\", \"original\", \"original\", \"original\", \"outcast\", \"overall\", \"overall\", \"overall\", \"overall\", \"pain\", \"pain\", \"passionate\", \"paste\", \"paste\", \"people\", \"people\", \"people\", \"period\", \"person\", \"personal\", \"pick\", \"pikachu\", \"plot\", \"plot\", \"plot\", \"plot\", \"pokemon\", \"portray\", \"pound\", \"power\", \"power\", \"ppl\", \"premise\", \"principal\", \"problem\", \"problem\", \"problem\", \"problem\", \"provide\", \"pure\", \"purely\", \"put\", \"put\", \"put\", \"quality\", \"quality\", \"question\", \"rate\", \"read\", \"read\", \"read\", \"read\", \"real\", \"real\", \"reality\", \"really\", \"really\", \"really\", \"reason\", \"reason\", \"reason\", \"release\", \"release\", \"repeat\", \"repetitive\", \"review\", \"review\", \"ride\", \"ride\", \"room\", \"roughness\", \"rule\", \"run\", \"run\", \"run\", \"sadly\", \"sakura\", \"sakura\", \"sakura\", \"saskue\", \"sasuke\", \"sasuke\", \"sasuke\", \"sasuke\", \"say\", \"say\", \"say\", \"say\", \"score\", \"second\", \"see\", \"see\", \"see\", \"seem\", \"seem\", \"seem\", \"seem\", \"seemingly\", \"seperate\", \"serie\", \"series\", \"series\", \"series\", \"serious\", \"set\", \"settled\", \"shadow\", \"shadow\", \"shallow\", \"shippuden\", \"shippuden\", \"shippuden\", \"shippuden\", \"shit\", \"shit\", \"shonen\", \"show\", \"show\", \"show\", \"show\", \"sick\", \"silver\", \"simplistic\", \"simplistic\", \"sleep\", \"smart\", \"smart\", \"snarky\", \"soul\", \"sound\", \"sound\", \"sound\", \"spoiler\", \"spoiler\", \"spoiler\", \"star\", \"start\", \"start\", \"start\", \"stat\", \"still\", \"still\", \"still\", \"stitch\", \"stop\", \"story\", \"story\", \"story\", \"story\", \"story\", \"straight\", \"straying\", \"strugle\", \"studio_pierrot\", \"stuff\", \"stuff\", \"stupid\", \"stupid\", \"stupid\", \"stupid\", \"style\", \"style\", \"style\", \"successful\", \"suffer\", \"suffer\", \"suffer\", \"support\", \"surpass\", \"surprised\", \"surprisingly\", \"talkative\", \"teammate\", \"technology\", \"technology\", \"thank\", \"thank\", \"thing\", \"thing\", \"thing\", \"thing\", \"think\", \"think\", \"think\", \"think\", \"thread\", \"threat\", \"thrill\", \"thus\", \"thus\", \"thus\", \"time\", \"time\", \"time\", \"tone\", \"topic\", \"try\", \"try\", \"try\", \"uchiha\", \"uchiha\", \"use\", \"use\", \"use\", \"village\", \"village\", \"volume\", \"volume\", \"wait\", \"wait\", \"wait\", \"wanna\", \"want\", \"want\", \"want\", \"want\", \"want\", \"watch\", \"watch\", \"watch\", \"watch\", \"watching\", \"way\", \"way\", \"way\", \"weak\", \"weak\", \"weak\", \"weak\", \"weather\", \"well\", \"well\", \"well\", \"whole\", \"whole\", \"whole\", \"whoop\", \"wish\", \"wish\", \"wish\", \"work\", \"work\", \"work\", \"work\", \"work\", \"world\", \"world\", \"world\", \"worth\", \"worth\", \"worth\"]}, \"R\": 30, \"lambda.step\": 0.01, \"plot.opts\": {\"xlab\": \"PC1\", \"ylab\": \"PC2\"}, \"topic.order\": [3, 2, 1, 7, 4, 5, 6, 8]};\n",
       "\n",
       "function LDAvis_load_lib(url, callback){\n",
       "  var s = document.createElement('script');\n",
       "  s.src = url;\n",
       "  s.async = true;\n",
       "  s.onreadystatechange = s.onload = callback;\n",
       "  s.onerror = function(){console.warn(\"failed to load library \" + url);};\n",
       "  document.getElementsByTagName(\"head\")[0].appendChild(s);\n",
       "}\n",
       "\n",
       "if(typeof(LDAvis) !== \"undefined\"){\n",
       "   // already loaded: just create the visualization\n",
       "   !function(LDAvis){\n",
       "       new LDAvis(\"#\" + \"ldavis_el2744026558890247203386896218\", ldavis_el2744026558890247203386896218_data);\n",
       "   }(LDAvis);\n",
       "}else if(typeof define === \"function\" && define.amd){\n",
       "   // require.js is available: use it to load d3/LDAvis\n",
       "   require.config({paths: {d3: \"https://d3js.org/d3.v5\"}});\n",
       "   require([\"d3\"], function(d3){\n",
       "      window.d3 = d3;\n",
       "      LDAvis_load_lib(\"https://cdn.jsdelivr.net/gh/bmabey/pyLDAvis@3.3.1/pyLDAvis/js/ldavis.v3.0.0.js\", function(){\n",
       "        new LDAvis(\"#\" + \"ldavis_el2744026558890247203386896218\", ldavis_el2744026558890247203386896218_data);\n",
       "      });\n",
       "    });\n",
       "}else{\n",
       "    // require.js not available: dynamically load d3 & LDAvis\n",
       "    LDAvis_load_lib(\"https://d3js.org/d3.v5.js\", function(){\n",
       "         LDAvis_load_lib(\"https://cdn.jsdelivr.net/gh/bmabey/pyLDAvis@3.3.1/pyLDAvis/js/ldavis.v3.0.0.js\", function(){\n",
       "                 new LDAvis(\"#\" + \"ldavis_el2744026558890247203386896218\", ldavis_el2744026558890247203386896218_data);\n",
       "            })\n",
       "         });\n",
       "}\n",
       "</script>"
      ],
      "text/plain": [
       "PreparedData(topic_coordinates=              x         y  topics  cluster       Freq\n",
       "topic                                                \n",
       "2      0.249506  0.004244       1        1  58.152795\n",
       "1      0.199994  0.037888       2        1  27.032205\n",
       "0      0.173194 -0.050416       3        1   9.577925\n",
       "6     -0.116322  0.131561       4        1   2.601835\n",
       "3     -0.124944 -0.131932       5        1   2.256486\n",
       "4     -0.137607  0.001942       6        1   0.343721\n",
       "5     -0.122646  0.003071       7        1   0.025736\n",
       "7     -0.121175  0.003643       8        1   0.009297, topic_info=          Term         Freq        Total Category  logprob  loglift\n",
       "5        anime   506.000000   506.000000  Default   30.000  30.0000\n",
       "20   character   984.000000   984.000000  Default   29.000  29.0000\n",
       "168      story   623.000000   623.000000  Default   28.000  28.0000\n",
       "121     naruto  1075.000000  1075.000000  Default   27.000  27.0000\n",
       "353     series   310.000000   310.000000  Default   26.000  26.0000\n",
       "..         ...          ...          ...      ...      ...      ...\n",
       "47   enjoyment     0.000874   306.001542   Topic8   -8.306  -3.4827\n",
       "194      world     0.000874    84.982773   Topic8   -8.306  -2.2015\n",
       "162      sound     0.000874   342.336005   Topic8   -8.306  -3.5949\n",
       "221       good     0.000874   424.910316   Topic8   -8.306  -3.8110\n",
       "100       know     0.000874   131.573464   Topic8   -8.306  -2.6387\n",
       "\n",
       "[539 rows x 6 columns], token_table=      Topic      Freq      Term\n",
       "term                           \n",
       "606       2  0.279178   abandon\n",
       "606       4  0.837534   abandon\n",
       "607       2  0.957689   ability\n",
       "2038      2  0.925234  academia\n",
       "1102      1  0.951431   academy\n",
       "...     ...       ...       ...\n",
       "194       2  0.494218     world\n",
       "194       4  0.035301     world\n",
       "390       1  0.909024     worth\n",
       "390       2  0.066514     worth\n",
       "390       3  0.022171     worth\n",
       "\n",
       "[616 rows x 3 columns], R=30, lambda_step=0.01, plot_opts={'xlab': 'PC1', 'ylab': 'PC2'}, topic_order=[3, 2, 1, 7, 4, 5, 6, 8])"
      ]
     },
     "execution_count": 22,
     "metadata": {},
     "output_type": "execute_result"
    }
   ],
   "source": [
    "# Generate a visualization of the topic models\n",
    "\n",
    "import pyLDAvis.gensim_models\n",
    "pyLDAvis.enable_notebook()\n",
    "vis = pyLDAvis.gensim_models.prepare(lda_model, corpus, id2word)\n",
    "vis"
   ]
  },
  {
   "cell_type": "code",
   "execution_count": 23,
   "metadata": {},
   "outputs": [],
   "source": [
    "# Save the data frame as a CSV file\n",
    "# job_datas.to_csv(r'D:\\UMD Senior College Work\\Spring 2021\\INST447-0101\\Programming Assignment 2\\Chan_Matthew_INST447_PA2.csv')"
   ]
  },
  {
   "cell_type": "code",
   "execution_count": 24,
   "metadata": {},
   "outputs": [],
   "source": [
    "# Week 9 Topic Modelling\n",
    "# ner_corpus = ' '.join(ner_df['Name'])\n",
    "# corp = open(r'D:\\UMD Senior College Work\\Spring 2021\\INST447-0101\\Week 9\\corpus.txt',\"w\")\n",
    "# corp.writelines(ner_corpus)\n",
    "# corp.close()"
   ]
  },
  {
   "cell_type": "code",
   "execution_count": null,
   "metadata": {},
   "outputs": [],
   "source": []
  },
  {
   "cell_type": "code",
   "execution_count": null,
   "metadata": {},
   "outputs": [],
   "source": []
  },
  {
   "cell_type": "code",
   "execution_count": null,
   "metadata": {},
   "outputs": [],
   "source": []
  },
  {
   "cell_type": "code",
   "execution_count": null,
   "metadata": {},
   "outputs": [],
   "source": []
  },
  {
   "cell_type": "code",
   "execution_count": null,
   "metadata": {},
   "outputs": [],
   "source": []
  },
  {
   "cell_type": "code",
   "execution_count": null,
   "metadata": {},
   "outputs": [],
   "source": []
  },
  {
   "cell_type": "code",
   "execution_count": null,
   "metadata": {},
   "outputs": [],
   "source": []
  },
  {
   "cell_type": "code",
   "execution_count": null,
   "metadata": {},
   "outputs": [],
   "source": []
  }
 ],
 "metadata": {
  "kernelspec": {
   "display_name": "Python 3",
   "language": "python",
   "name": "python3"
  },
  "language_info": {
   "codemirror_mode": {
    "name": "ipython",
    "version": 3
   },
   "file_extension": ".py",
   "mimetype": "text/x-python",
   "name": "python",
   "nbconvert_exporter": "python",
   "pygments_lexer": "ipython3",
   "version": "3.8.5"
  }
 },
 "nbformat": 4,
 "nbformat_minor": 4
}
